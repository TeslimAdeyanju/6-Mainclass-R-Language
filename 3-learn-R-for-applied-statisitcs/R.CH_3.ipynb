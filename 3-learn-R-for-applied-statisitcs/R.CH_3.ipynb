{
 "cells": [
  {
   "cell_type": "markdown",
   "metadata": {},
   "source": []
  },
  {
   "cell_type": "markdown",
   "metadata": {},
   "source": []
  },
  {
   "cell_type": "markdown",
   "metadata": {},
   "source": []
  },
  {
   "cell_type": "code",
   "execution_count": 1,
   "metadata": {
    "vscode": {
     "languageId": "r"
    }
   },
   "outputs": [
    {
     "name": "stdout",
     "output_type": "stream",
     "text": [
      "     [,1] [,2] [,3]\n",
      "[1,]    1    2    3\n",
      "[2,]    4    5    6\n"
     ]
    }
   ],
   "source": [
    "n <- rbind(c(1, 2, 3), c(4, 5, 6))\n",
    "print(n)"
   ]
  },
  {
   "cell_type": "code",
   "execution_count": 2,
   "metadata": {
    "vscode": {
     "languageId": "r"
    }
   },
   "outputs": [
    {
     "name": "stdout",
     "output_type": "stream",
     "text": [
      "  A B C\n",
      "x 1 4 7\n",
      "y 2 5 8\n",
      "z 3 6 9\n",
      "$dim\n",
      "[1] 3 3\n",
      "\n",
      "$dimnames\n",
      "$dimnames[[1]]\n",
      "[1] \"x\" \"y\" \"z\"\n",
      "\n",
      "$dimnames[[2]]\n",
      "[1] \"A\" \"B\" \"C\"\n",
      "\n",
      "\n",
      "[1] \"A\" \"B\" \"C\"\n"
     ]
    }
   ],
   "source": [
    "# We can add name to the rows and columns of the matrix\n",
    "A<-matrix(c(1,2,3,4,5,6,7,8,9), nrow = 3, ncol = 3,  dimnames = list(c(\"x\", \"y\", \"z\"),  c(\"A\", \"B\", \"C\"))) # nolint\n",
    "print(A)\n",
    "print(attributes(A))\n",
    "\n",
    "print(colnames(A))"
   ]
  },
  {
   "cell_type": "code",
   "execution_count": 9,
   "metadata": {
    "vscode": {
     "languageId": "r"
    }
   },
   "outputs": [
    {
     "name": "stdout",
     "output_type": "stream",
     "text": [
      "[1]  1  2  3  4  5 56\n",
      "[1] \"double\"\n"
     ]
    }
   ],
   "source": [
    "\n",
    "variable <- c(1, 2, 3, 4, 5, 56)\n",
    "print(variable)\n",
    "print(typeof(variable))\n"
   ]
  },
  {
   "cell_type": "code",
   "execution_count": 4,
   "metadata": {
    "vscode": {
     "languageId": "r"
    }
   },
   "outputs": [
    {
     "ename": "ERROR",
     "evalue": "Error in parse(text = x, srcfile = src): <text>:5:17: unexpected symbol\n4: colnames(detail)\n5: rownames(detail)B\n                   ^\n",
     "output_type": "error",
     "traceback": [
      "Error in parse(text = x, srcfile = src): <text>:5:17: unexpected symbol\n4: colnames(detail)\n5: rownames(detail)B\n                   ^\nTraceback:\n"
     ]
    }
   ],
   "source": [
    "detail <-matrix (c (1, 2, 3, 4, 6, 7, 7, 7, 7, 7), nrow = 5, ncol = 2, dimnames = list(c(\"x\", \"y\", \"z\", \"a\", \"b\"),  c(\"A\", \"B\"))) # nolint\n",
    "print(detail)\n",
    "attributes(detail)\n",
    "colnames(detail)\n",
    "rownames(detail)B"
   ]
  },
  {
   "cell_type": "code",
   "execution_count": 5,
   "metadata": {
    "vscode": {
     "languageId": "r"
    }
   },
   "outputs": [
    {
     "name": "stdout",
     "output_type": "stream",
     "text": [
      "     [,1] [,2] [,3]\n",
      "[1,]    1    2    3\n",
      "[2,]    4    5    6\n"
     ]
    }
   ],
   "source": [
    "n <- rbind(c(1, 2, 3), c(4, 5, 6))\n",
    "print(n)"
   ]
  },
  {
   "cell_type": "code",
   "execution_count": 8,
   "metadata": {
    "vscode": {
     "languageId": "r"
    }
   },
   "outputs": [
    {
     "name": "stdout",
     "output_type": "stream",
     "text": [
      "       A B C\n",
      "xLagos 1 4 8\n",
      "yAbuja 2 6 9\n",
      "zEnugu 3 7 0\n"
     ]
    },
    {
     "data": {
      "text/html": [
       "<dl>\n",
       "\t<dt>$dim</dt>\n",
       "\t\t<dd><style>\n",
       ".list-inline {list-style: none; margin:0; padding: 0}\n",
       ".list-inline>li {display: inline-block}\n",
       ".list-inline>li:not(:last-child)::after {content: \"\\00b7\"; padding: 0 .5ex}\n",
       "</style>\n",
       "<ol class=list-inline><li>3</li><li>3</li></ol>\n",
       "</dd>\n",
       "\t<dt>$dimnames</dt>\n",
       "\t\t<dd><ol>\n",
       "\t<li><style>\n",
       ".list-inline {list-style: none; margin:0; padding: 0}\n",
       ".list-inline>li {display: inline-block}\n",
       ".list-inline>li:not(:last-child)::after {content: \"\\00b7\"; padding: 0 .5ex}\n",
       "</style>\n",
       "<ol class=list-inline><li>'xLagos'</li><li>'yAbuja'</li><li>'zEnugu'</li></ol>\n",
       "</li>\n",
       "\t<li><style>\n",
       ".list-inline {list-style: none; margin:0; padding: 0}\n",
       ".list-inline>li {display: inline-block}\n",
       ".list-inline>li:not(:last-child)::after {content: \"\\00b7\"; padding: 0 .5ex}\n",
       "</style>\n",
       "<ol class=list-inline><li>'A'</li><li>'B'</li><li>'C'</li></ol>\n",
       "</li>\n",
       "</ol>\n",
       "</dd>\n",
       "</dl>\n"
      ],
      "text/latex": [
       "\\begin{description}\n",
       "\\item[\\$dim] \\begin{enumerate*}\n",
       "\\item 3\n",
       "\\item 3\n",
       "\\end{enumerate*}\n",
       "\n",
       "\\item[\\$dimnames] \\begin{enumerate}\n",
       "\\item \\begin{enumerate*}\n",
       "\\item 'xLagos'\n",
       "\\item 'yAbuja'\n",
       "\\item 'zEnugu'\n",
       "\\end{enumerate*}\n",
       "\n",
       "\\item \\begin{enumerate*}\n",
       "\\item 'A'\n",
       "\\item 'B'\n",
       "\\item 'C'\n",
       "\\end{enumerate*}\n",
       "\n",
       "\\end{enumerate}\n",
       "\n",
       "\\end{description}\n"
      ],
      "text/markdown": [
       "$dim\n",
       ":   1. 3\n",
       "2. 3\n",
       "\n",
       "\n",
       "\n",
       "$dimnames\n",
       ":   1. 1. 'xLagos'\n",
       "2. 'yAbuja'\n",
       "3. 'zEnugu'\n",
       "\n",
       "\n",
       "\n",
       "2. 1. 'A'\n",
       "2. 'B'\n",
       "3. 'C'\n",
       "\n",
       "\n",
       "\n",
       "\n",
       "\n",
       "\n",
       "\n",
       "\n"
      ],
      "text/plain": [
       "$dim\n",
       "[1] 3 3\n",
       "\n",
       "$dimnames\n",
       "$dimnames[[1]]\n",
       "[1] \"xLagos\" \"yAbuja\" \"zEnugu\"\n",
       "\n",
       "$dimnames[[2]]\n",
       "[1] \"A\" \"B\" \"C\"\n",
       "\n"
      ]
     },
     "metadata": {},
     "output_type": "display_data"
    }
   ],
   "source": [
    "m <- matrix(c(1, 2, 3, 4, 6, 7, 8, 9, 0),\n",
    "nrow = 3,ncol = 3,\n",
    "dimnames = list(c(\"xLagos\", \"yAbuja\", \"zEnugu\"),  c(\"A\", \"B\", \"C\"))) # nolint\n",
    "print(m)\n",
    "attributes(m)"
   ]
  },
  {
   "cell_type": "code",
   "execution_count": 9,
   "metadata": {
    "vscode": {
     "languageId": "r"
    }
   },
   "outputs": [
    {
     "name": "stdout",
     "output_type": "stream",
     "text": [
      "     [,1] [,2]\n",
      "[1,]    1    4\n",
      "[2,]    2    5\n",
      "[3,]    3    6\n"
     ]
    }
   ],
   "source": [
    "B <- cbind(c(1, 2, 3), c(4, 5, 6))\n",
    "print(B)"
   ]
  },
  {
   "cell_type": "code",
   "execution_count": 17,
   "metadata": {
    "vscode": {
     "languageId": "r"
    }
   },
   "outputs": [
    {
     "name": "stdout",
     "output_type": "stream",
     "text": [
      "[1] 1 2 3\n"
     ]
    }
   ],
   "source": [
    "B <- rbind(c(1, 2, 3), c(4, 5, 6))\n",
    "\n",
    "print(B[1,])\n"
   ]
  },
  {
   "cell_type": "code",
   "execution_count": 11,
   "metadata": {
    "vscode": {
     "languageId": "r"
    }
   },
   "outputs": [
    {
     "name": "stdout",
     "output_type": "stream",
     "text": [
      "     [,1] [,2] [,3]\n",
      "[1,]    1    2    3\n",
      "[2,]    4    5    6\n"
     ]
    }
   ],
   "source": [
    "print(B)"
   ]
  },
  {
   "cell_type": "code",
   "execution_count": 30,
   "metadata": {
    "vscode": {
     "languageId": "r"
    }
   },
   "outputs": [
    {
     "name": "stdout",
     "output_type": "stream",
     "text": [
      "  emp_id emp_name salary\n",
      "1      1     Rick 623.30\n",
      "2      2      Dan 515.20\n",
      "3      3 Michelle 611.00\n",
      "4      4     Ryan 729.00\n",
      "5      5     Gary 843.25\n"
     ]
    }
   ],
   "source": [
    "employee_data <- data.frame(\n",
    "  emp_id = c(1, 2, 3, 4, 5),\n",
    "  emp_name = c(\"Rick\", \"Dan\", \"Michelle\", \"Ryan\", \"Gary\"),\n",
    "  salary = c(623.3, 515.2, 611.0, 729.0, 843.25))\n",
    "\n",
    "print(employee_data)\n"
   ]
  },
  {
   "cell_type": "code",
   "execution_count": 34,
   "metadata": {
    "vscode": {
     "languageId": "r"
    }
   },
   "outputs": [
    {
     "name": "stdout",
     "output_type": "stream",
     "text": [
      "  emp_id emp_name salary\n",
      "1      1     Rick 623.30\n",
      "2      2      Dan 515.20\n",
      "3      3 Michelle 611.00\n",
      "4      4     Ryan 729.00\n",
      "5      5     Gary 843.25\n"
     ]
    }
   ],
   "source": [
    "employee_data <- data.frame(\n",
    "  emp_id = c(1, 2, 3, 4, 5),\n",
    "  emp_name = c(\"Rick\", \"Dan\", \"Michelle\", \"Ryan\", \"Gary\"),\n",
    "  salary = c(623.3, 515.2, 611.0, 729.0, 843.25)\n",
    ")\n",
    "\n",
    "print(employee_data)"
   ]
  },
  {
   "cell_type": "code",
   "execution_count": 35,
   "metadata": {
    "vscode": {
     "languageId": "r"
    }
   },
   "outputs": [
    {
     "data": {
      "text/html": [
       "'list'"
      ],
      "text/latex": [
       "'list'"
      ],
      "text/markdown": [
       "'list'"
      ],
      "text/plain": [
       "[1] \"list\""
      ]
     },
     "metadata": {},
     "output_type": "display_data"
    },
    {
     "data": {
      "text/html": [
       "'data.frame'"
      ],
      "text/latex": [
       "'data.frame'"
      ],
      "text/markdown": [
       "'data.frame'"
      ],
      "text/plain": [
       "[1] \"data.frame\""
      ]
     },
     "metadata": {},
     "output_type": "display_data"
    }
   ],
   "source": [
    "typeof(employee_data)\n",
    "class(employee_data)"
   ]
  },
  {
   "cell_type": "code",
   "execution_count": 37,
   "metadata": {
    "vscode": {
     "languageId": "r"
    }
   },
   "outputs": [
    {
     "data": {
      "text/html": [
       "3"
      ],
      "text/latex": [
       "3"
      ],
      "text/markdown": [
       "3"
      ],
      "text/plain": [
       "[1] 3"
      ]
     },
     "metadata": {},
     "output_type": "display_data"
    },
    {
     "data": {
      "text/html": [
       "<style>\n",
       ".list-inline {list-style: none; margin:0; padding: 0}\n",
       ".list-inline>li {display: inline-block}\n",
       ".list-inline>li:not(:last-child)::after {content: \"\\00b7\"; padding: 0 .5ex}\n",
       "</style>\n",
       "<ol class=list-inline><li>'1'</li><li>'2'</li><li>'3'</li><li>'4'</li><li>'5'</li></ol>\n"
      ],
      "text/latex": [
       "\\begin{enumerate*}\n",
       "\\item '1'\n",
       "\\item '2'\n",
       "\\item '3'\n",
       "\\item '4'\n",
       "\\item '5'\n",
       "\\end{enumerate*}\n"
      ],
      "text/markdown": [
       "1. '1'\n",
       "2. '2'\n",
       "3. '3'\n",
       "4. '4'\n",
       "5. '5'\n",
       "\n",
       "\n"
      ],
      "text/plain": [
       "[1] \"1\" \"2\" \"3\" \"4\" \"5\""
      ]
     },
     "metadata": {},
     "output_type": "display_data"
    }
   ],
   "source": [
    "ncol(employee_data)\n",
    "rownames(employee_data)"
   ]
  },
  {
   "cell_type": "code",
   "execution_count": 38,
   "metadata": {
    "vscode": {
     "languageId": "r"
    }
   },
   "outputs": [
    {
     "name": "stdout",
     "output_type": "stream",
     "text": [
      "'data.frame':\t5 obs. of  3 variables:\n",
      " $ emp_id  : num  1 2 3 4 5\n",
      " $ emp_name: chr  \"Rick\" \"Dan\" \"Michelle\" \"Ryan\" ...\n",
      " $ salary  : num  623 515 611 729 843\n"
     ]
    }
   ],
   "source": [
    "str(employee_data)"
   ]
  },
  {
   "cell_type": "code",
   "execution_count": 39,
   "metadata": {
    "vscode": {
     "languageId": "r"
    }
   },
   "outputs": [
    {
     "data": {
      "text/html": [
       "<table class=\"dataframe\">\n",
       "<caption>A data.frame: 5 x 1</caption>\n",
       "<thead>\n",
       "\t<tr><th scope=col>emp_name</th></tr>\n",
       "\t<tr><th scope=col>&lt;chr&gt;</th></tr>\n",
       "</thead>\n",
       "<tbody>\n",
       "\t<tr><td>Rick    </td></tr>\n",
       "\t<tr><td>Dan     </td></tr>\n",
       "\t<tr><td>Michelle</td></tr>\n",
       "\t<tr><td>Ryan    </td></tr>\n",
       "\t<tr><td>Gary    </td></tr>\n",
       "</tbody>\n",
       "</table>\n"
      ],
      "text/latex": [
       "A data.frame: 5 x 1\n",
       "\\begin{tabular}{l}\n",
       " emp\\_name\\\\\n",
       " <chr>\\\\\n",
       "\\hline\n",
       "\t Rick    \\\\\n",
       "\t Dan     \\\\\n",
       "\t Michelle\\\\\n",
       "\t Ryan    \\\\\n",
       "\t Gary    \\\\\n",
       "\\end{tabular}\n"
      ],
      "text/markdown": [
       "\n",
       "A data.frame: 5 x 1\n",
       "\n",
       "| emp_name &lt;chr&gt; |\n",
       "|---|\n",
       "| Rick     |\n",
       "| Dan      |\n",
       "| Michelle |\n",
       "| Ryan     |\n",
       "| Gary     |\n",
       "\n"
      ],
      "text/plain": [
       "  emp_name\n",
       "1 Rick    \n",
       "2 Dan     \n",
       "3 Michelle\n",
       "4 Ryan    \n",
       "5 Gary    "
      ]
     },
     "metadata": {},
     "output_type": "display_data"
    }
   ],
   "source": [
    "employee_data[\"emp_name\"]"
   ]
  },
  {
   "cell_type": "code",
   "execution_count": 57,
   "metadata": {
    "vscode": {
     "languageId": "r"
    }
   },
   "outputs": [
    {
     "data": {
      "text/html": [
       "<style>\n",
       ".list-inline {list-style: none; margin:0; padding: 0}\n",
       ".list-inline>li {display: inline-block}\n",
       ".list-inline>li:not(:last-child)::after {content: \"\\00b7\"; padding: 0 .5ex}\n",
       "</style>\n",
       "<ol class=list-inline><li>'John'</li><li>'Dan'</li><li>'Michelle'</li><li>'Ryan'</li><li>'Gary'</li><li>'Teslim'</li><li>'Teslim'</li></ol>\n"
      ],
      "text/latex": [
       "\\begin{enumerate*}\n",
       "\\item 'John'\n",
       "\\item 'Dan'\n",
       "\\item 'Michelle'\n",
       "\\item 'Ryan'\n",
       "\\item 'Gary'\n",
       "\\item 'Teslim'\n",
       "\\item 'Teslim'\n",
       "\\end{enumerate*}\n"
      ],
      "text/markdown": [
       "1. 'John'\n",
       "2. 'Dan'\n",
       "3. 'Michelle'\n",
       "4. 'Ryan'\n",
       "5. 'Gary'\n",
       "6. 'Teslim'\n",
       "7. 'Teslim'\n",
       "\n",
       "\n"
      ],
      "text/plain": [
       "[1] \"John\"     \"Dan\"      \"Michelle\" \"Ryan\"     \"Gary\"     \"Teslim\"   \"Teslim\"  "
      ]
     },
     "metadata": {},
     "output_type": "display_data"
    }
   ],
   "source": [
    "employee_data$emp_name"
   ]
  },
  {
   "cell_type": "code",
   "execution_count": 58,
   "metadata": {
    "vscode": {
     "languageId": "r"
    }
   },
   "outputs": [
    {
     "data": {
      "text/html": [
       "<style>\n",
       ".list-inline {list-style: none; margin:0; padding: 0}\n",
       ".list-inline>li {display: inline-block}\n",
       ".list-inline>li:not(:last-child)::after {content: \"\\00b7\"; padding: 0 .5ex}\n",
       "</style>\n",
       "<ol class=list-inline><li>'John'</li><li>'Dan'</li><li>'Michelle'</li><li>'Ryan'</li><li>'Gary'</li><li>'Teslim'</li><li>'Teslim'</li></ol>\n"
      ],
      "text/latex": [
       "\\begin{enumerate*}\n",
       "\\item 'John'\n",
       "\\item 'Dan'\n",
       "\\item 'Michelle'\n",
       "\\item 'Ryan'\n",
       "\\item 'Gary'\n",
       "\\item 'Teslim'\n",
       "\\item 'Teslim'\n",
       "\\end{enumerate*}\n"
      ],
      "text/markdown": [
       "1. 'John'\n",
       "2. 'Dan'\n",
       "3. 'Michelle'\n",
       "4. 'Ryan'\n",
       "5. 'Gary'\n",
       "6. 'Teslim'\n",
       "7. 'Teslim'\n",
       "\n",
       "\n"
      ],
      "text/plain": [
       "[1] \"John\"     \"Dan\"      \"Michelle\" \"Ryan\"     \"Gary\"     \"Teslim\"   \"Teslim\"  "
      ]
     },
     "metadata": {},
     "output_type": "display_data"
    }
   ],
   "source": [
    "employee_data[[2]]"
   ]
  },
  {
   "cell_type": "code",
   "execution_count": 59,
   "metadata": {
    "vscode": {
     "languageId": "r"
    }
   },
   "outputs": [
    {
     "name": "stdout",
     "output_type": "stream",
     "text": [
      "  emp_id emp_name   salary\n",
      "1   John     John   623.30\n",
      "2      2      Dan   515.20\n",
      "3      3 Michelle   611.00\n",
      "4      4     Ryan   729.00\n",
      "5      5     Gary   843.25\n",
      "6      6   Teslim 10200.00\n",
      "7      6   Teslim 10200.00\n"
     ]
    }
   ],
   "source": [
    "employee_data[1, 1] <- \"John\"\n",
    "print(employee_data)"
   ]
  },
  {
   "cell_type": "code",
   "execution_count": 60,
   "metadata": {
    "vscode": {
     "languageId": "r"
    }
   },
   "outputs": [
    {
     "name": "stdout",
     "output_type": "stream",
     "text": [
      "  emp_id emp_name   salary\n",
      "1   John     John   623.30\n",
      "2      2      Dan   515.20\n",
      "3      3 Michelle   611.00\n",
      "4      4     Ryan   729.00\n",
      "5      5     Gary   843.25\n",
      "6      6   Teslim 10200.00\n",
      "7      6   Teslim 10200.00\n",
      "8      6   Teslim 10200.00\n"
     ]
    }
   ],
   "source": [
    "clean_Ace <- rbind(employee_data, list(6, \"Teslim\", 10200))\n",
    "print(Clean_Ace)"
   ]
  },
  {
   "cell_type": "code",
   "execution_count": 61,
   "metadata": {
    "vscode": {
     "languageId": "r"
    }
   },
   "outputs": [
    {
     "name": "stdout",
     "output_type": "stream",
     "text": [
      "  emp_id emp_name   salary state\n",
      "1   John     John   623.30 Lagos\n",
      "2      2      Dan   515.20 Abuja\n",
      "3      3 Michelle   611.00 Enugu\n",
      "4      4     Ryan   729.00 Lagos\n",
      "5      5     Gary   843.25 Abuja\n",
      "6      6   Teslim 10200.00 Enugu\n",
      "7      6   Teslim 10200.00    Ab\n",
      "8      6   Teslim 10200.00  hshs\n"
     ]
    }
   ],
   "source": [
    "Clean_Ace_2 <- cbind(clean_Ace, state = c(\"Lagos\", \"Abuja\", \"Enugu\", \"Lagos\", \"Abuja\", \"Enugu\", \"Ab\", \"hshs\"))\n",
    "print(Clean_Ace_2)"
   ]
  },
  {
   "cell_type": "code",
   "execution_count": 63,
   "metadata": {
    "vscode": {
     "languageId": "r"
    }
   },
   "outputs": [
    {
     "name": "stdout",
     "output_type": "stream",
     "text": [
      "  emp_id emp_name\n",
      "1   John     John\n",
      "2      2      Dan\n",
      "3      3 Michelle\n",
      "4      4     Ryan\n",
      "5      5     Gary\n",
      "6      6   Teslim\n",
      "7      6   Teslim\n"
     ]
    }
   ],
   "source": [
    "employee_data$salary <- NULL\n",
    "print(employee_data)"
   ]
  },
  {
   "cell_type": "code",
   "execution_count": 65,
   "metadata": {
    "vscode": {
     "languageId": "r"
    }
   },
   "outputs": [
    {
     "name": "stdout",
     "output_type": "stream",
     "text": [
      "  emp_id emp_name salary start_date\n",
      "1      1     Rick 623.30 2012-01-01\n",
      "2      2      Dan 515.20 2013-09-23\n",
      "3      3 Michelle 611.00 2014-11-15\n",
      "4      4     Ryan 729.00 2014-05-11\n",
      "5      5     Gary 843.25 2015-03-27\n"
     ]
    }
   ],
   "source": [
    "\n",
    "print(emp_data)\n",
    "# Create the data frame.\n",
    "emp_data <- data.frame(\n",
    "  emp_id = c(1:5),\n",
    "  emp_name = c(\"Rick\", \"Dan\", \"Michelle\", \"Ryan\", \"Gary\"),\n",
    "  salary = c(623.3, 515.2, 611.0, 729.0, 843.25),\n",
    "  start_date = as.Date(c(\"2012-01-01\", \"2013-09-23\", \"2014-11-15\", \"2014-05-11\",\n",
    "                         \"2015-03-27\")),\n",
    "  stringsAsFactors = FALSE\n",
    ")\n",
    "# Print the data frame.\n",
    "print(emp.data)"
   ]
  }
 ],
 "metadata": {
  "kernelspec": {
   "display_name": "R",
   "language": "R",
   "name": "ir"
  },
  "language_info": {
   "codemirror_mode": "r",
   "file_extension": ".r",
   "mimetype": "text/x-r-source",
   "name": "R",
   "pygments_lexer": "r",
   "version": "4.3.0"
  }
 },
 "nbformat": 4,
 "nbformat_minor": 2
}
