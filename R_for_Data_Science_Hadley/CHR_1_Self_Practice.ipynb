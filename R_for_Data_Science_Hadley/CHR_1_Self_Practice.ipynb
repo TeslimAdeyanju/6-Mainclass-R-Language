{
 "cells": [
  {
   "cell_type": "markdown",
   "metadata": {},
   "source": [
    "### The loading of the tidyverse package "
   ]
  },
  {
   "cell_type": "code",
   "execution_count": 1,
   "metadata": {
    "vscode": {
     "languageId": "r"
    }
   },
   "outputs": [
    {
     "name": "stderr",
     "output_type": "stream",
     "text": [
      "-- \u001b[1mAttaching core tidyverse packages\u001b[22m ------------------------ tidyverse 2.0.0 --\n",
      "\u001b[32mv\u001b[39m \u001b[34mdplyr    \u001b[39m 1.1.4     \u001b[32mv\u001b[39m \u001b[34mreadr    \u001b[39m 2.1.5\n",
      "\u001b[32mv\u001b[39m \u001b[34mforcats  \u001b[39m 1.0.0     \u001b[32mv\u001b[39m \u001b[34mstringr  \u001b[39m 1.5.1\n",
      "\u001b[32mv\u001b[39m \u001b[34mggplot2  \u001b[39m 3.5.1     \u001b[32mv\u001b[39m \u001b[34mtibble   \u001b[39m 3.2.1\n",
      "\u001b[32mv\u001b[39m \u001b[34mlubridate\u001b[39m 1.9.3     \u001b[32mv\u001b[39m \u001b[34mtidyr    \u001b[39m 1.3.1\n",
      "\u001b[32mv\u001b[39m \u001b[34mpurrr    \u001b[39m 1.0.2     \n",
      "-- \u001b[1mConflicts\u001b[22m ------------------------------------------ tidyverse_conflicts() --\n",
      "\u001b[31mx\u001b[39m \u001b[34mdplyr\u001b[39m::\u001b[32mfilter()\u001b[39m masks \u001b[34mstats\u001b[39m::filter()\n",
      "\u001b[31mx\u001b[39m \u001b[34mdplyr\u001b[39m::\u001b[32mlag()\u001b[39m    masks \u001b[34mstats\u001b[39m::lag()\n",
      "\u001b[36mi\u001b[39m Use the conflicted package (\u001b[3m\u001b[34m<http://conflicted.r-lib.org/>\u001b[39m\u001b[23m) to force all conflicts to become errors\n"
     ]
    }
   ],
   "source": [
    "# Load the tidyverse package\n",
    "library(tidyverse)"
   ]
  },
  {
   "cell_type": "code",
   "execution_count": 2,
   "metadata": {
    "vscode": {
     "languageId": "r"
    }
   },
   "outputs": [
    {
     "name": "stdout",
     "output_type": "stream",
     "text": [
      "Data sets in package 'datasets':\n",
      "\n",
      "AirPassengers           Monthly Airline Passenger Numbers 1949-1960\n",
      "BJsales                 Sales Data with Leading Indicator\n",
      "BJsales.lead (BJsales)\n",
      "                        Sales Data with Leading Indicator\n",
      "BOD                     Biochemical Oxygen Demand\n",
      "CO2                     Carbon Dioxide Uptake in Grass Plants\n",
      "ChickWeight             Weight versus age of chicks on different diets\n",
      "DNase                   Elisa assay of DNase\n",
      "EuStockMarkets          Daily Closing Prices of Major European Stock\n",
      "                        Indices, 1991-1998\n",
      "Formaldehyde            Determination of Formaldehyde\n",
      "HairEyeColor            Hair and Eye Color of Statistics Students\n",
      "Harman23.cor            Harman Example 2.3\n",
      "Harman74.cor            Harman Example 7.4\n",
      "Indometh                Pharmacokinetics of Indomethacin\n",
      "InsectSprays            Effectiveness of Insect Sprays\n",
      "JohnsonJohnson          Quarterly Earnings per Johnson & Johnson Share\n",
      "LakeHuron               Level of Lake Huron 1875-1972\n",
      "LifeCycleSavings        Intercountry Life-Cycle Savings Data\n",
      "Loblolly                Growth of Loblolly Pine Trees\n",
      "Nile                    Flow of the River Nile\n",
      "Orange                  Growth of Orange Trees\n",
      "OrchardSprays           Potency of Orchard Sprays\n",
      "PlantGrowth             Results from an Experiment on Plant Growth\n",
      "Puromycin               Reaction Velocity of an Enzymatic Reaction\n",
      "Seatbelts               Road Casualties in Great Britain 1969-84\n",
      "Theoph                  Pharmacokinetics of Theophylline\n",
      "Titanic                 Survival of passengers on the Titanic\n",
      "ToothGrowth             The Effect of Vitamin C on Tooth Growth in\n",
      "                        Guinea Pigs\n",
      "UCBAdmissions           Student Admissions at UC Berkeley\n",
      "UKDriverDeaths          Road Casualties in Great Britain 1969-84\n",
      "UKgas                   UK Quarterly Gas Consumption\n",
      "USAccDeaths             Accidental Deaths in the US 1973-1978\n",
      "USArrests               Violent Crime Rates by US State\n",
      "USJudgeRatings          Lawyers' Ratings of State Judges in the US\n",
      "                        Superior Court\n",
      "USPersonalExpenditure   Personal Expenditure Data\n",
      "UScitiesD               Distances Between European Cities and Between\n",
      "                        US Cities\n",
      "VADeaths                Death Rates in Virginia (1940)\n",
      "WWWusage                Internet Usage per Minute\n",
      "WorldPhones             The World's Telephones\n",
      "ability.cov             Ability and Intelligence Tests\n",
      "airmiles                Passenger Miles on Commercial US Airlines,\n",
      "                        1937-1960\n",
      "airquality              New York Air Quality Measurements\n",
      "anscombe                Anscombe's Quartet of 'Identical' Simple Linear\n",
      "                        Regressions\n",
      "attenu                  The Joyner-Boore Attenuation Data\n",
      "attitude                The Chatterjee-Price Attitude Data\n",
      "austres                 Quarterly Time Series of the Number of\n",
      "                        Australian Residents\n",
      "beaver1 (beavers)       Body Temperature Series of Two Beavers\n",
      "beaver2 (beavers)       Body Temperature Series of Two Beavers\n",
      "cars                    Speed and Stopping Distances of Cars\n",
      "chickwts                Chicken Weights by Feed Type\n",
      "co2                     Mauna Loa Atmospheric CO2 Concentration\n",
      "crimtab                 Student's 3000 Criminals Data\n",
      "discoveries             Yearly Numbers of Important Discoveries\n",
      "esoph                   Smoking, Alcohol and (O)esophageal Cancer\n",
      "euro                    Conversion Rates of Euro Currencies\n",
      "euro.cross (euro)       Conversion Rates of Euro Currencies\n",
      "eurodist                Distances Between European Cities and Between\n",
      "                        US Cities\n",
      "faithful                Old Faithful Geyser Data\n",
      "fdeaths (UKLungDeaths)\n",
      "                        Monthly Deaths from Lung Diseases in the UK\n",
      "freeny                  Freeny's Revenue Data\n",
      "freeny.x (freeny)       Freeny's Revenue Data\n",
      "freeny.y (freeny)       Freeny's Revenue Data\n",
      "infert                  Infertility after Spontaneous and Induced\n",
      "                        Abortion\n",
      "iris                    Edgar Anderson's Iris Data\n",
      "iris3                   Edgar Anderson's Iris Data\n",
      "islands                 Areas of the World's Major Landmasses\n",
      "ldeaths (UKLungDeaths)\n",
      "                        Monthly Deaths from Lung Diseases in the UK\n",
      "lh                      Luteinizing Hormone in Blood Samples\n",
      "longley                 Longley's Economic Regression Data\n",
      "lynx                    Annual Canadian Lynx trappings 1821-1934\n",
      "mdeaths (UKLungDeaths)\n",
      "                        Monthly Deaths from Lung Diseases in the UK\n",
      "morley                  Michelson Speed of Light Data\n",
      "mtcars                  Motor Trend Car Road Tests\n",
      "nhtemp                  Average Yearly Temperatures in New Haven\n",
      "nottem                  Average Monthly Temperatures at Nottingham,\n",
      "                        1920-1939\n",
      "npk                     Classical N, P, K Factorial Experiment\n",
      "occupationalStatus      Occupational Status of Fathers and their Sons\n",
      "precip                  Annual Precipitation in US Cities\n",
      "presidents              Quarterly Approval Ratings of US Presidents\n",
      "pressure                Vapor Pressure of Mercury as a Function of\n",
      "                        Temperature\n",
      "quakes                  Locations of Earthquakes off Fiji\n",
      "randu                   Random Numbers from Congruential Generator\n",
      "                        RANDU\n",
      "rivers                  Lengths of Major North American Rivers\n",
      "rock                    Measurements on Petroleum Rock Samples\n",
      "sleep                   Student's Sleep Data\n",
      "stack.loss (stackloss)\n",
      "                        Brownlee's Stack Loss Plant Data\n",
      "stack.x (stackloss)     Brownlee's Stack Loss Plant Data\n",
      "stackloss               Brownlee's Stack Loss Plant Data\n",
      "state.abb (state)       US State Facts and Figures\n",
      "state.area (state)      US State Facts and Figures\n",
      "state.center (state)    US State Facts and Figures\n",
      "state.division (state)\n",
      "                        US State Facts and Figures\n",
      "state.name (state)      US State Facts and Figures\n",
      "state.region (state)    US State Facts and Figures\n",
      "state.x77 (state)       US State Facts and Figures\n",
      "sunspot.month           Monthly Sunspot Data, from 1749 to \"Present\"\n",
      "sunspot.year            Yearly Sunspot Data, 1700-1988\n",
      "sunspots                Monthly Sunspot Numbers, 1749-1983\n",
      "swiss                   Swiss Fertility and Socioeconomic Indicators\n",
      "                        (1888) Data\n",
      "treering                Yearly Tree-Ring Data, -6000-1979\n",
      "trees                   Diameter, Height and Volume for Black Cherry\n",
      "                        Trees\n",
      "uspop                   Populations Recorded by the US Census\n",
      "volcano                 Topographic Information on Auckland's Maunga\n",
      "                        Whau Volcano\n",
      "warpbreaks              The Number of Breaks in Yarn during Weaving\n",
      "women                   Average Heights and Weights for American Women\n",
      "Data sets in package 'dplyr':\n",
      "\n",
      "band_instruments        Band membership\n",
      "band_instruments2       Band membership\n",
      "band_members            Band membership\n",
      "starwars                Starwars characters\n",
      "storms                  Storm tracks data\n",
      "Data sets in package 'forcats':\n",
      "\n",
      "gss_cat                 A sample of categorical variables from the\n",
      "                        General Social survey\n",
      "Data sets in package 'ggplot2':\n",
      "\n",
      "diamonds                Prices of over 50,000 round cut diamonds\n",
      "economics               US economic time series\n",
      "economics_long          US economic time series\n",
      "faithfuld               2d density estimate of Old Faithful data\n",
      "luv_colours             'colors()' in Luv space\n",
      "midwest                 Midwest demographics\n",
      "mpg                     Fuel economy data from 1999 to 2008 for 38\n",
      "                        popular models of cars\n",
      "msleep                  An updated and expanded version of the mammals\n",
      "                        sleep dataset\n",
      "presidential            Terms of 12 presidents from Eisenhower to Trump\n",
      "seals                   Vector field of seal movements\n",
      "txhousing               Housing sales in TX\n",
      "Data sets in package 'lubridate':\n",
      "\n",
      "lakers                  Lakers 2008-2009 basketball data set\n",
      "Data sets in package 'stringr':\n",
      "\n",
      "fruit                   Sample character vectors for practicing string\n",
      "                        manipulations\n",
      "sentences               Sample character vectors for practicing string\n",
      "                        manipulations\n",
      "words                   Sample character vectors for practicing string\n",
      "                        manipulations\n",
      "Data sets in package 'tidyr':\n",
      "\n",
      "billboard               Song rankings for Billboard top 100 in the year\n",
      "                        2000\n",
      "cms_patient_care        Data from the Centers for Medicare & Medicaid\n",
      "                        Services\n",
      "cms_patient_experience\n",
      "                        Data from the Centers for Medicare & Medicaid\n",
      "                        Services\n",
      "construction            Completed construction in the US in 2018\n",
      "fish_encounters         Fish encounters\n",
      "household               Household data\n",
      "population              World Health Organization TB data\n",
      "relig_income            Pew religion and income survey\n",
      "smiths                  Some data about the Smith family\n",
      "table1                  Example tabular representations\n",
      "table2                  Example tabular representations\n",
      "table3                  Example tabular representations\n",
      "table4a                 Example tabular representations\n",
      "table4b                 Example tabular representations\n",
      "table5                  Example tabular representations\n",
      "us_rent_income          US rent and income data\n",
      "who                     World Health Organization TB data\n",
      "who2                    World Health Organization TB data\n",
      "world_bank_pop          Population data from the World Bank\n",
      "\n",
      "Use 'data(package = .packages(all.available = TRUE))'\n",
      "to list the data sets in all *available* packages."
     ]
    }
   ],
   "source": [
    "# viewing the available datasets\n",
    "data()"
   ]
  },
  {
   "cell_type": "markdown",
   "metadata": {},
   "source": [
    "### View of the dataset"
   ]
  },
  {
   "cell_type": "markdown",
   "metadata": {},
   "source": [
    "The focus of this notebook is to explore the dataset and understand the data. The dataset is loaded and the first few rows are displayed to understand the structure of the dataset. The dataset has 10 columns and 1000 rows. The columns are as follows:\n"
   ]
  },
  {
   "cell_type": "code",
   "execution_count": null,
   "metadata": {
    "vscode": {
     "languageId": "r"
    }
   },
   "outputs": [],
   "source": [
    "# Print the first few rows of the mtcars dataset\n",
    "glimpse(mpg)\n"
   ]
  },
  {
   "cell_type": "markdown",
   "metadata": {},
   "source": [
    "The `glimpse()` shows that the data has 1,064 observations and 20 variables (Columns). Aside the function of the `glimpses()` function, the `View()` function is used to display the dataset in a tabular format. "
   ]
  },
  {
   "cell_type": "code",
   "execution_count": null,
   "metadata": {
    "vscode": {
     "languageId": "r"
    }
   },
   "outputs": [],
   "source": [
    "View(mpg)\n"
   ]
  },
  {
   "cell_type": "markdown",
   "metadata": {},
   "source": [
    "### Plotting the dataset"
   ]
  },
  {
   "cell_type": "code",
   "execution_count": null,
   "metadata": {
    "vscode": {
     "languageId": "r"
    }
   },
   "outputs": [],
   "source": [
    "ggplot(\n",
    "    data = mpg,\n",
    "    mapping = aes(x = model, y = displ)\n",
    ")"
   ]
  },
  {
   "cell_type": "code",
   "execution_count": null,
   "metadata": {
    "vscode": {
     "languageId": "r"
    }
   },
   "outputs": [],
   "source": [
    "ggplot(mpg, aes(x = fct_infreq(manufacturer))) +\n",
    "  geom_bar()"
   ]
  },
  {
   "cell_type": "code",
   "execution_count": null,
   "metadata": {
    "vscode": {
     "languageId": "r"
    }
   },
   "outputs": [],
   "source": [
    "\n",
    "ggplot(mpg, aes(x = cty, y = hwy)) +\n",
    "  geom_point()\n",
    "ggsave(\"mpg-plot.pdf\")"
   ]
  }
 ],
 "metadata": {
  "kernelspec": {
   "display_name": "R",
   "language": "R",
   "name": "ir"
  },
  "language_info": {
   "codemirror_mode": "r",
   "file_extension": ".r",
   "mimetype": "text/x-r-source",
   "name": "R",
   "pygments_lexer": "r",
   "version": "4.4.0"
  },
  "polyglot_notebook": {
   "kernelInfo": {
    "defaultKernelName": "csharp",
    "items": [
     {
      "aliases": [],
      "name": "csharp"
     }
    ]
   }
  }
 },
 "nbformat": 4,
 "nbformat_minor": 2
}
