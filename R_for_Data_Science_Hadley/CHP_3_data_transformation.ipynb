{
 "cells": [
  {
   "cell_type": "markdown",
   "metadata": {},
   "source": [
    "# CHAPTER 3: Data transformation"
   ]
  },
  {
   "cell_type": "markdown",
   "metadata": {
    "vscode": {
     "languageId": "r"
    }
   },
   "source": [
    "### 3.1 Introduction\n",
    "____"
   ]
  },
  {
   "cell_type": "code",
   "execution_count": 1,
   "metadata": {
    "vscode": {
     "languageId": "r"
    }
   },
   "outputs": [
    {
     "name": "stderr",
     "output_type": "stream",
     "text": [
      "-- \u001b[1mAttaching core tidyverse packages\u001b[22m ------------------------ tidyverse 2.0.0 --\n",
      "\u001b[32mv\u001b[39m \u001b[34mdplyr    \u001b[39m 1.1.4     \u001b[32mv\u001b[39m \u001b[34mreadr    \u001b[39m 2.1.5\n",
      "\u001b[32mv\u001b[39m \u001b[34mforcats  \u001b[39m 1.0.0     \u001b[32mv\u001b[39m \u001b[34mstringr  \u001b[39m 1.5.1\n",
      "\u001b[32mv\u001b[39m \u001b[34mggplot2  \u001b[39m 3.5.1     \u001b[32mv\u001b[39m \u001b[34mtibble   \u001b[39m 3.2.1\n",
      "\u001b[32mv\u001b[39m \u001b[34mlubridate\u001b[39m 1.9.3     \u001b[32mv\u001b[39m \u001b[34mtidyr    \u001b[39m 1.3.1\n",
      "\u001b[32mv\u001b[39m \u001b[34mpurrr    \u001b[39m 1.0.2     \n",
      "-- \u001b[1mConflicts\u001b[22m ------------------------------------------ tidyverse_conflicts() --\n",
      "\u001b[31mx\u001b[39m \u001b[34mdplyr\u001b[39m::\u001b[32mfilter()\u001b[39m masks \u001b[34mstats\u001b[39m::filter()\n",
      "\u001b[31mx\u001b[39m \u001b[34mdplyr\u001b[39m::\u001b[32mlag()\u001b[39m    masks \u001b[34mstats\u001b[39m::lag()\n",
      "\u001b[36mi\u001b[39m Use the conflicted package (\u001b[3m\u001b[34m<http://conflicted.r-lib.org/>\u001b[39m\u001b[23m) to force all conflicts to become errors\n"
     ]
    }
   ],
   "source": [
    "# Load the tidyverse package\n",
    "library(tidyverse)\n",
    "#> ── Attaching core tidyverse packages ───────────────────── tidyverse 2.0.0 ──\n",
    "#> ✔ dplyr     1.1.4     ✔ readr     2.1.5\n",
    "#> ✔ forcats   1.0.0     ✔ stringr   1.5.1\n",
    "#> ✔ ggplot2   3.5.1     ✔ tibble    3.2.1\n",
    "#> ✔ lubridate 1.9.3     ✔ tidyr     1.3.1\n",
    "#> ✔ purrr     1.0.2\n",
    "#> ── Conflicts ─────────────────────────────────────── tidyverse_conflicts() ──\n",
    "#> ✖ dplyr::filter() masks stats::filter()\n",
    "#> ✖ dplyr::lag()    masks stats::lag()\n",
    "#> ℹ Use the conflicted package (<http://conflicted.r-lib.org/>) to force all conflicts to become errors\n"
   ]
  },
  {
   "cell_type": "code",
   "execution_count": 2,
   "metadata": {
    "vscode": {
     "languageId": "r"
    }
   },
   "outputs": [
    {
     "name": "stdout",
     "output_type": "stream",
     "text": [
      "Rows: 336,776\n",
      "Columns: 19\n",
      "$ year           \u001b[3m\u001b[90m<int>\u001b[39m\u001b[23m 2013, 2013, 2013, 2013, 2013, 2013, 2013, 2013, 2013, 2~\n",
      "$ month          \u001b[3m\u001b[90m<int>\u001b[39m\u001b[23m 1, 1, 1, 1, 1, 1, 1, 1, 1, 1, 1, 1, 1, 1, 1, 1, 1, 1, 1~\n",
      "$ day            \u001b[3m\u001b[90m<int>\u001b[39m\u001b[23m 1, 1, 1, 1, 1, 1, 1, 1, 1, 1, 1, 1, 1, 1, 1, 1, 1, 1, 1~\n",
      "$ dep_time       \u001b[3m\u001b[90m<int>\u001b[39m\u001b[23m 517, 533, 542, 544, 554, 554, 555, 557, 557, 558, 558, ~\n",
      "$ sched_dep_time \u001b[3m\u001b[90m<int>\u001b[39m\u001b[23m 515, 529, 540, 545, 600, 558, 600, 600, 600, 600, 600, ~\n",
      "$ dep_delay      \u001b[3m\u001b[90m<dbl>\u001b[39m\u001b[23m 2, 4, 2, -1, -6, -4, -5, -3, -3, -2, -2, -2, -2, -2, -1~\n",
      "$ arr_time       \u001b[3m\u001b[90m<int>\u001b[39m\u001b[23m 830, 850, 923, 1004, 812, 740, 913, 709, 838, 753, 849,~\n",
      "$ sched_arr_time \u001b[3m\u001b[90m<int>\u001b[39m\u001b[23m 819, 830, 850, 1022, 837, 728, 854, 723, 846, 745, 851,~\n",
      "$ arr_delay      \u001b[3m\u001b[90m<dbl>\u001b[39m\u001b[23m 11, 20, 33, -18, -25, 12, 19, -14, -8, 8, -2, -3, 7, -1~\n",
      "$ carrier        \u001b[3m\u001b[90m<chr>\u001b[39m\u001b[23m \"UA\", \"UA\", \"AA\", \"B6\", \"DL\", \"UA\", \"B6\", \"EV\", \"B6\", \"~\n",
      "$ flight         \u001b[3m\u001b[90m<int>\u001b[39m\u001b[23m 1545, 1714, 1141, 725, 461, 1696, 507, 5708, 79, 301, 4~\n",
      "$ tailnum        \u001b[3m\u001b[90m<chr>\u001b[39m\u001b[23m \"N14228\", \"N24211\", \"N619AA\", \"N804JB\", \"N668DN\", \"N394~\n",
      "$ origin         \u001b[3m\u001b[90m<chr>\u001b[39m\u001b[23m \"EWR\", \"LGA\", \"JFK\", \"JFK\", \"LGA\", \"EWR\", \"EWR\", \"LGA\",~\n",
      "$ dest           \u001b[3m\u001b[90m<chr>\u001b[39m\u001b[23m \"IAH\", \"IAH\", \"MIA\", \"BQN\", \"ATL\", \"ORD\", \"FLL\", \"IAD\",~\n",
      "$ air_time       \u001b[3m\u001b[90m<dbl>\u001b[39m\u001b[23m 227, 227, 160, 183, 116, 150, 158, 53, 140, 138, 149, 1~\n",
      "$ distance       \u001b[3m\u001b[90m<dbl>\u001b[39m\u001b[23m 1400, 1416, 1089, 1576, 762, 719, 1065, 229, 944, 733, ~\n",
      "$ hour           \u001b[3m\u001b[90m<dbl>\u001b[39m\u001b[23m 5, 5, 5, 5, 6, 5, 6, 6, 6, 6, 6, 6, 6, 6, 6, 5, 6, 6, 6~\n",
      "$ minute         \u001b[3m\u001b[90m<dbl>\u001b[39m\u001b[23m 15, 29, 40, 45, 0, 58, 0, 0, 0, 0, 0, 0, 0, 0, 0, 59, 0~\n",
      "$ time_hour      \u001b[3m\u001b[90m<dttm>\u001b[39m\u001b[23m 2013-01-01 05:00:00, 2013-01-01 05:00:00, 2013-01-01 0~\n"
     ]
    }
   ],
   "source": [
    "# Load the data, and view it.\n",
    "library(nycflights13)\n",
    "glimpse(flights)"
   ]
  },
  {
   "cell_type": "code",
   "execution_count": 3,
   "metadata": {
    "vscode": {
     "languageId": "r"
    }
   },
   "outputs": [
    {
     "name": "stdout",
     "output_type": "stream",
     "text": [
      "tibble [336,776 x 19] (S3: tbl_df/tbl/data.frame)\n",
      " $ year          : int [1:336776] 2013 2013 2013 2013 2013 2013 2013 2013 2013 2013 ...\n",
      " $ month         : int [1:336776] 1 1 1 1 1 1 1 1 1 1 ...\n",
      " $ day           : int [1:336776] 1 1 1 1 1 1 1 1 1 1 ...\n",
      " $ dep_time      : int [1:336776] 517 533 542 544 554 554 555 557 557 558 ...\n",
      " $ sched_dep_time: int [1:336776] 515 529 540 545 600 558 600 600 600 600 ...\n",
      " $ dep_delay     : num [1:336776] 2 4 2 -1 -6 -4 -5 -3 -3 -2 ...\n",
      " $ arr_time      : int [1:336776] 830 850 923 1004 812 740 913 709 838 753 ...\n",
      " $ sched_arr_time: int [1:336776] 819 830 850 1022 837 728 854 723 846 745 ...\n",
      " $ arr_delay     : num [1:336776] 11 20 33 -18 -25 12 19 -14 -8 8 ...\n",
      " $ carrier       : chr [1:336776] \"UA\" \"UA\" \"AA\" \"B6\" ...\n",
      " $ flight        : int [1:336776] 1545 1714 1141 725 461 1696 507 5708 79 301 ...\n",
      " $ tailnum       : chr [1:336776] \"N14228\" \"N24211\" \"N619AA\" \"N804JB\" ...\n",
      " $ origin        : chr [1:336776] \"EWR\" \"LGA\" \"JFK\" \"JFK\" ...\n",
      " $ dest          : chr [1:336776] \"IAH\" \"IAH\" \"MIA\" \"BQN\" ...\n",
      " $ air_time      : num [1:336776] 227 227 160 183 116 150 158 53 140 138 ...\n",
      " $ distance      : num [1:336776] 1400 1416 1089 1576 762 ...\n",
      " $ hour          : num [1:336776] 5 5 5 5 6 5 6 6 6 6 ...\n",
      " $ minute        : num [1:336776] 15 29 40 45 0 58 0 0 0 0 ...\n",
      " $ time_hour     : POSIXct[1:336776], format: \"2013-01-01 05:00:00\" \"2013-01-01 05:00:00\" ...\n"
     ]
    }
   ],
   "source": [
    "str(flights)"
   ]
  },
  {
   "cell_type": "markdown",
   "metadata": {},
   "source": [
    "### 3.2 Using Row Function in dplyr’s \n",
    "_____"
   ]
  },
  {
   "cell_type": "code",
   "execution_count": 5,
   "metadata": {
    "vscode": {
     "languageId": "r"
    }
   },
   "outputs": [
    {
     "name": "stdout",
     "output_type": "stream",
     "text": [
      "Rows: 336,776\n",
      "Columns: 19\n",
      "$ year           \u001b[3m\u001b[38;5;246m<int>\u001b[39m\u001b[23m 2013, 2013, 2013, 2013, 2013, 2013, 2013, 2013, 2013, 2013, 2013, 2013, 2013, 2…\n",
      "$ month          \u001b[3m\u001b[38;5;246m<int>\u001b[39m\u001b[23m 1, 1, 1, 1, 1, 1, 1, 1, 1, 1, 1, 1, 1, 1, 1, 1, 1, 1, 1, 1, 1, 1, 1, 1, 1, 1, 1…\n",
      "$ day            \u001b[3m\u001b[38;5;246m<int>\u001b[39m\u001b[23m 1, 1, 1, 1, 1, 1, 1, 1, 1, 1, 1, 1, 1, 1, 1, 1, 1, 1, 1, 1, 1, 1, 1, 1, 1, 1, 1…\n",
      "$ dep_time       \u001b[3m\u001b[38;5;246m<int>\u001b[39m\u001b[23m 517, 533, 542, 544, 554, 554, 555, 557, 557, 558, 558, 558, 558, 558, 559, 559,…\n",
      "$ sched_dep_time \u001b[3m\u001b[38;5;246m<int>\u001b[39m\u001b[23m 515, 529, 540, 545, 600, 558, 600, 600, 600, 600, 600, 600, 600, 600, 600, 559,…\n",
      "$ dep_delay      \u001b[3m\u001b[38;5;246m<dbl>\u001b[39m\u001b[23m 2, 4, 2, -1, -6, -4, -5, -3, -3, -2, -2, -2, -2, -2, -1, 0, -1, 0, 0, 1, -8, -3…\n",
      "$ arr_time       \u001b[3m\u001b[38;5;246m<int>\u001b[39m\u001b[23m 830, 850, 923, 1004, 812, 740, 913, 709, 838, 753, 849, 853, 924, 923, 941, 702…\n",
      "$ sched_arr_time \u001b[3m\u001b[38;5;246m<int>\u001b[39m\u001b[23m 819, 830, 850, 1022, 837, 728, 854, 723, 846, 745, 851, 856, 917, 937, 910, 706…\n",
      "$ arr_delay      \u001b[3m\u001b[38;5;246m<dbl>\u001b[39m\u001b[23m 11, 20, 33, -18, -25, 12, 19, -14, -8, 8, -2, -3, 7, -14, 31, -4, -8, -7, 12, -…\n",
      "$ carrier        \u001b[3m\u001b[38;5;246m<chr>\u001b[39m\u001b[23m \"UA\", \"UA\", \"AA\", \"B6\", \"DL\", \"UA\", \"B6\", \"EV\", \"B6\", \"AA\", \"B6\", \"B6\", \"UA\", \"…\n",
      "$ flight         \u001b[3m\u001b[38;5;246m<int>\u001b[39m\u001b[23m 1545, 1714, 1141, 725, 461, 1696, 507, 5708, 79, 301, 49, 71, 194, 1124, 707, 1…\n",
      "$ tailnum        \u001b[3m\u001b[38;5;246m<chr>\u001b[39m\u001b[23m \"N14228\", \"N24211\", \"N619AA\", \"N804JB\", \"N668DN\", \"N39463\", \"N516JB\", \"N829AS\",…\n",
      "$ origin         \u001b[3m\u001b[38;5;246m<chr>\u001b[39m\u001b[23m \"EWR\", \"LGA\", \"JFK\", \"JFK\", \"LGA\", \"EWR\", \"EWR\", \"LGA\", \"JFK\", \"LGA\", \"JFK\", \"J…\n",
      "$ dest           \u001b[3m\u001b[38;5;246m<chr>\u001b[39m\u001b[23m \"IAH\", \"IAH\", \"MIA\", \"BQN\", \"ATL\", \"ORD\", \"FLL\", \"IAD\", \"MCO\", \"ORD\", \"PBI\", \"T…\n",
      "$ air_time       \u001b[3m\u001b[38;5;246m<dbl>\u001b[39m\u001b[23m 227, 227, 160, 183, 116, 150, 158, 53, 140, 138, 149, 158, 345, 361, 257, 44, 3…\n",
      "$ distance       \u001b[3m\u001b[38;5;246m<dbl>\u001b[39m\u001b[23m 1400, 1416, 1089, 1576, 762, 719, 1065, 229, 944, 733, 1028, 1005, 2475, 2565, …\n",
      "$ hour           \u001b[3m\u001b[38;5;246m<dbl>\u001b[39m\u001b[23m 5, 5, 5, 5, 6, 5, 6, 6, 6, 6, 6, 6, 6, 6, 6, 5, 6, 6, 6, 6, 6, 6, 6, 6, 6, 6, 6…\n",
      "$ minute         \u001b[3m\u001b[38;5;246m<dbl>\u001b[39m\u001b[23m 15, 29, 40, 45, 0, 58, 0, 0, 0, 0, 0, 0, 0, 0, 0, 59, 0, 0, 0, 0, 10, 5, 10, 10…\n",
      "$ time_hour      \u001b[3m\u001b[38;5;246m<dttm>\u001b[39m\u001b[23m 2013-01-01 05:00:00, 2013-01-01 05:00:00, 2013-01-01 05:00:00, 2013-01-01 05:0…\n",
      "Rows: 336,776\n",
      "Columns: 19\n",
      "$ year           \u001b[3m\u001b[38;5;246m<int>\u001b[39m\u001b[23m 2013, 2013, 2013, 2013, 2013, 2013, 2013, 2013, 2013, 2013, 2013, 2013, 2013, 2…\n",
      "$ month          \u001b[3m\u001b[38;5;246m<int>\u001b[39m\u001b[23m 1, 1, 1, 1, 1, 1, 1, 1, 1, 1, 1, 1, 1, 1, 1, 1, 1, 1, 1, 1, 1, 1, 1, 1, 1, 1, 1…\n",
      "$ day            \u001b[3m\u001b[38;5;246m<int>\u001b[39m\u001b[23m 1, 1, 1, 1, 1, 1, 1, 1, 1, 1, 1, 1, 1, 1, 1, 1, 1, 1, 1, 1, 1, 1, 1, 1, 1, 1, 1…\n",
      "$ dep_time       \u001b[3m\u001b[38;5;246m<int>\u001b[39m\u001b[23m 517, 533, 542, 544, 554, 554, 555, 557, 557, 558, 558, 558, 558, 558, 559, 559,…\n",
      "$ sched_dep_time \u001b[3m\u001b[38;5;246m<int>\u001b[39m\u001b[23m 515, 529, 540, 545, 600, 558, 600, 600, 600, 600, 600, 600, 600, 600, 600, 559,…\n",
      "$ dep_delay      \u001b[3m\u001b[38;5;246m<dbl>\u001b[39m\u001b[23m 2, 4, 2, -1, -6, -4, -5, -3, -3, -2, -2, -2, -2, -2, -1, 0, -1, 0, 0, 1, -8, -3…\n",
      "$ arr_time       \u001b[3m\u001b[38;5;246m<int>\u001b[39m\u001b[23m 830, 850, 923, 1004, 812, 740, 913, 709, 838, 753, 849, 853, 924, 923, 941, 702…\n",
      "$ sched_arr_time \u001b[3m\u001b[38;5;246m<int>\u001b[39m\u001b[23m 819, 830, 850, 1022, 837, 728, 854, 723, 846, 745, 851, 856, 917, 937, 910, 706…\n",
      "$ arr_delay      \u001b[3m\u001b[38;5;246m<dbl>\u001b[39m\u001b[23m 11, 20, 33, -18, -25, 12, 19, -14, -8, 8, -2, -3, 7, -14, 31, -4, -8, -7, 12, -…\n",
      "$ carrier        \u001b[3m\u001b[38;5;246m<chr>\u001b[39m\u001b[23m \"UA\", \"UA\", \"AA\", \"B6\", \"DL\", \"UA\", \"B6\", \"EV\", \"B6\", \"AA\", \"B6\", \"B6\", \"UA\", \"…\n",
      "$ flight         \u001b[3m\u001b[38;5;246m<int>\u001b[39m\u001b[23m 1545, 1714, 1141, 725, 461, 1696, 507, 5708, 79, 301, 49, 71, 194, 1124, 707, 1…\n",
      "$ tailnum        \u001b[3m\u001b[38;5;246m<chr>\u001b[39m\u001b[23m \"N14228\", \"N24211\", \"N619AA\", \"N804JB\", \"N668DN\", \"N39463\", \"N516JB\", \"N829AS\",…\n",
      "$ origin         \u001b[3m\u001b[38;5;246m<chr>\u001b[39m\u001b[23m \"EWR\", \"LGA\", \"JFK\", \"JFK\", \"LGA\", \"EWR\", \"EWR\", \"LGA\", \"JFK\", \"LGA\", \"JFK\", \"J…\n",
      "$ dest           \u001b[3m\u001b[38;5;246m<chr>\u001b[39m\u001b[23m \"IAH\", \"IAH\", \"MIA\", \"BQN\", \"ATL\", \"ORD\", \"FLL\", \"IAD\", \"MCO\", \"ORD\", \"PBI\", \"T…\n",
      "$ air_time       \u001b[3m\u001b[38;5;246m<dbl>\u001b[39m\u001b[23m 227, 227, 160, 183, 116, 150, 158, 53, 140, 138, 149, 158, 345, 361, 257, 44, 3…\n",
      "$ distance       \u001b[3m\u001b[38;5;246m<dbl>\u001b[39m\u001b[23m 1400, 1416, 1089, 1576, 762, 719, 1065, 229, 944, 733, 1028, 1005, 2475, 2565, …\n",
      "$ hour           \u001b[3m\u001b[38;5;246m<dbl>\u001b[39m\u001b[23m 5, 5, 5, 5, 6, 5, 6, 6, 6, 6, 6, 6, 6, 6, 6, 5, 6, 6, 6, 6, 6, 6, 6, 6, 6, 6, 6…\n",
      "$ minute         \u001b[3m\u001b[38;5;246m<dbl>\u001b[39m\u001b[23m 15, 29, 40, 45, 0, 58, 0, 0, 0, 0, 0, 0, 0, 0, 0, 59, 0, 0, 0, 0, 10, 5, 10, 10…\n",
      "$ time_hour      \u001b[3m\u001b[38;5;246m<dttm>\u001b[39m\u001b[23m 2013-01-01 05:00:00, 2013-01-01 05:00:00, 2013-01-01 05:00:00, 2013-01-01 05:0…\n"
     ]
    }
   ],
   "source": [
    "glimpse(flights)"
   ]
  },
  {
   "cell_type": "markdown",
   "metadata": {},
   "source": [
    "#### `Filter()` function\n",
    "_____"
   ]
  },
  {
   "cell_type": "code",
   "execution_count": 6,
   "metadata": {
    "vscode": {
     "languageId": "r"
    }
   },
   "outputs": [
    {
     "data": {
      "text/plain": [
       "\u001b[38;5;246m# A tibble: 5 × 19\u001b[39m\n",
       "   year month   day dep_time sched_dep_time dep_delay arr_time sched_arr_time arr_delay carrier flight\n",
       "  \u001b[3m\u001b[38;5;246m<int>\u001b[39m\u001b[23m \u001b[3m\u001b[38;5;246m<int>\u001b[39m\u001b[23m \u001b[3m\u001b[38;5;246m<int>\u001b[39m\u001b[23m    \u001b[3m\u001b[38;5;246m<int>\u001b[39m\u001b[23m          \u001b[3m\u001b[38;5;246m<int>\u001b[39m\u001b[23m     \u001b[3m\u001b[38;5;246m<dbl>\u001b[39m\u001b[23m    \u001b[3m\u001b[38;5;246m<int>\u001b[39m\u001b[23m          \u001b[3m\u001b[38;5;246m<int>\u001b[39m\u001b[23m     \u001b[3m\u001b[38;5;246m<dbl>\u001b[39m\u001b[23m \u001b[3m\u001b[38;5;246m<chr>\u001b[39m\u001b[23m    \u001b[3m\u001b[38;5;246m<int>\u001b[39m\u001b[23m\n",
       "\u001b[38;5;250m1\u001b[39m  \u001b[4m2\u001b[24m013     1     1      517            515         2      830            819        11 UA        \u001b[4m1\u001b[24m545\n",
       "\u001b[38;5;250m2\u001b[39m  \u001b[4m2\u001b[24m013     1     1      533            529         4      850            830        20 UA        \u001b[4m1\u001b[24m714\n",
       "\u001b[38;5;250m3\u001b[39m  \u001b[4m2\u001b[24m013     1     1      623            627        -\u001b[31m4\u001b[39m      933            932         1 UA         496\n",
       "\u001b[38;5;250m4\u001b[39m  \u001b[4m2\u001b[24m013     1     1      728            732        -\u001b[31m4\u001b[39m     \u001b[4m1\u001b[24m041           \u001b[4m1\u001b[24m038         3 UA         473\n",
       "\u001b[38;5;250m5\u001b[39m  \u001b[4m2\u001b[24m013     1     1      739            739         0     \u001b[4m1\u001b[24m104           \u001b[4m1\u001b[24m038        26 UA        \u001b[4m1\u001b[24m479\n",
       "\u001b[38;5;246m# ℹ 8 more variables: tailnum <chr>, origin <chr>, dest <chr>, air_time <dbl>, distance <dbl>,\u001b[39m\n",
       "\u001b[38;5;246m#   hour <dbl>, minute <dbl>, time_hour <dttm>\u001b[39m"
      ]
     },
     "execution_count": null,
     "metadata": {},
     "output_type": "execute_result"
    }
   ],
   "source": [
    "# destination of flight that are classify as \"IAH\"\n",
    "flights |> filter(dest == \"IAH\") |> head(5)"
   ]
  },
  {
   "cell_type": "code",
   "execution_count": 7,
   "metadata": {
    "vscode": {
     "languageId": "r"
    }
   },
   "outputs": [
    {
     "data": {
      "text/plain": [
       "\u001b[38;5;246m# A tibble: 5 × 19\u001b[39m\n",
       "   year month   day dep_time sched_dep_time dep_delay arr_time sched_arr_time arr_delay carrier flight\n",
       "  \u001b[3m\u001b[38;5;246m<int>\u001b[39m\u001b[23m \u001b[3m\u001b[38;5;246m<int>\u001b[39m\u001b[23m \u001b[3m\u001b[38;5;246m<int>\u001b[39m\u001b[23m    \u001b[3m\u001b[38;5;246m<int>\u001b[39m\u001b[23m          \u001b[3m\u001b[38;5;246m<int>\u001b[39m\u001b[23m     \u001b[3m\u001b[38;5;246m<dbl>\u001b[39m\u001b[23m    \u001b[3m\u001b[38;5;246m<int>\u001b[39m\u001b[23m          \u001b[3m\u001b[38;5;246m<int>\u001b[39m\u001b[23m     \u001b[3m\u001b[38;5;246m<dbl>\u001b[39m\u001b[23m \u001b[3m\u001b[38;5;246m<chr>\u001b[39m\u001b[23m    \u001b[3m\u001b[38;5;246m<int>\u001b[39m\u001b[23m\n",
       "\u001b[38;5;250m1\u001b[39m  \u001b[4m2\u001b[24m013     1     1      517            515         2      830            819        11 UA        \u001b[4m1\u001b[24m545\n",
       "\u001b[38;5;250m2\u001b[39m  \u001b[4m2\u001b[24m013     1     1      533            529         4      850            830        20 UA        \u001b[4m1\u001b[24m714\n",
       "\u001b[38;5;250m3\u001b[39m  \u001b[4m2\u001b[24m013     1     1      542            540         2      923            850        33 AA        \u001b[4m1\u001b[24m141\n",
       "\u001b[38;5;250m4\u001b[39m  \u001b[4m2\u001b[24m013     1     1      544            545        -\u001b[31m1\u001b[39m     \u001b[4m1\u001b[24m004           \u001b[4m1\u001b[24m022       -\u001b[31m18\u001b[39m B6         725\n",
       "\u001b[38;5;250m5\u001b[39m  \u001b[4m2\u001b[24m013     1     1      554            558        -\u001b[31m4\u001b[39m      740            728        12 UA        \u001b[4m1\u001b[24m696\n",
       "\u001b[38;5;246m# ℹ 8 more variables: tailnum <chr>, origin <chr>, dest <chr>, air_time <dbl>, distance <dbl>,\u001b[39m\n",
       "\u001b[38;5;246m#   hour <dbl>, minute <dbl>, time_hour <dttm>\u001b[39m"
      ]
     },
     "execution_count": null,
     "metadata": {},
     "output_type": "execute_result"
    }
   ],
   "source": [
    "flights |> filter(hour == 5) |> head(5)"
   ]
  },
  {
   "cell_type": "code",
   "execution_count": 8,
   "metadata": {
    "vscode": {
     "languageId": "r"
    }
   },
   "outputs": [
    {
     "data": {
      "text/plain": [
       "\u001b[38;5;246m# A tibble: 5 × 19\u001b[39m\n",
       "   year month   day dep_time sched_dep_time dep_delay arr_time sched_arr_time arr_delay carrier flight\n",
       "  \u001b[3m\u001b[38;5;246m<int>\u001b[39m\u001b[23m \u001b[3m\u001b[38;5;246m<int>\u001b[39m\u001b[23m \u001b[3m\u001b[38;5;246m<int>\u001b[39m\u001b[23m    \u001b[3m\u001b[38;5;246m<int>\u001b[39m\u001b[23m          \u001b[3m\u001b[38;5;246m<int>\u001b[39m\u001b[23m     \u001b[3m\u001b[38;5;246m<dbl>\u001b[39m\u001b[23m    \u001b[3m\u001b[38;5;246m<int>\u001b[39m\u001b[23m          \u001b[3m\u001b[38;5;246m<int>\u001b[39m\u001b[23m     \u001b[3m\u001b[38;5;246m<dbl>\u001b[39m\u001b[23m \u001b[3m\u001b[38;5;246m<chr>\u001b[39m\u001b[23m    \u001b[3m\u001b[38;5;246m<int>\u001b[39m\u001b[23m\n",
       "\u001b[38;5;250m1\u001b[39m  \u001b[4m2\u001b[24m013     1     1      517            515         2      830            819        11 UA        \u001b[4m1\u001b[24m545\n",
       "\u001b[38;5;250m2\u001b[39m  \u001b[4m2\u001b[24m013     1     1      533            529         4      850            830        20 UA        \u001b[4m1\u001b[24m714\n",
       "\u001b[38;5;250m3\u001b[39m  \u001b[4m2\u001b[24m013     1     1      542            540         2      923            850        33 AA        \u001b[4m1\u001b[24m141\n",
       "\u001b[38;5;250m4\u001b[39m  \u001b[4m2\u001b[24m013     1     1      544            545        -\u001b[31m1\u001b[39m     \u001b[4m1\u001b[24m004           \u001b[4m1\u001b[24m022       -\u001b[31m18\u001b[39m B6         725\n",
       "\u001b[38;5;250m5\u001b[39m  \u001b[4m2\u001b[24m013     1     1      554            600        -\u001b[31m6\u001b[39m      812            837       -\u001b[31m25\u001b[39m DL         461\n",
       "\u001b[38;5;246m# ℹ 8 more variables: tailnum <chr>, origin <chr>, dest <chr>, air_time <dbl>, distance <dbl>,\u001b[39m\n",
       "\u001b[38;5;246m#   hour <dbl>, minute <dbl>, time_hour <dttm>\u001b[39m"
      ]
     },
     "execution_count": null,
     "metadata": {},
     "output_type": "execute_result"
    }
   ],
   "source": [
    "# Flights that departed on January 1\n",
    "flights |>\n",
    "  filter(month == 1 & day == 1) |> head(5)"
   ]
  },
  {
   "cell_type": "code",
   "execution_count": 9,
   "metadata": {
    "vscode": {
     "languageId": "r"
    }
   },
   "outputs": [
    {
     "data": {
      "text/plain": [
       "\u001b[38;5;246m# A tibble: 5 × 19\u001b[39m\n",
       "   year month   day dep_time sched_dep_time dep_delay arr_time sched_arr_time arr_delay carrier flight\n",
       "  \u001b[3m\u001b[38;5;246m<int>\u001b[39m\u001b[23m \u001b[3m\u001b[38;5;246m<int>\u001b[39m\u001b[23m \u001b[3m\u001b[38;5;246m<int>\u001b[39m\u001b[23m    \u001b[3m\u001b[38;5;246m<int>\u001b[39m\u001b[23m          \u001b[3m\u001b[38;5;246m<int>\u001b[39m\u001b[23m     \u001b[3m\u001b[38;5;246m<dbl>\u001b[39m\u001b[23m    \u001b[3m\u001b[38;5;246m<int>\u001b[39m\u001b[23m          \u001b[3m\u001b[38;5;246m<int>\u001b[39m\u001b[23m     \u001b[3m\u001b[38;5;246m<dbl>\u001b[39m\u001b[23m \u001b[3m\u001b[38;5;246m<chr>\u001b[39m\u001b[23m    \u001b[3m\u001b[38;5;246m<int>\u001b[39m\u001b[23m\n",
       "\u001b[38;5;250m1\u001b[39m  \u001b[4m2\u001b[24m013     1     1      517            515         2      830            819        11 UA        \u001b[4m1\u001b[24m545\n",
       "\u001b[38;5;250m2\u001b[39m  \u001b[4m2\u001b[24m013     1     1      533            529         4      850            830        20 UA        \u001b[4m1\u001b[24m714\n",
       "\u001b[38;5;250m3\u001b[39m  \u001b[4m2\u001b[24m013     1     1      542            540         2      923            850        33 AA        \u001b[4m1\u001b[24m141\n",
       "\u001b[38;5;250m4\u001b[39m  \u001b[4m2\u001b[24m013     1     1      544            545        -\u001b[31m1\u001b[39m     \u001b[4m1\u001b[24m004           \u001b[4m1\u001b[24m022       -\u001b[31m18\u001b[39m B6         725\n",
       "\u001b[38;5;250m5\u001b[39m  \u001b[4m2\u001b[24m013     1     1      554            600        -\u001b[31m6\u001b[39m      812            837       -\u001b[31m25\u001b[39m DL         461\n",
       "\u001b[38;5;246m# ℹ 8 more variables: tailnum <chr>, origin <chr>, dest <chr>, air_time <dbl>, distance <dbl>,\u001b[39m\n",
       "\u001b[38;5;246m#   hour <dbl>, minute <dbl>, time_hour <dttm>\u001b[39m"
      ]
     },
     "execution_count": null,
     "metadata": {},
     "output_type": "execute_result"
    }
   ],
   "source": [
    "# Flights that departed in January or February\n",
    "flights |>\n",
    "  filter(month == 1 | month == 2) |> head(5)"
   ]
  },
  {
   "cell_type": "code",
   "execution_count": 10,
   "metadata": {
    "vscode": {
     "languageId": "r"
    }
   },
   "outputs": [
    {
     "data": {
      "text/plain": [
       "\u001b[38;5;246m# A tibble: 5 × 19\u001b[39m\n",
       "   year month   day dep_time sched_dep_time dep_delay arr_time sched_arr_time arr_delay carrier flight\n",
       "  \u001b[3m\u001b[38;5;246m<int>\u001b[39m\u001b[23m \u001b[3m\u001b[38;5;246m<int>\u001b[39m\u001b[23m \u001b[3m\u001b[38;5;246m<int>\u001b[39m\u001b[23m    \u001b[3m\u001b[38;5;246m<int>\u001b[39m\u001b[23m          \u001b[3m\u001b[38;5;246m<int>\u001b[39m\u001b[23m     \u001b[3m\u001b[38;5;246m<dbl>\u001b[39m\u001b[23m    \u001b[3m\u001b[38;5;246m<int>\u001b[39m\u001b[23m          \u001b[3m\u001b[38;5;246m<int>\u001b[39m\u001b[23m     \u001b[3m\u001b[38;5;246m<dbl>\u001b[39m\u001b[23m \u001b[3m\u001b[38;5;246m<chr>\u001b[39m\u001b[23m    \u001b[3m\u001b[38;5;246m<int>\u001b[39m\u001b[23m\n",
       "\u001b[38;5;250m1\u001b[39m  \u001b[4m2\u001b[24m013     1     1      517            515         2      830            819        11 UA        \u001b[4m1\u001b[24m545\n",
       "\u001b[38;5;250m2\u001b[39m  \u001b[4m2\u001b[24m013     1     1      533            529         4      850            830        20 UA        \u001b[4m1\u001b[24m714\n",
       "\u001b[38;5;250m3\u001b[39m  \u001b[4m2\u001b[24m013     1     1      558            600        -\u001b[31m2\u001b[39m      924            917         7 UA         194\n",
       "\u001b[38;5;250m4\u001b[39m  \u001b[4m2\u001b[24m013     1     1      623            627        -\u001b[31m4\u001b[39m      933            932         1 UA         496\n",
       "\u001b[38;5;250m5\u001b[39m  \u001b[4m2\u001b[24m013     1     1      628            630        -\u001b[31m2\u001b[39m     \u001b[4m1\u001b[24m016            947        29 UA        \u001b[4m1\u001b[24m665\n",
       "\u001b[38;5;246m# ℹ 8 more variables: tailnum <chr>, origin <chr>, dest <chr>, air_time <dbl>, distance <dbl>,\u001b[39m\n",
       "\u001b[38;5;246m#   hour <dbl>, minute <dbl>, time_hour <dttm>\u001b[39m"
      ]
     },
     "execution_count": null,
     "metadata": {},
     "output_type": "execute_result"
    }
   ],
   "source": [
    "flights |>\n",
    "  filter(dest == \"IAH\" | dest == \"JFK\" | dest == \"LAX\") |> head(5)"
   ]
  },
  {
   "cell_type": "code",
   "execution_count": 11,
   "metadata": {
    "vscode": {
     "languageId": "r"
    }
   },
   "outputs": [
    {
     "data": {
      "text/plain": [
       "\u001b[38;5;246m# A tibble: 5 × 19\u001b[39m\n",
       "   year month   day dep_time sched_dep_time dep_delay arr_time sched_arr_time arr_delay carrier flight\n",
       "  \u001b[3m\u001b[38;5;246m<int>\u001b[39m\u001b[23m \u001b[3m\u001b[38;5;246m<int>\u001b[39m\u001b[23m \u001b[3m\u001b[38;5;246m<int>\u001b[39m\u001b[23m    \u001b[3m\u001b[38;5;246m<int>\u001b[39m\u001b[23m          \u001b[3m\u001b[38;5;246m<int>\u001b[39m\u001b[23m     \u001b[3m\u001b[38;5;246m<dbl>\u001b[39m\u001b[23m    \u001b[3m\u001b[38;5;246m<int>\u001b[39m\u001b[23m          \u001b[3m\u001b[38;5;246m<int>\u001b[39m\u001b[23m     \u001b[3m\u001b[38;5;246m<dbl>\u001b[39m\u001b[23m \u001b[3m\u001b[38;5;246m<chr>\u001b[39m\u001b[23m    \u001b[3m\u001b[38;5;246m<int>\u001b[39m\u001b[23m\n",
       "\u001b[38;5;250m1\u001b[39m  \u001b[4m2\u001b[24m013     1     1      517            515         2      830            819        11 UA        \u001b[4m1\u001b[24m545\n",
       "\u001b[38;5;250m2\u001b[39m  \u001b[4m2\u001b[24m013     1     1      533            529         4      850            830        20 UA        \u001b[4m1\u001b[24m714\n",
       "\u001b[38;5;250m3\u001b[39m  \u001b[4m2\u001b[24m013     1     1      558            600        -\u001b[31m2\u001b[39m      924            917         7 UA         194\n",
       "\u001b[38;5;250m4\u001b[39m  \u001b[4m2\u001b[24m013     1     1      623            627        -\u001b[31m4\u001b[39m      933            932         1 UA         496\n",
       "\u001b[38;5;250m5\u001b[39m  \u001b[4m2\u001b[24m013     1     1      628            630        -\u001b[31m2\u001b[39m     \u001b[4m1\u001b[24m016            947        29 UA        \u001b[4m1\u001b[24m665\n",
       "\u001b[38;5;246m# ℹ 8 more variables: tailnum <chr>, origin <chr>, dest <chr>, air_time <dbl>, distance <dbl>,\u001b[39m\n",
       "\u001b[38;5;246m#   hour <dbl>, minute <dbl>, time_hour <dttm>\u001b[39m"
      ]
     },
     "execution_count": null,
     "metadata": {},
     "output_type": "execute_result"
    }
   ],
   "source": [
    "flights |>\n",
    "  filter(dest %in% c(\"IAH\", \"JFK\", \"LAX\")) |> head(5)"
   ]
  },
  {
   "cell_type": "code",
   "execution_count": 12,
   "metadata": {
    "vscode": {
     "languageId": "r"
    }
   },
   "outputs": [
    {
     "data": {
      "text/plain": [
       "\u001b[38;5;246m# A tibble: 5 × 19\u001b[39m\n",
       "   year month   day dep_time sched_dep_time dep_delay arr_time sched_arr_time arr_delay carrier flight\n",
       "  \u001b[3m\u001b[38;5;246m<int>\u001b[39m\u001b[23m \u001b[3m\u001b[38;5;246m<int>\u001b[39m\u001b[23m \u001b[3m\u001b[38;5;246m<int>\u001b[39m\u001b[23m    \u001b[3m\u001b[38;5;246m<int>\u001b[39m\u001b[23m          \u001b[3m\u001b[38;5;246m<int>\u001b[39m\u001b[23m     \u001b[3m\u001b[38;5;246m<dbl>\u001b[39m\u001b[23m    \u001b[3m\u001b[38;5;246m<int>\u001b[39m\u001b[23m          \u001b[3m\u001b[38;5;246m<int>\u001b[39m\u001b[23m     \u001b[3m\u001b[38;5;246m<dbl>\u001b[39m\u001b[23m \u001b[3m\u001b[38;5;246m<chr>\u001b[39m\u001b[23m    \u001b[3m\u001b[38;5;246m<int>\u001b[39m\u001b[23m\n",
       "\u001b[38;5;250m1\u001b[39m  \u001b[4m2\u001b[24m013     1     1      517            515         2      830            819        11 UA        \u001b[4m1\u001b[24m545\n",
       "\u001b[38;5;250m2\u001b[39m  \u001b[4m2\u001b[24m013     1     1      558            600        -\u001b[31m2\u001b[39m      924            917         7 UA         194\n",
       "\u001b[38;5;250m3\u001b[39m  \u001b[4m2\u001b[24m013     1     1      652            655        -\u001b[31m3\u001b[39m      932            921        11 B6         117\n",
       "\u001b[38;5;250m4\u001b[39m  \u001b[4m2\u001b[24m013     1     1      727            730        -\u001b[31m3\u001b[39m      959            952         7 UA        \u001b[4m1\u001b[24m162\n",
       "\u001b[38;5;250m5\u001b[39m  \u001b[4m2\u001b[24m013     1     1      739            739         0     \u001b[4m1\u001b[24m104           \u001b[4m1\u001b[24m038        26 UA        \u001b[4m1\u001b[24m479\n",
       "\u001b[38;5;246m# ℹ 8 more variables: tailnum <chr>, origin <chr>, dest <chr>, air_time <dbl>, distance <dbl>,\u001b[39m\n",
       "\u001b[38;5;246m#   hour <dbl>, minute <dbl>, time_hour <dttm>\u001b[39m"
      ]
     },
     "execution_count": null,
     "metadata": {},
     "output_type": "execute_result"
    }
   ],
   "source": [
    "flights |> filter(arr_delay %in% c(11, 7, 26)) |> head(5)"
   ]
  },
  {
   "cell_type": "markdown",
   "metadata": {},
   "source": [
    "#### `arrange()` function\n",
    "_____"
   ]
  },
  {
   "cell_type": "code",
   "execution_count": 13,
   "metadata": {
    "vscode": {
     "languageId": "r"
    }
   },
   "outputs": [
    {
     "data": {
      "text/plain": [
       "\u001b[38;5;246m# A tibble: 5 × 19\u001b[39m\n",
       "   year month   day dep_time sched_dep_time dep_delay arr_time sched_arr_time arr_delay carrier flight\n",
       "  \u001b[3m\u001b[38;5;246m<int>\u001b[39m\u001b[23m \u001b[3m\u001b[38;5;246m<int>\u001b[39m\u001b[23m \u001b[3m\u001b[38;5;246m<int>\u001b[39m\u001b[23m    \u001b[3m\u001b[38;5;246m<int>\u001b[39m\u001b[23m          \u001b[3m\u001b[38;5;246m<int>\u001b[39m\u001b[23m     \u001b[3m\u001b[38;5;246m<dbl>\u001b[39m\u001b[23m    \u001b[3m\u001b[38;5;246m<int>\u001b[39m\u001b[23m          \u001b[3m\u001b[38;5;246m<int>\u001b[39m\u001b[23m     \u001b[3m\u001b[38;5;246m<dbl>\u001b[39m\u001b[23m \u001b[3m\u001b[38;5;246m<chr>\u001b[39m\u001b[23m    \u001b[3m\u001b[38;5;246m<int>\u001b[39m\u001b[23m\n",
       "\u001b[38;5;250m1\u001b[39m  \u001b[4m2\u001b[24m013     1     1      517            515         2      830            819        11 UA        \u001b[4m1\u001b[24m545\n",
       "\u001b[38;5;250m2\u001b[39m  \u001b[4m2\u001b[24m013     1     1      533            529         4      850            830        20 UA        \u001b[4m1\u001b[24m714\n",
       "\u001b[38;5;250m3\u001b[39m  \u001b[4m2\u001b[24m013     1     1      542            540         2      923            850        33 AA        \u001b[4m1\u001b[24m141\n",
       "\u001b[38;5;250m4\u001b[39m  \u001b[4m2\u001b[24m013     1     1      544            545        -\u001b[31m1\u001b[39m     \u001b[4m1\u001b[24m004           \u001b[4m1\u001b[24m022       -\u001b[31m18\u001b[39m B6         725\n",
       "\u001b[38;5;250m5\u001b[39m  \u001b[4m2\u001b[24m013     1     1      554            600        -\u001b[31m6\u001b[39m      812            837       -\u001b[31m25\u001b[39m DL         461\n",
       "\u001b[38;5;246m# ℹ 8 more variables: tailnum <chr>, origin <chr>, dest <chr>, air_time <dbl>, distance <dbl>,\u001b[39m\n",
       "\u001b[38;5;246m#   hour <dbl>, minute <dbl>, time_hour <dttm>\u001b[39m"
      ]
     },
     "execution_count": null,
     "metadata": {},
     "output_type": "execute_result"
    }
   ],
   "source": [
    "# arrange the data base on year, month, ..\n",
    "flights |>\n",
    "  arrange(year, month, day, dep_time) |> head(5)"
   ]
  },
  {
   "cell_type": "code",
   "execution_count": 14,
   "metadata": {
    "vscode": {
     "languageId": "r"
    }
   },
   "outputs": [
    {
     "data": {
      "text/plain": [
       "\u001b[38;5;246m# A tibble: 6 × 19\u001b[39m\n",
       "   year month   day dep_time sched_dep_time dep_delay arr_time sched_arr_time arr_delay carrier flight\n",
       "  \u001b[3m\u001b[38;5;246m<int>\u001b[39m\u001b[23m \u001b[3m\u001b[38;5;246m<int>\u001b[39m\u001b[23m \u001b[3m\u001b[38;5;246m<int>\u001b[39m\u001b[23m    \u001b[3m\u001b[38;5;246m<int>\u001b[39m\u001b[23m          \u001b[3m\u001b[38;5;246m<int>\u001b[39m\u001b[23m     \u001b[3m\u001b[38;5;246m<dbl>\u001b[39m\u001b[23m    \u001b[3m\u001b[38;5;246m<int>\u001b[39m\u001b[23m          \u001b[3m\u001b[38;5;246m<int>\u001b[39m\u001b[23m     \u001b[3m\u001b[38;5;246m<dbl>\u001b[39m\u001b[23m \u001b[3m\u001b[38;5;246m<chr>\u001b[39m\u001b[23m    \u001b[3m\u001b[38;5;246m<int>\u001b[39m\u001b[23m\n",
       "\u001b[38;5;250m1\u001b[39m  \u001b[4m2\u001b[24m013     1     9      641            900      \u001b[4m1\u001b[24m301     \u001b[4m1\u001b[24m242           \u001b[4m1\u001b[24m530      \u001b[4m1\u001b[24m272 HA          51\n",
       "\u001b[38;5;250m2\u001b[39m  \u001b[4m2\u001b[24m013     6    15     \u001b[4m1\u001b[24m432           \u001b[4m1\u001b[24m935      \u001b[4m1\u001b[24m137     \u001b[4m1\u001b[24m607           \u001b[4m2\u001b[24m120      \u001b[4m1\u001b[24m127 MQ        \u001b[4m3\u001b[24m535\n",
       "\u001b[38;5;250m3\u001b[39m  \u001b[4m2\u001b[24m013     1    10     \u001b[4m1\u001b[24m121           \u001b[4m1\u001b[24m635      \u001b[4m1\u001b[24m126     \u001b[4m1\u001b[24m239           \u001b[4m1\u001b[24m810      \u001b[4m1\u001b[24m109 MQ        \u001b[4m3\u001b[24m695\n",
       "\u001b[38;5;250m4\u001b[39m  \u001b[4m2\u001b[24m013     9    20     \u001b[4m1\u001b[24m139           \u001b[4m1\u001b[24m845      \u001b[4m1\u001b[24m014     \u001b[4m1\u001b[24m457           \u001b[4m2\u001b[24m210      \u001b[4m1\u001b[24m007 AA         177\n",
       "\u001b[38;5;250m5\u001b[39m  \u001b[4m2\u001b[24m013     7    22      845           \u001b[4m1\u001b[24m600      \u001b[4m1\u001b[24m005     \u001b[4m1\u001b[24m044           \u001b[4m1\u001b[24m815       989 MQ        \u001b[4m3\u001b[24m075\n",
       "\u001b[38;5;250m6\u001b[39m  \u001b[4m2\u001b[24m013     4    10     \u001b[4m1\u001b[24m100           \u001b[4m1\u001b[24m900       960     \u001b[4m1\u001b[24m342           \u001b[4m2\u001b[24m211       931 DL        \u001b[4m2\u001b[24m391\n",
       "\u001b[38;5;246m# ℹ 8 more variables: tailnum <chr>, origin <chr>, dest <chr>, air_time <dbl>, distance <dbl>,\u001b[39m\n",
       "\u001b[38;5;246m#   hour <dbl>, minute <dbl>, time_hour <dttm>\u001b[39m"
      ]
     },
     "execution_count": null,
     "metadata": {},
     "output_type": "execute_result"
    }
   ],
   "source": [
    "# single columns (dep_delay) arrange from high to low\n",
    "flights |>\n",
    "  arrange(desc(dep_delay)) |> head()"
   ]
  },
  {
   "cell_type": "code",
   "execution_count": 15,
   "metadata": {
    "vscode": {
     "languageId": "r"
    }
   },
   "outputs": [
    {
     "data": {
      "text/plain": [
       "\u001b[38;5;246m# A tibble: 10 × 19\u001b[39m\n",
       "    year month   day dep_time sched_dep_time dep_delay arr_time sched_arr_time arr_delay carrier flight\n",
       "   \u001b[3m\u001b[38;5;246m<int>\u001b[39m\u001b[23m \u001b[3m\u001b[38;5;246m<int>\u001b[39m\u001b[23m \u001b[3m\u001b[38;5;246m<int>\u001b[39m\u001b[23m    \u001b[3m\u001b[38;5;246m<int>\u001b[39m\u001b[23m          \u001b[3m\u001b[38;5;246m<int>\u001b[39m\u001b[23m     \u001b[3m\u001b[38;5;246m<dbl>\u001b[39m\u001b[23m    \u001b[3m\u001b[38;5;246m<int>\u001b[39m\u001b[23m          \u001b[3m\u001b[38;5;246m<int>\u001b[39m\u001b[23m     \u001b[3m\u001b[38;5;246m<dbl>\u001b[39m\u001b[23m \u001b[3m\u001b[38;5;246m<chr>\u001b[39m\u001b[23m    \u001b[3m\u001b[38;5;246m<int>\u001b[39m\u001b[23m\n",
       "\u001b[38;5;250m 1\u001b[39m  \u001b[4m2\u001b[24m013    12     1       13           \u001b[4m2\u001b[24m359        14      446            445         1 B6         745\n",
       "\u001b[38;5;250m 2\u001b[39m  \u001b[4m2\u001b[24m013    12     1       17           \u001b[4m2\u001b[24m359        18      443            437         6 B6         839\n",
       "\u001b[38;5;250m 3\u001b[39m  \u001b[4m2\u001b[24m013    12     1      453            500        -\u001b[31m7\u001b[39m      636            651       -\u001b[31m15\u001b[39m US        \u001b[4m1\u001b[24m895\n",
       "\u001b[38;5;250m 4\u001b[39m  \u001b[4m2\u001b[24m013    12     1      520            515         5      749            808       -\u001b[31m19\u001b[39m UA        \u001b[4m1\u001b[24m487\n",
       "\u001b[38;5;250m 5\u001b[39m  \u001b[4m2\u001b[24m013    12     1      536            540        -\u001b[31m4\u001b[39m      845            850        -\u001b[31m5\u001b[39m AA        \u001b[4m2\u001b[24m243\n",
       "\u001b[38;5;250m 6\u001b[39m  \u001b[4m2\u001b[24m013    12     1      540            550       -\u001b[31m10\u001b[39m     \u001b[4m1\u001b[24m005           \u001b[4m1\u001b[24m027       -\u001b[31m22\u001b[39m B6         939\n",
       "\u001b[38;5;250m 7\u001b[39m  \u001b[4m2\u001b[24m013    12     1      541            545        -\u001b[31m4\u001b[39m      734            755       -\u001b[31m21\u001b[39m EV        \u001b[4m3\u001b[24m819\n",
       "\u001b[38;5;250m 8\u001b[39m  \u001b[4m2\u001b[24m013    12     1      546            545         1      826            835        -\u001b[31m9\u001b[39m UA        \u001b[4m1\u001b[24m441\n",
       "\u001b[38;5;250m 9\u001b[39m  \u001b[4m2\u001b[24m013    12     1      549            600       -\u001b[31m11\u001b[39m      648            659       -\u001b[31m11\u001b[39m US        \u001b[4m2\u001b[24m167\n",
       "\u001b[38;5;250m10\u001b[39m  \u001b[4m2\u001b[24m013    12     1      550            600       -\u001b[31m10\u001b[39m      825            854       -\u001b[31m29\u001b[39m B6         605\n",
       "\u001b[38;5;246m# ℹ 8 more variables: tailnum <chr>, origin <chr>, dest <chr>, air_time <dbl>, distance <dbl>,\u001b[39m\n",
       "\u001b[38;5;246m#   hour <dbl>, minute <dbl>, time_hour <dttm>\u001b[39m"
      ]
     },
     "execution_count": null,
     "metadata": {},
     "output_type": "execute_result"
    }
   ],
   "source": [
    "# single columns arrange from high to low\n",
    "flights |>\n",
    "  arrange(desc(month)) |> head(10)"
   ]
  },
  {
   "cell_type": "code",
   "execution_count": 16,
   "metadata": {
    "vscode": {
     "languageId": "r"
    }
   },
   "outputs": [
    {
     "data": {
      "text/plain": [
       "\u001b[38;5;246m# A tibble: 10 × 19\u001b[39m\n",
       "    year month   day dep_time sched_dep_time dep_delay arr_time sched_arr_time arr_delay carrier flight\n",
       "   \u001b[3m\u001b[38;5;246m<int>\u001b[39m\u001b[23m \u001b[3m\u001b[38;5;246m<int>\u001b[39m\u001b[23m \u001b[3m\u001b[38;5;246m<int>\u001b[39m\u001b[23m    \u001b[3m\u001b[38;5;246m<int>\u001b[39m\u001b[23m          \u001b[3m\u001b[38;5;246m<int>\u001b[39m\u001b[23m     \u001b[3m\u001b[38;5;246m<dbl>\u001b[39m\u001b[23m    \u001b[3m\u001b[38;5;246m<int>\u001b[39m\u001b[23m          \u001b[3m\u001b[38;5;246m<int>\u001b[39m\u001b[23m     \u001b[3m\u001b[38;5;246m<dbl>\u001b[39m\u001b[23m \u001b[3m\u001b[38;5;246m<chr>\u001b[39m\u001b[23m    \u001b[3m\u001b[38;5;246m<int>\u001b[39m\u001b[23m\n",
       "\u001b[38;5;250m 1\u001b[39m  \u001b[4m2\u001b[24m013     1     1      517            515         2      830            819        11 UA        \u001b[4m1\u001b[24m545\n",
       "\u001b[38;5;250m 2\u001b[39m  \u001b[4m2\u001b[24m013     1     1      533            529         4      850            830        20 UA        \u001b[4m1\u001b[24m714\n",
       "\u001b[38;5;250m 3\u001b[39m  \u001b[4m2\u001b[24m013     1     1      542            540         2      923            850        33 AA        \u001b[4m1\u001b[24m141\n",
       "\u001b[38;5;250m 4\u001b[39m  \u001b[4m2\u001b[24m013     1     1      544            545        -\u001b[31m1\u001b[39m     \u001b[4m1\u001b[24m004           \u001b[4m1\u001b[24m022       -\u001b[31m18\u001b[39m B6         725\n",
       "\u001b[38;5;250m 5\u001b[39m  \u001b[4m2\u001b[24m013     1     1      554            600        -\u001b[31m6\u001b[39m      812            837       -\u001b[31m25\u001b[39m DL         461\n",
       "\u001b[38;5;250m 6\u001b[39m  \u001b[4m2\u001b[24m013     1     1      554            558        -\u001b[31m4\u001b[39m      740            728        12 UA        \u001b[4m1\u001b[24m696\n",
       "\u001b[38;5;250m 7\u001b[39m  \u001b[4m2\u001b[24m013     1     1      555            600        -\u001b[31m5\u001b[39m      913            854        19 B6         507\n",
       "\u001b[38;5;250m 8\u001b[39m  \u001b[4m2\u001b[24m013     1     1      557            600        -\u001b[31m3\u001b[39m      709            723       -\u001b[31m14\u001b[39m EV        \u001b[4m5\u001b[24m708\n",
       "\u001b[38;5;250m 9\u001b[39m  \u001b[4m2\u001b[24m013     1     1      557            600        -\u001b[31m3\u001b[39m      838            846        -\u001b[31m8\u001b[39m B6          79\n",
       "\u001b[38;5;250m10\u001b[39m  \u001b[4m2\u001b[24m013     1     1      558            600        -\u001b[31m2\u001b[39m      753            745         8 AA         301\n",
       "\u001b[38;5;246m# ℹ 8 more variables: tailnum <chr>, origin <chr>, dest <chr>, air_time <dbl>, distance <dbl>,\u001b[39m\n",
       "\u001b[38;5;246m#   hour <dbl>, minute <dbl>, time_hour <dttm>\u001b[39m"
      ]
     },
     "execution_count": null,
     "metadata": {},
     "output_type": "execute_result"
    }
   ],
   "source": [
    "flights |>\n",
    "  arrange(month) |> head(10)"
   ]
  },
  {
   "cell_type": "markdown",
   "metadata": {},
   "source": [
    "#### `distinct()` function\n",
    "_____"
   ]
  },
  {
   "cell_type": "code",
   "execution_count": 17,
   "metadata": {
    "vscode": {
     "languageId": "r"
    }
   },
   "outputs": [
    {
     "data": {
      "text/plain": [
       "\u001b[38;5;246m# A tibble: 6 × 19\u001b[39m\n",
       "   year month   day dep_time sched_dep_time dep_delay arr_time sched_arr_time arr_delay carrier flight\n",
       "  \u001b[3m\u001b[38;5;246m<int>\u001b[39m\u001b[23m \u001b[3m\u001b[38;5;246m<int>\u001b[39m\u001b[23m \u001b[3m\u001b[38;5;246m<int>\u001b[39m\u001b[23m    \u001b[3m\u001b[38;5;246m<int>\u001b[39m\u001b[23m          \u001b[3m\u001b[38;5;246m<int>\u001b[39m\u001b[23m     \u001b[3m\u001b[38;5;246m<dbl>\u001b[39m\u001b[23m    \u001b[3m\u001b[38;5;246m<int>\u001b[39m\u001b[23m          \u001b[3m\u001b[38;5;246m<int>\u001b[39m\u001b[23m     \u001b[3m\u001b[38;5;246m<dbl>\u001b[39m\u001b[23m \u001b[3m\u001b[38;5;246m<chr>\u001b[39m\u001b[23m    \u001b[3m\u001b[38;5;246m<int>\u001b[39m\u001b[23m\n",
       "\u001b[38;5;250m1\u001b[39m  \u001b[4m2\u001b[24m013     1     1      517            515         2      830            819        11 UA        \u001b[4m1\u001b[24m545\n",
       "\u001b[38;5;250m2\u001b[39m  \u001b[4m2\u001b[24m013     1     1      533            529         4      850            830        20 UA        \u001b[4m1\u001b[24m714\n",
       "\u001b[38;5;250m3\u001b[39m  \u001b[4m2\u001b[24m013     1     1      542            540         2      923            850        33 AA        \u001b[4m1\u001b[24m141\n",
       "\u001b[38;5;250m4\u001b[39m  \u001b[4m2\u001b[24m013     1     1      544            545        -\u001b[31m1\u001b[39m     \u001b[4m1\u001b[24m004           \u001b[4m1\u001b[24m022       -\u001b[31m18\u001b[39m B6         725\n",
       "\u001b[38;5;250m5\u001b[39m  \u001b[4m2\u001b[24m013     1     1      554            600        -\u001b[31m6\u001b[39m      812            837       -\u001b[31m25\u001b[39m DL         461\n",
       "\u001b[38;5;250m6\u001b[39m  \u001b[4m2\u001b[24m013     1     1      554            558        -\u001b[31m4\u001b[39m      740            728        12 UA        \u001b[4m1\u001b[24m696\n",
       "\u001b[38;5;246m# ℹ 8 more variables: tailnum <chr>, origin <chr>, dest <chr>, air_time <dbl>, distance <dbl>,\u001b[39m\n",
       "\u001b[38;5;246m#   hour <dbl>, minute <dbl>, time_hour <dttm>\u001b[39m"
      ]
     },
     "execution_count": null,
     "metadata": {},
     "output_type": "execute_result"
    }
   ],
   "source": [
    "# Findint the uniqie values in the data\n",
    "flights |> distinct() |> head()"
   ]
  },
  {
   "cell_type": "code",
   "execution_count": 18,
   "metadata": {
    "vscode": {
     "languageId": "r"
    }
   },
   "outputs": [
    {
     "data": {
      "text/plain": [
       "\u001b[38;5;246m# A tibble: 10 × 19\u001b[39m\n",
       "    year month   day dep_time sched_dep_time dep_delay arr_time sched_arr_time arr_delay carrier flight\n",
       "   \u001b[3m\u001b[38;5;246m<int>\u001b[39m\u001b[23m \u001b[3m\u001b[38;5;246m<int>\u001b[39m\u001b[23m \u001b[3m\u001b[38;5;246m<int>\u001b[39m\u001b[23m    \u001b[3m\u001b[38;5;246m<int>\u001b[39m\u001b[23m          \u001b[3m\u001b[38;5;246m<int>\u001b[39m\u001b[23m     \u001b[3m\u001b[38;5;246m<dbl>\u001b[39m\u001b[23m    \u001b[3m\u001b[38;5;246m<int>\u001b[39m\u001b[23m          \u001b[3m\u001b[38;5;246m<int>\u001b[39m\u001b[23m     \u001b[3m\u001b[38;5;246m<dbl>\u001b[39m\u001b[23m \u001b[3m\u001b[38;5;246m<chr>\u001b[39m\u001b[23m    \u001b[3m\u001b[38;5;246m<int>\u001b[39m\u001b[23m\n",
       "\u001b[38;5;250m 1\u001b[39m  \u001b[4m2\u001b[24m013     1     1      517            515         2      830            819        11 UA        \u001b[4m1\u001b[24m545\n",
       "\u001b[38;5;250m 2\u001b[39m  \u001b[4m2\u001b[24m013     1     1      533            529         4      850            830        20 UA        \u001b[4m1\u001b[24m714\n",
       "\u001b[38;5;250m 3\u001b[39m  \u001b[4m2\u001b[24m013     1     1      542            540         2      923            850        33 AA        \u001b[4m1\u001b[24m141\n",
       "\u001b[38;5;250m 4\u001b[39m  \u001b[4m2\u001b[24m013     1     1      544            545        -\u001b[31m1\u001b[39m     \u001b[4m1\u001b[24m004           \u001b[4m1\u001b[24m022       -\u001b[31m18\u001b[39m B6         725\n",
       "\u001b[38;5;250m 5\u001b[39m  \u001b[4m2\u001b[24m013     1     1      554            600        -\u001b[31m6\u001b[39m      812            837       -\u001b[31m25\u001b[39m DL         461\n",
       "\u001b[38;5;250m 6\u001b[39m  \u001b[4m2\u001b[24m013     1     1      554            558        -\u001b[31m4\u001b[39m      740            728        12 UA        \u001b[4m1\u001b[24m696\n",
       "\u001b[38;5;250m 7\u001b[39m  \u001b[4m2\u001b[24m013     1     1      555            600        -\u001b[31m5\u001b[39m      913            854        19 B6         507\n",
       "\u001b[38;5;250m 8\u001b[39m  \u001b[4m2\u001b[24m013     1     1      557            600        -\u001b[31m3\u001b[39m      709            723       -\u001b[31m14\u001b[39m EV        \u001b[4m5\u001b[24m708\n",
       "\u001b[38;5;250m 9\u001b[39m  \u001b[4m2\u001b[24m013     1     1      557            600        -\u001b[31m3\u001b[39m      838            846        -\u001b[31m8\u001b[39m B6          79\n",
       "\u001b[38;5;250m10\u001b[39m  \u001b[4m2\u001b[24m013     1     1      558            600        -\u001b[31m2\u001b[39m      753            745         8 AA         301\n",
       "\u001b[38;5;246m# ℹ 8 more variables: tailnum <chr>, origin <chr>, dest <chr>, air_time <dbl>, distance <dbl>,\u001b[39m\n",
       "\u001b[38;5;246m#   hour <dbl>, minute <dbl>, time_hour <dttm>\u001b[39m"
      ]
     },
     "execution_count": null,
     "metadata": {},
     "output_type": "execute_result"
    }
   ],
   "source": [
    " # Find unique rows in the entire dataset\n",
    "flights |>\n",
    "  distinct() |> head(10)"
   ]
  },
  {
   "cell_type": "code",
   "execution_count": 19,
   "metadata": {
    "vscode": {
     "languageId": "r"
    }
   },
   "outputs": [
    {
     "data": {
      "text/plain": [
       "\u001b[38;5;246m# A tibble: 10 × 3\u001b[39m\n",
       "   origin dest  carrier\n",
       "   \u001b[3m\u001b[38;5;246m<chr>\u001b[39m\u001b[23m  \u001b[3m\u001b[38;5;246m<chr>\u001b[39m\u001b[23m \u001b[3m\u001b[38;5;246m<chr>\u001b[39m\u001b[23m  \n",
       "\u001b[38;5;250m 1\u001b[39m EWR    IAH   UA     \n",
       "\u001b[38;5;250m 2\u001b[39m LGA    IAH   UA     \n",
       "\u001b[38;5;250m 3\u001b[39m JFK    MIA   AA     \n",
       "\u001b[38;5;250m 4\u001b[39m JFK    BQN   B6     \n",
       "\u001b[38;5;250m 5\u001b[39m LGA    ATL   DL     \n",
       "\u001b[38;5;250m 6\u001b[39m EWR    ORD   UA     \n",
       "\u001b[38;5;250m 7\u001b[39m EWR    FLL   B6     \n",
       "\u001b[38;5;250m 8\u001b[39m LGA    IAD   EV     \n",
       "\u001b[38;5;250m 9\u001b[39m JFK    MCO   B6     \n",
       "\u001b[38;5;250m10\u001b[39m LGA    ORD   AA     "
      ]
     },
     "execution_count": null,
     "metadata": {},
     "output_type": "execute_result"
    }
   ],
   "source": [
    "# Find all unique origin and destination pairs\n",
    "flights |>\n",
    "  distinct(origin, dest, carrier) |> head(10)"
   ]
  },
  {
   "cell_type": "code",
   "execution_count": 20,
   "metadata": {
    "vscode": {
     "languageId": "r"
    }
   },
   "outputs": [
    {
     "data": {
      "text/plain": [
       "\u001b[38;5;246m# A tibble: 10 × 19\u001b[39m\n",
       "    year month   day dep_time sched_dep_time dep_delay arr_time sched_arr_time arr_delay carrier flight\n",
       "   \u001b[3m\u001b[38;5;246m<int>\u001b[39m\u001b[23m \u001b[3m\u001b[38;5;246m<int>\u001b[39m\u001b[23m \u001b[3m\u001b[38;5;246m<int>\u001b[39m\u001b[23m    \u001b[3m\u001b[38;5;246m<int>\u001b[39m\u001b[23m          \u001b[3m\u001b[38;5;246m<int>\u001b[39m\u001b[23m     \u001b[3m\u001b[38;5;246m<dbl>\u001b[39m\u001b[23m    \u001b[3m\u001b[38;5;246m<int>\u001b[39m\u001b[23m          \u001b[3m\u001b[38;5;246m<int>\u001b[39m\u001b[23m     \u001b[3m\u001b[38;5;246m<dbl>\u001b[39m\u001b[23m \u001b[3m\u001b[38;5;246m<chr>\u001b[39m\u001b[23m    \u001b[3m\u001b[38;5;246m<int>\u001b[39m\u001b[23m\n",
       "\u001b[38;5;250m 1\u001b[39m  \u001b[4m2\u001b[24m013     1     1      517            515         2      830            819        11 UA        \u001b[4m1\u001b[24m545\n",
       "\u001b[38;5;250m 2\u001b[39m  \u001b[4m2\u001b[24m013     1     1      533            529         4      850            830        20 UA        \u001b[4m1\u001b[24m714\n",
       "\u001b[38;5;250m 3\u001b[39m  \u001b[4m2\u001b[24m013     1     1      542            540         2      923            850        33 AA        \u001b[4m1\u001b[24m141\n",
       "\u001b[38;5;250m 4\u001b[39m  \u001b[4m2\u001b[24m013     1     1      544            545        -\u001b[31m1\u001b[39m     \u001b[4m1\u001b[24m004           \u001b[4m1\u001b[24m022       -\u001b[31m18\u001b[39m B6         725\n",
       "\u001b[38;5;250m 5\u001b[39m  \u001b[4m2\u001b[24m013     1     1      554            600        -\u001b[31m6\u001b[39m      812            837       -\u001b[31m25\u001b[39m DL         461\n",
       "\u001b[38;5;250m 6\u001b[39m  \u001b[4m2\u001b[24m013     1     1      554            558        -\u001b[31m4\u001b[39m      740            728        12 UA        \u001b[4m1\u001b[24m696\n",
       "\u001b[38;5;250m 7\u001b[39m  \u001b[4m2\u001b[24m013     1     1      555            600        -\u001b[31m5\u001b[39m      913            854        19 B6         507\n",
       "\u001b[38;5;250m 8\u001b[39m  \u001b[4m2\u001b[24m013     1     1      557            600        -\u001b[31m3\u001b[39m      709            723       -\u001b[31m14\u001b[39m EV        \u001b[4m5\u001b[24m708\n",
       "\u001b[38;5;250m 9\u001b[39m  \u001b[4m2\u001b[24m013     1     1      557            600        -\u001b[31m3\u001b[39m      838            846        -\u001b[31m8\u001b[39m B6          79\n",
       "\u001b[38;5;250m10\u001b[39m  \u001b[4m2\u001b[24m013     1     1      558            600        -\u001b[31m2\u001b[39m      753            745         8 AA         301\n",
       "\u001b[38;5;246m# ℹ 8 more variables: tailnum <chr>, origin <chr>, dest <chr>, air_time <dbl>, distance <dbl>,\u001b[39m\n",
       "\u001b[38;5;246m#   hour <dbl>, minute <dbl>, time_hour <dttm>\u001b[39m"
      ]
     },
     "execution_count": null,
     "metadata": {},
     "output_type": "execute_result"
    }
   ],
   "source": [
    "# Example: Keep all columns while filtering for unique rows\n",
    "flights |>\n",
    "  distinct(origin, dest, carrier,.keep_all = TRUE) |> head(10)"
   ]
  },
  {
   "cell_type": "code",
   "execution_count": 21,
   "metadata": {
    "vscode": {
     "languageId": "r"
    }
   },
   "outputs": [
    {
     "data": {
      "text/plain": [
       "         date flight_number destination\n",
       "1  2023-01-01         AA101         LAX\n",
       "2  2023-01-01         AA101         LAX\n",
       "3  2023-01-02         BA202         JFK\n",
       "4  2023-01-02         BA202         JFK\n",
       "5  2023-01-01         AA101         LAX\n",
       "6  2023-01-03         AA101         LAX\n",
       "7  2023-01-03         DL303         ORD\n",
       "8  2023-01-04         UA404         MIA\n",
       "9  2023-01-05         AA101         LAX\n",
       "10 2023-01-05         BA202         JFK\n",
       "11 2023-01-06         DL303         ORD\n",
       "12 2023-01-06         UA404         MIA\n",
       "13 2023-01-07         AA101         LAX\n",
       "14 2023-01-07         BA202         JFK\n",
       "15 2023-01-08         DL303         ORD\n",
       "16 2023-01-08         UA404         MIA\n",
       "17 2023-01-09         AA101         LAX\n",
       "18 2023-01-10         BA202         JFK\n",
       "19 2023-01-10         DL303         ORD\n",
       "20 2023-01-11         UA404         MIA"
      ]
     },
     "execution_count": null,
     "metadata": {},
     "output_type": "execute_result"
    }
   ],
   "source": [
    "# Count vs n_distinct\n",
    "Nig_flights <- data.frame(\n",
    "  date = c(\n",
    "    \"2023-01-01\", \"2023-01-01\", \"2023-01-02\", \"2023-01-02\", \"2023-01-01\",\n",
    "    \"2023-01-03\", \"2023-01-03\", \"2023-01-04\", \"2023-01-05\", \"2023-01-05\",\n",
    "    \"2023-01-06\", \"2023-01-06\", \"2023-01-07\", \"2023-01-07\", \"2023-01-08\",\n",
    "    \"2023-01-08\", \"2023-01-09\", \"2023-01-10\", \"2023-01-10\", \"2023-01-11\"\n",
    "  ),\n",
    "  flight_number = c(\n",
    "    \"AA101\", \"AA101\", \"BA202\", \"BA202\", \"AA101\",\n",
    "    \"AA101\", \"DL303\", \"UA404\", \"AA101\", \"BA202\",\n",
    "    \"DL303\", \"UA404\", \"AA101\", \"BA202\", \"DL303\",\n",
    "    \"UA404\", \"AA101\", \"BA202\", \"DL303\", \"UA404\"\n",
    "  ),\n",
    "  destination = c(\n",
    "    \"LAX\", \"LAX\", \"JFK\", \"JFK\", \"LAX\",\n",
    "    \"LAX\", \"ORD\", \"MIA\", \"LAX\", \"JFK\",\n",
    "    \"ORD\", \"MIA\", \"LAX\", \"JFK\", \"ORD\",\n",
    "    \"MIA\", \"LAX\", \"JFK\", \"ORD\", \"MIA\"\n",
    "  )\n",
    ")\n",
    "\n",
    "Nig_flights"
   ]
  },
  {
   "cell_type": "code",
   "execution_count": 22,
   "metadata": {
    "vscode": {
     "languageId": "r"
    }
   },
   "outputs": [
    {
     "name": "stdout",
     "output_type": "stream",
     "text": [
      "         date flight_number\n",
      "1  2023-01-01         AA101\n",
      "2  2023-01-02         BA202\n",
      "3  2023-01-03         AA101\n",
      "4  2023-01-03         DL303\n",
      "5  2023-01-04         UA404\n",
      "6  2023-01-05         AA101\n",
      "7  2023-01-05         BA202\n",
      "8  2023-01-06         DL303\n",
      "9  2023-01-06         UA404\n",
      "10 2023-01-07         AA101\n",
      "11 2023-01-07         BA202\n",
      "12 2023-01-08         DL303\n",
      "13 2023-01-08         UA404\n",
      "14 2023-01-09         AA101\n",
      "15 2023-01-10         BA202\n",
      "16 2023-01-10         DL303\n",
      "17 2023-01-11         UA404\n",
      "         date flight_number\n",
      "1  2023-01-01         AA101\n",
      "2  2023-01-02         BA202\n",
      "3  2023-01-03         AA101\n",
      "4  2023-01-03         DL303\n",
      "5  2023-01-04         UA404\n",
      "6  2023-01-05         AA101\n",
      "7  2023-01-05         BA202\n",
      "8  2023-01-06         DL303\n",
      "9  2023-01-06         UA404\n",
      "10 2023-01-07         AA101\n",
      "11 2023-01-07         BA202\n",
      "12 2023-01-08         DL303\n",
      "13 2023-01-08         UA404\n",
      "14 2023-01-09         AA101\n",
      "15 2023-01-10         BA202\n",
      "16 2023-01-10         DL303\n",
      "17 2023-01-11         UA404\n"
     ]
    }
   ],
   "source": [
    "\n",
    "# Find distinct flights based on date and flight_number\n",
    "unique_flights <- Nig_flights |>\n",
    "  distinct(date, flight_number)\n",
    "\n",
    "print(unique_flights)"
   ]
  },
  {
   "cell_type": "code",
   "execution_count": 23,
   "metadata": {
    "vscode": {
     "languageId": "r"
    }
   },
   "outputs": [
    {
     "data": {
      "text/plain": [
       "   flight_number       date n\n",
       "1          AA101 2023-01-01 3\n",
       "2          BA202 2023-01-02 2\n",
       "3          AA101 2023-01-03 1\n",
       "4          AA101 2023-01-05 1\n",
       "5          AA101 2023-01-07 1\n",
       "6          AA101 2023-01-09 1\n",
       "7          BA202 2023-01-05 1\n",
       "8          BA202 2023-01-07 1\n",
       "9          BA202 2023-01-10 1\n",
       "10         DL303 2023-01-03 1\n",
       "11         DL303 2023-01-06 1\n",
       "12         DL303 2023-01-08 1\n",
       "13         DL303 2023-01-10 1\n",
       "14         UA404 2023-01-04 1\n",
       "15         UA404 2023-01-06 1\n",
       "16         UA404 2023-01-08 1\n",
       "17         UA404 2023-01-11 1"
      ]
     },
     "execution_count": null,
     "metadata": {},
     "output_type": "execute_result"
    }
   ],
   "source": [
    "Nig_flights |>\n",
    "  count(flight_number, date, sort = TRUE)"
   ]
  },
  {
   "cell_type": "markdown",
   "metadata": {},
   "source": [
    "### Exercises\n",
    "____"
   ]
  },
  {
   "cell_type": "markdown",
   "metadata": {},
   "source": [
    "#### <font color = red> Question 1  </font>\n",
    "\n",
    "In a single pipeline for each condition, find all flights that meet the condition:\n",
    "\n",
    "- 1.1 Had an arrival delay of two or more hours\n",
    "- 1.2 Flew to Houston (IAH or HOU)\n",
    "- 1.3 Were operated by United, American, or Delta\n",
    "- 1.4 Departed in summer (July, August, and September)\n",
    "- 1.5 Arrived more than two hours late but didn’t leave late\n",
    "- 1.6 Were delayed by at least an hour, but made up over 30 minutes in flight"
   ]
  },
  {
   "cell_type": "markdown",
   "metadata": {
    "vscode": {
     "languageId": "r"
    }
   },
   "source": [
    "#### <font color = blue> Solution 1.1  </font>\n",
    "Since the arr_delay variable is measured in minutes, find flights with an arrival delay of 120 or more minutes."
   ]
  },
  {
   "cell_type": "code",
   "execution_count": 24,
   "metadata": {
    "vscode": {
     "languageId": "r"
    }
   },
   "outputs": [
    {
     "data": {
      "text/plain": [
       "\u001b[38;5;246m# A tibble: 6 × 19\u001b[39m\n",
       "   year month   day dep_time sched_dep_time dep_delay arr_time sched_arr_time arr_delay carrier flight\n",
       "  \u001b[3m\u001b[38;5;246m<int>\u001b[39m\u001b[23m \u001b[3m\u001b[38;5;246m<int>\u001b[39m\u001b[23m \u001b[3m\u001b[38;5;246m<int>\u001b[39m\u001b[23m    \u001b[3m\u001b[38;5;246m<int>\u001b[39m\u001b[23m          \u001b[3m\u001b[38;5;246m<int>\u001b[39m\u001b[23m     \u001b[3m\u001b[38;5;246m<dbl>\u001b[39m\u001b[23m    \u001b[3m\u001b[38;5;246m<int>\u001b[39m\u001b[23m          \u001b[3m\u001b[38;5;246m<int>\u001b[39m\u001b[23m     \u001b[3m\u001b[38;5;246m<dbl>\u001b[39m\u001b[23m \u001b[3m\u001b[38;5;246m<chr>\u001b[39m\u001b[23m    \u001b[3m\u001b[38;5;246m<int>\u001b[39m\u001b[23m\n",
       "\u001b[38;5;250m1\u001b[39m  \u001b[4m2\u001b[24m013     1     1      811            630       101     \u001b[4m1\u001b[24m047            830       137 MQ        \u001b[4m4\u001b[24m576\n",
       "\u001b[38;5;250m2\u001b[39m  \u001b[4m2\u001b[24m013     1     1      848           \u001b[4m1\u001b[24m835       853     \u001b[4m1\u001b[24m001           \u001b[4m1\u001b[24m950       851 MQ        \u001b[4m3\u001b[24m944\n",
       "\u001b[38;5;250m3\u001b[39m  \u001b[4m2\u001b[24m013     1     1      957            733       144     \u001b[4m1\u001b[24m056            853       123 UA         856\n",
       "\u001b[38;5;250m4\u001b[39m  \u001b[4m2\u001b[24m013     1     1     \u001b[4m1\u001b[24m114            900       134     \u001b[4m1\u001b[24m447           \u001b[4m1\u001b[24m222       145 UA        \u001b[4m1\u001b[24m086\n",
       "\u001b[38;5;250m5\u001b[39m  \u001b[4m2\u001b[24m013     1     1     \u001b[4m1\u001b[24m505           \u001b[4m1\u001b[24m310       115     \u001b[4m1\u001b[24m638           \u001b[4m1\u001b[24m431       127 EV        \u001b[4m4\u001b[24m497\n",
       "\u001b[38;5;250m6\u001b[39m  \u001b[4m2\u001b[24m013     1     1     \u001b[4m1\u001b[24m525           \u001b[4m1\u001b[24m340       105     \u001b[4m1\u001b[24m831           \u001b[4m1\u001b[24m626       125 B6         525\n",
       "\u001b[38;5;246m# ℹ 8 more variables: tailnum <chr>, origin <chr>, dest <chr>, air_time <dbl>, distance <dbl>,\u001b[39m\n",
       "\u001b[38;5;246m#   hour <dbl>, minute <dbl>, time_hour <dttm>\u001b[39m"
      ]
     },
     "execution_count": null,
     "metadata": {},
     "output_type": "execute_result"
    }
   ],
   "source": [
    "# 1. Had an arrival delay of two or more hours\n",
    "head(filter(flights, arr_delay >= 120))"
   ]
  },
  {
   "cell_type": "markdown",
   "metadata": {},
   "source": [
    "#### <font color = blue> Solution 1.2  </font>\n",
    "The flights that flew to Houston are those flights where the destination (dest) is either “IAH” or “HOU”."
   ]
  },
  {
   "cell_type": "code",
   "execution_count": 25,
   "metadata": {
    "vscode": {
     "languageId": "r"
    }
   },
   "outputs": [
    {
     "data": {
      "text/plain": [
       "\u001b[38;5;246m# A tibble: 6 × 19\u001b[39m\n",
       "   year month   day dep_time sched_dep_time dep_delay arr_time sched_arr_time arr_delay carrier flight\n",
       "  \u001b[3m\u001b[38;5;246m<int>\u001b[39m\u001b[23m \u001b[3m\u001b[38;5;246m<int>\u001b[39m\u001b[23m \u001b[3m\u001b[38;5;246m<int>\u001b[39m\u001b[23m    \u001b[3m\u001b[38;5;246m<int>\u001b[39m\u001b[23m          \u001b[3m\u001b[38;5;246m<int>\u001b[39m\u001b[23m     \u001b[3m\u001b[38;5;246m<dbl>\u001b[39m\u001b[23m    \u001b[3m\u001b[38;5;246m<int>\u001b[39m\u001b[23m          \u001b[3m\u001b[38;5;246m<int>\u001b[39m\u001b[23m     \u001b[3m\u001b[38;5;246m<dbl>\u001b[39m\u001b[23m \u001b[3m\u001b[38;5;246m<chr>\u001b[39m\u001b[23m    \u001b[3m\u001b[38;5;246m<int>\u001b[39m\u001b[23m\n",
       "\u001b[38;5;250m1\u001b[39m  \u001b[4m2\u001b[24m013     1     1      517            515         2      830            819        11 UA        \u001b[4m1\u001b[24m545\n",
       "\u001b[38;5;250m2\u001b[39m  \u001b[4m2\u001b[24m013     1     1      533            529         4      850            830        20 UA        \u001b[4m1\u001b[24m714\n",
       "\u001b[38;5;250m3\u001b[39m  \u001b[4m2\u001b[24m013     1     1      623            627        -\u001b[31m4\u001b[39m      933            932         1 UA         496\n",
       "\u001b[38;5;250m4\u001b[39m  \u001b[4m2\u001b[24m013     1     1      728            732        -\u001b[31m4\u001b[39m     \u001b[4m1\u001b[24m041           \u001b[4m1\u001b[24m038         3 UA         473\n",
       "\u001b[38;5;250m5\u001b[39m  \u001b[4m2\u001b[24m013     1     1      739            739         0     \u001b[4m1\u001b[24m104           \u001b[4m1\u001b[24m038        26 UA        \u001b[4m1\u001b[24m479\n",
       "\u001b[38;5;250m6\u001b[39m  \u001b[4m2\u001b[24m013     1     1      908            908         0     \u001b[4m1\u001b[24m228           \u001b[4m1\u001b[24m219         9 UA        \u001b[4m1\u001b[24m220\n",
       "\u001b[38;5;246m# ℹ 8 more variables: tailnum <chr>, origin <chr>, dest <chr>, air_time <dbl>, distance <dbl>,\u001b[39m\n",
       "\u001b[38;5;246m#   hour <dbl>, minute <dbl>, time_hour <dttm>\u001b[39m"
      ]
     },
     "execution_count": null,
     "metadata": {},
     "output_type": "execute_result"
    }
   ],
   "source": [
    "# 2. Flew to Houston (IAH or HOU)\n",
    "flights |>\n",
    "  filter(dest %in% c(\"IAH\", \"HOU\")) |> head()"
   ]
  },
  {
   "cell_type": "markdown",
   "metadata": {},
   "source": [
    "#### <font color =blue> Solution 1.3  </font>\n",
    "The flights that were operated by United, American, or Delta are those flights where the carrier (carrier) is either “UA”, “AA”, or “DL”."
   ]
  },
  {
   "cell_type": "code",
   "execution_count": 26,
   "metadata": {
    "vscode": {
     "languageId": "r"
    }
   },
   "outputs": [
    {
     "data": {
      "text/plain": [
       "\u001b[38;5;246m# A tibble: 6 × 19\u001b[39m\n",
       "   year month   day dep_time sched_dep_time dep_delay arr_time sched_arr_time arr_delay carrier flight\n",
       "  \u001b[3m\u001b[38;5;246m<int>\u001b[39m\u001b[23m \u001b[3m\u001b[38;5;246m<int>\u001b[39m\u001b[23m \u001b[3m\u001b[38;5;246m<int>\u001b[39m\u001b[23m    \u001b[3m\u001b[38;5;246m<int>\u001b[39m\u001b[23m          \u001b[3m\u001b[38;5;246m<int>\u001b[39m\u001b[23m     \u001b[3m\u001b[38;5;246m<dbl>\u001b[39m\u001b[23m    \u001b[3m\u001b[38;5;246m<int>\u001b[39m\u001b[23m          \u001b[3m\u001b[38;5;246m<int>\u001b[39m\u001b[23m     \u001b[3m\u001b[38;5;246m<dbl>\u001b[39m\u001b[23m \u001b[3m\u001b[38;5;246m<chr>\u001b[39m\u001b[23m    \u001b[3m\u001b[38;5;246m<int>\u001b[39m\u001b[23m\n",
       "\u001b[38;5;250m1\u001b[39m  \u001b[4m2\u001b[24m013     1     1      517            515         2      830            819        11 UA        \u001b[4m1\u001b[24m545\n",
       "\u001b[38;5;250m2\u001b[39m  \u001b[4m2\u001b[24m013     1     1      533            529         4      850            830        20 UA        \u001b[4m1\u001b[24m714\n",
       "\u001b[38;5;250m3\u001b[39m  \u001b[4m2\u001b[24m013     1     1      544            545        -\u001b[31m1\u001b[39m     \u001b[4m1\u001b[24m004           \u001b[4m1\u001b[24m022       -\u001b[31m18\u001b[39m B6         725\n",
       "\u001b[38;5;250m4\u001b[39m  \u001b[4m2\u001b[24m013     1     1      554            600        -\u001b[31m6\u001b[39m      812            837       -\u001b[31m25\u001b[39m DL         461\n",
       "\u001b[38;5;250m5\u001b[39m  \u001b[4m2\u001b[24m013     1     1      554            558        -\u001b[31m4\u001b[39m      740            728        12 UA        \u001b[4m1\u001b[24m696\n",
       "\u001b[38;5;250m6\u001b[39m  \u001b[4m2\u001b[24m013     1     1      555            600        -\u001b[31m5\u001b[39m      913            854        19 B6         507\n",
       "\u001b[38;5;246m# ℹ 8 more variables: tailnum <chr>, origin <chr>, dest <chr>, air_time <dbl>, distance <dbl>,\u001b[39m\n",
       "\u001b[38;5;246m#   hour <dbl>, minute <dbl>, time_hour <dttm>\u001b[39m"
      ]
     },
     "execution_count": null,
     "metadata": {},
     "output_type": "execute_result"
    }
   ],
   "source": [
    "# 3. Were operated by United, American, or Delta\n",
    "flights |> filter(carrier %in% c(\"UA\", \"DL\", \"B6\"))  |> head()"
   ]
  },
  {
   "cell_type": "markdown",
   "metadata": {},
   "source": [
    "#### <font color =blue> Solution 1.4  </font>\n",
    "The flights that departed in summer are those flights where the month (month) is either 7, 8, or 9."
   ]
  },
  {
   "cell_type": "code",
   "execution_count": 27,
   "metadata": {
    "vscode": {
     "languageId": "r"
    }
   },
   "outputs": [
    {
     "data": {
      "text/plain": [
       "\u001b[38;5;246m# A tibble: 6 × 19\u001b[39m\n",
       "   year month   day dep_time sched_dep_time dep_delay arr_time sched_arr_time arr_delay carrier flight\n",
       "  \u001b[3m\u001b[38;5;246m<int>\u001b[39m\u001b[23m \u001b[3m\u001b[38;5;246m<int>\u001b[39m\u001b[23m \u001b[3m\u001b[38;5;246m<int>\u001b[39m\u001b[23m    \u001b[3m\u001b[38;5;246m<int>\u001b[39m\u001b[23m          \u001b[3m\u001b[38;5;246m<int>\u001b[39m\u001b[23m     \u001b[3m\u001b[38;5;246m<dbl>\u001b[39m\u001b[23m    \u001b[3m\u001b[38;5;246m<int>\u001b[39m\u001b[23m          \u001b[3m\u001b[38;5;246m<int>\u001b[39m\u001b[23m     \u001b[3m\u001b[38;5;246m<dbl>\u001b[39m\u001b[23m \u001b[3m\u001b[38;5;246m<chr>\u001b[39m\u001b[23m    \u001b[3m\u001b[38;5;246m<int>\u001b[39m\u001b[23m\n",
       "\u001b[38;5;250m1\u001b[39m  \u001b[4m2\u001b[24m013     7     1        1           \u001b[4m2\u001b[24m029       212      236           \u001b[4m2\u001b[24m359       157 B6         915\n",
       "\u001b[38;5;250m2\u001b[39m  \u001b[4m2\u001b[24m013     7     1        2           \u001b[4m2\u001b[24m359         3      344            344         0 B6        \u001b[4m1\u001b[24m503\n",
       "\u001b[38;5;250m3\u001b[39m  \u001b[4m2\u001b[24m013     7     1       29           \u001b[4m2\u001b[24m245       104      151              1       110 B6         234\n",
       "\u001b[38;5;250m4\u001b[39m  \u001b[4m2\u001b[24m013     7     1       43           \u001b[4m2\u001b[24m130       193      322             14       188 B6        \u001b[4m1\u001b[24m371\n",
       "\u001b[38;5;250m5\u001b[39m  \u001b[4m2\u001b[24m013     7     1       44           \u001b[4m2\u001b[24m150       174      300            100       120 AA         185\n",
       "\u001b[38;5;250m6\u001b[39m  \u001b[4m2\u001b[24m013     7     1       46           \u001b[4m2\u001b[24m051       235      304           \u001b[4m2\u001b[24m358       186 B6         165\n",
       "\u001b[38;5;246m# ℹ 8 more variables: tailnum <chr>, origin <chr>, dest <chr>, air_time <dbl>, distance <dbl>,\u001b[39m\n",
       "\u001b[38;5;246m#   hour <dbl>, minute <dbl>, time_hour <dttm>\u001b[39m"
      ]
     },
     "execution_count": null,
     "metadata": {},
     "output_type": "execute_result"
    }
   ],
   "source": [
    "# 4. Departed in summer (July, August, and September)\n",
    "\n",
    "flights |>\n",
    "  filter(month %in% c(7:9)) |> head()"
   ]
  },
  {
   "cell_type": "markdown",
   "metadata": {},
   "source": [
    "#### <font color =blue> Solution 1.5  </font>\n",
    "The flights that arrived more than two hours late but didn’t leave late are those flights where the arrival delay (arr_delay) is greater than 120 minutes and the departure delay (dep_delay) is less than or equal to zero."
   ]
  },
  {
   "cell_type": "code",
   "execution_count": 28,
   "metadata": {
    "vscode": {
     "languageId": "r"
    }
   },
   "outputs": [
    {
     "data": {
      "text/plain": [
       "\u001b[38;5;246m# A tibble: 10 × 19\u001b[39m\n",
       "    year month   day dep_time sched_dep_time dep_delay arr_time sched_arr_time arr_delay carrier flight\n",
       "   \u001b[3m\u001b[38;5;246m<int>\u001b[39m\u001b[23m \u001b[3m\u001b[38;5;246m<int>\u001b[39m\u001b[23m \u001b[3m\u001b[38;5;246m<int>\u001b[39m\u001b[23m    \u001b[3m\u001b[38;5;246m<int>\u001b[39m\u001b[23m          \u001b[3m\u001b[38;5;246m<int>\u001b[39m\u001b[23m     \u001b[3m\u001b[38;5;246m<dbl>\u001b[39m\u001b[23m    \u001b[3m\u001b[38;5;246m<int>\u001b[39m\u001b[23m          \u001b[3m\u001b[38;5;246m<int>\u001b[39m\u001b[23m     \u001b[3m\u001b[38;5;246m<dbl>\u001b[39m\u001b[23m \u001b[3m\u001b[38;5;246m<chr>\u001b[39m\u001b[23m    \u001b[3m\u001b[38;5;246m<int>\u001b[39m\u001b[23m\n",
       "\u001b[38;5;250m 1\u001b[39m  \u001b[4m2\u001b[24m013     1    27     \u001b[4m1\u001b[24m419           \u001b[4m1\u001b[24m420        -\u001b[31m1\u001b[39m     \u001b[4m1\u001b[24m754           \u001b[4m1\u001b[24m550       124 MQ        \u001b[4m3\u001b[24m728\n",
       "\u001b[38;5;250m 2\u001b[39m  \u001b[4m2\u001b[24m013    10     7     \u001b[4m1\u001b[24m350           \u001b[4m1\u001b[24m350         0     \u001b[4m1\u001b[24m736           \u001b[4m1\u001b[24m526       130 EV        \u001b[4m5\u001b[24m181\n",
       "\u001b[38;5;250m 3\u001b[39m  \u001b[4m2\u001b[24m013    10     7     \u001b[4m1\u001b[24m357           \u001b[4m1\u001b[24m359        -\u001b[31m2\u001b[39m     \u001b[4m1\u001b[24m858           \u001b[4m1\u001b[24m654       124 AA        \u001b[4m1\u001b[24m151\n",
       "\u001b[38;5;250m 4\u001b[39m  \u001b[4m2\u001b[24m013    10    16      657            700        -\u001b[31m3\u001b[39m     \u001b[4m1\u001b[24m258           \u001b[4m1\u001b[24m056       122 B6           3\n",
       "\u001b[38;5;250m 5\u001b[39m  \u001b[4m2\u001b[24m013    11     1      658            700        -\u001b[31m2\u001b[39m     \u001b[4m1\u001b[24m329           \u001b[4m1\u001b[24m015       194 VX         399\n",
       "\u001b[38;5;250m 6\u001b[39m  \u001b[4m2\u001b[24m013     3    18     \u001b[4m1\u001b[24m844           \u001b[4m1\u001b[24m847        -\u001b[31m3\u001b[39m       39           \u001b[4m2\u001b[24m219       140 UA         389\n",
       "\u001b[38;5;250m 7\u001b[39m  \u001b[4m2\u001b[24m013     4    17     \u001b[4m1\u001b[24m635           \u001b[4m1\u001b[24m640        -\u001b[31m5\u001b[39m     \u001b[4m2\u001b[24m049           \u001b[4m1\u001b[24m845       124 MQ        \u001b[4m4\u001b[24m540\n",
       "\u001b[38;5;250m 8\u001b[39m  \u001b[4m2\u001b[24m013     4    18      558            600        -\u001b[31m2\u001b[39m     \u001b[4m1\u001b[24m149            850       179 AA         707\n",
       "\u001b[38;5;250m 9\u001b[39m  \u001b[4m2\u001b[24m013     4    18      655            700        -\u001b[31m5\u001b[39m     \u001b[4m1\u001b[24m213            950       143 AA        \u001b[4m2\u001b[24m083\n",
       "\u001b[38;5;250m10\u001b[39m  \u001b[4m2\u001b[24m013     5    22     \u001b[4m1\u001b[24m827           \u001b[4m1\u001b[24m830        -\u001b[31m3\u001b[39m     \u001b[4m2\u001b[24m217           \u001b[4m2\u001b[24m010       127 MQ        \u001b[4m4\u001b[24m674\n",
       "\u001b[38;5;246m# ℹ 8 more variables: tailnum <chr>, origin <chr>, dest <chr>, air_time <dbl>, distance <dbl>,\u001b[39m\n",
       "\u001b[38;5;246m#   hour <dbl>, minute <dbl>, time_hour <dttm>\u001b[39m"
      ]
     },
     "execution_count": null,
     "metadata": {},
     "output_type": "execute_result"
    }
   ],
   "source": [
    "# 5. Arrived more than two hours late, but didn’t leave late\n",
    "flights |>\n",
    "  filter(arr_delay > 120 & dep_delay <= 0) |> head(10)"
   ]
  },
  {
   "cell_type": "markdown",
   "metadata": {},
   "source": [
    "#### <font color =blue> Solution 1.6  </font>\n",
    "The flights that were delayed by at least an hour but made up over 30 minutes in flight are those flights where the departure delay (dep_delay) is greater than or equal to 60 minutes and the difference between the arrival delay (arr_delay) and the departure delay (dep_delay) is greater than 30 minutes."
   ]
  },
  {
   "cell_type": "code",
   "execution_count": 29,
   "metadata": {
    "vscode": {
     "languageId": "r"
    }
   },
   "outputs": [
    {
     "data": {
      "text/plain": [
       "\u001b[38;5;246m# A tibble: 6 × 19\u001b[39m\n",
       "   year month   day dep_time sched_dep_time dep_delay arr_time sched_arr_time arr_delay carrier flight\n",
       "  \u001b[3m\u001b[38;5;246m<int>\u001b[39m\u001b[23m \u001b[3m\u001b[38;5;246m<int>\u001b[39m\u001b[23m \u001b[3m\u001b[38;5;246m<int>\u001b[39m\u001b[23m    \u001b[3m\u001b[38;5;246m<int>\u001b[39m\u001b[23m          \u001b[3m\u001b[38;5;246m<int>\u001b[39m\u001b[23m     \u001b[3m\u001b[38;5;246m<dbl>\u001b[39m\u001b[23m    \u001b[3m\u001b[38;5;246m<int>\u001b[39m\u001b[23m          \u001b[3m\u001b[38;5;246m<int>\u001b[39m\u001b[23m     \u001b[3m\u001b[38;5;246m<dbl>\u001b[39m\u001b[23m \u001b[3m\u001b[38;5;246m<chr>\u001b[39m\u001b[23m    \u001b[3m\u001b[38;5;246m<int>\u001b[39m\u001b[23m\n",
       "\u001b[38;5;250m1\u001b[39m  \u001b[4m2\u001b[24m013     1     1      517            515         2      830            819        11 UA        \u001b[4m1\u001b[24m545\n",
       "\u001b[38;5;250m2\u001b[39m  \u001b[4m2\u001b[24m013     1     1      533            529         4      850            830        20 UA        \u001b[4m1\u001b[24m714\n",
       "\u001b[38;5;250m3\u001b[39m  \u001b[4m2\u001b[24m013     1     1      542            540         2      923            850        33 AA        \u001b[4m1\u001b[24m141\n",
       "\u001b[38;5;250m4\u001b[39m  \u001b[4m2\u001b[24m013     1     1      601            600         1      844            850        -\u001b[31m6\u001b[39m B6         343\n",
       "\u001b[38;5;250m5\u001b[39m  \u001b[4m2\u001b[24m013     1     1      608            600         8      807            735        32 MQ        \u001b[4m3\u001b[24m768\n",
       "\u001b[38;5;250m6\u001b[39m  \u001b[4m2\u001b[24m013     1     1      611            600        11      945            931        14 UA         303\n",
       "\u001b[38;5;246m# ℹ 8 more variables: tailnum <chr>, origin <chr>, dest <chr>, air_time <dbl>, distance <dbl>,\u001b[39m\n",
       "\u001b[38;5;246m#   hour <dbl>, minute <dbl>, time_hour <dttm>\u001b[39m"
      ]
     },
     "execution_count": null,
     "metadata": {},
     "output_type": "execute_result"
    }
   ],
   "source": [
    "# 6. Were delayed by at least an hour, but made up over 30 minutes in flight\n",
    "\n",
    "flights |>\n",
    "filter (dep_delay >=1 & air_time > 30 ) |>head()"
   ]
  },
  {
   "cell_type": "markdown",
   "metadata": {},
   "source": []
  },
  {
   "cell_type": "markdown",
   "metadata": {},
   "source": [
    "____"
   ]
  },
  {
   "cell_type": "markdown",
   "metadata": {},
   "source": [
    "_____"
   ]
  },
  {
   "cell_type": "markdown",
   "metadata": {},
   "source": [
    "#### <font color = red> Question 2  </font>\n",
    "Sort flights to find the flights with the longest departure delays. Find the flights that left earliest in the morning."
   ]
  },
  {
   "cell_type": "markdown",
   "metadata": {},
   "source": [
    "#### <font color =blue> Solution   </font>"
   ]
  },
  {
   "cell_type": "code",
   "execution_count": 30,
   "metadata": {
    "vscode": {
     "languageId": "r"
    }
   },
   "outputs": [
    {
     "data": {
      "text/plain": [
       "\u001b[38;5;246m# A tibble: 6 × 19\u001b[39m\n",
       "  dep_delay sched_dep_time  year month   day dep_time arr_time sched_arr_time arr_delay carrier flight\n",
       "      \u001b[3m\u001b[38;5;246m<dbl>\u001b[39m\u001b[23m          \u001b[3m\u001b[38;5;246m<int>\u001b[39m\u001b[23m \u001b[3m\u001b[38;5;246m<int>\u001b[39m\u001b[23m \u001b[3m\u001b[38;5;246m<int>\u001b[39m\u001b[23m \u001b[3m\u001b[38;5;246m<int>\u001b[39m\u001b[23m    \u001b[3m\u001b[38;5;246m<int>\u001b[39m\u001b[23m    \u001b[3m\u001b[38;5;246m<int>\u001b[39m\u001b[23m          \u001b[3m\u001b[38;5;246m<int>\u001b[39m\u001b[23m     \u001b[3m\u001b[38;5;246m<dbl>\u001b[39m\u001b[23m \u001b[3m\u001b[38;5;246m<chr>\u001b[39m\u001b[23m    \u001b[3m\u001b[38;5;246m<int>\u001b[39m\u001b[23m\n",
       "\u001b[38;5;250m1\u001b[39m        \u001b[31mNA\u001b[39m            106  \u001b[4m2\u001b[24m013     7    27       \u001b[31mNA\u001b[39m       \u001b[31mNA\u001b[39m            245        \u001b[31mNA\u001b[39m US        \u001b[4m1\u001b[24m632\n",
       "\u001b[38;5;250m2\u001b[39m       188            500  \u001b[4m2\u001b[24m013     4    24      808     \u001b[4m1\u001b[24m008            640       208 US        \u001b[4m1\u001b[24m431\n",
       "\u001b[38;5;250m3\u001b[39m        61            500  \u001b[4m2\u001b[24m013     9    13      601      732            648        44 US        \u001b[4m1\u001b[24m877\n",
       "\u001b[38;5;250m4\u001b[39m        47            500  \u001b[4m2\u001b[24m013     3     9      547      733            648        45 US        \u001b[4m1\u001b[24m843\n",
       "\u001b[38;5;250m5\u001b[39m        44            500  \u001b[4m2\u001b[24m013     6     8      544      727            640        47 US        \u001b[4m1\u001b[24m431\n",
       "\u001b[38;5;250m6\u001b[39m        29            500  \u001b[4m2\u001b[24m013     4    17      529      704            640        24 US        \u001b[4m1\u001b[24m431\n",
       "\u001b[38;5;246m# ℹ 8 more variables: tailnum <chr>, origin <chr>, dest <chr>, air_time <dbl>, distance <dbl>,\u001b[39m\n",
       "\u001b[38;5;246m#   hour <dbl>, minute <dbl>, time_hour <dttm>\u001b[39m"
      ]
     },
     "execution_count": null,
     "metadata": {},
     "output_type": "execute_result"
    }
   ],
   "source": [
    "# Sort flights to find the flights with the longest departure delays\n",
    "flights |>\n",
    "  arrange(desc(dep_delay)) |>\n",
    "  arrange(sched_dep_time) |>\n",
    "  relocate(dep_delay, sched_dep_time)  |> head()"
   ]
  },
  {
   "cell_type": "markdown",
   "metadata": {},
   "source": [
    "_____"
   ]
  },
  {
   "cell_type": "markdown",
   "metadata": {},
   "source": [
    "#### <font color = red> Question 3  </font>\n",
    "Sort flights to find the fastest flights. (Hint: Try including a math calculation inside of your function.)\n",
    "\n",
    "#### <font color =blue> Solution   </font>"
   ]
  },
  {
   "cell_type": "code",
   "execution_count": 31,
   "metadata": {
    "vscode": {
     "languageId": "r"
    }
   },
   "outputs": [
    {
     "data": {
      "text/plain": [
       "\u001b[38;5;246m# A tibble: 6 × 19\u001b[39m\n",
       "   year month   day dep_time sched_dep_time dep_delay arr_time sched_arr_time arr_delay carrier flight\n",
       "  \u001b[3m\u001b[38;5;246m<int>\u001b[39m\u001b[23m \u001b[3m\u001b[38;5;246m<int>\u001b[39m\u001b[23m \u001b[3m\u001b[38;5;246m<int>\u001b[39m\u001b[23m    \u001b[3m\u001b[38;5;246m<int>\u001b[39m\u001b[23m          \u001b[3m\u001b[38;5;246m<int>\u001b[39m\u001b[23m     \u001b[3m\u001b[38;5;246m<dbl>\u001b[39m\u001b[23m    \u001b[3m\u001b[38;5;246m<int>\u001b[39m\u001b[23m          \u001b[3m\u001b[38;5;246m<int>\u001b[39m\u001b[23m     \u001b[3m\u001b[38;5;246m<dbl>\u001b[39m\u001b[23m \u001b[3m\u001b[38;5;246m<chr>\u001b[39m\u001b[23m    \u001b[3m\u001b[38;5;246m<int>\u001b[39m\u001b[23m\n",
       "\u001b[38;5;250m1\u001b[39m  \u001b[4m2\u001b[24m013     5    25     \u001b[4m1\u001b[24m709           \u001b[4m1\u001b[24m700         9     \u001b[4m1\u001b[24m923           \u001b[4m1\u001b[24m937       -\u001b[31m14\u001b[39m DL        \u001b[4m1\u001b[24m499\n",
       "\u001b[38;5;250m2\u001b[39m  \u001b[4m2\u001b[24m013     7     2     \u001b[4m1\u001b[24m558           \u001b[4m1\u001b[24m513        45     \u001b[4m1\u001b[24m745           \u001b[4m1\u001b[24m719        26 EV        \u001b[4m4\u001b[24m667\n",
       "\u001b[38;5;250m3\u001b[39m  \u001b[4m2\u001b[24m013     5    13     \u001b[4m2\u001b[24m040           \u001b[4m2\u001b[24m025        15     \u001b[4m2\u001b[24m225           \u001b[4m2\u001b[24m226        -\u001b[31m1\u001b[39m EV        \u001b[4m4\u001b[24m292\n",
       "\u001b[38;5;250m4\u001b[39m  \u001b[4m2\u001b[24m013     3    23     \u001b[4m1\u001b[24m914           \u001b[4m1\u001b[24m910         4     \u001b[4m2\u001b[24m045           \u001b[4m2\u001b[24m043         2 EV        \u001b[4m3\u001b[24m805\n",
       "\u001b[38;5;250m5\u001b[39m  \u001b[4m2\u001b[24m013     1    12     \u001b[4m1\u001b[24m559           \u001b[4m1\u001b[24m600        -\u001b[31m1\u001b[39m     \u001b[4m1\u001b[24m849           \u001b[4m1\u001b[24m917       -\u001b[31m28\u001b[39m DL        \u001b[4m1\u001b[24m902\n",
       "\u001b[38;5;250m6\u001b[39m  \u001b[4m2\u001b[24m013    11    17      650            655        -\u001b[31m5\u001b[39m     \u001b[4m1\u001b[24m059           \u001b[4m1\u001b[24m150       -\u001b[31m51\u001b[39m DL         315\n",
       "\u001b[38;5;246m# ℹ 8 more variables: tailnum <chr>, origin <chr>, dest <chr>, air_time <dbl>, distance <dbl>,\u001b[39m\n",
       "\u001b[38;5;246m#   hour <dbl>, minute <dbl>, time_hour <dttm>\u001b[39m"
      ]
     },
     "execution_count": null,
     "metadata": {},
     "output_type": "execute_result"
    }
   ],
   "source": [
    "# Sort the flights by speed (distance / air_time) without using mutate\n",
    "fastest_flights <- flights  |>\n",
    "  arrange(desc(distance / air_time))\n",
    "\n",
    "# Display the sorted flights\n",
    "head(fastest_flights)"
   ]
  },
  {
   "cell_type": "markdown",
   "metadata": {
    "vscode": {
     "languageId": "r"
    }
   },
   "source": [
    "#### <font color = red> Question 4  </font>\n",
    "Was there a flight on every day of 2013?\n",
    "\n",
    "#### <font color =blue> Solution   </font>"
   ]
  },
  {
   "cell_type": "code",
   "execution_count": 32,
   "metadata": {
    "vscode": {
     "languageId": "r"
    }
   },
   "outputs": [
    {
     "data": {
      "text/plain": [
       "\u001b[38;5;246m# A tibble: 5 × 19\u001b[39m\n",
       "   year month   day dep_time sched_dep_time dep_delay arr_time sched_arr_time arr_delay carrier flight\n",
       "  \u001b[3m\u001b[38;5;246m<int>\u001b[39m\u001b[23m \u001b[3m\u001b[38;5;246m<int>\u001b[39m\u001b[23m \u001b[3m\u001b[38;5;246m<int>\u001b[39m\u001b[23m    \u001b[3m\u001b[38;5;246m<int>\u001b[39m\u001b[23m          \u001b[3m\u001b[38;5;246m<int>\u001b[39m\u001b[23m     \u001b[3m\u001b[38;5;246m<dbl>\u001b[39m\u001b[23m    \u001b[3m\u001b[38;5;246m<int>\u001b[39m\u001b[23m          \u001b[3m\u001b[38;5;246m<int>\u001b[39m\u001b[23m     \u001b[3m\u001b[38;5;246m<dbl>\u001b[39m\u001b[23m \u001b[3m\u001b[38;5;246m<chr>\u001b[39m\u001b[23m    \u001b[3m\u001b[38;5;246m<int>\u001b[39m\u001b[23m\n",
       "\u001b[38;5;250m1\u001b[39m  \u001b[4m2\u001b[24m013     1     1      517            515         2      830            819        11 UA        \u001b[4m1\u001b[24m545\n",
       "\u001b[38;5;250m2\u001b[39m  \u001b[4m2\u001b[24m013     1     1      533            529         4      850            830        20 UA        \u001b[4m1\u001b[24m714\n",
       "\u001b[38;5;250m3\u001b[39m  \u001b[4m2\u001b[24m013     1     1      542            540         2      923            850        33 AA        \u001b[4m1\u001b[24m141\n",
       "\u001b[38;5;250m4\u001b[39m  \u001b[4m2\u001b[24m013     1     1      544            545        -\u001b[31m1\u001b[39m     \u001b[4m1\u001b[24m004           \u001b[4m1\u001b[24m022       -\u001b[31m18\u001b[39m B6         725\n",
       "\u001b[38;5;250m5\u001b[39m  \u001b[4m2\u001b[24m013     1     1      554            600        -\u001b[31m6\u001b[39m      812            837       -\u001b[31m25\u001b[39m DL         461\n",
       "\u001b[38;5;246m# ℹ 8 more variables: tailnum <chr>, origin <chr>, dest <chr>, air_time <dbl>, distance <dbl>,\u001b[39m\n",
       "\u001b[38;5;246m#   hour <dbl>, minute <dbl>, time_hour <dttm>\u001b[39m"
      ]
     },
     "execution_count": null,
     "metadata": {},
     "output_type": "execute_result"
    }
   ],
   "source": [
    "# arrange the data base on year, month, ..\n",
    "flights |>\n",
    "  filter(year == 2013) |>\n",
    "  arrange(month, day)  |> head(5)"
   ]
  },
  {
   "cell_type": "markdown",
   "metadata": {},
   "source": [
    "#### <font color = red> Question 5  </font>\n",
    "Which flights traveled the farthest distance? Which traveled the least distance?\n",
    "\n",
    "#### <font color =blue> Solution   </font>"
   ]
  },
  {
   "cell_type": "code",
   "execution_count": 33,
   "metadata": {
    "vscode": {
     "languageId": "r"
    }
   },
   "outputs": [
    {
     "data": {
      "text/plain": [
       "NULL"
      ]
     },
     "execution_count": null,
     "metadata": {},
     "output_type": "execute_result"
    }
   ],
   "source": [
    "{}"
   ]
  },
  {
   "cell_type": "markdown",
   "metadata": {},
   "source": [
    "#### <font color = red> Question 6  </font>\n",
    "Does it matter what order you used filter() and arrange() if you’re using both? Why/why not? Think about the results and how much work the functions would have to do.\n",
    "\n",
    "#### <font color =blue> Solution   </font>"
   ]
  },
  {
   "cell_type": "code",
   "execution_count": 34,
   "metadata": {
    "vscode": {
     "languageId": "r"
    }
   },
   "outputs": [
    {
     "data": {
      "text/plain": [
       "NULL"
      ]
     },
     "execution_count": null,
     "metadata": {},
     "output_type": "execute_result"
    }
   ],
   "source": [
    "{}"
   ]
  },
  {
   "cell_type": "markdown",
   "metadata": {},
   "source": [
    "### 3.3 Using Columns Function in dplyr’s\n",
    "____"
   ]
  },
  {
   "cell_type": "code",
   "execution_count": 35,
   "metadata": {
    "vscode": {
     "languageId": "r"
    }
   },
   "outputs": [
    {
     "name": "stdout",
     "output_type": "stream",
     "text": [
      "Rows: 336,776\n",
      "Columns: 19\n",
      "$ year           \u001b[3m\u001b[38;5;246m<int>\u001b[39m\u001b[23m 2013, 2013, 2013, 2013, 2013, 2013, 2013, 2013, 2013, 2013, 2013, 2013, 2013, 2…\n",
      "$ month          \u001b[3m\u001b[38;5;246m<int>\u001b[39m\u001b[23m 1, 1, 1, 1, 1, 1, 1, 1, 1, 1, 1, 1, 1, 1, 1, 1, 1, 1, 1, 1, 1, 1, 1, 1, 1, 1, 1…\n",
      "$ day            \u001b[3m\u001b[38;5;246m<int>\u001b[39m\u001b[23m 1, 1, 1, 1, 1, 1, 1, 1, 1, 1, 1, 1, 1, 1, 1, 1, 1, 1, 1, 1, 1, 1, 1, 1, 1, 1, 1…\n",
      "$ dep_time       \u001b[3m\u001b[38;5;246m<int>\u001b[39m\u001b[23m 517, 533, 542, 544, 554, 554, 555, 557, 557, 558, 558, 558, 558, 558, 559, 559,…\n",
      "$ sched_dep_time \u001b[3m\u001b[38;5;246m<int>\u001b[39m\u001b[23m 515, 529, 540, 545, 600, 558, 600, 600, 600, 600, 600, 600, 600, 600, 600, 559,…\n",
      "$ dep_delay      \u001b[3m\u001b[38;5;246m<dbl>\u001b[39m\u001b[23m 2, 4, 2, -1, -6, -4, -5, -3, -3, -2, -2, -2, -2, -2, -1, 0, -1, 0, 0, 1, -8, -3…\n",
      "$ arr_time       \u001b[3m\u001b[38;5;246m<int>\u001b[39m\u001b[23m 830, 850, 923, 1004, 812, 740, 913, 709, 838, 753, 849, 853, 924, 923, 941, 702…\n",
      "$ sched_arr_time \u001b[3m\u001b[38;5;246m<int>\u001b[39m\u001b[23m 819, 830, 850, 1022, 837, 728, 854, 723, 846, 745, 851, 856, 917, 937, 910, 706…\n",
      "$ arr_delay      \u001b[3m\u001b[38;5;246m<dbl>\u001b[39m\u001b[23m 11, 20, 33, -18, -25, 12, 19, -14, -8, 8, -2, -3, 7, -14, 31, -4, -8, -7, 12, -…\n",
      "$ carrier        \u001b[3m\u001b[38;5;246m<chr>\u001b[39m\u001b[23m \"UA\", \"UA\", \"AA\", \"B6\", \"DL\", \"UA\", \"B6\", \"EV\", \"B6\", \"AA\", \"B6\", \"B6\", \"UA\", \"…\n",
      "$ flight         \u001b[3m\u001b[38;5;246m<int>\u001b[39m\u001b[23m 1545, 1714, 1141, 725, 461, 1696, 507, 5708, 79, 301, 49, 71, 194, 1124, 707, 1…\n",
      "$ tailnum        \u001b[3m\u001b[38;5;246m<chr>\u001b[39m\u001b[23m \"N14228\", \"N24211\", \"N619AA\", \"N804JB\", \"N668DN\", \"N39463\", \"N516JB\", \"N829AS\",…\n",
      "$ origin         \u001b[3m\u001b[38;5;246m<chr>\u001b[39m\u001b[23m \"EWR\", \"LGA\", \"JFK\", \"JFK\", \"LGA\", \"EWR\", \"EWR\", \"LGA\", \"JFK\", \"LGA\", \"JFK\", \"J…\n",
      "$ dest           \u001b[3m\u001b[38;5;246m<chr>\u001b[39m\u001b[23m \"IAH\", \"IAH\", \"MIA\", \"BQN\", \"ATL\", \"ORD\", \"FLL\", \"IAD\", \"MCO\", \"ORD\", \"PBI\", \"T…\n",
      "$ air_time       \u001b[3m\u001b[38;5;246m<dbl>\u001b[39m\u001b[23m 227, 227, 160, 183, 116, 150, 158, 53, 140, 138, 149, 158, 345, 361, 257, 44, 3…\n",
      "$ distance       \u001b[3m\u001b[38;5;246m<dbl>\u001b[39m\u001b[23m 1400, 1416, 1089, 1576, 762, 719, 1065, 229, 944, 733, 1028, 1005, 2475, 2565, …\n",
      "$ hour           \u001b[3m\u001b[38;5;246m<dbl>\u001b[39m\u001b[23m 5, 5, 5, 5, 6, 5, 6, 6, 6, 6, 6, 6, 6, 6, 6, 5, 6, 6, 6, 6, 6, 6, 6, 6, 6, 6, 6…\n",
      "$ minute         \u001b[3m\u001b[38;5;246m<dbl>\u001b[39m\u001b[23m 15, 29, 40, 45, 0, 58, 0, 0, 0, 0, 0, 0, 0, 0, 0, 59, 0, 0, 0, 0, 10, 5, 10, 10…\n",
      "$ time_hour      \u001b[3m\u001b[38;5;246m<dttm>\u001b[39m\u001b[23m 2013-01-01 05:00:00, 2013-01-01 05:00:00, 2013-01-01 05:00:00, 2013-01-01 05:0…\n",
      "Rows: 336,776\n",
      "Columns: 19\n",
      "$ year           \u001b[3m\u001b[38;5;246m<int>\u001b[39m\u001b[23m 2013, 2013, 2013, 2013, 2013, 2013, 2013, 2013, 2013, 2013, 2013, 2013, 2013, 2…\n",
      "$ month          \u001b[3m\u001b[38;5;246m<int>\u001b[39m\u001b[23m 1, 1, 1, 1, 1, 1, 1, 1, 1, 1, 1, 1, 1, 1, 1, 1, 1, 1, 1, 1, 1, 1, 1, 1, 1, 1, 1…\n",
      "$ day            \u001b[3m\u001b[38;5;246m<int>\u001b[39m\u001b[23m 1, 1, 1, 1, 1, 1, 1, 1, 1, 1, 1, 1, 1, 1, 1, 1, 1, 1, 1, 1, 1, 1, 1, 1, 1, 1, 1…\n",
      "$ dep_time       \u001b[3m\u001b[38;5;246m<int>\u001b[39m\u001b[23m 517, 533, 542, 544, 554, 554, 555, 557, 557, 558, 558, 558, 558, 558, 559, 559,…\n",
      "$ sched_dep_time \u001b[3m\u001b[38;5;246m<int>\u001b[39m\u001b[23m 515, 529, 540, 545, 600, 558, 600, 600, 600, 600, 600, 600, 600, 600, 600, 559,…\n",
      "$ dep_delay      \u001b[3m\u001b[38;5;246m<dbl>\u001b[39m\u001b[23m 2, 4, 2, -1, -6, -4, -5, -3, -3, -2, -2, -2, -2, -2, -1, 0, -1, 0, 0, 1, -8, -3…\n",
      "$ arr_time       \u001b[3m\u001b[38;5;246m<int>\u001b[39m\u001b[23m 830, 850, 923, 1004, 812, 740, 913, 709, 838, 753, 849, 853, 924, 923, 941, 702…\n",
      "$ sched_arr_time \u001b[3m\u001b[38;5;246m<int>\u001b[39m\u001b[23m 819, 830, 850, 1022, 837, 728, 854, 723, 846, 745, 851, 856, 917, 937, 910, 706…\n",
      "$ arr_delay      \u001b[3m\u001b[38;5;246m<dbl>\u001b[39m\u001b[23m 11, 20, 33, -18, -25, 12, 19, -14, -8, 8, -2, -3, 7, -14, 31, -4, -8, -7, 12, -…\n",
      "$ carrier        \u001b[3m\u001b[38;5;246m<chr>\u001b[39m\u001b[23m \"UA\", \"UA\", \"AA\", \"B6\", \"DL\", \"UA\", \"B6\", \"EV\", \"B6\", \"AA\", \"B6\", \"B6\", \"UA\", \"…\n",
      "$ flight         \u001b[3m\u001b[38;5;246m<int>\u001b[39m\u001b[23m 1545, 1714, 1141, 725, 461, 1696, 507, 5708, 79, 301, 49, 71, 194, 1124, 707, 1…\n",
      "$ tailnum        \u001b[3m\u001b[38;5;246m<chr>\u001b[39m\u001b[23m \"N14228\", \"N24211\", \"N619AA\", \"N804JB\", \"N668DN\", \"N39463\", \"N516JB\", \"N829AS\",…\n",
      "$ origin         \u001b[3m\u001b[38;5;246m<chr>\u001b[39m\u001b[23m \"EWR\", \"LGA\", \"JFK\", \"JFK\", \"LGA\", \"EWR\", \"EWR\", \"LGA\", \"JFK\", \"LGA\", \"JFK\", \"J…\n",
      "$ dest           \u001b[3m\u001b[38;5;246m<chr>\u001b[39m\u001b[23m \"IAH\", \"IAH\", \"MIA\", \"BQN\", \"ATL\", \"ORD\", \"FLL\", \"IAD\", \"MCO\", \"ORD\", \"PBI\", \"T…\n",
      "$ air_time       \u001b[3m\u001b[38;5;246m<dbl>\u001b[39m\u001b[23m 227, 227, 160, 183, 116, 150, 158, 53, 140, 138, 149, 158, 345, 361, 257, 44, 3…\n",
      "$ distance       \u001b[3m\u001b[38;5;246m<dbl>\u001b[39m\u001b[23m 1400, 1416, 1089, 1576, 762, 719, 1065, 229, 944, 733, 1028, 1005, 2475, 2565, …\n",
      "$ hour           \u001b[3m\u001b[38;5;246m<dbl>\u001b[39m\u001b[23m 5, 5, 5, 5, 6, 5, 6, 6, 6, 6, 6, 6, 6, 6, 6, 5, 6, 6, 6, 6, 6, 6, 6, 6, 6, 6, 6…\n",
      "$ minute         \u001b[3m\u001b[38;5;246m<dbl>\u001b[39m\u001b[23m 15, 29, 40, 45, 0, 58, 0, 0, 0, 0, 0, 0, 0, 0, 0, 59, 0, 0, 0, 0, 10, 5, 10, 10…\n",
      "$ time_hour      \u001b[3m\u001b[38;5;246m<dttm>\u001b[39m\u001b[23m 2013-01-01 05:00:00, 2013-01-01 05:00:00, 2013-01-01 05:00:00, 2013-01-01 05:0…\n"
     ]
    }
   ],
   "source": [
    "glimpse(flights)"
   ]
  },
  {
   "cell_type": "markdown",
   "metadata": {},
   "source": [
    "#### `Mutate()` function\n",
    "____"
   ]
  },
  {
   "cell_type": "code",
   "execution_count": 36,
   "metadata": {
    "vscode": {
     "languageId": "r"
    }
   },
   "outputs": [
    {
     "data": {
      "text/plain": [
       "\u001b[38;5;246m# A tibble: 6 × 21\u001b[39m\n",
       "   year month   day dep_time sched_dep_time dep_delay arr_time sched_arr_time arr_delay carrier flight\n",
       "  \u001b[3m\u001b[38;5;246m<int>\u001b[39m\u001b[23m \u001b[3m\u001b[38;5;246m<int>\u001b[39m\u001b[23m \u001b[3m\u001b[38;5;246m<int>\u001b[39m\u001b[23m    \u001b[3m\u001b[38;5;246m<int>\u001b[39m\u001b[23m          \u001b[3m\u001b[38;5;246m<int>\u001b[39m\u001b[23m     \u001b[3m\u001b[38;5;246m<dbl>\u001b[39m\u001b[23m    \u001b[3m\u001b[38;5;246m<int>\u001b[39m\u001b[23m          \u001b[3m\u001b[38;5;246m<int>\u001b[39m\u001b[23m     \u001b[3m\u001b[38;5;246m<dbl>\u001b[39m\u001b[23m \u001b[3m\u001b[38;5;246m<chr>\u001b[39m\u001b[23m    \u001b[3m\u001b[38;5;246m<int>\u001b[39m\u001b[23m\n",
       "\u001b[38;5;250m1\u001b[39m  \u001b[4m2\u001b[24m013     1     1      517            515         2      830            819        11 UA        \u001b[4m1\u001b[24m545\n",
       "\u001b[38;5;250m2\u001b[39m  \u001b[4m2\u001b[24m013     1     1      533            529         4      850            830        20 UA        \u001b[4m1\u001b[24m714\n",
       "\u001b[38;5;250m3\u001b[39m  \u001b[4m2\u001b[24m013     1     1      542            540         2      923            850        33 AA        \u001b[4m1\u001b[24m141\n",
       "\u001b[38;5;250m4\u001b[39m  \u001b[4m2\u001b[24m013     1     1      544            545        -\u001b[31m1\u001b[39m     \u001b[4m1\u001b[24m004           \u001b[4m1\u001b[24m022       -\u001b[31m18\u001b[39m B6         725\n",
       "\u001b[38;5;250m5\u001b[39m  \u001b[4m2\u001b[24m013     1     1      554            600        -\u001b[31m6\u001b[39m      812            837       -\u001b[31m25\u001b[39m DL         461\n",
       "\u001b[38;5;250m6\u001b[39m  \u001b[4m2\u001b[24m013     1     1      554            558        -\u001b[31m4\u001b[39m      740            728        12 UA        \u001b[4m1\u001b[24m696\n",
       "\u001b[38;5;246m# ℹ 10 more variables: tailnum <chr>, origin <chr>, dest <chr>, air_time <dbl>, distance <dbl>,\u001b[39m\n",
       "\u001b[38;5;246m#   hour <dbl>, minute <dbl>, time_hour <dttm>, gain <dbl>, speed <dbl>\u001b[39m"
      ]
     },
     "execution_count": null,
     "metadata": {},
     "output_type": "execute_result"
    }
   ],
   "source": [
    "flights |>\n",
    "  mutate(\n",
    "    gain = dep_delay - arr_delay,\n",
    "    speed = distance / air_time * 60\n",
    "  )|>head()"
   ]
  },
  {
   "cell_type": "code",
   "execution_count": 37,
   "metadata": {
    "vscode": {
     "languageId": "r"
    }
   },
   "outputs": [
    {
     "data": {
      "text/plain": [
       "\u001b[38;5;246m# A tibble: 6 × 21\u001b[39m\n",
       "   gain speed  year month   day dep_time sched_dep_time dep_delay arr_time sched_arr_time arr_delay\n",
       "  \u001b[3m\u001b[38;5;246m<dbl>\u001b[39m\u001b[23m \u001b[3m\u001b[38;5;246m<dbl>\u001b[39m\u001b[23m \u001b[3m\u001b[38;5;246m<int>\u001b[39m\u001b[23m \u001b[3m\u001b[38;5;246m<int>\u001b[39m\u001b[23m \u001b[3m\u001b[38;5;246m<int>\u001b[39m\u001b[23m    \u001b[3m\u001b[38;5;246m<int>\u001b[39m\u001b[23m          \u001b[3m\u001b[38;5;246m<int>\u001b[39m\u001b[23m     \u001b[3m\u001b[38;5;246m<dbl>\u001b[39m\u001b[23m    \u001b[3m\u001b[38;5;246m<int>\u001b[39m\u001b[23m          \u001b[3m\u001b[38;5;246m<int>\u001b[39m\u001b[23m     \u001b[3m\u001b[38;5;246m<dbl>\u001b[39m\u001b[23m\n",
       "\u001b[38;5;250m1\u001b[39m    -\u001b[31m9\u001b[39m  370.  \u001b[4m2\u001b[24m013     1     1      517            515         2      830            819        11\n",
       "\u001b[38;5;250m2\u001b[39m   -\u001b[31m16\u001b[39m  374.  \u001b[4m2\u001b[24m013     1     1      533            529         4      850            830        20\n",
       "\u001b[38;5;250m3\u001b[39m   -\u001b[31m31\u001b[39m  408.  \u001b[4m2\u001b[24m013     1     1      542            540         2      923            850        33\n",
       "\u001b[38;5;250m4\u001b[39m    17  517.  \u001b[4m2\u001b[24m013     1     1      544            545        -\u001b[31m1\u001b[39m     \u001b[4m1\u001b[24m004           \u001b[4m1\u001b[24m022       -\u001b[31m18\u001b[39m\n",
       "\u001b[38;5;250m5\u001b[39m    19  394.  \u001b[4m2\u001b[24m013     1     1      554            600        -\u001b[31m6\u001b[39m      812            837       -\u001b[31m25\u001b[39m\n",
       "\u001b[38;5;250m6\u001b[39m   -\u001b[31m16\u001b[39m  288.  \u001b[4m2\u001b[24m013     1     1      554            558        -\u001b[31m4\u001b[39m      740            728        12\n",
       "\u001b[38;5;246m# ℹ 10 more variables: carrier <chr>, flight <int>, tailnum <chr>, origin <chr>, dest <chr>,\u001b[39m\n",
       "\u001b[38;5;246m#   air_time <dbl>, distance <dbl>, hour <dbl>, minute <dbl>, time_hour <dttm>\u001b[39m"
      ]
     },
     "execution_count": null,
     "metadata": {},
     "output_type": "execute_result"
    }
   ],
   "source": [
    "flights |>\n",
    "  mutate(\n",
    "    gain = dep_delay - arr_delay,\n",
    "    speed = distance / air_time * 60,\n",
    "    .before = 1\n",
    "  ) |> head()\n"
   ]
  },
  {
   "cell_type": "code",
   "execution_count": 38,
   "metadata": {
    "vscode": {
     "languageId": "r"
    }
   },
   "outputs": [
    {
     "data": {
      "text/plain": [
       "\u001b[38;5;246m# A tibble: 6 × 21\u001b[39m\n",
       "   year month   day dep_time sched_dep_time dep_delay arr_time sched_arr_time arr_delay carrier flight\n",
       "  \u001b[3m\u001b[38;5;246m<int>\u001b[39m\u001b[23m \u001b[3m\u001b[38;5;246m<int>\u001b[39m\u001b[23m \u001b[3m\u001b[38;5;246m<int>\u001b[39m\u001b[23m    \u001b[3m\u001b[38;5;246m<int>\u001b[39m\u001b[23m          \u001b[3m\u001b[38;5;246m<int>\u001b[39m\u001b[23m     \u001b[3m\u001b[38;5;246m<dbl>\u001b[39m\u001b[23m    \u001b[3m\u001b[38;5;246m<int>\u001b[39m\u001b[23m          \u001b[3m\u001b[38;5;246m<int>\u001b[39m\u001b[23m     \u001b[3m\u001b[38;5;246m<dbl>\u001b[39m\u001b[23m \u001b[3m\u001b[38;5;246m<chr>\u001b[39m\u001b[23m    \u001b[3m\u001b[38;5;246m<int>\u001b[39m\u001b[23m\n",
       "\u001b[38;5;250m1\u001b[39m  \u001b[4m2\u001b[24m013     1     1      517            515         2      830            819        11 UA        \u001b[4m1\u001b[24m545\n",
       "\u001b[38;5;250m2\u001b[39m  \u001b[4m2\u001b[24m013     1     1      533            529         4      850            830        20 UA        \u001b[4m1\u001b[24m714\n",
       "\u001b[38;5;250m3\u001b[39m  \u001b[4m2\u001b[24m013     1     1      542            540         2      923            850        33 AA        \u001b[4m1\u001b[24m141\n",
       "\u001b[38;5;250m4\u001b[39m  \u001b[4m2\u001b[24m013     1     1      544            545        -\u001b[31m1\u001b[39m     \u001b[4m1\u001b[24m004           \u001b[4m1\u001b[24m022       -\u001b[31m18\u001b[39m B6         725\n",
       "\u001b[38;5;250m5\u001b[39m  \u001b[4m2\u001b[24m013     1     1      554            600        -\u001b[31m6\u001b[39m      812            837       -\u001b[31m25\u001b[39m DL         461\n",
       "\u001b[38;5;250m6\u001b[39m  \u001b[4m2\u001b[24m013     1     1      554            558        -\u001b[31m4\u001b[39m      740            728        12 UA        \u001b[4m1\u001b[24m696\n",
       "\u001b[38;5;246m# ℹ 10 more variables: tailnum <chr>, origin <chr>, dest <chr>, air_time <dbl>, distance <dbl>,\u001b[39m\n",
       "\u001b[38;5;246m#   hour <dbl>, minute <dbl>, time_hour <dttm>, double <dbl>, speed_double <dbl>\u001b[39m"
      ]
     },
     "execution_count": null,
     "metadata": {},
     "output_type": "execute_result"
    }
   ],
   "source": [
    "flights |>\n",
    "    mutate(\n",
    "        double = dep_delay*2,\n",
    "        speed_double = distance * 60\n",
    "    ) |> head()"
   ]
  },
  {
   "cell_type": "code",
   "execution_count": 39,
   "metadata": {
    "vscode": {
     "languageId": "r"
    }
   },
   "outputs": [
    {
     "data": {
      "text/plain": [
       "\u001b[38;5;246m# A tibble: 6 × 6\u001b[39m\n",
       "  dep_delay arr_delay air_time  gain hours gain_per_hour\n",
       "      \u001b[3m\u001b[38;5;246m<dbl>\u001b[39m\u001b[23m     \u001b[3m\u001b[38;5;246m<dbl>\u001b[39m\u001b[23m    \u001b[3m\u001b[38;5;246m<dbl>\u001b[39m\u001b[23m \u001b[3m\u001b[38;5;246m<dbl>\u001b[39m\u001b[23m \u001b[3m\u001b[38;5;246m<dbl>\u001b[39m\u001b[23m         \u001b[3m\u001b[38;5;246m<dbl>\u001b[39m\u001b[23m\n",
       "\u001b[38;5;250m1\u001b[39m         2        11      227    -\u001b[31m9\u001b[39m  3.78         -\u001b[31m2\u001b[39m\u001b[31m.\u001b[39m\u001b[31m38\u001b[39m\n",
       "\u001b[38;5;250m2\u001b[39m         4        20      227   -\u001b[31m16\u001b[39m  3.78         -\u001b[31m4\u001b[39m\u001b[31m.\u001b[39m\u001b[31m23\u001b[39m\n",
       "\u001b[38;5;250m3\u001b[39m         2        33      160   -\u001b[31m31\u001b[39m  2.67        -\u001b[31m11\u001b[39m\u001b[31m.\u001b[39m\u001b[31m6\u001b[39m \n",
       "\u001b[38;5;250m4\u001b[39m        -\u001b[31m1\u001b[39m       -\u001b[31m18\u001b[39m      183    17  3.05          5.57\n",
       "\u001b[38;5;250m5\u001b[39m        -\u001b[31m6\u001b[39m       -\u001b[31m25\u001b[39m      116    19  1.93          9.83\n",
       "\u001b[38;5;250m6\u001b[39m        -\u001b[31m4\u001b[39m        12      150   -\u001b[31m16\u001b[39m  2.5          -\u001b[31m6\u001b[39m\u001b[31m.\u001b[39m\u001b[31m4\u001b[39m "
      ]
     },
     "execution_count": null,
     "metadata": {},
     "output_type": "execute_result"
    }
   ],
   "source": [
    "flights |>\n",
    "  mutate(\n",
    "    gain = dep_delay - arr_delay,\n",
    "    hours = air_time / 60,\n",
    "    gain_per_hour = gain / hours,\n",
    "    .keep = \"used\"\n",
    "  ) |> head()"
   ]
  },
  {
   "cell_type": "markdown",
   "metadata": {},
   "source": [
    "#### `Select()` function\n",
    "____"
   ]
  },
  {
   "cell_type": "code",
   "execution_count": 40,
   "metadata": {
    "vscode": {
     "languageId": "r"
    }
   },
   "outputs": [
    {
     "data": {
      "text/plain": [
       "\u001b[38;5;246m# A tibble: 6 × 5\u001b[39m\n",
       "   year month   day air_time arr_delay\n",
       "  \u001b[3m\u001b[38;5;246m<int>\u001b[39m\u001b[23m \u001b[3m\u001b[38;5;246m<int>\u001b[39m\u001b[23m \u001b[3m\u001b[38;5;246m<int>\u001b[39m\u001b[23m    \u001b[3m\u001b[38;5;246m<dbl>\u001b[39m\u001b[23m     \u001b[3m\u001b[38;5;246m<dbl>\u001b[39m\u001b[23m\n",
       "\u001b[38;5;250m1\u001b[39m  \u001b[4m2\u001b[24m013     1     1      227        11\n",
       "\u001b[38;5;250m2\u001b[39m  \u001b[4m2\u001b[24m013     1     1      227        20\n",
       "\u001b[38;5;250m3\u001b[39m  \u001b[4m2\u001b[24m013     1     1      160        33\n",
       "\u001b[38;5;250m4\u001b[39m  \u001b[4m2\u001b[24m013     1     1      183       -\u001b[31m18\u001b[39m\n",
       "\u001b[38;5;250m5\u001b[39m  \u001b[4m2\u001b[24m013     1     1      116       -\u001b[31m25\u001b[39m\n",
       "\u001b[38;5;250m6\u001b[39m  \u001b[4m2\u001b[24m013     1     1      150        12"
      ]
     },
     "execution_count": null,
     "metadata": {},
     "output_type": "execute_result"
    }
   ],
   "source": [
    "flights |>\n",
    "  select(year, month, day, air_time, arr_delay) |> head()"
   ]
  },
  {
   "cell_type": "code",
   "execution_count": 41,
   "metadata": {
    "vscode": {
     "languageId": "r"
    }
   },
   "outputs": [
    {
     "data": {
      "text/plain": [
       "\u001b[38;5;246m# A tibble: 6 × 3\u001b[39m\n",
       "   year month   day\n",
       "  \u001b[3m\u001b[38;5;246m<int>\u001b[39m\u001b[23m \u001b[3m\u001b[38;5;246m<int>\u001b[39m\u001b[23m \u001b[3m\u001b[38;5;246m<int>\u001b[39m\u001b[23m\n",
       "\u001b[38;5;250m1\u001b[39m  \u001b[4m2\u001b[24m013     1     1\n",
       "\u001b[38;5;250m2\u001b[39m  \u001b[4m2\u001b[24m013     1     1\n",
       "\u001b[38;5;250m3\u001b[39m  \u001b[4m2\u001b[24m013     1     1\n",
       "\u001b[38;5;250m4\u001b[39m  \u001b[4m2\u001b[24m013     1     1\n",
       "\u001b[38;5;250m5\u001b[39m  \u001b[4m2\u001b[24m013     1     1\n",
       "\u001b[38;5;250m6\u001b[39m  \u001b[4m2\u001b[24m013     1     1"
      ]
     },
     "execution_count": null,
     "metadata": {},
     "output_type": "execute_result"
    }
   ],
   "source": [
    "flights |>\n",
    "  select(year:day) |> head()"
   ]
  },
  {
   "cell_type": "code",
   "execution_count": 42,
   "metadata": {
    "vscode": {
     "languageId": "r"
    }
   },
   "outputs": [
    {
     "data": {
      "text/plain": [
       "\u001b[38;5;246m# A tibble: 6 × 16\u001b[39m\n",
       "  dep_time sched_dep_time dep_delay arr_time sched_arr_time arr_delay carrier flight tailnum origin\n",
       "     \u001b[3m\u001b[38;5;246m<int>\u001b[39m\u001b[23m          \u001b[3m\u001b[38;5;246m<int>\u001b[39m\u001b[23m     \u001b[3m\u001b[38;5;246m<dbl>\u001b[39m\u001b[23m    \u001b[3m\u001b[38;5;246m<int>\u001b[39m\u001b[23m          \u001b[3m\u001b[38;5;246m<int>\u001b[39m\u001b[23m     \u001b[3m\u001b[38;5;246m<dbl>\u001b[39m\u001b[23m \u001b[3m\u001b[38;5;246m<chr>\u001b[39m\u001b[23m    \u001b[3m\u001b[38;5;246m<int>\u001b[39m\u001b[23m \u001b[3m\u001b[38;5;246m<chr>\u001b[39m\u001b[23m   \u001b[3m\u001b[38;5;246m<chr>\u001b[39m\u001b[23m \n",
       "\u001b[38;5;250m1\u001b[39m      517            515         2      830            819        11 UA        \u001b[4m1\u001b[24m545 N14228  EWR   \n",
       "\u001b[38;5;250m2\u001b[39m      533            529         4      850            830        20 UA        \u001b[4m1\u001b[24m714 N24211  LGA   \n",
       "\u001b[38;5;250m3\u001b[39m      542            540         2      923            850        33 AA        \u001b[4m1\u001b[24m141 N619AA  JFK   \n",
       "\u001b[38;5;250m4\u001b[39m      544            545        -\u001b[31m1\u001b[39m     \u001b[4m1\u001b[24m004           \u001b[4m1\u001b[24m022       -\u001b[31m18\u001b[39m B6         725 N804JB  JFK   \n",
       "\u001b[38;5;250m5\u001b[39m      554            600        -\u001b[31m6\u001b[39m      812            837       -\u001b[31m25\u001b[39m DL         461 N668DN  LGA   \n",
       "\u001b[38;5;250m6\u001b[39m      554            558        -\u001b[31m4\u001b[39m      740            728        12 UA        \u001b[4m1\u001b[24m696 N39463  EWR   \n",
       "\u001b[38;5;246m# ℹ 6 more variables: dest <chr>, air_time <dbl>, distance <dbl>, hour <dbl>, minute <dbl>,\u001b[39m\n",
       "\u001b[38;5;246m#   time_hour <dttm>\u001b[39m"
      ]
     },
     "execution_count": null,
     "metadata": {},
     "output_type": "execute_result"
    }
   ],
   "source": [
    "flights |>\n",
    "  select(!year:day) |> head()"
   ]
  },
  {
   "cell_type": "code",
   "execution_count": 43,
   "metadata": {
    "vscode": {
     "languageId": "r"
    }
   },
   "outputs": [
    {
     "data": {
      "text/plain": [
       "\u001b[38;5;246m# A tibble: 6 × 4\u001b[39m\n",
       "  carrier tailnum origin dest \n",
       "  \u001b[3m\u001b[38;5;246m<chr>\u001b[39m\u001b[23m   \u001b[3m\u001b[38;5;246m<chr>\u001b[39m\u001b[23m   \u001b[3m\u001b[38;5;246m<chr>\u001b[39m\u001b[23m  \u001b[3m\u001b[38;5;246m<chr>\u001b[39m\u001b[23m\n",
       "\u001b[38;5;250m1\u001b[39m UA      N14228  EWR    IAH  \n",
       "\u001b[38;5;250m2\u001b[39m UA      N24211  LGA    IAH  \n",
       "\u001b[38;5;250m3\u001b[39m AA      N619AA  JFK    MIA  \n",
       "\u001b[38;5;250m4\u001b[39m B6      N804JB  JFK    BQN  \n",
       "\u001b[38;5;250m5\u001b[39m DL      N668DN  LGA    ATL  \n",
       "\u001b[38;5;250m6\u001b[39m UA      N39463  EWR    ORD  "
      ]
     },
     "execution_count": null,
     "metadata": {},
     "output_type": "execute_result"
    }
   ],
   "source": [
    "flights |>\n",
    "  select(where(is.character)) |> head()"
   ]
  },
  {
   "cell_type": "code",
   "execution_count": 44,
   "metadata": {
    "vscode": {
     "languageId": "r"
    }
   },
   "outputs": [
    {
     "data": {
      "text/plain": [
       "\u001b[38;5;246m# A tibble: 6 × 2\u001b[39m\n",
       "  dep_time dep_delay\n",
       "     \u001b[3m\u001b[38;5;246m<int>\u001b[39m\u001b[23m     \u001b[3m\u001b[38;5;246m<dbl>\u001b[39m\u001b[23m\n",
       "\u001b[38;5;250m1\u001b[39m      517         2\n",
       "\u001b[38;5;250m2\u001b[39m      533         4\n",
       "\u001b[38;5;250m3\u001b[39m      542         2\n",
       "\u001b[38;5;250m4\u001b[39m      544        -\u001b[31m1\u001b[39m\n",
       "\u001b[38;5;250m5\u001b[39m      554        -\u001b[31m6\u001b[39m\n",
       "\u001b[38;5;250m6\u001b[39m      554        -\u001b[31m4\u001b[39m"
      ]
     },
     "execution_count": null,
     "metadata": {},
     "output_type": "execute_result"
    }
   ],
   "source": [
    "flights |>\n",
    "  select(starts_with(\"dep\"))  %>% head()"
   ]
  },
  {
   "cell_type": "code",
   "execution_count": 45,
   "metadata": {
    "vscode": {
     "languageId": "r"
    }
   },
   "outputs": [
    {
     "data": {
      "text/plain": [
       "\u001b[38;5;246m# A tibble: 6 × 14\u001b[39m\n",
       "   year month   day dep_time sched_dep_time dep_delay arr_time sched_arr_time arr_delay flight air_time\n",
       "  \u001b[3m\u001b[38;5;246m<int>\u001b[39m\u001b[23m \u001b[3m\u001b[38;5;246m<int>\u001b[39m\u001b[23m \u001b[3m\u001b[38;5;246m<int>\u001b[39m\u001b[23m    \u001b[3m\u001b[38;5;246m<int>\u001b[39m\u001b[23m          \u001b[3m\u001b[38;5;246m<int>\u001b[39m\u001b[23m     \u001b[3m\u001b[38;5;246m<dbl>\u001b[39m\u001b[23m    \u001b[3m\u001b[38;5;246m<int>\u001b[39m\u001b[23m          \u001b[3m\u001b[38;5;246m<int>\u001b[39m\u001b[23m     \u001b[3m\u001b[38;5;246m<dbl>\u001b[39m\u001b[23m  \u001b[3m\u001b[38;5;246m<int>\u001b[39m\u001b[23m    \u001b[3m\u001b[38;5;246m<dbl>\u001b[39m\u001b[23m\n",
       "\u001b[38;5;250m1\u001b[39m  \u001b[4m2\u001b[24m013     1     1      517            515         2      830            819        11   \u001b[4m1\u001b[24m545      227\n",
       "\u001b[38;5;250m2\u001b[39m  \u001b[4m2\u001b[24m013     1     1      533            529         4      850            830        20   \u001b[4m1\u001b[24m714      227\n",
       "\u001b[38;5;250m3\u001b[39m  \u001b[4m2\u001b[24m013     1     1      542            540         2      923            850        33   \u001b[4m1\u001b[24m141      160\n",
       "\u001b[38;5;250m4\u001b[39m  \u001b[4m2\u001b[24m013     1     1      544            545        -\u001b[31m1\u001b[39m     \u001b[4m1\u001b[24m004           \u001b[4m1\u001b[24m022       -\u001b[31m18\u001b[39m    725      183\n",
       "\u001b[38;5;250m5\u001b[39m  \u001b[4m2\u001b[24m013     1     1      554            600        -\u001b[31m6\u001b[39m      812            837       -\u001b[31m25\u001b[39m    461      116\n",
       "\u001b[38;5;250m6\u001b[39m  \u001b[4m2\u001b[24m013     1     1      554            558        -\u001b[31m4\u001b[39m      740            728        12   \u001b[4m1\u001b[24m696      150\n",
       "\u001b[38;5;246m# ℹ 3 more variables: distance <dbl>, hour <dbl>, minute <dbl>\u001b[39m"
      ]
     },
     "execution_count": null,
     "metadata": {},
     "output_type": "execute_result"
    }
   ],
   "source": [
    "flights |>\n",
    "  select(where(is.numeric)) |> head()"
   ]
  },
  {
   "cell_type": "code",
   "execution_count": 46,
   "metadata": {
    "vscode": {
     "languageId": "r"
    }
   },
   "outputs": [
    {
     "data": {
      "text/plain": [
       "\u001b[38;5;246m# A tibble: 6 × 1\u001b[39m\n",
       "  tail_num\n",
       "  \u001b[3m\u001b[38;5;246m<chr>\u001b[39m\u001b[23m   \n",
       "\u001b[38;5;250m1\u001b[39m N14228  \n",
       "\u001b[38;5;250m2\u001b[39m N24211  \n",
       "\u001b[38;5;250m3\u001b[39m N619AA  \n",
       "\u001b[38;5;250m4\u001b[39m N804JB  \n",
       "\u001b[38;5;250m5\u001b[39m N668DN  \n",
       "\u001b[38;5;250m6\u001b[39m N39463  "
      ]
     },
     "execution_count": null,
     "metadata": {},
     "output_type": "execute_result"
    }
   ],
   "source": [
    "flights |>\n",
    "  select(tail_num = tailnum)  %>% head()"
   ]
  },
  {
   "cell_type": "code",
   "execution_count": 47,
   "metadata": {
    "vscode": {
     "languageId": "r"
    }
   },
   "outputs": [
    {
     "data": {
      "text/plain": [
       "\u001b[38;5;246m# A tibble: 6 × 1\u001b[39m\n",
       "  tail_num\n",
       "  \u001b[3m\u001b[38;5;246m<chr>\u001b[39m\u001b[23m   \n",
       "\u001b[38;5;250m1\u001b[39m N14228  \n",
       "\u001b[38;5;250m2\u001b[39m N24211  \n",
       "\u001b[38;5;250m3\u001b[39m N619AA  \n",
       "\u001b[38;5;250m4\u001b[39m N804JB  \n",
       "\u001b[38;5;250m5\u001b[39m N668DN  \n",
       "\u001b[38;5;250m6\u001b[39m N39463  "
      ]
     },
     "execution_count": null,
     "metadata": {},
     "output_type": "execute_result"
    }
   ],
   "source": [
    "flights %>%\n",
    "  select(tail_num = tailnum) |> head()"
   ]
  },
  {
   "cell_type": "markdown",
   "metadata": {},
   "source": [
    "### 3.5 Group Function in dplyr’s\n",
    "____"
   ]
  },
  {
   "cell_type": "markdown",
   "metadata": {},
   "source": [
    "#### 3.5.1 `group_by()`"
   ]
  },
  {
   "cell_type": "code",
   "execution_count": 48,
   "metadata": {
    "vscode": {
     "languageId": "r"
    }
   },
   "outputs": [
    {
     "data": {
      "text/plain": [
       "\u001b[38;5;246m# A tibble: 10 × 19\u001b[39m\n",
       "\u001b[38;5;246m# Groups:   carrier [5]\u001b[39m\n",
       "    year month   day dep_time sched_dep_time dep_delay arr_time sched_arr_time arr_delay carrier flight\n",
       "   \u001b[3m\u001b[38;5;246m<int>\u001b[39m\u001b[23m \u001b[3m\u001b[38;5;246m<int>\u001b[39m\u001b[23m \u001b[3m\u001b[38;5;246m<int>\u001b[39m\u001b[23m    \u001b[3m\u001b[38;5;246m<int>\u001b[39m\u001b[23m          \u001b[3m\u001b[38;5;246m<int>\u001b[39m\u001b[23m     \u001b[3m\u001b[38;5;246m<dbl>\u001b[39m\u001b[23m    \u001b[3m\u001b[38;5;246m<int>\u001b[39m\u001b[23m          \u001b[3m\u001b[38;5;246m<int>\u001b[39m\u001b[23m     \u001b[3m\u001b[38;5;246m<dbl>\u001b[39m\u001b[23m \u001b[3m\u001b[38;5;246m<chr>\u001b[39m\u001b[23m    \u001b[3m\u001b[38;5;246m<int>\u001b[39m\u001b[23m\n",
       "\u001b[38;5;250m 1\u001b[39m  \u001b[4m2\u001b[24m013     1     1      517            515         2      830            819        11 UA        \u001b[4m1\u001b[24m545\n",
       "\u001b[38;5;250m 2\u001b[39m  \u001b[4m2\u001b[24m013     1     1      533            529         4      850            830        20 UA        \u001b[4m1\u001b[24m714\n",
       "\u001b[38;5;250m 3\u001b[39m  \u001b[4m2\u001b[24m013     1     1      542            540         2      923            850        33 AA        \u001b[4m1\u001b[24m141\n",
       "\u001b[38;5;250m 4\u001b[39m  \u001b[4m2\u001b[24m013     1     1      544            545        -\u001b[31m1\u001b[39m     \u001b[4m1\u001b[24m004           \u001b[4m1\u001b[24m022       -\u001b[31m18\u001b[39m B6         725\n",
       "\u001b[38;5;250m 5\u001b[39m  \u001b[4m2\u001b[24m013     1     1      554            600        -\u001b[31m6\u001b[39m      812            837       -\u001b[31m25\u001b[39m DL         461\n",
       "\u001b[38;5;250m 6\u001b[39m  \u001b[4m2\u001b[24m013     1     1      554            558        -\u001b[31m4\u001b[39m      740            728        12 UA        \u001b[4m1\u001b[24m696\n",
       "\u001b[38;5;250m 7\u001b[39m  \u001b[4m2\u001b[24m013     1     1      555            600        -\u001b[31m5\u001b[39m      913            854        19 B6         507\n",
       "\u001b[38;5;250m 8\u001b[39m  \u001b[4m2\u001b[24m013     1     1      557            600        -\u001b[31m3\u001b[39m      709            723       -\u001b[31m14\u001b[39m EV        \u001b[4m5\u001b[24m708\n",
       "\u001b[38;5;250m 9\u001b[39m  \u001b[4m2\u001b[24m013     1     1      557            600        -\u001b[31m3\u001b[39m      838            846        -\u001b[31m8\u001b[39m B6          79\n",
       "\u001b[38;5;250m10\u001b[39m  \u001b[4m2\u001b[24m013     1     1      558            600        -\u001b[31m2\u001b[39m      753            745         8 AA         301\n",
       "\u001b[38;5;246m# ℹ 8 more variables: tailnum <chr>, origin <chr>, dest <chr>, air_time <dbl>, distance <dbl>,\u001b[39m\n",
       "\u001b[38;5;246m#   hour <dbl>, minute <dbl>, time_hour <dttm>\u001b[39m"
      ]
     },
     "execution_count": null,
     "metadata": {},
     "output_type": "execute_result"
    }
   ],
   "source": [
    "flights %>%\n",
    "group_by(carrier)  %>% head(10)"
   ]
  },
  {
   "cell_type": "markdown",
   "metadata": {},
   "source": [
    "#### 3.5.2 `summarize()`"
   ]
  },
  {
   "cell_type": "code",
   "execution_count": 49,
   "metadata": {
    "vscode": {
     "languageId": "r"
    }
   },
   "outputs": [
    {
     "data": {
      "text/plain": [
       "\u001b[38;5;246m# A tibble: 12 × 2\u001b[39m\n",
       "   month avg_detail\n",
       "   \u001b[3m\u001b[38;5;246m<int>\u001b[39m\u001b[23m      \u001b[3m\u001b[38;5;246m<dbl>\u001b[39m\u001b[23m\n",
       "\u001b[38;5;250m 1\u001b[39m     1         \u001b[31mNA\u001b[39m\n",
       "\u001b[38;5;250m 2\u001b[39m     2         \u001b[31mNA\u001b[39m\n",
       "\u001b[38;5;250m 3\u001b[39m     3         \u001b[31mNA\u001b[39m\n",
       "\u001b[38;5;250m 4\u001b[39m     4         \u001b[31mNA\u001b[39m\n",
       "\u001b[38;5;250m 5\u001b[39m     5         \u001b[31mNA\u001b[39m\n",
       "\u001b[38;5;250m 6\u001b[39m     6         \u001b[31mNA\u001b[39m\n",
       "\u001b[38;5;250m 7\u001b[39m     7         \u001b[31mNA\u001b[39m\n",
       "\u001b[38;5;250m 8\u001b[39m     8         \u001b[31mNA\u001b[39m\n",
       "\u001b[38;5;250m 9\u001b[39m     9         \u001b[31mNA\u001b[39m\n",
       "\u001b[38;5;250m10\u001b[39m    10         \u001b[31mNA\u001b[39m\n",
       "\u001b[38;5;250m11\u001b[39m    11         \u001b[31mNA\u001b[39m\n",
       "\u001b[38;5;250m12\u001b[39m    12         \u001b[31mNA\u001b[39m"
      ]
     },
     "execution_count": null,
     "metadata": {},
     "output_type": "execute_result"
    }
   ],
   "source": [
    "flights  %>%\n",
    "  group_by(month)  %>%\n",
    "  summarize(\n",
    "    avg_detail = mean(dep_time)\n",
    "    )"
   ]
  },
  {
   "cell_type": "code",
   "execution_count": 50,
   "metadata": {
    "vscode": {
     "languageId": "r"
    }
   },
   "outputs": [
    {
     "data": {
      "text/plain": [
       "\u001b[38;5;246m# A tibble: 12 × 2\u001b[39m\n",
       "   month avg_detail\n",
       "   \u001b[3m\u001b[38;5;246m<int>\u001b[39m\u001b[23m      \u001b[3m\u001b[38;5;246m<dbl>\u001b[39m\u001b[23m\n",
       "\u001b[38;5;250m 1\u001b[39m     1      \u001b[4m1\u001b[24m347.\n",
       "\u001b[38;5;250m 2\u001b[39m     2      \u001b[4m1\u001b[24m348.\n",
       "\u001b[38;5;250m 3\u001b[39m     3      \u001b[4m1\u001b[24m359.\n",
       "\u001b[38;5;250m 4\u001b[39m     4      \u001b[4m1\u001b[24m353.\n",
       "\u001b[38;5;250m 5\u001b[39m     5      \u001b[4m1\u001b[24m351.\n",
       "\u001b[38;5;250m 6\u001b[39m     6      \u001b[4m1\u001b[24m351.\n",
       "\u001b[38;5;250m 7\u001b[39m     7      \u001b[4m1\u001b[24m353.\n",
       "\u001b[38;5;250m 8\u001b[39m     8      \u001b[4m1\u001b[24m350.\n",
       "\u001b[38;5;250m 9\u001b[39m     9      \u001b[4m1\u001b[24m334.\n",
       "\u001b[38;5;250m10\u001b[39m    10      \u001b[4m1\u001b[24m340.\n",
       "\u001b[38;5;250m11\u001b[39m    11      \u001b[4m1\u001b[24m344.\n",
       "\u001b[38;5;250m12\u001b[39m    12      \u001b[4m1\u001b[24m357."
      ]
     },
     "execution_count": null,
     "metadata": {},
     "output_type": "execute_result"
    }
   ],
   "source": [
    "flights  %>%\n",
    "  group_by(month)  %>%\n",
    "  summarize(\n",
    "    avg_detail = mean(dep_time, na.rm=TRUE)\n",
    "    )"
   ]
  },
  {
   "cell_type": "code",
   "execution_count": 51,
   "metadata": {
    "vscode": {
     "languageId": "r"
    }
   },
   "outputs": [
    {
     "data": {
      "text/plain": [
       "\u001b[38;5;246m# A tibble: 12 × 3\u001b[39m\n",
       "   month avg_delay     n\n",
       "   \u001b[3m\u001b[38;5;246m<int>\u001b[39m\u001b[23m     \u001b[3m\u001b[38;5;246m<dbl>\u001b[39m\u001b[23m \u001b[3m\u001b[38;5;246m<int>\u001b[39m\u001b[23m\n",
       "\u001b[38;5;250m 1\u001b[39m     1     10.0  \u001b[4m2\u001b[24m\u001b[4m7\u001b[24m004\n",
       "\u001b[38;5;250m 2\u001b[39m     2     10.8  \u001b[4m2\u001b[24m\u001b[4m4\u001b[24m951\n",
       "\u001b[38;5;250m 3\u001b[39m     3     13.2  \u001b[4m2\u001b[24m\u001b[4m8\u001b[24m834\n",
       "\u001b[38;5;250m 4\u001b[39m     4     13.9  \u001b[4m2\u001b[24m\u001b[4m8\u001b[24m330\n",
       "\u001b[38;5;250m 5\u001b[39m     5     13.0  \u001b[4m2\u001b[24m\u001b[4m8\u001b[24m796\n",
       "\u001b[38;5;250m 6\u001b[39m     6     20.8  \u001b[4m2\u001b[24m\u001b[4m8\u001b[24m243\n",
       "\u001b[38;5;250m 7\u001b[39m     7     21.7  \u001b[4m2\u001b[24m\u001b[4m9\u001b[24m425\n",
       "\u001b[38;5;250m 8\u001b[39m     8     12.6  \u001b[4m2\u001b[24m\u001b[4m9\u001b[24m327\n",
       "\u001b[38;5;250m 9\u001b[39m     9      6.72 \u001b[4m2\u001b[24m\u001b[4m7\u001b[24m574\n",
       "\u001b[38;5;250m10\u001b[39m    10      6.24 \u001b[4m2\u001b[24m\u001b[4m8\u001b[24m889\n",
       "\u001b[38;5;250m11\u001b[39m    11      5.44 \u001b[4m2\u001b[24m\u001b[4m7\u001b[24m268\n",
       "\u001b[38;5;250m12\u001b[39m    12     16.6  \u001b[4m2\u001b[24m\u001b[4m8\u001b[24m135"
      ]
     },
     "execution_count": null,
     "metadata": {},
     "output_type": "execute_result"
    }
   ],
   "source": [
    "flights |>\n",
    "  group_by(month) |>\n",
    "  summarize(\n",
    "    avg_delay = mean(dep_delay, na.rm = TRUE),\n",
    "    n = n()\n",
    "  )\n",
    "# Output\n",
    "# # A tibble: 12 × 3\n",
    "#   month avg_delay     n\n",
    "#   <int>     <dbl> <int>\n",
    "# 1     1      10.0 27004\n",
    "# 2     2      10.8 24951\n",
    "# 3     3      13.2 28834\n",
    "# 4     4      13.9 28330\n",
    "# 5     5      13.0 28796\n",
    "# 6     6      20.8 28243\n",
    "# # ℹ 6 more rows\n"
   ]
  },
  {
   "cell_type": "code",
   "execution_count": 52,
   "metadata": {
    "vscode": {
     "languageId": "r"
    }
   },
   "outputs": [
    {
     "data": {
      "text/plain": [
       "\u001b[38;5;246m# A tibble: 336,776 × 19\u001b[39m\n",
       "    year month   day dep_time sched_dep_time dep_delay arr_time sched_arr_time arr_delay carrier flight\n",
       "   \u001b[3m\u001b[38;5;246m<int>\u001b[39m\u001b[23m \u001b[3m\u001b[38;5;246m<int>\u001b[39m\u001b[23m \u001b[3m\u001b[38;5;246m<int>\u001b[39m\u001b[23m    \u001b[3m\u001b[38;5;246m<int>\u001b[39m\u001b[23m          \u001b[3m\u001b[38;5;246m<int>\u001b[39m\u001b[23m     \u001b[3m\u001b[38;5;246m<dbl>\u001b[39m\u001b[23m    \u001b[3m\u001b[38;5;246m<int>\u001b[39m\u001b[23m          \u001b[3m\u001b[38;5;246m<int>\u001b[39m\u001b[23m     \u001b[3m\u001b[38;5;246m<dbl>\u001b[39m\u001b[23m \u001b[3m\u001b[38;5;246m<chr>\u001b[39m\u001b[23m    \u001b[3m\u001b[38;5;246m<int>\u001b[39m\u001b[23m\n",
       "\u001b[38;5;250m 1\u001b[39m  \u001b[4m2\u001b[24m013     1     1      517            515         2      830            819        11 UA        \u001b[4m1\u001b[24m545\n",
       "\u001b[38;5;250m 2\u001b[39m  \u001b[4m2\u001b[24m013     1     1      533            529         4      850            830        20 UA        \u001b[4m1\u001b[24m714\n",
       "\u001b[38;5;250m 3\u001b[39m  \u001b[4m2\u001b[24m013     1     1      542            540         2      923            850        33 AA        \u001b[4m1\u001b[24m141\n",
       "\u001b[38;5;250m 4\u001b[39m  \u001b[4m2\u001b[24m013     1     1      544            545        -\u001b[31m1\u001b[39m     \u001b[4m1\u001b[24m004           \u001b[4m1\u001b[24m022       -\u001b[31m18\u001b[39m B6         725\n",
       "\u001b[38;5;250m 5\u001b[39m  \u001b[4m2\u001b[24m013     1     1      554            600        -\u001b[31m6\u001b[39m      812            837       -\u001b[31m25\u001b[39m DL         461\n",
       "\u001b[38;5;250m 6\u001b[39m  \u001b[4m2\u001b[24m013     1     1      554            558        -\u001b[31m4\u001b[39m      740            728        12 UA        \u001b[4m1\u001b[24m696\n",
       "\u001b[38;5;250m 7\u001b[39m  \u001b[4m2\u001b[24m013     1     1      555            600        -\u001b[31m5\u001b[39m      913            854        19 B6         507\n",
       "\u001b[38;5;250m 8\u001b[39m  \u001b[4m2\u001b[24m013     1     1      557            600        -\u001b[31m3\u001b[39m      709            723       -\u001b[31m14\u001b[39m EV        \u001b[4m5\u001b[24m708\n",
       "\u001b[38;5;250m 9\u001b[39m  \u001b[4m2\u001b[24m013     1     1      557            600        -\u001b[31m3\u001b[39m      838            846        -\u001b[31m8\u001b[39m B6          79\n",
       "\u001b[38;5;250m10\u001b[39m  \u001b[4m2\u001b[24m013     1     1      558            600        -\u001b[31m2\u001b[39m      753            745         8 AA         301\n",
       "\u001b[38;5;246m# ℹ 336,766 more rows\u001b[39m\n",
       "\u001b[38;5;246m# ℹ 8 more variables: tailnum <chr>, origin <chr>, dest <chr>, air_time <dbl>, distance <dbl>,\u001b[39m\n",
       "\u001b[38;5;246m#   hour <dbl>, minute <dbl>, time_hour <dttm>\u001b[39m\n",
       "\u001b[38;5;246m# ℹ Use `print(n = ...)` to see more rows\u001b[39m"
      ]
     },
     "execution_count": null,
     "metadata": {},
     "output_type": "execute_result"
    }
   ],
   "source": [
    "flights\n"
   ]
  },
  {
   "cell_type": "code",
   "execution_count": 53,
   "metadata": {
    "vscode": {
     "languageId": "r"
    }
   },
   "outputs": [
    {
     "name": "stdout",
     "output_type": "stream",
     "text": [
      "\u001b[1m\u001b[22m`summarise()` has grouped output by 'carrier'. You can override using the `.groups` argument.\n",
      "\u001b[1m\u001b[22m`summarise()` has grouped output by 'carrier'. You can override using the `.groups` argument.\n"
     ]
    },
    {
     "data": {
      "text/plain": [
       "\u001b[38;5;246m# A tibble: 314 × 4\u001b[39m\n",
       "\u001b[38;5;246m# Groups:   carrier [16]\u001b[39m\n",
       "   carrier dest  average     n\n",
       "   \u001b[3m\u001b[38;5;246m<chr>\u001b[39m\u001b[23m   \u001b[3m\u001b[38;5;246m<chr>\u001b[39m\u001b[23m   \u001b[3m\u001b[38;5;246m<dbl>\u001b[39m\u001b[23m \u001b[3m\u001b[38;5;246m<int>\u001b[39m\u001b[23m\n",
       "\u001b[38;5;250m 1\u001b[39m 9E      ATL      876.    59\n",
       "\u001b[38;5;250m 2\u001b[39m 9E      AUS     \u001b[4m2\u001b[24m029      2\n",
       "\u001b[38;5;250m 3\u001b[39m 9E      AVL     \u001b[4m1\u001b[24m195.    10\n",
       "\u001b[38;5;250m 4\u001b[39m 9E      BGR     \u001b[4m2\u001b[24m327      1\n",
       "\u001b[38;5;250m 5\u001b[39m 9E      BNA     \u001b[4m1\u001b[24m729.   474\n",
       "\u001b[38;5;250m 6\u001b[39m 9E      BOS     \u001b[4m1\u001b[24m480.   914\n",
       "\u001b[38;5;250m 7\u001b[39m 9E      BTV     \u001b[4m1\u001b[24m324.     2\n",
       "\u001b[38;5;250m 8\u001b[39m 9E      BUF     \u001b[4m1\u001b[24m607.   833\n",
       "\u001b[38;5;250m 9\u001b[39m 9E      BWI     \u001b[4m1\u001b[24m695.   856\n",
       "\u001b[38;5;250m10\u001b[39m 9E      CAE     \u001b[4m1\u001b[24m172.     3\n",
       "\u001b[38;5;246m# ℹ 304 more rows\u001b[39m\n",
       "\u001b[38;5;246m# ℹ Use `print(n = ...)` to see more rows\u001b[39m"
      ]
     },
     "execution_count": null,
     "metadata": {},
     "output_type": "execute_result"
    }
   ],
   "source": [
    "flights |>\n",
    "  group_by(carrier, dest) |>\n",
    "  summarise(\n",
    "    average = mean(sched_arr_time), n =n()\n",
    "  )"
   ]
  },
  {
   "cell_type": "markdown",
   "metadata": {},
   "source": [
    "#### 3.5.3 The `slice_` functions"
   ]
  },
  {
   "cell_type": "code",
   "execution_count": 54,
   "metadata": {
    "vscode": {
     "languageId": "r"
    }
   },
   "outputs": [
    {
     "data": {
      "text/plain": [
       "\u001b[38;5;246m# A tibble: 105 × 19\u001b[39m\n",
       "\u001b[38;5;246m# Groups:   dest [105]\u001b[39m\n",
       "    year month   day dep_time sched_dep_time dep_delay arr_time sched_arr_time arr_delay carrier flight\n",
       "   \u001b[3m\u001b[38;5;246m<int>\u001b[39m\u001b[23m \u001b[3m\u001b[38;5;246m<int>\u001b[39m\u001b[23m \u001b[3m\u001b[38;5;246m<int>\u001b[39m\u001b[23m    \u001b[3m\u001b[38;5;246m<int>\u001b[39m\u001b[23m          \u001b[3m\u001b[38;5;246m<int>\u001b[39m\u001b[23m     \u001b[3m\u001b[38;5;246m<dbl>\u001b[39m\u001b[23m    \u001b[3m\u001b[38;5;246m<int>\u001b[39m\u001b[23m          \u001b[3m\u001b[38;5;246m<int>\u001b[39m\u001b[23m     \u001b[3m\u001b[38;5;246m<dbl>\u001b[39m\u001b[23m \u001b[3m\u001b[38;5;246m<chr>\u001b[39m\u001b[23m    \u001b[3m\u001b[38;5;246m<int>\u001b[39m\u001b[23m\n",
       "\u001b[38;5;250m 1\u001b[39m  \u001b[4m2\u001b[24m013    10     1     \u001b[4m1\u001b[24m955           \u001b[4m2\u001b[24m001        -\u001b[31m6\u001b[39m     \u001b[4m2\u001b[24m213           \u001b[4m2\u001b[24m248       -\u001b[31m35\u001b[39m B6          65\n",
       "\u001b[38;5;250m 2\u001b[39m  \u001b[4m2\u001b[24m013    10     1     \u001b[4m1\u001b[24m149           \u001b[4m1\u001b[24m159       -\u001b[31m10\u001b[39m     \u001b[4m1\u001b[24m245           \u001b[4m1\u001b[24m259       -\u001b[31m14\u001b[39m B6        \u001b[4m1\u001b[24m191\n",
       "\u001b[38;5;250m 3\u001b[39m  \u001b[4m2\u001b[24m013     1     1     \u001b[4m1\u001b[24m315           \u001b[4m1\u001b[24m317        -\u001b[31m2\u001b[39m     \u001b[4m1\u001b[24m413           \u001b[4m1\u001b[24m423       -\u001b[31m10\u001b[39m EV        \u001b[4m4\u001b[24m112\n",
       "\u001b[38;5;250m 4\u001b[39m  \u001b[4m2\u001b[24m013     7     6     \u001b[4m1\u001b[24m629           \u001b[4m1\u001b[24m615        14     \u001b[4m1\u001b[24m954           \u001b[4m1\u001b[24m953         1 UA         887\n",
       "\u001b[38;5;250m 5\u001b[39m  \u001b[4m2\u001b[24m013     1     1      554            600        -\u001b[31m6\u001b[39m      812            837       -\u001b[31m25\u001b[39m DL         461\n",
       "\u001b[38;5;250m 6\u001b[39m  \u001b[4m2\u001b[24m013     1     1      905            905         0     \u001b[4m1\u001b[24m309           \u001b[4m1\u001b[24m229        40 B6        \u001b[4m1\u001b[24m061\n",
       "\u001b[38;5;250m 7\u001b[39m  \u001b[4m2\u001b[24m013     1     1      946            959       -\u001b[31m13\u001b[39m     \u001b[4m1\u001b[24m146           \u001b[4m1\u001b[24m202       -\u001b[31m16\u001b[39m EV        \u001b[4m4\u001b[24m175\n",
       "\u001b[38;5;250m 8\u001b[39m  \u001b[4m2\u001b[24m013     1     1     \u001b[4m1\u001b[24m318           \u001b[4m1\u001b[24m322        -\u001b[31m4\u001b[39m     \u001b[4m1\u001b[24m358           \u001b[4m1\u001b[24m416       -\u001b[31m18\u001b[39m EV        \u001b[4m4\u001b[24m106\n",
       "\u001b[38;5;250m 9\u001b[39m  \u001b[4m2\u001b[24m013    10     1     \u001b[4m1\u001b[24m338           \u001b[4m1\u001b[24m105       153     \u001b[4m1\u001b[24m446           \u001b[4m1\u001b[24m245       121 EV        \u001b[4m5\u001b[24m309\n",
       "\u001b[38;5;250m10\u001b[39m  \u001b[4m2\u001b[24m013     1     2     \u001b[4m2\u001b[24m044           \u001b[4m2\u001b[24m005        39     \u001b[4m2\u001b[24m229           \u001b[4m2\u001b[24m158        31 EV        \u001b[4m5\u001b[24m114\n",
       "\u001b[38;5;246m# ℹ 95 more rows\u001b[39m\n",
       "\u001b[38;5;246m# ℹ 8 more variables: tailnum <chr>, origin <chr>, dest <chr>, air_time <dbl>, distance <dbl>,\u001b[39m\n",
       "\u001b[38;5;246m#   hour <dbl>, minute <dbl>, time_hour <dttm>\u001b[39m\n",
       "\u001b[38;5;246m# ℹ Use `print(n = ...)` to see more rows\u001b[39m"
      ]
     },
     "execution_count": null,
     "metadata": {},
     "output_type": "execute_result"
    }
   ],
   "source": [
    "# Take the first flight for each destination\n",
    "flights |>\n",
    "  group_by(dest) |>\n",
    "  slice_head(n = 1)\n"
   ]
  },
  {
   "cell_type": "code",
   "execution_count": 55,
   "metadata": {
    "vscode": {
     "languageId": "r"
    }
   },
   "outputs": [
    {
     "data": {
      "text/plain": [
       "\u001b[38;5;246m# A tibble: 105 × 19\u001b[39m\n",
       "\u001b[38;5;246m# Groups:   dest [105]\u001b[39m\n",
       "    year month   day dep_time sched_dep_time dep_delay arr_time sched_arr_time arr_delay carrier flight\n",
       "   \u001b[3m\u001b[38;5;246m<int>\u001b[39m\u001b[23m \u001b[3m\u001b[38;5;246m<int>\u001b[39m\u001b[23m \u001b[3m\u001b[38;5;246m<int>\u001b[39m\u001b[23m    \u001b[3m\u001b[38;5;246m<int>\u001b[39m\u001b[23m          \u001b[3m\u001b[38;5;246m<int>\u001b[39m\u001b[23m     \u001b[3m\u001b[38;5;246m<dbl>\u001b[39m\u001b[23m    \u001b[3m\u001b[38;5;246m<int>\u001b[39m\u001b[23m          \u001b[3m\u001b[38;5;246m<int>\u001b[39m\u001b[23m     \u001b[3m\u001b[38;5;246m<dbl>\u001b[39m\u001b[23m \u001b[3m\u001b[38;5;246m<chr>\u001b[39m\u001b[23m    \u001b[3m\u001b[38;5;246m<int>\u001b[39m\u001b[23m\n",
       "\u001b[38;5;250m 1\u001b[39m  \u001b[4m2\u001b[24m013     9    30     \u001b[4m1\u001b[24m959           \u001b[4m2\u001b[24m001        -\u001b[31m2\u001b[39m     \u001b[4m2\u001b[24m209           \u001b[4m2\u001b[24m248       -\u001b[31m39\u001b[39m B6          65\n",
       "\u001b[38;5;250m 2\u001b[39m  \u001b[4m2\u001b[24m013     9    30     \u001b[4m1\u001b[24m156           \u001b[4m1\u001b[24m159        -\u001b[31m3\u001b[39m     \u001b[4m1\u001b[24m253           \u001b[4m1\u001b[24m259        -\u001b[31m6\u001b[39m B6        \u001b[4m1\u001b[24m191\n",
       "\u001b[38;5;250m 3\u001b[39m  \u001b[4m2\u001b[24m013     9    24     \u001b[4m2\u001b[24m151           \u001b[4m2\u001b[24m159        -\u001b[31m8\u001b[39m     \u001b[4m2\u001b[24m240           \u001b[4m2\u001b[24m303       -\u001b[31m23\u001b[39m EV        \u001b[4m6\u001b[24m043\n",
       "\u001b[38;5;250m 4\u001b[39m  \u001b[4m2\u001b[24m013     8    24     \u001b[4m1\u001b[24m633           \u001b[4m1\u001b[24m625         8     \u001b[4m1\u001b[24m959           \u001b[4m2\u001b[24m003        -\u001b[31m4\u001b[39m UA         887\n",
       "\u001b[38;5;250m 5\u001b[39m  \u001b[4m2\u001b[24m013     9    30     \u001b[4m2\u001b[24m053           \u001b[4m1\u001b[24m815       158     \u001b[4m2\u001b[24m310           \u001b[4m2\u001b[24m054       136 EV        \u001b[4m5\u001b[24m292\n",
       "\u001b[38;5;250m 6\u001b[39m  \u001b[4m2\u001b[24m013     9    30     \u001b[4m2\u001b[24m052           \u001b[4m2\u001b[24m054        -\u001b[31m2\u001b[39m     \u001b[4m2\u001b[24m306           \u001b[4m2\u001b[24m358       -\u001b[31m52\u001b[39m B6        \u001b[4m1\u001b[24m295\n",
       "\u001b[38;5;250m 7\u001b[39m  \u001b[4m2\u001b[24m013     9    30     \u001b[4m1\u001b[24m641           \u001b[4m1\u001b[24m638         3     \u001b[4m1\u001b[24m833           \u001b[4m1\u001b[24m829         4 EV        \u001b[4m4\u001b[24m175\n",
       "\u001b[38;5;250m 8\u001b[39m  \u001b[4m2\u001b[24m013     9    28      741            738         3      823            835       -\u001b[31m12\u001b[39m EV        \u001b[4m3\u001b[24m847\n",
       "\u001b[38;5;250m 9\u001b[39m  \u001b[4m2\u001b[24m013     9    30     \u001b[4m2\u001b[24m203           \u001b[4m2\u001b[24m205        -\u001b[31m2\u001b[39m     \u001b[4m2\u001b[24m339           \u001b[4m2\u001b[24m331         8 EV        \u001b[4m5\u001b[24m311\n",
       "\u001b[38;5;250m10\u001b[39m  \u001b[4m2\u001b[24m013     9    30     \u001b[4m1\u001b[24m939           \u001b[4m1\u001b[24m950       -\u001b[31m11\u001b[39m     \u001b[4m2\u001b[24m112           \u001b[4m2\u001b[24m141       -\u001b[31m29\u001b[39m EV        \u001b[4m5\u001b[24m038\n",
       "\u001b[38;5;246m# ℹ 95 more rows\u001b[39m\n",
       "\u001b[38;5;246m# ℹ 8 more variables: tailnum <chr>, origin <chr>, dest <chr>, air_time <dbl>, distance <dbl>,\u001b[39m\n",
       "\u001b[38;5;246m#   hour <dbl>, minute <dbl>, time_hour <dttm>\u001b[39m\n",
       "\u001b[38;5;246m# ℹ Use `print(n = ...)` to see more rows\u001b[39m"
      ]
     },
     "execution_count": null,
     "metadata": {},
     "output_type": "execute_result"
    }
   ],
   "source": [
    "# Take the last flight for each destination\n",
    "flights |>\n",
    "  group_by(dest) |>\n",
    "  slice_tail(n = 1)"
   ]
  },
  {
   "cell_type": "code",
   "execution_count": 56,
   "metadata": {
    "vscode": {
     "languageId": "r"
    }
   },
   "outputs": [
    {
     "data": {
      "text/plain": [
       "\u001b[38;5;246m# A tibble: 139 × 19\u001b[39m\n",
       "\u001b[38;5;246m# Groups:   dest [105]\u001b[39m\n",
       "    year month   day dep_time sched_dep_time dep_delay arr_time sched_arr_time arr_delay carrier flight\n",
       "   \u001b[3m\u001b[38;5;246m<int>\u001b[39m\u001b[23m \u001b[3m\u001b[38;5;246m<int>\u001b[39m\u001b[23m \u001b[3m\u001b[38;5;246m<int>\u001b[39m\u001b[23m    \u001b[3m\u001b[38;5;246m<int>\u001b[39m\u001b[23m          \u001b[3m\u001b[38;5;246m<int>\u001b[39m\u001b[23m     \u001b[3m\u001b[38;5;246m<dbl>\u001b[39m\u001b[23m    \u001b[3m\u001b[38;5;246m<int>\u001b[39m\u001b[23m          \u001b[3m\u001b[38;5;246m<int>\u001b[39m\u001b[23m     \u001b[3m\u001b[38;5;246m<dbl>\u001b[39m\u001b[23m \u001b[3m\u001b[38;5;246m<chr>\u001b[39m\u001b[23m    \u001b[3m\u001b[38;5;246m<int>\u001b[39m\u001b[23m\n",
       "\u001b[38;5;250m 1\u001b[39m  \u001b[4m2\u001b[24m013    11    20     \u001b[4m1\u001b[24m948           \u001b[4m2\u001b[24m000       -\u001b[31m12\u001b[39m     \u001b[4m2\u001b[24m236           \u001b[4m2\u001b[24m303       -\u001b[31m27\u001b[39m B6          65\n",
       "\u001b[38;5;250m 2\u001b[39m  \u001b[4m2\u001b[24m013     9    10     \u001b[4m1\u001b[24m949           \u001b[4m2\u001b[24m001       -\u001b[31m12\u001b[39m     \u001b[4m2\u001b[24m225           \u001b[4m2\u001b[24m248       -\u001b[31m23\u001b[39m B6          65\n",
       "\u001b[38;5;250m 3\u001b[39m  \u001b[4m2\u001b[24m013    10     9     \u001b[4m1\u001b[24m147           \u001b[4m1\u001b[24m200       -\u001b[31m13\u001b[39m     \u001b[4m1\u001b[24m304           \u001b[4m1\u001b[24m300         4 B6        \u001b[4m1\u001b[24m191\n",
       "\u001b[38;5;250m 4\u001b[39m  \u001b[4m2\u001b[24m013     9    28     \u001b[4m1\u001b[24m146           \u001b[4m1\u001b[24m159       -\u001b[31m13\u001b[39m     \u001b[4m1\u001b[24m245           \u001b[4m1\u001b[24m259       -\u001b[31m14\u001b[39m B6        \u001b[4m1\u001b[24m191\n",
       "\u001b[38;5;250m 5\u001b[39m  \u001b[4m2\u001b[24m013     9    16     \u001b[4m2\u001b[24m145           \u001b[4m2\u001b[24m159       -\u001b[31m14\u001b[39m     \u001b[4m2\u001b[24m233           \u001b[4m2\u001b[24m303       -\u001b[31m30\u001b[39m EV        \u001b[4m4\u001b[24m264\n",
       "\u001b[38;5;250m 6\u001b[39m  \u001b[4m2\u001b[24m013     8    10     \u001b[4m1\u001b[24m613           \u001b[4m1\u001b[24m615        -\u001b[31m2\u001b[39m     \u001b[4m1\u001b[24m922           \u001b[4m1\u001b[24m953       -\u001b[31m31\u001b[39m UA         887\n",
       "\u001b[38;5;250m 7\u001b[39m  \u001b[4m2\u001b[24m013    12    25     \u001b[4m2\u001b[24m036           \u001b[4m2\u001b[24m059       -\u001b[31m23\u001b[39m     \u001b[4m2\u001b[24m313           \u001b[4m2\u001b[24m314        -\u001b[31m1\u001b[39m MQ        \u001b[4m3\u001b[24m473\n",
       "\u001b[38;5;250m 8\u001b[39m  \u001b[4m2\u001b[24m013    10     1      846            900       -\u001b[31m14\u001b[39m     \u001b[4m1\u001b[24m122           \u001b[4m1\u001b[24m158       -\u001b[31m36\u001b[39m B6         795\n",
       "\u001b[38;5;250m 9\u001b[39m  \u001b[4m2\u001b[24m013     1     1      946            959       -\u001b[31m13\u001b[39m     \u001b[4m1\u001b[24m146           \u001b[4m1\u001b[24m202       -\u001b[31m16\u001b[39m EV        \u001b[4m4\u001b[24m175\n",
       "\u001b[38;5;250m10\u001b[39m  \u001b[4m2\u001b[24m013     8    14     \u001b[4m1\u001b[24m133           \u001b[4m1\u001b[24m148       -\u001b[31m15\u001b[39m     \u001b[4m1\u001b[24m206           \u001b[4m1\u001b[24m249       -\u001b[31m43\u001b[39m EV        \u001b[4m4\u001b[24m583\n",
       "\u001b[38;5;246m# ℹ 129 more rows\u001b[39m\n",
       "\u001b[38;5;246m# ℹ 8 more variables: tailnum <chr>, origin <chr>, dest <chr>, air_time <dbl>, distance <dbl>,\u001b[39m\n",
       "\u001b[38;5;246m#   hour <dbl>, minute <dbl>, time_hour <dttm>\u001b[39m\n",
       "\u001b[38;5;246m# ℹ Use `print(n = ...)` to see more rows\u001b[39m"
      ]
     },
     "execution_count": null,
     "metadata": {},
     "output_type": "execute_result"
    }
   ],
   "source": [
    "# Select the flight with the smallest departure delay for each destination\n",
    "flights |>\n",
    "  group_by(dest) |>\n",
    "  slice_min(dep_delay, n = 1)"
   ]
  },
  {
   "cell_type": "code",
   "execution_count": 57,
   "metadata": {
    "vscode": {
     "languageId": "r"
    }
   },
   "outputs": [
    {
     "data": {
      "text/plain": [
       "\u001b[38;5;246m# A tibble: 108 × 19\u001b[39m\n",
       "\u001b[38;5;246m# Groups:   dest [105]\u001b[39m\n",
       "   dest   year month   day dep_time sched_dep_time dep_delay arr_time sched_arr_time arr_delay carrier\n",
       "   \u001b[3m\u001b[38;5;246m<chr>\u001b[39m\u001b[23m \u001b[3m\u001b[38;5;246m<int>\u001b[39m\u001b[23m \u001b[3m\u001b[38;5;246m<int>\u001b[39m\u001b[23m \u001b[3m\u001b[38;5;246m<int>\u001b[39m\u001b[23m    \u001b[3m\u001b[38;5;246m<int>\u001b[39m\u001b[23m          \u001b[3m\u001b[38;5;246m<int>\u001b[39m\u001b[23m     \u001b[3m\u001b[38;5;246m<dbl>\u001b[39m\u001b[23m    \u001b[3m\u001b[38;5;246m<int>\u001b[39m\u001b[23m          \u001b[3m\u001b[38;5;246m<int>\u001b[39m\u001b[23m     \u001b[3m\u001b[38;5;246m<dbl>\u001b[39m\u001b[23m \u001b[3m\u001b[38;5;246m<chr>\u001b[39m\u001b[23m  \n",
       "\u001b[38;5;250m 1\u001b[39m ABQ    \u001b[4m2\u001b[24m013     7    22     \u001b[4m2\u001b[24m145           \u001b[4m2\u001b[24m007        98      132           \u001b[4m2\u001b[24m259       153 B6     \n",
       "\u001b[38;5;250m 2\u001b[39m ACK    \u001b[4m2\u001b[24m013     7    23     \u001b[4m1\u001b[24m139            800       219     \u001b[4m1\u001b[24m250            909       221 B6     \n",
       "\u001b[38;5;250m 3\u001b[39m ALB    \u001b[4m2\u001b[24m013     1    25      123           \u001b[4m2\u001b[24m000       323      229           \u001b[4m2\u001b[24m101       328 EV     \n",
       "\u001b[38;5;250m 4\u001b[39m ANC    \u001b[4m2\u001b[24m013     8    17     \u001b[4m1\u001b[24m740           \u001b[4m1\u001b[24m625        75     \u001b[4m2\u001b[24m042           \u001b[4m2\u001b[24m003        39 UA     \n",
       "\u001b[38;5;250m 5\u001b[39m ATL    \u001b[4m2\u001b[24m013     7    22     \u001b[4m2\u001b[24m257            759       898      121           \u001b[4m1\u001b[24m026       895 DL     \n",
       "\u001b[38;5;250m 6\u001b[39m AUS    \u001b[4m2\u001b[24m013     7    10     \u001b[4m2\u001b[24m056           \u001b[4m1\u001b[24m505       351     \u001b[4m2\u001b[24m347           \u001b[4m1\u001b[24m758       349 UA     \n",
       "\u001b[38;5;250m 7\u001b[39m AVL    \u001b[4m2\u001b[24m013     8    13     \u001b[4m1\u001b[24m156            832       204     \u001b[4m1\u001b[24m417           \u001b[4m1\u001b[24m029       228 EV     \n",
       "\u001b[38;5;250m 8\u001b[39m BDL    \u001b[4m2\u001b[24m013     2    21     \u001b[4m1\u001b[24m728           \u001b[4m1\u001b[24m316       252     \u001b[4m1\u001b[24m839           \u001b[4m1\u001b[24m413       266 EV     \n",
       "\u001b[38;5;250m 9\u001b[39m BGR    \u001b[4m2\u001b[24m013    12     1     \u001b[4m1\u001b[24m504           \u001b[4m1\u001b[24m056       248     \u001b[4m1\u001b[24m628           \u001b[4m1\u001b[24m230       238 EV     \n",
       "\u001b[38;5;250m10\u001b[39m BHM    \u001b[4m2\u001b[24m013     4    10       25           \u001b[4m1\u001b[24m900       325      136           \u001b[4m2\u001b[24m045       291 EV     \n",
       "\u001b[38;5;246m# ℹ 98 more rows\u001b[39m\n",
       "\u001b[38;5;246m# ℹ 8 more variables: flight <int>, tailnum <chr>, origin <chr>, air_time <dbl>, distance <dbl>,\u001b[39m\n",
       "\u001b[38;5;246m#   hour <dbl>, minute <dbl>, time_hour <dttm>\u001b[39m\n",
       "\u001b[38;5;246m# ℹ Use `print(n = ...)` to see more rows\u001b[39m"
      ]
     },
     "execution_count": null,
     "metadata": {},
     "output_type": "execute_result"
    }
   ],
   "source": [
    "flights |>\n",
    "  group_by(dest) |>\n",
    "  slice_max(arr_delay, n = 1) |>\n",
    "  relocate(dest)"
   ]
  },
  {
   "cell_type": "markdown",
   "metadata": {},
   "source": [
    "#### 3.5.4 Grouping by multiple variables"
   ]
  },
  {
   "cell_type": "code",
   "execution_count": 58,
   "metadata": {
    "vscode": {
     "languageId": "r"
    }
   },
   "outputs": [
    {
     "data": {
      "text/plain": [
       "\u001b[38;5;246m# A tibble: 336,776 × 19\u001b[39m\n",
       "\u001b[38;5;246m# Groups:   year, month, day [365]\u001b[39m\n",
       "   arr_time  year month   day dep_time sched_dep_time dep_delay sched_arr_time arr_delay carrier flight\n",
       "      \u001b[3m\u001b[38;5;246m<int>\u001b[39m\u001b[23m \u001b[3m\u001b[38;5;246m<int>\u001b[39m\u001b[23m \u001b[3m\u001b[38;5;246m<int>\u001b[39m\u001b[23m \u001b[3m\u001b[38;5;246m<int>\u001b[39m\u001b[23m    \u001b[3m\u001b[38;5;246m<int>\u001b[39m\u001b[23m          \u001b[3m\u001b[38;5;246m<int>\u001b[39m\u001b[23m     \u001b[3m\u001b[38;5;246m<dbl>\u001b[39m\u001b[23m          \u001b[3m\u001b[38;5;246m<int>\u001b[39m\u001b[23m     \u001b[3m\u001b[38;5;246m<dbl>\u001b[39m\u001b[23m \u001b[3m\u001b[38;5;246m<chr>\u001b[39m\u001b[23m    \u001b[3m\u001b[38;5;246m<int>\u001b[39m\u001b[23m\n",
       "\u001b[38;5;250m 1\u001b[39m      830  \u001b[4m2\u001b[24m013     1     1      517            515         2            819        11 UA        \u001b[4m1\u001b[24m545\n",
       "\u001b[38;5;250m 2\u001b[39m      850  \u001b[4m2\u001b[24m013     1     1      533            529         4            830        20 UA        \u001b[4m1\u001b[24m714\n",
       "\u001b[38;5;250m 3\u001b[39m      923  \u001b[4m2\u001b[24m013     1     1      542            540         2            850        33 AA        \u001b[4m1\u001b[24m141\n",
       "\u001b[38;5;250m 4\u001b[39m     \u001b[4m1\u001b[24m004  \u001b[4m2\u001b[24m013     1     1      544            545        -\u001b[31m1\u001b[39m           \u001b[4m1\u001b[24m022       -\u001b[31m18\u001b[39m B6         725\n",
       "\u001b[38;5;250m 5\u001b[39m      812  \u001b[4m2\u001b[24m013     1     1      554            600        -\u001b[31m6\u001b[39m            837       -\u001b[31m25\u001b[39m DL         461\n",
       "\u001b[38;5;250m 6\u001b[39m      740  \u001b[4m2\u001b[24m013     1     1      554            558        -\u001b[31m4\u001b[39m            728        12 UA        \u001b[4m1\u001b[24m696\n",
       "\u001b[38;5;250m 7\u001b[39m      913  \u001b[4m2\u001b[24m013     1     1      555            600        -\u001b[31m5\u001b[39m            854        19 B6         507\n",
       "\u001b[38;5;250m 8\u001b[39m      709  \u001b[4m2\u001b[24m013     1     1      557            600        -\u001b[31m3\u001b[39m            723       -\u001b[31m14\u001b[39m EV        \u001b[4m5\u001b[24m708\n",
       "\u001b[38;5;250m 9\u001b[39m      838  \u001b[4m2\u001b[24m013     1     1      557            600        -\u001b[31m3\u001b[39m            846        -\u001b[31m8\u001b[39m B6          79\n",
       "\u001b[38;5;250m10\u001b[39m      753  \u001b[4m2\u001b[24m013     1     1      558            600        -\u001b[31m2\u001b[39m            745         8 AA         301\n",
       "\u001b[38;5;246m# ℹ 336,766 more rows\u001b[39m\n",
       "\u001b[38;5;246m# ℹ 8 more variables: tailnum <chr>, origin <chr>, dest <chr>, air_time <dbl>, distance <dbl>,\u001b[39m\n",
       "\u001b[38;5;246m#   hour <dbl>, minute <dbl>, time_hour <dttm>\u001b[39m\n",
       "\u001b[38;5;246m# ℹ Use `print(n = ...)` to see more rows\u001b[39m"
      ]
     },
     "execution_count": null,
     "metadata": {},
     "output_type": "execute_result"
    }
   ],
   "source": [
    "# Grouping the flights by year, month, and day\n",
    "daily <- flights |>\n",
    "  group_by(year, month, day) |>\n",
    "relocate(arr_time)\n",
    "\n",
    "daily\n"
   ]
  },
  {
   "cell_type": "code",
   "execution_count": 59,
   "metadata": {
    "vscode": {
     "languageId": "r"
    }
   },
   "outputs": [
    {
     "name": "stdout",
     "output_type": "stream",
     "text": [
      "\u001b[1m\u001b[22m`summarise()` has grouped output by 'year', 'month'. You can override using the `.groups` argument.\n",
      "\u001b[1m\u001b[22m`summarise()` has grouped output by 'year', 'month'. You can override using the `.groups` argument.\n"
     ]
    },
    {
     "data": {
      "text/plain": [
       "\u001b[38;5;246m# A tibble: 365 × 4\u001b[39m\n",
       "\u001b[38;5;246m# Groups:   year, month [12]\u001b[39m\n",
       "    year month   day insight\n",
       "   \u001b[3m\u001b[38;5;246m<int>\u001b[39m\u001b[23m \u001b[3m\u001b[38;5;246m<int>\u001b[39m\u001b[23m \u001b[3m\u001b[38;5;246m<int>\u001b[39m\u001b[23m   \u001b[3m\u001b[38;5;246m<dbl>\u001b[39m\u001b[23m\n",
       "\u001b[38;5;250m 1\u001b[39m  \u001b[4m2\u001b[24m013     1     1   \u001b[4m1\u001b[24m372.\n",
       "\u001b[38;5;250m 2\u001b[39m  \u001b[4m2\u001b[24m013     1     2   \u001b[4m1\u001b[24m341.\n",
       "\u001b[38;5;250m 3\u001b[39m  \u001b[4m2\u001b[24m013     1     3   \u001b[4m1\u001b[24m344.\n",
       "\u001b[38;5;250m 4\u001b[39m  \u001b[4m2\u001b[24m013     1     4   \u001b[4m1\u001b[24m341.\n",
       "\u001b[38;5;250m 5\u001b[39m  \u001b[4m2\u001b[24m013     1     5   \u001b[4m1\u001b[24m326.\n",
       "\u001b[38;5;250m 6\u001b[39m  \u001b[4m2\u001b[24m013     1     6   \u001b[4m1\u001b[24m393.\n",
       "\u001b[38;5;250m 7\u001b[39m  \u001b[4m2\u001b[24m013     1     7   \u001b[4m1\u001b[24m337.\n",
       "\u001b[38;5;250m 8\u001b[39m  \u001b[4m2\u001b[24m013     1     8   \u001b[4m1\u001b[24m334.\n",
       "\u001b[38;5;250m 9\u001b[39m  \u001b[4m2\u001b[24m013     1     9   \u001b[4m1\u001b[24m335.\n",
       "\u001b[38;5;250m10\u001b[39m  \u001b[4m2\u001b[24m013     1    10   \u001b[4m1\u001b[24m339.\n",
       "\u001b[38;5;246m# ℹ 355 more rows\u001b[39m\n",
       "\u001b[38;5;246m# ℹ Use `print(n = ...)` to see more rows\u001b[39m"
      ]
     },
     "execution_count": null,
     "metadata": {},
     "output_type": "execute_result"
    }
   ],
   "source": [
    "# summarising the grouping\n",
    "daily |> summarise(insight = mean(sched_dep_time))"
   ]
  },
  {
   "cell_type": "code",
   "execution_count": 60,
   "metadata": {
    "vscode": {
     "languageId": "r"
    }
   },
   "outputs": [
    {
     "name": "stdout",
     "output_type": "stream",
     "text": [
      "\u001b[1m\u001b[22m`summarise()` has grouped output by 'year', 'month'. You can override using the `.groups` argument.\n",
      "\u001b[1m\u001b[22m`summarise()` has grouped output by 'year', 'month'. You can override using the `.groups` argument.\n"
     ]
    },
    {
     "data": {
      "text/plain": [
       "\u001b[38;5;246m# A tibble: 6 × 5\u001b[39m\n",
       "\u001b[38;5;246m# Groups:   year, month [1]\u001b[39m\n",
       "   year month   day     n insight\n",
       "  \u001b[3m\u001b[38;5;246m<int>\u001b[39m\u001b[23m \u001b[3m\u001b[38;5;246m<int>\u001b[39m\u001b[23m \u001b[3m\u001b[38;5;246m<int>\u001b[39m\u001b[23m \u001b[3m\u001b[38;5;246m<int>\u001b[39m\u001b[23m   \u001b[3m\u001b[38;5;246m<dbl>\u001b[39m\u001b[23m\n",
       "\u001b[38;5;250m1\u001b[39m  \u001b[4m2\u001b[24m013     1     1   842   \u001b[4m1\u001b[24m372.\n",
       "\u001b[38;5;250m2\u001b[39m  \u001b[4m2\u001b[24m013     1     2   943   \u001b[4m1\u001b[24m341.\n",
       "\u001b[38;5;250m3\u001b[39m  \u001b[4m2\u001b[24m013     1     3   914   \u001b[4m1\u001b[24m344.\n",
       "\u001b[38;5;250m4\u001b[39m  \u001b[4m2\u001b[24m013     1     4   915   \u001b[4m1\u001b[24m341.\n",
       "\u001b[38;5;250m5\u001b[39m  \u001b[4m2\u001b[24m013     1     5   720   \u001b[4m1\u001b[24m326.\n",
       "\u001b[38;5;250m6\u001b[39m  \u001b[4m2\u001b[24m013     1     6   832   \u001b[4m1\u001b[24m393."
      ]
     },
     "execution_count": null,
     "metadata": {},
     "output_type": "execute_result"
    }
   ],
   "source": [
    "daily |> summarise(n=n(),  insight = mean(sched_dep_time)) |> head()"
   ]
  },
  {
   "cell_type": "code",
   "execution_count": 61,
   "metadata": {
    "vscode": {
     "languageId": "r"
    }
   },
   "outputs": [
    {
     "data": {
      "text/plain": [
       "\u001b[38;5;246m# A tibble: 365 × 4\u001b[39m\n",
       "\u001b[38;5;246m# Groups:   year, month [12]\u001b[39m\n",
       "    year month   day     n\n",
       "   \u001b[3m\u001b[38;5;246m<int>\u001b[39m\u001b[23m \u001b[3m\u001b[38;5;246m<int>\u001b[39m\u001b[23m \u001b[3m\u001b[38;5;246m<int>\u001b[39m\u001b[23m \u001b[3m\u001b[38;5;246m<int>\u001b[39m\u001b[23m\n",
       "\u001b[38;5;250m 1\u001b[39m  \u001b[4m2\u001b[24m013     1     1   842\n",
       "\u001b[38;5;250m 2\u001b[39m  \u001b[4m2\u001b[24m013     1     2   943\n",
       "\u001b[38;5;250m 3\u001b[39m  \u001b[4m2\u001b[24m013     1     3   914\n",
       "\u001b[38;5;250m 4\u001b[39m  \u001b[4m2\u001b[24m013     1     4   915\n",
       "\u001b[38;5;250m 5\u001b[39m  \u001b[4m2\u001b[24m013     1     5   720\n",
       "\u001b[38;5;250m 6\u001b[39m  \u001b[4m2\u001b[24m013     1     6   832\n",
       "\u001b[38;5;250m 7\u001b[39m  \u001b[4m2\u001b[24m013     1     7   933\n",
       "\u001b[38;5;250m 8\u001b[39m  \u001b[4m2\u001b[24m013     1     8   899\n",
       "\u001b[38;5;250m 9\u001b[39m  \u001b[4m2\u001b[24m013     1     9   902\n",
       "\u001b[38;5;250m10\u001b[39m  \u001b[4m2\u001b[24m013     1    10   932\n",
       "\u001b[38;5;246m# ℹ 355 more rows\u001b[39m\n",
       "\u001b[38;5;246m# ℹ Use `print(n = ...)` to see more rows\u001b[39m"
      ]
     },
     "execution_count": null,
     "metadata": {},
     "output_type": "execute_result"
    }
   ],
   "source": [
    "# Summarize with the default \"drop_last\" behavior\n",
    "daily_flights <- daily |>\n",
    "  summarize(\n",
    "    n = n(),\n",
    "    .groups = \"drop_last\"\n",
    "  )\n",
    "\n",
    "daily_flights"
   ]
  },
  {
   "cell_type": "code",
   "execution_count": 62,
   "metadata": {
    "vscode": {
     "languageId": "r"
    }
   },
   "outputs": [
    {
     "data": {
      "text/plain": [
       "\u001b[38;5;246m# A tibble: 365 × 4\u001b[39m\n",
       "    year month   day     n\n",
       "   \u001b[3m\u001b[38;5;246m<int>\u001b[39m\u001b[23m \u001b[3m\u001b[38;5;246m<int>\u001b[39m\u001b[23m \u001b[3m\u001b[38;5;246m<int>\u001b[39m\u001b[23m \u001b[3m\u001b[38;5;246m<int>\u001b[39m\u001b[23m\n",
       "\u001b[38;5;250m 1\u001b[39m  \u001b[4m2\u001b[24m013     1     1   842\n",
       "\u001b[38;5;250m 2\u001b[39m  \u001b[4m2\u001b[24m013     1     2   943\n",
       "\u001b[38;5;250m 3\u001b[39m  \u001b[4m2\u001b[24m013     1     3   914\n",
       "\u001b[38;5;250m 4\u001b[39m  \u001b[4m2\u001b[24m013     1     4   915\n",
       "\u001b[38;5;250m 5\u001b[39m  \u001b[4m2\u001b[24m013     1     5   720\n",
       "\u001b[38;5;250m 6\u001b[39m  \u001b[4m2\u001b[24m013     1     6   832\n",
       "\u001b[38;5;250m 7\u001b[39m  \u001b[4m2\u001b[24m013     1     7   933\n",
       "\u001b[38;5;250m 8\u001b[39m  \u001b[4m2\u001b[24m013     1     8   899\n",
       "\u001b[38;5;250m 9\u001b[39m  \u001b[4m2\u001b[24m013     1     9   902\n",
       "\u001b[38;5;250m10\u001b[39m  \u001b[4m2\u001b[24m013     1    10   932\n",
       "\u001b[38;5;246m# ℹ 355 more rows\u001b[39m\n",
       "\u001b[38;5;246m# ℹ Use `print(n = ...)` to see more rows\u001b[39m"
      ]
     },
     "execution_count": null,
     "metadata": {},
     "output_type": "execute_result"
    }
   ],
   "source": [
    "# Summarize and drop all grouping\n",
    "daily_flights1 <- daily |>\n",
    "  summarize(\n",
    "    n = n(),\n",
    "    .groups = \"drop\"\n",
    "  )\n",
    "\n",
    "daily_flights1"
   ]
  },
  {
   "cell_type": "markdown",
   "metadata": {
    "vscode": {
     "languageId": "r"
    }
   },
   "source": [
    "#### Ungrouping the data"
   ]
  },
  {
   "cell_type": "code",
   "execution_count": 63,
   "metadata": {
    "vscode": {
     "languageId": "r"
    }
   },
   "outputs": [
    {
     "data": {
      "text/plain": [
       "\u001b[38;5;246m# A tibble: 6 × 19\u001b[39m\n",
       "  arr_time  year month   day dep_time sched_dep_time dep_delay sched_arr_time arr_delay carrier flight\n",
       "     \u001b[3m\u001b[38;5;246m<int>\u001b[39m\u001b[23m \u001b[3m\u001b[38;5;246m<int>\u001b[39m\u001b[23m \u001b[3m\u001b[38;5;246m<int>\u001b[39m\u001b[23m \u001b[3m\u001b[38;5;246m<int>\u001b[39m\u001b[23m    \u001b[3m\u001b[38;5;246m<int>\u001b[39m\u001b[23m          \u001b[3m\u001b[38;5;246m<int>\u001b[39m\u001b[23m     \u001b[3m\u001b[38;5;246m<dbl>\u001b[39m\u001b[23m          \u001b[3m\u001b[38;5;246m<int>\u001b[39m\u001b[23m     \u001b[3m\u001b[38;5;246m<dbl>\u001b[39m\u001b[23m \u001b[3m\u001b[38;5;246m<chr>\u001b[39m\u001b[23m    \u001b[3m\u001b[38;5;246m<int>\u001b[39m\u001b[23m\n",
       "\u001b[38;5;250m1\u001b[39m      830  \u001b[4m2\u001b[24m013     1     1      517            515         2            819        11 UA        \u001b[4m1\u001b[24m545\n",
       "\u001b[38;5;250m2\u001b[39m      850  \u001b[4m2\u001b[24m013     1     1      533            529         4            830        20 UA        \u001b[4m1\u001b[24m714\n",
       "\u001b[38;5;250m3\u001b[39m      923  \u001b[4m2\u001b[24m013     1     1      542            540         2            850        33 AA        \u001b[4m1\u001b[24m141\n",
       "\u001b[38;5;250m4\u001b[39m     \u001b[4m1\u001b[24m004  \u001b[4m2\u001b[24m013     1     1      544            545        -\u001b[31m1\u001b[39m           \u001b[4m1\u001b[24m022       -\u001b[31m18\u001b[39m B6         725\n",
       "\u001b[38;5;250m5\u001b[39m      812  \u001b[4m2\u001b[24m013     1     1      554            600        -\u001b[31m6\u001b[39m            837       -\u001b[31m25\u001b[39m DL         461\n",
       "\u001b[38;5;250m6\u001b[39m      740  \u001b[4m2\u001b[24m013     1     1      554            558        -\u001b[31m4\u001b[39m            728        12 UA        \u001b[4m1\u001b[24m696\n",
       "\u001b[38;5;246m# ℹ 8 more variables: tailnum <chr>, origin <chr>, dest <chr>, air_time <dbl>, distance <dbl>,\u001b[39m\n",
       "\u001b[38;5;246m#   hour <dbl>, minute <dbl>, time_hour <dttm>\u001b[39m"
      ]
     },
     "execution_count": null,
     "metadata": {},
     "output_type": "execute_result"
    }
   ],
   "source": [
    "#  ungroup the data\n",
    "daily |>\n",
    "ungroup()  |> head()"
   ]
  },
  {
   "cell_type": "code",
   "execution_count": 65,
   "metadata": {
    "vscode": {
     "languageId": "r"
    }
   },
   "outputs": [
    {
     "data": {
      "text/plain": [
       "\u001b[38;5;246m# A tibble: 1 × 2\u001b[39m\n",
       "  avg_delay flight\n",
       "      \u001b[3m\u001b[38;5;246m<dbl>\u001b[39m\u001b[23m  \u001b[3m\u001b[38;5;246m<int>\u001b[39m\u001b[23m\n",
       "\u001b[38;5;250m1\u001b[39m      12.6 \u001b[4m3\u001b[24m\u001b[4m3\u001b[24m\u001b[4m6\u001b[24m776"
      ]
     },
     "execution_count": null,
     "metadata": {},
     "output_type": "execute_result"
    }
   ],
   "source": [
    "# summarise the ungroup data\n",
    "daily |>\n",
    "  ungroup() |>\n",
    "  summarise (\n",
    "    avg_delay = mean(dep_delay, na.rm = TRUE),\n",
    "    flight = n()\n",
    "  )"
   ]
  },
  {
   "cell_type": "markdown",
   "metadata": {},
   "source": [
    "#### Group using `.by`"
   ]
  },
  {
   "cell_type": "code",
   "execution_count": 66,
   "metadata": {
    "vscode": {
     "languageId": "r"
    }
   },
   "outputs": [
    {
     "data": {
      "text/plain": [
       "\u001b[38;5;246m# A tibble: 12 × 3\u001b[39m\n",
       "   month delay     n\n",
       "   \u001b[3m\u001b[38;5;246m<int>\u001b[39m\u001b[23m \u001b[3m\u001b[38;5;246m<dbl>\u001b[39m\u001b[23m \u001b[3m\u001b[38;5;246m<int>\u001b[39m\u001b[23m\n",
       "\u001b[38;5;250m 1\u001b[39m     1 10.0  \u001b[4m2\u001b[24m\u001b[4m7\u001b[24m004\n",
       "\u001b[38;5;250m 2\u001b[39m    10  6.24 \u001b[4m2\u001b[24m\u001b[4m8\u001b[24m889\n",
       "\u001b[38;5;250m 3\u001b[39m    11  5.44 \u001b[4m2\u001b[24m\u001b[4m7\u001b[24m268\n",
       "\u001b[38;5;250m 4\u001b[39m    12 16.6  \u001b[4m2\u001b[24m\u001b[4m8\u001b[24m135\n",
       "\u001b[38;5;250m 5\u001b[39m     2 10.8  \u001b[4m2\u001b[24m\u001b[4m4\u001b[24m951\n",
       "\u001b[38;5;250m 6\u001b[39m     3 13.2  \u001b[4m2\u001b[24m\u001b[4m8\u001b[24m834\n",
       "\u001b[38;5;250m 7\u001b[39m     4 13.9  \u001b[4m2\u001b[24m\u001b[4m8\u001b[24m330\n",
       "\u001b[38;5;250m 8\u001b[39m     5 13.0  \u001b[4m2\u001b[24m\u001b[4m8\u001b[24m796\n",
       "\u001b[38;5;250m 9\u001b[39m     6 20.8  \u001b[4m2\u001b[24m\u001b[4m8\u001b[24m243\n",
       "\u001b[38;5;250m10\u001b[39m     7 21.7  \u001b[4m2\u001b[24m\u001b[4m9\u001b[24m425\n",
       "\u001b[38;5;250m11\u001b[39m     8 12.6  \u001b[4m2\u001b[24m\u001b[4m9\u001b[24m327\n",
       "\u001b[38;5;250m12\u001b[39m     9  6.72 \u001b[4m2\u001b[24m\u001b[4m7\u001b[24m574"
      ]
     },
     "execution_count": null,
     "metadata": {},
     "output_type": "execute_result"
    }
   ],
   "source": [
    "flights |>\n",
    "  summarize(\n",
    "    delay = mean(dep_delay, na.rm = TRUE),\n",
    "    n = n(),\n",
    "    .by = month\n",
    "  )\n"
   ]
  },
  {
   "cell_type": "code",
   "execution_count": 67,
   "metadata": {
    "vscode": {
     "languageId": "r"
    }
   },
   "outputs": [
    {
     "data": {
      "text/plain": [
       "\u001b[38;5;246m# A tibble: 224 × 4\u001b[39m\n",
       "   origin dest  delay     n\n",
       "   \u001b[3m\u001b[38;5;246m<chr>\u001b[39m\u001b[23m  \u001b[3m\u001b[38;5;246m<chr>\u001b[39m\u001b[23m \u001b[3m\u001b[38;5;246m<dbl>\u001b[39m\u001b[23m \u001b[3m\u001b[38;5;246m<int>\u001b[39m\u001b[23m\n",
       "\u001b[38;5;250m 1\u001b[39m EWR    IAH   11.8   \u001b[4m3\u001b[24m973\n",
       "\u001b[38;5;250m 2\u001b[39m LGA    IAH    9.06  \u001b[4m2\u001b[24m951\n",
       "\u001b[38;5;250m 3\u001b[39m JFK    MIA    9.34  \u001b[4m3\u001b[24m314\n",
       "\u001b[38;5;250m 4\u001b[39m JFK    BQN    6.67   599\n",
       "\u001b[38;5;250m 5\u001b[39m LGA    ATL   11.4  \u001b[4m1\u001b[24m\u001b[4m0\u001b[24m263\n",
       "\u001b[38;5;250m 6\u001b[39m EWR    ORD   14.6   \u001b[4m6\u001b[24m100\n",
       "\u001b[38;5;250m 7\u001b[39m EWR    FLL   13.5   \u001b[4m3\u001b[24m793\n",
       "\u001b[38;5;250m 8\u001b[39m LGA    IAD   16.7   \u001b[4m1\u001b[24m803\n",
       "\u001b[38;5;250m 9\u001b[39m JFK    MCO   10.6   \u001b[4m5\u001b[24m464\n",
       "\u001b[38;5;250m10\u001b[39m LGA    ORD   10.7   \u001b[4m8\u001b[24m857\n",
       "\u001b[38;5;246m# ℹ 214 more rows\u001b[39m\n",
       "\u001b[38;5;246m# ℹ Use `print(n = ...)` to see more rows\u001b[39m"
      ]
     },
     "execution_count": null,
     "metadata": {},
     "output_type": "execute_result"
    }
   ],
   "source": [
    "flights |>\n",
    "  summarize(\n",
    "    delay = mean(dep_delay, na.rm = TRUE),\n",
    "    n = n(),\n",
    "    .by = c(origin, dest)\n",
    "  )"
   ]
  },
  {
   "cell_type": "code",
   "execution_count": 68,
   "metadata": {
    "vscode": {
     "languageId": "r"
    }
   },
   "outputs": [
    {
     "data": {
      "text/plain": [
       "\u001b[38;5;246m# A tibble: 12 × 3\u001b[39m\n",
       "   month delay     n\n",
       "   \u001b[3m\u001b[38;5;246m<int>\u001b[39m\u001b[23m \u001b[3m\u001b[38;5;246m<dbl>\u001b[39m\u001b[23m \u001b[3m\u001b[38;5;246m<int>\u001b[39m\u001b[23m\n",
       "\u001b[38;5;250m 1\u001b[39m     1 10.0  \u001b[4m2\u001b[24m\u001b[4m7\u001b[24m004\n",
       "\u001b[38;5;250m 2\u001b[39m     2 10.8  \u001b[4m2\u001b[24m\u001b[4m4\u001b[24m951\n",
       "\u001b[38;5;250m 3\u001b[39m     3 13.2  \u001b[4m2\u001b[24m\u001b[4m8\u001b[24m834\n",
       "\u001b[38;5;250m 4\u001b[39m     4 13.9  \u001b[4m2\u001b[24m\u001b[4m8\u001b[24m330\n",
       "\u001b[38;5;250m 5\u001b[39m     5 13.0  \u001b[4m2\u001b[24m\u001b[4m8\u001b[24m796\n",
       "\u001b[38;5;250m 6\u001b[39m     6 20.8  \u001b[4m2\u001b[24m\u001b[4m8\u001b[24m243\n",
       "\u001b[38;5;250m 7\u001b[39m     7 21.7  \u001b[4m2\u001b[24m\u001b[4m9\u001b[24m425\n",
       "\u001b[38;5;250m 8\u001b[39m     8 12.6  \u001b[4m2\u001b[24m\u001b[4m9\u001b[24m327\n",
       "\u001b[38;5;250m 9\u001b[39m     9  6.72 \u001b[4m2\u001b[24m\u001b[4m7\u001b[24m574\n",
       "\u001b[38;5;250m10\u001b[39m    10  6.24 \u001b[4m2\u001b[24m\u001b[4m8\u001b[24m889\n",
       "\u001b[38;5;250m11\u001b[39m    11  5.44 \u001b[4m2\u001b[24m\u001b[4m7\u001b[24m268\n",
       "\u001b[38;5;250m12\u001b[39m    12 16.6  \u001b[4m2\u001b[24m\u001b[4m8\u001b[24m135"
      ]
     },
     "execution_count": null,
     "metadata": {},
     "output_type": "execute_result"
    }
   ],
   "source": [
    "\n",
    "# Without .by\n",
    "flights |>\n",
    "  group_by(month) |>\n",
    "  summarize(delay = mean(dep_delay, na.rm = TRUE), n = n()) |>\n",
    "  ungroup()"
   ]
  },
  {
   "cell_type": "code",
   "execution_count": 69,
   "metadata": {
    "vscode": {
     "languageId": "r"
    }
   },
   "outputs": [
    {
     "data": {
      "text/plain": [
       "\u001b[38;5;246m# A tibble: 12 × 3\u001b[39m\n",
       "   month delay     n\n",
       "   \u001b[3m\u001b[38;5;246m<int>\u001b[39m\u001b[23m \u001b[3m\u001b[38;5;246m<dbl>\u001b[39m\u001b[23m \u001b[3m\u001b[38;5;246m<int>\u001b[39m\u001b[23m\n",
       "\u001b[38;5;250m 1\u001b[39m     1 10.0  \u001b[4m2\u001b[24m\u001b[4m7\u001b[24m004\n",
       "\u001b[38;5;250m 2\u001b[39m     2 10.8  \u001b[4m2\u001b[24m\u001b[4m4\u001b[24m951\n",
       "\u001b[38;5;250m 3\u001b[39m     3 13.2  \u001b[4m2\u001b[24m\u001b[4m8\u001b[24m834\n",
       "\u001b[38;5;250m 4\u001b[39m     4 13.9  \u001b[4m2\u001b[24m\u001b[4m8\u001b[24m330\n",
       "\u001b[38;5;250m 5\u001b[39m     5 13.0  \u001b[4m2\u001b[24m\u001b[4m8\u001b[24m796\n",
       "\u001b[38;5;250m 6\u001b[39m     6 20.8  \u001b[4m2\u001b[24m\u001b[4m8\u001b[24m243\n",
       "\u001b[38;5;250m 7\u001b[39m     7 21.7  \u001b[4m2\u001b[24m\u001b[4m9\u001b[24m425\n",
       "\u001b[38;5;250m 8\u001b[39m     8 12.6  \u001b[4m2\u001b[24m\u001b[4m9\u001b[24m327\n",
       "\u001b[38;5;250m 9\u001b[39m     9  6.72 \u001b[4m2\u001b[24m\u001b[4m7\u001b[24m574\n",
       "\u001b[38;5;250m10\u001b[39m    10  6.24 \u001b[4m2\u001b[24m\u001b[4m8\u001b[24m889\n",
       "\u001b[38;5;250m11\u001b[39m    11  5.44 \u001b[4m2\u001b[24m\u001b[4m7\u001b[24m268\n",
       "\u001b[38;5;250m12\u001b[39m    12 16.6  \u001b[4m2\u001b[24m\u001b[4m8\u001b[24m135"
      ]
     },
     "execution_count": null,
     "metadata": {},
     "output_type": "execute_result"
    }
   ],
   "source": [
    "\n",
    "# Without .by\n",
    "flights |>\n",
    "  group_by(month) |>\n",
    "  summarize(delay = mean(dep_delay, na.rm = TRUE), n = n()) "
   ]
  },
  {
   "cell_type": "markdown",
   "metadata": {},
   "source": [
    "# CHAPTE 4:Workflow: code style"
   ]
  },
  {
   "cell_type": "code",
   "execution_count": 5,
   "metadata": {
    "vscode": {
     "languageId": "r"
    }
   },
   "outputs": [
    {
     "name": "stderr",
     "output_type": "stream",
     "text": [
      "\u001b[1m\u001b[22m`summarise()` has grouped output by 'year', 'month'. You can override using the\n",
      "`.groups` argument.\n"
     ]
    },
    {
     "data": {
      "text/html": [
       "<table class=\"dataframe\">\n",
       "<caption>A grouped_df: 6 x 5</caption>\n",
       "<thead>\n",
       "\t<tr><th scope=col>year</th><th scope=col>month</th><th scope=col>day</th><th scope=col>n</th><th scope=col>delay</th></tr>\n",
       "\t<tr><th scope=col>&lt;int&gt;</th><th scope=col>&lt;int&gt;</th><th scope=col>&lt;int&gt;</th><th scope=col>&lt;int&gt;</th><th scope=col>&lt;dbl&gt;</th></tr>\n",
       "</thead>\n",
       "<tbody>\n",
       "\t<tr><td>2013</td><td>1</td><td>1</td><td>20</td><td>17.850000</td></tr>\n",
       "\t<tr><td>2013</td><td>1</td><td>2</td><td>20</td><td> 7.000000</td></tr>\n",
       "\t<tr><td>2013</td><td>1</td><td>3</td><td>19</td><td>18.315789</td></tr>\n",
       "\t<tr><td>2013</td><td>1</td><td>4</td><td>20</td><td>-3.200000</td></tr>\n",
       "\t<tr><td>2013</td><td>1</td><td>5</td><td>13</td><td>20.230769</td></tr>\n",
       "\t<tr><td>2013</td><td>1</td><td>6</td><td>18</td><td> 9.277778</td></tr>\n",
       "</tbody>\n",
       "</table>\n"
      ],
      "text/latex": [
       "A grouped\\_df: 6 x 5\n",
       "\\begin{tabular}{lllll}\n",
       " year & month & day & n & delay\\\\\n",
       " <int> & <int> & <int> & <int> & <dbl>\\\\\n",
       "\\hline\n",
       "\t 2013 & 1 & 1 & 20 & 17.850000\\\\\n",
       "\t 2013 & 1 & 2 & 20 &  7.000000\\\\\n",
       "\t 2013 & 1 & 3 & 19 & 18.315789\\\\\n",
       "\t 2013 & 1 & 4 & 20 & -3.200000\\\\\n",
       "\t 2013 & 1 & 5 & 13 & 20.230769\\\\\n",
       "\t 2013 & 1 & 6 & 18 &  9.277778\\\\\n",
       "\\end{tabular}\n"
      ],
      "text/markdown": [
       "\n",
       "A grouped_df: 6 x 5\n",
       "\n",
       "| year &lt;int&gt; | month &lt;int&gt; | day &lt;int&gt; | n &lt;int&gt; | delay &lt;dbl&gt; |\n",
       "|---|---|---|---|---|\n",
       "| 2013 | 1 | 1 | 20 | 17.850000 |\n",
       "| 2013 | 1 | 2 | 20 |  7.000000 |\n",
       "| 2013 | 1 | 3 | 19 | 18.315789 |\n",
       "| 2013 | 1 | 4 | 20 | -3.200000 |\n",
       "| 2013 | 1 | 5 | 13 | 20.230769 |\n",
       "| 2013 | 1 | 6 | 18 |  9.277778 |\n",
       "\n"
      ],
      "text/plain": [
       "  year month day n  delay    \n",
       "1 2013 1     1   20 17.850000\n",
       "2 2013 1     2   20  7.000000\n",
       "3 2013 1     3   19 18.315789\n",
       "4 2013 1     4   20 -3.200000\n",
       "5 2013 1     5   13 20.230769\n",
       "6 2013 1     6   18  9.277778"
      ]
     },
     "metadata": {},
     "output_type": "display_data"
    }
   ],
   "source": [
    "flights |> \n",
    "    filter (dest==\"IAH\") |>\n",
    "    group_by(year,month,day)|>\n",
    "    summarize(\n",
    "        n=n(), \n",
    "        delay=mean(arr_delay,na.rm=TRUE))|>\n",
    "    filter(n>10)   |> head()"
   ]
  },
  {
   "cell_type": "code",
   "execution_count": 7,
   "metadata": {
    "vscode": {
     "languageId": "r"
    }
   },
   "outputs": [
    {
     "data": {
      "text/html": [
       "<table class=\"dataframe\">\n",
       "<caption>A tibble: 6 x 4</caption>\n",
       "<thead>\n",
       "\t<tr><th scope=col>flight</th><th scope=col>delay</th><th scope=col>cancelled</th><th scope=col>n</th></tr>\n",
       "\t<tr><th scope=col>&lt;int&gt;</th><th scope=col>&lt;dbl&gt;</th><th scope=col>&lt;int&gt;</th><th scope=col>&lt;int&gt;</th></tr>\n",
       "</thead>\n",
       "<tbody>\n",
       "\t<tr><td> 53</td><td>12.500000</td><td>2</td><td>18</td></tr>\n",
       "\t<tr><td>112</td><td>14.142857</td><td>0</td><td>14</td></tr>\n",
       "\t<tr><td>205</td><td>-1.714286</td><td>0</td><td>14</td></tr>\n",
       "\t<tr><td>235</td><td>-5.357143</td><td>0</td><td>14</td></tr>\n",
       "\t<tr><td>255</td><td>-9.466667</td><td>0</td><td>15</td></tr>\n",
       "\t<tr><td>268</td><td>38.642857</td><td>1</td><td>15</td></tr>\n",
       "</tbody>\n",
       "</table>\n"
      ],
      "text/latex": [
       "A tibble: 6 x 4\n",
       "\\begin{tabular}{llll}\n",
       " flight & delay & cancelled & n\\\\\n",
       " <int> & <dbl> & <int> & <int>\\\\\n",
       "\\hline\n",
       "\t  53 & 12.500000 & 2 & 18\\\\\n",
       "\t 112 & 14.142857 & 0 & 14\\\\\n",
       "\t 205 & -1.714286 & 0 & 14\\\\\n",
       "\t 235 & -5.357143 & 0 & 14\\\\\n",
       "\t 255 & -9.466667 & 0 & 15\\\\\n",
       "\t 268 & 38.642857 & 1 & 15\\\\\n",
       "\\end{tabular}\n"
      ],
      "text/markdown": [
       "\n",
       "A tibble: 6 x 4\n",
       "\n",
       "| flight &lt;int&gt; | delay &lt;dbl&gt; | cancelled &lt;int&gt; | n &lt;int&gt; |\n",
       "|---|---|---|---|\n",
       "|  53 | 12.500000 | 2 | 18 |\n",
       "| 112 | 14.142857 | 0 | 14 |\n",
       "| 205 | -1.714286 | 0 | 14 |\n",
       "| 235 | -5.357143 | 0 | 14 |\n",
       "| 255 | -9.466667 | 0 | 15 |\n",
       "| 268 | 38.642857 | 1 | 15 |\n",
       "\n"
      ],
      "text/plain": [
       "  flight delay     cancelled n \n",
       "1  53    12.500000 2         18\n",
       "2 112    14.142857 0         14\n",
       "3 205    -1.714286 0         14\n",
       "4 235    -5.357143 0         14\n",
       "5 255    -9.466667 0         15\n",
       "6 268    38.642857 1         15"
      ]
     },
     "metadata": {},
     "output_type": "display_data"
    }
   ],
   "source": [
    "flights|> \n",
    "    filter(carrier==\"UA\",\n",
    "           dest%in%c(\"IAH\",\"HOU\"),\n",
    "           sched_dep_time > 0900,\n",
    "           sched_arr_time<2000)|>\n",
    "    group_by(flight)|>\n",
    "    summarize(delay=mean(\n",
    "                        arr_delay,na.rm=TRUE),\n",
    "              cancelled=sum(is.na(arr_delay)),\n",
    "              n=n())|>\n",
    "    filter(n>10) |> head()\n"
   ]
  }
 ],
 "metadata": {
  "kernelspec": {
   "display_name": "R",
   "language": "R",
   "name": "ir"
  },
  "language_info": {
   "codemirror_mode": "r",
   "file_extension": ".r",
   "mimetype": "text/x-r-source",
   "name": "R",
   "pygments_lexer": "r",
   "version": "4.4.0"
  }
 },
 "nbformat": 4,
 "nbformat_minor": 2
}
