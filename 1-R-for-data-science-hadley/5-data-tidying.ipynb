{
 "cells": [
  {
   "cell_type": "markdown",
   "metadata": {},
   "source": [
    "## CHAPTER 5"
   ]
  },
  {
   "cell_type": "code",
   "execution_count": 4,
   "metadata": {
    "vscode": {
     "languageId": "r"
    }
   },
   "outputs": [
    {
     "name": "stderr",
     "output_type": "stream",
     "text": [
      "-- \u001b[1mAttaching core tidyverse packages\u001b[22m ------------------------ tidyverse 2.0.0 --\n",
      "\u001b[32mv\u001b[39m \u001b[34mdplyr    \u001b[39m 1.1.4     \u001b[32mv\u001b[39m \u001b[34mpurrr    \u001b[39m 1.0.2\n",
      "\u001b[32mv\u001b[39m \u001b[34mforcats  \u001b[39m 1.0.0     \u001b[32mv\u001b[39m \u001b[34mreadr    \u001b[39m 2.1.5\n",
      "\u001b[32mv\u001b[39m \u001b[34mggplot2  \u001b[39m 3.5.1     \u001b[32mv\u001b[39m \u001b[34mstringr  \u001b[39m 1.5.1\n",
      "\u001b[32mv\u001b[39m \u001b[34mlubridate\u001b[39m 1.9.3     \u001b[32mv\u001b[39m \u001b[34mtibble   \u001b[39m 3.2.1\n",
      "-- \u001b[1mConflicts\u001b[22m ------------------------------------------ tidyverse_conflicts() --\n",
      "\u001b[31mx\u001b[39m \u001b[34mdplyr\u001b[39m::\u001b[32mfilter()\u001b[39m masks \u001b[34mstats\u001b[39m::filter()\n",
      "\u001b[31mx\u001b[39m \u001b[34mdplyr\u001b[39m::\u001b[32mlag()\u001b[39m    masks \u001b[34mstats\u001b[39m::lag()\n",
      "\u001b[36mi\u001b[39m Use the conflicted package (\u001b[3m\u001b[34m<http://conflicted.r-lib.org/>\u001b[39m\u001b[23m) to force all conflicts to become errors\n"
     ]
    }
   ],
   "source": [
    "library(tidyverse)"
   ]
  },
  {
   "cell_type": "code",
   "execution_count": 5,
   "metadata": {
    "vscode": {
     "languageId": "r"
    }
   },
   "outputs": [
    {
     "name": "stderr",
     "output_type": "stream",
     "text": [
      "Warning message in download.file(url, destfile, method, mode = \"wb\", ...):\n",
      "\"URL 'https://cran.r-project.org/bin/macosx/big-sur-arm64/contrib/4.4/tidyr_1.3.1.tgz': Timeout of 60 seconds was reached\"\n"
     ]
    },
    {
     "name": "stdout",
     "output_type": "stream",
     "text": [
      "Error in download.file(url, destfile, method, mode = \"wb\", ...) : \n",
      "  cannot open URL 'https://cran.r-project.org/bin/macosx/big-sur-arm64/contrib/4.4/tidyr_1.3.1.tgz'\n"
     ]
    },
    {
     "name": "stderr",
     "output_type": "stream",
     "text": [
      "Warning message in download.packages(pkgs, destdir = tmpd, available = available, :\n",
      "\"download of package 'tidyr' failed\"\n"
     ]
    },
    {
     "data": {
      "text/html": [
       "<table class=\"dataframe\">\n",
       "<caption>A tibble: 6 x 79</caption>\n",
       "<thead>\n",
       "\t<tr><th scope=col>artist</th><th scope=col>track</th><th scope=col>date.entered</th><th scope=col>wk1</th><th scope=col>wk2</th><th scope=col>wk3</th><th scope=col>wk4</th><th scope=col>wk5</th><th scope=col>wk6</th><th scope=col>wk7</th><th scope=col>...</th><th scope=col>wk67</th><th scope=col>wk68</th><th scope=col>wk69</th><th scope=col>wk70</th><th scope=col>wk71</th><th scope=col>wk72</th><th scope=col>wk73</th><th scope=col>wk74</th><th scope=col>wk75</th><th scope=col>wk76</th></tr>\n",
       "\t<tr><th scope=col>&lt;chr&gt;</th><th scope=col>&lt;chr&gt;</th><th scope=col>&lt;date&gt;</th><th scope=col>&lt;dbl&gt;</th><th scope=col>&lt;dbl&gt;</th><th scope=col>&lt;dbl&gt;</th><th scope=col>&lt;dbl&gt;</th><th scope=col>&lt;dbl&gt;</th><th scope=col>&lt;dbl&gt;</th><th scope=col>&lt;dbl&gt;</th><th scope=col>...</th><th scope=col>&lt;lgl&gt;</th><th scope=col>&lt;lgl&gt;</th><th scope=col>&lt;lgl&gt;</th><th scope=col>&lt;lgl&gt;</th><th scope=col>&lt;lgl&gt;</th><th scope=col>&lt;lgl&gt;</th><th scope=col>&lt;lgl&gt;</th><th scope=col>&lt;lgl&gt;</th><th scope=col>&lt;lgl&gt;</th><th scope=col>&lt;lgl&gt;</th></tr>\n",
       "</thead>\n",
       "<tbody>\n",
       "\t<tr><td>2 Pac       </td><td>Baby Don't Cry (Keep...</td><td>2000-02-26</td><td>87</td><td>82</td><td>72</td><td>77</td><td>87</td><td>94</td><td>99</td><td>...</td><td>NA</td><td>NA</td><td>NA</td><td>NA</td><td>NA</td><td>NA</td><td>NA</td><td>NA</td><td>NA</td><td>NA</td></tr>\n",
       "\t<tr><td>2Ge+her     </td><td>The Hardest Part Of ...</td><td>2000-09-02</td><td>91</td><td>87</td><td>92</td><td>NA</td><td>NA</td><td>NA</td><td>NA</td><td>...</td><td>NA</td><td>NA</td><td>NA</td><td>NA</td><td>NA</td><td>NA</td><td>NA</td><td>NA</td><td>NA</td><td>NA</td></tr>\n",
       "\t<tr><td>3 Doors Down</td><td>Kryptonite             </td><td>2000-04-08</td><td>81</td><td>70</td><td>68</td><td>67</td><td>66</td><td>57</td><td>54</td><td>...</td><td>NA</td><td>NA</td><td>NA</td><td>NA</td><td>NA</td><td>NA</td><td>NA</td><td>NA</td><td>NA</td><td>NA</td></tr>\n",
       "\t<tr><td>3 Doors Down</td><td>Loser                  </td><td>2000-10-21</td><td>76</td><td>76</td><td>72</td><td>69</td><td>67</td><td>65</td><td>55</td><td>...</td><td>NA</td><td>NA</td><td>NA</td><td>NA</td><td>NA</td><td>NA</td><td>NA</td><td>NA</td><td>NA</td><td>NA</td></tr>\n",
       "\t<tr><td>504 Boyz    </td><td>Wobble Wobble          </td><td>2000-04-15</td><td>57</td><td>34</td><td>25</td><td>17</td><td>17</td><td>31</td><td>36</td><td>...</td><td>NA</td><td>NA</td><td>NA</td><td>NA</td><td>NA</td><td>NA</td><td>NA</td><td>NA</td><td>NA</td><td>NA</td></tr>\n",
       "\t<tr><td>98^0        </td><td>Give Me Just One Nig...</td><td>2000-08-19</td><td>51</td><td>39</td><td>34</td><td>26</td><td>26</td><td>19</td><td> 2</td><td>...</td><td>NA</td><td>NA</td><td>NA</td><td>NA</td><td>NA</td><td>NA</td><td>NA</td><td>NA</td><td>NA</td><td>NA</td></tr>\n",
       "</tbody>\n",
       "</table>\n"
      ],
      "text/latex": [
       "A tibble: 6 x 79\n",
       "\\begin{tabular}{lllllllllllllllllllll}\n",
       " artist & track & date.entered & wk1 & wk2 & wk3 & wk4 & wk5 & wk6 & wk7 & ... & wk67 & wk68 & wk69 & wk70 & wk71 & wk72 & wk73 & wk74 & wk75 & wk76\\\\\n",
       " <chr> & <chr> & <date> & <dbl> & <dbl> & <dbl> & <dbl> & <dbl> & <dbl> & <dbl> & ... & <lgl> & <lgl> & <lgl> & <lgl> & <lgl> & <lgl> & <lgl> & <lgl> & <lgl> & <lgl>\\\\\n",
       "\\hline\n",
       "\t 2 Pac        & Baby Don't Cry (Keep... & 2000-02-26 & 87 & 82 & 72 & 77 & 87 & 94 & 99 & ... & NA & NA & NA & NA & NA & NA & NA & NA & NA & NA\\\\\n",
       "\t 2Ge+her      & The Hardest Part Of ... & 2000-09-02 & 91 & 87 & 92 & NA & NA & NA & NA & ... & NA & NA & NA & NA & NA & NA & NA & NA & NA & NA\\\\\n",
       "\t 3 Doors Down & Kryptonite              & 2000-04-08 & 81 & 70 & 68 & 67 & 66 & 57 & 54 & ... & NA & NA & NA & NA & NA & NA & NA & NA & NA & NA\\\\\n",
       "\t 3 Doors Down & Loser                   & 2000-10-21 & 76 & 76 & 72 & 69 & 67 & 65 & 55 & ... & NA & NA & NA & NA & NA & NA & NA & NA & NA & NA\\\\\n",
       "\t 504 Boyz     & Wobble Wobble           & 2000-04-15 & 57 & 34 & 25 & 17 & 17 & 31 & 36 & ... & NA & NA & NA & NA & NA & NA & NA & NA & NA & NA\\\\\n",
       "\t 98\\textasciicircum{}0         & Give Me Just One Nig... & 2000-08-19 & 51 & 39 & 34 & 26 & 26 & 19 &  2 & ... & NA & NA & NA & NA & NA & NA & NA & NA & NA & NA\\\\\n",
       "\\end{tabular}\n"
      ],
      "text/markdown": [
       "\n",
       "A tibble: 6 x 79\n",
       "\n",
       "| artist &lt;chr&gt; | track &lt;chr&gt; | date.entered &lt;date&gt; | wk1 &lt;dbl&gt; | wk2 &lt;dbl&gt; | wk3 &lt;dbl&gt; | wk4 &lt;dbl&gt; | wk5 &lt;dbl&gt; | wk6 &lt;dbl&gt; | wk7 &lt;dbl&gt; | ... ... | wk67 &lt;lgl&gt; | wk68 &lt;lgl&gt; | wk69 &lt;lgl&gt; | wk70 &lt;lgl&gt; | wk71 &lt;lgl&gt; | wk72 &lt;lgl&gt; | wk73 &lt;lgl&gt; | wk74 &lt;lgl&gt; | wk75 &lt;lgl&gt; | wk76 &lt;lgl&gt; |\n",
       "|---|---|---|---|---|---|---|---|---|---|---|---|---|---|---|---|---|---|---|---|---|\n",
       "| 2 Pac        | Baby Don't Cry (Keep... | 2000-02-26 | 87 | 82 | 72 | 77 | 87 | 94 | 99 | ... | NA | NA | NA | NA | NA | NA | NA | NA | NA | NA |\n",
       "| 2Ge+her      | The Hardest Part Of ... | 2000-09-02 | 91 | 87 | 92 | NA | NA | NA | NA | ... | NA | NA | NA | NA | NA | NA | NA | NA | NA | NA |\n",
       "| 3 Doors Down | Kryptonite              | 2000-04-08 | 81 | 70 | 68 | 67 | 66 | 57 | 54 | ... | NA | NA | NA | NA | NA | NA | NA | NA | NA | NA |\n",
       "| 3 Doors Down | Loser                   | 2000-10-21 | 76 | 76 | 72 | 69 | 67 | 65 | 55 | ... | NA | NA | NA | NA | NA | NA | NA | NA | NA | NA |\n",
       "| 504 Boyz     | Wobble Wobble           | 2000-04-15 | 57 | 34 | 25 | 17 | 17 | 31 | 36 | ... | NA | NA | NA | NA | NA | NA | NA | NA | NA | NA |\n",
       "| 98^0         | Give Me Just One Nig... | 2000-08-19 | 51 | 39 | 34 | 26 | 26 | 19 |  2 | ... | NA | NA | NA | NA | NA | NA | NA | NA | NA | NA |\n",
       "\n"
      ],
      "text/plain": [
       "  artist       track                   date.entered wk1 wk2 wk3 wk4 wk5 wk6 wk7\n",
       "1 2 Pac        Baby Don't Cry (Keep... 2000-02-26   87  82  72  77  87  94  99 \n",
       "2 2Ge+her      The Hardest Part Of ... 2000-09-02   91  87  92  NA  NA  NA  NA \n",
       "3 3 Doors Down Kryptonite              2000-04-08   81  70  68  67  66  57  54 \n",
       "4 3 Doors Down Loser                   2000-10-21   76  76  72  69  67  65  55 \n",
       "5 504 Boyz     Wobble Wobble           2000-04-15   57  34  25  17  17  31  36 \n",
       "6 98^0         Give Me Just One Nig... 2000-08-19   51  39  34  26  26  19   2 \n",
       "  ... wk67 wk68 wk69 wk70 wk71 wk72 wk73 wk74 wk75 wk76\n",
       "1 ... NA   NA   NA   NA   NA   NA   NA   NA   NA   NA  \n",
       "2 ... NA   NA   NA   NA   NA   NA   NA   NA   NA   NA  \n",
       "3 ... NA   NA   NA   NA   NA   NA   NA   NA   NA   NA  \n",
       "4 ... NA   NA   NA   NA   NA   NA   NA   NA   NA   NA  \n",
       "5 ... NA   NA   NA   NA   NA   NA   NA   NA   NA   NA  \n",
       "6 ... NA   NA   NA   NA   NA   NA   NA   NA   NA   NA  "
      ]
     },
     "metadata": {},
     "output_type": "display_data"
    }
   ],
   "source": [
    "# Install tidyr package if not already installed\n",
    "install.packages(\"tidyr\")\n",
    "\n",
    "# Load the tidyr package\n",
    "library(tidyr)\n",
    "\n",
    "# Access the billboard dataset\n",
    "data(\"billboard\", package = \"tidyr\")\n",
    "head(billboard)\n"
   ]
  },
  {
   "cell_type": "code",
   "execution_count": 6,
   "metadata": {
    "vscode": {
     "languageId": "r"
    }
   },
   "outputs": [
    {
     "ename": "ERROR",
     "evalue": "Error in parse(text = input): <text>:6:0: unexpected end of input\n4:     names_to = \"week\", \n5:     values_to = \"rank\"\n  ^\n",
     "output_type": "error",
     "traceback": [
      "Error in parse(text = input): <text>:6:0: unexpected end of input\n4:     names_to = \"week\", \n5:     values_to = \"rank\"\n  ^\nTraceback:\n"
     ]
    }
   ],
   "source": [
    "billboard |> \n",
    "  pivot_longer(\n",
    "    cols = starts_with(\"wk\"), \n",
    "    names_to = \"week\", \n",
    "    values_to = \"rank\""
   ]
  }
 ],
 "metadata": {
  "kernelspec": {
   "display_name": "R",
   "language": "R",
   "name": "ir"
  },
  "language_info": {
   "codemirror_mode": "r",
   "file_extension": ".r",
   "mimetype": "text/x-r-source",
   "name": "R",
   "pygments_lexer": "r",
   "version": "4.4.0"
  }
 },
 "nbformat": 4,
 "nbformat_minor": 2
}
