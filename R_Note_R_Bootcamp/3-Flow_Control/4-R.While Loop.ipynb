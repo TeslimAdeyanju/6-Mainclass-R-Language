{
 "cells": [
  {
   "cell_type": "markdown",
   "metadata": {},
   "source": [
    "# R While Loop"
   ]
  },
  {
   "cell_type": "markdown",
   "metadata": {},
   "source": [
    "#### Introduction\n",
    "___"
   ]
  },
  {
   "cell_type": "markdown",
   "metadata": {},
   "source": [
    "The `while` statement in Python is one of most general ways to perform iteration. A while statement will repeatedly execute a single statement or group of statements as long as the condition is true. The reason it is called a 'loop' is because the code statements are looped through over and over again until the condition is no longer met.  \n",
    "\n",
    "The general format of a while loop is:\n",
    "```Python\n",
    "while test:\n",
    "    code statement\n",
    "else: \n",
    "    final code statements"
   ]
  },
  {
   "cell_type": "code",
   "execution_count": 1,
   "metadata": {
    "vscode": {
     "languageId": "r"
    }
   },
   "outputs": [
    {
     "name": "stdout",
     "output_type": "stream",
     "text": [
      "x is currently:  0\n",
      " x is still less than 10, adding 1 to x\n",
      "x is currently:  1\n",
      " x is still less than 10, adding 1 to x\n",
      "x is currently:  2\n",
      " x is still less than 10, adding 1 to x\n",
      "x is currently:  3\n",
      " x is still less than 10, adding 1 to x\n",
      "x is currently:  4\n",
      " x is still less than 10, adding 1 to x\n",
      "x is currently:  5\n",
      " x is still less than 10, adding 1 to x\n",
      "x is currently:  6\n",
      " x is still less than 10, adding 1 to x\n",
      "x is currently:  7\n",
      " x is still less than 10, adding 1 to x\n",
      "x is currently:  8\n",
      " x is still less than 10, adding 1 to x\n",
      "x is currently:  9\n",
      " x is still less than 10, adding 1 to x\n"
     ]
    }
   ],
   "source": [
    "x = 0\n",
    "\n",
    "while x < 10:\n",
    "    print('x is currently: ',x)\n",
    "    print(' x is still less than 10, adding 1 to x')\n",
    "    x+=1"
   ]
  },
  {
   "cell_type": "markdown",
   "metadata": {},
   "source": [
    "The selected Python code is a simple example of a `while` loop. \n",
    "\n",
    "First, a variable [`x`](command:_github.copilot.openSymbolInFile?%5B%22..%2F..%2F..%2F..%2F.vscode%2Fextensions%2Fms-python.vscode-pylance-2024.3.1%2Fdist%2Ftypeshed-fallback%2Fstdlib%2Fbuiltins.pyi%22%2C%22x%22%5D \"../../../../.vscode/extensions/ms-python.vscode-pylance-2024.3.1/dist/typeshed-fallback/stdlib/builtins.pyi\") is initialized with the value `0`.\n",
    "\n",
    "Next, a `while` loop is initiated with the condition `x < 10`. This means that the loop will continue to execute as long as [`x`](command:_github.copilot.openSymbolInFile?%5B%22..%2F..%2F..%2F..%2F.vscode%2Fextensions%2Fms-python.vscode-pylance-2024.3.1%2Fdist%2Ftypeshed-fallback%2Fstdlib%2Fbuiltins.pyi%22%2C%22x%22%5D \"../../../../.vscode/extensions/ms-python.vscode-pylance-2024.3.1/dist/typeshed-fallback/stdlib/builtins.pyi\") is less than `10`.\n",
    "\n",
    "Inside the `while` loop, there are two [`print`](command:_github.copilot.openSymbolInFile?%5B%22..%2F..%2F..%2F..%2F.vscode%2Fextensions%2Fms-python.vscode-pylance-2024.3.1%2Fdist%2Ftypeshed-fallback%2Fstdlib%2Fbuiltins.pyi%22%2C%22print%22%5D \"../../../../.vscode/extensions/ms-python.vscode-pylance-2024.3.1/dist/typeshed-fallback/stdlib/builtins.pyi\") statements and an increment operation. \n",
    "\n",
    "The first [`print`](command:_github.copilot.openSymbolInFile?%5B%22..%2F..%2F..%2F..%2F.vscode%2Fextensions%2Fms-python.vscode-pylance-2024.3.1%2Fdist%2Ftypeshed-fallback%2Fstdlib%2Fbuiltins.pyi%22%2C%22print%22%5D \"../../../../.vscode/extensions/ms-python.vscode-pylance-2024.3.1/dist/typeshed-fallback/stdlib/builtins.pyi\") statement outputs the current value of [`x`](command:_github.copilot.openSymbolInFile?%5B%22..%2F..%2F..%2F..%2F.vscode%2Fextensions%2Fms-python.vscode-pylance-2024.3.1%2Fdist%2Ftypeshed-fallback%2Fstdlib%2Fbuiltins.pyi%22%2C%22x%22%5D \"../../../../.vscode/extensions/ms-python.vscode-pylance-2024.3.1/dist/typeshed-fallback/stdlib/builtins.pyi\") with the message 'x is currently: '. \n",
    "\n",
    "The second [`print`](command:_github.copilot.openSymbolInFile?%5B%22..%2F..%2F..%2F..%2F.vscode%2Fextensions%2Fms-python.vscode-pylance-2024.3.1%2Fdist%2Ftypeshed-fallback%2Fstdlib%2Fbuiltins.pyi%22%2C%22print%22%5D \"../../../../.vscode/extensions/ms-python.vscode-pylance-2024.3.1/dist/typeshed-fallback/stdlib/builtins.pyi\") statement outputs a static message 'x is still less than 10, adding 1 to x'. This message does not change during the execution of the loop.\n",
    "\n",
    "The statement [`x+=1`](command:_github.copilot.openSymbolInFile?%5B%22..%2F..%2F..%2F..%2F.vscode%2Fextensions%2Fms-python.vscode-pylance-2024.3.1%2Fdist%2Ftypeshed-fallback%2Fstdlib%2Fbuiltins.pyi%22%2C%22x%2B%3D1%22%5D \"../../../../.vscode/extensions/ms-python.vscode-pylance-2024.3.1/dist/typeshed-fallback/stdlib/builtins.pyi\") increments the value of [`x`](command:_github.copilot.openSymbolInFile?%5B%22..%2F..%2F..%2F..%2F.vscode%2Fextensions%2Fms-python.vscode-pylance-2024.3.1%2Fdist%2Ftypeshed-fallback%2Fstdlib%2Fbuiltins.pyi%22%2C%22x%22%5D \"../../../../.vscode/extensions/ms-python.vscode-pylance-2024.3.1/dist/typeshed-fallback/stdlib/builtins.pyi\") by `1` at each iteration. This is a shorthand for `x = x + 1`.\n",
    "\n",
    "The loop will continue to execute, printing the current value of [`x`](command:_github.copilot.openSymbolInFile?%5B%22..%2F..%2F..%2F..%2F.vscode%2Fextensions%2Fms-python.vscode-pylance-2024.3.1%2Fdist%2Ftypeshed-fallback%2Fstdlib%2Fbuiltins.pyi%22%2C%22x%22%5D \"../../../../.vscode/extensions/ms-python.vscode-pylance-2024.3.1/dist/typeshed-fallback/stdlib/builtins.pyi\") and the static message, then incrementing [`x`](command:_github.copilot.openSymbolInFile?%5B%22..%2F..%2F..%2F..%2F.vscode%2Fextensions%2Fms-python.vscode-pylance-2024.3.1%2Fdist%2Ftypeshed-fallback%2Fstdlib%2Fbuiltins.pyi%22%2C%22x%22%5D \"../../../../.vscode/extensions/ms-python.vscode-pylance-2024.3.1/dist/typeshed-fallback/stdlib/builtins.pyi\") by `1`, until [`x`](command:_github.copilot.openSymbolInFile?%5B%22..%2F..%2F..%2F..%2F.vscode%2Fextensions%2Fms-python.vscode-pylance-2024.3.1%2Fdist%2Ftypeshed-fallback%2Fstdlib%2Fbuiltins.pyi%22%2C%22x%22%5D \"../../../../.vscode/extensions/ms-python.vscode-pylance-2024.3.1/dist/typeshed-fallback/stdlib/builtins.pyi\") is no longer less than `10`. At that point, the `while` condition will evaluate to `False`, and the loop will terminate.\n",
    "\n",
    "So, when this code is run, it will print the current value of [`x`](command:_github.copilot.openSymbolInFile?%5B%22..%2F..%2F..%2F..%2F.vscode%2Fextensions%2Fms-python.vscode-pylance-2024.3.1%2Fdist%2Ftypeshed-fallback%2Fstdlib%2Fbuiltins.pyi%22%2C%22x%22%5D \"../../../../.vscode/extensions/ms-python.vscode-pylance-2024.3.1/dist/typeshed-fallback/stdlib/builtins.pyi\") and a static message, increment [`x`](command:_github.copilot.openSymbolInFile?%5B%22..%2F..%2F..%2F..%2F.vscode%2Fextensions%2Fms-python.vscode-pylance-2024.3.1%2Fdist%2Ftypeshed-fallback%2Fstdlib%2Fbuiltins.pyi%22%2C%22x%22%5D \"../../../../.vscode/extensions/ms-python.vscode-pylance-2024.3.1/dist/typeshed-fallback/stdlib/builtins.pyi\"), and repeat this process until [`x`](command:_github.copilot.openSymbolInFile?%5B%22..%2F..%2F..%2F..%2F.vscode%2Fextensions%2Fms-python.vscode-pylance-2024.3.1%2Fdist%2Ftypeshed-fallback%2Fstdlib%2Fbuiltins.pyi%22%2C%22x%22%5D \"../../../../.vscode/extensions/ms-python.vscode-pylance-2024.3.1/dist/typeshed-fallback/stdlib/builtins.pyi\") equals `10`. The output will look like this:\n",
    "\n"
   ]
  },
  {
   "cell_type": "code",
   "execution_count": null,
   "metadata": {
    "vscode": {
     "languageId": "r"
    }
   },
   "outputs": [],
   "source": [
    "x is currently:  0\n",
    "x is still less than 10, adding 1 to x\n",
    "x is currently:  1\n",
    "x is still less than 10, adding 1 to x\n",
    "...\n",
    "x is currently:  9\n",
    "x is still less than 10, adding 1 to x"
   ]
  },
  {
   "cell_type": "markdown",
   "metadata": {},
   "source": [
    "\n",
    "\n",
    "The [`print`](command:_github.copilot.openSymbolInFile?%5B%22..%2F..%2F..%2F..%2F.vscode%2Fextensions%2Fms-python.vscode-pylance-2024.3.1%2Fdist%2Ftypeshed-fallback%2Fstdlib%2Fbuiltins.pyi%22%2C%22print%22%5D \"../../../../.vscode/extensions/ms-python.vscode-pylance-2024.3.1/dist/typeshed-fallback/stdlib/builtins.pyi\") function used here is a built-in Python function that writes the specified message to the screen, or other standard output device. The message can be a string, or any other object, the object will be converted into a string before written to the screen."
   ]
  },
  {
   "cell_type": "code",
   "execution_count": 2,
   "metadata": {
    "vscode": {
     "languageId": "r"
    }
   },
   "outputs": [
    {
     "name": "stdout",
     "output_type": "stream",
     "text": [
      "x is currently:  0\n",
      " x is still less than 10, adding 1 to x\n",
      "x is currently:  1\n",
      " x is still less than 10, adding 1 to x\n",
      "x is currently:  2\n",
      " x is still less than 10, adding 1 to x\n",
      "x is currently:  3\n",
      " x is still less than 10, adding 1 to x\n",
      "x is currently:  4\n",
      " x is still less than 10, adding 1 to x\n",
      "x is currently:  5\n",
      " x is still less than 10, adding 1 to x\n",
      "x is currently:  6\n",
      " x is still less than 10, adding 1 to x\n",
      "x is currently:  7\n",
      " x is still less than 10, adding 1 to x\n",
      "x is currently:  8\n",
      " x is still less than 10, adding 1 to x\n",
      "x is currently:  9\n",
      " x is still less than 10, adding 1 to x\n",
      "All Done!\n"
     ]
    }
   ],
   "source": [
    "x = 0\n",
    "\n",
    "while x < 10:\n",
    "    print('x is currently: ',x)\n",
    "    print(' x is still less than 10, adding 1 to x')\n",
    "    x+=1\n",
    "\n",
    "else:\n",
    "    print('All Done!')"
   ]
  },
  {
   "cell_type": "markdown",
   "metadata": {},
   "source": [
    "This Python code is a simple example of a `while` loop with an `else` clause. \n",
    "\n",
    "The variable [`x`](command:_github.copilot.openSymbolInFile?%5B%22..%2F..%2F..%2F..%2F.vscode%2Fextensions%2Fms-python.vscode-pylance-2024.3.1%2Fdist%2Ftypeshed-fallback%2Fstdlib%2Fbuiltins.pyi%22%2C%22x%22%5D \"../../../../.vscode/extensions/ms-python.vscode-pylance-2024.3.1/dist/typeshed-fallback/stdlib/builtins.pyi\") is first initialized with the value `0`. \n",
    "\n",
    "The `while` loop is then initiated with the condition `x < 10`. This means that the loop will continue to execute as long as [`x`](command:_github.copilot.openSymbolInFile?%5B%22..%2F..%2F..%2F..%2F.vscode%2Fextensions%2Fms-python.vscode-pylance-2024.3.1%2Fdist%2Ftypeshed-fallback%2Fstdlib%2Fbuiltins.pyi%22%2C%22x%22%5D \"../../../../.vscode/extensions/ms-python.vscode-pylance-2024.3.1/dist/typeshed-fallback/stdlib/builtins.pyi\") is less than `10`.\n",
    "\n",
    "Inside the `while` loop, there are two [`print`](command:_github.copilot.openSymbolInFile?%5B%22..%2F..%2F..%2F..%2F.vscode%2Fextensions%2Fms-python.vscode-pylance-2024.3.1%2Fdist%2Ftypeshed-fallback%2Fstdlib%2Fbuiltins.pyi%22%2C%22print%22%5D \"../../../../.vscode/extensions/ms-python.vscode-pylance-2024.3.1/dist/typeshed-fallback/stdlib/builtins.pyi\") statements and an increment operation. The first [`print`](command:_github.copilot.openSymbolInFile?%5B%22..%2F..%2F..%2F..%2F.vscode%2Fextensions%2Fms-python.vscode-pylance-2024.3.1%2Fdist%2Ftypeshed-fallback%2Fstdlib%2Fbuiltins.pyi%22%2C%22print%22%5D \"../../../../.vscode/extensions/ms-python.vscode-pylance-2024.3.1/dist/typeshed-fallback/stdlib/builtins.pyi\") statement outputs the current value of [`x`](command:_github.copilot.openSymbolInFile?%5B%22..%2F..%2F..%2F..%2F.vscode%2Fextensions%2Fms-python.vscode-pylance-2024.3.1%2Fdist%2Ftypeshed-fallback%2Fstdlib%2Fbuiltins.pyi%22%2C%22x%22%5D \"../../../../.vscode/extensions/ms-python.vscode-pylance-2024.3.1/dist/typeshed-fallback/stdlib/builtins.pyi\") with the message 'x is currently: '. The second [`print`](command:_github.copilot.openSymbolInFile?%5B%22..%2F..%2F..%2F..%2F.vscode%2Fextensions%2Fms-python.vscode-pylance-2024.3.1%2Fdist%2Ftypeshed-fallback%2Fstdlib%2Fbuiltins.pyi%22%2C%22print%22%5D \"../../../../.vscode/extensions/ms-python.vscode-pylance-2024.3.1/dist/typeshed-fallback/stdlib/builtins.pyi\") statement outputs a static message 'x is still less than 10, adding 1 to x'. This message does not change during the execution of the loop.\n",
    "\n",
    "The statement [`x+=1`](command:_github.copilot.openSymbolInFile?%5B%22..%2F..%2F..%2F..%2F.vscode%2Fextensions%2Fms-python.vscode-pylance-2024.3.1%2Fdist%2Ftypeshed-fallback%2Fstdlib%2Fbuiltins.pyi%22%2C%22x%2B%3D1%22%5D \"../../../../.vscode/extensions/ms-python.vscode-pylance-2024.3.1/dist/typeshed-fallback/stdlib/builtins.pyi\") increments the value of [`x`](command:_github.copilot.openSymbolInFile?%5B%22..%2F..%2F..%2F..%2F.vscode%2Fextensions%2Fms-python.vscode-pylance-2024.3.1%2Fdist%2Ftypeshed-fallback%2Fstdlib%2Fbuiltins.pyi%22%2C%22x%22%5D \"../../../../.vscode/extensions/ms-python.vscode-pylance-2024.3.1/dist/typeshed-fallback/stdlib/builtins.pyi\") by `1` at each iteration. This is a shorthand for `x = x + 1`.\n",
    "\n",
    "The `else` clause is executed when the `while` condition becomes `False`. In this case, when [`x`](command:_github.copilot.openSymbolInFile?%5B%22..%2F..%2F..%2F..%2F.vscode%2Fextensions%2Fms-python.vscode-pylance-2024.3.1%2Fdist%2Ftypeshed-fallback%2Fstdlib%2Fbuiltins.pyi%22%2C%22x%22%5D \"../../../../.vscode/extensions/ms-python.vscode-pylance-2024.3.1/dist/typeshed-fallback/stdlib/builtins.pyi\") is no longer less than `10`, the `while` condition will evaluate to `False`, and the loop will terminate. The [`print`](command:_github.copilot.openSymbolInFile?%5B%22..%2F..%2F..%2F..%2F.vscode%2Fextensions%2Fms-python.vscode-pylance-2024.3.1%2Fdist%2Ftypeshed-fallback%2Fstdlib%2Fbuiltins.pyi%22%2C%22print%22%5D \"../../../../.vscode/extensions/ms-python.vscode-pylance-2024.3.1/dist/typeshed-fallback/stdlib/builtins.pyi\") statement inside the `else` clause will then be executed, outputting the message 'All Done!'.\n",
    "\n",
    "So, when this code is run, it will print the current value of [`x`](command:_github.copilot.openSymbolInFile?%5B%22..%2F..%2F..%2F..%2F.vscode%2Fextensions%2Fms-python.vscode-pylance-2024.3.1%2Fdist%2Ftypeshed-fallback%2Fstdlib%2Fbuiltins.pyi%22%2C%22x%22%5D \"../../../../.vscode/extensions/ms-python.vscode-pylance-2024.3.1/dist/typeshed-fallback/stdlib/builtins.pyi\") and a static message, increment [`x`](command:_github.copilot.openSymbolInFile?%5B%22..%2F..%2F..%2F..%2F.vscode%2Fextensions%2Fms-python.vscode-pylance-2024.3.1%2Fdist%2Ftypeshed-fallback%2Fstdlib%2Fbuiltins.pyi%22%2C%22x%22%5D \"../../../../.vscode/extensions/ms-python.vscode-pylance-2024.3.1/dist/typeshed-fallback/stdlib/builtins.pyi\"), and repeat this process until [`x`](command:_github.copilot.openSymbolInFile?%5B%22..%2F..%2F..%2F..%2F.vscode%2Fextensions%2Fms-python.vscode-pylance-2024.3.1%2Fdist%2Ftypeshed-fallback%2Fstdlib%2Fbuiltins.pyi%22%2C%22x%22%5D \"../../../../.vscode/extensions/ms-python.vscode-pylance-2024.3.1/dist/typeshed-fallback/stdlib/builtins.pyi\") equals `10`. After the loop has finished executing, it will print 'All Done!'. The output will look like this:\n",
    "\n"
   ]
  },
  {
   "cell_type": "code",
   "execution_count": null,
   "metadata": {
    "vscode": {
     "languageId": "r"
    }
   },
   "outputs": [],
   "source": [
    "x is currently:  0\n",
    "x is still less than 10, adding 1 to x\n",
    "x is currently:  1\n",
    "x is still less than 10, adding 1 to x\n",
    "...\n",
    "x is currently:  9\n",
    "x is still less than 10, adding 1 to x\n",
    "All Done!"
   ]
  },
  {
   "cell_type": "markdown",
   "metadata": {},
   "source": [
    "\n",
    "\n",
    "The [`print`](command:_github.copilot.openSymbolInFile?%5B%22..%2F..%2F..%2F..%2F.vscode%2Fextensions%2Fms-python.vscode-pylance-2024.3.1%2Fdist%2Ftypeshed-fallback%2Fstdlib%2Fbuiltins.pyi%22%2C%22print%22%5D \"../../../../.vscode/extensions/ms-python.vscode-pylance-2024.3.1/dist/typeshed-fallback/stdlib/builtins.pyi\") function used here is a built-in Python function that writes the specified message to the screen, or other standard output device. The message can be a string, or any other object, the object will be converted into a string before written to the screen."
   ]
  },
  {
   "cell_type": "markdown",
   "metadata": {},
   "source": [
    "#### break, continue, pass\n",
    "___"
   ]
  },
  {
   "cell_type": "markdown",
   "metadata": {},
   "source": [
    "We can use `break`, `continue`, and `pass` statements in our loops to add additional functionality for various cases. The three statements are defined by:\n",
    "\n",
    "- break: Breaks out of the current closest enclosing loop.\n",
    "- continue: Goes to the top of the closest enclosing loop.\n",
    "- pass: Does nothing at all.\n",
    "  \n",
    "Thinking about break and continue statements, the general format of the while loop looks like this:\n",
    "\n",
    "```python\n",
    "while test: \n",
    "    code statement\n",
    "    if test: \n",
    "        break\n",
    "    if test: \n",
    "        continue \n",
    "else:\n",
    "```\n",
    "\n",
    "The `break` and `continue` statements can appear anywhere inside the loop’s body, but we will usually put them further nested in conjunction with an if statement to perform an action based on some condition.\n",
    "\n",
    "Let's go ahead and look at some examples!"
   ]
  },
  {
   "cell_type": "code",
   "execution_count": 4,
   "metadata": {
    "vscode": {
     "languageId": "r"
    }
   },
   "outputs": [
    {
     "ename": "ERROR",
     "evalue": "Error in parse(text = x, srcfile = src): <text>:3:7: unexpected symbol\n2: \n3: while x\n         ^\n",
     "output_type": "error",
     "traceback": [
      "Error in parse(text = x, srcfile = src): <text>:3:7: unexpected symbol\n2: \n3: while x\n         ^\nTraceback:\n"
     ]
    }
   ],
   "source": [
    "x <- 0\n",
    "\n",
    "while x < 10:\n",
    "   print('x is currently: ',x)\n",
    "    print(' x is still less than 10, adding 1 to x')\n",
    "    x+=1\n",
    "    if x==3:\n",
    "        print('x==3')\n",
    "    else:\n",
    "        print('continuing...')\n",
    "        continue"
   ]
  },
  {
   "cell_type": "markdown",
   "metadata": {},
   "source": [
    "This Python code is a slightly more complex example of a `while` loop, which includes an `if-else` statement inside it.\n",
    "\n",
    "The variable [`x`](command:_github.copilot.openSymbolInFile?%5B%22..%2F..%2F..%2F..%2F.vscode%2Fextensions%2Fms-python.vscode-pylance-2024.3.1%2Fdist%2Ftypeshed-fallback%2Fstdlib%2Fbuiltins.pyi%22%2C%22x%22%5D \"../../../../.vscode/extensions/ms-python.vscode-pylance-2024.3.1/dist/typeshed-fallback/stdlib/builtins.pyi\") is first initialized with the value `0`. \n",
    "\n",
    "The `while` loop is then initiated with the condition `x < 10`. This means that the loop will continue to execute as long as [`x`](command:_github.copilot.openSymbolInFile?%5B%22..%2F..%2F..%2F..%2F.vscode%2Fextensions%2Fms-python.vscode-pylance-2024.3.1%2Fdist%2Ftypeshed-fallback%2Fstdlib%2Fbuiltins.pyi%22%2C%22x%22%5D \"../../../../.vscode/extensions/ms-python.vscode-pylance-2024.3.1/dist/typeshed-fallback/stdlib/builtins.pyi\") is less than `10`.\n",
    "\n",
    "Inside the `while` loop, there are two [`print`](command:_github.copilot.openSymbolInFile?%5B%22..%2F..%2F..%2F..%2F.vscode%2Fextensions%2Fms-python.vscode-pylance-2024.3.1%2Fdist%2Ftypeshed-fallback%2Fstdlib%2Fbuiltins.pyi%22%2C%22print%22%5D \"../../../../.vscode/extensions/ms-python.vscode-pylance-2024.3.1/dist/typeshed-fallback/stdlib/builtins.pyi\") statements, an increment operation, and an `if-else` statement. The first [`print`](command:_github.copilot.openSymbolInFile?%5B%22..%2F..%2F..%2F..%2F.vscode%2Fextensions%2Fms-python.vscode-pylance-2024.3.1%2Fdist%2Ftypeshed-fallback%2Fstdlib%2Fbuiltins.pyi%22%2C%22print%22%5D \"../../../../.vscode/extensions/ms-python.vscode-pylance-2024.3.1/dist/typeshed-fallback/stdlib/builtins.pyi\") statement outputs the current value of [`x`](command:_github.copilot.openSymbolInFile?%5B%22..%2F..%2F..%2F..%2F.vscode%2Fextensions%2Fms-python.vscode-pylance-2024.3.1%2Fdist%2Ftypeshed-fallback%2Fstdlib%2Fbuiltins.pyi%22%2C%22x%22%5D \"../../../../.vscode/extensions/ms-python.vscode-pylance-2024.3.1/dist/typeshed-fallback/stdlib/builtins.pyi\") with the message 'x is currently: '. The second [`print`](command:_github.copilot.openSymbolInFile?%5B%22..%2F..%2F..%2F..%2F.vscode%2Fextensions%2Fms-python.vscode-pylance-2024.3.1%2Fdist%2Ftypeshed-fallback%2Fstdlib%2Fbuiltins.pyi%22%2C%22print%22%5D \"../../../../.vscode/extensions/ms-python.vscode-pylance-2024.3.1/dist/typeshed-fallback/stdlib/builtins.pyi\") statement outputs a static message 'x is still less than 10, adding 1 to x'. This message does not change during the execution of the loop.\n",
    "\n",
    "The statement [`x+=1`](command:_github.copilot.openSymbolInFile?%5B%22..%2F..%2F..%2F..%2F.vscode%2Fextensions%2Fms-python.vscode-pylance-2024.3.1%2Fdist%2Ftypeshed-fallback%2Fstdlib%2Fbuiltins.pyi%22%2C%22x%2B%3D1%22%5D \"../../../../.vscode/extensions/ms-python.vscode-pylance-2024.3.1/dist/typeshed-fallback/stdlib/builtins.pyi\") increments the value of [`x`](command:_github.copilot.openSymbolInFile?%5B%22..%2F..%2F..%2F..%2F.vscode%2Fextensions%2Fms-python.vscode-pylance-2024.3.1%2Fdist%2Ftypeshed-fallback%2Fstdlib%2Fbuiltins.pyi%22%2C%22x%22%5D \"../../../../.vscode/extensions/ms-python.vscode-pylance-2024.3.1/dist/typeshed-fallback/stdlib/builtins.pyi\") by `1` at each iteration. This is a shorthand for `x = x + 1`.\n",
    "\n",
    "The `if-else` statement checks if [`x`](command:_github.copilot.openSymbolInFile?%5B%22..%2F..%2F..%2F..%2F.vscode%2Fextensions%2Fms-python.vscode-pylance-2024.3.1%2Fdist%2Ftypeshed-fallback%2Fstdlib%2Fbuiltins.pyi%22%2C%22x%22%5D \"../../../../.vscode/extensions/ms-python.vscode-pylance-2024.3.1/dist/typeshed-fallback/stdlib/builtins.pyi\") is equal to `3`. If [`x`](command:_github.copilot.openSymbolInFile?%5B%22..%2F..%2F..%2F..%2F.vscode%2Fextensions%2Fms-python.vscode-pylance-2024.3.1%2Fdist%2Ftypeshed-fallback%2Fstdlib%2Fbuiltins.pyi%22%2C%22x%22%5D \"../../../../.vscode/extensions/ms-python.vscode-pylance-2024.3.1/dist/typeshed-fallback/stdlib/builtins.pyi\") is `3`, it prints 'x==3'. If [`x`](command:_github.copilot.openSymbolInFile?%5B%22..%2F..%2F..%2F..%2F.vscode%2Fextensions%2Fms-python.vscode-pylance-2024.3.1%2Fdist%2Ftypeshed-fallback%2Fstdlib%2Fbuiltins.pyi%22%2C%22x%22%5D \"../../../../.vscode/extensions/ms-python.vscode-pylance-2024.3.1/dist/typeshed-fallback/stdlib/builtins.pyi\") is not `3`, it prints 'continuing...' and then executes the `continue` statement. The `continue` statement is a control flow statement that causes the loop to immediately skip the remainder of its body and immediately retest its condition prior to reiterating. In this case, it doesn't have much effect because there are no statements after `continue` within the loop.\n",
    "\n",
    "So, when this code is run, it will print the current value of [`x`](command:_github.copilot.openSymbolInFile?%5B%22..%2F..%2F..%2F..%2F.vscode%2Fextensions%2Fms-python.vscode-pylance-2024.3.1%2Fdist%2Ftypeshed-fallback%2Fstdlib%2Fbuiltins.pyi%22%2C%22x%22%5D \"../../../../.vscode/extensions/ms-python.vscode-pylance-2024.3.1/dist/typeshed-fallback/stdlib/builtins.pyi\") and a static message, increment [`x`](command:_github.copilot.openSymbolInFile?%5B%22..%2F..%2F..%2F..%2F.vscode%2Fextensions%2Fms-python.vscode-pylance-2024.3.1%2Fdist%2Ftypeshed-fallback%2Fstdlib%2Fbuiltins.pyi%22%2C%22x%22%5D \"../../../../.vscode/extensions/ms-python.vscode-pylance-2024.3.1/dist/typeshed-fallback/stdlib/builtins.pyi\"), and if [`x`](command:_github.copilot.openSymbolInFile?%5B%22..%2F..%2F..%2F..%2F.vscode%2Fextensions%2Fms-python.vscode-pylance-2024.3.1%2Fdist%2Ftypeshed-fallback%2Fstdlib%2Fbuiltins.pyi%22%2C%22x%22%5D \"../../../../.vscode/extensions/ms-python.vscode-pylance-2024.3.1/dist/typeshed-fallback/stdlib/builtins.pyi\") is `3`, it will print 'x==3', otherwise, it will print 'continuing...' and continue to the next iteration. This process repeats until [`x`](command:_github.copilot.openSymbolInFile?%5B%22..%2F..%2F..%2F..%2F.vscode%2Fextensions%2Fms-python.vscode-pylance-2024.3.1%2Fdist%2Ftypeshed-fallback%2Fstdlib%2Fbuiltins.pyi%22%2C%22x%22%5D \"../../../../.vscode/extensions/ms-python.vscode-pylance-2024.3.1/dist/typeshed-fallback/stdlib/builtins.pyi\") equals `10`. After the loop has finished executing, it will not print anything because there is no `else` clause associated with the `while` loop. The output will look like this:\n",
    "\n"
   ]
  },
  {
   "cell_type": "code",
   "execution_count": null,
   "metadata": {
    "vscode": {
     "languageId": "r"
    }
   },
   "outputs": [],
   "source": [
    "x is currently:  0\n",
    "x is still less than 10, adding 1 to x\n",
    "continuing...\n",
    "x is currently:  1\n",
    "x is still less than 10, adding 1 to x\n",
    "continuing...\n",
    "x is currently:  2\n",
    "x is still less than 10, adding 1 to x\n",
    "x==3\n",
    "x is currently:  3\n",
    "x is still less than 10, adding 1 to x\n",
    "continuing...\n",
    "..."
   ]
  },
  {
   "cell_type": "markdown",
   "metadata": {},
   "source": [
    "\n",
    "\n",
    "The [`print`](command:_github.copilot.openSymbolInFile?%5B%22..%2F..%2F..%2F..%2F.vscode%2Fextensions%2Fms-python.vscode-pylance-2024.3.1%2Fdist%2Ftypeshed-fallback%2Fstdlib%2Fbuiltins.pyi%22%2C%22print%22%5D \"../../../../.vscode/extensions/ms-python.vscode-pylance-2024.3.1/dist/typeshed-fallback/stdlib/builtins.pyi\") function used here is a built-in Python function that writes the specified message to the screen, or other standard output device. The message can be a string, or any other object, the object will be converted into a string before written to the screen."
   ]
  },
  {
   "cell_type": "markdown",
   "metadata": {},
   "source": [
    "Note how we have a printed statement when x==3, and a continue being printed out as we continue through the outer while loop. Let's put in a break once x ==3 and see if the result makes sense:"
   ]
  },
  {
   "cell_type": "code",
   "execution_count": 4,
   "metadata": {
    "vscode": {
     "languageId": "r"
    }
   },
   "outputs": [
    {
     "name": "stdout",
     "output_type": "stream",
     "text": [
      "x is currently:  0\n",
      " x is still less than 10, adding 1 to x\n",
      "continuing...\n",
      "x is currently:  1\n",
      " x is still less than 10, adding 1 to x\n",
      "continuing...\n",
      "x is currently:  2\n",
      " x is still less than 10, adding 1 to x\n",
      "Breaking because x==3\n"
     ]
    }
   ],
   "source": [
    "x = 0\n",
    "\n",
    "while x < 10:\n",
    "    print('x is currently: ',x)\n",
    "    print(' x is still less than 10, adding 1 to x')\n",
    "    x+=1\n",
    "    if x==3:\n",
    "        print('Breaking because x==3')\n",
    "        break\n",
    "    else:\n",
    "        print('continuing...')\n",
    "        continue"
   ]
  },
  {
   "cell_type": "markdown",
   "metadata": {},
   "source": [
    "This Python code snippet demonstrates the use of a `while` loop, `if` statement, `break` and `continue` keywords.\n",
    "\n",
    "The variable [`x`](command:_github.copilot.openSymbolInFile?%5B%22..%2F..%2F..%2F..%2F.vscode%2Fextensions%2Fms-python.vscode-pylance-2024.3.1%2Fdist%2Ftypeshed-fallback%2Fstdlib%2Fbuiltins.pyi%22%2C%22x%22%5D \"../../../../.vscode/extensions/ms-python.vscode-pylance-2024.3.1/dist/typeshed-fallback/stdlib/builtins.pyi\") is initially set to 0. The `while` loop will continue to execute as long as [`x`](command:_github.copilot.openSymbolInFile?%5B%22..%2F..%2F..%2F..%2F.vscode%2Fextensions%2Fms-python.vscode-pylance-2024.3.1%2Fdist%2Ftypeshed-fallback%2Fstdlib%2Fbuiltins.pyi%22%2C%22x%22%5D \"../../../../.vscode/extensions/ms-python.vscode-pylance-2024.3.1/dist/typeshed-fallback/stdlib/builtins.pyi\") is less than 10. Inside the loop, the current value of [`x`](command:_github.copilot.openSymbolInFile?%5B%22..%2F..%2F..%2F..%2F.vscode%2Fextensions%2Fms-python.vscode-pylance-2024.3.1%2Fdist%2Ftypeshed-fallback%2Fstdlib%2Fbuiltins.pyi%22%2C%22x%22%5D \"../../../../.vscode/extensions/ms-python.vscode-pylance-2024.3.1/dist/typeshed-fallback/stdlib/builtins.pyi\") is printed, followed by a message stating that [`x`](command:_github.copilot.openSymbolInFile?%5B%22..%2F..%2F..%2F..%2F.vscode%2Fextensions%2Fms-python.vscode-pylance-2024.3.1%2Fdist%2Ftypeshed-fallback%2Fstdlib%2Fbuiltins.pyi%22%2C%22x%22%5D \"../../../../.vscode/extensions/ms-python.vscode-pylance-2024.3.1/dist/typeshed-fallback/stdlib/builtins.pyi\") is still less than 10 and that 1 will be added to [`x`](command:_github.copilot.openSymbolInFile?%5B%22..%2F..%2F..%2F..%2F.vscode%2Fextensions%2Fms-python.vscode-pylance-2024.3.1%2Fdist%2Ftypeshed-fallback%2Fstdlib%2Fbuiltins.pyi%22%2C%22x%22%5D \"../../../../.vscode/extensions/ms-python.vscode-pylance-2024.3.1/dist/typeshed-fallback/stdlib/builtins.pyi\"). The [`x+=1`](command:_github.copilot.openSymbolInFile?%5B%22..%2F..%2F..%2F..%2F.vscode%2Fextensions%2Fms-python.vscode-pylance-2024.3.1%2Fdist%2Ftypeshed-fallback%2Fstdlib%2Fbuiltins.pyi%22%2C%22x%2B%3D1%22%5D \"../../../../.vscode/extensions/ms-python.vscode-pylance-2024.3.1/dist/typeshed-fallback/stdlib/builtins.pyi\") statement increments [`x`](command:_github.copilot.openSymbolInFile?%5B%22..%2F..%2F..%2F..%2F.vscode%2Fextensions%2Fms-python.vscode-pylance-2024.3.1%2Fdist%2Ftypeshed-fallback%2Fstdlib%2Fbuiltins.pyi%22%2C%22x%22%5D \"../../../../.vscode/extensions/ms-python.vscode-pylance-2024.3.1/dist/typeshed-fallback/stdlib/builtins.pyi\") by 1.\n",
    "\n",
    "Next, an `if` statement checks if [`x`](command:_github.copilot.openSymbolInFile?%5B%22..%2F..%2F..%2F..%2F.vscode%2Fextensions%2Fms-python.vscode-pylance-2024.3.1%2Fdist%2Ftypeshed-fallback%2Fstdlib%2Fbuiltins.pyi%22%2C%22x%22%5D \"../../../../.vscode/extensions/ms-python.vscode-pylance-2024.3.1/dist/typeshed-fallback/stdlib/builtins.pyi\") is equal to 3. If [`x`](command:_github.copilot.openSymbolInFile?%5B%22..%2F..%2F..%2F..%2F.vscode%2Fextensions%2Fms-python.vscode-pylance-2024.3.1%2Fdist%2Ftypeshed-fallback%2Fstdlib%2Fbuiltins.pyi%22%2C%22x%22%5D \"../../../../.vscode/extensions/ms-python.vscode-pylance-2024.3.1/dist/typeshed-fallback/stdlib/builtins.pyi\") is 3, a message is printed, and the `break` statement is executed. The `break` statement immediately terminates the loop, even if the loop's condition would allow it to continue.\n",
    "\n",
    "If [`x`](command:_github.copilot.openSymbolInFile?%5B%22..%2F..%2F..%2F..%2F.vscode%2Fextensions%2Fms-python.vscode-pylance-2024.3.1%2Fdist%2Ftypeshed-fallback%2Fstdlib%2Fbuiltins.pyi%22%2C%22x%22%5D \"../../../../.vscode/extensions/ms-python.vscode-pylance-2024.3.1/dist/typeshed-fallback/stdlib/builtins.pyi\") is not 3, the `else` clause is executed. A message is printed, and the `continue` statement is executed. The `continue` statement skips the rest of the current iteration and moves directly to the next iteration of the loop. In this specific code, the `continue` statement doesn't have any practical effect because there are no statements after it within the loop. It would be more useful in a situation where there are additional statements in the loop that you might want to skip for certain iterations."
   ]
  }
 ],
 "metadata": {
  "kernelspec": {
   "display_name": "R",
   "language": "R",
   "name": "ir"
  },
  "language_info": {
   "codemirror_mode": "r",
   "file_extension": ".r",
   "mimetype": "text/x-r-source",
   "name": "R",
   "pygments_lexer": "r",
   "version": "4.3.0"
  }
 },
 "nbformat": 4,
 "nbformat_minor": 2
}
