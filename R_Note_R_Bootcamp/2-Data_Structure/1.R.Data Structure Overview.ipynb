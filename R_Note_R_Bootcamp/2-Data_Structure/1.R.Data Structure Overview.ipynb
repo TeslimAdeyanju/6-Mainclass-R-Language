{
 "cells": [
  {
   "cell_type": "markdown",
   "metadata": {},
   "source": [
    "# DATA STRUCTURE  in R"
   ]
  },
  {
   "cell_type": "markdown",
   "metadata": {},
   "source": [
    "## Introduction \n",
    "___"
   ]
  },
  {
   "cell_type": "markdown",
   "metadata": {},
   "source": [
    "In any programming language, if you are doing programming, you need to use different variables to store different data. Moreover, variables are reserved in a memory location to store values. Also, this implies that, once you create a variable you reserve some area in memory. Further, data structures are the only way of arranging data so it can be used efficiently on a computer.\n",
    "\n",
    "If we see in contrast to different programming languages like C and Java, R doesn’t have variables declared as some data type. Further, the variables are appointed with R-objects and the knowledge form of the R-object becomes the datatype of the variable. There are many types of R-objects. The popularly used ones are:\n",
    "\n",
    "- Vector\n",
    "- Matrix\n",
    "- Array\n",
    "- Lists\n",
    "- Data Frames"
   ]
  },
  {
   "cell_type": "markdown",
   "metadata": {},
   "source": [
    "## R Vector\n",
    "___"
   ]
  },
  {
   "cell_type": "markdown",
   "metadata": {},
   "source": [
    "In R, a vector is a fundamental data structure that represents an ordered collection of elements of the same data type. Vectors can contain numeric, character, logical, or complex values. They are essential for storing and manipulating data efficiently in R.\n",
    "\n",
    "Here are some key characteristics of vectors in R:\n",
    "\n",
    "1. **Homogeneous Data:** All elements within a vector must be of the same data type. For example, a numeric vector can only contain numeric values, a character vector can only contain character values, and so on.\n",
    "\n",
    "2. **One-Dimensional:** Vectors in R are one-dimensional arrays, meaning they contain a single row or a single column of data.\n",
    "\n",
    "3. **Fixed Length:** Once created, the length of a vector in R is fixed and cannot be changed. You can, however, create new vectors by concatenating or subsetting existing vectors.\n",
    "\n",
    "4. **Indexed Access:** Individual elements within a vector can be accessed using numeric indices. Indices in R are 1-based, meaning the first element of a vector has an index of 1, the second element has an index of 2, and so on.\n",
    "\n",
    "5. **Operations:** Vectors support various operations, including arithmetic operations (e.g., addition, subtraction, multiplication), logical operations, subsetting, filtering, and more.\n",
    "\n",
    "There are two main types of vectors in R: atomic vectors and lists. Here's a comparison between them:\n",
    "\n",
    "1. **Atomic Vectors:**\n",
    "   - Atomic vectors are vectors that contain elements of a single data type, such as numeric, character, logical, or complex.\n",
    "   - All elements within an atomic vector must be of the same data type.\n",
    "   - Atomic vectors are more memory-efficient than lists because they store elements contiguously in memory.\n",
    "   - Examples of atomic vectors include numeric vectors, character vectors, logical vectors, and complex vectors.\n",
    "\n",
    "2. **Lists:**\n",
    "   - Lists are vectors that can contain elements of different data types, including other lists.\n",
    "   - Unlike atomic vectors, lists can hold heterogeneous data, meaning they can contain elements of different data types within the same list.\n",
    "   - Lists are more flexible than atomic vectors but may consume more memory and be less efficient for certain operations due to their heterogeneous nature.\n",
    "   - Lists are commonly used for storing complex or structured data, such as data frames, nested data structures, or objects with different attributes.\n",
    "\n",
    "The main difference between atomic vectors and recursive vector(list) is that atomic vectors are homogeneous, whereas the recursive vector(list) can be heterogeneous. Vectors have three common properties:\n",
    "\n",
    "1. Type, `typeof()`, what it is.\n",
    "2. Length, `length()`, how many elements it contains.\n",
    "3. Attributes, `attributes()`, additional arbitrary metadata.\n",
    "\n",
    "\n",
    "__Atomic vectors__:  \n",
    "There are four common sub-types of R Atomic Vectors:\n",
    "\n",
    "1. Numeric Data Type\n",
    "2. Integer Data Type\n",
    "3. Character Data Type\n",
    "4. Logical Data Type\n",
    "\n",
    "\n",
    "  \n",
    "In summary, vectors are essential data structures in R for storing and manipulating data efficiently. Atomic vectors contain elements of a single data type, while lists can hold heterogeneous data and provide more flexibility in data organization. The choice between using atomic vectors and lists depends on the specific requirements and characteristics of the data being handled."
   ]
  },
  {
   "cell_type": "markdown",
   "metadata": {},
   "source": [
    "## R Matrix \n",
    "___"
   ]
  },
  {
   "cell_type": "markdown",
   "metadata": {},
   "source": [
    "In R, a matrix is a two-dimensional data structure that contains elements arranged in rows and columns. Each element in a matrix must be of the same data type, such as numeric, character, or logical. Matrices are useful for storing and manipulating data in a structured way, particularly when dealing with numerical data or when performing matrix algebra operations.\n",
    "\n",
    "\n",
    "__Here are some key characteristics and features of R matrices:__\n",
    "\n",
    "- Rectangular Structure: Matrices in R have a rectangular structure, meaning they consist of rows and columns, with each row having the same number of elements and each column having the same number of elements.\n",
    "  \n",
    "- Homogeneous Data: All elements within a matrix must be of the same data type, such as numeric, character, or logical. Mixing different data types within a single matrix is not allowed.\n",
    "\n",
    "- Indexed Access: Individual elements within a matrix can be accessed using row and column indices, allowing for selective retrieval and modification of values.\n",
    "\n",
    "- Dimension Attributes: Matrices in R have dimension attributes that specify the number of rows and columns in the matrix. These dimensions can be retrieved or modified using functions such as dim().\n",
    "\n",
    "- Matrix Operations: R provides extensive support for matrix operations, including arithmetic operations (addition, subtraction, multiplication), matrix multiplication, transposition, inversion, determinant calculation, eigenvalue computation, and various other linear algebraic operations.\n",
    "\n",
    "- Integration with Statistical Analysis: Matrices play a fundamental role in statistical analysis and modeling in R, serving as the primary data structure for storing datasets and model inputs, especially in fields like machine learning and data analysis.\n",
    "\n",
    "\n",
    "__Applications of Matrices__\n",
    "- Matrices are used for carrying out geological surveys. We can represent information in the form of matrices that can be used for plotting graphs, performing statistical operations, etc.\n",
    "- To represent the real-world data is like traits of people’s population. They are the best representation method for plotting common survey things.\n",
    "- In robotics and automation, matrices are the best elements for the robot movements.\n",
    "- Matrices are used in calculating the gross domestic products in economics. Therefore, it helps in calculating goods product efficiency.\n",
    "- In computer-based applications, matrices play a vital role in the projection of a three-dimensional image into a two-dimensional screen creating realistic seeming motions.\n",
    "- In physical related applications, matrices can be applied in the study of an electrical circuit."
   ]
  },
  {
   "cell_type": "markdown",
   "metadata": {},
   "source": [
    "## R Array\n",
    "___"
   ]
  },
  {
   "cell_type": "markdown",
   "metadata": {},
   "source": [
    "In R, an array is a multidimensional data structure that extends the concept of a vector to two or more dimensions. It allows you to store data in a grid-like format with multiple rows, columns, and additional dimensions. Arrays are useful for representing data that have multiple attributes or dimensions, such as matrices, three-dimensional data, or higher-dimensional data.\n",
    "\n",
    "Here are some key features of arrays in R:\n",
    "\n",
    "1. Multidimensional Structure: Arrays can have multiple dimensions, meaning they can have rows, columns, and additional dimensions beyond the two-dimensional structure of matrices.\n",
    "   \n",
    "1. Homogeneous Data: Similar to vectors, arrays must contain elements of the same data type. This means that all elements within an array must be of the same data type, such as numeric, character, logical, or complex.\n",
    "\n",
    "1. Indexed Access: Elements within an array can be accessed using a combination of indices corresponding to the dimensions of the array. For example, a two-dimensional array can be accessed using row and column indices, while a three-dimensional array requires indices for row, column, and depth.\n",
    "\n",
    "1. Fixed Dimensions: Once created, the dimensions of an array in R are fixed and cannot be changed. You can, however, create new arrays by reshaping or combining existing arrays.\n",
    "\n",
    "1. Operations: Arrays support various operations, including arithmetic operations (e.g., addition, subtraction, multiplication), subsetting, slicing, reshaping, and more. R provides functions and operators for performing these operations efficiently on arrays.\n",
    "\n",
    "1. Integration with Matrices: In R, matrices are a special case of two-dimensional arrays. This means that you can perform array operations on matrices, and matrices can be treated as arrays with two dimensions.\n",
    "\n",
    "1. Efficient Storage: Arrays in R are stored in a contiguous block of memory, making them efficient for storing and accessing large volumes of data. However, large arrays can consume a significant amount of memory, so it's important to consider memory usage when working with arrays.\n",
    "\n",
    "- An array is created using the `array()` function. We can use vectors as input. To create an array, we can use these values in the dim parameter. Here's an example of creating a simple array in R:"
   ]
  },
  {
   "cell_type": "code",
   "execution_count": 3,
   "metadata": {
    "vscode": {
     "languageId": "r"
    }
   },
   "outputs": [
    {
     "name": "stdout",
     "output_type": "stream",
     "text": [
      ", , 1\n",
      "\n",
      "     [,1] [,2] [,3]\n",
      "[1,]    1    3    5\n",
      "[2,]    2    4    6\n",
      "\n",
      ", , 2\n",
      "\n",
      "     [,1] [,2] [,3]\n",
      "[1,]    7    9   11\n",
      "[2,]    8   10   12\n",
      "\n",
      ", , 3\n",
      "\n",
      "     [,1] [,2] [,3]\n",
      "[1,]   13   15   17\n",
      "[2,]   14   16   18\n",
      "\n",
      ", , 4\n",
      "\n",
      "     [,1] [,2] [,3]\n",
      "[1,]   19   21   23\n",
      "[2,]   20   22   24\n",
      "\n"
     ]
    }
   ],
   "source": [
    "# Create a three-dimensional array with numeric values\n",
    "array_data <- array(data = 1:24,  # Numeric data elements\n",
    "                    dim = c(2, 3, 4))  # Dimensions: 2 rows, 3 columns, 4 layers\n",
    "\n",
    "# Print the array\n",
    "print(array_data)\n"
   ]
  },
  {
   "cell_type": "markdown",
   "metadata": {},
   "source": [
    "This will create a 2x3x4 array with the numbers 1 to 24 filled row-wise, column-wise, and layer-wise.\n",
    "\n",
    "In summary, arrays in R are powerful data structures for representing multidimensional data and performing various operations on them efficiently. They provide a flexible and efficient way to store and manipulate data with multiple dimensions, making them essential for many data analysis and modeling tasks."
   ]
  },
  {
   "cell_type": "markdown",
   "metadata": {},
   "source": [
    "## List in R\n",
    "___"
   ]
  },
  {
   "cell_type": "markdown",
   "metadata": {},
   "source": [
    "In R, a list is a versatile and flexible data structure that can store elements of different data types, such as numeric, character, logical, or even other lists. Unlike vectors and arrays, which are restricted to storing elements of the same data type, lists allow for heterogeneous data, making them suitable for representing complex and structured data. A list is created using the `list()` function.\n",
    "\n",
    "Here are some key features of lists in R:\n",
    "\n",
    "1. **Heterogeneous Data:** Lists can contain elements of different data types within the same list. This means that you can store numeric values, character strings, logical values, or even other lists as elements of a single list.\n",
    "\n",
    "2. **Arbitrary Length:** Lists can have an arbitrary number of elements, and each element can have a different length. This makes lists highly flexible and suitable for storing data structures of varying complexity.\n",
    "\n",
    "3. **Indexed Access:** Elements within a list can be accessed using numeric indices or names assigned to the elements. This allows for selective retrieval and modification of list elements.\n",
    "\n",
    "4. **Recursive Structure:** Lists can contain other lists as elements, leading to a recursive data structure. This allows for the creation of nested or hierarchical data structures, such as lists of lists or lists of data frames.\n",
    "\n",
    "5. **Named Elements:** List elements can have names assigned to them, making it easier to reference and access specific elements within a list.\n",
    "\n",
    "6. **Versatility:** Lists are highly versatile and can be used to represent a wide range of data structures, including collections of variables, results of statistical analyses, configurations of models, hierarchical data, and more.\n",
    "\n",
    "7. **Operations:** Lists support various operations, including adding, removing, and modifying elements, sub-setting, merging, and combining lists, as well as applying functions to list elements.\n"
   ]
  },
  {
   "cell_type": "code",
   "execution_count": 3,
   "metadata": {
    "vscode": {
     "languageId": "r"
    }
   },
   "outputs": [
    {
     "name": "stdout",
     "output_type": "stream",
     "text": [
      "$name\n",
      "[1] \"John\"\n",
      "\n",
      "$age\n",
      "[1] 30\n",
      "\n",
      "$is_student\n",
      "[1] TRUE\n",
      "\n",
      "$favorite_numbers\n",
      "[1] 1 3 5\n",
      "\n",
      "$address\n",
      "$address$city\n",
      "[1] \"New York\"\n",
      "\n",
      "$address$zip_code\n",
      "[1] 10001\n",
      "\n",
      "\n"
     ]
    }
   ],
   "source": [
    "# Create a list with elements of different data types\n",
    "my_list <- list(name = \"John\",\n",
    "                age = 30,\n",
    "                is_student = TRUE,\n",
    "                favorite_numbers = c(1, 3, 5),\n",
    "                address = list(city = \"New York\", zip_code = 10001))\n",
    "print(my_list)"
   ]
  },
  {
   "cell_type": "markdown",
   "metadata": {},
   "source": [
    "This will create a list with five elements: a character string, a numeric value, a logical value, a numeric vector, and another nested list. Each element is labeled with a name, making it easier to reference and access specific elements within the list.\n",
    "\n",
    "In summary, lists in R are flexible and powerful data structures for storing and manipulating heterogeneous data. They provide a versatile way to represent complex and structured data, making them essential for many data analysis, modeling, and programming tasks in R."
   ]
  },
  {
   "cell_type": "markdown",
   "metadata": {},
   "source": [
    "## Data Frame in R"
   ]
  },
  {
   "cell_type": "markdown",
   "metadata": {},
   "source": [
    "In R, a data frame is a two-dimensional data structure that resembles a table or a spreadsheet, consisting of rows and columns. It is a fundamental data structure used for storing and manipulating data in a tabular format. Each column of a data frame can contain values of different data types, such as numeric, character, logical, or factor.\n",
    "\n",
    "Here are some key features of data frames in R:\n",
    "\n",
    "1. **Tabular Structure:** Data frames have a tabular structure, with rows representing observations or cases, and columns representing variables or attributes. Each row corresponds to a single observation, and each column corresponds to a single variable.\n",
    "\n",
    "2. **Heterogeneous Data:** Data frames can contain elements of different data types within the same data frame. This means that each column of a data frame can contain values of different data types, such as numeric, character, logical, or factor.\n",
    "\n",
    "3. **Indexed Access:** Elements within a data frame can be accessed using row and column indices, or by referring to variable names. This allows for selective retrieval and modification of data frame elements.\n",
    "\n",
    "4. **Column Names:** Data frame columns can have names assigned to them, making it easier to reference and access specific variables within a data frame.\n",
    "\n",
    "5. **Row Names:** Data frame rows can also have names assigned to them, although this is optional. Row names can be used to uniquely identify rows within a data frame.\n",
    "\n",
    "6. **Integration with Matrices:** Data frames are built on top of the matrix data structure in R, providing additional functionality and flexibility for handling tabular data.\n",
    "\n",
    "7. **Operations:** Data frames support various operations, including adding, removing, and modifying columns and rows, subsetting, merging, joining, filtering, sorting, and summarizing data.\n",
    "\n",
    "Data frames are widely used in R for data manipulation, exploration, analysis, and modeling tasks. They are particularly useful for working with structured datasets, such as those imported from spreadsheets, databases, or other data sources. Data frames are also the primary data structure used in conjunction with statistical modeling functions and packages in R.\n",
    "\n",
    "Here's an example of creating a simple data frame in R:\n",
    "\n",
    "```R\n",
    "# Create a data frame with three variables: ID, Age, and Gender\n",
    "my_data <- data.frame(ID = c(1, 2, 3, 4),\n",
    "                      Age = c(25, 30, 35, 40),\n",
    "                      Gender = c(\"Male\", \"Female\", \"Male\", \"Female\"))\n",
    "\n",
    "# Print the data frame\n",
    "print(my_data)\n",
    "```\n",
    "\n",
    "This will create a data frame with four rows and three columns, representing ID, Age, and Gender variables for four individuals. Each column contains values of different data types, and the rows represent individual observations.\n",
    "\n",
    "A data frame is an array. Unlike an array, the data we store in the columns of the data frame can be of various types. That is, one column might be a numeric variable, another might be a factor, and a third might be a character variable. All columns have to be of the same length.\n",
    "\n",
    "Characteristics of a Data Frame:\n",
    "\n",
    "- The column names should be non-empty.\n",
    "- The row names should be unique.\n",
    "- The data stored in a data frame can be of numeric, factor or character type.\n",
    "- Each column should contain the same number of data items.\n",
    "- Datasets imported in R are stored as data frames by default."
   ]
  },
  {
   "cell_type": "code",
   "execution_count": 1,
   "metadata": {
    "vscode": {
     "languageId": "r"
    }
   },
   "outputs": [
    {
     "data": {
      "text/html": [
       "<table class=\"dataframe\">\n",
       "<caption>A data.frame: 4 x 3</caption>\n",
       "<thead>\n",
       "\t<tr><th scope=col>ID</th><th scope=col>Age</th><th scope=col>Gender</th></tr>\n",
       "\t<tr><th scope=col>&lt;dbl&gt;</th><th scope=col>&lt;dbl&gt;</th><th scope=col>&lt;chr&gt;</th></tr>\n",
       "</thead>\n",
       "<tbody>\n",
       "\t<tr><td>1</td><td>25</td><td>Male  </td></tr>\n",
       "\t<tr><td>2</td><td>30</td><td>Female</td></tr>\n",
       "\t<tr><td>3</td><td>35</td><td>Male  </td></tr>\n",
       "\t<tr><td>4</td><td>40</td><td>Female</td></tr>\n",
       "</tbody>\n",
       "</table>\n"
      ],
      "text/latex": [
       "A data.frame: 4 x 3\n",
       "\\begin{tabular}{lll}\n",
       " ID & Age & Gender\\\\\n",
       " <dbl> & <dbl> & <chr>\\\\\n",
       "\\hline\n",
       "\t 1 & 25 & Male  \\\\\n",
       "\t 2 & 30 & Female\\\\\n",
       "\t 3 & 35 & Male  \\\\\n",
       "\t 4 & 40 & Female\\\\\n",
       "\\end{tabular}\n"
      ],
      "text/markdown": [
       "\n",
       "A data.frame: 4 x 3\n",
       "\n",
       "| ID &lt;dbl&gt; | Age &lt;dbl&gt; | Gender &lt;chr&gt; |\n",
       "|---|---|---|\n",
       "| 1 | 25 | Male   |\n",
       "| 2 | 30 | Female |\n",
       "| 3 | 35 | Male   |\n",
       "| 4 | 40 | Female |\n",
       "\n"
      ],
      "text/plain": [
       "  ID Age Gender\n",
       "1 1  25  Male  \n",
       "2 2  30  Female\n",
       "3 3  35  Male  \n",
       "4 4  40  Female"
      ]
     },
     "metadata": {},
     "output_type": "display_data"
    }
   ],
   "source": [
    "# Create a data frame with three variables: ID, Age, and Gender\n",
    "my_data <- data.frame(ID = c(1, 2, 3, 4),\n",
    "                      Age = c(25, 30, 35, 40),\n",
    "                      Gender = c(\"Male\", \"Female\", \"Male\", \"Female\"))\n",
    "\n",
    "# Print the data frame\n",
    "my_data"
   ]
  },
  {
   "cell_type": "markdown",
   "metadata": {},
   "source": [
    "## Difference between Array vs Data Frame \n",
    "___"
   ]
  },
  {
   "cell_type": "markdown",
   "metadata": {},
   "source": [
    "In R, both arrays and data frames are data structures used for organizing and storing data. However, they have distinct characteristics and are suitable for different types of data and operations.\n",
    "\n",
    "Here's a comparison between arrays and data frames in R:\n",
    "\n",
    "1. **Structure:**\n",
    "   - **Array:** An array is a multidimensional data structure that can store elements of the same data type. It can have two or more dimensions, organized in rows, columns, and additional dimensions.\n",
    "   - **Data Frame:** A data frame is a two-dimensional data structure similar to a spreadsheet or a database table. It consists of rows and columns, where each column can contain elements of different data types. Unlike arrays, data frames are primarily used for tabular data.\n",
    "\n",
    "2. **Homogeneity vs. Heterogeneity:**\n",
    "   - **Array:** Arrays are homogeneous data structures, meaning that all elements within an array must be of the same data type.\n",
    "   - **Data Frame:** Data frames are heterogeneous data structures, allowing columns to contain elements of different data types. This makes data frames suitable for representing tabular data with mixed data types, such as numeric, character, and factor variables.\n",
    "\n",
    "3. **Indexing:**\n",
    "   - **Array:** Elements within an array can be accessed using numeric indices corresponding to the dimensions of the array. For example, a two-dimensional array can be indexed using row and column indices.\n",
    "   - **Data Frame:** Data frames support both numeric and character-based indexing. Columns can be accessed using column names or numeric indices, while rows can be accessed using numeric row indices.\n",
    "\n",
    "4. **Integration with Statistical Analysis:**\n",
    "   - **Array:** Arrays are commonly used for storing and manipulating multidimensional data in statistical analysis, such as experimental data, image data, or time series data.\n",
    "   - **Data Frame:** Data frames are widely used in statistical analysis and data manipulation tasks, especially for tabular data analysis, data cleaning, and data visualization. They are commonly used for working with datasets imported from external sources or generated from statistical analyses.\n",
    "\n",
    "5. **Operations:**\n",
    "   - **Array:** Arrays support various array operations, including arithmetic operations, reshaping, subsetting, and array-specific functions for multidimensional data manipulation.\n",
    "   - **Data Frame:** Data frames support operations commonly used in data analysis, such as subsetting, filtering, merging, joining, aggregation, and statistical computations. R provides a wide range of functions and packages tailored for data frame manipulation and analysis.\n",
    "\n",
    "In summary, arrays are suitable for storing and manipulating multidimensional homogeneous data, while data frames are better suited for working with tabular data with mixed data types. Each data structure has its own strengths and is chosen based on the specific requirements of the data and the analysis tasks at hand."
   ]
  }
 ],
 "metadata": {
  "kernelspec": {
   "display_name": "R",
   "language": "R",
   "name": "ir"
  },
  "language_info": {
   "codemirror_mode": "r",
   "file_extension": ".r",
   "mimetype": "text/x-r-source",
   "name": "R",
   "pygments_lexer": "r",
   "version": "4.4.0"
  }
 },
 "nbformat": 4,
 "nbformat_minor": 2
}
