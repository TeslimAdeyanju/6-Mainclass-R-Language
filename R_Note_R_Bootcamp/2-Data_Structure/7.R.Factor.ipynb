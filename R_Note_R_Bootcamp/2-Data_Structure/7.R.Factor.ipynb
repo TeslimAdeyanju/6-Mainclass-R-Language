{
 "cells": [
  {
   "cell_type": "markdown",
   "metadata": {},
   "source": [
    "## FACTOR"
   ]
  },
  {
   "cell_type": "markdown",
   "metadata": {},
   "source": [
    "#### Introduction\n",
    "___"
   ]
  },
  {
   "cell_type": "markdown",
   "metadata": {},
   "source": [
    "A factor in R is a data structure used to represent a vector as categorical data. Therefore, the factor object takes a bounded number of different values called levels. Factors are very useful when working with character columns of data frames, for creating barplots and creating statistical summaries for categorical variables.\n",
    "\n",
    "In R, factors are a special data type designed to represent categorical variables. These variables have a finite set of distinct values that represent categories rather than numerical measurements. Factors help you organize and analyze categorical data effectively.\n",
    "\n",
    "**Key Points about Factors:**\n",
    "\n",
    "- Categorical data: Represents qualities or classifications, not numbers (e.g., eye color, blood type, occupation).\n",
    "\n",
    "- Levels: The distinct categories within a factor (e.g., \"blue\", \"brown\", \"green\" for eye color).\n",
    "\n",
    "- Ordered vs. Unordered: Ordered factors have a meaningful sequence (e.g., shirt sizes S, M, L, XL). Unordered factors don't have a specific order (e.g., eye color)."
   ]
  },
  {
   "cell_type": "markdown",
   "metadata": {},
   "source": [
    "#### Creating Factors: The `factor()` Function\n",
    "___"
   ]
  },
  {
   "cell_type": "markdown",
   "metadata": {},
   "source": [
    "The `factor` function allows you to create factors in R. In the following block we show the arguments of the function with a summarized description.\n",
    "\n",
    "``` R\n",
    "factor(x = character(),         # Input vector data\n",
    "       levels,                  # Input of unique x values (optional)\n",
    "       labels = levels,         # Output labels for the levels (optional)\n",
    "       exclude = NA,            # Values to be excluded from levels\n",
    "       ordered = is.ordered(x), # Whether the input levels are ordered as given or not\n",
    "       nmax = NA)               # Maximum number of levels\n",
    "\n",
    "```\n",
    "\n",
    "\n",
    "This function you're looking at, \"factor\", is used in R to convert categorical data into factors. Factors are R's way of representing categorical data, which are variables that can take on a limited, and usually fixed, number of possible values.\n",
    "\n",
    "Here's a breakdown of the parameters:\n",
    "\n",
    "1. `x`: This is the input vector containing the categorical data that you want to convert into factors.\n",
    "\n",
    "2. `levels`: This is an optional parameter that allows you to specify the unique values that the categorical data can take. If you don't provide this, R will automatically determine the unique values from the input data.\n",
    "\n",
    "3. `labels`: This parameter allows you to assign labels to the levels specified in the levels parameter. If not provided, it defaults to the unique values themselves.\n",
    "\n",
    "4. `exclude`: This parameter allows you to specify values that should be excluded from the levels. For example, if you have missing values that you don't want to include as levels, you can specify them here.\n",
    "\n",
    "5. `ordered`: This parameter specifies whether the levels should be treated as ordered or not. If set to `TRUE`, it means the levels have a specific order, like low, medium, high. If set to `FALSE` or not provided, it means the levels are just distinct categories without any inherent order.\n",
    "\n",
    "6. `nmax`: This parameter specifies the maximum number of levels that should be generated. If there are more unique values in the data than this value, the less frequent values will be combined into an \"other\" category."
   ]
  },
  {
   "cell_type": "code",
   "execution_count": 2,
   "metadata": {
    "vscode": {
     "languageId": "r"
    }
   },
   "outputs": [
    {
     "data": {
      "text/html": [
       "<style>\n",
       ".list-inline {list-style: none; margin:0; padding: 0}\n",
       ".list-inline>li {display: inline-block}\n",
       ".list-inline>li:not(:last-child)::after {content: \"\\00b7\"; padding: 0 .5ex}\n",
       "</style>\n",
       "<ol class=list-inline><li>Excellent</li><li>Good</li><li>Average</li><li>Excellent</li><li>Good</li><li>Average</li><li>Excellent</li><li>Good</li><li>Poor</li><li>&lt;NA&gt;</li></ol>\n",
       "\n",
       "<details>\n",
       "\t<summary style=display:list-item;cursor:pointer>\n",
       "\t\t<strong>Levels</strong>:\n",
       "\t</summary>\n",
       "\t<style>\n",
       "\t.list-inline {list-style: none; margin:0; padding: 0}\n",
       "\t.list-inline>li {display: inline-block}\n",
       "\t.list-inline>li:not(:last-child)::after {content: \"\\00b7\"; padding: 0 .5ex}\n",
       "\t</style>\n",
       "\t<ol class=list-inline><li>'Excellent'</li><li>'Good'</li><li>'Average'</li><li>'Poor'</li></ol>\n",
       "</details>"
      ],
      "text/latex": [
       "\\begin{enumerate*}\n",
       "\\item Excellent\n",
       "\\item Good\n",
       "\\item Average\n",
       "\\item Excellent\n",
       "\\item Good\n",
       "\\item Average\n",
       "\\item Excellent\n",
       "\\item Good\n",
       "\\item Poor\n",
       "\\item <NA>\n",
       "\\end{enumerate*}\n",
       "\n",
       "\\emph{Levels}: \\begin{enumerate*}\n",
       "\\item 'Excellent'\n",
       "\\item 'Good'\n",
       "\\item 'Average'\n",
       "\\item 'Poor'\n",
       "\\end{enumerate*}\n"
      ],
      "text/markdown": [
       "1. Excellent\n",
       "2. Good\n",
       "3. Average\n",
       "4. Excellent\n",
       "5. Good\n",
       "6. Average\n",
       "7. Excellent\n",
       "8. Good\n",
       "9. Poor\n",
       "10. &lt;NA&gt;\n",
       "\n",
       "\n",
       "\n",
       "**Levels**: 1. 'Excellent'\n",
       "2. 'Good'\n",
       "3. 'Average'\n",
       "4. 'Poor'\n",
       "\n",
       "\n"
      ],
      "text/plain": [
       " [1] Excellent Good      Average   Excellent Good      Average   Excellent\n",
       " [8] Good      Poor      <NA>     \n",
       "Levels: Excellent Good Average Poor"
      ]
     },
     "metadata": {},
     "output_type": "display_data"
    }
   ],
   "source": [
    "# sample data\n",
    "grades <- c(\"A\", \"B\", \"C\", \"A\", \"B\", \"C\", \"A\", \"B\", \"D\", \"E\")\n",
    "\n",
    "# Convert grades to a factor\n",
    "grades_factor <- factor(\n",
    "  x = grades,\n",
    "  levels = c(\"A\", \"B\", \"C\", \"D\"),\n",
    "  labels = c(\"Excellent\", \"Good\", \"Average\", \"Poor\"),\n",
    "  exclude = \"E\",\n",
    "  ordered = FALSE,\n",
    "  nmax = 4\n",
    ")\n",
    "\n",
    "# Print the factor\n",
    "grades_factor\n"
   ]
  },
  {
   "cell_type": "markdown",
   "metadata": {},
   "source": [
    "The provided R code is used to convert a character vector of grades into a factor. Factors are a data type in R that are used to handle categorical data. They are stored as integer vectors with a corresponding set of character values to use when the factor is displayed.\n",
    "\n",
    "The `grades` vector is defined with a series of letter grades. The `factor()` function is then used to convert this character vector into a factor. The `x` argument is the input vector data, which is `grades` in this case.\n",
    "\n",
    "The `levels` argument is used to specify the unique values in `x`. Here, it's defined as \"A\", \"B\", \"C\", and \"D\". The `labels` argument is used to specify the labels for the levels. Here, it's defined as \"Excellent\", \"Good\", \"Average\", and \"Poor\". This means that \"A\" will be labeled as \"Excellent\", \"B\" as \"Good\", and so on.\n",
    "\n",
    "The `exclude` argument is used to specify values to be excluded from levels. Here, it's defined as \"E\", which means that any \"E\" values in `grades` will be excluded from `grades_factor`.\n",
    "\n",
    "The `ordered` argument is used to specify whether the input levels are ordered as given or not. Here, it's defined as `FALSE`, which means that the levels are not ordered.\n",
    "\n",
    "The `nmax` argument is used to specify the maximum number of levels. Here, it's defined as 4, which means that a maximum of 4 levels will be used.\n",
    "\n",
    "Finally, `grades_factor` is printed to display the factor.\n",
    "\n",
    "Regarding the error message you're seeing, it seems to be related to a linter in your R environment, not the code itself. A linter is a tool that analyzes code to flag programming errors, bugs, stylistic errors, and suspicious constructs. The error message suggests that the linter 'object_length_linter' failed because it couldn't find the file 'Untitled-1.ipynb?jupyter-notebook'. You might want to check the file path or the configuration of your linter."
   ]
  },
  {
   "cell_type": "code",
   "execution_count": 3,
   "metadata": {
    "vscode": {
     "languageId": "r"
    }
   },
   "outputs": [
    {
     "data": {
      "text/html": [
       "<style>\n",
       ".list-inline {list-style: none; margin:0; padding: 0}\n",
       ".list-inline>li {display: inline-block}\n",
       ".list-inline>li:not(:last-child)::after {content: \"\\00b7\"; padding: 0 .5ex}\n",
       "</style>\n",
       "<ol class=list-inline><li>Male</li><li>Female</li><li>Male</li><li>Female</li><li>Male</li><li>Female</li></ol>\n",
       "\n",
       "<details>\n",
       "\t<summary style=display:list-item;cursor:pointer>\n",
       "\t\t<strong>Levels</strong>:\n",
       "\t</summary>\n",
       "\t<style>\n",
       "\t.list-inline {list-style: none; margin:0; padding: 0}\n",
       "\t.list-inline>li {display: inline-block}\n",
       "\t.list-inline>li:not(:last-child)::after {content: \"\\00b7\"; padding: 0 .5ex}\n",
       "\t</style>\n",
       "\t<ol class=list-inline><li>'Male'</li><li>'Female'</li></ol>\n",
       "</details>"
      ],
      "text/latex": [
       "\\begin{enumerate*}\n",
       "\\item Male\n",
       "\\item Female\n",
       "\\item Male\n",
       "\\item Female\n",
       "\\item Male\n",
       "\\item Female\n",
       "\\end{enumerate*}\n",
       "\n",
       "\\emph{Levels}: \\begin{enumerate*}\n",
       "\\item 'Male'\n",
       "\\item 'Female'\n",
       "\\end{enumerate*}\n"
      ],
      "text/markdown": [
       "1. Male\n",
       "2. Female\n",
       "3. Male\n",
       "4. Female\n",
       "5. Male\n",
       "6. Female\n",
       "\n",
       "\n",
       "\n",
       "**Levels**: 1. 'Male'\n",
       "2. 'Female'\n",
       "\n",
       "\n"
      ],
      "text/plain": [
       "[1] Male   Female Male   Female Male   Female\n",
       "Levels: Male Female"
      ]
     },
     "metadata": {},
     "output_type": "display_data"
    }
   ],
   "source": [
    "# Sample data\n",
    "gender <- c(\"Male\", \"Female\", \"Male\", \"Female\", \"Male\", \"Female\")\n",
    "\n",
    "# Convert gender to a factor\n",
    "gender_factor <- factor(gender, levels = c(\"Male\", \"Female\"), ordered = FALSE)\n",
    "\n",
    "# Print the factor\n",
    "gender_factor\n"
   ]
  },
  {
   "cell_type": "code",
   "execution_count": 4,
   "metadata": {
    "vscode": {
     "languageId": "r"
    }
   },
   "outputs": [
    {
     "data": {
      "text/html": [
       "<style>\n",
       ".list-inline {list-style: none; margin:0; padding: 0}\n",
       ".list-inline>li {display: inline-block}\n",
       ".list-inline>li:not(:last-child)::after {content: \"\\00b7\"; padding: 0 .5ex}\n",
       "</style>\n",
       "<ol class=list-inline><li>Level 1</li><li>Level 2</li><li>Level 1</li><li>Level 4</li><li>Level 2</li><li>Level 1</li><li>Level 3</li></ol>\n",
       "\n",
       "<details>\n",
       "\t<summary style=display:list-item;cursor:pointer>\n",
       "\t\t<strong>Levels</strong>:\n",
       "\t</summary>\n",
       "\t<style>\n",
       "\t.list-inline {list-style: none; margin:0; padding: 0}\n",
       "\t.list-inline>li {display: inline-block}\n",
       "\t.list-inline>li:not(:last-child)::after {content: \"\\00b7\"; padding: 0 .5ex}\n",
       "\t</style>\n",
       "\t<ol class=list-inline><li>'Level 1'</li><li>'Level 2'</li><li>'Level 3'</li><li>'Level 4'</li></ol>\n",
       "</details>"
      ],
      "text/latex": [
       "\\begin{enumerate*}\n",
       "\\item Level 1\n",
       "\\item Level 2\n",
       "\\item Level 1\n",
       "\\item Level 4\n",
       "\\item Level 2\n",
       "\\item Level 1\n",
       "\\item Level 3\n",
       "\\end{enumerate*}\n",
       "\n",
       "\\emph{Levels}: \\begin{enumerate*}\n",
       "\\item 'Level 1'\n",
       "\\item 'Level 2'\n",
       "\\item 'Level 3'\n",
       "\\item 'Level 4'\n",
       "\\end{enumerate*}\n"
      ],
      "text/markdown": [
       "1. Level 1\n",
       "2. Level 2\n",
       "3. Level 1\n",
       "4. Level 4\n",
       "5. Level 2\n",
       "6. Level 1\n",
       "7. Level 3\n",
       "\n",
       "\n",
       "\n",
       "**Levels**: 1. 'Level 1'\n",
       "2. 'Level 2'\n",
       "3. 'Level 3'\n",
       "4. 'Level 4'\n",
       "\n",
       "\n"
      ],
      "text/plain": [
       "[1] Level 1 Level 2 Level 1 Level 4 Level 2 Level 1 Level 3\n",
       "Levels: Level 1 < Level 2 < Level 3 < Level 4"
      ]
     },
     "metadata": {},
     "output_type": "display_data"
    }
   ],
   "source": [
    "# Sample data\n",
    "performance <- c(\"Outstanding\", \"Good\", \"Outstanding\", \"Needs Improvement\", \"Good\", \"Outstanding\", \"Satisfactory\")\n",
    "\n",
    "# Convert performance ratings to a factor\n",
    "performance_factor <- factor(\n",
    "  x = performance,\n",
    "  levels = c(\"Outstanding\", \"Good\", \"Satisfactory\", \"Needs Improvement\"),\n",
    "  labels = c(\"Level 1\", \"Level 2\", \"Level 3\", \"Level 4\"),\n",
    "  exclude = NULL,\n",
    "  ordered = TRUE\n",
    ")\n",
    "\n",
    "# Print the factor\n",
    "performance_factor"
   ]
  },
  {
   "cell_type": "markdown",
   "metadata": {},
   "source": [
    "#### Convert character to factor in R\n",
    "___"
   ]
  },
  {
   "cell_type": "markdown",
   "metadata": {},
   "source": [
    "Now we will review an example where our input is a character vector. Suppose, for instance, that you have a vector containing the week days when some event happened. Thus, you can convert your character vector to factor with the factor function."
   ]
  },
  {
   "cell_type": "code",
   "execution_count": 5,
   "metadata": {
    "vscode": {
     "languageId": "r"
    }
   },
   "outputs": [
    {
     "data": {
      "text/html": [
       "<style>\n",
       ".list-inline {list-style: none; margin:0; padding: 0}\n",
       ".list-inline>li {display: inline-block}\n",
       ".list-inline>li:not(:last-child)::after {content: \"\\00b7\"; padding: 0 .5ex}\n",
       "</style>\n",
       "<ol class=list-inline><li>Friday</li><li>Tuesday</li><li>Thursday</li><li>Monday</li><li>Wednesday</li><li>Monday</li><li>Wednesday</li><li>Monday</li><li>Monday</li><li>Wednesday</li><li>Sunday</li><li>Saturday</li></ol>\n",
       "\n",
       "<details>\n",
       "\t<summary style=display:list-item;cursor:pointer>\n",
       "\t\t<strong>Levels</strong>:\n",
       "\t</summary>\n",
       "\t<style>\n",
       "\t.list-inline {list-style: none; margin:0; padding: 0}\n",
       "\t.list-inline>li {display: inline-block}\n",
       "\t.list-inline>li:not(:last-child)::after {content: \"\\00b7\"; padding: 0 .5ex}\n",
       "\t</style>\n",
       "\t<ol class=list-inline><li>'Friday'</li><li>'Monday'</li><li>'Saturday'</li><li>'Sunday'</li><li>'Thursday'</li><li>'Tuesday'</li><li>'Wednesday'</li></ol>\n",
       "</details>"
      ],
      "text/latex": [
       "\\begin{enumerate*}\n",
       "\\item Friday\n",
       "\\item Tuesday\n",
       "\\item Thursday\n",
       "\\item Monday\n",
       "\\item Wednesday\n",
       "\\item Monday\n",
       "\\item Wednesday\n",
       "\\item Monday\n",
       "\\item Monday\n",
       "\\item Wednesday\n",
       "\\item Sunday\n",
       "\\item Saturday\n",
       "\\end{enumerate*}\n",
       "\n",
       "\\emph{Levels}: \\begin{enumerate*}\n",
       "\\item 'Friday'\n",
       "\\item 'Monday'\n",
       "\\item 'Saturday'\n",
       "\\item 'Sunday'\n",
       "\\item 'Thursday'\n",
       "\\item 'Tuesday'\n",
       "\\item 'Wednesday'\n",
       "\\end{enumerate*}\n"
      ],
      "text/markdown": [
       "1. Friday\n",
       "2. Tuesday\n",
       "3. Thursday\n",
       "4. Monday\n",
       "5. Wednesday\n",
       "6. Monday\n",
       "7. Wednesday\n",
       "8. Monday\n",
       "9. Monday\n",
       "10. Wednesday\n",
       "11. Sunday\n",
       "12. Saturday\n",
       "\n",
       "\n",
       "\n",
       "**Levels**: 1. 'Friday'\n",
       "2. 'Monday'\n",
       "3. 'Saturday'\n",
       "4. 'Sunday'\n",
       "5. 'Thursday'\n",
       "6. 'Tuesday'\n",
       "7. 'Wednesday'\n",
       "\n",
       "\n"
      ],
      "text/plain": [
       " [1] Friday    Tuesday   Thursday  Monday    Wednesday Monday    Wednesday\n",
       " [8] Monday    Monday    Wednesday Sunday    Saturday \n",
       "Levels: Friday Monday Saturday Sunday Thursday Tuesday Wednesday"
      ]
     },
     "metadata": {},
     "output_type": "display_data"
    }
   ],
   "source": [
    "days <- c(\"Friday\", \"Tuesday\", \"Thursday\", \"Monday\", \"Wednesday\", \"Monday\",\n",
    "          \"Wednesday\", \"Monday\", \"Monday\", \"Wednesday\", \"Sunday\", \"Saturday\")\n",
    "\n",
    "# Levels in alphabetical order\n",
    "my_factor <- factor(days)\n",
    "my_factor"
   ]
  },
  {
   "cell_type": "markdown",
   "metadata": {},
   "source": [
    "If you want to preserve the order of the levels as appear on the input data, specify in the `levels` argument the following:"
   ]
  },
  {
   "cell_type": "code",
   "execution_count": 6,
   "metadata": {
    "vscode": {
     "languageId": "r"
    }
   },
   "outputs": [
    {
     "data": {
      "text/html": [
       "<style>\n",
       ".list-inline {list-style: none; margin:0; padding: 0}\n",
       ".list-inline>li {display: inline-block}\n",
       ".list-inline>li:not(:last-child)::after {content: \"\\00b7\"; padding: 0 .5ex}\n",
       "</style>\n",
       "<ol class=list-inline><li>Friday</li><li>Tuesday</li><li>Thursday</li><li>Monday</li><li>Wednesday</li><li>Monday</li><li>Wednesday</li><li>Monday</li><li>Monday</li><li>Wednesday</li><li>Sunday</li><li>Saturday</li></ol>\n",
       "\n",
       "<details>\n",
       "\t<summary style=display:list-item;cursor:pointer>\n",
       "\t\t<strong>Levels</strong>:\n",
       "\t</summary>\n",
       "\t<style>\n",
       "\t.list-inline {list-style: none; margin:0; padding: 0}\n",
       "\t.list-inline>li {display: inline-block}\n",
       "\t.list-inline>li:not(:last-child)::after {content: \"\\00b7\"; padding: 0 .5ex}\n",
       "\t</style>\n",
       "\t<ol class=list-inline><li>'Friday'</li><li>'Tuesday'</li><li>'Thursday'</li><li>'Monday'</li><li>'Wednesday'</li><li>'Sunday'</li><li>'Saturday'</li></ol>\n",
       "</details>"
      ],
      "text/latex": [
       "\\begin{enumerate*}\n",
       "\\item Friday\n",
       "\\item Tuesday\n",
       "\\item Thursday\n",
       "\\item Monday\n",
       "\\item Wednesday\n",
       "\\item Monday\n",
       "\\item Wednesday\n",
       "\\item Monday\n",
       "\\item Monday\n",
       "\\item Wednesday\n",
       "\\item Sunday\n",
       "\\item Saturday\n",
       "\\end{enumerate*}\n",
       "\n",
       "\\emph{Levels}: \\begin{enumerate*}\n",
       "\\item 'Friday'\n",
       "\\item 'Tuesday'\n",
       "\\item 'Thursday'\n",
       "\\item 'Monday'\n",
       "\\item 'Wednesday'\n",
       "\\item 'Sunday'\n",
       "\\item 'Saturday'\n",
       "\\end{enumerate*}\n"
      ],
      "text/markdown": [
       "1. Friday\n",
       "2. Tuesday\n",
       "3. Thursday\n",
       "4. Monday\n",
       "5. Wednesday\n",
       "6. Monday\n",
       "7. Wednesday\n",
       "8. Monday\n",
       "9. Monday\n",
       "10. Wednesday\n",
       "11. Sunday\n",
       "12. Saturday\n",
       "\n",
       "\n",
       "\n",
       "**Levels**: 1. 'Friday'\n",
       "2. 'Tuesday'\n",
       "3. 'Thursday'\n",
       "4. 'Monday'\n",
       "5. 'Wednesday'\n",
       "6. 'Sunday'\n",
       "7. 'Saturday'\n",
       "\n",
       "\n"
      ],
      "text/plain": [
       " [1] Friday    Tuesday   Thursday  Monday    Wednesday Monday    Wednesday\n",
       " [8] Monday    Monday    Wednesday Sunday    Saturday \n",
       "Levels: Friday Tuesday Thursday Monday Wednesday Sunday Saturday"
      ]
     },
     "metadata": {},
     "output_type": "display_data"
    }
   ],
   "source": [
    "factor(days, levels = unique(days))"
   ]
  },
  {
   "cell_type": "markdown",
   "metadata": {},
   "source": [
    "Note that you can return and convert the factor levels to character with the `levels` function."
   ]
  },
  {
   "cell_type": "code",
   "execution_count": 7,
   "metadata": {
    "vscode": {
     "languageId": "r"
    }
   },
   "outputs": [
    {
     "data": {
      "text/html": [
       "<style>\n",
       ".list-inline {list-style: none; margin:0; padding: 0}\n",
       ".list-inline>li {display: inline-block}\n",
       ".list-inline>li:not(:last-child)::after {content: \"\\00b7\"; padding: 0 .5ex}\n",
       "</style>\n",
       "<ol class=list-inline><li>'Friday'</li><li>'Monday'</li><li>'Saturday'</li><li>'Sunday'</li><li>'Thursday'</li><li>'Tuesday'</li><li>'Wednesday'</li></ol>\n"
      ],
      "text/latex": [
       "\\begin{enumerate*}\n",
       "\\item 'Friday'\n",
       "\\item 'Monday'\n",
       "\\item 'Saturday'\n",
       "\\item 'Sunday'\n",
       "\\item 'Thursday'\n",
       "\\item 'Tuesday'\n",
       "\\item 'Wednesday'\n",
       "\\end{enumerate*}\n"
      ],
      "text/markdown": [
       "1. 'Friday'\n",
       "2. 'Monday'\n",
       "3. 'Saturday'\n",
       "4. 'Sunday'\n",
       "5. 'Thursday'\n",
       "6. 'Tuesday'\n",
       "7. 'Wednesday'\n",
       "\n",
       "\n"
      ],
      "text/plain": [
       "[1] \"Friday\"    \"Monday\"    \"Saturday\"  \"Sunday\"    \"Thursday\"  \"Tuesday\"  \n",
       "[7] \"Wednesday\""
      ]
     },
     "metadata": {},
     "output_type": "display_data"
    }
   ],
   "source": [
    "levels(my_factor)"
   ]
  },
  {
   "cell_type": "markdown",
   "metadata": {},
   "source": [
    "#### Convert numeric to factor in R\n",
    "___"
   ]
  },
  {
   "cell_type": "markdown",
   "metadata": {},
   "source": [
    "This can best be explain with an example. Suppose you have registered the birth city of six individuals with the following codification:\n",
    "\n",
    "1. Lagos\n",
    "2. Abuja\n",
    "3. Ogun\n",
    "4. Abia\n",
    "\n",
    "Hence, you will have something like the following data stored in a numeric vector:"
   ]
  },
  {
   "cell_type": "code",
   "execution_count": 8,
   "metadata": {
    "vscode": {
     "languageId": "r"
    }
   },
   "outputs": [
    {
     "data": {
      "text/html": [
       "<style>\n",
       ".list-inline {list-style: none; margin:0; padding: 0}\n",
       ".list-inline>li {display: inline-block}\n",
       ".list-inline>li:not(:last-child)::after {content: \"\\00b7\"; padding: 0 .5ex}\n",
       "</style>\n",
       "<ol class=list-inline><li>3</li><li>2</li><li>1</li><li>4</li><li>3</li><li>2</li><li>3</li><li>3</li><li>4</li><li>4</li><li>2</li><li>1</li><li>3</li></ol>\n",
       "\n",
       "<details>\n",
       "\t<summary style=display:list-item;cursor:pointer>\n",
       "\t\t<strong>Levels</strong>:\n",
       "\t</summary>\n",
       "\t<style>\n",
       "\t.list-inline {list-style: none; margin:0; padding: 0}\n",
       "\t.list-inline>li {display: inline-block}\n",
       "\t.list-inline>li:not(:last-child)::after {content: \"\\00b7\"; padding: 0 .5ex}\n",
       "\t</style>\n",
       "\t<ol class=list-inline><li>'1'</li><li>'2'</li><li>'3'</li><li>'4'</li></ol>\n",
       "</details>"
      ],
      "text/latex": [
       "\\begin{enumerate*}\n",
       "\\item 3\n",
       "\\item 2\n",
       "\\item 1\n",
       "\\item 4\n",
       "\\item 3\n",
       "\\item 2\n",
       "\\item 3\n",
       "\\item 3\n",
       "\\item 4\n",
       "\\item 4\n",
       "\\item 2\n",
       "\\item 1\n",
       "\\item 3\n",
       "\\end{enumerate*}\n",
       "\n",
       "\\emph{Levels}: \\begin{enumerate*}\n",
       "\\item '1'\n",
       "\\item '2'\n",
       "\\item '3'\n",
       "\\item '4'\n",
       "\\end{enumerate*}\n"
      ],
      "text/markdown": [
       "1. 3\n",
       "2. 2\n",
       "3. 1\n",
       "4. 4\n",
       "5. 3\n",
       "6. 2\n",
       "7. 3\n",
       "8. 3\n",
       "9. 4\n",
       "10. 4\n",
       "11. 2\n",
       "12. 1\n",
       "13. 3\n",
       "\n",
       "\n",
       "\n",
       "**Levels**: 1. '1'\n",
       "2. '2'\n",
       "3. '3'\n",
       "4. '4'\n",
       "\n",
       "\n"
      ],
      "text/plain": [
       " [1] 3 2 1 4 3 2 3 3 4 4 2 1 3\n",
       "Levels: 1 2 3 4"
      ]
     },
     "metadata": {},
     "output_type": "display_data"
    }
   ],
   "source": [
    "# Vectorised the data\n",
    "city <- c(3, 2, 1, 4, 3, 2, 3, 3, 4, 4, 2, 1, 3)\n",
    "\n",
    "# Levels in alphabetical order\n",
    "my_factor <- factor(city)\n",
    "my_factor"
   ]
  },
  {
   "cell_type": "code",
   "execution_count": 9,
   "metadata": {
    "vscode": {
     "languageId": "r"
    }
   },
   "outputs": [
    {
     "data": {
      "text/html": [
       "<style>\n",
       ".list-inline {list-style: none; margin:0; padding: 0}\n",
       ".list-inline>li {display: inline-block}\n",
       ".list-inline>li:not(:last-child)::after {content: \"\\00b7\"; padding: 0 .5ex}\n",
       "</style>\n",
       "<ol class=list-inline><li>Ogun</li><li>Abuja</li><li>Lagos</li><li>Abia</li><li>Ogun</li><li>Abuja</li><li>Ogun</li><li>Ogun</li><li>Abia</li><li>Abia</li><li>Abuja</li><li>Lagos</li><li>Ogun</li></ol>\n",
       "\n",
       "<details>\n",
       "\t<summary style=display:list-item;cursor:pointer>\n",
       "\t\t<strong>Levels</strong>:\n",
       "\t</summary>\n",
       "\t<style>\n",
       "\t.list-inline {list-style: none; margin:0; padding: 0}\n",
       "\t.list-inline>li {display: inline-block}\n",
       "\t.list-inline>li:not(:last-child)::after {content: \"\\00b7\"; padding: 0 .5ex}\n",
       "\t</style>\n",
       "\t<ol class=list-inline><li>'Lagos'</li><li>'Abuja'</li><li>'Ogun'</li><li>'Abia'</li></ol>\n",
       "</details>"
      ],
      "text/latex": [
       "\\begin{enumerate*}\n",
       "\\item Ogun\n",
       "\\item Abuja\n",
       "\\item Lagos\n",
       "\\item Abia\n",
       "\\item Ogun\n",
       "\\item Abuja\n",
       "\\item Ogun\n",
       "\\item Ogun\n",
       "\\item Abia\n",
       "\\item Abia\n",
       "\\item Abuja\n",
       "\\item Lagos\n",
       "\\item Ogun\n",
       "\\end{enumerate*}\n",
       "\n",
       "\\emph{Levels}: \\begin{enumerate*}\n",
       "\\item 'Lagos'\n",
       "\\item 'Abuja'\n",
       "\\item 'Ogun'\n",
       "\\item 'Abia'\n",
       "\\end{enumerate*}\n"
      ],
      "text/markdown": [
       "1. Ogun\n",
       "2. Abuja\n",
       "3. Lagos\n",
       "4. Abia\n",
       "5. Ogun\n",
       "6. Abuja\n",
       "7. Ogun\n",
       "8. Ogun\n",
       "9. Abia\n",
       "10. Abia\n",
       "11. Abuja\n",
       "12. Lagos\n",
       "13. Ogun\n",
       "\n",
       "\n",
       "\n",
       "**Levels**: 1. 'Lagos'\n",
       "2. 'Abuja'\n",
       "3. 'Ogun'\n",
       "4. 'Abia'\n",
       "\n",
       "\n"
      ],
      "text/plain": [
       " [1] Ogun  Abuja Lagos Abia  Ogun  Abuja Ogun  Ogun  Abia  Abia  Abuja Lagos\n",
       "[13] Ogun \n",
       "Levels: Lagos Abuja Ogun Abia"
      ]
     },
     "metadata": {},
     "output_type": "display_data"
    }
   ],
   "source": [
    "# Convert number to a factor\n",
    "factor_city <- factor(city, labels = c(\"Lagos\", \"Abuja\", \"Ogun\", \"Abia\")\n",
    ")\n",
    "\n",
    "# print the result\n",
    "factor_city"
   ]
  },
  {
   "cell_type": "markdown",
   "metadata": {},
   "source": [
    "#### Difference between levels and labels in R\n",
    "___"
   ]
  },
  {
   "cell_type": "markdown",
   "metadata": {},
   "source": [
    "It is common to get confused between labels and levels arguments of the R factor function. \n",
    "\n",
    "In R, both \"levels\" and \"labels\" pertain to factors, which are used to represent categorical data. Here's the distinction:\n",
    "\n",
    "`Levels`: Levels refer to the distinct categories or groups within a factor variable. When you create a factor in R, it automatically assigns levels based on the unique values present in the data. For example, if you have a factor variable representing colors with values \"Red\", \"Blue\", and \"Green\", each of these colors would be considered a level of the factor.\n",
    "\n",
    "`Labels`: Labels, on the other hand, are optional descriptive names that you can assign to the levels of a factor. By default, R uses the unique values in the data as both the levels and the labels. However, you may want to specify custom labels for clarity or to provide more meaningful descriptions. Labels are particularly useful when the factor levels are encoded as numeric values or when you want to provide more informative names for the levels.\n",
    "Here's a summary:\n",
    "\n",
    "- Levels: Represent the distinct categories or groups within a factor variable. They are automatically derived from the unique values present in the data.\n",
    "- Labels: Optional descriptive names assigned to the levels of a factor. They can be manually specified to provide more meaningful descriptions for the levels.\n",
    "In essence, levels define the categories, while labels offer descriptive names for those categories.\n",
    "\n",
    "Consider the following vector with a unique group and create a factor from it with default arguments:\n",
    "\n"
   ]
  },
  {
   "cell_type": "code",
   "execution_count": 10,
   "metadata": {
    "vscode": {
     "languageId": "r"
    }
   },
   "outputs": [
    {
     "data": {
      "text/html": [
       "<style>\n",
       ".list-inline {list-style: none; margin:0; padding: 0}\n",
       ".list-inline>li {display: inline-block}\n",
       ".list-inline>li:not(:last-child)::after {content: \"\\00b7\"; padding: 0 .5ex}\n",
       "</style>\n",
       "<ol class=list-inline><li>Youth</li><li>Working Age</li><li>Working Age</li><li>Elderly</li><li>Youth</li></ol>\n",
       "\n",
       "<details>\n",
       "\t<summary style=display:list-item;cursor:pointer>\n",
       "\t\t<strong>Levels</strong>:\n",
       "\t</summary>\n",
       "\t<style>\n",
       "\t.list-inline {list-style: none; margin:0; padding: 0}\n",
       "\t.list-inline>li {display: inline-block}\n",
       "\t.list-inline>li:not(:last-child)::after {content: \"\\00b7\"; padding: 0 .5ex}\n",
       "\t</style>\n",
       "\t<ol class=list-inline><li>'Youth'</li><li>'Working Age'</li><li>'Elderly'</li></ol>\n",
       "</details>"
      ],
      "text/latex": [
       "\\begin{enumerate*}\n",
       "\\item Youth\n",
       "\\item Working Age\n",
       "\\item Working Age\n",
       "\\item Elderly\n",
       "\\item Youth\n",
       "\\end{enumerate*}\n",
       "\n",
       "\\emph{Levels}: \\begin{enumerate*}\n",
       "\\item 'Youth'\n",
       "\\item 'Working Age'\n",
       "\\item 'Elderly'\n",
       "\\end{enumerate*}\n"
      ],
      "text/markdown": [
       "1. Youth\n",
       "2. Working Age\n",
       "3. Working Age\n",
       "4. Elderly\n",
       "5. Youth\n",
       "\n",
       "\n",
       "\n",
       "**Levels**: 1. 'Youth'\n",
       "2. 'Working Age'\n",
       "3. 'Elderly'\n",
       "\n",
       "\n"
      ],
      "text/plain": [
       "[1] Youth       Working Age Working Age Elderly     Youth      \n",
       "Levels: Youth Working Age Elderly"
      ]
     },
     "metadata": {},
     "output_type": "display_data"
    }
   ],
   "source": [
    "# Example vector\n",
    "age_group <- c(\"Young\", \"Adult\", \"Adult\", \"Senior\", \"Young\")\n",
    "\n",
    "# Define custom levels and labels\n",
    "custom_levels <- c(\"Young\", \"Adult\", \"Senior\")\n",
    "custom_labels <- c(\"Youth\", \"Working Age\", \"Elderly\")\n",
    "\n",
    "# Create a factor with custom levels and labels\n",
    "age_factor <- factor(age_group, levels = custom_levels, labels = custom_labels)\n",
    "\n",
    "# Display the factor\n",
    "age_factor\n"
   ]
  },
  {
   "cell_type": "markdown",
   "metadata": {},
   "source": [
    "#### Reorder factor levels\n",
    "___"
   ]
  },
  {
   "cell_type": "markdown",
   "metadata": {},
   "source": [
    "You may be wondering how to change the levels order (which can be important, for instance, in some graphical representations). The factor levels order can be changed in various ways, described in the following subsections.\n",
    "\n",
    "**1. Custom order of factor levels :**    \n",
    "In case you want create a custom order for the levels you will have to create a vector with the desired order and pass it to the `level` argument."
   ]
  },
  {
   "cell_type": "code",
   "execution_count": 11,
   "metadata": {
    "vscode": {
     "languageId": "r"
    }
   },
   "outputs": [
    {
     "data": {
      "text/html": [
       "<style>\n",
       ".list-inline {list-style: none; margin:0; padding: 0}\n",
       ".list-inline>li {display: inline-block}\n",
       ".list-inline>li:not(:last-child)::after {content: \"\\00b7\"; padding: 0 .5ex}\n",
       "</style>\n",
       "<ol class=list-inline><li>Pontevedra</li><li>Sofia</li><li>Dublin</li><li>Pontevedra</li><li>Sofia</li><li>London</li></ol>\n",
       "\n",
       "<details>\n",
       "\t<summary style=display:list-item;cursor:pointer>\n",
       "\t\t<strong>Levels</strong>:\n",
       "\t</summary>\n",
       "\t<style>\n",
       "\t.list-inline {list-style: none; margin:0; padding: 0}\n",
       "\t.list-inline>li {display: inline-block}\n",
       "\t.list-inline>li:not(:last-child)::after {content: \"\\00b7\"; padding: 0 .5ex}\n",
       "\t</style>\n",
       "\t<ol class=list-inline><li>'London'</li><li>'Sofia'</li><li>'Dublin'</li><li>'Pontevedra'</li></ol>\n",
       "</details>"
      ],
      "text/latex": [
       "\\begin{enumerate*}\n",
       "\\item Pontevedra\n",
       "\\item Sofia\n",
       "\\item Dublin\n",
       "\\item Pontevedra\n",
       "\\item Sofia\n",
       "\\item London\n",
       "\\end{enumerate*}\n",
       "\n",
       "\\emph{Levels}: \\begin{enumerate*}\n",
       "\\item 'London'\n",
       "\\item 'Sofia'\n",
       "\\item 'Dublin'\n",
       "\\item 'Pontevedra'\n",
       "\\end{enumerate*}\n"
      ],
      "text/markdown": [
       "1. Pontevedra\n",
       "2. Sofia\n",
       "3. Dublin\n",
       "4. Pontevedra\n",
       "5. Sofia\n",
       "6. London\n",
       "\n",
       "\n",
       "\n",
       "**Levels**: 1. 'London'\n",
       "2. 'Sofia'\n",
       "3. 'Dublin'\n",
       "4. 'Pontevedra'\n",
       "\n",
       "\n"
      ],
      "text/plain": [
       "[1] Pontevedra Sofia      Dublin     Pontevedra Sofia      London    \n",
       "Levels: London Sofia Dublin Pontevedra"
      ]
     },
     "metadata": {},
     "output_type": "display_data"
    }
   ],
   "source": [
    "# Dataframe\n",
    "city <- c(\"Pontevedra\", \"Sofia\", \"Dublin\", \"Pontevedra\", \"Sofia\", \"London\")\n",
    "\n",
    "# Create a vector with the desired order\n",
    "custom_levels <- c(\"London\", \"Sofia\", \"Dublin\", \"Pontevedra\")\n",
    "\n",
    "# Indicate the order in the 'levels' argument\n",
    "factor_cities <- factor(city, level = custom_levels)\n",
    "\n",
    "# print the output\n",
    "factor_cities"
   ]
  },
  {
   "cell_type": "markdown",
   "metadata": {
    "vscode": {
     "languageId": "r"
    }
   },
   "source": [
    "In addition, you can order the levels of the factor alphabetically making use of the `sort` function:"
   ]
  },
  {
   "cell_type": "code",
   "execution_count": 12,
   "metadata": {
    "vscode": {
     "languageId": "r"
    }
   },
   "outputs": [
    {
     "data": {
      "text/html": [
       "<style>\n",
       ".list-inline {list-style: none; margin:0; padding: 0}\n",
       ".list-inline>li {display: inline-block}\n",
       ".list-inline>li:not(:last-child)::after {content: \"\\00b7\"; padding: 0 .5ex}\n",
       "</style>\n",
       "<ol class=list-inline><li>Pontevedra</li><li>Sofia</li><li>Dublin</li><li>Pontevedra</li><li>Sofia</li><li>London</li></ol>\n",
       "\n",
       "<details>\n",
       "\t<summary style=display:list-item;cursor:pointer>\n",
       "\t\t<strong>Levels</strong>:\n",
       "\t</summary>\n",
       "\t<style>\n",
       "\t.list-inline {list-style: none; margin:0; padding: 0}\n",
       "\t.list-inline>li {display: inline-block}\n",
       "\t.list-inline>li:not(:last-child)::after {content: \"\\00b7\"; padding: 0 .5ex}\n",
       "\t</style>\n",
       "\t<ol class=list-inline><li>'Dublin'</li><li>'London'</li><li>'Pontevedra'</li><li>'Sofia'</li></ol>\n",
       "</details>"
      ],
      "text/latex": [
       "\\begin{enumerate*}\n",
       "\\item Pontevedra\n",
       "\\item Sofia\n",
       "\\item Dublin\n",
       "\\item Pontevedra\n",
       "\\item Sofia\n",
       "\\item London\n",
       "\\end{enumerate*}\n",
       "\n",
       "\\emph{Levels}: \\begin{enumerate*}\n",
       "\\item 'Dublin'\n",
       "\\item 'London'\n",
       "\\item 'Pontevedra'\n",
       "\\item 'Sofia'\n",
       "\\end{enumerate*}\n"
      ],
      "text/markdown": [
       "1. Pontevedra\n",
       "2. Sofia\n",
       "3. Dublin\n",
       "4. Pontevedra\n",
       "5. Sofia\n",
       "6. London\n",
       "\n",
       "\n",
       "\n",
       "**Levels**: 1. 'Dublin'\n",
       "2. 'London'\n",
       "3. 'Pontevedra'\n",
       "4. 'Sofia'\n",
       "\n",
       "\n"
      ],
      "text/plain": [
       "[1] Pontevedra Sofia      Dublin     Pontevedra Sofia      London    \n",
       "Levels: Dublin London Pontevedra Sofia"
      ]
     },
     "metadata": {},
     "output_type": "display_data"
    }
   ],
   "source": [
    "# Alphabetical order\n",
    "factor(city, labels = sort(levels(factor(city))))"
   ]
  },
  {
   "cell_type": "markdown",
   "metadata": {},
   "source": [
    "The selected code is written in R and it's using the `factor` function twice, along with the `levels` and [`sort`](command:_github.copilot.openSymbolFromReferences?%5B%7B%22%24mid%22%3A1%2C%22path%22%3A%22%2Fvar%2Ffolders%2Fv9%2Fv9j8bf6j2r5cr97thvfgxxyh0000gn%2FT%2F%2FRtmplT1mt4%2Fsort.R%22%2C%22scheme%22%3A%22file%22%7D%2C%7B%22line%22%3A0%2C%22character%22%3A0%7D%5D \"../../../../../../var/folders/v9/v9j8bf6j2r5cr97thvfgxxyh0000gn/T/RtmplT1mt4/sort.R\") functions. This line of code is creating a factor variable from the `city` variable, but with the levels (categories) sorted in alphabetical order.\n",
    "\n",
    "Here's a breakdown of the code:\n",
    "\n",
    "- `factor(city)`: This is converting the `city` variable into a factor. The `city` variable could be a vector of city names, and this function call is turning it into a factor variable where each unique city name is a level.\n",
    "\n",
    "- `levels(factor(city))`: This is getting the levels of the factor variable created from `city`. In other words, it's getting a list of the unique city names.\n",
    "\n",
    "- [`sort(levels(factor(city)))`](command:_github.copilot.openSymbolFromReferences?%5B%7B%22%24mid%22%3A1%2C%22path%22%3A%22%2Fvar%2Ffolders%2Fv9%2Fv9j8bf6j2r5cr97thvfgxxyh0000gn%2FT%2F%2FRtmplT1mt4%2Fsort.R%22%2C%22scheme%22%3A%22file%22%7D%2C%7B%22line%22%3A0%2C%22character%22%3A0%7D%5D \"../../../../../../var/folders/v9/v9j8bf6j2r5cr97thvfgxxyh0000gn/T/RtmplT1mt4/sort.R\"): This is sorting the unique city names in alphabetical order.\n",
    "\n",
    "- `factor(city, labels = sort(levels(factor(city))))`: This is creating a new factor variable from `city`, but this time the levels are not in the order they appear in `city`, but in alphabetical order. The `labels` argument is used to specify the labels of the levels in the new factor variable.\n",
    "\n",
    "In summary, this line of code is converting the `city` variable into a factor variable, with the levels (unique city names) sorted in alphabetical order."
   ]
  },
  {
   "cell_type": "code",
   "execution_count": 13,
   "metadata": {
    "vscode": {
     "languageId": "r"
    }
   },
   "outputs": [
    {
     "data": {
      "text/html": [
       "<style>\n",
       ".list-inline {list-style: none; margin:0; padding: 0}\n",
       ".list-inline>li {display: inline-block}\n",
       ".list-inline>li:not(:last-child)::after {content: \"\\00b7\"; padding: 0 .5ex}\n",
       "</style>\n",
       "<ol class=list-inline><li>Portable Computer</li><li>Tablet Device</li><li>Mobile Phone</li><li>Portable Computer</li><li>Mobile Phone</li></ol>\n",
       "\n",
       "<details>\n",
       "\t<summary style=display:list-item;cursor:pointer>\n",
       "\t\t<strong>Levels</strong>:\n",
       "\t</summary>\n",
       "\t<style>\n",
       "\t.list-inline {list-style: none; margin:0; padding: 0}\n",
       "\t.list-inline>li {display: inline-block}\n",
       "\t.list-inline>li:not(:last-child)::after {content: \"\\00b7\"; padding: 0 .5ex}\n",
       "\t</style>\n",
       "\t<ol class=list-inline><li>'Portable Computer'</li><li>'Tablet Device'</li><li>'Mobile Phone'</li><li>'Stationary Computer'</li></ol>\n",
       "</details>"
      ],
      "text/latex": [
       "\\begin{enumerate*}\n",
       "\\item Portable Computer\n",
       "\\item Tablet Device\n",
       "\\item Mobile Phone\n",
       "\\item Portable Computer\n",
       "\\item Mobile Phone\n",
       "\\end{enumerate*}\n",
       "\n",
       "\\emph{Levels}: \\begin{enumerate*}\n",
       "\\item 'Portable Computer'\n",
       "\\item 'Tablet Device'\n",
       "\\item 'Mobile Phone'\n",
       "\\item 'Stationary Computer'\n",
       "\\end{enumerate*}\n"
      ],
      "text/markdown": [
       "1. Portable Computer\n",
       "2. Tablet Device\n",
       "3. Mobile Phone\n",
       "4. Portable Computer\n",
       "5. Mobile Phone\n",
       "\n",
       "\n",
       "\n",
       "**Levels**: 1. 'Portable Computer'\n",
       "2. 'Tablet Device'\n",
       "3. 'Mobile Phone'\n",
       "4. 'Stationary Computer'\n",
       "\n",
       "\n"
      ],
      "text/plain": [
       "[1] Portable Computer Tablet Device     Mobile Phone      Portable Computer\n",
       "[5] Mobile Phone     \n",
       "Levels: Portable Computer Tablet Device Mobile Phone Stationary Computer"
      ]
     },
     "metadata": {},
     "output_type": "display_data"
    }
   ],
   "source": [
    "# Example vector\n",
    "products <- c(\"Laptop\", \"Tablet\", \"Smartphone\", \"Laptop\", \"Smartphone\")\n",
    "\n",
    "# Define custom levels and labels\n",
    "custom_levels <- c(\"Laptop\", \"Tablet\", \"Smartphone\", \"Desktop\")\n",
    "custom_labels <- c(\n",
    "  \"Portable Computer\",\n",
    "  \"Tablet Device\",\n",
    "  \"Mobile Phone\",\n",
    "  \"Stationary Computer\"\n",
    ")\n",
    "\n",
    "# Create a factor with custom levels and labels\n",
    "product_factor <- factor(products,\n",
    "  levels = custom_levels,\n",
    "  labels = custom_labels\n",
    ")\n",
    "\n",
    "# Display the factor\n",
    "product_factor\n"
   ]
  },
  {
   "cell_type": "markdown",
   "metadata": {},
   "source": [
    "**2. Reorder factor levels**  \n",
    "The reorder function in R is particularly handy when you want to reorder the levels of a factor variable based on another variable's values. This is especially useful for creating visualizations where you want the factor levels to be ordered according to some meaningful metric, such as frequency, mean, or any other numeric variable.\n",
    "\n",
    "The syntax for the reorder function is as follows:\n",
    "\n",
    "``` R\n",
    "reorder(factor_variable, reorder_variable, FUN = NULL)\n",
    "\n",
    "```\n",
    "The reorder() function in R is used to reorder the levels of a factor variable based on the values of another variable. This function is particularly useful when you want to change the order of a factor variable from its default alphabetical order to an order that is meaningful for your data analysis.\n",
    "\n",
    "The `reorder()` function takes three arguments:\n",
    "\n",
    "`factor_variable`: This is the factor variable that you want to reorder. The levels of this variable will be reordered based on the values of the reorder_variable.\n",
    "\n",
    "`reorder_variable`: This is the variable that you want to use to reorder the levels of the factor_variable. This variable should be the same length as the factor_variable.\n",
    "\n",
    "`FUN`: This is an optional argument that specifies a function to be applied to the reorder_variable for each level of the `factor_variable`. The default function is `NULL`, which means that the `reorder_variable` will be used as is. However, you can specify other functions like `mean`, `median`, `min`, `max`, etc., to reorder the levels of the `factor_variable` based on some summary statistic of the `reorder_variable.`\n",
    "\n",
    "<font color = red> The `reorder()` function returns a factor variable with the same levels as the input `factor_variable`, but with the levels reordered based on the values of the `reorder_variable`.</ font >"
   ]
  },
  {
   "cell_type": "code",
   "execution_count": 14,
   "metadata": {
    "vscode": {
     "languageId": "r"
    }
   },
   "outputs": [
    {
     "data": {
      "text/html": [
       "<style>\n",
       ".list-inline {list-style: none; margin:0; padding: 0}\n",
       ".list-inline>li {display: inline-block}\n",
       ".list-inline>li:not(:last-child)::after {content: \"\\00b7\"; padding: 0 .5ex}\n",
       "</style>\n",
       "<ol class=list-inline><li>Laptop</li><li>Mouse</li><li>Keyboard</li><li>Monitor</li><li>Keyboard</li><li>Laptop</li><li>Printer</li></ol>\n",
       "\n",
       "<details>\n",
       "\t<summary style=display:list-item;cursor:pointer>\n",
       "\t\t<strong>Levels</strong>:\n",
       "\t</summary>\n",
       "\t<style>\n",
       "\t.list-inline {list-style: none; margin:0; padding: 0}\n",
       "\t.list-inline>li {display: inline-block}\n",
       "\t.list-inline>li:not(:last-child)::after {content: \"\\00b7\"; padding: 0 .5ex}\n",
       "\t</style>\n",
       "\t<ol class=list-inline><li>'Mouse'</li><li>'Printer'</li><li>'Monitor'</li><li>'Keyboard'</li><li>'Laptop'</li></ol>\n",
       "</details>"
      ],
      "text/latex": [
       "\\begin{enumerate*}\n",
       "\\item Laptop\n",
       "\\item Mouse\n",
       "\\item Keyboard\n",
       "\\item Monitor\n",
       "\\item Keyboard\n",
       "\\item Laptop\n",
       "\\item Printer\n",
       "\\end{enumerate*}\n",
       "\n",
       "\\emph{Levels}: \\begin{enumerate*}\n",
       "\\item 'Mouse'\n",
       "\\item 'Printer'\n",
       "\\item 'Monitor'\n",
       "\\item 'Keyboard'\n",
       "\\item 'Laptop'\n",
       "\\end{enumerate*}\n"
      ],
      "text/markdown": [
       "1. Laptop\n",
       "2. Mouse\n",
       "3. Keyboard\n",
       "4. Monitor\n",
       "5. Keyboard\n",
       "6. Laptop\n",
       "7. Printer\n",
       "\n",
       "\n",
       "\n",
       "**Levels**: 1. 'Mouse'\n",
       "2. 'Printer'\n",
       "3. 'Monitor'\n",
       "4. 'Keyboard'\n",
       "5. 'Laptop'\n",
       "\n",
       "\n"
      ],
      "text/plain": [
       "[1] Laptop   Mouse    Keyboard Monitor  Keyboard Laptop   Printer \n",
       "attr(,\"scores\")\n",
       "Keyboard   Laptop  Monitor    Mouse  Printer \n",
       "     170      210      120       50       70 \n",
       "Levels: Mouse Printer Monitor Keyboard Laptop"
      ]
     },
     "metadata": {},
     "output_type": "display_data"
    }
   ],
   "source": [
    "# Sample data\n",
    "product <- c(\n",
    "  \"Laptop\",\n",
    "  \"Mouse\",\n",
    "  \"Keyboard\",\n",
    "  \"Monitor\",\n",
    "  \"Keyboard\",\n",
    "  \"Laptop\",\n",
    "  \"Printer\"\n",
    ")\n",
    "sales <- c(100, 50, 80, 120, 90, 110, 70)\n",
    "\n",
    "# Create a factor variable for product\n",
    "product_factor <- factor(product)\n",
    "\n",
    "# Reorder factor levels based on sales\n",
    "reordered_product <- reorder(product_factor, sales, FUN = sum)\n",
    "\n",
    "# Print the reordered factor levels\n",
    "reordered_product\n"
   ]
  },
  {
   "cell_type": "code",
   "execution_count": 15,
   "metadata": {
    "vscode": {
     "languageId": "r"
    }
   },
   "outputs": [
    {
     "data": {
      "text/html": [
       "<table class=\"dataframe\">\n",
       "<caption>A data.frame: 4 x 3</caption>\n",
       "<thead>\n",
       "\t<tr><th scope=col>city</th><th scope=col>population</th><th scope=col>city_factor</th></tr>\n",
       "\t<tr><th scope=col>&lt;chr&gt;</th><th scope=col>&lt;dbl&gt;</th><th scope=col>&lt;fct&gt;</th></tr>\n",
       "</thead>\n",
       "<tbody>\n",
       "\t<tr><td>Lagos</td><td>1000</td><td>Lagos</td></tr>\n",
       "\t<tr><td>Abuja</td><td> 500</td><td>Abuja</td></tr>\n",
       "\t<tr><td>Ogun </td><td>3000</td><td>Ogun </td></tr>\n",
       "\t<tr><td>Abia </td><td>2000</td><td>Abia </td></tr>\n",
       "</tbody>\n",
       "</table>\n"
      ],
      "text/latex": [
       "A data.frame: 4 x 3\n",
       "\\begin{tabular}{lll}\n",
       " city & population & city\\_factor\\\\\n",
       " <chr> & <dbl> & <fct>\\\\\n",
       "\\hline\n",
       "\t Lagos & 1000 & Lagos\\\\\n",
       "\t Abuja &  500 & Abuja\\\\\n",
       "\t Ogun  & 3000 & Ogun \\\\\n",
       "\t Abia  & 2000 & Abia \\\\\n",
       "\\end{tabular}\n"
      ],
      "text/markdown": [
       "\n",
       "A data.frame: 4 x 3\n",
       "\n",
       "| city &lt;chr&gt; | population &lt;dbl&gt; | city_factor &lt;fct&gt; |\n",
       "|---|---|---|\n",
       "| Lagos | 1000 | Lagos |\n",
       "| Abuja |  500 | Abuja |\n",
       "| Ogun  | 3000 | Ogun  |\n",
       "| Abia  | 2000 | Abia  |\n",
       "\n"
      ],
      "text/plain": [
       "  city  population city_factor\n",
       "1 Lagos 1000       Lagos      \n",
       "2 Abuja  500       Abuja      \n",
       "3 Ogun  3000       Ogun       \n",
       "4 Abia  2000       Abia       "
      ]
     },
     "metadata": {},
     "output_type": "display_data"
    },
    {
     "data": {
      "text/html": [
       "<style>\n",
       ".list-inline {list-style: none; margin:0; padding: 0}\n",
       ".list-inline>li {display: inline-block}\n",
       ".list-inline>li:not(:last-child)::after {content: \"\\00b7\"; padding: 0 .5ex}\n",
       "</style>\n",
       "<ol class=list-inline><li>Lagos</li><li>Abuja</li><li>Ogun</li><li>Abia</li></ol>\n",
       "\n",
       "<details>\n",
       "\t<summary style=display:list-item;cursor:pointer>\n",
       "\t\t<strong>Levels</strong>:\n",
       "\t</summary>\n",
       "\t<style>\n",
       "\t.list-inline {list-style: none; margin:0; padding: 0}\n",
       "\t.list-inline>li {display: inline-block}\n",
       "\t.list-inline>li:not(:last-child)::after {content: \"\\00b7\"; padding: 0 .5ex}\n",
       "\t</style>\n",
       "\t<ol class=list-inline><li>'Abuja'</li><li>'Lagos'</li><li>'Abia'</li><li>'Ogun'</li></ol>\n",
       "</details>"
      ],
      "text/latex": [
       "\\begin{enumerate*}\n",
       "\\item Lagos\n",
       "\\item Abuja\n",
       "\\item Ogun\n",
       "\\item Abia\n",
       "\\end{enumerate*}\n",
       "\n",
       "\\emph{Levels}: \\begin{enumerate*}\n",
       "\\item 'Abuja'\n",
       "\\item 'Lagos'\n",
       "\\item 'Abia'\n",
       "\\item 'Ogun'\n",
       "\\end{enumerate*}\n"
      ],
      "text/markdown": [
       "1. Lagos\n",
       "2. Abuja\n",
       "3. Ogun\n",
       "4. Abia\n",
       "\n",
       "\n",
       "\n",
       "**Levels**: 1. 'Abuja'\n",
       "2. 'Lagos'\n",
       "3. 'Abia'\n",
       "4. 'Ogun'\n",
       "\n",
       "\n"
      ],
      "text/plain": [
       "[1] Lagos Abuja Ogun  Abia \n",
       "attr(,\"scores\")\n",
       " Abia Abuja Lagos  Ogun \n",
       " 2000   500  1000  3000 \n",
       "Levels: Abuja Lagos Abia Ogun"
      ]
     },
     "metadata": {},
     "output_type": "display_data"
    }
   ],
   "source": [
    "# Create a data frame with two variables\n",
    "df <- data.frame(city = c(\"Lagos\", \"Abuja\", \"Ogun\", \"Abia\"),\n",
    "                 population = c(1000, 500, 3000, 2000))\n",
    "\n",
    "# Create a factor variable from the city variable\n",
    "df$city_factor <- factor(df$city)\n",
    "\n",
    "# Reorder the levels  based on the population variable\n",
    "df$city_factor <- reorder(df$city_factor, df$population, FUN = mean)\n",
    "\n",
    "# Print the data frame\n",
    "df\n",
    "df$city_factor"
   ]
  },
  {
   "cell_type": "code",
   "execution_count": 16,
   "metadata": {
    "vscode": {
     "languageId": "r"
    }
   },
   "outputs": [
    {
     "name": "stdout",
     "output_type": "stream",
     "text": [
      "       fruit vitamin_c fruit_factor\n",
      "1     Orange        70       Orange\n",
      "2      Apple         9        Apple\n",
      "3 Grapefruit        80   Grapefruit\n",
      "4 Strawberry        89   Strawberry\n"
     ]
    }
   ],
   "source": [
    "# Create a data frame with fruit types and vitamin C content\n",
    "fruits <- data.frame(fruit = c(\"Orange\", \"Apple\", \"Grapefruit\", \"Strawberry\"),\n",
    "                     vitamin_c = c(70, 9, 80, 89))\n",
    "\n",
    "# Create a factor variable for fruit types\n",
    "fruits$fruit_factor <- factor(fruits$fruit)\n",
    "\n",
    "# Reorder fruit types based on vitamin C content (highest to lowest)\n",
    "fruits$fruit_factor <- reorder(fruits$fruit_factor, fruits$vitamin_c, decreasing = TRUE)\n",
    "\n",
    "# Print the data frame with the reordered factor\n",
    "print(fruits)\n"
   ]
  },
  {
   "cell_type": "markdown",
   "metadata": {},
   "source": [
    "**3. Reverse order of levels**  \n",
    "Recall that you can use the levels function to obtain the levels of a factor. At this point, the levels of the factor are the following:"
   ]
  },
  {
   "cell_type": "code",
   "execution_count": 17,
   "metadata": {
    "vscode": {
     "languageId": "r"
    }
   },
   "outputs": [
    {
     "data": {
      "text/html": [
       "<style>\n",
       ".list-inline {list-style: none; margin:0; padding: 0}\n",
       ".list-inline>li {display: inline-block}\n",
       ".list-inline>li:not(:last-child)::after {content: \"\\00b7\"; padding: 0 .5ex}\n",
       "</style>\n",
       "<ol class=list-inline><li>'London'</li><li>'Sofia'</li><li>'Dublin'</li><li>'Pontevedra'</li></ol>\n"
      ],
      "text/latex": [
       "\\begin{enumerate*}\n",
       "\\item 'London'\n",
       "\\item 'Sofia'\n",
       "\\item 'Dublin'\n",
       "\\item 'Pontevedra'\n",
       "\\end{enumerate*}\n"
      ],
      "text/markdown": [
       "1. 'London'\n",
       "2. 'Sofia'\n",
       "3. 'Dublin'\n",
       "4. 'Pontevedra'\n",
       "\n",
       "\n"
      ],
      "text/plain": [
       "[1] \"London\"     \"Sofia\"      \"Dublin\"     \"Pontevedra\""
      ]
     },
     "metadata": {},
     "output_type": "display_data"
    }
   ],
   "source": [
    "levels(factor_cities)"
   ]
  },
  {
   "cell_type": "markdown",
   "metadata": {},
   "source": [
    "With this in mind, we can reverse the order of level of a factor with the `rev` function:"
   ]
  },
  {
   "cell_type": "code",
   "execution_count": 18,
   "metadata": {
    "vscode": {
     "languageId": "r"
    }
   },
   "outputs": [
    {
     "data": {
      "text/html": [
       "<style>\n",
       ".list-inline {list-style: none; margin:0; padding: 0}\n",
       ".list-inline>li {display: inline-block}\n",
       ".list-inline>li:not(:last-child)::after {content: \"\\00b7\"; padding: 0 .5ex}\n",
       "</style>\n",
       "<ol class=list-inline><li>London</li><li>Dublin</li><li>Sofia</li><li>London</li><li>Dublin</li><li>Pontevedra</li></ol>\n",
       "\n",
       "<details>\n",
       "\t<summary style=display:list-item;cursor:pointer>\n",
       "\t\t<strong>Levels</strong>:\n",
       "\t</summary>\n",
       "\t<style>\n",
       "\t.list-inline {list-style: none; margin:0; padding: 0}\n",
       "\t.list-inline>li {display: inline-block}\n",
       "\t.list-inline>li:not(:last-child)::after {content: \"\\00b7\"; padding: 0 .5ex}\n",
       "\t</style>\n",
       "\t<ol class=list-inline><li>'Pontevedra'</li><li>'Dublin'</li><li>'Sofia'</li><li>'London'</li></ol>\n",
       "</details>"
      ],
      "text/latex": [
       "\\begin{enumerate*}\n",
       "\\item London\n",
       "\\item Dublin\n",
       "\\item Sofia\n",
       "\\item London\n",
       "\\item Dublin\n",
       "\\item Pontevedra\n",
       "\\end{enumerate*}\n",
       "\n",
       "\\emph{Levels}: \\begin{enumerate*}\n",
       "\\item 'Pontevedra'\n",
       "\\item 'Dublin'\n",
       "\\item 'Sofia'\n",
       "\\item 'London'\n",
       "\\end{enumerate*}\n"
      ],
      "text/markdown": [
       "1. London\n",
       "2. Dublin\n",
       "3. Sofia\n",
       "4. London\n",
       "5. Dublin\n",
       "6. Pontevedra\n",
       "\n",
       "\n",
       "\n",
       "**Levels**: 1. 'Pontevedra'\n",
       "2. 'Dublin'\n",
       "3. 'Sofia'\n",
       "4. 'London'\n",
       "\n",
       "\n"
      ],
      "text/plain": [
       "[1] London     Dublin     Sofia      London     Dublin     Pontevedra\n",
       "Levels: Pontevedra Dublin Sofia London"
      ]
     },
     "metadata": {},
     "output_type": "display_data"
    }
   ],
   "source": [
    "factor(factor_cities, labels = rev(levels(factor_cities)))"
   ]
  },
  {
   "cell_type": "markdown",
   "metadata": {},
   "source": [
    "#### Relevel function"
   ]
  },
  {
   "cell_type": "markdown",
   "metadata": {},
   "source": [
    "Moreover, if you want to change just one observation and put it first you can use the `relevel` function. For example, if you want the level ‘London’ appearing first and maintain the order of the others you can use:"
   ]
  },
  {
   "cell_type": "code",
   "execution_count": 19,
   "metadata": {
    "vscode": {
     "languageId": "r"
    }
   },
   "outputs": [
    {
     "data": {
      "text/html": [
       "<style>\n",
       ".list-inline {list-style: none; margin:0; padding: 0}\n",
       ".list-inline>li {display: inline-block}\n",
       ".list-inline>li:not(:last-child)::after {content: \"\\00b7\"; padding: 0 .5ex}\n",
       "</style>\n",
       "<ol class=list-inline><li>Pontevedra</li><li>Sofia</li><li>Dublin</li><li>Pontevedra</li><li>Sofia</li><li>London</li></ol>\n",
       "\n",
       "<details>\n",
       "\t<summary style=display:list-item;cursor:pointer>\n",
       "\t\t<strong>Levels</strong>:\n",
       "\t</summary>\n",
       "\t<style>\n",
       "\t.list-inline {list-style: none; margin:0; padding: 0}\n",
       "\t.list-inline>li {display: inline-block}\n",
       "\t.list-inline>li:not(:last-child)::after {content: \"\\00b7\"; padding: 0 .5ex}\n",
       "\t</style>\n",
       "\t<ol class=list-inline><li>'London'</li><li>'Sofia'</li><li>'Dublin'</li><li>'Pontevedra'</li></ol>\n",
       "</details>"
      ],
      "text/latex": [
       "\\begin{enumerate*}\n",
       "\\item Pontevedra\n",
       "\\item Sofia\n",
       "\\item Dublin\n",
       "\\item Pontevedra\n",
       "\\item Sofia\n",
       "\\item London\n",
       "\\end{enumerate*}\n",
       "\n",
       "\\emph{Levels}: \\begin{enumerate*}\n",
       "\\item 'London'\n",
       "\\item 'Sofia'\n",
       "\\item 'Dublin'\n",
       "\\item 'Pontevedra'\n",
       "\\end{enumerate*}\n"
      ],
      "text/markdown": [
       "1. Pontevedra\n",
       "2. Sofia\n",
       "3. Dublin\n",
       "4. Pontevedra\n",
       "5. Sofia\n",
       "6. London\n",
       "\n",
       "\n",
       "\n",
       "**Levels**: 1. 'London'\n",
       "2. 'Sofia'\n",
       "3. 'Dublin'\n",
       "4. 'Pontevedra'\n",
       "\n",
       "\n"
      ],
      "text/plain": [
       "[1] Pontevedra Sofia      Dublin     Pontevedra Sofia      London    \n",
       "Levels: London Sofia Dublin Pontevedra"
      ]
     },
     "metadata": {},
     "output_type": "display_data"
    }
   ],
   "source": [
    "# Setting the level 'London' first\n",
    "factor_cities <- relevel(factor_cities, \"London\")\n",
    "factor_cities"
   ]
  },
  {
   "cell_type": "markdown",
   "metadata": {},
   "source": [
    "#### Convert factor in R to numeric"
   ]
  },
  {
   "cell_type": "markdown",
   "metadata": {},
   "source": [
    "If you have a factor in R that you want to convert to numeric, the most efficient way is illustrated in the following block code, using the `as.numeric` and `levels` functions for indexing the levels by the index of the corresponding factor."
   ]
  },
  {
   "cell_type": "code",
   "execution_count": 20,
   "metadata": {
    "vscode": {
     "languageId": "r"
    }
   },
   "outputs": [
    {
     "data": {
      "text/html": [
       "<style>\n",
       ".list-inline {list-style: none; margin:0; padding: 0}\n",
       ".list-inline>li {display: inline-block}\n",
       ".list-inline>li:not(:last-child)::after {content: \"\\00b7\"; padding: 0 .5ex}\n",
       "</style>\n",
       "<ol class=list-inline><li>0</li><li>2</li><li>0</li><li>5</li><li>1</li><li>9</li><li>9</li><li>4</li></ol>\n"
      ],
      "text/latex": [
       "\\begin{enumerate*}\n",
       "\\item 0\n",
       "\\item 2\n",
       "\\item 0\n",
       "\\item 5\n",
       "\\item 1\n",
       "\\item 9\n",
       "\\item 9\n",
       "\\item 4\n",
       "\\end{enumerate*}\n"
      ],
      "text/markdown": [
       "1. 0\n",
       "2. 2\n",
       "3. 0\n",
       "4. 5\n",
       "5. 1\n",
       "6. 9\n",
       "7. 9\n",
       "8. 4\n",
       "\n",
       "\n"
      ],
      "text/plain": [
       "[1] 0 2 0 5 1 9 9 4"
      ]
     },
     "metadata": {},
     "output_type": "display_data"
    }
   ],
   "source": [
    "my_data <- c(0, 2, 0, 5, 1, 9, 9, 4)\n",
    "my_factor <- factor(my_data)\n",
    "\n",
    "as.numeric(levels(my_factor))[my_factor]"
   ]
  },
  {
   "cell_type": "markdown",
   "metadata": {},
   "source": [
    "If you want to convert the factor to the original vector (with the same order) never use as.numeric(my_factor), as it will return a numeric vector different than the desired."
   ]
  },
  {
   "cell_type": "markdown",
   "metadata": {},
   "source": [
    "#### Convert Factor to string "
   ]
  },
  {
   "cell_type": "markdown",
   "metadata": {},
   "source": [
    "You may need to convert a factor to string. For that purpose, you can make use of the `as.character` function."
   ]
  },
  {
   "cell_type": "code",
   "execution_count": 21,
   "metadata": {
    "vscode": {
     "languageId": "r"
    }
   },
   "outputs": [
    {
     "data": {
      "text/html": [
       "<style>\n",
       ".list-inline {list-style: none; margin:0; padding: 0}\n",
       ".list-inline>li {display: inline-block}\n",
       ".list-inline>li:not(:last-child)::after {content: \"\\00b7\"; padding: 0 .5ex}\n",
       "</style>\n",
       "<ol class=list-inline><li>'June'</li><li>'July'</li><li>'January'</li><li>'June'</li></ol>\n"
      ],
      "text/latex": [
       "\\begin{enumerate*}\n",
       "\\item 'June'\n",
       "\\item 'July'\n",
       "\\item 'January'\n",
       "\\item 'June'\n",
       "\\end{enumerate*}\n"
      ],
      "text/markdown": [
       "1. 'June'\n",
       "2. 'July'\n",
       "3. 'January'\n",
       "4. 'June'\n",
       "\n",
       "\n"
      ],
      "text/plain": [
       "[1] \"June\"    \"July\"    \"January\" \"June\"   "
      ]
     },
     "metadata": {},
     "output_type": "display_data"
    }
   ],
   "source": [
    "my_factor_2 <- factor(c(\"June\", \"July\", \"January\", \"June\"))\n",
    "\n",
    "as.character(my_factor_2)"
   ]
  },
  {
   "cell_type": "markdown",
   "metadata": {},
   "source": [
    "Note that if you use the levels function, the output will return a character vector with the unique strings ordered alphabetically, as we show in one of the previous sections.\n",
    "\n"
   ]
  },
  {
   "cell_type": "code",
   "execution_count": 22,
   "metadata": {
    "vscode": {
     "languageId": "r"
    }
   },
   "outputs": [
    {
     "data": {
      "text/html": [
       "<style>\n",
       ".list-inline {list-style: none; margin:0; padding: 0}\n",
       ".list-inline>li {display: inline-block}\n",
       ".list-inline>li:not(:last-child)::after {content: \"\\00b7\"; padding: 0 .5ex}\n",
       "</style>\n",
       "<ol class=list-inline><li>'January'</li><li>'July'</li><li>'June'</li></ol>\n"
      ],
      "text/latex": [
       "\\begin{enumerate*}\n",
       "\\item 'January'\n",
       "\\item 'July'\n",
       "\\item 'June'\n",
       "\\end{enumerate*}\n"
      ],
      "text/markdown": [
       "1. 'January'\n",
       "2. 'July'\n",
       "3. 'June'\n",
       "\n",
       "\n"
      ],
      "text/plain": [
       "[1] \"January\" \"July\"    \"June\"   "
      ]
     },
     "metadata": {},
     "output_type": "display_data"
    }
   ],
   "source": [
    "levels(my_factor_2)"
   ]
  },
  {
   "cell_type": "markdown",
   "metadata": {},
   "source": [
    "#### Convert factor to Date"
   ]
  },
  {
   "cell_type": "markdown",
   "metadata": {},
   "source": [
    "Also, if you need to change your factor object to date, you can use the `as.Date` function, specifying in the `format` argument the date format you are working with."
   ]
  },
  {
   "cell_type": "code",
   "execution_count": 23,
   "metadata": {
    "vscode": {
     "languageId": "r"
    }
   },
   "outputs": [
    {
     "data": {
      "text/html": [
       "<style>\n",
       ".list-inline {list-style: none; margin:0; padding: 0}\n",
       ".list-inline>li {display: inline-block}\n",
       ".list-inline>li:not(:last-child)::after {content: \"\\00b7\"; padding: 0 .5ex}\n",
       "</style>\n",
       "<ol class=list-inline><li><time datetime=\"2020-03-21\">2020-03-21</time></li><li><time datetime=\"2020-03-22\">2020-03-22</time></li><li><time datetime=\"2020-03-23\">2020-03-23</time></li></ol>\n"
      ],
      "text/latex": [
       "\\begin{enumerate*}\n",
       "\\item 2020-03-21\n",
       "\\item 2020-03-22\n",
       "\\item 2020-03-23\n",
       "\\end{enumerate*}\n"
      ],
      "text/markdown": [
       "1. 2020-03-21\n",
       "2. 2020-03-22\n",
       "3. 2020-03-23\n",
       "\n",
       "\n"
      ],
      "text/plain": [
       "[1] \"2020-03-21\" \"2020-03-22\" \"2020-03-23\""
      ]
     },
     "metadata": {},
     "output_type": "display_data"
    }
   ],
   "source": [
    "my_date_factor <- factor(c(\"03/21/2020\",\n",
    "                           \"03/22/2020\",\n",
    "                           \"03/23/2020\"))\n",
    "\n",
    "as.Date(my_date_factor, format = \"%m/%d/%Y\")"
   ]
  }
 ],
 "metadata": {
  "kernelspec": {
   "display_name": "R",
   "language": "R",
   "name": "ir"
  },
  "language_info": {
   "codemirror_mode": "r",
   "file_extension": ".r",
   "mimetype": "text/x-r-source",
   "name": "R",
   "pygments_lexer": "r",
   "version": "4.3.0"
  }
 },
 "nbformat": 4,
 "nbformat_minor": 2
}
