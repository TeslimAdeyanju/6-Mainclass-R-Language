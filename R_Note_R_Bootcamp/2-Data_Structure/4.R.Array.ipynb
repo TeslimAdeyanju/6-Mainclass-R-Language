{
 "cells": [
  {
   "cell_type": "markdown",
   "metadata": {
    "vscode": {
     "languageId": "r"
    }
   },
   "source": [
    "# ARRAY"
   ]
  },
  {
   "cell_type": "markdown",
   "metadata": {},
   "source": [
    "### Introduction\n",
    "____"
   ]
  },
  {
   "cell_type": "markdown",
   "metadata": {},
   "source": [
    "In R programming, arrays are a fundamental data structure used to store collections of elements that can have more than two dimensions. This allows you to organize your data in a more structured and efficient way compared to one-dimensional vectors or two-dimensional matrices. It is created by using `array()` function.\n",
    "\n",
    "Key Characteristics:\n",
    "\n",
    "* Dimensions: Arrays can have one or more dimensions. A one-dimensional array is essentially a vector, but R treats them slightly differently in some functions. Two-dimensional arrays are equivalent to matrices, which are commonly used in R. Three-dimensional arrays (or higher) provide additional layers for organizing your data.\n",
    "\n",
    "* Data Type Consistency: All elements within an array must be of the same data type. This ensures uniformity and simplifies operations on the array.\n",
    "\n",
    "This is array syntax: \n",
    "\n",
    "```R\n",
    "Array_name <- array(c(data1,data2) dim = c(row_size, column_size, matrices), dimnames = list(row_names, column_names, matrix_names)))\n",
    "\n",
    "```\n",
    "\n",
    "Arguments definition: \n",
    "\n",
    "- `c` This call for a creation of a vector of numbers \n",
    "\n",
    "- `data`: Data is an input vector that is given to the array.\n",
    "\n",
    "- `dim`: This is the deimension of the argument as a vector of integers. \n",
    "\n",
    "- `row_size` : row_Size describes the number of row elements that an array can store.\n",
    "\n",
    "- `column_size` : Number of column elements that can be stored in an array.\n",
    "\n",
    "- `matrices` : Array in R consists of multi-dimensional matrices.\n",
    "\n",
    "- `dimnames` : Used to change the default names of rows and columns to the user’s preference.\n"
   ]
  },
  {
   "cell_type": "markdown",
   "metadata": {
    "vscode": {
     "languageId": "plaintext"
    }
   },
   "source": [
    "### How to Create Array in R\n",
    "___"
   ]
  },
  {
   "cell_type": "markdown",
   "metadata": {},
   "source": [
    "Now, we will create an R array of two 3×3 matrices each with 3 rows and 3 columns.\n",
    "\n",
    "- first # Create two vectors of different lengths.\n",
    "- Take these vectors as input to the array."
   ]
  },
  {
   "cell_type": "code",
   "execution_count": 28,
   "metadata": {
    "vscode": {
     "languageId": "r"
    }
   },
   "outputs": [],
   "source": [
    "# Create two vectors of different lengths.\n",
    "vector1 <- c(2, 9, 3)\n",
    "vector2 <- c(10, 16, 17, 13, 11, 15)"
   ]
  },
  {
   "cell_type": "code",
   "execution_count": 29,
   "metadata": {
    "vscode": {
     "languageId": "r"
    }
   },
   "outputs": [
    {
     "name": "stdout",
     "output_type": "stream",
     "text": [
      ", , 1\n",
      "\n",
      "     [,1] [,2] [,3]\n",
      "[1,]    2   10   13\n",
      "[2,]    9   16   11\n",
      "[3,]    3   17   15\n",
      "\n",
      ", , 2\n",
      "\n",
      "     [,1] [,2] [,3]\n",
      "[1,]    2   10   13\n",
      "[2,]    9   16   11\n",
      "[3,]    3   17   15\n",
      "\n"
     ]
    }
   ],
   "source": [
    "# Take these vectors as input to the array.\n",
    "result <- array(c(vector1, vector2), dim = c(3, 3, 2))\n",
    "print(result)"
   ]
  },
  {
   "cell_type": "markdown",
   "metadata": {},
   "source": [
    "This R script creates two vectors of different lengths, combines them, and then reshapes the combined data into a multidimensional array.\n",
    "\n",
    "Here's a breakdown of the script:\n",
    "\n",
    "- Two vectors, `vector1` and `vector2`, are created using the `c()` function. `vector1` contains three elements: 2, 9, and 3. `vector2` contains six elements: 10, 16, 17, 13, 11, and 15.\n",
    "\n",
    "- The `c()` function is used again to combine `vector1` and `vector2` into a single vector. This combined vector contains all the elements of `vector1` followed by all the elements of `vector2`.\n",
    "\n",
    "- The `array()` function is used to create an array from the combined vector. The `dim` argument is set to `c(3, 3, 2)`, which specifies the dimensions of the array. This creates a 3D array with 3 rows, 3 columns, and 2 slices (or layers). \n",
    "\n",
    "- The `print()` function is used to display the `result` array. This will print a 3D array where the first slice contains the first 9 elements of the combined vector (filled by column), and the second slice contains the remaining elements.\n",
    "\n",
    "In summary, this script demonstrates how to create a multidimensional array in R from vectors of different lengths."
   ]
  },
  {
   "cell_type": "code",
   "execution_count": 66,
   "metadata": {
    "vscode": {
     "languageId": "r"
    }
   },
   "outputs": [
    {
     "data": {
      "text/html": [
       "<style>\n",
       ".list-inline {list-style: none; margin:0; padding: 0}\n",
       ".list-inline>li {display: inline-block}\n",
       ".list-inline>li:not(:last-child)::after {content: \"\\00b7\"; padding: 0 .5ex}\n",
       "</style>\n",
       "<ol class=list-inline><li>1</li><li>2</li><li>3</li><li>4</li><li>5</li><li>6</li><li>7</li><li>8</li><li>9</li><li>10</li><li>11</li><li>12</li><li>13</li><li>14</li><li>15</li><li>16</li><li>17</li><li>18</li><li>19</li><li>20</li><li>21</li><li>22</li><li>23</li><li>24</li></ol>\n"
      ],
      "text/latex": [
       "\\begin{enumerate*}\n",
       "\\item 1\n",
       "\\item 2\n",
       "\\item 3\n",
       "\\item 4\n",
       "\\item 5\n",
       "\\item 6\n",
       "\\item 7\n",
       "\\item 8\n",
       "\\item 9\n",
       "\\item 10\n",
       "\\item 11\n",
       "\\item 12\n",
       "\\item 13\n",
       "\\item 14\n",
       "\\item 15\n",
       "\\item 16\n",
       "\\item 17\n",
       "\\item 18\n",
       "\\item 19\n",
       "\\item 20\n",
       "\\item 21\n",
       "\\item 22\n",
       "\\item 23\n",
       "\\item 24\n",
       "\\end{enumerate*}\n"
      ],
      "text/markdown": [
       "1. 1\n",
       "2. 2\n",
       "3. 3\n",
       "4. 4\n",
       "5. 5\n",
       "6. 6\n",
       "7. 7\n",
       "8. 8\n",
       "9. 9\n",
       "10. 10\n",
       "11. 11\n",
       "12. 12\n",
       "13. 13\n",
       "14. 14\n",
       "15. 15\n",
       "16. 16\n",
       "17. 17\n",
       "18. 18\n",
       "19. 19\n",
       "20. 20\n",
       "21. 21\n",
       "22. 22\n",
       "23. 23\n",
       "24. 24\n",
       "\n",
       "\n"
      ],
      "text/plain": [
       " [1]  1  2  3  4  5  6  7  8  9 10 11 12 13 14 15 16 17 18 19 20 21 22 23 24"
      ]
     },
     "metadata": {},
     "output_type": "display_data"
    },
    {
     "name": "stdout",
     "output_type": "stream",
     "text": [
      ", , 1\n",
      "\n",
      "     [,1] [,2] [,3]\n",
      "[1,]    1    5    9\n",
      "[2,]    2    6   10\n",
      "[3,]    3    7   11\n",
      "[4,]    4    8   12\n",
      "\n",
      ", , 2\n",
      "\n",
      "     [,1] [,2] [,3]\n",
      "[1,]   13   17   21\n",
      "[2,]   14   18   22\n",
      "[3,]   15   19   23\n",
      "[4,]   16   20   24\n",
      "\n"
     ]
    }
   ],
   "source": [
    "# An array with one dimension with values ranging from 1 to 24\n",
    "thisarray <- c(1:24)\n",
    "thisarray\n",
    "\n",
    "# An array with more than one dimension\n",
    "multiarray <- array(thisarray, dim = c(4, 3, 2))\n",
    "print(multiarray)"
   ]
  },
  {
   "cell_type": "markdown",
   "metadata": {},
   "source": [
    "### Naming Columns And Rows\n",
    "___"
   ]
  },
  {
   "cell_type": "markdown",
   "metadata": {},
   "source": [
    "We can give names to the rows, columns, and matrices in the array by using the dimnames parameter."
   ]
  },
  {
   "cell_type": "code",
   "execution_count": 30,
   "metadata": {
    "vscode": {
     "languageId": "r"
    }
   },
   "outputs": [],
   "source": [
    "# # Create two vectors of different lengths.\n",
    "vector1 <- c(2, 9, 6)\n",
    "vector2 <- c(10, 15, 13, 16, 11, 12)\n",
    "column_names <- c(\"COL1\", \"COL2\", \"COL3\")\n",
    "row_names <- c(\"ROW1\", \"ROW2\", \"ROW3\")\n",
    "matrix_names <- c(\"Matrix1\", \"Matrix2\")"
   ]
  },
  {
   "cell_type": "code",
   "execution_count": 31,
   "metadata": {
    "vscode": {
     "languageId": "r"
    }
   },
   "outputs": [
    {
     "name": "stdout",
     "output_type": "stream",
     "text": [
      ", , Matrix1\n",
      "\n",
      "     COL1 COL2 COL3\n",
      "ROW1    2   10   16\n",
      "ROW2    9   15   11\n",
      "ROW3    6   13   12\n",
      "\n",
      ", , Matrix2\n",
      "\n",
      "     COL1 COL2 COL3\n",
      "ROW1    2   10   16\n",
      "ROW2    9   15   11\n",
      "ROW3    6   13   12\n",
      "\n"
     ]
    }
   ],
   "source": [
    "# Take these vectors as input to the array.\n",
    "result <- array(\n",
    "  c(vector1, vector2), dim = c(3, 3, 2),\n",
    "  dimnames = list(row_names, column_names, matrix_names)\n",
    ")\n",
    "\n",
    "\n",
    "print(result)\n"
   ]
  },
  {
   "cell_type": "markdown",
   "metadata": {},
   "source": [
    "This R script creates a multidimensional array from two vectors and assigns names to the dimensions of the array.\n",
    "\n",
    "Here's a breakdown of the script:\n",
    "\n",
    "- The `c()` function is used to combine `vector1` and `vector2` into a single vector. This combined vector is the data that will be used to create the array.\n",
    "\n",
    "- The `array()` function is used to create an array from the combined vector. The `dim` argument is set to `c(3, 3, 2)`, which specifies the dimensions of the array. This creates a 3D array with 3 rows, 3 columns, and 2 slices (or layers).\n",
    "\n",
    "- The `dimnames` argument of the `array()` function is used to assign names to the dimensions of the array. The `list()` function is used to create a list of three vectors: `row_names`, `column_names`, and `matrix_names`. These vectors provide the names for the rows, columns, and slices of the array, respectively.\n",
    "\n",
    "In summary, this script demonstrates how to create a named multidimensional array in R from vectors of different lengths. The names of the dimensions can be used to make the data in the array easier to understand and work with."
   ]
  },
  {
   "cell_type": "markdown",
   "metadata": {},
   "source": [
    "### Accessing R Array Elements\n",
    "___"
   ]
  },
  {
   "cell_type": "markdown",
   "metadata": {},
   "source": [
    "You can access the array elements by referring to the index position. You can use the `[]` brackets to access the desired elements from an array:"
   ]
  },
  {
   "cell_type": "code",
   "execution_count": 72,
   "metadata": {
    "vscode": {
     "languageId": "r"
    }
   },
   "outputs": [
    {
     "name": "stdout",
     "output_type": "stream",
     "text": [
      ", , 1\n",
      "\n",
      "     [,1] [,2] [,3]\n",
      "[1,]    1    9   17\n",
      "[2,]    2   10   18\n",
      "[3,]    3   11   19\n",
      "[4,]    4   12   20\n",
      "[5,]    5   13   21\n",
      "[6,]    6   14   22\n",
      "[7,]    7   15   23\n",
      "[8,]    8   16   24\n",
      "\n"
     ]
    },
    {
     "data": {
      "text/html": [
       "22"
      ],
      "text/latex": [
       "22"
      ],
      "text/markdown": [
       "22"
      ],
      "text/plain": [
       "[1] 22"
      ]
     },
     "metadata": {},
     "output_type": "display_data"
    }
   ],
   "source": [
    "# An array with one dimension with values ranging from 1 to 24\n",
    "thisarray <- c(1:24)\n",
    "multiarray <- array(thisarray, dim = c(8, 3, 1))\n",
    "print(multiarray)\n",
    "\n",
    "multiarray[6, 3, 1]"
   ]
  },
  {
   "cell_type": "code",
   "execution_count": 53,
   "metadata": {
    "vscode": {
     "languageId": "r"
    }
   },
   "outputs": [],
   "source": [
    "# # We will create two vectors of different lengths.\n",
    "info1 <- c(2, 9, 6)\n",
    "info2 <- c(10, 15, 13, 7, 0, 3)\n",
    "column_names <- c(\"COL1\", \"COL2\", \"COL3\")\n",
    "row_names <- c(\"ROW1\", \"ROW2\", \"ROW3\")\n",
    "matrix_names <- c(\"Matrix1\", \"Matrix2\")"
   ]
  },
  {
   "cell_type": "code",
   "execution_count": 52,
   "metadata": {
    "vscode": {
     "languageId": "r"
    }
   },
   "outputs": [
    {
     "name": "stdout",
     "output_type": "stream",
     "text": [
      ", , Matrix1\n",
      "\n",
      "     COL1 COL2 COL3\n",
      "ROW1    2   10    7\n",
      "ROW2    9   15    0\n",
      "ROW3    6   13    3\n",
      "\n",
      ", , Matrix2\n",
      "\n",
      "     COL1 COL2 COL3\n",
      "ROW1    2   10    7\n",
      "ROW2    9   15    0\n",
      "ROW3    6   13    3\n",
      "\n"
     ]
    }
   ],
   "source": [
    "# # Now, we will take these vectors as input to the array.\n",
    "result <- array(\n",
    "  c(info1, info2), dim = c(3, 3, 2),\n",
    "  dimnames = list(row_names, column_names, matrix_names)\n",
    ")\n",
    "\n",
    "\n",
    "print(result)"
   ]
  },
  {
   "cell_type": "code",
   "execution_count": 54,
   "metadata": {
    "vscode": {
     "languageId": "r"
    }
   },
   "outputs": [
    {
     "name": "stdout",
     "output_type": "stream",
     "text": [
      "[1] 7\n"
     ]
    }
   ],
   "source": [
    "#  Print the element in the 1st row and 3rd column of the 1st matrix.\n",
    "# dim = (row_Size, column_Size, matrices, dimnames)\n",
    "\n",
    "print(result[1, 3, 1])"
   ]
  },
  {
   "cell_type": "code",
   "execution_count": 55,
   "metadata": {
    "vscode": {
     "languageId": "r"
    }
   },
   "outputs": [
    {
     "name": "stdout",
     "output_type": "stream",
     "text": [
      "     COL1 COL2 COL3\n",
      "ROW1    2   10    7\n",
      "ROW2    9   15    0\n",
      "ROW3    6   13    3\n"
     ]
    }
   ],
   "source": [
    "# # Print the 2nd Matrix.\n",
    "# dim = (row_Size, column_Size, matrices, dimnames)\n",
    "\n",
    "print(result[, , 2])"
   ]
  },
  {
   "cell_type": "code",
   "execution_count": 56,
   "metadata": {
    "vscode": {
     "languageId": "r"
    }
   },
   "outputs": [
    {
     "name": "stdout",
     "output_type": "stream",
     "text": [
      "COL1 COL2 COL3 \n",
      "   9   15    0 \n"
     ]
    }
   ],
   "source": [
    "# # Print the 2nd row of the 1st matrix.\n",
    "# dim = (row_Size, column_Size, matrices, dimnames)\n",
    "print(result[2, , 1])"
   ]
  },
  {
   "cell_type": "code",
   "execution_count": 58,
   "metadata": {
    "vscode": {
     "languageId": "r"
    }
   },
   "outputs": [
    {
     "name": "stdout",
     "output_type": "stream",
     "text": [
      "ROW1 ROW2 ROW3 \n",
      "   7    0    3 \n"
     ]
    }
   ],
   "source": [
    "# # Print the 3rd column of the 2nd matrix.\n",
    "# dim = (row_Size, column_Size, matrices, dimnames)\n",
    "print(result[, 3, 2])"
   ]
  },
  {
   "cell_type": "code",
   "execution_count": 38,
   "metadata": {
    "vscode": {
     "languageId": "r"
    }
   },
   "outputs": [
    {
     "name": "stdout",
     "output_type": "stream",
     "text": [
      "COL1 COL2 COL3 \n",
      "   9   15    0 \n"
     ]
    }
   ],
   "source": [
    "# # Print the 2nd row of the 2nd matrix.\n",
    "print(result[2, , 2])"
   ]
  },
  {
   "cell_type": "markdown",
   "metadata": {},
   "source": [
    "### Check if an Item Exists\n",
    "___"
   ]
  },
  {
   "cell_type": "markdown",
   "metadata": {},
   "source": [
    "To find out if a specified item is present in an array, use the `%in% `operator: it returns a boolean value.\n",
    "\n",
    "- TRUE - if specified element is present in the matrix\n",
    "- FALSE - if specified element is not present in the matrix"
   ]
  },
  {
   "cell_type": "code",
   "execution_count": 73,
   "metadata": {
    "vscode": {
     "languageId": "r"
    }
   },
   "outputs": [
    {
     "data": {
      "text/html": [
       "TRUE"
      ],
      "text/latex": [
       "TRUE"
      ],
      "text/markdown": [
       "TRUE"
      ],
      "text/plain": [
       "[1] TRUE"
      ]
     },
     "metadata": {},
     "output_type": "display_data"
    }
   ],
   "source": [
    "# Check if the value \"2\" is present in the array:\n",
    "thisarray <- c(1:24)\n",
    "multiarray <- array(thisarray, dim = c(4, 3, 2))\n",
    "\n",
    "2 %in% multiarray"
   ]
  },
  {
   "cell_type": "markdown",
   "metadata": {
    "vscode": {
     "languageId": "r"
    }
   },
   "source": [
    "### Array Length\n",
    "___"
   ]
  },
  {
   "cell_type": "markdown",
   "metadata": {},
   "source": [
    "Use the `length()` function to find the dimension of an array:"
   ]
  },
  {
   "cell_type": "code",
   "execution_count": 76,
   "metadata": {
    "vscode": {
     "languageId": "r"
    }
   },
   "outputs": [
    {
     "name": "stdout",
     "output_type": "stream",
     "text": [
      "Total Elements: 12"
     ]
    }
   ],
   "source": [
    "# create a two 2 by 3 matrix\n",
    "array1 <- array(c(1:12), dim = c(2, 3, 2))\n",
    "\n",
    "# find total elements in array1 using length()\n",
    "cat(\"Total Elements:\", length(array1))"
   ]
  },
  {
   "cell_type": "markdown",
   "metadata": {},
   "source": [
    "### Amount of Rows and Columns\n",
    "___"
   ]
  },
  {
   "cell_type": "markdown",
   "metadata": {},
   "source": [
    "Use the `dim()` function to find the amount of rows and columns in an array:"
   ]
  },
  {
   "cell_type": "code",
   "execution_count": 74,
   "metadata": {
    "vscode": {
     "languageId": "r"
    }
   },
   "outputs": [
    {
     "data": {
      "text/html": [
       "<style>\n",
       ".list-inline {list-style: none; margin:0; padding: 0}\n",
       ".list-inline>li {display: inline-block}\n",
       ".list-inline>li:not(:last-child)::after {content: \"\\00b7\"; padding: 0 .5ex}\n",
       "</style>\n",
       "<ol class=list-inline><li>4</li><li>3</li><li>2</li></ol>\n"
      ],
      "text/latex": [
       "\\begin{enumerate*}\n",
       "\\item 4\n",
       "\\item 3\n",
       "\\item 2\n",
       "\\end{enumerate*}\n"
      ],
      "text/markdown": [
       "1. 4\n",
       "2. 3\n",
       "3. 2\n",
       "\n",
       "\n"
      ],
      "text/plain": [
       "[1] 4 3 2"
      ]
     },
     "metadata": {},
     "output_type": "display_data"
    }
   ],
   "source": [
    "thisarray <- c(1:24)\n",
    "multiarray <- array(thisarray, dim = c(4, 3, 2))\n",
    "\n",
    "dim(multiarray)"
   ]
  },
  {
   "cell_type": "markdown",
   "metadata": {},
   "source": [
    "### Manipulating R Array Elements\n",
    "___"
   ]
  },
  {
   "cell_type": "markdown",
   "metadata": {},
   "source": [
    "As the array is made up matrices in multiple dimensions, the operations on elements of an array are carried out by accessing elements of the matrices."
   ]
  },
  {
   "cell_type": "code",
   "execution_count": 39,
   "metadata": {
    "vscode": {
     "languageId": "r"
    }
   },
   "outputs": [],
   "source": [
    "# Create two vectors of different lengths.\n",
    "vector1 <- c(1, 2, 3)\n",
    "vector2 <- c(3, 4, 5, 6, 7, 8)"
   ]
  },
  {
   "cell_type": "code",
   "execution_count": 40,
   "metadata": {
    "vscode": {
     "languageId": "r"
    }
   },
   "outputs": [],
   "source": [
    "# Take these vectors as input to the array.\n",
    "array1 <- array(c(vector1, vector2), dim = c(3, 3, 2))"
   ]
  },
  {
   "cell_type": "code",
   "execution_count": 41,
   "metadata": {
    "vscode": {
     "languageId": "r"
    }
   },
   "outputs": [],
   "source": [
    "# Create two vectors of different lengths.\n",
    "vector3 <- c(3, 2, 1)\n",
    "vector4 <- c(8, 7, 6, 5, 4, 3)\n",
    "array2 <- array(c(vector1, vector2), dim = c(3, 3, 2))"
   ]
  },
  {
   "cell_type": "code",
   "execution_count": 60,
   "metadata": {
    "vscode": {
     "languageId": "r"
    }
   },
   "outputs": [
    {
     "name": "stdout",
     "output_type": "stream",
     "text": [
      "     [,1] [,2] [,3]\n",
      "[1,]    1    3    6\n",
      "[2,]    2    4    7\n",
      "[3,]    3    5    8\n",
      "     [,1] [,2] [,3]\n",
      "[1,]    1    3    6\n",
      "[2,]    2    4    7\n",
      "[3,]    3    5    8\n"
     ]
    }
   ],
   "source": [
    "# create matrices from these arrays.\n",
    "matrix1 <- array1[, , 1] # assessing the first matrix\n",
    "matrix2 <- array2[, , 2] # assessing the second matrix\n",
    "\n",
    "print(matrix1)\n",
    "print(matrix2)"
   ]
  },
  {
   "cell_type": "code",
   "execution_count": 61,
   "metadata": {
    "vscode": {
     "languageId": "r"
    }
   },
   "outputs": [
    {
     "name": "stdout",
     "output_type": "stream",
     "text": [
      "     [,1] [,2] [,3]\n",
      "[1,]    2    6   12\n",
      "[2,]    4    8   14\n",
      "[3,]    6   10   16\n"
     ]
    }
   ],
   "source": [
    "# Add the matrices.\n",
    "result <- matrix1 + matrix2\n",
    "\n",
    "print(result)"
   ]
  },
  {
   "cell_type": "markdown",
   "metadata": {},
   "source": [
    "### Calculations across R Array Elements\n",
    "___"
   ]
  },
  {
   "cell_type": "markdown",
   "metadata": {},
   "source": [
    "We will be using the `apply( )`function for calculations in an array in R.\n",
    "\n",
    "The `apply()` function in R is a powerful tool for working with matrices and data frames. Here's a breakdown of its functionality and an example:\n",
    "\n",
    "What is apply() in R?\n",
    "\n",
    "* It's a function that iterates over rows or columns of a matrix or data frame and applies a specified function to each row or column.\n",
    "\n",
    "* This allows you to perform calculations or transformations on your data in a concise and efficient way, avoiding explicit loops.\n",
    "\n",
    "The Sytnax: \n",
    "\n",
    "```r\n",
    "apply(X, margin, fun)\n",
    "```\n",
    "\n",
    "Key Arguments:\n",
    "\n",
    "- X (data): The matrix or data frame you want to apply the function to.\n",
    "\n",
    "- MARGIN (dimension): An integer specifying which dimension (rows or columns) to apply the function over.\n",
    "\n",
    "     * MARGIN = 1: Applies the function to each row (default).\n",
    "     * MARGIN = 2: Applies the function to each column.\n",
    "     \n",
    "- FUN (function): The function you want to apply to each row or column. This can be a built-in R function (like sum, mean, max) or a user-defined function.\n"
   ]
  },
  {
   "cell_type": "code",
   "execution_count": 44,
   "metadata": {
    "vscode": {
     "languageId": "r"
    }
   },
   "outputs": [],
   "source": [
    "# # We will create two vectors of different lengths.\n",
    "vector1 <- c(1, 2, 3)\n",
    "vector2 <- c(3, 4, 5, 6, 7, 8)"
   ]
  },
  {
   "cell_type": "code",
   "execution_count": 45,
   "metadata": {
    "vscode": {
     "languageId": "r"
    }
   },
   "outputs": [
    {
     "name": "stdout",
     "output_type": "stream",
     "text": [
      ", , 1\n",
      "\n",
      "     [,1] [,2] [,3]\n",
      "[1,]    1    3    6\n",
      "[2,]    2    4    7\n",
      "[3,]    3    5    8\n",
      "\n",
      ", , 2\n",
      "\n",
      "     [,1] [,2] [,3]\n",
      "[1,]    1    3    6\n",
      "[2,]    2    4    7\n",
      "[3,]    3    5    8\n",
      "\n"
     ]
    }
   ],
   "source": [
    "# Now, we will take these vectors as input to the array.\n",
    "array1 <- array(c(vector1, vector2), dim = c(3, 3, 2))\n",
    "print(array1)"
   ]
  },
  {
   "cell_type": "code",
   "execution_count": 46,
   "metadata": {
    "vscode": {
     "languageId": "r"
    }
   },
   "outputs": [
    {
     "name": "stdout",
     "output_type": "stream",
     "text": [
      "[1] 20 26 32\n"
     ]
    }
   ],
   "source": [
    "# Use apply to calculate the sum of the rows across all the matrices.\n",
    "result1 <- apply(array1, c(1), sum)\n",
    "print(result1)"
   ]
  },
  {
   "cell_type": "code",
   "execution_count": 47,
   "metadata": {
    "vscode": {
     "languageId": "r"
    }
   },
   "outputs": [
    {
     "name": "stdout",
     "output_type": "stream",
     "text": [
      "[1] 12 24 42\n"
     ]
    }
   ],
   "source": [
    "# Use apply to calculate the sum of the column across all the matrices.\n",
    "result2 <- apply(array1, c(2), sum)\n",
    "print(result2)"
   ]
  },
  {
   "cell_type": "code",
   "execution_count": 48,
   "metadata": {
    "vscode": {
     "languageId": "r"
    }
   },
   "outputs": [
    {
     "name": "stdout",
     "output_type": "stream",
     "text": [
      "     [,1] [,2] [,3]\n",
      "[1,]    2    6   12\n",
      "[2,]    4    8   14\n",
      "[3,]    6   10   16\n"
     ]
    }
   ],
   "source": [
    "# Use apply to calculate the sum of the matrices across.\n",
    "# all the rows and columns.\n",
    "result3 <- apply(array1, c(1, 2), sum)\n",
    "print(result3)\n"
   ]
  },
  {
   "cell_type": "code",
   "execution_count": 49,
   "metadata": {
    "vscode": {
     "languageId": "r"
    }
   },
   "outputs": [
    {
     "name": "stdout",
     "output_type": "stream",
     "text": [
      "[1] 2 4 7\n"
     ]
    }
   ],
   "source": [
    "# Use the apply to calculate the mean of the column.\n",
    "result4 <- apply(array1, c(2), mean)\n",
    "print(result4)"
   ]
  },
  {
   "cell_type": "code",
   "execution_count": 50,
   "metadata": {
    "vscode": {
     "languageId": "r"
    }
   },
   "outputs": [
    {
     "name": "stdout",
     "output_type": "stream",
     "text": [
      "     [,1] [,2] [,3]\n",
      "[1,]    1    3    6\n",
      "[2,]    2    4    7\n",
      "[3,]    3    5    8\n"
     ]
    }
   ],
   "source": [
    "# use the apply to calculate the mean of the column and row \n",
    "result5 <- apply(array1, c(1, 2), mean)\n",
    "print(result5)"
   ]
  },
  {
   "cell_type": "markdown",
   "metadata": {
    "vscode": {
     "languageId": "r"
    }
   },
   "source": [
    "### Key Differences Between Matrix and Array\n",
    "____"
   ]
  },
  {
   "cell_type": "markdown",
   "metadata": {},
   "source": [
    "In R, both arrays and matrices are used to store data in a structured format, but they have some key differences in terms of their structure and usage. Here are the main differences:\n",
    "\n",
    "#### Matrix\n",
    "- **Definition:** A matrix is a two-dimensional array, meaning it has rows and columns.\n",
    "- **Dimensions:** Always has exactly two dimensions.\n",
    "- **Creation:** Created using the `matrix()` function.\n",
    "- **Usage:** Primarily used for mathematical computations and linear algebra operations.\n",
    "- **Example:**\n",
    "  ```r\n",
    "  # Creating a matrix\n",
    "  mat <- matrix(1:9, nrow = 3, ncol = 3)\n",
    "  print(mat)\n",
    "  ```\n",
    "\n",
    "#### Array\n",
    "- **Definition:** An array is a multi-dimensional data structure that can have more than two dimensions.\n",
    "- **Dimensions:** Can have two or more dimensions.\n",
    "- **Creation:** Created using the `array()` function.\n",
    "- **Usage:** Used for more complex data structures that require more than two dimensions.\n",
    "- **Example:**\n",
    "  ```r\n",
    "  # Creating a 3-dimensional array\n",
    "  arr <- array(1:27, dim = c(3, 3, 3))\n",
    "  print(arr)\n",
    "  ```\n",
    "\n",
    "#### Key Differences\n",
    "1. **Dimensionality:**\n",
    "   - **Matrix:** Always 2D (rows and columns).\n",
    "   - **Array:** Can be 2D, 3D, or higher.\n",
    "\n",
    "2. **Creation Functions:**\n",
    "   - **Matrix:** Created using `matrix()`.\n",
    "   - **Array:** Created using `array()`.\n",
    "\n",
    "3. **Usage Context:**\n",
    "   - **Matrix:** Commonly used for linear algebra operations, such as matrix multiplication, inversion, etc.\n",
    "   - **Array:** Used when data needs to be stored in more than two dimensions, such as in multi-dimensional data analysis.\n",
    "\n",
    "#### Example Code\n",
    "Here is an example to illustrate the creation and usage of both a matrix and an array in R:\n",
    "\n"
   ]
  },
  {
   "cell_type": "code",
   "execution_count": 5,
   "metadata": {
    "vscode": {
     "languageId": "r"
    }
   },
   "outputs": [
    {
     "name": "stdout",
     "output_type": "stream",
     "text": [
      "[1] \"Matrix:\"\n",
      "     [,1] [,2] [,3]\n",
      "[1,]    1    4    7\n",
      "[2,]    2    5    8\n",
      "[3,]    3    6    9\n"
     ]
    }
   ],
   "source": [
    "# Creating a matrix\n",
    "mat <- matrix(1:9, nrow = 3, ncol = 3)\n",
    "print(\"Matrix:\")\n",
    "print(mat)\n"
   ]
  },
  {
   "cell_type": "code",
   "execution_count": 8,
   "metadata": {
    "vscode": {
     "languageId": "r"
    }
   },
   "outputs": [
    {
     "name": "stdout",
     "output_type": "stream",
     "text": [
      "[1] \"Array:\"\n",
      ", , 1\n",
      "\n",
      "     [,1] [,2] [,3]\n",
      "[1,]    1    4    7\n",
      "[2,]    2    5    8\n",
      "[3,]    3    6    9\n",
      "\n",
      ", , 2\n",
      "\n",
      "     [,1] [,2] [,3]\n",
      "[1,]    1    4    7\n",
      "[2,]    2    5    8\n",
      "[3,]    3    6    9\n",
      "\n",
      ", , 3\n",
      "\n",
      "     [,1] [,2] [,3]\n",
      "[1,]    1    4    7\n",
      "[2,]    2    5    8\n",
      "[3,]    3    6    9\n",
      "\n"
     ]
    }
   ],
   "source": [
    "# Creating a 3-dimensional array\n",
    "arr <- array(1:9, dim = c(3, 3, 3))\n",
    "print(\"Array:\")\n",
    "print(arr)"
   ]
  },
  {
   "cell_type": "markdown",
   "metadata": {},
   "source": [
    "\n",
    "\n",
    "### Output\n"
   ]
  },
  {
   "cell_type": "markdown",
   "metadata": {},
   "source": [
    "\n",
    "\n",
    "In summary, matrices are a special case of arrays with exactly two dimensions, while arrays can have multiple dimensions and are used for more complex data structures."
   ]
  }
 ],
 "metadata": {
  "kernelspec": {
   "display_name": "R",
   "language": "R",
   "name": "ir"
  },
  "language_info": {
   "codemirror_mode": "r",
   "file_extension": ".r",
   "mimetype": "text/x-r-source",
   "name": "R",
   "pygments_lexer": "r",
   "version": "4.4.0"
  }
 },
 "nbformat": 4,
 "nbformat_minor": 2
}
