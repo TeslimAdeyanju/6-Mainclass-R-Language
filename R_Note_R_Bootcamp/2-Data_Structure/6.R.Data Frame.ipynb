{
 "cells": [
  {
   "cell_type": "markdown",
   "metadata": {},
   "source": [
    "# DATA FRAME"
   ]
  },
  {
   "cell_type": "markdown",
   "metadata": {},
   "source": [
    "### Introduction \n",
    "___"
   ]
  },
  {
   "cell_type": "markdown",
   "metadata": {},
   "source": [
    "In R, a DataFrame is a fundamental data structure used for storing tabular data. It is similar to a table in a relational database or a spreadsheet in other software. A DataFrame organizes data into rows and columns, where each column can contain different types of data (numeric, character, factor, etc.). DataFrames are widely used in data manipulation, exploration, and analysis tasks in R.\n",
    "\n",
    "Here are some key characteristics of DataFrames in R:\n",
    "\n",
    "1. Tabular Structure: DataFrames are two-dimensional structures with rows and columns. Rows typically represent individual observations or cases, while columns represent variables or attributes. Each column should contain the same number of data items.\n",
    "\n",
    "2. Heterogeneous Data Types: Unlike matrices, which can only contain elements of the same data type, DataFrames can accommodate columns with different data types. The data frame can hold the data which can be a numeric, character or of factor type.\n",
    "\n",
    "3. Column Names: Each column in a DataFrame has a name that identifies the variable it represents. These names can be used to access and manipulate columns. The column names should be non-empty.\n",
    "\n",
    "4. Row Indexing: Each row in a DataFrame has an index or row label that identifies the observation. The row index can be numeric or character-based.The row names should be unique.\n",
    "\n",
    "5. Built-in Functions: DataFrames support a wide range of built-in functions for data manipulation, including subsetting, filtering, merging, and summarizing data.\n",
    "\n",
    "\n",
    "In R, you can create a DataFrame using the `data.frame()` function. The syntax for creating a DataFrame in R is as follows:\n",
    "\n",
    "```R\n",
    "info <- data.frame(name = c(\"a\", \"b\"), age = c(23, 24)..., row.names = NULL, check.rows = FALSE, check.names = TRUE, stringsAsFactors = default.stringsAsFactors())\n",
    "```\n",
    "\n",
    "Many data input functions of R like, `read.table()`, `read.csv()`, `read.delim()`, `read.fwf()` also read data into a data frame."
   ]
  },
  {
   "cell_type": "markdown",
   "metadata": {},
   "source": [
    "The code you provided defines a data frame in R using the data.frame() function. Let's break down each part:\n",
    "\n",
    "____\n",
    "\n",
    "`data.frame( ... )`\n",
    "\n",
    "This is the function used to create a data frame in R. A data frame is a tabular structure that can hold different data types (characters, numbers, etc.) in columns.\n",
    "\n",
    "```R\n",
    "name = c(\"a\", \"b\"), age = c(23, 24)\n",
    "```\n",
    "These are the arguments passed to the `data.frame()` function. They define the columns of the data frame:\n",
    "- `name`: This creates a column named \"name\" containing character values \"a\" and \"b\".\n",
    "- `age`: This creates a column named \"age\" containing numeric values 23 and 24.\n",
    "\n",
    "The ellipsis (...) indicates that there could be additional arguments provided to define more columns in the data frame. You can follow the same format `(column_name = c(values))` for each additional column.\n",
    "\n",
    "_____\n",
    "\n",
    "`row.names = NULL`\n",
    "\n",
    "This argument specifies how to handle row names in the data frame.  \n",
    "\n",
    "* By default, row names are automatically generated as row numbers (1, 2, ...).\n",
    "\n",
    "* Setting `row.names = NULL` explicitly removes any row names from the data frame.\n",
    "\n",
    "____\n",
    "\n",
    "`check.rows = FALSE`\n",
    "\n",
    "This argument controls whether R checks for duplicate row names. \n",
    "\n",
    "* By default `(check.rows = TRUE)`, R will raise an error if there are duplicate row names.\n",
    "\n",
    "* Setting `check.rows = FALSE` disables this check, but it's generally recommended to keep it enabled unless you have a specific reason to disable it (be cautious of unintended consequences).\n",
    "\n",
    "____\n",
    "\n",
    "`check.names = TRUE`\n",
    "\n",
    "This argument controls whether R checks for valid variable names.  \n",
    "* By default `(check.names = TRUE)`, R will ensure variable names (column names) are valid and don't contain special characters or start with numbers.\n",
    "\n",
    "* Setting `check.names = FALSE` disables this check, but it's advisable to keep it enabled for consistency and to avoid potential errors.\n",
    "____\n",
    "\n",
    "`stringsAsFactors` = default.stringsAsFactors()\n",
    "\n",
    "This argument determines how character data in the data frame is treated.  \n",
    "\n",
    "* In older R versions (prior to 4.0), the default behavior was to convert character columns to factors (a special data type in R for categorical data).\n",
    "\n",
    "* In newer R versions (4.0 and later), the default behavior is to keep character columns as character vectors.\n",
    "`default.stringsAsFactors()` returns the current default behavior for your R version."
   ]
  },
  {
   "cell_type": "code",
   "execution_count": 6,
   "metadata": {
    "vscode": {
     "languageId": "r"
    }
   },
   "outputs": [
    {
     "name": "stdout",
     "output_type": "stream",
     "text": [
      "   name age\n",
      "A Alice  30\n",
      "B   Bob  25\n"
     ]
    }
   ],
   "source": [
    "my_data_frame <- data.frame(\n",
    "  name = c(\"Alice\", \"Bob\"),\n",
    "  age = c(30, 25),\n",
    "  row.names = c(\"A\", \"B\")\n",
    ")\n",
    "\n",
    "print(my_data_frame)\n"
   ]
  },
  {
   "cell_type": "code",
   "execution_count": 15,
   "metadata": {
    "vscode": {
     "languageId": "r"
    }
   },
   "outputs": [
    {
     "name": "stdout",
     "output_type": "stream",
     "text": [
      "       Name Age Gender\n",
      "101   Alice  25 Female\n",
      "102     Bob  30   Male\n",
      "103 Charlie  28   Male\n"
     ]
    }
   ],
   "source": [
    "# Create a DataFrame with three columns: \"Name\", \"Age\", \"Gender\"\n",
    "df <- data.frame(\n",
    "  Name = c(\"Alice\", \"Bob\", \"Charlie\"),\n",
    "  Age = c(25, 30, 28),\n",
    "  Gender = c(\"Female\", \"Male\", \"Male\"),\n",
    "  row.names = c(\"101\", \"102\", \"103\"),\n",
    "  stringsAsFactors = FALSE  # Avoid converting strings to factors\n",
    ")\n",
    "\n",
    "# Display the DataFrame\n",
    "print(df)\n"
   ]
  },
  {
   "cell_type": "markdown",
   "metadata": {},
   "source": [
    "We can check if a variable is a data frame or not using the `class()` function."
   ]
  },
  {
   "cell_type": "code",
   "execution_count": 52,
   "metadata": {
    "vscode": {
     "languageId": "r"
    }
   },
   "outputs": [
    {
     "name": "stdout",
     "output_type": "stream",
     "text": [
      "[1] \"data.frame\"\n",
      "[1] \"data.frame\"\n"
     ]
    }
   ],
   "source": [
    "# check the structure of the data frame\n",
    "print(class(df))\n",
    "print(class(my_data_frame))"
   ]
  },
  {
   "cell_type": "markdown",
   "metadata": {},
   "source": [
    "### R Data Frame Operations\n",
    "___"
   ]
  },
  {
   "cell_type": "markdown",
   "metadata": {},
   "source": [
    "In this section of the R data frame, we will perform various operations on the data frame in R. So, let’s discuss these operations one by one:"
   ]
  },
  {
   "cell_type": "markdown",
   "metadata": {},
   "source": [
    "1. Create Data Frame\n",
    "___"
   ]
  },
  {
   "cell_type": "code",
   "execution_count": 6,
   "metadata": {
    "vscode": {
     "languageId": "r"
    }
   },
   "outputs": [
    {
     "name": "stdout",
     "output_type": "stream",
     "text": [
      "  employee_id employee_name    sal  join_date\n",
      "1           1         James 642.30 2013-02-04\n",
      "2           2         Harry 535.20 2017-06-21\n",
      "3           3        Shinji 681.00 2012-11-14\n",
      "4           4           Jim 739.00 2018-05-19\n",
      "5           5        Oliver 925.26 2016-03-25\n"
     ]
    }
   ],
   "source": [
    "#creating a data frame with column names\n",
    "employee_data <- data.frame(\n",
    "  employee_id = c(1:5),\n",
    "  employee_name = c(\"James\", \"Harry\", \"Shinji\", \"Jim\", \"Oliver\"),\n",
    "  sal = c(642.3, 535.2, 681.0, 739.0, 925.26),\n",
    "  join_date = as.Date(\n",
    "    c(\"2013-02-04\",\n",
    "      \"2017-06-21\",\n",
    "      \"2012-11-14\",\n",
    "      \"2018-05-19\",\n",
    "      \"2016-03-25\")\n",
    "  ),\n",
    "  stringsAsFactors = FALSE\n",
    ")\n",
    "\n",
    "print(employee_data)"
   ]
  },
  {
   "cell_type": "markdown",
   "metadata": {},
   "source": [
    "This R code creates a data frame named `employee_data` and then prints it.\n",
    "\n",
    "A data frame is a table-like data structure available in R. It's similar to a spreadsheet or SQL table, or a dictionary of Series objects in pandas. Data frames are the most commonly used data structure in data analysis.\n",
    "\n",
    "The `data.frame` function is used to create the data frame. Inside this function, four vectors are defined, each representing a column of the data frame:\n",
    "\n",
    "- `employee_id` is a sequence of integers from 1 to 5.\n",
    "- `employee_name` is a character vector containing five names.\n",
    "- `sal` is a numeric vector containing five salary values.\n",
    "- `join_date` is a vector of dates. The `as.Date` function is used to convert the character strings to date objects.\n",
    "\n",
    "The `c` function is used to create each vector. This function combines its arguments into a vector.\n",
    "\n",
    "The `stringsAsFactors = FALSE` argument is used to prevent R from converting string vectors into factors. By default, R converts string vectors to factors (a data type used to store categorical data), but this behavior is not always desired, so it's turned off here.\n",
    "\n",
    "Finally, the `print` function is used to display the `employee_data` data frame. This will print the data frame to the console in a tabular format."
   ]
  },
  {
   "cell_type": "code",
   "execution_count": 21,
   "metadata": {
    "vscode": {
     "languageId": "r"
    }
   },
   "outputs": [],
   "source": [
    "# Setting up of our data. Note that all the data have the same length\n",
    "temp <- c(20.37, 18.56, 18.4, 21.96, 29.53, 28.16,\n",
    "          36.38, 36.62, 40.03, 27.59, 22.15, 19.85)\n",
    "humidity <- c(88, 86, 81, 79, 80, 78,\n",
    "              71, 69, 78, 82, 85, 83)\n",
    "rain <- c(72, 33.9, 37.5, 36.6, 31.0, 16.6,\n",
    "          1.2, 6.8, 36.8, 30.8, 38.5, 22.7)\n",
    "month <- c(\"January\", \"February\", \"March\", \"April\", \"May\", \"June\",\n",
    "           \"July\", \"August\", \"September\", \"October\", \"November\", \"December\")"
   ]
  },
  {
   "cell_type": "code",
   "execution_count": 23,
   "metadata": {
    "vscode": {
     "languageId": "r"
    }
   },
   "outputs": [
    {
     "data": {
      "text/html": [
       "<style>\n",
       ".list-inline {list-style: none; margin:0; padding: 0}\n",
       ".list-inline>li {display: inline-block}\n",
       ".list-inline>li:not(:last-child)::after {content: \"\\00b7\"; padding: 0 .5ex}\n",
       "</style>\n",
       "<ol class=list-inline><li>'month'</li><li>'temperature'</li><li>'humidity'</li><li>'rain'</li></ol>\n"
      ],
      "text/latex": [
       "\\begin{enumerate*}\n",
       "\\item 'month'\n",
       "\\item 'temperature'\n",
       "\\item 'humidity'\n",
       "\\item 'rain'\n",
       "\\end{enumerate*}\n"
      ],
      "text/markdown": [
       "1. 'month'\n",
       "2. 'temperature'\n",
       "3. 'humidity'\n",
       "4. 'rain'\n",
       "\n",
       "\n"
      ],
      "text/plain": [
       "[1] \"month\"       \"temperature\" \"humidity\"    \"rain\"       "
      ]
     },
     "metadata": {},
     "output_type": "display_data"
    },
    {
     "data": {
      "text/html": [
       "<table class=\"dataframe\">\n",
       "<caption>A data.frame: 6 x 4</caption>\n",
       "<thead>\n",
       "\t<tr><th></th><th scope=col>month</th><th scope=col>temperature</th><th scope=col>humidity</th><th scope=col>rain</th></tr>\n",
       "\t<tr><th></th><th scope=col>&lt;chr&gt;</th><th scope=col>&lt;dbl&gt;</th><th scope=col>&lt;dbl&gt;</th><th scope=col>&lt;dbl&gt;</th></tr>\n",
       "</thead>\n",
       "<tbody>\n",
       "\t<tr><th scope=row>1</th><td>January </td><td>20.37</td><td>88</td><td>72.0</td></tr>\n",
       "\t<tr><th scope=row>2</th><td>February</td><td>18.56</td><td>86</td><td>33.9</td></tr>\n",
       "\t<tr><th scope=row>3</th><td>March   </td><td>18.40</td><td>81</td><td>37.5</td></tr>\n",
       "\t<tr><th scope=row>4</th><td>April   </td><td>21.96</td><td>79</td><td>36.6</td></tr>\n",
       "\t<tr><th scope=row>5</th><td>May     </td><td>29.53</td><td>80</td><td>31.0</td></tr>\n",
       "\t<tr><th scope=row>6</th><td>June    </td><td>28.16</td><td>78</td><td>16.6</td></tr>\n",
       "</tbody>\n",
       "</table>\n"
      ],
      "text/latex": [
       "A data.frame: 6 x 4\n",
       "\\begin{tabular}{r|llll}\n",
       "  & month & temperature & humidity & rain\\\\\n",
       "  & <chr> & <dbl> & <dbl> & <dbl>\\\\\n",
       "\\hline\n",
       "\t1 & January  & 20.37 & 88 & 72.0\\\\\n",
       "\t2 & February & 18.56 & 86 & 33.9\\\\\n",
       "\t3 & March    & 18.40 & 81 & 37.5\\\\\n",
       "\t4 & April    & 21.96 & 79 & 36.6\\\\\n",
       "\t5 & May      & 29.53 & 80 & 31.0\\\\\n",
       "\t6 & June     & 28.16 & 78 & 16.6\\\\\n",
       "\\end{tabular}\n"
      ],
      "text/markdown": [
       "\n",
       "A data.frame: 6 x 4\n",
       "\n",
       "| <!--/--> | month &lt;chr&gt; | temperature &lt;dbl&gt; | humidity &lt;dbl&gt; | rain &lt;dbl&gt; |\n",
       "|---|---|---|---|---|\n",
       "| 1 | January  | 20.37 | 88 | 72.0 |\n",
       "| 2 | February | 18.56 | 86 | 33.9 |\n",
       "| 3 | March    | 18.40 | 81 | 37.5 |\n",
       "| 4 | April    | 21.96 | 79 | 36.6 |\n",
       "| 5 | May      | 29.53 | 80 | 31.0 |\n",
       "| 6 | June     | 28.16 | 78 | 16.6 |\n",
       "\n"
      ],
      "text/plain": [
       "  month    temperature humidity rain\n",
       "1 January  20.37       88       72.0\n",
       "2 February 18.56       86       33.9\n",
       "3 March    18.40       81       37.5\n",
       "4 April    21.96       79       36.6\n",
       "5 May      29.53       80       31.0\n",
       "6 June     28.16       78       16.6"
      ]
     },
     "metadata": {},
     "output_type": "display_data"
    }
   ],
   "source": [
    "# To create a data frame, we use the data.frame() function\n",
    "\n",
    "data <- data.frame(\n",
    "  month = month,\n",
    "  temperature = temp,\n",
    "  humidity = humidity,\n",
    "  rain = rain\n",
    ")\n",
    "\n",
    "# Display the data frame\n",
    "names(data) # Names of the variables (columns)\n",
    "\n",
    "# Displaying the first few rows of the data frame\n",
    "head(data)"
   ]
  },
  {
   "cell_type": "markdown",
   "metadata": {},
   "source": [
    "Second, you could make use of the `summary` function that will return a statistical summary of the variables (columns) of the dataset."
   ]
  },
  {
   "cell_type": "code",
   "execution_count": 24,
   "metadata": {
    "vscode": {
     "languageId": "r"
    }
   },
   "outputs": [
    {
     "data": {
      "text/plain": [
       "    month            temperature       humidity         rain      \n",
       " Length:12          Min.   :18.40   Min.   :69.0   Min.   : 1.20  \n",
       " Class :character   1st Qu.:20.24   1st Qu.:78.0   1st Qu.:21.18  \n",
       " Mode  :character   Median :24.87   Median :80.5   Median :32.45  \n",
       "                    Mean   :26.63   Mean   :80.0   Mean   :30.37  \n",
       "                    3rd Qu.:31.24   3rd Qu.:83.5   3rd Qu.:36.98  \n",
       "                    Max.   :40.03   Max.   :88.0   Max.   :72.00  "
      ]
     },
     "metadata": {},
     "output_type": "display_data"
    }
   ],
   "source": [
    "# Summary statistics of the data frame\n",
    "summary(data)"
   ]
  },
  {
   "cell_type": "markdown",
   "metadata": {},
   "source": [
    "2. Get the Structure of the R Data Frame\n",
    "___\n",
    "The structure of the data frame can see by using the `str ()` function."
   ]
  },
  {
   "cell_type": "code",
   "execution_count": 7,
   "metadata": {
    "vscode": {
     "languageId": "r"
    }
   },
   "outputs": [
    {
     "name": "stdout",
     "output_type": "stream",
     "text": [
      "'data.frame':\t5 obs. of  4 variables:\n",
      " $ employee_id  : int  1 2 3 4 5\n",
      " $ employee_name: chr  \"James\" \"Harry\" \"Shinji\" \"Jim\" ...\n",
      " $ sal          : num  642 535 681 739 925\n",
      " $ join_date    : Date, format: \"2013-02-04\" \"2017-06-21\" ...\n"
     ]
    }
   ],
   "source": [
    "# Display the structure of the DataFrame\n",
    "str(employee_data)"
   ]
  },
  {
   "cell_type": "markdown",
   "metadata": {},
   "source": [
    "3. How to Access Components of a Data Frame?\n",
    "____\n",
    "We can use either `[`, `[[`or `$` operator to access columns of data frame."
   ]
  },
  {
   "cell_type": "code",
   "execution_count": 8,
   "metadata": {
    "vscode": {
     "languageId": "r"
    }
   },
   "outputs": [
    {
     "name": "stdout",
     "output_type": "stream",
     "text": [
      "  Name\n",
      "1 John\n",
      "2 Dora\n",
      "[1] \"John\" \"Dora\"\n",
      "[1] \"John\" \"Dora\"\n",
      "[1] \"John\" \"Dora\"\n"
     ]
    }
   ],
   "source": [
    "x <- data.frame(\n",
    "  \"SN\" = 1:2,\n",
    "  \"Age\" = c(21, 15),\n",
    "  \"Name\" = c(\"John\", \"Dora\"),\n",
    "  stringsAsFactors = FALSE\n",
    ")\n",
    "\n",
    "# access the \"Name\" column using different methods\n",
    "print(x[\"Name\"])\n",
    "print(x$Name)\n",
    "print(x[[\"Name\"]])\n",
    "print(x[[3]])"
   ]
  },
  {
   "cell_type": "markdown",
   "metadata": {},
   "source": [
    "After creating the data frame, the code demonstrates four different methods to access the \"Name\" column:\n",
    "\n",
    "1. `x[\"Name\"]`: This method returns a data frame that includes the \"Name\" column.\n",
    "\n",
    "2. `x$Name`: This method returns a vector that contains the values of the \"Name\" column. The $ operator is used to access the variables in the data frame.\n",
    "\n",
    "3. `x[[\"Name\"]]`: This method also returns a vector that contains the values of the \"Name\" column. The double square brackets [[ ]] are used to access the elements of a list or a data frame.\n",
    "\n",
    "4. `x[[3]]`: This method returns a vector that contains the values of the third column in the data frame, which is the \"Name\" column in this case.\n"
   ]
  },
  {
   "cell_type": "markdown",
   "metadata": {},
   "source": [
    "3. Extract data from Data Frame\n",
    "___\n",
    "By using the name of the column, extract a specific column from the column."
   ]
  },
  {
   "cell_type": "code",
   "execution_count": 9,
   "metadata": {
    "vscode": {
     "languageId": "r"
    }
   },
   "outputs": [
    {
     "name": "stdout",
     "output_type": "stream",
     "text": [
      "  employee_data.employee_name employee_data.employee_id\n",
      "1                       James                         1\n",
      "2                       Harry                         2\n",
      "3                      Shinji                         3\n",
      "4                         Jim                         4\n",
      "5                      Oliver                         5\n"
     ]
    }
   ],
   "source": [
    "# extract the employee_name and employee_id columns.\n",
    "output1 <- data.frame(employee_data$employee_name, employee_data$employee_id)\n",
    "\n",
    "print(output1)"
   ]
  },
  {
   "cell_type": "code",
   "execution_count": 10,
   "metadata": {
    "vscode": {
     "languageId": "r"
    }
   },
   "outputs": [
    {
     "name": "stdout",
     "output_type": "stream",
     "text": [
      "  employee_id employee_name   sal  join_date\n",
      "1           1         James 642.3 2013-02-04\n",
      "2           2         Harry 535.2 2017-06-21\n"
     ]
    }
   ],
   "source": [
    "# Extract first two rows of the DataFrame\n",
    "output2 <- employee_data[1:2, ]\n",
    "print(output2)\n"
   ]
  },
  {
   "cell_type": "code",
   "execution_count": 11,
   "metadata": {
    "vscode": {
     "languageId": "r"
    }
   },
   "outputs": [
    {
     "name": "stdout",
     "output_type": "stream",
     "text": [
      "  employee_id employee_name   sal  join_date\n",
      "1           1         James 642.3 2013-02-04\n",
      "2           2         Harry 535.2 2017-06-21\n",
      "3           3        Shinji 681.0 2012-11-14\n"
     ]
    }
   ],
   "source": [
    "# Extract the first three row of the DataFrame\n",
    "output3 <- employee_data[1:3, ]\n",
    "print(output3)"
   ]
  },
  {
   "cell_type": "code",
   "execution_count": 12,
   "metadata": {
    "vscode": {
     "languageId": "r"
    }
   },
   "outputs": [
    {
     "name": "stdout",
     "output_type": "stream",
     "text": [
      "  employee_id employee_name\n",
      "1           1         James\n",
      "2           2         Harry\n",
      "3           3        Shinji\n",
      "4           4           Jim\n",
      "5           5        Oliver\n"
     ]
    }
   ],
   "source": [
    "# Extract the first two columns of the DataFrame\n",
    "output4 <- employee_data[, 1:2]\n",
    "print(output4)"
   ]
  },
  {
   "cell_type": "code",
   "execution_count": 13,
   "metadata": {
    "vscode": {
     "languageId": "r"
    }
   },
   "outputs": [
    {
     "name": "stdout",
     "output_type": "stream",
     "text": [
      "  employee_id employee_name    sal\n",
      "1           1         James 642.30\n",
      "2           2         Harry 535.20\n",
      "3           3        Shinji 681.00\n",
      "4           4           Jim 739.00\n",
      "5           5        Oliver 925.26\n"
     ]
    }
   ],
   "source": [
    "# Extract the first three columns of the DataFrame\n",
    "output5 <- employee_data[, 1:3]\n",
    "print(output5)"
   ]
  },
  {
   "cell_type": "code",
   "execution_count": 14,
   "metadata": {
    "vscode": {
     "languageId": "r"
    }
   },
   "outputs": [
    {
     "name": "stdout",
     "output_type": "stream",
     "text": [
      "  employee_name   sal\n",
      "1         James 642.3\n",
      "2         Harry 535.2\n"
     ]
    }
   ],
   "source": [
    "# Extract 1st and 2nd row with the 2rd and 3rr column of the below data.\n",
    "output6 <- employee_data[1:2, 2:3]\n",
    "print(output6)"
   ]
  },
  {
   "cell_type": "code",
   "execution_count": 37,
   "metadata": {
    "vscode": {
     "languageId": "r"
    }
   },
   "outputs": [
    {
     "name": "stdout",
     "output_type": "stream",
     "text": [
      "  employee_id   sal\n",
      "2           2 535.2\n",
      "3           3 681.0\n"
     ]
    }
   ],
   "source": [
    "# Extract the 2nd and 3rd row with the 1st and 3rd column of the below data.\n",
    "output7 <- employee_data[2:3, c(1, 3)]\n",
    "print(output7)"
   ]
  },
  {
   "cell_type": "markdown",
   "metadata": {},
   "source": [
    "4. Expand R Data Frame\n",
    "____\n",
    "A data frame can be expanded by adding columns and rows.\n"
   ]
  },
  {
   "cell_type": "code",
   "execution_count": 15,
   "metadata": {
    "vscode": {
     "languageId": "r"
    }
   },
   "outputs": [
    {
     "name": "stdout",
     "output_type": "stream",
     "text": [
      "  employee_id employee_name    sal  join_date    dept\n",
      "1           1         James 642.30 2013-02-04      HR\n",
      "2           2         Harry 535.20 2017-06-21 Finance\n",
      "3           3        Shinji 681.00 2012-11-14      IT\n",
      "4           4           Jim 739.00 2018-05-19      IT\n",
      "5           5        Oliver 925.26 2016-03-25 Finance\n"
     ]
    }
   ],
   "source": [
    "# Add Column to DataFrame\n",
    "employee_data$dept <- c(\"HR\", \"Finance\", \"IT\", \"IT\", \"Finance\")\n",
    "employee_data_new <- employee_data\n",
    "print(employee_data_new)"
   ]
  },
  {
   "cell_type": "code",
   "execution_count": 16,
   "metadata": {
    "vscode": {
     "languageId": "r"
    }
   },
   "outputs": [
    {
     "name": "stdout",
     "output_type": "stream",
     "text": [
      "  employee_id employee_name    sal  join_date    dept\n",
      "1           1         James 642.30 2013-02-04      HR\n",
      "2           2         Harry 535.20 2017-06-21 Finance\n",
      "3           3        Shinji 681.00 2012-11-14      IT\n",
      "4           4           Jim 739.00 2018-05-19      IT\n",
      "5           5        Oliver 925.26 2016-03-25 Finance\n",
      "6           6          John 600.00 2014-09-15      HR\n"
     ]
    }
   ],
   "source": [
    "# add a new row to the DataFrame\n",
    "new_row <- data.frame(\n",
    "  employee_id = 6,\n",
    "  employee_name = \"John\",\n",
    "  sal = 600.0,\n",
    "  join_date = as.Date(\"2014-09-15\"),\n",
    "  dept = \"HR\"\n",
    ")\n",
    "\n",
    "# Append the new row to the DataFrame\n",
    "employee_data_new <- rbind(employee_data_new, new_row)\n",
    "\n",
    "# Display the updated DataFrame\n",
    "print(employee_data_new)"
   ]
  },
  {
   "cell_type": "code",
   "execution_count": 17,
   "metadata": {
    "vscode": {
     "languageId": "r"
    }
   },
   "outputs": [],
   "source": [
    "# Create the second R data frame\n",
    "employee_new_data <- data.frame(\n",
    "  employee_id = c(6:8),\n",
    "  employee_name = c(\"Aman\", \"Piyush\", \"Aakash\"),\n",
    "  sal = c(523.0, 721.3, 622.8),\n",
    "  join_date = as.Date(c(\"2015-06-22\", \"2016-04-30\", \"2011-03-17\")),\n",
    "  dept = c(\"HR\", \"Finance\", \"IT\"),\n",
    "  stringsAsFactors = FALSE\n",
    ")"
   ]
  },
  {
   "cell_type": "code",
   "execution_count": 19,
   "metadata": {
    "vscode": {
     "languageId": "r"
    }
   },
   "outputs": [
    {
     "data": {
      "text/html": [
       "<table class=\"dataframe\">\n",
       "<caption>A data.frame: 6 x 5</caption>\n",
       "<thead>\n",
       "\t<tr><th></th><th scope=col>employee_id</th><th scope=col>employee_name</th><th scope=col>sal</th><th scope=col>join_date</th><th scope=col>dept</th></tr>\n",
       "\t<tr><th></th><th scope=col>&lt;dbl&gt;</th><th scope=col>&lt;chr&gt;</th><th scope=col>&lt;dbl&gt;</th><th scope=col>&lt;date&gt;</th><th scope=col>&lt;chr&gt;</th></tr>\n",
       "</thead>\n",
       "<tbody>\n",
       "\t<tr><th scope=row>1</th><td>1</td><td>James </td><td>642.30</td><td>2013-02-04</td><td>HR     </td></tr>\n",
       "\t<tr><th scope=row>2</th><td>2</td><td>Harry </td><td>535.20</td><td>2017-06-21</td><td>Finance</td></tr>\n",
       "\t<tr><th scope=row>3</th><td>3</td><td>Shinji</td><td>681.00</td><td>2012-11-14</td><td>IT     </td></tr>\n",
       "\t<tr><th scope=row>4</th><td>4</td><td>Jim   </td><td>739.00</td><td>2018-05-19</td><td>IT     </td></tr>\n",
       "\t<tr><th scope=row>5</th><td>5</td><td>Oliver</td><td>925.26</td><td>2016-03-25</td><td>Finance</td></tr>\n",
       "\t<tr><th scope=row>6</th><td>6</td><td>John  </td><td>600.00</td><td>2014-09-15</td><td>HR     </td></tr>\n",
       "</tbody>\n",
       "</table>\n"
      ],
      "text/latex": [
       "A data.frame: 6 x 5\n",
       "\\begin{tabular}{r|lllll}\n",
       "  & employee\\_id & employee\\_name & sal & join\\_date & dept\\\\\n",
       "  & <dbl> & <chr> & <dbl> & <date> & <chr>\\\\\n",
       "\\hline\n",
       "\t1 & 1 & James  & 642.30 & 2013-02-04 & HR     \\\\\n",
       "\t2 & 2 & Harry  & 535.20 & 2017-06-21 & Finance\\\\\n",
       "\t3 & 3 & Shinji & 681.00 & 2012-11-14 & IT     \\\\\n",
       "\t4 & 4 & Jim    & 739.00 & 2018-05-19 & IT     \\\\\n",
       "\t5 & 5 & Oliver & 925.26 & 2016-03-25 & Finance\\\\\n",
       "\t6 & 6 & John   & 600.00 & 2014-09-15 & HR     \\\\\n",
       "\\end{tabular}\n"
      ],
      "text/markdown": [
       "\n",
       "A data.frame: 6 x 5\n",
       "\n",
       "| <!--/--> | employee_id &lt;dbl&gt; | employee_name &lt;chr&gt; | sal &lt;dbl&gt; | join_date &lt;date&gt; | dept &lt;chr&gt; |\n",
       "|---|---|---|---|---|---|\n",
       "| 1 | 1 | James  | 642.30 | 2013-02-04 | HR      |\n",
       "| 2 | 2 | Harry  | 535.20 | 2017-06-21 | Finance |\n",
       "| 3 | 3 | Shinji | 681.00 | 2012-11-14 | IT      |\n",
       "| 4 | 4 | Jim    | 739.00 | 2018-05-19 | IT      |\n",
       "| 5 | 5 | Oliver | 925.26 | 2016-03-25 | Finance |\n",
       "| 6 | 6 | John   | 600.00 | 2014-09-15 | HR      |\n",
       "\n"
      ],
      "text/plain": [
       "  employee_id employee_name sal    join_date  dept   \n",
       "1 1           James         642.30 2013-02-04 HR     \n",
       "2 2           Harry         535.20 2017-06-21 Finance\n",
       "3 3           Shinji        681.00 2012-11-14 IT     \n",
       "4 4           Jim           739.00 2018-05-19 IT     \n",
       "5 5           Oliver        925.26 2016-03-25 Finance\n",
       "6 6           John          600.00 2014-09-15 HR     "
      ]
     },
     "metadata": {},
     "output_type": "display_data"
    }
   ],
   "source": [
    "# Append the second data frame to the first data frame\n",
    "update_employee_data <- rbind(employee_data_new, employee_new_data)\n",
    "\n",
    "head(update_employee_data)"
   ]
  },
  {
   "cell_type": "markdown",
   "metadata": {},
   "source": [
    "5. Remove Rows and Columns\n",
    "___\n",
    "Use the `c()` function with negative  to remove rows and columns in a Data Frame:"
   ]
  },
  {
   "cell_type": "code",
   "execution_count": 25,
   "metadata": {
    "vscode": {
     "languageId": "r"
    }
   },
   "outputs": [
    {
     "data": {
      "text/html": [
       "<table class=\"dataframe\">\n",
       "<caption>A data.frame: 2 x 2</caption>\n",
       "<thead>\n",
       "\t<tr><th></th><th scope=col>Pulse</th><th scope=col>Duration</th></tr>\n",
       "\t<tr><th></th><th scope=col>&lt;dbl&gt;</th><th scope=col>&lt;dbl&gt;</th></tr>\n",
       "</thead>\n",
       "<tbody>\n",
       "\t<tr><th scope=row>2</th><td>150</td><td>30</td></tr>\n",
       "\t<tr><th scope=row>3</th><td>120</td><td>45</td></tr>\n",
       "</tbody>\n",
       "</table>\n"
      ],
      "text/latex": [
       "A data.frame: 2 x 2\n",
       "\\begin{tabular}{r|ll}\n",
       "  & Pulse & Duration\\\\\n",
       "  & <dbl> & <dbl>\\\\\n",
       "\\hline\n",
       "\t2 & 150 & 30\\\\\n",
       "\t3 & 120 & 45\\\\\n",
       "\\end{tabular}\n"
      ],
      "text/markdown": [
       "\n",
       "A data.frame: 2 x 2\n",
       "\n",
       "| <!--/--> | Pulse &lt;dbl&gt; | Duration &lt;dbl&gt; |\n",
       "|---|---|---|\n",
       "| 2 | 150 | 30 |\n",
       "| 3 | 120 | 45 |\n",
       "\n"
      ],
      "text/plain": [
       "  Pulse Duration\n",
       "2 150   30      \n",
       "3 120   45      "
      ]
     },
     "metadata": {},
     "output_type": "display_data"
    }
   ],
   "source": [
    "# deleting first row and column from the data frame\n",
    "data <- data.frame(\n",
    "  Training = c(\"Strength\", \"Stamina\", \"Other\"),\n",
    "  Pulse = c(100, 150, 120),\n",
    "  Duration = c(60, 30, 45)\n",
    ")\n",
    "\n",
    "# Remove the first row and column\n",
    "data_update <- data[-c(1), -c(1)]\n",
    "\n",
    "# Print the new data frame\n",
    "data_update"
   ]
  },
  {
   "cell_type": "code",
   "execution_count": 29,
   "metadata": {
    "vscode": {
     "languageId": "r"
    }
   },
   "outputs": [
    {
     "data": {
      "text/html": [
       "<table class=\"dataframe\">\n",
       "<caption>A data.frame: 3 x 5</caption>\n",
       "<thead>\n",
       "\t<tr><th scope=col>employee_id</th><th scope=col>employee_name</th><th scope=col>sal</th><th scope=col>join_date</th><th scope=col>dept</th></tr>\n",
       "\t<tr><th scope=col>&lt;int&gt;</th><th scope=col>&lt;chr&gt;</th><th scope=col>&lt;dbl&gt;</th><th scope=col>&lt;date&gt;</th><th scope=col>&lt;chr&gt;</th></tr>\n",
       "</thead>\n",
       "<tbody>\n",
       "\t<tr><td>6</td><td>Aman  </td><td>523.0</td><td>2015-06-22</td><td>HR     </td></tr>\n",
       "\t<tr><td>7</td><td>Piyush</td><td>721.3</td><td>2016-04-30</td><td>Finance</td></tr>\n",
       "\t<tr><td>8</td><td>Aakash</td><td>622.8</td><td>2011-03-17</td><td>IT     </td></tr>\n",
       "</tbody>\n",
       "</table>\n"
      ],
      "text/latex": [
       "A data.frame: 3 x 5\n",
       "\\begin{tabular}{lllll}\n",
       " employee\\_id & employee\\_name & sal & join\\_date & dept\\\\\n",
       " <int> & <chr> & <dbl> & <date> & <chr>\\\\\n",
       "\\hline\n",
       "\t 6 & Aman   & 523.0 & 2015-06-22 & HR     \\\\\n",
       "\t 7 & Piyush & 721.3 & 2016-04-30 & Finance\\\\\n",
       "\t 8 & Aakash & 622.8 & 2011-03-17 & IT     \\\\\n",
       "\\end{tabular}\n"
      ],
      "text/markdown": [
       "\n",
       "A data.frame: 3 x 5\n",
       "\n",
       "| employee_id &lt;int&gt; | employee_name &lt;chr&gt; | sal &lt;dbl&gt; | join_date &lt;date&gt; | dept &lt;chr&gt; |\n",
       "|---|---|---|---|---|\n",
       "| 6 | Aman   | 523.0 | 2015-06-22 | HR      |\n",
       "| 7 | Piyush | 721.3 | 2016-04-30 | Finance |\n",
       "| 8 | Aakash | 622.8 | 2011-03-17 | IT      |\n",
       "\n"
      ],
      "text/plain": [
       "  employee_id employee_name sal   join_date  dept   \n",
       "1 6           Aman          523.0 2015-06-22 HR     \n",
       "2 7           Piyush        721.3 2016-04-30 Finance\n",
       "3 8           Aakash        622.8 2011-03-17 IT     "
      ]
     },
     "metadata": {},
     "output_type": "display_data"
    }
   ],
   "source": [
    "# Deleting third row and second column from the data frame\n",
    "# Create the second R data frame\n",
    "employee_data <- data.frame(\n",
    "  employee_id = c(6:8),\n",
    "  employee_name = c(\"Aman\", \"Piyush\", \"Aakash\"),\n",
    "  sal = c(523.0, 721.3, 622.8),\n",
    "  join_date = as.Date(c(\"2015-06-22\", \"2016-04-30\", \"2011-03-17\")),\n",
    "  dept = c(\"HR\", \"Finance\", \"IT\"),\n",
    "  stringsAsFactors = FALSE\n",
    ")\n",
    "\n",
    "employee_data\n",
    "\n",
    "# Remove the third row and second column"
   ]
  },
  {
   "cell_type": "code",
   "execution_count": 32,
   "metadata": {
    "vscode": {
     "languageId": "r"
    }
   },
   "outputs": [
    {
     "data": {
      "text/html": [
       "<table class=\"dataframe\">\n",
       "<caption>A data.frame: 2 x 5</caption>\n",
       "<thead>\n",
       "\t<tr><th></th><th scope=col>employee_id</th><th scope=col>employee_name</th><th scope=col>sal</th><th scope=col>join_date</th><th scope=col>dept</th></tr>\n",
       "\t<tr><th></th><th scope=col>&lt;int&gt;</th><th scope=col>&lt;chr&gt;</th><th scope=col>&lt;dbl&gt;</th><th scope=col>&lt;date&gt;</th><th scope=col>&lt;chr&gt;</th></tr>\n",
       "</thead>\n",
       "<tbody>\n",
       "\t<tr><th scope=row>1</th><td>6</td><td>Aman  </td><td>523.0</td><td>2015-06-22</td><td>HR     </td></tr>\n",
       "\t<tr><th scope=row>2</th><td>7</td><td>Piyush</td><td>721.3</td><td>2016-04-30</td><td>Finance</td></tr>\n",
       "</tbody>\n",
       "</table>\n"
      ],
      "text/latex": [
       "A data.frame: 2 x 5\n",
       "\\begin{tabular}{r|lllll}\n",
       "  & employee\\_id & employee\\_name & sal & join\\_date & dept\\\\\n",
       "  & <int> & <chr> & <dbl> & <date> & <chr>\\\\\n",
       "\\hline\n",
       "\t1 & 6 & Aman   & 523.0 & 2015-06-22 & HR     \\\\\n",
       "\t2 & 7 & Piyush & 721.3 & 2016-04-30 & Finance\\\\\n",
       "\\end{tabular}\n"
      ],
      "text/markdown": [
       "\n",
       "A data.frame: 2 x 5\n",
       "\n",
       "| <!--/--> | employee_id &lt;int&gt; | employee_name &lt;chr&gt; | sal &lt;dbl&gt; | join_date &lt;date&gt; | dept &lt;chr&gt; |\n",
       "|---|---|---|---|---|---|\n",
       "| 1 | 6 | Aman   | 523.0 | 2015-06-22 | HR      |\n",
       "| 2 | 7 | Piyush | 721.3 | 2016-04-30 | Finance |\n",
       "\n"
      ],
      "text/plain": [
       "  employee_id employee_name sal   join_date  dept   \n",
       "1 6           Aman          523.0 2015-06-22 HR     \n",
       "2 7           Piyush        721.3 2016-04-30 Finance"
      ]
     },
     "metadata": {},
     "output_type": "display_data"
    }
   ],
   "source": [
    "# Delete the third row\n",
    "employee_data_update <- employee_data[-c(3), ]\n",
    "\n",
    "# calling the data frame\n",
    "employee_data_update"
   ]
  },
  {
   "cell_type": "markdown",
   "metadata": {},
   "source": [
    "### Accessing R DataFrame like a matrix\n",
    "___"
   ]
  },
  {
   "cell_type": "markdown",
   "metadata": {},
   "source": [
    "Data frames can be accessed like a matrix by providing indexes for row and column.\n",
    "\n",
    "To illustrate this, we use datasets already available in R. Datasets that are available can be listed with the command `library(help = \"datasets\")` or `data()`"
   ]
  },
  {
   "cell_type": "code",
   "execution_count": 65,
   "metadata": {
    "vscode": {
     "languageId": "r"
    }
   },
   "outputs": [
    {
     "name": "stdout",
     "output_type": "stream",
     "text": [
      "Data sets in package 'datasets':\n",
      "\n",
      "AirPassengers           Monthly Airline Passenger Numbers 1949-1960\n",
      "BJsales                 Sales Data with Leading Indicator\n",
      "BJsales.lead (BJsales)\n",
      "                        Sales Data with Leading Indicator\n",
      "BOD                     Biochemical Oxygen Demand\n",
      "CO2                     Carbon Dioxide Uptake in Grass Plants\n",
      "ChickWeight             Weight versus age of chicks on different diets\n",
      "DNase                   Elisa assay of DNase\n",
      "EuStockMarkets          Daily Closing Prices of Major European Stock\n",
      "                        Indices, 1991-1998\n",
      "Formaldehyde            Determination of Formaldehyde\n",
      "HairEyeColor            Hair and Eye Color of Statistics Students\n",
      "Harman23.cor            Harman Example 2.3\n",
      "Harman74.cor            Harman Example 7.4\n",
      "Indometh                Pharmacokinetics of Indomethacin\n",
      "InsectSprays            Effectiveness of Insect Sprays\n",
      "JohnsonJohnson          Quarterly Earnings per Johnson & Johnson Share\n",
      "LakeHuron               Level of Lake Huron 1875-1972\n",
      "LifeCycleSavings        Intercountry Life-Cycle Savings Data\n",
      "Loblolly                Growth of Loblolly pine trees\n",
      "Nile                    Flow of the River Nile\n",
      "Orange                  Growth of Orange Trees\n",
      "OrchardSprays           Potency of Orchard Sprays\n",
      "PlantGrowth             Results from an Experiment on Plant Growth\n",
      "Puromycin               Reaction Velocity of an Enzymatic Reaction\n",
      "Seatbelts               Road Casualties in Great Britain 1969-84\n",
      "Theoph                  Pharmacokinetics of Theophylline\n",
      "Titanic                 Survival of passengers on the Titanic\n",
      "ToothGrowth             The Effect of Vitamin C on Tooth Growth in\n",
      "                        Guinea Pigs\n",
      "UCBAdmissions           Student Admissions at UC Berkeley\n",
      "UKDriverDeaths          Road Casualties in Great Britain 1969-84\n",
      "UKgas                   UK Quarterly Gas Consumption\n",
      "USAccDeaths             Accidental Deaths in the US 1973-1978\n",
      "USArrests               Violent Crime Rates by US State\n",
      "USJudgeRatings          Lawyers' Ratings of State Judges in the US\n",
      "                        Superior Court\n",
      "USPersonalExpenditure   Personal Expenditure Data\n",
      "UScitiesD               Distances Between European Cities and Between\n",
      "                        US Cities\n",
      "VADeaths                Death Rates in Virginia (1940)\n",
      "WWWusage                Internet Usage per Minute\n",
      "WorldPhones             The World's Telephones\n",
      "ability.cov             Ability and Intelligence Tests\n",
      "airmiles                Passenger Miles on Commercial US Airlines,\n",
      "                        1937-1960\n",
      "airquality              New York Air Quality Measurements\n",
      "anscombe                Anscombe's Quartet of 'Identical' Simple Linear\n",
      "                        Regressions\n",
      "attenu                  The Joyner-Boore Attenuation Data\n",
      "attitude                The Chatterjee-Price Attitude Data\n",
      "austres                 Quarterly Time Series of the Number of\n",
      "                        Australian Residents\n",
      "beaver1 (beavers)       Body Temperature Series of Two Beavers\n",
      "beaver2 (beavers)       Body Temperature Series of Two Beavers\n",
      "cars                    Speed and Stopping Distances of Cars\n",
      "chickwts                Chicken Weights by Feed Type\n",
      "co2                     Mauna Loa Atmospheric CO2 Concentration\n",
      "crimtab                 Student's 3000 Criminals Data\n",
      "discoveries             Yearly Numbers of Important Discoveries\n",
      "esoph                   Smoking, Alcohol and (O)esophageal Cancer\n",
      "euro                    Conversion Rates of Euro Currencies\n",
      "euro.cross (euro)       Conversion Rates of Euro Currencies\n",
      "eurodist                Distances Between European Cities and Between\n",
      "                        US Cities\n",
      "faithful                Old Faithful Geyser Data\n",
      "fdeaths (UKLungDeaths)\n",
      "                        Monthly Deaths from Lung Diseases in the UK\n",
      "freeny                  Freeny's Revenue Data\n",
      "freeny.x (freeny)       Freeny's Revenue Data\n",
      "freeny.y (freeny)       Freeny's Revenue Data\n",
      "infert                  Infertility after Spontaneous and Induced\n",
      "                        Abortion\n",
      "iris                    Edgar Anderson's Iris Data\n",
      "iris3                   Edgar Anderson's Iris Data\n",
      "islands                 Areas of the World's Major Landmasses\n",
      "ldeaths (UKLungDeaths)\n",
      "                        Monthly Deaths from Lung Diseases in the UK\n",
      "lh                      Luteinizing Hormone in Blood Samples\n",
      "longley                 Longley's Economic Regression Data\n",
      "lynx                    Annual Canadian Lynx trappings 1821-1934\n",
      "mdeaths (UKLungDeaths)\n",
      "                        Monthly Deaths from Lung Diseases in the UK\n",
      "morley                  Michelson Speed of Light Data\n",
      "mtcars                  Motor Trend Car Road Tests\n",
      "nhtemp                  Average Yearly Temperatures in New Haven\n",
      "nottem                  Average Monthly Temperatures at Nottingham,\n",
      "                        1920-1939\n",
      "npk                     Classical N, P, K Factorial Experiment\n",
      "occupationalStatus      Occupational Status of Fathers and their Sons\n",
      "precip                  Annual Precipitation in US Cities\n",
      "presidents              Quarterly Approval Ratings of US Presidents\n",
      "pressure                Vapor Pressure of Mercury as a Function of\n",
      "                        Temperature\n",
      "quakes                  Locations of Earthquakes off Fiji\n",
      "randu                   Random Numbers from Congruential Generator\n",
      "                        RANDU\n",
      "rivers                  Lengths of Major North American Rivers\n",
      "rock                    Measurements on Petroleum Rock Samples\n",
      "sleep                   Student's Sleep Data\n",
      "stack.loss (stackloss)\n",
      "                        Brownlee's Stack Loss Plant Data\n",
      "stack.x (stackloss)     Brownlee's Stack Loss Plant Data\n",
      "stackloss               Brownlee's Stack Loss Plant Data\n",
      "state.abb (state)       US State Facts and Figures\n",
      "state.area (state)      US State Facts and Figures\n",
      "state.center (state)    US State Facts and Figures\n",
      "state.division (state)\n",
      "                        US State Facts and Figures\n",
      "state.name (state)      US State Facts and Figures\n",
      "state.region (state)    US State Facts and Figures\n",
      "state.x77 (state)       US State Facts and Figures\n",
      "sunspot.month           Monthly Sunspot Data, from 1749 to \"Present\"\n",
      "sunspot.year            Yearly Sunspot Data, 1700-1988\n",
      "sunspots                Monthly Sunspot Numbers, 1749-1983\n",
      "swiss                   Swiss Fertility and Socioeconomic Indicators\n",
      "                        (1888) Data\n",
      "treering                Yearly Treering Data, -6000-1979\n",
      "trees                   Diameter, Height and Volume for Black Cherry\n",
      "                        Trees\n",
      "uspop                   Populations Recorded by the US Census\n",
      "volcano                 Topographic Information on Auckland's Maunga\n",
      "                        Whau Volcano\n",
      "warpbreaks              The Number of Breaks in Yarn during Weaving\n",
      "women                   Average Heights and Weights for American Women\n",
      "\n",
      "Use 'data(package = .packages(all.available = TRUE))'\n",
      "to list the data sets in all *available* packages."
     ]
    }
   ],
   "source": [
    "data()"
   ]
  },
  {
   "cell_type": "markdown",
   "metadata": {},
   "source": [
    "___"
   ]
  },
  {
   "cell_type": "markdown",
   "metadata": {},
   "source": [
    "There are two main ways to access already available datasets in R:\n",
    "\n",
    "1. Built-in Datasets:\n",
    "\n",
    "R comes with a collection of built-in datasets that you can access directly using the `data()` function. These datasets cover various domains and can be a good starting point for learning data analysis techniques.\n",
    "\n",
    "Here's how to access them:\n",
    "\n",
    "* List available datasets: Type `data()` at the R prompt. This will display a list of all the built-in datasets available in your R installation.\n",
    "\n",
    "* Load a specific dataset: Use the `data(\"dataset_name\")` function, replacing `\"dataset_name\"` with the actual name of the dataset you want to load. For example, `data(mtcars)` will load the famous `\"mtcars\"` dataset containing car mileage information.\n",
    "\n",
    "2. External Datasets:\n",
    "\n",
    "Many datasets are available online from various sources like government agencies, research institutions, and public repositories. To access these datasets, you'll typically need to download them in a format compatible with R (e.g., CSV, Excel) and then use specific functions to read them into your R environment.\n",
    "\n",
    "Here's a general approach for using external datasets:\n",
    "\n",
    "* Download the dataset: Locate and download the dataset you're interested in from a reliable source.\n",
    "\n",
    "* Identify the format: Check the downloaded file format (e.g., CSV, Excel (.xlsx), tab-delimited (.txt)).\n",
    "\n",
    "* Use appropriate read function: Depending on the format, you can use functions like:\n",
    "\n",
    "`read.csv()`: For comma-separated values (CSV) files.  \n",
    "\n",
    "`read.table()`: For tab-delimited text files.  \n",
    "\n",
    "`read.xlsx()`: For Excel files (requires additional packages like readxl).  \n",
    "\n",
    "`Load the data`: Use the chosen function, specifying the file path and any necessary arguments like delimiter (for CSV) or  \n",
    "\n",
    "`header row information`. For example, my_data <- read.csv(\"my_data.csv\") would read the \"my_data.csv\" file.  \n",
    "\n",
    "By following these approaches, you can leverage both built-in and external datasets for your data analysis tasks in R.\n",
    "____"
   ]
  },
  {
   "cell_type": "markdown",
   "metadata": {},
   "source": [
    "We will use the trees dataset which contains `Girth`, `Height` and `Volume` for Black Cherry Trees.\n",
    "\n",
    "A data frame can be examined using functions like `str()` and `head()`."
   ]
  },
  {
   "cell_type": "code",
   "execution_count": 13,
   "metadata": {
    "vscode": {
     "languageId": "r"
    }
   },
   "outputs": [
    {
     "name": "stdout",
     "output_type": "stream",
     "text": [
      "'data.frame':\t10 obs. of  3 variables:\n",
      " $ Girth : num  8.3 8.6 8.8 10.5 10.7 10.8 11 11 11.1 11.2\n",
      " $ Height: num  70 65 63 72 81 83 66 75 80 75\n",
      " $ Volume: num  10.3 10.3 10.2 16.4 18.8 19.7 15.6 18.2 22.6 19.9\n"
     ]
    },
    {
     "data": {
      "text/html": [
       "<table class=\"dataframe\">\n",
       "<caption>A data.frame: 10 x 3</caption>\n",
       "<thead>\n",
       "\t<tr><th></th><th scope=col>Girth</th><th scope=col>Height</th><th scope=col>Volume</th></tr>\n",
       "\t<tr><th></th><th scope=col>&lt;dbl&gt;</th><th scope=col>&lt;dbl&gt;</th><th scope=col>&lt;dbl&gt;</th></tr>\n",
       "</thead>\n",
       "<tbody>\n",
       "\t<tr><th scope=row>1</th><td> 8.3</td><td>70</td><td>10.3</td></tr>\n",
       "\t<tr><th scope=row>2</th><td> 8.6</td><td>65</td><td>10.3</td></tr>\n",
       "\t<tr><th scope=row>3</th><td> 8.8</td><td>63</td><td>10.2</td></tr>\n",
       "\t<tr><th scope=row>4</th><td>10.5</td><td>72</td><td>16.4</td></tr>\n",
       "\t<tr><th scope=row>5</th><td>10.7</td><td>81</td><td>18.8</td></tr>\n",
       "\t<tr><th scope=row>6</th><td>10.8</td><td>83</td><td>19.7</td></tr>\n",
       "\t<tr><th scope=row>7</th><td>11.0</td><td>66</td><td>15.6</td></tr>\n",
       "\t<tr><th scope=row>8</th><td>11.0</td><td>75</td><td>18.2</td></tr>\n",
       "\t<tr><th scope=row>9</th><td>11.1</td><td>80</td><td>22.6</td></tr>\n",
       "\t<tr><th scope=row>10</th><td>11.2</td><td>75</td><td>19.9</td></tr>\n",
       "</tbody>\n",
       "</table>\n"
      ],
      "text/latex": [
       "A data.frame: 10 x 3\n",
       "\\begin{tabular}{r|lll}\n",
       "  & Girth & Height & Volume\\\\\n",
       "  & <dbl> & <dbl> & <dbl>\\\\\n",
       "\\hline\n",
       "\t1 &  8.3 & 70 & 10.3\\\\\n",
       "\t2 &  8.6 & 65 & 10.3\\\\\n",
       "\t3 &  8.8 & 63 & 10.2\\\\\n",
       "\t4 & 10.5 & 72 & 16.4\\\\\n",
       "\t5 & 10.7 & 81 & 18.8\\\\\n",
       "\t6 & 10.8 & 83 & 19.7\\\\\n",
       "\t7 & 11.0 & 66 & 15.6\\\\\n",
       "\t8 & 11.0 & 75 & 18.2\\\\\n",
       "\t9 & 11.1 & 80 & 22.6\\\\\n",
       "\t10 & 11.2 & 75 & 19.9\\\\\n",
       "\\end{tabular}\n"
      ],
      "text/markdown": [
       "\n",
       "A data.frame: 10 x 3\n",
       "\n",
       "| <!--/--> | Girth &lt;dbl&gt; | Height &lt;dbl&gt; | Volume &lt;dbl&gt; |\n",
       "|---|---|---|---|\n",
       "| 1 |  8.3 | 70 | 10.3 |\n",
       "| 2 |  8.6 | 65 | 10.3 |\n",
       "| 3 |  8.8 | 63 | 10.2 |\n",
       "| 4 | 10.5 | 72 | 16.4 |\n",
       "| 5 | 10.7 | 81 | 18.8 |\n",
       "| 6 | 10.8 | 83 | 19.7 |\n",
       "| 7 | 11.0 | 66 | 15.6 |\n",
       "| 8 | 11.0 | 75 | 18.2 |\n",
       "| 9 | 11.1 | 80 | 22.6 |\n",
       "| 10 | 11.2 | 75 | 19.9 |\n",
       "\n"
      ],
      "text/plain": [
       "   Girth Height Volume\n",
       "1   8.3  70     10.3  \n",
       "2   8.6  65     10.3  \n",
       "3   8.8  63     10.2  \n",
       "4  10.5  72     16.4  \n",
       "5  10.7  81     18.8  \n",
       "6  10.8  83     19.7  \n",
       "7  11.0  66     15.6  \n",
       "8  11.0  75     18.2  \n",
       "9  11.1  80     22.6  \n",
       "10 11.2  75     19.9  "
      ]
     },
     "metadata": {},
     "output_type": "display_data"
    }
   ],
   "source": [
    "# Accessing the inbuilt data frame trees\n",
    "trees <- data.frame(\n",
    "  Girth = c(8.3, 8.6, 8.8, 10.5, 10.7, 10.8, 11, 11, 11.1, 11.2),\n",
    "  Height = c(70, 65, 63, 72, 81, 83, 66, 75, 80, 75),\n",
    "  Volume = c(10.3, 10.3, 10.2, 16.4, 18.8, 19.7, 15.6, 18.2, 22.6, 19.9)\n",
    ")\n",
    "\n",
    "# print the structure of trees\n",
    "str(trees)\n",
    "\n",
    "# display the first 3 rows of trees\n",
    "head(trees, n = 10)"
   ]
  },
  {
   "cell_type": "markdown",
   "metadata": {},
   "source": [
    "We can see that trees are a data frame with 10 rows and 3 columns. We also display the total 10 rows (n = 10) of the data frame.\n",
    "\n",
    "Now we proceed to access the data frame like a matrix."
   ]
  },
  {
   "cell_type": "code",
   "execution_count": 14,
   "metadata": {
    "vscode": {
     "languageId": "r"
    }
   },
   "outputs": [
    {
     "data": {
      "text/html": [
       "<table class=\"dataframe\">\n",
       "<caption>A data.frame: 2 x 3</caption>\n",
       "<thead>\n",
       "\t<tr><th></th><th scope=col>Girth</th><th scope=col>Height</th><th scope=col>Volume</th></tr>\n",
       "\t<tr><th></th><th scope=col>&lt;dbl&gt;</th><th scope=col>&lt;dbl&gt;</th><th scope=col>&lt;dbl&gt;</th></tr>\n",
       "</thead>\n",
       "<tbody>\n",
       "\t<tr><th scope=row>2</th><td>8.6</td><td>65</td><td>10.3</td></tr>\n",
       "\t<tr><th scope=row>3</th><td>8.8</td><td>63</td><td>10.2</td></tr>\n",
       "</tbody>\n",
       "</table>\n"
      ],
      "text/latex": [
       "A data.frame: 2 x 3\n",
       "\\begin{tabular}{r|lll}\n",
       "  & Girth & Height & Volume\\\\\n",
       "  & <dbl> & <dbl> & <dbl>\\\\\n",
       "\\hline\n",
       "\t2 & 8.6 & 65 & 10.3\\\\\n",
       "\t3 & 8.8 & 63 & 10.2\\\\\n",
       "\\end{tabular}\n"
      ],
      "text/markdown": [
       "\n",
       "A data.frame: 2 x 3\n",
       "\n",
       "| <!--/--> | Girth &lt;dbl&gt; | Height &lt;dbl&gt; | Volume &lt;dbl&gt; |\n",
       "|---|---|---|---|\n",
       "| 2 | 8.6 | 65 | 10.3 |\n",
       "| 3 | 8.8 | 63 | 10.2 |\n",
       "\n"
      ],
      "text/plain": [
       "  Girth Height Volume\n",
       "2 8.6   65     10.3  \n",
       "3 8.8   63     10.2  "
      ]
     },
     "metadata": {},
     "output_type": "display_data"
    },
    {
     "data": {
      "text/html": [
       "<table class=\"dataframe\">\n",
       "<caption>A data.frame: 1 x 3</caption>\n",
       "<thead>\n",
       "\t<tr><th></th><th scope=col>Girth</th><th scope=col>Height</th><th scope=col>Volume</th></tr>\n",
       "\t<tr><th></th><th scope=col>&lt;dbl&gt;</th><th scope=col>&lt;dbl&gt;</th><th scope=col>&lt;dbl&gt;</th></tr>\n",
       "</thead>\n",
       "<tbody>\n",
       "\t<tr><th scope=row>6</th><td>10.8</td><td>83</td><td>19.7</td></tr>\n",
       "</tbody>\n",
       "</table>\n"
      ],
      "text/latex": [
       "A data.frame: 1 x 3\n",
       "\\begin{tabular}{r|lll}\n",
       "  & Girth & Height & Volume\\\\\n",
       "  & <dbl> & <dbl> & <dbl>\\\\\n",
       "\\hline\n",
       "\t6 & 10.8 & 83 & 19.7\\\\\n",
       "\\end{tabular}\n"
      ],
      "text/markdown": [
       "\n",
       "A data.frame: 1 x 3\n",
       "\n",
       "| <!--/--> | Girth &lt;dbl&gt; | Height &lt;dbl&gt; | Volume &lt;dbl&gt; |\n",
       "|---|---|---|---|\n",
       "| 6 | 10.8 | 83 | 19.7 |\n",
       "\n"
      ],
      "text/plain": [
       "  Girth Height Volume\n",
       "6 10.8  83     19.7  "
      ]
     },
     "metadata": {},
     "output_type": "display_data"
    },
    {
     "data": {
      "text/html": [
       "<style>\n",
       ".list-inline {list-style: none; margin:0; padding: 0}\n",
       ".list-inline>li {display: inline-block}\n",
       ".list-inline>li:not(:last-child)::after {content: \"\\00b7\"; padding: 0 .5ex}\n",
       "</style>\n",
       "<ol class=list-inline><li>75</li><li>&lt;NA&gt;</li><li>&lt;NA&gt;</li></ol>\n"
      ],
      "text/latex": [
       "\\begin{enumerate*}\n",
       "\\item 75\n",
       "\\item <NA>\n",
       "\\item <NA>\n",
       "\\end{enumerate*}\n"
      ],
      "text/markdown": [
       "1. 75\n",
       "2. &lt;NA&gt;\n",
       "3. &lt;NA&gt;\n",
       "\n",
       "\n"
      ],
      "text/plain": [
       "[1] 75 NA NA"
      ]
     },
     "metadata": {},
     "output_type": "display_data"
    }
   ],
   "source": [
    "trees <- data.frame(\n",
    "  Girth = c(8.3, 8.6, 8.8, 10.5, 10.7, 10.8, 11, 11, 11.1, 11.2),\n",
    "  Height = c(70, 65, 63, 72, 81, 83, 66, 75, 80, 75),\n",
    "  Volume = c(10.3, 10.3, 10.2, 16.4, 18.8, 19.7, 15.6, 18.2, 22.6, 19.9)\n",
    ")\n",
    "\n",
    "# select rows 2 and 3 of trees\n",
    "trees[2:3, ]\n",
    "\n",
    "# select rows with Height greater than 82\n",
    "trees[trees$Height > 82, ]\n",
    "\n",
    "# select the Height column of rows 10 to 12\n",
    "trees[10:12, \"Height\"]"
   ]
  },
  {
   "cell_type": "markdown",
   "metadata": {},
   "source": [
    "### How to modify a Data Frame in R?\n",
    "___"
   ]
  },
  {
   "cell_type": "markdown",
   "metadata": {},
   "source": [
    "Data frames can be modified like we modified matrices through reassignment."
   ]
  },
  {
   "cell_type": "code",
   "execution_count": 20,
   "metadata": {
    "vscode": {
     "languageId": "r"
    }
   },
   "outputs": [
    {
     "name": "stdout",
     "output_type": "stream",
     "text": [
      "  SN Age Name\n",
      "1  1  21 John\n",
      "2  2  15 Dora\n",
      "  SN Age Name\n",
      "1  1  20 John\n",
      "2  2  15 Dora\n"
     ]
    }
   ],
   "source": [
    "x <- data.frame(\n",
    "  SN = c(1, 2),\n",
    "  Age = c(21, 15),\n",
    "  Name = c(\"John\", \"Dora\")\n",
    ")\n",
    "\n",
    "# print the initial data frame\n",
    "print(x)\n",
    "\n",
    "# update the Age value in the first row to 20\n",
    "x[1, \"Age\"] <- 20\n",
    "\n",
    "# print the updated data frame\n",
    "print(x)"
   ]
  },
  {
   "cell_type": "code",
   "execution_count": 21,
   "metadata": {
    "vscode": {
     "languageId": "r"
    }
   },
   "outputs": [
    {
     "name": "stdout",
     "output_type": "stream",
     "text": [
      "  SN Age Name\n",
      "1  1  20 John\n",
      "2  2  15 Dora\n",
      "  SN Age Name\n",
      "1  1  20 John\n",
      "2  2  15 Dora\n",
      "3  1  16 Paul\n"
     ]
    }
   ],
   "source": [
    "# Rows can be added to a data frame using the rbind() function.\n",
    "\n",
    "x <- data.frame(\n",
    "  SN = c(1, 2),\n",
    "  Age = c(20, 15),\n",
    "  Name = c(\"John\", \"Dora\")\n",
    ")\n",
    "\n",
    "# print the initial data frame\n",
    "print(x)\n",
    "\n",
    "# create a new row and bind it to the data frame\n",
    "new_row <- list(SN = 1, Age = 16, Name = \"Paul\")\n",
    "x <- rbind(x, new_row)\n",
    "\n",
    "# print the updated data frame\n",
    "print(x)"
   ]
  },
  {
   "cell_type": "code",
   "execution_count": 22,
   "metadata": {
    "vscode": {
     "languageId": "r"
    }
   },
   "outputs": [
    {
     "name": "stdout",
     "output_type": "stream",
     "text": [
      "  SN Age Name\n",
      "1  1  20 John\n",
      "2  2  15 Dora\n",
      "  SN Age Name State\n",
      "1  1  20 John    NY\n",
      "2  2  15 Dora    FL\n"
     ]
    }
   ],
   "source": [
    "# Similarly, we can add columns using cbind().\n",
    "x <- data.frame(\n",
    "  SN = c(1, 2),\n",
    "  Age = c(20, 15),\n",
    "  Name = c(\"John\", \"Dora\")\n",
    ")\n",
    "\n",
    "# print the initial data frame\n",
    "print(x)\n",
    "\n",
    "# add a new column \"State\" to the data frame using cbind()\n",
    "x <- cbind(x, State = c(\"NY\", \"FL\"))\n",
    "\n",
    "# print the updated data frame\n",
    "print(x)"
   ]
  },
  {
   "cell_type": "markdown",
   "metadata": {},
   "source": [
    "### Deleting Component of Data Frame\n",
    "___"
   ]
  },
  {
   "cell_type": "markdown",
   "metadata": {},
   "source": [
    "Data frame columns can be deleted by assigning `NULL` to it."
   ]
  },
  {
   "cell_type": "code",
   "execution_count": 23,
   "metadata": {
    "vscode": {
     "languageId": "r"
    }
   },
   "outputs": [
    {
     "name": "stdout",
     "output_type": "stream",
     "text": [
      "  SN Age Name State\n",
      "1  1  20 John    NY\n",
      "2  2  15 Dora    FL\n",
      "  SN Age Name\n",
      "1  1  20 John\n",
      "2  2  15 Dora\n"
     ]
    }
   ],
   "source": [
    "x <- data.frame(\n",
    "  SN = c(1, 2),\n",
    "  Age = c(20, 15),\n",
    "  Name = c(\"John\", \"Dora\"),\n",
    "  State = c(\"NY\", \"FL\")\n",
    ")\n",
    "\n",
    "# print the initial data frame\n",
    "print(x)\n",
    "\n",
    "# remove the \"State\" column from the data frame\n",
    "x$State <- NULL\n",
    "\n",
    "# print the updated data frame\n",
    "print(x)"
   ]
  },
  {
   "cell_type": "markdown",
   "metadata": {},
   "source": [
    "### Remove Rows and Columns"
   ]
  },
  {
   "cell_type": "markdown",
   "metadata": {},
   "source": [
    "Use the`c()` function to remove rows and columns in a Data Frame:"
   ]
  },
  {
   "cell_type": "code",
   "execution_count": 1,
   "metadata": {
    "vscode": {
     "languageId": "r"
    }
   },
   "outputs": [
    {
     "data": {
      "text/html": [
       "<table class=\"dataframe\">\n",
       "<caption>A data.frame: 2 x 2</caption>\n",
       "<thead>\n",
       "\t<tr><th></th><th scope=col>Pulse</th><th scope=col>Duration</th></tr>\n",
       "\t<tr><th></th><th scope=col>&lt;dbl&gt;</th><th scope=col>&lt;dbl&gt;</th></tr>\n",
       "</thead>\n",
       "<tbody>\n",
       "\t<tr><th scope=row>2</th><td>150</td><td>30</td></tr>\n",
       "\t<tr><th scope=row>3</th><td>120</td><td>45</td></tr>\n",
       "</tbody>\n",
       "</table>\n"
      ],
      "text/latex": [
       "A data.frame: 2 x 2\n",
       "\\begin{tabular}{r|ll}\n",
       "  & Pulse & Duration\\\\\n",
       "  & <dbl> & <dbl>\\\\\n",
       "\\hline\n",
       "\t2 & 150 & 30\\\\\n",
       "\t3 & 120 & 45\\\\\n",
       "\\end{tabular}\n"
      ],
      "text/markdown": [
       "\n",
       "A data.frame: 2 x 2\n",
       "\n",
       "| <!--/--> | Pulse &lt;dbl&gt; | Duration &lt;dbl&gt; |\n",
       "|---|---|---|\n",
       "| 2 | 150 | 30 |\n",
       "| 3 | 120 | 45 |\n",
       "\n"
      ],
      "text/plain": [
       "  Pulse Duration\n",
       "2 150   30      \n",
       "3 120   45      "
      ]
     },
     "metadata": {},
     "output_type": "display_data"
    }
   ],
   "source": [
    "Data_Frame <- data.frame (\n",
    "  Training = c(\"Strength\", \"Stamina\", \"Other\"),\n",
    "  Pulse = c(100, 150, 120),\n",
    "  Duration = c(60, 30, 45)\n",
    ")\n",
    "\n",
    "# Remove the first row and column\n",
    "Data_Frame_New <- Data_Frame[-c(1), -c(1)]\n",
    "\n",
    "# Print the new data frame\n",
    "Data_Frame_New"
   ]
  }
 ],
 "metadata": {
  "kernelspec": {
   "display_name": "R",
   "language": "R",
   "name": "ir"
  },
  "language_info": {
   "codemirror_mode": "r",
   "file_extension": ".r",
   "mimetype": "text/x-r-source",
   "name": "R",
   "pygments_lexer": "r",
   "version": "4.3.0"
  }
 },
 "nbformat": 4,
 "nbformat_minor": 2
}
