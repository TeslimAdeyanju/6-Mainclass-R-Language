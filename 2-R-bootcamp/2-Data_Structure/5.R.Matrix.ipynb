{
 "cells": [
  {
   "cell_type": "markdown",
   "metadata": {
    "vscode": {
     "languageId": "r"
    }
   },
   "source": [
    "# MATRIX"
   ]
  },
  {
   "cell_type": "markdown",
   "metadata": {},
   "source": [
    "### Introduction \n",
    "___"
   ]
  },
  {
   "cell_type": "markdown",
   "metadata": {},
   "source": [
    "In R, a matrix is a fundamental data structure that represents a two-dimensional rectangular arrangement of elements. It's similar to a spreadsheet with rows and columns, where each element at a specific location (row and column) is called an entry. Matrices are often used for storing and manipulating numerical data, but they can also hold characters or logical values."
   ]
  },
  {
   "cell_type": "markdown",
   "metadata": {},
   "source": [
    "### How to Create Matrix in R?\n",
    "___"
   ]
  },
  {
   "cell_type": "markdown",
   "metadata": {},
   "source": [
    "\n",
    "There are 3 primary ways to create matrices in R:\n",
    "\n",
    "1. **Using the matrix() function:**\n",
    "___\n",
    "\n",
    "The syntax is thus: \n",
    "\n",
    "``` R\n",
    "my_matrix <- matrix(data, nrow, ncol, byrow = TRUE, dimnames = list(row_names, col_names))\n",
    "\n",
    "```\n",
    "\n",
    "This is the most common approach. The `matrix()` function takes several arguments:\n",
    "\n",
    "- data:This is the input vector. This can also include a list or an expression.\n",
    "\n",
    "- nrow: The number of rows in the matrix (required).\n",
    "\n",
    "- ncol: The number of columns in the matrix (required).\n",
    "\n",
    "- byrow (optional): a logical value indicating whether the matrix should be filled by rows (TRUE) or by columns (FALSE). The default is FALSE.\n",
    "\n",
    "- dimnames (optional): A list to assign names to the rows and columns.\n",
    "\n",
    "> Note that the `dimnames` have a `list` before the specifying of the row_names, and col_name\n"
   ]
  },
  {
   "cell_type": "code",
   "execution_count": 5,
   "metadata": {
    "vscode": {
     "languageId": "r"
    }
   },
   "outputs": [
    {
     "name": "stdout",
     "output_type": "stream",
     "text": [
      "     [,1] [,2] [,3] [,4]\n",
      "[1,]    1    4    7   10\n",
      "[2,]    2    5    8   11\n",
      "[3,]    3    6    9   12\n"
     ]
    }
   ],
   "source": [
    "# Create a matrix filled column-wise\n",
    "mat1 <- matrix(1:12, nrow = 3, ncol = 4)\n",
    "print(mat1)\n"
   ]
  },
  {
   "cell_type": "code",
   "execution_count": 2,
   "metadata": {
    "vscode": {
     "languageId": "r"
    }
   },
   "outputs": [
    {
     "name": "stdout",
     "output_type": "stream",
     "text": [
      "     col1 col2 col3 col4\n",
      "row1    1    2    3    4\n",
      "row2    5    6    7    8\n",
      "row3    9   10   11   12\n"
     ]
    }
   ],
   "source": [
    "mat8 <- matrix(1:12, nrow = 3, ncol = 4, byrow = TRUE, dimnames = list(c(\"row1\", \"row2\", \"row3\"), c(\"col1\", \"col2\", \"col3\", \"col4\")))\n",
    "print(mat8)"
   ]
  },
  {
   "cell_type": "code",
   "execution_count": 4,
   "metadata": {
    "vscode": {
     "languageId": "r"
    }
   },
   "outputs": [
    {
     "name": "stdout",
     "output_type": "stream",
     "text": [
      "     col1 col2 col3 col4\n",
      "row1    1    4    7   10\n",
      "row2    2    5    8   11\n",
      "row3    3    6    9   12\n"
     ]
    }
   ],
   "source": [
    "mat9 <- matrix(1:12, nrow = 3, ncol = 4, byrow = FALSE, dimnames = list(c(\"row1\", \"row2\", \"row3\"), c(\"col1\", \"col2\", \"col3\", \"col4\")))\n",
    "print(mat9)"
   ]
  },
  {
   "cell_type": "markdown",
   "metadata": {},
   "source": [
    "2. **Using cbind() and rbind():**\n",
    "___\n",
    "\n",
    "These functions are useful for combining vectors or matrices into a larger matrix.\n",
    "\n",
    "- `cbind()`: Combines vectors or matrices side-by-side to create columns.\n",
    "\n",
    "- `rbind()`: Combines vectors or matrices on top of each other to create rows.\n",
    "\n",
    "Example (creating the same matrix as before):"
   ]
  },
  {
   "cell_type": "code",
   "execution_count": 21,
   "metadata": {
    "vscode": {
     "languageId": "r"
    }
   },
   "outputs": [
    {
     "name": "stdout",
     "output_type": "stream",
     "text": [
      "     column1 column2 column3\n",
      "[1,]       1       4       7\n",
      "[2,]       2       5       8\n",
      "[3,]       3       6       9\n"
     ]
    }
   ],
   "source": [
    "column1 <- c(1, 2, 3)\n",
    "column2 <- c(4, 5, 6)\n",
    "column3 <- c(7, 8, 9)\n",
    "my_matrix <- cbind(column1, column2, column3)\n",
    "print(my_matrix)\n"
   ]
  },
  {
   "cell_type": "code",
   "execution_count": 22,
   "metadata": {
    "vscode": {
     "languageId": "r"
    }
   },
   "outputs": [
    {
     "name": "stdout",
     "output_type": "stream",
     "text": [
      "     [,1] [,2]\n",
      "[1,]    1    4\n",
      "[2,]    2    5\n",
      "[3,]    3    6\n"
     ]
    }
   ],
   "source": [
    "# Another way to create a column bind matrix\n",
    "a <- cbind(c(1, 2, 3), c(4, 5, 6))\n",
    "print(a)\n"
   ]
  },
  {
   "cell_type": "code",
   "execution_count": 23,
   "metadata": {
    "vscode": {
     "languageId": "r"
    }
   },
   "outputs": [
    {
     "name": "stdout",
     "output_type": "stream",
     "text": [
      "     [,1] [,2] [,3]\n",
      "[1,]    1    2    3\n",
      "[2,]    4    5    6\n"
     ]
    }
   ],
   "source": [
    "# create a row bind matrix\n",
    "b <- rbind(c(1, 2, 3), c(4, 5, 6))\n",
    "\n",
    "print(b)"
   ]
  },
  {
   "cell_type": "markdown",
   "metadata": {},
   "source": [
    "**3. Create Matrix Using dim()**\n",
    "___  \n",
    "Finally, you can also create a matrix from a vector by setting its dimension using dim().\n"
   ]
  },
  {
   "cell_type": "code",
   "execution_count": 3,
   "metadata": {
    "vscode": {
     "languageId": "r"
    }
   },
   "outputs": [
    {
     "name": "stdout",
     "output_type": "stream",
     "text": [
      "     [,1] [,2] [,3]\n",
      "[1,]    1    3    5\n",
      "[2,]    2    4    6\n"
     ]
    }
   ],
   "source": [
    "x <- c(1, 2, 3, 4, 5, 6)\n",
    "\n",
    "dim(x) <- c(2, 3)\n",
    "print(x)"
   ]
  },
  {
   "cell_type": "code",
   "execution_count": 25,
   "metadata": {
    "vscode": {
     "languageId": "r"
    }
   },
   "outputs": [
    {
     "name": "stdout",
     "output_type": "stream",
     "text": [
      "     [,1] [,2] [,3] [,4]\n",
      "[1,]    1    4    7   10\n",
      "[2,]    2    5    8   11\n",
      "[3,]    3    6    9   12\n"
     ]
    }
   ],
   "source": [
    "news = c(1, 2, 3, 4, 5, 6, 7, 8, 9, 10, 11, 12)\n",
    "dim(news) <- c(3,4)\n",
    "print(news)"
   ]
  },
  {
   "cell_type": "markdown",
   "metadata": {},
   "source": [
    "> Note: We can check if a variable is a matrix or not with the class() function. For example, in the above matrix, we can check that as:"
   ]
  },
  {
   "cell_type": "code",
   "execution_count": 26,
   "metadata": {
    "vscode": {
     "languageId": "r"
    }
   },
   "outputs": [
    {
     "data": {
      "text/html": [
       "<style>\n",
       ".list-inline {list-style: none; margin:0; padding: 0}\n",
       ".list-inline>li {display: inline-block}\n",
       ".list-inline>li:not(:last-child)::after {content: \"\\00b7\"; padding: 0 .5ex}\n",
       "</style>\n",
       "<ol class=list-inline><li>'matrix'</li><li>'array'</li></ol>\n"
      ],
      "text/latex": [
       "\\begin{enumerate*}\n",
       "\\item 'matrix'\n",
       "\\item 'array'\n",
       "\\end{enumerate*}\n"
      ],
      "text/markdown": [
       "1. 'matrix'\n",
       "2. 'array'\n",
       "\n",
       "\n"
      ],
      "text/plain": [
       "[1] \"matrix\" \"array\" "
      ]
     },
     "metadata": {},
     "output_type": "display_data"
    },
    {
     "data": {
      "text/html": [
       "<style>\n",
       ".list-inline {list-style: none; margin:0; padding: 0}\n",
       ".list-inline>li {display: inline-block}\n",
       ".list-inline>li:not(:last-child)::after {content: \"\\00b7\"; padding: 0 .5ex}\n",
       "</style>\n",
       "<ol class=list-inline><li>'matrix'</li><li>'array'</li></ol>\n"
      ],
      "text/latex": [
       "\\begin{enumerate*}\n",
       "\\item 'matrix'\n",
       "\\item 'array'\n",
       "\\end{enumerate*}\n"
      ],
      "text/markdown": [
       "1. 'matrix'\n",
       "2. 'array'\n",
       "\n",
       "\n"
      ],
      "text/plain": [
       "[1] \"matrix\" \"array\" "
      ]
     },
     "metadata": {},
     "output_type": "display_data"
    },
    {
     "data": {
      "text/html": [
       "<style>\n",
       ".list-inline {list-style: none; margin:0; padding: 0}\n",
       ".list-inline>li {display: inline-block}\n",
       ".list-inline>li:not(:last-child)::after {content: \"\\00b7\"; padding: 0 .5ex}\n",
       "</style>\n",
       "<ol class=list-inline><li>'matrix'</li><li>'array'</li></ol>\n"
      ],
      "text/latex": [
       "\\begin{enumerate*}\n",
       "\\item 'matrix'\n",
       "\\item 'array'\n",
       "\\end{enumerate*}\n"
      ],
      "text/markdown": [
       "1. 'matrix'\n",
       "2. 'array'\n",
       "\n",
       "\n"
      ],
      "text/plain": [
       "[1] \"matrix\" \"array\" "
      ]
     },
     "metadata": {},
     "output_type": "display_data"
    }
   ],
   "source": [
    "class(news)\n",
    "class(x)\n",
    "class(b)"
   ]
  },
  {
   "cell_type": "markdown",
   "metadata": {},
   "source": [
    "### Creating R matrix based on the variations in the attributes\n",
    "___"
   ]
  },
  {
   "cell_type": "code",
   "execution_count": 27,
   "metadata": {
    "vscode": {
     "languageId": "r"
    }
   },
   "outputs": [
    {
     "name": "stdout",
     "output_type": "stream",
     "text": [
      "     [,1] [,2] [,3]\n",
      "[1,]    1    2    3\n",
      "[2,]    4    5    6\n",
      "[3,]    7    8    9\n",
      "[4,]   10   11   12\n"
     ]
    }
   ],
   "source": [
    "# Creating R matrix through the arrangement of elements sequentially by row\n",
    "arrang_row <- matrix(c(1:12), nrow = 4, byrow = TRUE)\n",
    "\n",
    "print(arrang_row)"
   ]
  },
  {
   "cell_type": "markdown",
   "metadata": {},
   "source": [
    "This R code snippet demonstrates how to create a matrix with elements arranged sequentially by row.\n",
    "\n",
    "First, the `matrix()` function is used to create a matrix. This function takes several arguments, including the data to be used to fill the matrix, the number of rows, and a logical argument `byrow` that determines how the matrix is filled.\n",
    "\n",
    "In this case, the data is a sequence of numbers from 1 to 12, created using the `c()` function and the `:` operator. The `c()` function in R is used to create a vector. Here, `c(1:12)` creates a vector of numbers from 1 to 12.\n",
    "\n",
    "The `nrow = 4` argument specifies that the matrix should have 4 rows. The number of columns is inferred from the length of the data and the number of rows. Since there are 12 elements and 4 rows, the matrix will have 3 columns.\n",
    "\n",
    "The `byrow = TRUE` argument specifies that the matrix should be filled by rows. This means that the elements are arranged sequentially by row, rather than by column (which is the default). So, the first row will contain the first three numbers (1, 2, 3), the second row will contain the next three numbers (4, 5, 6), and so on.\n",
    "\n",
    "The resulting matrix is assigned to the variable `arrang_row`.\n",
    "\n",
    "Finally, the `print()` function is used to display the `arrang_row` matrix. The output of this code will be a 4x3 matrix where the elements are arranged sequentially by row."
   ]
  },
  {
   "cell_type": "code",
   "execution_count": 28,
   "metadata": {
    "vscode": {
     "languageId": "r"
    }
   },
   "outputs": [
    {
     "name": "stdout",
     "output_type": "stream",
     "text": [
      "     [,1] [,2] [,3]\n",
      "[1,]    1    5    9\n",
      "[2,]    2    6   10\n",
      "[3,]    3    7   11\n",
      "[4,]    4    8   12\n"
     ]
    }
   ],
   "source": [
    "# Creating R matrix through the arrangement of elements sequentially by column\n",
    "arrang_col <- matrix(c(1:12), nrow = 4, byrow = FALSE)\n",
    "\n",
    "print(arrang_col)"
   ]
  },
  {
   "cell_type": "code",
   "execution_count": 4,
   "metadata": {
    "vscode": {
     "languageId": "r"
    }
   },
   "outputs": [
    {
     "name": "stdout",
     "output_type": "stream",
     "text": [
      "      column1 column2 column3\n",
      "info1       1       2       3\n",
      "info2       4       5       6\n",
      "info3       7       8       9\n",
      "info4      10      11      12\n"
     ]
    }
   ],
   "source": [
    "# Defining names of columns and rows in a matrix\n",
    "rows_name <- c(\"info1\", \"info2\", \"info3\", \"info4\")  # Names of the rows in the matrix\n",
    "cols_name <- c(\"column1\", \"column2\", \"column3\") # Names of the columns in the matrix\n",
    "\n",
    "# Creating a matrix with specified values, row names, and column names\n",
    "info <- matrix(c(1:12), nrow = 4, byrow = TRUE, dimnames = list(rows_name, cols_name)) # Note the use of list before those row and col names. \n",
    "\n",
    "print(info)"
   ]
  },
  {
   "cell_type": "markdown",
   "metadata": {},
   "source": [
    "This R code snippet demonstrates how to create a matrix with specified values, row names, and column names.\n",
    "\n",
    "First, it defines the names of the rows and columns of the matrix. The `c()` function is used to create vectors of strings that represent the names of the rows and columns. These vectors are assigned to the variables `rows` and `cols`, respectively.\n",
    "\n",
    "Next, the `matrix()` function is used to create the matrix. The first argument to this function is a vector of numbers from 1 to 12, created using the `c()` function and the `:` operator. The `nrow = 4` argument specifies that the matrix should have 4 rows. The `byrow = TRUE` argument indicates that the matrix should be filled by rows, meaning that the elements are arranged sequentially by row, rather than by column.\n",
    "\n",
    "The `dimnames = list(rows, cols)` argument assigns the names of the rows and columns to the matrix. The `list()` function is used to create a list of the `rows` and `cols` vectors. The first element of the list is used as the row names, and the second element is used as the column names.\n",
    "\n",
    "The resulting matrix is assigned to the variable `mat`.\n",
    "\n",
    "Finally, the `print()` function is used to display the `mat` matrix. The output of this code will be a 4x3 matrix with the specified row and column names, and the elements arranged sequentially by row."
   ]
  },
  {
   "cell_type": "code",
   "execution_count": 14,
   "metadata": {
    "vscode": {
     "languageId": "r"
    }
   },
   "outputs": [
    {
     "data": {
      "text/html": [
       "<table class=\"dataframe\">\n",
       "<caption>A matrix: 4 x 5 of type int</caption>\n",
       "<thead>\n",
       "\t<tr><th></th><th scope=col>Class A</th><th scope=col>Class B</th><th scope=col>Class C</th><th scope=col>Class D</th><th scope=col>Class E</th></tr>\n",
       "</thead>\n",
       "<tbody>\n",
       "\t<tr><th scope=row>Location1</th><td>1</td><td>5</td><td> 9</td><td>13</td><td>17</td></tr>\n",
       "\t<tr><th scope=row>Location2</th><td>2</td><td>6</td><td>10</td><td>14</td><td>18</td></tr>\n",
       "\t<tr><th scope=row>Location3</th><td>3</td><td>7</td><td>11</td><td>15</td><td>19</td></tr>\n",
       "\t<tr><th scope=row>Location4</th><td>4</td><td>8</td><td>12</td><td>16</td><td>20</td></tr>\n",
       "</tbody>\n",
       "</table>\n"
      ],
      "text/latex": [
       "A matrix: 4 x 5 of type int\n",
       "\\begin{tabular}{r|lllll}\n",
       "  & Class A & Class B & Class C & Class D & Class E\\\\\n",
       "\\hline\n",
       "\tLocation1 & 1 & 5 &  9 & 13 & 17\\\\\n",
       "\tLocation2 & 2 & 6 & 10 & 14 & 18\\\\\n",
       "\tLocation3 & 3 & 7 & 11 & 15 & 19\\\\\n",
       "\tLocation4 & 4 & 8 & 12 & 16 & 20\\\\\n",
       "\\end{tabular}\n"
      ],
      "text/markdown": [
       "\n",
       "A matrix: 4 x 5 of type int\n",
       "\n",
       "| <!--/--> | Class A | Class B | Class C | Class D | Class E |\n",
       "|---|---|---|---|---|---|\n",
       "| Location1 | 1 | 5 |  9 | 13 | 17 |\n",
       "| Location2 | 2 | 6 | 10 | 14 | 18 |\n",
       "| Location3 | 3 | 7 | 11 | 15 | 19 |\n",
       "| Location4 | 4 | 8 | 12 | 16 | 20 |\n",
       "\n"
      ],
      "text/plain": [
       "          Class A Class B Class C Class D Class E\n",
       "Location1 1       5        9      13      17     \n",
       "Location2 2       6       10      14      18     \n",
       "Location3 3       7       11      15      19     \n",
       "Location4 4       8       12      16      20     "
      ]
     },
     "metadata": {},
     "output_type": "display_data"
    }
   ],
   "source": [
    "location_name  <- c(\"Location1\", \"Location2\", \"Location3\", \"Location4\")\n",
    "class_name <- c(\"Class A\", \"Class B\", \"Class C\", \"Class D\", \"Class E\")\n",
    "\n",
    "ma6 <- matrix(c(1:20), nrow = 4, ncol = 5, dimnames = list(location_name, class_name))\n",
    "ma6"
   ]
  },
  {
   "cell_type": "markdown",
   "metadata": {},
   "source": [
    "### How to Access Elements of Matrix in R?\n",
    "___"
   ]
  },
  {
   "cell_type": "markdown",
   "metadata": {},
   "source": [
    "You can access individual elements of a matrix using square brackets `[ ]`. To specify a row and column, use their respective indices within the brackets:\n",
    "\n",
    "```R\n",
    "value <- my_matrix_name[row_index, col_index]\n",
    "```\n",
    "- If any field inside the bracket is left blank, it selects all.\n",
    "\n",
    "- We can use negative integers to specify rows or columns to be excluded.\n"
   ]
  },
  {
   "cell_type": "code",
   "execution_count": 21,
   "metadata": {
    "vscode": {
     "languageId": "r"
    }
   },
   "outputs": [
    {
     "data": {
      "text/html": [
       "<table class=\"dataframe\">\n",
       "<caption>A matrix: 4 x 3 of type int</caption>\n",
       "<thead>\n",
       "\t<tr><th></th><th scope=col>column1</th><th scope=col>column2</th><th scope=col>column3</th></tr>\n",
       "</thead>\n",
       "<tbody>\n",
       "\t<tr><th scope=row>info1</th><td> 1</td><td> 2</td><td> 3</td></tr>\n",
       "\t<tr><th scope=row>info2</th><td> 4</td><td> 5</td><td> 6</td></tr>\n",
       "\t<tr><th scope=row>info3</th><td> 7</td><td> 8</td><td> 9</td></tr>\n",
       "\t<tr><th scope=row>info4</th><td>10</td><td>11</td><td>12</td></tr>\n",
       "</tbody>\n",
       "</table>\n"
      ],
      "text/latex": [
       "A matrix: 4 x 3 of type int\n",
       "\\begin{tabular}{r|lll}\n",
       "  & column1 & column2 & column3\\\\\n",
       "\\hline\n",
       "\tinfo1 &  1 &  2 &  3\\\\\n",
       "\tinfo2 &  4 &  5 &  6\\\\\n",
       "\tinfo3 &  7 &  8 &  9\\\\\n",
       "\tinfo4 & 10 & 11 & 12\\\\\n",
       "\\end{tabular}\n"
      ],
      "text/markdown": [
       "\n",
       "A matrix: 4 x 3 of type int\n",
       "\n",
       "| <!--/--> | column1 | column2 | column3 |\n",
       "|---|---|---|---|\n",
       "| info1 |  1 |  2 |  3 |\n",
       "| info2 |  4 |  5 |  6 |\n",
       "| info3 |  7 |  8 |  9 |\n",
       "| info4 | 10 | 11 | 12 |\n",
       "\n"
      ],
      "text/plain": [
       "      column1 column2 column3\n",
       "info1  1       2       3     \n",
       "info2  4       5       6     \n",
       "info3  7       8       9     \n",
       "info4 10      11      12     "
      ]
     },
     "metadata": {},
     "output_type": "display_data"
    },
    {
     "name": "stdout",
     "output_type": "stream",
     "text": [
      "[1] 1\n"
     ]
    },
    {
     "data": {
      "text/html": [
       "'integer'"
      ],
      "text/latex": [
       "'integer'"
      ],
      "text/markdown": [
       "'integer'"
      ],
      "text/plain": [
       "[1] \"integer\""
      ]
     },
     "metadata": {},
     "output_type": "display_data"
    }
   ],
   "source": [
    "# creating a matrix with specified values, row names, and column names\n",
    "rows_name <- c(\"info1\", \"info2\", \"info3\", \"info4\")  \n",
    "cols_name <- c(\"column1\", \"column2\", \"column3\")\n",
    "\n",
    "info <- matrix(c(1:12), nrow = 4, ncol = 3, byrow = TRUE, dimnames = list(rows_name, cols_name))\n",
    "info\n",
    "\n",
    "# Accessing the element at the first row and first column\n",
    "element_at_row_1_col_1 <- info[1, 1]\n",
    "print(element_at_row_1_col_1)\n",
    "class(element_at_row_1_col_1)\n",
    "# output:1"
   ]
  },
  {
   "cell_type": "code",
   "execution_count": 22,
   "metadata": {
    "vscode": {
     "languageId": "r"
    }
   },
   "outputs": [
    {
     "data": {
      "text/html": [
       "<table class=\"dataframe\">\n",
       "<caption>A matrix: 4 x 3 of type int</caption>\n",
       "<thead>\n",
       "\t<tr><th></th><th scope=col>column1</th><th scope=col>column2</th><th scope=col>column3</th></tr>\n",
       "</thead>\n",
       "<tbody>\n",
       "\t<tr><th scope=row>info1</th><td> 1</td><td> 2</td><td> 3</td></tr>\n",
       "\t<tr><th scope=row>info2</th><td> 4</td><td> 5</td><td> 6</td></tr>\n",
       "\t<tr><th scope=row>info3</th><td> 7</td><td> 8</td><td> 9</td></tr>\n",
       "\t<tr><th scope=row>info4</th><td>10</td><td>11</td><td>12</td></tr>\n",
       "</tbody>\n",
       "</table>\n"
      ],
      "text/latex": [
       "A matrix: 4 x 3 of type int\n",
       "\\begin{tabular}{r|lll}\n",
       "  & column1 & column2 & column3\\\\\n",
       "\\hline\n",
       "\tinfo1 &  1 &  2 &  3\\\\\n",
       "\tinfo2 &  4 &  5 &  6\\\\\n",
       "\tinfo3 &  7 &  8 &  9\\\\\n",
       "\tinfo4 & 10 & 11 & 12\\\\\n",
       "\\end{tabular}\n"
      ],
      "text/markdown": [
       "\n",
       "A matrix: 4 x 3 of type int\n",
       "\n",
       "| <!--/--> | column1 | column2 | column3 |\n",
       "|---|---|---|---|\n",
       "| info1 |  1 |  2 |  3 |\n",
       "| info2 |  4 |  5 |  6 |\n",
       "| info3 |  7 |  8 |  9 |\n",
       "| info4 | 10 | 11 | 12 |\n",
       "\n"
      ],
      "text/plain": [
       "      column1 column2 column3\n",
       "info1  1       2       3     \n",
       "info2  4       5       6     \n",
       "info3  7       8       9     \n",
       "info4 10      11      12     "
      ]
     },
     "metadata": {},
     "output_type": "display_data"
    },
    {
     "name": "stdout",
     "output_type": "stream",
     "text": [
      "[1] 6\n"
     ]
    },
    {
     "data": {
      "text/html": [
       "'integer'"
      ],
      "text/latex": [
       "'integer'"
      ],
      "text/markdown": [
       "'integer'"
      ],
      "text/plain": [
       "[1] \"integer\""
      ]
     },
     "metadata": {},
     "output_type": "display_data"
    }
   ],
   "source": [
    "# creating a matrix with specified values, row names, and column names\n",
    "rows_name <- c(\"info1\", \"info2\", \"info3\", \"info4\")  # Names of the rows in the matrix\n",
    "cols_name <- c(\"column1\", \"column2\", \"column3\")\n",
    "\n",
    "info <- matrix(c(1:12), nrow = 4, ncol = 3, byrow = TRUE, dimnames = list(rows_name, cols_name))\n",
    "info\n",
    "\n",
    "# Accessing the element at the second row and third column\n",
    "element_at_row_2_col_3 <- info[2, 3]\n",
    "print(element_at_row_2_col_3)\n",
    "class(element_at_row_2_col_3)\n",
    "# output:6\n"
   ]
  },
  {
   "cell_type": "code",
   "execution_count": 19,
   "metadata": {
    "vscode": {
     "languageId": "r"
    }
   },
   "outputs": [
    {
     "data": {
      "text/html": [
       "<table class=\"dataframe\">\n",
       "<caption>A matrix: 4 x 3 of type int</caption>\n",
       "<thead>\n",
       "\t<tr><th></th><th scope=col>column1</th><th scope=col>column2</th><th scope=col>column3</th></tr>\n",
       "</thead>\n",
       "<tbody>\n",
       "\t<tr><th scope=row>info1</th><td> 1</td><td> 2</td><td> 3</td></tr>\n",
       "\t<tr><th scope=row>info2</th><td> 4</td><td> 5</td><td> 6</td></tr>\n",
       "\t<tr><th scope=row>info3</th><td> 7</td><td> 8</td><td> 9</td></tr>\n",
       "\t<tr><th scope=row>info4</th><td>10</td><td>11</td><td>12</td></tr>\n",
       "</tbody>\n",
       "</table>\n"
      ],
      "text/latex": [
       "A matrix: 4 x 3 of type int\n",
       "\\begin{tabular}{r|lll}\n",
       "  & column1 & column2 & column3\\\\\n",
       "\\hline\n",
       "\tinfo1 &  1 &  2 &  3\\\\\n",
       "\tinfo2 &  4 &  5 &  6\\\\\n",
       "\tinfo3 &  7 &  8 &  9\\\\\n",
       "\tinfo4 & 10 & 11 & 12\\\\\n",
       "\\end{tabular}\n"
      ],
      "text/markdown": [
       "\n",
       "A matrix: 4 x 3 of type int\n",
       "\n",
       "| <!--/--> | column1 | column2 | column3 |\n",
       "|---|---|---|---|\n",
       "| info1 |  1 |  2 |  3 |\n",
       "| info2 |  4 |  5 |  6 |\n",
       "| info3 |  7 |  8 |  9 |\n",
       "| info4 | 10 | 11 | 12 |\n",
       "\n"
      ],
      "text/plain": [
       "      column1 column2 column3\n",
       "info1  1       2       3     \n",
       "info2  4       5       6     \n",
       "info3  7       8       9     \n",
       "info4 10      11      12     "
      ]
     },
     "metadata": {},
     "output_type": "display_data"
    },
    {
     "name": "stdout",
     "output_type": "stream",
     "text": [
      "[1] 8\n"
     ]
    },
    {
     "data": {
      "text/html": [
       "'integer'"
      ],
      "text/latex": [
       "'integer'"
      ],
      "text/markdown": [
       "'integer'"
      ],
      "text/plain": [
       "[1] \"integer\""
      ]
     },
     "metadata": {},
     "output_type": "display_data"
    }
   ],
   "source": [
    "# creating a matrix with specified values, row names, and column names\n",
    "rows_name <- c(\"info1\", \"info2\", \"info3\", \"info4\")  # Names of the rows in the matrix\n",
    "cols_name <- c(\"column1\", \"column2\", \"column3\")\n",
    "\n",
    "info <- matrix(c(1:12), nrow = 4, ncol = 3, byrow = TRUE, dimnames = list(rows_name, cols_name))\n",
    "info\n",
    "\n",
    "# Accessing the element at the third row and second column\n",
    "element_at_row_3_col_2 <- info[3, 2]\n",
    "print(element_at_row_3_col_2)\n",
    "class(element_at_row_3_col_2)\n",
    "# output:8"
   ]
  },
  {
   "cell_type": "code",
   "execution_count": 20,
   "metadata": {
    "vscode": {
     "languageId": "r"
    }
   },
   "outputs": [
    {
     "data": {
      "text/html": [
       "<table class=\"dataframe\">\n",
       "<caption>A matrix: 4 x 3 of type int</caption>\n",
       "<thead>\n",
       "\t<tr><th></th><th scope=col>column1</th><th scope=col>column2</th><th scope=col>column3</th></tr>\n",
       "</thead>\n",
       "<tbody>\n",
       "\t<tr><th scope=row>info1</th><td> 1</td><td> 2</td><td> 3</td></tr>\n",
       "\t<tr><th scope=row>info2</th><td> 4</td><td> 5</td><td> 6</td></tr>\n",
       "\t<tr><th scope=row>info3</th><td> 7</td><td> 8</td><td> 9</td></tr>\n",
       "\t<tr><th scope=row>info4</th><td>10</td><td>11</td><td>12</td></tr>\n",
       "</tbody>\n",
       "</table>\n"
      ],
      "text/latex": [
       "A matrix: 4 x 3 of type int\n",
       "\\begin{tabular}{r|lll}\n",
       "  & column1 & column2 & column3\\\\\n",
       "\\hline\n",
       "\tinfo1 &  1 &  2 &  3\\\\\n",
       "\tinfo2 &  4 &  5 &  6\\\\\n",
       "\tinfo3 &  7 &  8 &  9\\\\\n",
       "\tinfo4 & 10 & 11 & 12\\\\\n",
       "\\end{tabular}\n"
      ],
      "text/markdown": [
       "\n",
       "A matrix: 4 x 3 of type int\n",
       "\n",
       "| <!--/--> | column1 | column2 | column3 |\n",
       "|---|---|---|---|\n",
       "| info1 |  1 |  2 |  3 |\n",
       "| info2 |  4 |  5 |  6 |\n",
       "| info3 |  7 |  8 |  9 |\n",
       "| info4 | 10 | 11 | 12 |\n",
       "\n"
      ],
      "text/plain": [
       "      column1 column2 column3\n",
       "info1  1       2       3     \n",
       "info2  4       5       6     \n",
       "info3  7       8       9     \n",
       "info4 10      11      12     "
      ]
     },
     "metadata": {},
     "output_type": "display_data"
    },
    {
     "name": "stdout",
     "output_type": "stream",
     "text": [
      "[1] 11\n"
     ]
    },
    {
     "data": {
      "text/html": [
       "'integer'"
      ],
      "text/latex": [
       "'integer'"
      ],
      "text/markdown": [
       "'integer'"
      ],
      "text/plain": [
       "[1] \"integer\""
      ]
     },
     "metadata": {},
     "output_type": "display_data"
    }
   ],
   "source": [
    "# creating a matrix with specified values, row names, and column names\n",
    "rows_name <- c(\"info1\", \"info2\", \"info3\", \"info4\")  # Names of the rows in the matrix\n",
    "cols_name <- c(\"column1\", \"column2\", \"column3\")\n",
    "\n",
    "info <- matrix(c(1:12), nrow = 4, ncol = 3, byrow = TRUE, dimnames = list(rows_name, cols_name))\n",
    "info\n",
    "\n",
    "# Accessing the element at the fourth row and second column\n",
    "element_at_row_4_col_2 <- info[4, 2]\n",
    "print(element_at_row_4_col_2)\n",
    "class(element_at_row_4_col_2)\n",
    "# output:11"
   ]
  },
  {
   "cell_type": "code",
   "execution_count": 24,
   "metadata": {
    "vscode": {
     "languageId": "r"
    }
   },
   "outputs": [
    {
     "data": {
      "text/html": [
       "<table class=\"dataframe\">\n",
       "<caption>A matrix: 4 x 3 of type int</caption>\n",
       "<thead>\n",
       "\t<tr><th></th><th scope=col>column1</th><th scope=col>column2</th><th scope=col>column3</th></tr>\n",
       "</thead>\n",
       "<tbody>\n",
       "\t<tr><th scope=row>info1</th><td> 1</td><td> 2</td><td> 3</td></tr>\n",
       "\t<tr><th scope=row>info2</th><td> 4</td><td> 5</td><td> 6</td></tr>\n",
       "\t<tr><th scope=row>info3</th><td> 7</td><td> 8</td><td> 9</td></tr>\n",
       "\t<tr><th scope=row>info4</th><td>10</td><td>11</td><td>12</td></tr>\n",
       "</tbody>\n",
       "</table>\n"
      ],
      "text/latex": [
       "A matrix: 4 x 3 of type int\n",
       "\\begin{tabular}{r|lll}\n",
       "  & column1 & column2 & column3\\\\\n",
       "\\hline\n",
       "\tinfo1 &  1 &  2 &  3\\\\\n",
       "\tinfo2 &  4 &  5 &  6\\\\\n",
       "\tinfo3 &  7 &  8 &  9\\\\\n",
       "\tinfo4 & 10 & 11 & 12\\\\\n",
       "\\end{tabular}\n"
      ],
      "text/markdown": [
       "\n",
       "A matrix: 4 x 3 of type int\n",
       "\n",
       "| <!--/--> | column1 | column2 | column3 |\n",
       "|---|---|---|---|\n",
       "| info1 |  1 |  2 |  3 |\n",
       "| info2 |  4 |  5 |  6 |\n",
       "| info3 |  7 |  8 |  9 |\n",
       "| info4 | 10 | 11 | 12 |\n",
       "\n"
      ],
      "text/plain": [
       "      column1 column2 column3\n",
       "info1  1       2       3     \n",
       "info2  4       5       6     \n",
       "info3  7       8       9     \n",
       "info4 10      11      12     "
      ]
     },
     "metadata": {},
     "output_type": "display_data"
    },
    {
     "name": "stdout",
     "output_type": "stream",
     "text": [
      "column1 column2 column3 \n",
      "      4       5       6 \n"
     ]
    },
    {
     "data": {
      "text/html": [
       "'integer'"
      ],
      "text/latex": [
       "'integer'"
      ],
      "text/markdown": [
       "'integer'"
      ],
      "text/plain": [
       "[1] \"integer\""
      ]
     },
     "metadata": {},
     "output_type": "display_data"
    }
   ],
   "source": [
    "# creating a matrix with specified values, row names, and column names\n",
    "rows_name <- c(\"info1\", \"info2\", \"info3\", \"info4\")  # Names of the rows in the matrix\n",
    "cols_name <- c(\"column1\", \"column2\", \"column3\")\n",
    "\n",
    "info <- matrix(c(1:12), nrow = 4, ncol = 3, byrow = TRUE, dimnames = list(rows_name, cols_name))\n",
    "info\n",
    "\n",
    "# accessing the second row of the matrix\n",
    "row_2 <- info[2, ]\n",
    "print(row_2)\n",
    "class(row_2)\n"
   ]
  },
  {
   "cell_type": "code",
   "execution_count": 25,
   "metadata": {
    "vscode": {
     "languageId": "r"
    }
   },
   "outputs": [
    {
     "data": {
      "text/html": [
       "<table class=\"dataframe\">\n",
       "<caption>A matrix: 4 x 3 of type int</caption>\n",
       "<thead>\n",
       "\t<tr><th></th><th scope=col>column1</th><th scope=col>column2</th><th scope=col>column3</th></tr>\n",
       "</thead>\n",
       "<tbody>\n",
       "\t<tr><th scope=row>info1</th><td> 1</td><td> 2</td><td> 3</td></tr>\n",
       "\t<tr><th scope=row>info2</th><td> 4</td><td> 5</td><td> 6</td></tr>\n",
       "\t<tr><th scope=row>info3</th><td> 7</td><td> 8</td><td> 9</td></tr>\n",
       "\t<tr><th scope=row>info4</th><td>10</td><td>11</td><td>12</td></tr>\n",
       "</tbody>\n",
       "</table>\n"
      ],
      "text/latex": [
       "A matrix: 4 x 3 of type int\n",
       "\\begin{tabular}{r|lll}\n",
       "  & column1 & column2 & column3\\\\\n",
       "\\hline\n",
       "\tinfo1 &  1 &  2 &  3\\\\\n",
       "\tinfo2 &  4 &  5 &  6\\\\\n",
       "\tinfo3 &  7 &  8 &  9\\\\\n",
       "\tinfo4 & 10 & 11 & 12\\\\\n",
       "\\end{tabular}\n"
      ],
      "text/markdown": [
       "\n",
       "A matrix: 4 x 3 of type int\n",
       "\n",
       "| <!--/--> | column1 | column2 | column3 |\n",
       "|---|---|---|---|\n",
       "| info1 |  1 |  2 |  3 |\n",
       "| info2 |  4 |  5 |  6 |\n",
       "| info3 |  7 |  8 |  9 |\n",
       "| info4 | 10 | 11 | 12 |\n",
       "\n"
      ],
      "text/plain": [
       "      column1 column2 column3\n",
       "info1  1       2       3     \n",
       "info2  4       5       6     \n",
       "info3  7       8       9     \n",
       "info4 10      11      12     "
      ]
     },
     "metadata": {},
     "output_type": "display_data"
    },
    {
     "name": "stdout",
     "output_type": "stream",
     "text": [
      "info1 info2 info3 info4 \n",
      "    3     6     9    12 \n"
     ]
    },
    {
     "data": {
      "text/html": [
       "'integer'"
      ],
      "text/latex": [
       "'integer'"
      ],
      "text/markdown": [
       "'integer'"
      ],
      "text/plain": [
       "[1] \"integer\""
      ]
     },
     "metadata": {},
     "output_type": "display_data"
    }
   ],
   "source": [
    "# creating a matrix with specified values, row names, and column names\n",
    "rows_name <- c(\"info1\", \"info2\", \"info3\", \"info4\")  # Names of the rows in the matrix\n",
    "cols_name <- c(\"column1\", \"column2\", \"column3\")\n",
    "\n",
    "info <- matrix(c(1:12), nrow = 4, ncol = 3, byrow = TRUE, dimnames = list(rows_name, cols_name))\n",
    "info\n",
    "\n",
    "\n",
    "# accessing the third column of the matrix\n",
    "col_3 <- info[, 3]\n",
    "print(col_3)\n",
    "class(col_3)\n"
   ]
  },
  {
   "cell_type": "markdown",
   "metadata": {},
   "source": [
    "One thing to notice here is that, if the matrix returned after indexing is a row matrix or column matrix, the result is given as a vector instead as matrix. This can be corrected by by using the argument `drop` = FALSE while indexing. If we do:"
   ]
  },
  {
   "cell_type": "code",
   "execution_count": 29,
   "metadata": {
    "vscode": {
     "languageId": "r"
    }
   },
   "outputs": [
    {
     "data": {
      "text/html": [
       "<table class=\"dataframe\">\n",
       "<caption>A matrix: 4 x 3 of type int</caption>\n",
       "<thead>\n",
       "\t<tr><th></th><th scope=col>column1</th><th scope=col>column2</th><th scope=col>column3</th></tr>\n",
       "</thead>\n",
       "<tbody>\n",
       "\t<tr><th scope=row>info1</th><td> 1</td><td> 2</td><td> 3</td></tr>\n",
       "\t<tr><th scope=row>info2</th><td> 4</td><td> 5</td><td> 6</td></tr>\n",
       "\t<tr><th scope=row>info3</th><td> 7</td><td> 8</td><td> 9</td></tr>\n",
       "\t<tr><th scope=row>info4</th><td>10</td><td>11</td><td>12</td></tr>\n",
       "</tbody>\n",
       "</table>\n"
      ],
      "text/latex": [
       "A matrix: 4 x 3 of type int\n",
       "\\begin{tabular}{r|lll}\n",
       "  & column1 & column2 & column3\\\\\n",
       "\\hline\n",
       "\tinfo1 &  1 &  2 &  3\\\\\n",
       "\tinfo2 &  4 &  5 &  6\\\\\n",
       "\tinfo3 &  7 &  8 &  9\\\\\n",
       "\tinfo4 & 10 & 11 & 12\\\\\n",
       "\\end{tabular}\n"
      ],
      "text/markdown": [
       "\n",
       "A matrix: 4 x 3 of type int\n",
       "\n",
       "| <!--/--> | column1 | column2 | column3 |\n",
       "|---|---|---|---|\n",
       "| info1 |  1 |  2 |  3 |\n",
       "| info2 |  4 |  5 |  6 |\n",
       "| info3 |  7 |  8 |  9 |\n",
       "| info4 | 10 | 11 | 12 |\n",
       "\n"
      ],
      "text/plain": [
       "      column1 column2 column3\n",
       "info1  1       2       3     \n",
       "info2  4       5       6     \n",
       "info3  7       8       9     \n",
       "info4 10      11      12     "
      ]
     },
     "metadata": {},
     "output_type": "display_data"
    },
    {
     "name": "stdout",
     "output_type": "stream",
     "text": [
      "      column1\n",
      "info1       1\n"
     ]
    },
    {
     "data": {
      "text/html": [
       "<style>\n",
       ".list-inline {list-style: none; margin:0; padding: 0}\n",
       ".list-inline>li {display: inline-block}\n",
       ".list-inline>li:not(:last-child)::after {content: \"\\00b7\"; padding: 0 .5ex}\n",
       "</style>\n",
       "<ol class=list-inline><li>'matrix'</li><li>'array'</li></ol>\n"
      ],
      "text/latex": [
       "\\begin{enumerate*}\n",
       "\\item 'matrix'\n",
       "\\item 'array'\n",
       "\\end{enumerate*}\n"
      ],
      "text/markdown": [
       "1. 'matrix'\n",
       "2. 'array'\n",
       "\n",
       "\n"
      ],
      "text/plain": [
       "[1] \"matrix\" \"array\" "
      ]
     },
     "metadata": {},
     "output_type": "display_data"
    },
    {
     "name": "stdout",
     "output_type": "stream",
     "text": [
      "      column3\n",
      "info2       6\n"
     ]
    },
    {
     "data": {
      "text/html": [
       "<style>\n",
       ".list-inline {list-style: none; margin:0; padding: 0}\n",
       ".list-inline>li {display: inline-block}\n",
       ".list-inline>li:not(:last-child)::after {content: \"\\00b7\"; padding: 0 .5ex}\n",
       "</style>\n",
       "<ol class=list-inline><li>'matrix'</li><li>'array'</li></ol>\n"
      ],
      "text/latex": [
       "\\begin{enumerate*}\n",
       "\\item 'matrix'\n",
       "\\item 'array'\n",
       "\\end{enumerate*}\n"
      ],
      "text/markdown": [
       "1. 'matrix'\n",
       "2. 'array'\n",
       "\n",
       "\n"
      ],
      "text/plain": [
       "[1] \"matrix\" \"array\" "
      ]
     },
     "metadata": {},
     "output_type": "display_data"
    },
    {
     "name": "stdout",
     "output_type": "stream",
     "text": [
      "      column2\n",
      "info3       8\n"
     ]
    },
    {
     "data": {
      "text/html": [
       "<style>\n",
       ".list-inline {list-style: none; margin:0; padding: 0}\n",
       ".list-inline>li {display: inline-block}\n",
       ".list-inline>li:not(:last-child)::after {content: \"\\00b7\"; padding: 0 .5ex}\n",
       "</style>\n",
       "<ol class=list-inline><li>'matrix'</li><li>'array'</li></ol>\n"
      ],
      "text/latex": [
       "\\begin{enumerate*}\n",
       "\\item 'matrix'\n",
       "\\item 'array'\n",
       "\\end{enumerate*}\n"
      ],
      "text/markdown": [
       "1. 'matrix'\n",
       "2. 'array'\n",
       "\n",
       "\n"
      ],
      "text/plain": [
       "[1] \"matrix\" \"array\" "
      ]
     },
     "metadata": {},
     "output_type": "display_data"
    },
    {
     "name": "stdout",
     "output_type": "stream",
     "text": [
      "      column2\n",
      "info4      11\n"
     ]
    },
    {
     "data": {
      "text/html": [
       "<style>\n",
       ".list-inline {list-style: none; margin:0; padding: 0}\n",
       ".list-inline>li {display: inline-block}\n",
       ".list-inline>li:not(:last-child)::after {content: \"\\00b7\"; padding: 0 .5ex}\n",
       "</style>\n",
       "<ol class=list-inline><li>'matrix'</li><li>'array'</li></ol>\n"
      ],
      "text/latex": [
       "\\begin{enumerate*}\n",
       "\\item 'matrix'\n",
       "\\item 'array'\n",
       "\\end{enumerate*}\n"
      ],
      "text/markdown": [
       "1. 'matrix'\n",
       "2. 'array'\n",
       "\n",
       "\n"
      ],
      "text/plain": [
       "[1] \"matrix\" \"array\" "
      ]
     },
     "metadata": {},
     "output_type": "display_data"
    },
    {
     "name": "stdout",
     "output_type": "stream",
     "text": [
      "      column1 column2 column3\n",
      "info2       4       5       6\n"
     ]
    },
    {
     "data": {
      "text/html": [
       "<style>\n",
       ".list-inline {list-style: none; margin:0; padding: 0}\n",
       ".list-inline>li {display: inline-block}\n",
       ".list-inline>li:not(:last-child)::after {content: \"\\00b7\"; padding: 0 .5ex}\n",
       "</style>\n",
       "<ol class=list-inline><li>'matrix'</li><li>'array'</li></ol>\n"
      ],
      "text/latex": [
       "\\begin{enumerate*}\n",
       "\\item 'matrix'\n",
       "\\item 'array'\n",
       "\\end{enumerate*}\n"
      ],
      "text/markdown": [
       "1. 'matrix'\n",
       "2. 'array'\n",
       "\n",
       "\n"
      ],
      "text/plain": [
       "[1] \"matrix\" \"array\" "
      ]
     },
     "metadata": {},
     "output_type": "display_data"
    },
    {
     "name": "stdout",
     "output_type": "stream",
     "text": [
      "      column3\n",
      "info1       3\n",
      "info2       6\n",
      "info3       9\n",
      "info4      12\n"
     ]
    },
    {
     "data": {
      "text/html": [
       "<style>\n",
       ".list-inline {list-style: none; margin:0; padding: 0}\n",
       ".list-inline>li {display: inline-block}\n",
       ".list-inline>li:not(:last-child)::after {content: \"\\00b7\"; padding: 0 .5ex}\n",
       "</style>\n",
       "<ol class=list-inline><li>'matrix'</li><li>'array'</li></ol>\n"
      ],
      "text/latex": [
       "\\begin{enumerate*}\n",
       "\\item 'matrix'\n",
       "\\item 'array'\n",
       "\\end{enumerate*}\n"
      ],
      "text/markdown": [
       "1. 'matrix'\n",
       "2. 'array'\n",
       "\n",
       "\n"
      ],
      "text/plain": [
       "[1] \"matrix\" \"array\" "
      ]
     },
     "metadata": {},
     "output_type": "display_data"
    }
   ],
   "source": [
    "rows_name <- c(\"info1\", \"info2\", \"info3\", \"info4\")  # Names of the rows in the matrix\n",
    "cols_name <- c(\"column1\", \"column2\", \"column3\")\n",
    "\n",
    "info <- matrix(c(1:12), nrow = 4, ncol = 3, byrow = TRUE, dimnames = list(rows_name, cols_name))\n",
    "info\n",
    "\n",
    "# Accessing the element at the first row and first column\n",
    "element_at_row_1_col_1 <- info[1, 1, drop = FALSE]\n",
    "print(element_at_row_1_col_1)\n",
    "class(element_at_row_1_col_1)\n",
    "# output:1\n",
    "\n",
    "# Accessing the element at the second row and third column\n",
    "element_at_row_2_col_3 <- info[2, 3, drop = FALSE]\n",
    "print(element_at_row_2_col_3)\n",
    "class(element_at_row_2_col_3)\n",
    "# output:6\n",
    "\n",
    "# Accessing the element at the third row and second column\n",
    "element_at_row_3_col_2 <- info[3, 2, drop = FALSE]\n",
    "print(element_at_row_3_col_2)\n",
    "class(element_at_row_3_col_2)\n",
    "# output:8\n",
    "\n",
    "# Accessing the element at the fourth row and second column\n",
    "element_at_row_4_col_2 <- info[4, 2, drop = FALSE]\n",
    "print(element_at_row_4_col_2)\n",
    "class(element_at_row_4_col_2)\n",
    "# output:11\n",
    "\n",
    "# accessing the second row of the matrix\n",
    "row_2 <- info[2,, drop = FALSE]\n",
    "print(row_2)\n",
    "class(row_2)\n",
    "# output:column1 column2 column3\n",
    "# info2       4       5       6\n",
    "\n",
    "# accessing the third column of the matrix\n",
    "col_3 <- info[, 3, drop = FALSE]\n",
    "print(col_3)\n",
    "class(col_3)\n",
    "# output:info1 info2 info3 info4\n",
    "#     3     6     9    12"
   ]
  },
  {
   "cell_type": "markdown",
   "metadata": {},
   "source": [
    "### How to Modify Matrix in R?\n",
    "___"
   ]
  },
  {
   "cell_type": "markdown",
   "metadata": {},
   "source": [
    "In order to modify our matrix ‘mat’ in R, there are several methods\n",
    "\n"
   ]
  },
  {
   "cell_type": "markdown",
   "metadata": {},
   "source": [
    "**1. Assign a Single Element**  \n",
    "The first method is to assign a single element to the position of the R matrix that will modify the original value.\n",
    "\n",
    "The basic syntax for is `my_matrix_name`[row,column] <- y, where the row and columnm are follow respectively. And, y is the value that we assign to modify our matrix."
   ]
  },
  {
   "cell_type": "code",
   "execution_count": 61,
   "metadata": {
    "vscode": {
     "languageId": "r"
    }
   },
   "outputs": [
    {
     "name": "stdout",
     "output_type": "stream",
     "text": [
      "      column1 column2 column3\n",
      "info1     100       2       3\n",
      "info2       4       5       6\n",
      "info3       7       8       9\n",
      "info4      10      11      12\n"
     ]
    }
   ],
   "source": [
    "# creating a matrix with specified values, row names, and column names\n",
    "info <- matrix(c(1:12), nrow = 4, byrow = TRUE, dimnames = list(rows, cols))\n",
    "\n",
    "# assigning a new value to the element at the first row and first column\n",
    "info[1, 1] <- 100\n",
    "print(info)"
   ]
  },
  {
   "cell_type": "code",
   "execution_count": 62,
   "metadata": {
    "vscode": {
     "languageId": "r"
    }
   },
   "outputs": [
    {
     "name": "stdout",
     "output_type": "stream",
     "text": [
      "      column1 column2 column3\n",
      "info1     100       2       3\n",
      "info2       4       5     200\n",
      "info3       7       8       9\n",
      "info4      10      11      12\n"
     ]
    }
   ],
   "source": [
    "# assigning a new value to the element at the second row and third column\n",
    "info[2, 3] <- 200\n",
    "print(info)"
   ]
  },
  {
   "cell_type": "markdown",
   "metadata": {},
   "source": [
    "**2. Use of Relation Operators**  \n",
    "Another method of modifying is with the use of relational operators like >, <, ==. This is looking for a specific element to be replace with the operator function of >, <, ==."
   ]
  },
  {
   "cell_type": "code",
   "execution_count": 65,
   "metadata": {
    "vscode": {
     "languageId": "r"
    }
   },
   "outputs": [
    {
     "name": "stdout",
     "output_type": "stream",
     "text": [
      "      column1 column2 column3\n",
      "info1       1       2       3\n",
      "info2     108       5       6\n",
      "info3       7       8       9\n",
      "info4      10      11      12\n"
     ]
    }
   ],
   "source": [
    "# creating a matrix with specified values, row names, and column names\n",
    "info <- matrix(c(1:12), nrow = 4, byrow = TRUE, dimnames = list(rows, cols))\n",
    "\n",
    "# Replacing all occurrences of 4 in the matrix with 108\n",
    "info[info == 4] <- 108\n",
    "print(info)"
   ]
  },
  {
   "cell_type": "code",
   "execution_count": 66,
   "metadata": {
    "vscode": {
     "languageId": "r"
    }
   },
   "outputs": [
    {
     "name": "stdout",
     "output_type": "stream",
     "text": [
      "      column1 column2 column3\n",
      "info1       1       2       3\n",
      "info2     108       5       6\n",
      "info3       7     208       9\n",
      "info4      10      11      12\n"
     ]
    }
   ],
   "source": [
    "\n",
    "#Replacing all occurrences of 8 in the matrix with 208\n",
    "info[info == 8] <- 208\n",
    "print(info)"
   ]
  },
  {
   "cell_type": "code",
   "execution_count": 67,
   "metadata": {
    "vscode": {
     "languageId": "r"
    }
   },
   "outputs": [
    {
     "name": "stdout",
     "output_type": "stream",
     "text": [
      "      column1 column2 column3\n",
      "info1     145     145     145\n",
      "info2     108       5       6\n",
      "info3       7     208       9\n",
      "info4      10      11      12\n"
     ]
    }
   ],
   "source": [
    "# Replacing all occurrences that are greater than 5 in the matrix with 145\n",
    "info[info < 5] <- 145\n",
    "print(info)"
   ]
  },
  {
   "cell_type": "markdown",
   "metadata": {},
   "source": [
    "**3. Addition of Rows and Columns**   \n",
    "Another method of modifying an R matrix is through the addition of rows and columns using the `rbind()` and `cbind()` function respectively. For this, we create a new matrix ‘new_info with 5th rows and 4th columns:\n",
    "\n",
    "The `rownames` and `colnames` are use to rename the newly created row and column. "
   ]
  },
  {
   "cell_type": "code",
   "execution_count": 80,
   "metadata": {
    "vscode": {
     "languageId": "r"
    }
   },
   "outputs": [
    {
     "name": "stdout",
     "output_type": "stream",
     "text": [
      "      column1 column2 column3\n",
      "info1       1       2       3\n",
      "info2       4       5       6\n",
      "info3       7       8       9\n",
      "info4      10      11      12\n",
      "info5      13      14      15\n"
     ]
    }
   ],
   "source": [
    "# creating a matrix with specified values, row names, and column names\n",
    "info <- matrix(c(1:12), nrow = 4, byrow = TRUE, dimnames = list(rows, cols))\n",
    "\n",
    "# create a 5th row with values 13, 14, 15\n",
    "info1 <- rbind(info, c(13, 14, 15))\n",
    "\n",
    "# name the new row\n",
    "rownames(info1)[5] <- \"info5\"\n",
    "\n",
    "# print the updated matrix\n",
    "print(info1)\n"
   ]
  },
  {
   "cell_type": "code",
   "execution_count": 96,
   "metadata": {
    "vscode": {
     "languageId": "r"
    }
   },
   "outputs": [
    {
     "name": "stdout",
     "output_type": "stream",
     "text": [
      "      column1 column2 column3 column4\n",
      "info1       1       2       3      12\n",
      "info2       4       5       6      24\n",
      "info3       7       8       9      35\n",
      "info4      10      11      12      48\n"
     ]
    }
   ],
   "source": [
    "# creating a matrix with specified values, row names, and column names\n",
    "info <- matrix(c(1:12), nrow = 4, byrow = TRUE, dimnames = list(rows, cols))\n",
    "\n",
    "# create a 4th column with values 12, 24, 36, 48\n",
    "info2 <- cbind(info, c(12, 24, 35, 48))\n",
    "\n",
    "# name the new column\n",
    "colnames(info2)[4] <- \"column4\"\n",
    "\n",
    "# print the updated matrix\n",
    "print(info2)"
   ]
  },
  {
   "cell_type": "markdown",
   "metadata": {},
   "source": [
    "### Changing the dimension of the matrix \n",
    "___"
   ]
  },
  {
   "cell_type": "markdown",
   "metadata": {},
   "source": [
    "To change the dimensions of a matrix in R, you can use the `dim()` function. This function allows you to set the number of rows and columns of the matrix. It returns a vector of length (row, colum) indicating the number of `rows` and `columns` for a matrix, or more generally, the length in each dimension for an array.\n",
    "\n",
    "Matrix is similar to vector but additionally contains the dimension attribute. All attributes of an object can be checked with the `attributes`() function (dimension can be checked directly with the `dim`() function).\n"
   ]
  },
  {
   "cell_type": "code",
   "execution_count": 98,
   "metadata": {
    "vscode": {
     "languageId": "r"
    }
   },
   "outputs": [
    {
     "data": {
      "text/html": [
       "<style>\n",
       ".list-inline {list-style: none; margin:0; padding: 0}\n",
       ".list-inline>li {display: inline-block}\n",
       ".list-inline>li:not(:last-child)::after {content: \"\\00b7\"; padding: 0 .5ex}\n",
       "</style>\n",
       "<ol class=list-inline><li>4</li><li>4</li></ol>\n"
      ],
      "text/latex": [
       "\\begin{enumerate*}\n",
       "\\item 4\n",
       "\\item 4\n",
       "\\end{enumerate*}\n"
      ],
      "text/markdown": [
       "1. 4\n",
       "2. 4\n",
       "\n",
       "\n"
      ],
      "text/plain": [
       "[1] 4 4"
      ]
     },
     "metadata": {},
     "output_type": "display_data"
    }
   ],
   "source": [
    "# Get the number of rows in the matrix\n",
    "dim(info2)"
   ]
  },
  {
   "cell_type": "markdown",
   "metadata": {},
   "source": [
    "- This indicates that info2 has 4 rows and 4 columns.\n",
    "\n",
    "- You can also use `dim()` to set the dimensions of a matrix or array. For example, you can reshape a vector into a matrix:"
   ]
  },
  {
   "cell_type": "code",
   "execution_count": 100,
   "metadata": {
    "vscode": {
     "languageId": "r"
    }
   },
   "outputs": [
    {
     "name": "stdout",
     "output_type": "stream",
     "text": [
      "     [,1] [,2]\n",
      "[1,]    1    3\n",
      "[2,]    4    6\n",
      "[3,]    7    9\n",
      "[4,]   10   12\n",
      "[5,]    2   12\n",
      "[6,]    5   24\n",
      "[7,]    8   35\n",
      "[8,]   11   48\n"
     ]
    }
   ],
   "source": [
    "# Change the dimensions of the matrix to 8 rows and 2 columns\n",
    "dim(info2) <- c(8, 2)\n",
    "print(info2)"
   ]
  },
  {
   "cell_type": "code",
   "execution_count": 102,
   "metadata": {
    "vscode": {
     "languageId": "r"
    }
   },
   "outputs": [
    {
     "data": {
      "text/html": [
       "<style>\n",
       ".list-inline {list-style: none; margin:0; padding: 0}\n",
       ".list-inline>li {display: inline-block}\n",
       ".list-inline>li:not(:last-child)::after {content: \"\\00b7\"; padding: 0 .5ex}\n",
       "</style>\n",
       "<ol class=list-inline><li>8</li><li>2</li></ol>\n"
      ],
      "text/latex": [
       "\\begin{enumerate*}\n",
       "\\item 8\n",
       "\\item 2\n",
       "\\end{enumerate*}\n"
      ],
      "text/markdown": [
       "1. 8\n",
       "2. 2\n",
       "\n",
       "\n"
      ],
      "text/plain": [
       "[1] 8 2"
      ]
     },
     "metadata": {},
     "output_type": "display_data"
    }
   ],
   "source": [
    "# Change the dimensions of the matrix to 2 rows and 8 columns\n",
    "dim(info2)"
   ]
  },
  {
   "cell_type": "markdown",
   "metadata": {},
   "source": [
    "### Transposition in R Matrix\n",
    "___"
   ]
  },
  {
   "cell_type": "markdown",
   "metadata": {},
   "source": [
    "The transpose in R for a matrix is achieved using the `t()` function. It swaps the rows and columns of the matrix, creating a new matrix with the original elements rearranged.\n",
    "\n",
    "Here's a breakdown of how it works:\n",
    "\n",
    "Function:\n",
    "```R\n",
    "t(matrix): Takes a matrix as input and returns its transpose.\n",
    "```\n",
    "Effect: Rows become columns, and columns become rows.\n",
    "\n"
   ]
  },
  {
   "cell_type": "code",
   "execution_count": 104,
   "metadata": {
    "vscode": {
     "languageId": "r"
    }
   },
   "outputs": [
    {
     "data": {
      "text/html": [
       "<table class=\"dataframe\">\n",
       "<caption>A matrix: 2 x 8 of type dbl</caption>\n",
       "<tbody>\n",
       "\t<tr><td>1</td><td>4</td><td>7</td><td>10</td><td> 2</td><td> 5</td><td> 8</td><td>11</td></tr>\n",
       "\t<tr><td>3</td><td>6</td><td>9</td><td>12</td><td>12</td><td>24</td><td>35</td><td>48</td></tr>\n",
       "</tbody>\n",
       "</table>\n"
      ],
      "text/latex": [
       "A matrix: 2 x 8 of type dbl\n",
       "\\begin{tabular}{llllllll}\n",
       "\t 1 & 4 & 7 & 10 &  2 &  5 &  8 & 11\\\\\n",
       "\t 3 & 6 & 9 & 12 & 12 & 24 & 35 & 48\\\\\n",
       "\\end{tabular}\n"
      ],
      "text/markdown": [
       "\n",
       "A matrix: 2 x 8 of type dbl\n",
       "\n",
       "| 1 | 4 | 7 | 10 |  2 |  5 |  8 | 11 |\n",
       "| 3 | 6 | 9 | 12 | 12 | 24 | 35 | 48 |\n",
       "\n"
      ],
      "text/plain": [
       "     [,1] [,2] [,3] [,4] [,5] [,6] [,7] [,8]\n",
       "[1,] 1    4    7    10    2    5    8   11  \n",
       "[2,] 3    6    9    12   12   24   35   48  "
      ]
     },
     "metadata": {},
     "output_type": "display_data"
    }
   ],
   "source": [
    "# transpose the matrix\n",
    "t(info2)"
   ]
  },
  {
   "cell_type": "code",
   "execution_count": 105,
   "metadata": {
    "vscode": {
     "languageId": "r"
    }
   },
   "outputs": [
    {
     "name": "stdout",
     "output_type": "stream",
     "text": [
      "     [,1] [,2] [,3]\n",
      "[1,]    1    4    7\n",
      "[2,]    2    5    8\n",
      "[3,]    3    6    9\n"
     ]
    }
   ],
   "source": [
    "# Original matrix\n",
    "my_matrix <- matrix(1:9, nrow = 3, ncol = 3)\n",
    "print(my_matrix)"
   ]
  },
  {
   "cell_type": "code",
   "execution_count": 106,
   "metadata": {
    "vscode": {
     "languageId": "r"
    }
   },
   "outputs": [
    {
     "name": "stdout",
     "output_type": "stream",
     "text": [
      "     [,1] [,2] [,3]\n",
      "[1,]    1    2    3\n",
      "[2,]    4    5    6\n",
      "[3,]    7    8    9\n"
     ]
    }
   ],
   "source": [
    "# Transposed matrix\n",
    "transposed_matrix <- t(my_matrix)\n",
    "print(transposed_matrix)"
   ]
  },
  {
   "cell_type": "markdown",
   "metadata": {},
   "source": [
    "### R Matrix Operations\n",
    "___"
   ]
  },
  {
   "cell_type": "markdown",
   "metadata": {},
   "source": [
    "There are several operations that we can perform on the R matrices to get desired results:\n",
    "\n",
    "In order to perform addition on matrices in R, we first create two matrices ‘mat1’ and ‘mat2’ with four rows and four columns as follows:"
   ]
  },
  {
   "cell_type": "code",
   "execution_count": 109,
   "metadata": {
    "vscode": {
     "languageId": "r"
    }
   },
   "outputs": [
    {
     "name": "stdout",
     "output_type": "stream",
     "text": [
      "     [,1] [,2] [,3] [,4]\n",
      "[1,]    1    5    1    5\n",
      "[2,]    2    6    2    6\n",
      "[3,]    3    7    3    7\n",
      "[4,]    4    8    4    8\n",
      "     [,1] [,2] [,3] [,4]\n",
      "[1,]    1    5    9   13\n",
      "[2,]    2    6   10   14\n",
      "[3,]    3    7   11   15\n",
      "[4,]    4    8   12   16\n"
     ]
    }
   ],
   "source": [
    "# Original matrix\n",
    "mat1 <- matrix(data = 1:8, nrow = 4, ncol = 4) #Creating our first matrix mat1 \n",
    "mat2 <- matrix(data = 1:16, nrow = 4, ncol = 4) #Creating our second matrix mat2\n",
    "print(mat1)\n",
    "print(mat2)"
   ]
  },
  {
   "cell_type": "code",
   "execution_count": 111,
   "metadata": {
    "vscode": {
     "languageId": "r"
    }
   },
   "outputs": [
    {
     "name": "stdout",
     "output_type": "stream",
     "text": [
      "     [,1] [,2] [,3] [,4]\n",
      "[1,]    2   10   10   18\n",
      "[2,]    4   12   12   20\n",
      "[3,]    6   14   14   22\n",
      "[4,]    8   16   16   24\n"
     ]
    }
   ],
   "source": [
    "# Adding two matrices\n",
    "result <- mat1 + mat2\n",
    "print(result)\n"
   ]
  },
  {
   "cell_type": "code",
   "execution_count": 112,
   "metadata": {
    "vscode": {
     "languageId": "r"
    }
   },
   "outputs": [
    {
     "name": "stdout",
     "output_type": "stream",
     "text": [
      "     [,1] [,2] [,3] [,4]\n",
      "[1,]    0    0   -8   -8\n",
      "[2,]    0    0   -8   -8\n",
      "[3,]    0    0   -8   -8\n",
      "[4,]    0    0   -8   -8\n"
     ]
    }
   ],
   "source": [
    "# Subtracting two matrices\n",
    "result <- mat1 - mat2\n",
    "print(result)"
   ]
  },
  {
   "cell_type": "code",
   "execution_count": 113,
   "metadata": {
    "vscode": {
     "languageId": "r"
    }
   },
   "outputs": [
    {
     "name": "stdout",
     "output_type": "stream",
     "text": [
      "     [,1] [,2] [,3] [,4]\n",
      "[1,]    1   25    9   65\n",
      "[2,]    4   36   20   84\n",
      "[3,]    9   49   33  105\n",
      "[4,]   16   64   48  128\n"
     ]
    }
   ],
   "source": [
    "# Multiplying two matrices\n",
    "result <- mat1 * mat2\n",
    "print(result)"
   ]
  },
  {
   "cell_type": "code",
   "execution_count": 115,
   "metadata": {
    "vscode": {
     "languageId": "r"
    }
   },
   "outputs": [
    {
     "name": "stdout",
     "output_type": "stream",
     "text": [
      "     [,1] [,2] [,3] [,4]\n",
      "[1,]    2   10    2   10\n",
      "[2,]    4   12    4   12\n",
      "[3,]    6   14    6   14\n",
      "[4,]    8   16    8   16\n"
     ]
    }
   ],
   "source": [
    "# multiplying matrics with constant\n",
    "result <- mat1 * 2\n",
    "print(result)"
   ]
  },
  {
   "cell_type": "code",
   "execution_count": 116,
   "metadata": {
    "vscode": {
     "languageId": "r"
    }
   },
   "outputs": [
    {
     "name": "stdout",
     "output_type": "stream",
     "text": [
      "     [,1] [,2]      [,3]      [,4]\n",
      "[1,]    1    1 0.1111111 0.3846154\n",
      "[2,]    1    1 0.2000000 0.4285714\n",
      "[3,]    1    1 0.2727273 0.4666667\n",
      "[4,]    1    1 0.3333333 0.5000000\n"
     ]
    }
   ],
   "source": [
    "# Dividing two matrices\n",
    "result <- mat1 / mat2\n",
    "print(result)"
   ]
  },
  {
   "cell_type": "markdown",
   "metadata": {},
   "source": [
    "### Applications of R Matrices\n",
    "___"
   ]
  },
  {
   "cell_type": "markdown",
   "metadata": {},
   "source": [
    "- In geology, matrices are used for taking surveys and also used for plotting graphs, statistics, and studies in different fields.\n",
    "- To represent the real world data is like traits of people’s population. They are the best representation method for plotting common survey things.\n",
    "- In robotics and automation, matrices are the best elements for the robot movements.\n",
    "- Matrices are used in calculating the gross domestic products in Economics. Therefore, it helps in calculating the efficiency of goods and products.\n",
    "- In computer-based application, matrices play a vital role in the projection of three-dimensional image into a two-dimensional screen, creating a realistic seeming motion.\n",
    "- In physical related applications, matrices can be applied in the study of an electrical circuit.\n"
   ]
  }
 ],
 "metadata": {
  "kernelspec": {
   "display_name": "R",
   "language": "R",
   "name": "ir"
  },
  "language_info": {
   "codemirror_mode": "r",
   "file_extension": ".r",
   "mimetype": "text/x-r-source",
   "name": "R",
   "pygments_lexer": "r",
   "version": "4.4.0"
  }
 },
 "nbformat": 4,
 "nbformat_minor": 2
}
