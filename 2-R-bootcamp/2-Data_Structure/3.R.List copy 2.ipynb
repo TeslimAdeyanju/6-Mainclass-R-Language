{
 "cells": [
  {
   "cell_type": "markdown",
   "metadata": {},
   "source": [
    "# LIST"
   ]
  },
  {
   "cell_type": "markdown",
   "metadata": {},
   "source": [
    "### Introduction\n",
    "___"
   ]
  },
  {
   "cell_type": "markdown",
   "metadata": {},
   "source": [
    "In R, a list is a versatile and flexible data structure that can store elements of different data types, such as numeric, character, logical, or even other lists. Unlike vectors and arrays, which are restricted to storing elements of the same data type, lists allow for heterogeneous data, making them suitable for representing complex and structured data. A list is created using the `list()` function.\n",
    "\n",
    "Here are some key features of lists in R:\n",
    "\n",
    "1. **Heterogeneous Data:** Lists can contain elements of different data types within the same list. This means that you can store numeric values, character strings, logical values, or even other lists as elements of a single list.\n",
    "\n",
    "2. **Arbitrary Length:** Lists can have an arbitrary number of elements, and each element can have a different length. This makes lists highly flexible and suitable for storing data structures of varying complexity.\n",
    "\n",
    "3. **Indexed Access:** Elements within a list can be accessed using numeric indices or names assigned to the elements. This allows for selective retrieval and modification of list elements.\n",
    "\n",
    "4. **Recursive Structure:** Lists can contain other lists as elements, leading to a recursive data structure. This allows for the creation of nested or hierarchical data structures, such as lists of lists or lists of data frames.\n",
    "\n",
    "5. **Named Elements:** List elements can have names assigned to them, making it easier to reference and access specific elements within a list.\n",
    "\n",
    "6. **Versatility:** Lists are highly versatile and can be used to represent a wide range of data structures, including collections of variables, results of statistical analyses, configurations of models, hierarchical data, and more.\n",
    "\n",
    "7. **Operations:** Lists support various operations, including adding, removing, and modifying elements, sub-setting, merging, and combining lists, as well as applying functions to list elements.\n",
    "\n"
   ]
  },
  {
   "cell_type": "markdown",
   "metadata": {},
   "source": [
    "### c function in R\n",
    "___"
   ]
  },
  {
   "cell_type": "markdown",
   "metadata": {},
   "source": [
    "In R, the `c()` function is used to combine values into a vector or list. The `c` stands for \"concatenate\" or \"combine\".\n",
    "\n",
    "Here's an example of using `c()` to create a numeric vector:\n",
    "\n"
   ]
  },
  {
   "cell_type": "code",
   "execution_count": 20,
   "metadata": {
    "vscode": {
     "languageId": "r"
    }
   },
   "outputs": [
    {
     "name": "stdout",
     "output_type": "stream",
     "text": [
      "[1] 1 2 3 4 5\n"
     ]
    }
   ],
   "source": [
    "# Create a numeric vector\n",
    "my_list <- c(1, 2, 3, 4, 5)\n",
    "\n",
    "# Print the vector\n",
    "print(my_list)"
   ]
  },
  {
   "cell_type": "markdown",
   "metadata": {},
   "source": [
    "\n",
    "\n",
    "In this example, the `c()` function is used to combine the numbers 1, 2, 3, 4, and 5 into a list, which is then assigned to the variable `my_list`. The `print()` function is then used to display the contents of `my_list`.\n",
    "\n",
    "You can also use `c()` to combine vectors, lists, or a mix of both. The result is always a single vector or list."
   ]
  },
  {
   "cell_type": "markdown",
   "metadata": {},
   "source": [
    "### The str() function in R\n",
    "___"
   ]
  },
  {
   "cell_type": "markdown",
   "metadata": {},
   "source": [
    "In R, the `str()` function is used to compactly display the internal structure of an R object. This can be particularly useful for understanding the structure of complex objects, such as nested lists or data frames.\n",
    "\n",
    "Here's an example of using `str()` with a data frame:\n",
    "\n"
   ]
  },
  {
   "cell_type": "code",
   "execution_count": 25,
   "metadata": {
    "vscode": {
     "languageId": "r"
    }
   },
   "outputs": [
    {
     "name": "stdout",
     "output_type": "stream",
     "text": [
      "'data.frame':\t3 obs. of  2 variables:\n",
      " $ Name: chr  \"Alice\" \"Bob\" \"Charlie\"\n",
      " $ Age : num  25 32 37\n"
     ]
    }
   ],
   "source": [
    "# Create a data frame\n",
    "df <- data.frame(Name = c(\"Alice\", \"Bob\", \"Charlie\"), Age = c(25, 32, 37))\n",
    "\n",
    "# Use str() to display the structure of the data frame\n",
    "str(df)"
   ]
  },
  {
   "cell_type": "markdown",
   "metadata": {},
   "source": [
    "\n",
    "\n",
    "In this example, the `str()` function is used to display the structure of the `df` data frame. The output will show you the types of the columns and the first few entries in each column."
   ]
  },
  {
   "cell_type": "markdown",
   "metadata": {
    "vscode": {
     "languageId": "plaintext"
    }
   },
   "source": [
    "### How to Create Lists in R Programming\n",
    "___"
   ]
  },
  {
   "cell_type": "markdown",
   "metadata": {},
   "source": [
    "A list in R is a data structure which can hold elements of different types (like numbers, strings, vectors, or even other lists). It is similar to the concept of lists in Python. A list containing string, numbers, vectors, and logical value can created using the `list()` function as below:"
   ]
  },
  {
   "cell_type": "code",
   "execution_count": 23,
   "metadata": {
    "vscode": {
     "languageId": "r"
    }
   },
   "outputs": [
    {
     "name": "stdout",
     "output_type": "stream",
     "text": [
      "[[1]]\n",
      "[1] \"Red\"\n",
      "\n",
      "[[2]]\n",
      "[1] \"White\"\n",
      "\n",
      "[[3]]\n",
      "[1] 1 2 3\n",
      "\n",
      "[[4]]\n",
      "[1] TRUE\n",
      "\n",
      "[[5]]\n",
      "[1] 22.4\n",
      "\n"
     ]
    }
   ],
   "source": [
    "list_data <- list(\"Red\", \"White\", c(1, 2, 3), TRUE, 22.4)\n",
    "print(list_data)"
   ]
  },
  {
   "cell_type": "code",
   "execution_count": 26,
   "metadata": {
    "vscode": {
     "languageId": "r"
    }
   },
   "outputs": [
    {
     "name": "stdout",
     "output_type": "stream",
     "text": [
      "List of 5\n",
      " $ : chr \"Red\"\n",
      " $ : chr \"White\"\n",
      " $ : num [1:3] 1 2 3\n",
      " $ : logi TRUE\n",
      " $ : num 22.4\n"
     ]
    }
   ],
   "source": [
    "# Use str() to display the structure of the list\n",
    "str(list_data)"
   ]
  },
  {
   "cell_type": "markdown",
   "metadata": {},
   "source": [
    "### How to Generate Lists in R as a sequence of numbers \n",
    "___"
   ]
  },
  {
   "cell_type": "markdown",
   "metadata": {},
   "source": [
    "We can use a colon `:` to generate a list of numbers."
   ]
  },
  {
   "cell_type": "code",
   "execution_count": 19,
   "metadata": {
    "vscode": {
     "languageId": "r"
    }
   },
   "outputs": [
    {
     "data": {
      "text/html": [
       "<style>\n",
       ".list-inline {list-style: none; margin:0; padding: 0}\n",
       ".list-inline>li {display: inline-block}\n",
       ".list-inline>li:not(:last-child)::after {content: \"\\00b7\"; padding: 0 .5ex}\n",
       "</style>\n",
       "<ol class=list-inline><li>1</li><li>2</li><li>3</li><li>4</li><li>5</li><li>6</li><li>7</li><li>8</li><li>9</li><li>10</li></ol>\n"
      ],
      "text/latex": [
       "\\begin{enumerate*}\n",
       "\\item 1\n",
       "\\item 2\n",
       "\\item 3\n",
       "\\item 4\n",
       "\\item 5\n",
       "\\item 6\n",
       "\\item 7\n",
       "\\item 8\n",
       "\\item 9\n",
       "\\item 10\n",
       "\\end{enumerate*}\n"
      ],
      "text/markdown": [
       "1. 1\n",
       "2. 2\n",
       "3. 3\n",
       "4. 4\n",
       "5. 5\n",
       "6. 6\n",
       "7. 7\n",
       "8. 8\n",
       "9. 9\n",
       "10. 10\n",
       "\n",
       "\n"
      ],
      "text/plain": [
       " [1]  1  2  3  4  5  6  7  8  9 10"
      ]
     },
     "metadata": {},
     "output_type": "display_data"
    }
   ],
   "source": [
    "number <- 1:10\n",
    "number "
   ]
  },
  {
   "cell_type": "code",
   "execution_count": 27,
   "metadata": {
    "vscode": {
     "languageId": "r"
    }
   },
   "outputs": [
    {
     "name": "stdout",
     "output_type": "stream",
     "text": [
      " int [1:10] 1 2 3 4 5 6 7 8 9 10\n"
     ]
    }
   ],
   "source": [
    "# display the structure of the number\n",
    "str(number)"
   ]
  },
  {
   "cell_type": "markdown",
   "metadata": {},
   "source": [
    "In R, the `list()` function and the colon (`:`) operator are used for different purposes.\n",
    "\n",
    "The `list()` function is used to create a list, which is a special type of data structure that can hold any type of objects such as vectors, matrices, data frames, even other lists, and they can all be of different types. On the other hand, the colon (`:`) operator is used to create a sequence of numbers in a vector. For example:\n",
    "\n"
   ]
  },
  {
   "cell_type": "code",
   "execution_count": 28,
   "metadata": {
    "vscode": {
     "languageId": "r"
    }
   },
   "outputs": [
    {
     "name": "stdout",
     "output_type": "stream",
     "text": [
      "[1] 1 2 3 4 5\n"
     ]
    }
   ],
   "source": [
    "# Create a sequence of numbers\n",
    "my_sequence <- 1:5\n",
    "print(my_sequence)"
   ]
  },
  {
   "cell_type": "code",
   "execution_count": 29,
   "metadata": {
    "vscode": {
     "languageId": "r"
    }
   },
   "outputs": [
    {
     "name": "stdout",
     "output_type": "stream",
     "text": [
      " int [1:5] 1 2 3 4 5\n"
     ]
    }
   ],
   "source": [
    "# Display the structure of the sequence\n",
    "str(my_sequence)"
   ]
  },
  {
   "cell_type": "markdown",
   "metadata": {},
   "source": [
    "\n",
    "\n",
    "This will output a vector of numbers from 1 to 5.\n",
    "\n",
    "So, the main difference is that `list()` is used to create lists which can hold different types of objects, while the colon (`:`) operator is used to create a sequence of numbers in a vector."
   ]
  },
  {
   "cell_type": "markdown",
   "metadata": {},
   "source": [
    "### How to Name List Elements in R Language\n",
    "___"
   ]
  },
  {
   "cell_type": "markdown",
   "metadata": {},
   "source": [
    "In R, you can name a list element at the time of creation or afterwards using the `names()` function. Here's how you can do it:\n",
    "\n"
   ]
  },
  {
   "cell_type": "code",
   "execution_count": 1,
   "metadata": {
    "vscode": {
     "languageId": "r"
    }
   },
   "outputs": [
    {
     "name": "stdout",
     "output_type": "stream",
     "text": [
      "$Name\n",
      "[1] \"John\"\n",
      "\n",
      "$Age\n",
      "[1] 25\n",
      "\n",
      "$Country\n",
      "[1] \"USA\"\n",
      "\n"
     ]
    }
   ],
   "source": [
    "# Create a list with named elements\n",
    "my_list <- list(Name = \"John\", Age = 25, Country = \"USA\")\n",
    "print(my_list)"
   ]
  },
  {
   "cell_type": "markdown",
   "metadata": {},
   "source": [
    "\n",
    "\n",
    "In this example, `my_list` is a list that contains named elements. The names of the elements are \"Name\", \"Age\", and \"Country\".\n",
    "\n",
    "You can also name the elements of a list after it has been created:\n",
    "\n"
   ]
  },
  {
   "cell_type": "code",
   "execution_count": 6,
   "metadata": {
    "vscode": {
     "languageId": "r"
    }
   },
   "outputs": [
    {
     "name": "stdout",
     "output_type": "stream",
     "text": [
      "$Name\n",
      "[1] \"John\"\n",
      "\n",
      "$Age\n",
      "[1] 25\n",
      "\n",
      "$Country\n",
      "[1] \"USA\"\n",
      "\n"
     ]
    }
   ],
   "source": [
    "# Create a list\n",
    "my_list <- list(\"John\", 25, \"USA\")\n",
    "\n",
    "# Name the elements\n",
    "names(my_list) <- c(\"Name\", \"Age\", \"Country\")\n",
    "\n",
    "# Print the list\n",
    "print(my_list)"
   ]
  },
  {
   "cell_type": "markdown",
   "metadata": {},
   "source": [
    "\n",
    "\n",
    "In this case, we first create a list and then assign names to the elements using the `names()` function. Another Example:"
   ]
  },
  {
   "cell_type": "code",
   "execution_count": 1,
   "metadata": {
    "vscode": {
     "languageId": "r"
    }
   },
   "outputs": [
    {
     "name": "stdout",
     "output_type": "stream",
     "text": [
      "$info1\n",
      "[1] \"Jan\" \"Feb\" \"Mar\"\n",
      "\n",
      "$info2\n",
      "     [,1] [,2] [,3]\n",
      "[1,]    1    3   -1\n",
      "[2,]    2    4    9\n",
      "\n",
      "$info3\n",
      "$info3[[1]]\n",
      "[1] \"Red\"\n",
      "\n",
      "$info3[[2]]\n",
      "[1] 12.3\n",
      "\n",
      "\n",
      "List of 3\n",
      " $ info1: chr [1:3] \"Jan\" \"Feb\" \"Mar\"\n",
      " $ info2: num [1:2, 1:3] 1 2 3 4 -1 9\n",
      " $ info3:List of 2\n",
      "  ..$ : chr \"Red\"\n",
      "  ..$ : num 12.3\n"
     ]
    }
   ],
   "source": [
    "# Description: This code creates a list called 'data_list' with three elements:\n",
    "# a character vector, a matrix, and another list.\n",
    "# It then assigns names to each element of the list and prints the list.\n",
    "\n",
    "data_list <- list(c(\"Jan\", \"Feb\", \"Mar\"),\n",
    "                  matrix(c(1, 2, 3, 4, -1, 9), nrow = 2),\n",
    "                  list(\"Red\", 12.3))\n",
    "\n",
    "# Assign names to the elements of the list\n",
    "names(data_list) <- c(\"info1\", \"info2\", \"info3\")\n",
    "\n",
    "# Print the list\n",
    "print(data_list)\n",
    "\n",
    "str(data_list)"
   ]
  },
  {
   "cell_type": "markdown",
   "metadata": {},
   "source": [
    "### How to Access R List Elements\n",
    "___"
   ]
  },
  {
   "cell_type": "markdown",
   "metadata": {},
   "source": [
    "\n",
    "In R, you can access elements of a list using square brackets `[ ]` notation. Lists in R can contain elements of different types, including vectors, matrices, other lists, or even functions. Here's how you can access elements of a list with some examples:"
   ]
  },
  {
   "cell_type": "code",
   "execution_count": 3,
   "metadata": {
    "vscode": {
     "languageId": "r"
    }
   },
   "outputs": [
    {
     "name": "stdout",
     "output_type": "stream",
     "text": [
      "$numbers\n",
      "[1] 1 2 3 4 5\n",
      "\n",
      "$characters\n",
      "[1] \"a\" \"b\" \"c\"\n",
      "\n",
      "$matrix\n",
      "     [,1] [,2] [,3]\n",
      "[1,]    1    4    7\n",
      "[2,]    2    5    8\n",
      "[3,]    3    6    9\n",
      "\n",
      "$sublist\n",
      "$sublist$x\n",
      "[1] 10\n",
      "\n",
      "$sublist$y\n",
      "[1] 20\n",
      "\n",
      "\n"
     ]
    }
   ],
   "source": [
    "# Create a list\n",
    "my_list2 <- list(\n",
    "  numbers = c(1, 2, 3, 4, 5),\n",
    "  characters = c(\"a\", \"b\", \"c\"),\n",
    "  matrix = matrix(1:9, nrow = 3),\n",
    "  sublist = list(x = 10, y = 20)\n",
    ")\n",
    "\n",
    "print(my_list2)"
   ]
  },
  {
   "cell_type": "code",
   "execution_count": 4,
   "metadata": {
    "vscode": {
     "languageId": "r"
    }
   },
   "outputs": [
    {
     "name": "stdout",
     "output_type": "stream",
     "text": [
      "List of 4\n",
      " $ numbers   : num [1:5] 1 2 3 4 5\n",
      " $ characters: chr [1:3] \"a\" \"b\" \"c\"\n",
      " $ matrix    : int [1:3, 1:3] 1 2 3 4 5 6 7 8 9\n",
      " $ sublist   :List of 2\n",
      "  ..$ x: num 10\n",
      "  ..$ y: num 20\n"
     ]
    }
   ],
   "source": [
    "# Display the structure of the list\n",
    "str(my_list2)"
   ]
  },
  {
   "cell_type": "markdown",
   "metadata": {},
   "source": [
    "An alternative to [], which is used often while accessing content of a list is the `$` operator. They are both the same, except that $ can do partial matching on tags."
   ]
  },
  {
   "cell_type": "markdown",
   "metadata": {},
   "source": [
    "* **Accessing by Name:** \n",
    "____\n",
    "\n",
    "You can access elements by their names if they are named."
   ]
  },
  {
   "cell_type": "code",
   "execution_count": 10,
   "metadata": {
    "vscode": {
     "languageId": "r"
    }
   },
   "outputs": [
    {
     "data": {
      "text/html": [
       "<style>\n",
       ".list-inline {list-style: none; margin:0; padding: 0}\n",
       ".list-inline>li {display: inline-block}\n",
       ".list-inline>li:not(:last-child)::after {content: \"\\00b7\"; padding: 0 .5ex}\n",
       "</style>\n",
       "<ol class=list-inline><li>1</li><li>2</li><li>3</li><li>4</li><li>5</li></ol>\n"
      ],
      "text/latex": [
       "\\begin{enumerate*}\n",
       "\\item 1\n",
       "\\item 2\n",
       "\\item 3\n",
       "\\item 4\n",
       "\\item 5\n",
       "\\end{enumerate*}\n"
      ],
      "text/markdown": [
       "1. 1\n",
       "2. 2\n",
       "3. 3\n",
       "4. 4\n",
       "5. 5\n",
       "\n",
       "\n"
      ],
      "text/plain": [
       "[1] 1 2 3 4 5"
      ]
     },
     "metadata": {},
     "output_type": "display_data"
    },
    {
     "data": {
      "text/html": [
       "<style>\n",
       ".list-inline {list-style: none; margin:0; padding: 0}\n",
       ".list-inline>li {display: inline-block}\n",
       ".list-inline>li:not(:last-child)::after {content: \"\\00b7\"; padding: 0 .5ex}\n",
       "</style>\n",
       "<ol class=list-inline><li>'a'</li><li>'b'</li><li>'c'</li></ol>\n"
      ],
      "text/latex": [
       "\\begin{enumerate*}\n",
       "\\item 'a'\n",
       "\\item 'b'\n",
       "\\item 'c'\n",
       "\\end{enumerate*}\n"
      ],
      "text/markdown": [
       "1. 'a'\n",
       "2. 'b'\n",
       "3. 'c'\n",
       "\n",
       "\n"
      ],
      "text/plain": [
       "[1] \"a\" \"b\" \"c\""
      ]
     },
     "metadata": {},
     "output_type": "display_data"
    }
   ],
   "source": [
    "# Accessing elements by name\n",
    "my_list2$numbers\n",
    "my_list2$characters"
   ]
  },
  {
   "cell_type": "code",
   "execution_count": 11,
   "metadata": {
    "vscode": {
     "languageId": "r"
    }
   },
   "outputs": [
    {
     "data": {
      "text/html": [
       "<style>\n",
       ".list-inline {list-style: none; margin:0; padding: 0}\n",
       ".list-inline>li {display: inline-block}\n",
       ".list-inline>li:not(:last-child)::after {content: \"\\00b7\"; padding: 0 .5ex}\n",
       "</style>\n",
       "<ol class=list-inline><li>'Jan'</li><li>'Feb'</li><li>'Mar'</li></ol>\n"
      ],
      "text/latex": [
       "\\begin{enumerate*}\n",
       "\\item 'Jan'\n",
       "\\item 'Feb'\n",
       "\\item 'Mar'\n",
       "\\end{enumerate*}\n"
      ],
      "text/markdown": [
       "1. 'Jan'\n",
       "2. 'Feb'\n",
       "3. 'Mar'\n",
       "\n",
       "\n"
      ],
      "text/plain": [
       "[1] \"Jan\" \"Feb\" \"Mar\""
      ]
     },
     "metadata": {},
     "output_type": "display_data"
    },
    {
     "data": {
      "text/html": [
       "<ol>\n",
       "\t<li>'Red'</li>\n",
       "\t<li>12.3</li>\n",
       "</ol>\n"
      ],
      "text/latex": [
       "\\begin{enumerate}\n",
       "\\item 'Red'\n",
       "\\item 12.3\n",
       "\\end{enumerate}\n"
      ],
      "text/markdown": [
       "1. 'Red'\n",
       "2. 12.3\n",
       "\n",
       "\n"
      ],
      "text/plain": [
       "[[1]]\n",
       "[1] \"Red\"\n",
       "\n",
       "[[2]]\n",
       "[1] 12.3\n"
      ]
     },
     "metadata": {},
     "output_type": "display_data"
    }
   ],
   "source": [
    "# Accessing elements from previous list\n",
    "data_list$info1\n",
    "data_list$info3"
   ]
  },
  {
   "cell_type": "code",
   "execution_count": null,
   "metadata": {
    "vscode": {
     "languageId": "r"
    }
   },
   "outputs": [
    {
     "data": {
      "text/html": [
       "'John'"
      ],
      "text/latex": [
       "'John'"
      ],
      "text/markdown": [
       "'John'"
      ],
      "text/plain": [
       "[1] \"John\""
      ]
     },
     "metadata": {},
     "output_type": "display_data"
    },
    {
     "data": {
      "text/html": [
       "19"
      ],
      "text/latex": [
       "19"
      ],
      "text/markdown": [
       "19"
      ],
      "text/plain": [
       "[1] 19"
      ]
     },
     "metadata": {},
     "output_type": "display_data"
    },
    {
     "data": {
      "text/html": [
       "<style>\n",
       ".list-inline {list-style: none; margin:0; padding: 0}\n",
       ".list-inline>li {display: inline-block}\n",
       ".list-inline>li:not(:last-child)::after {content: \"\\00b7\"; padding: 0 .5ex}\n",
       "</style>\n",
       "<ol class=list-inline><li>'English'</li><li>'French'</li></ol>\n"
      ],
      "text/latex": [
       "\\begin{enumerate*}\n",
       "\\item 'English'\n",
       "\\item 'French'\n",
       "\\end{enumerate*}\n"
      ],
      "text/markdown": [
       "1. 'English'\n",
       "2. 'French'\n",
       "\n",
       "\n"
      ],
      "text/plain": [
       "[1] \"English\" \"French\" "
      ]
     },
     "metadata": {},
     "output_type": "display_data"
    },
    {
     "data": {
      "text/html": [
       "'Alice'"
      ],
      "text/latex": [
       "'Alice'"
      ],
      "text/markdown": [
       "'Alice'"
      ],
      "text/plain": [
       "[1] \"Alice\""
      ]
     },
     "metadata": {},
     "output_type": "display_data"
    },
    {
     "data": {
      "text/html": [
       "25"
      ],
      "text/latex": [
       "25"
      ],
      "text/markdown": [
       "25"
      ],
      "text/plain": [
       "[1] 25"
      ]
     },
     "metadata": {},
     "output_type": "display_data"
    },
    {
     "data": {
      "text/html": [
       "<style>\n",
       ".list-inline {list-style: none; margin:0; padding: 0}\n",
       ".list-inline>li {display: inline-block}\n",
       ".list-inline>li:not(:last-child)::after {content: \"\\00b7\"; padding: 0 .5ex}\n",
       "</style>\n",
       "<ol class=list-inline><li>'Spanish'</li><li>'Italian'</li></ol>\n"
      ],
      "text/latex": [
       "\\begin{enumerate*}\n",
       "\\item 'Spanish'\n",
       "\\item 'Italian'\n",
       "\\end{enumerate*}\n"
      ],
      "text/markdown": [
       "1. 'Spanish'\n",
       "2. 'Italian'\n",
       "\n",
       "\n"
      ],
      "text/plain": [
       "[1] \"Spanish\" \"Italian\""
      ]
     },
     "metadata": {},
     "output_type": "display_data"
    }
   ],
   "source": [
    "# using $ can do partial matching on tags.\n",
    "\n",
    "x <- list(name = \"John\", age = 19, speaks = c(\"English\", \"French\"))\n",
    "\n",
    "# access element by exact matching using $\n",
    "x$name\n",
    "\n",
    "# access element by partial matching using $\n",
    "x$age\n",
    "\n",
    "# access element by partial matching using $\n",
    "x$speaks\n",
    "\n",
    "# create a list with similar tags\n",
    "y <- list(n = \"Alice\", a = 25, s = c(\"Spanish\", \"Italian\"))\n",
    "\n",
    "# access element by partial matching using $\n",
    "y$n\n",
    "\n",
    "# access element by partial matching using $\n",
    "y$a\n",
    "\n",
    "# access element by partial matching using $\n",
    "y$s"
   ]
  },
  {
   "cell_type": "markdown",
   "metadata": {},
   "source": [
    "* **Using Square Brackets `[ ]` to access a list element:** \n",
    "___\n",
    "In R, the square brackets [ ] and double square brackets [[ ]] are used to subset or extract elements from lists. While they may appear similar, they have different behaviors:\n",
    "\n",
    "Square Brackets [ ]:  \n",
    "\n",
    "- When you use square brackets [ ], you obtain a sublist containing the specified elements (conetnt).\n",
    "- If you provide multiple INDICES or NAMES, you will get a list containing the specified elements.\n",
    "- Square brackets can return a sublist or a single element wrapped in a list.\n",
    "\n",
    "Double Square Brackets [[ ]]:  \n",
    "- When you use double square brackets [[ ]], you get the actual content of the specified element.\n",
    "- It's used to directly access a single element from the list.\n",
    "- Double square brackets will always return the element itself, not wrapped in a list.\n",
    "\n",
    "consider the following example "
   ]
  },
  {
   "cell_type": "code",
   "execution_count": null,
   "metadata": {
    "vscode": {
     "languageId": "r"
    }
   },
   "outputs": [],
   "source": [
    "my_list <- list(\n",
    "  numbers = c(1, 2, 3),\n",
    "  letters = c(\"a\", \"b\", \"c\"),\n",
    "  matrix = matrix(1:4, nrow = 2)\n",
    ")\n"
   ]
  },
  {
   "cell_type": "code",
   "execution_count": null,
   "metadata": {
    "vscode": {
     "languageId": "r"
    }
   },
   "outputs": [
    {
     "name": "stdout",
     "output_type": "stream",
     "text": [
      "$numbers\n",
      "[1] 1 2 3\n",
      "\n",
      "$letters\n",
      "[1] \"a\" \"b\" \"c\"\n",
      "\n"
     ]
    }
   ],
   "source": [
    "# Using [ ]: Accessing elements by position\n",
    "# This [ ] shows the content and name of the list\n",
    "sublist <- my_list[c(\"numbers\", \"letters\")]\n",
    "print(sublist)"
   ]
  },
  {
   "cell_type": "code",
   "execution_count": null,
   "metadata": {
    "vscode": {
     "languageId": "r"
    }
   },
   "outputs": [
    {
     "name": "stdout",
     "output_type": "stream",
     "text": [
      "[1] 1 2 3\n",
      "[1] \"a\" \"b\" \"c\"\n"
     ]
    }
   ],
   "source": [
    "# Using [[ ]]: Accessing elements by position\n",
    "# This [[ ]] shows the content of the list\n",
    "numbers_vector <- my_list[[\"numbers\"]]\n",
    "print(numbers_vector)\n",
    "\n",
    "numbers_vector <- my_list[[\"letters\"]]\n",
    "print(numbers_vector)"
   ]
  },
  {
   "cell_type": "code",
   "execution_count": null,
   "metadata": {
    "vscode": {
     "languageId": "r"
    }
   },
   "outputs": [
    {
     "data": {
      "text/html": [
       "<strong>$numbers</strong> = <style>\n",
       ".list-inline {list-style: none; margin:0; padding: 0}\n",
       ".list-inline>li {display: inline-block}\n",
       ".list-inline>li:not(:last-child)::after {content: \"\\00b7\"; padding: 0 .5ex}\n",
       "</style>\n",
       "<ol class=list-inline><li>1</li><li>2</li><li>3</li><li>4</li><li>5</li></ol>\n"
      ],
      "text/latex": [
       "\\textbf{\\$numbers} = \\begin{enumerate*}\n",
       "\\item 1\n",
       "\\item 2\n",
       "\\item 3\n",
       "\\item 4\n",
       "\\item 5\n",
       "\\end{enumerate*}\n"
      ],
      "text/markdown": [
       "**$numbers** = 1. 1\n",
       "2. 2\n",
       "3. 3\n",
       "4. 4\n",
       "5. 5\n",
       "\n",
       "\n"
      ],
      "text/plain": [
       "$numbers\n",
       "[1] 1 2 3 4 5\n"
      ]
     },
     "metadata": {},
     "output_type": "display_data"
    },
    {
     "data": {
      "text/html": [
       "<style>\n",
       ".list-inline {list-style: none; margin:0; padding: 0}\n",
       ".list-inline>li {display: inline-block}\n",
       ".list-inline>li:not(:last-child)::after {content: \"\\00b7\"; padding: 0 .5ex}\n",
       "</style>\n",
       "<ol class=list-inline><li>1</li><li>2</li><li>3</li><li>4</li><li>5</li></ol>\n"
      ],
      "text/latex": [
       "\\begin{enumerate*}\n",
       "\\item 1\n",
       "\\item 2\n",
       "\\item 3\n",
       "\\item 4\n",
       "\\item 5\n",
       "\\end{enumerate*}\n"
      ],
      "text/markdown": [
       "1. 1\n",
       "2. 2\n",
       "3. 3\n",
       "4. 4\n",
       "5. 5\n",
       "\n",
       "\n"
      ],
      "text/plain": [
       "[1] 1 2 3 4 5"
      ]
     },
     "metadata": {},
     "output_type": "display_data"
    }
   ],
   "source": [
    "# Accessing elements using square brackets\n",
    "my_list[\"numbers\"]  # Accessing 'numbers' element\n",
    "my_list[[1]]  # Equivalent to accessing 'numbers' element\n"
   ]
  },
  {
   "cell_type": "markdown",
   "metadata": {},
   "source": [
    "Summary:\n",
    "- Use [ ] when you want to extract a sublist or multiple elements, which may result in a list.\n",
    "- Use [[ ]] when you want to directly access a single element from the list, which will return the element itself, not wrapped in a list."
   ]
  },
  {
   "cell_type": "markdown",
   "metadata": {},
   "source": [
    "* How to Manipulate List elements in R Programming\n",
    "____\n",
    "\n",
    "We can add, delete and update list elements as shown below. We can add and delete elements only at the end of a list. But we can update any element."
   ]
  },
  {
   "cell_type": "code",
   "execution_count": null,
   "metadata": {
    "vscode": {
     "languageId": "r"
    }
   },
   "outputs": [
    {
     "name": "stdout",
     "output_type": "stream",
     "text": [
      "$Monat\n",
      "[1] \"Feb\" \"Mar\" \"Apr\"\n",
      "\n",
      "$Matrix\n",
      "     [,1] [,2] [,3]\n",
      "[1,]    3    5   -2\n",
      "[2,]    9    1    8\n",
      "\n",
      "$Misc\n",
      "$Misc[[1]]\n",
      "[1] \"green\"\n",
      "\n",
      "$Misc[[2]]\n",
      "[1] 12.3\n",
      "\n",
      "\n"
     ]
    }
   ],
   "source": [
    "data_list <- list(\n",
    "  c(\"Feb\", \"Mar\", \"Apr\"),\n",
    "  matrix(c(3, 9, 5, 1, -2, 8), nrow = 2),\n",
    "  list(\"green\", 12.3)\n",
    ")\n",
    "\n",
    "# Give names to the elements of the list\n",
    "names(data_list) <- c(\"Monat\", \"Matrix\", \"Misc\")\n",
    "print(data_list)\n"
   ]
  },
  {
   "cell_type": "code",
   "execution_count": null,
   "metadata": {
    "vscode": {
     "languageId": "r"
    }
   },
   "outputs": [
    {
     "name": "stdout",
     "output_type": "stream",
     "text": [
      "$Monat\n",
      "[1] \"Feb\" \"Mar\" \"Apr\"\n",
      "\n",
      "$Matrix\n",
      "     [,1] [,2] [,3]\n",
      "[1,]    3    5   -2\n",
      "[2,]    9    1    8\n",
      "\n",
      "$Misc\n",
      "$Misc[[1]]\n",
      "[1] \"green\"\n",
      "\n",
      "$Misc[[2]]\n",
      "[1] 12.3\n",
      "\n",
      "\n",
      "[[4]]\n",
      "[1] \"New element\"\n",
      "\n"
     ]
    }
   ],
   "source": [
    "# Add an element at the end of the list.\n",
    "data_list[4] <- \"New element\"\n",
    "print(data_list)"
   ]
  },
  {
   "cell_type": "code",
   "execution_count": null,
   "metadata": {
    "vscode": {
     "languageId": "r"
    }
   },
   "outputs": [
    {
     "name": "stdout",
     "output_type": "stream",
     "text": [
      "$Monat\n",
      "[1] \"Feb\" \"Mar\" \"Apr\"\n",
      "\n",
      "$Misc\n",
      "$Misc[[1]]\n",
      "[1] \"green\"\n",
      "\n",
      "$Misc[[2]]\n",
      "[1] 12.3\n",
      "\n",
      "\n"
     ]
    }
   ],
   "source": [
    "# Remove the an element.\n",
    "data_list <- data_list[-2]\n",
    "print(data_list)"
   ]
  },
  {
   "cell_type": "code",
   "execution_count": null,
   "metadata": {
    "vscode": {
     "languageId": "r"
    }
   },
   "outputs": [
    {
     "name": "stdout",
     "output_type": "stream",
     "text": [
      "$Monat\n",
      "[1] \"Feb\" \"Mar\" \"Apr\"\n",
      "\n",
      "$Misc\n",
      "$Misc[[1]]\n",
      "[1] \"green\"\n",
      "\n",
      "$Misc[[2]]\n",
      "[1] 12.3\n",
      "\n",
      "\n",
      "[[3]]\n",
      "[[3]][[1]]\n",
      "[1] \"Blue\"\n",
      "\n",
      "[[3]][[2]]\n",
      "[1] 15.6\n",
      "\n",
      "\n"
     ]
    }
   ],
   "source": [
    "# Update the 3rd Element.\n",
    "data_list[[3]] <- list(\"Blue\", 15.6)\n",
    "print(data_list)"
   ]
  },
  {
   "cell_type": "code",
   "execution_count": 42,
   "metadata": {
    "vscode": {
     "languageId": "r"
    }
   },
   "outputs": [
    {
     "name": "stdout",
     "output_type": "stream",
     "text": [
      "List of 2\n",
      " $ name  : chr \"Clair\"\n",
      " $ speaks: chr [1:2] \"English\" \"French\"\n"
     ]
    }
   ],
   "source": [
    "# We can delete a component by assigning NULL to it.\n",
    "x <- list(name = \"Clair\", age = 19, speaks = c(\"English\", \"French\"))\n",
    "\n",
    "# remove an element from the list using double brackets [[]]\n",
    "x[[\"age\"]] <- NULL\n",
    "\n",
    "# print the structure of the updated list\n",
    "str(x)"
   ]
  },
  {
   "cell_type": "markdown",
   "metadata": {},
   "source": [
    "### How to Merge Lists in R Programming language\n",
    "___"
   ]
  },
  {
   "cell_type": "markdown",
   "metadata": {},
   "source": [
    "We can merge many lists into one list by placing all the lists element inside one list() function. In R, you can merge lists using the c() function. Here's an example:"
   ]
  },
  {
   "cell_type": "code",
   "execution_count": 8,
   "metadata": {
    "vscode": {
     "languageId": "r"
    }
   },
   "outputs": [
    {
     "name": "stdout",
     "output_type": "stream",
     "text": [
      "[[1]]\n",
      "[1] \"a\"\n",
      "\n",
      "[[2]]\n",
      "[1] \"b\"\n",
      "\n",
      "[[3]]\n",
      "[1] \"c\"\n",
      "\n",
      "[[4]]\n",
      "[1] \"d\"\n",
      "\n",
      "[[5]]\n",
      "[1] \"e\"\n",
      "\n",
      "[[6]]\n",
      "[1] \"f\"\n",
      "\n"
     ]
    }
   ],
   "source": [
    "# Define two lists\n",
    "list1 <- list(\"a\", \"b\", \"c\")\n",
    "list2 <- list(\"d\", \"e\", \"f\")\n",
    "\n",
    "# Merge the lists\n",
    "merged_list <- c(list1, list2)\n",
    "\n",
    "# Print the merged list\n",
    "print(merged_list)"
   ]
  },
  {
   "cell_type": "markdown",
   "metadata": {},
   "source": [
    "In this example, list1 and list2 are merged into merged_list using the c() function. The print() function is then used to display the contents of merged_list."
   ]
  },
  {
   "cell_type": "code",
   "execution_count": 7,
   "metadata": {
    "vscode": {
     "languageId": "r"
    }
   },
   "outputs": [
    {
     "data": {
      "text/html": [
       "<ol>\n",
       "\t<li>1</li>\n",
       "\t<li>2</li>\n",
       "\t<li>3</li>\n",
       "\t<li>4</li>\n",
       "\t<li>5</li>\n",
       "\t<li>'Mon'</li>\n",
       "\t<li>'Tue'</li>\n",
       "\t<li>'Wed'</li>\n",
       "\t<li>'Thurs'</li>\n",
       "\t<li>'Fri'</li>\n",
       "</ol>\n"
      ],
      "text/latex": [
       "\\begin{enumerate}\n",
       "\\item 1\n",
       "\\item 2\n",
       "\\item 3\n",
       "\\item 4\n",
       "\\item 5\n",
       "\\item 'Mon'\n",
       "\\item 'Tue'\n",
       "\\item 'Wed'\n",
       "\\item 'Thurs'\n",
       "\\item 'Fri'\n",
       "\\end{enumerate}\n"
      ],
      "text/markdown": [
       "1. 1\n",
       "2. 2\n",
       "3. 3\n",
       "4. 4\n",
       "5. 5\n",
       "6. 'Mon'\n",
       "7. 'Tue'\n",
       "8. 'Wed'\n",
       "9. 'Thurs'\n",
       "10. 'Fri'\n",
       "\n",
       "\n"
      ],
      "text/plain": [
       "[[1]]\n",
       "[1] 1\n",
       "\n",
       "[[2]]\n",
       "[1] 2\n",
       "\n",
       "[[3]]\n",
       "[1] 3\n",
       "\n",
       "[[4]]\n",
       "[1] 4\n",
       "\n",
       "[[5]]\n",
       "[1] 5\n",
       "\n",
       "[[6]]\n",
       "[1] \"Mon\"\n",
       "\n",
       "[[7]]\n",
       "[1] \"Tue\"\n",
       "\n",
       "[[8]]\n",
       "[1] \"Wed\"\n",
       "\n",
       "[[9]]\n",
       "[1] \"Thurs\"\n",
       "\n",
       "[[10]]\n",
       "[1] \"Fri\"\n"
      ]
     },
     "metadata": {},
     "output_type": "display_data"
    }
   ],
   "source": [
    "# Define a list with numeric elements\n",
    "num_list <- list(1, 2, 3, 4, 5)\n",
    "day_list <- list(\"Mon\", \"Tue\", \"Wed\", \"Thurs\", \"Fri\")\n",
    "\n",
    "# Merge the two lists\n",
    "merge_list <- c(num_list, day_list)\n",
    "\n",
    "# Print the merged list\n",
    "merge_list"
   ]
  },
  {
   "cell_type": "markdown",
   "metadata": {},
   "source": [
    "### How to Convert R List to Vector\n",
    "___"
   ]
  },
  {
   "cell_type": "markdown",
   "metadata": {},
   "source": [
    "A list can be converted to a vector so that the elements of the vector can be used for further manipulation. All the arithmetic operations on vectors can be applied after the list is converted into vector. To do this conversion, we can use the `unlist()` function. It takes the list as input and produces a vector."
   ]
  },
  {
   "cell_type": "code",
   "execution_count": 12,
   "metadata": {
    "vscode": {
     "languageId": "r"
    }
   },
   "outputs": [
    {
     "name": "stdout",
     "output_type": "stream",
     "text": [
      "[[1]]\n",
      "[1] 1 2 3 4 5\n",
      "\n",
      "[[1]]\n",
      "[1] 10 11 12 13 14\n",
      "\n"
     ]
    },
    {
     "data": {
      "text/html": [
       "'list'"
      ],
      "text/latex": [
       "'list'"
      ],
      "text/markdown": [
       "'list'"
      ],
      "text/plain": [
       "[1] \"list\""
      ]
     },
     "metadata": {},
     "output_type": "display_data"
    },
    {
     "data": {
      "text/html": [
       "'list'"
      ],
      "text/latex": [
       "'list'"
      ],
      "text/markdown": [
       "'list'"
      ],
      "text/plain": [
       "[1] \"list\""
      ]
     },
     "metadata": {},
     "output_type": "display_data"
    }
   ],
   "source": [
    "# Create a list Example 1\n",
    "int_list <- list(1:5)\n",
    "print(int_list)\n",
    "\n",
    "# Create a list Example 2\n",
    "int_list2 <- list(10:14)\n",
    "print(int_list2)\n",
    "\n",
    "# checking data type \n",
    "typeof(int_list)\n",
    "typeof(int_list2)"
   ]
  },
  {
   "cell_type": "code",
   "execution_count": 15,
   "metadata": {
    "vscode": {
     "languageId": "r"
    }
   },
   "outputs": [
    {
     "name": "stdout",
     "output_type": "stream",
     "text": [
      "[1] 1 2 3 4 5\n",
      "[1] 10 11 12 13 14\n"
     ]
    },
    {
     "data": {
      "text/html": [
       "'integer'"
      ],
      "text/latex": [
       "'integer'"
      ],
      "text/markdown": [
       "'integer'"
      ],
      "text/plain": [
       "[1] \"integer\""
      ]
     },
     "metadata": {},
     "output_type": "display_data"
    },
    {
     "data": {
      "text/html": [
       "'integer'"
      ],
      "text/latex": [
       "'integer'"
      ],
      "text/markdown": [
       "'integer'"
      ],
      "text/plain": [
       "[1] \"integer\""
      ]
     },
     "metadata": {},
     "output_type": "display_data"
    }
   ],
   "source": [
    "# Convert the lists to vectors.\n",
    "vec1 <- unlist(int_list)\n",
    "vec2 <- unlist(int_list2)\n",
    "print(vec1)\n",
    "print(vec2)\n",
    "\n",
    "# checking data type\n",
    "class(vec1)\n",
    "typeof(vec2)\n"
   ]
  },
  {
   "cell_type": "code",
   "execution_count": 17,
   "metadata": {
    "vscode": {
     "languageId": "r"
    }
   },
   "outputs": [
    {
     "name": "stdout",
     "output_type": "stream",
     "text": [
      "[1] 11 13 15 17 19\n"
     ]
    }
   ],
   "source": [
    "# Now add the vectors.\n",
    "sum_vec <- vec1 + vec2\n",
    "print(sum_vec)\n"
   ]
  },
  {
   "cell_type": "markdown",
   "metadata": {},
   "source": [
    "### Summary \n",
    "___"
   ]
  },
  {
   "cell_type": "markdown",
   "metadata": {},
   "source": [
    "We have studied the R list in the above-mentioned information. We all are aware, that lists are the object which contains elements of different types like strings, numbers, and vectors. Thus, it is necessary to learn how to apply different operations on list elements."
   ]
  }
 ],
 "metadata": {
  "kernelspec": {
   "display_name": "R",
   "language": "R",
   "name": "ir"
  },
  "language_info": {
   "codemirror_mode": "r",
   "file_extension": ".r",
   "mimetype": "text/x-r-source",
   "name": "R",
   "pygments_lexer": "r",
   "version": "4.4.0"
  }
 },
 "nbformat": 4,
 "nbformat_minor": 2
}
