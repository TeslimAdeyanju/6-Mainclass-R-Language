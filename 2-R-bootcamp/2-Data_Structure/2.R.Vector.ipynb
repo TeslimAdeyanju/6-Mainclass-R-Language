{
 "cells": [
  {
   "cell_type": "markdown",
   "metadata": {},
   "source": [
    "# VECTOR"
   ]
  },
  {
   "cell_type": "markdown",
   "metadata": {},
   "source": [
    "## Introduction\n",
    "___"
   ]
  },
  {
   "cell_type": "markdown",
   "metadata": {},
   "source": [
    "A vector is a sequence of elements that share the same data type. These elements are known as components of a vector.There are two types of vectors:\n",
    "- Atomic vectors: This contains elements of same types (homogeneous)\n",
    "- List: This contains elements of different types (heterogeneous)\n",
    "\n",
    "They have three common properties:\n",
    "\n",
    "- Type function – What it is?\n",
    "- Length function – How many elements it contains.\n",
    "- Attribute function – Extra arbitrary metadata.\n",
    "\n",
    "The focus of this note will be Atomic vector. "
   ]
  },
  {
   "cell_type": "markdown",
   "metadata": {},
   "source": [
    "## Atomic Vector in R\n",
    "___"
   ]
  },
  {
   "cell_type": "markdown",
   "metadata": {},
   "source": [
    "\n",
    "There are four common sub-types of R Atomic Vectors: Note that when we check the type of data in vector using the `class()` or `typeof()`, it returns this underlisted sub-types of data type\n",
    "\n",
    "1. Numeric Data Type\n",
    "2. Integer Data Type\n",
    "3. Character Data Type\n",
    "4. Logical Data Type"
   ]
  },
  {
   "cell_type": "markdown",
   "metadata": {},
   "source": [
    "**1.0 Numeric Data Type**: Any data types that of Decimal values are refer to as numeric in R. If we assign a decimal value for any variable in R, it will be become a numeric type. Example"
   ]
  },
  {
   "cell_type": "code",
   "execution_count": 2,
   "metadata": {
    "vscode": {
     "languageId": "r"
    }
   },
   "outputs": [
    {
     "name": "stdout",
     "output_type": "stream",
     "text": [
      "[1] 53.5\n",
      "[1] \"numeric\"\n"
     ]
    }
   ],
   "source": [
    "g <- 53.5\n",
    "print(g)\n",
    "print(class(g))"
   ]
  },
  {
   "cell_type": "markdown",
   "metadata": {},
   "source": [
    "**2.0 Integer Data Type**: In R programming, an integer is a data type that is used to store non-decimal numbers. Integer values are whole numbers without a fractional component, and they can be either positive or negative. An integer is represented by \"int\", and Int size is 2 bytes while long Int size is 4 byte.\n",
    "\n",
    "In order to assign an integer to a variable, there are two ways:\n",
    "- The first way is to use the `as.integer()` function:\n",
    "- The second way is the appending of L to the value:"
   ]
  },
  {
   "cell_type": "code",
   "execution_count": 6,
   "metadata": {
    "vscode": {
     "languageId": "r"
    }
   },
   "outputs": [
    {
     "name": "stdout",
     "output_type": "stream",
     "text": [
      "[1] 12\n",
      "[1] \"integer\"\n",
      "[1] \"_________________\"\n",
      "[1] 53\n",
      "[1] \"integer\"\n",
      "[1] \"_________________\"\n",
      "[1] 10\n",
      "[1] \"integer\"\n"
     ]
    }
   ],
   "source": [
    "# Using as.integer function\n",
    "x <- as.integer(12.67888)\n",
    "print(x)\n",
    "print(class(x))\n",
    "print(\"_________________\")\n",
    "\n",
    "# Using existing variable\n",
    "b <- as.integer(g)\n",
    "print(b)\n",
    "print(class(b))\n",
    "print(\"_________________\")\n",
    "\n",
    "# Using 'L' suffix\n",
    "y <- 10L\n",
    "print(y)\n",
    "print(class(y))"
   ]
  },
  {
   "cell_type": "markdown",
   "metadata": {},
   "source": [
    "3.0 **Character Data Type**: The character is held as the one-byte integer in memory. There are two ways to create a character data type value in R:\n",
    "\n",
    "- The first method is by typing a string between ” “\n",
    "- In order to convert a number into character, make use of `as.character()` function as follows:"
   ]
  },
  {
   "cell_type": "code",
   "execution_count": 14,
   "metadata": {
    "vscode": {
     "languageId": "r"
    }
   },
   "outputs": [
    {
     "name": "stdout",
     "output_type": "stream",
     "text": [
      "[1] \"Teslim\"\n",
      "[1] \"character\"\n",
      "[1] \"character\"\n"
     ]
    }
   ],
   "source": [
    "x <- \"Teslim\"\n",
    "print(x)\n",
    "print(class(x))\n",
    "print(typeof(x))"
   ]
  },
  {
   "cell_type": "markdown",
   "metadata": {},
   "source": [
    "** 4.0 Logical Data Type**: A logical data type returns either of the two values – TRUE or FALSE based on which condition is satisfied."
   ]
  },
  {
   "cell_type": "code",
   "execution_count": 13,
   "metadata": {
    "vscode": {
     "languageId": "r"
    }
   },
   "outputs": [
    {
     "name": "stdout",
     "output_type": "stream",
     "text": [
      "[1] TRUE\n"
     ]
    }
   ],
   "source": [
    "a <- 3\n",
    "b <- 4\n",
    "c <- b > a\n",
    "print(c)"
   ]
  },
  {
   "cell_type": "markdown",
   "metadata": {},
   "source": [
    "As a vector contains elements of the same type, if you try to combine different type of elements, the c() function converts (coerces) them into a single type."
   ]
  },
  {
   "cell_type": "code",
   "execution_count": 80,
   "metadata": {
    "vscode": {
     "languageId": "r"
    }
   },
   "outputs": [
    {
     "data": {
      "text/html": [
       "<style>\n",
       ".list-inline {list-style: none; margin:0; padding: 0}\n",
       ".list-inline>li {display: inline-block}\n",
       ".list-inline>li:not(:last-child)::after {content: \"\\00b7\"; padding: 0 .5ex}\n",
       "</style>\n",
       "<ol class=list-inline><li>'1'</li><li>'2'</li><li>'3'</li><li>'a'</li><li>'b'</li><li>'c'</li></ol>\n"
      ],
      "text/latex": [
       "\\begin{enumerate*}\n",
       "\\item '1'\n",
       "\\item '2'\n",
       "\\item '3'\n",
       "\\item 'a'\n",
       "\\item 'b'\n",
       "\\item 'c'\n",
       "\\end{enumerate*}\n"
      ],
      "text/markdown": [
       "1. '1'\n",
       "2. '2'\n",
       "3. '3'\n",
       "4. 'a'\n",
       "5. 'b'\n",
       "6. 'c'\n",
       "\n",
       "\n"
      ],
      "text/plain": [
       "[1] \"1\" \"2\" \"3\" \"a\" \"b\" \"c\""
      ]
     },
     "metadata": {},
     "output_type": "display_data"
    },
    {
     "data": {
      "text/html": [
       "<style>\n",
       ".list-inline {list-style: none; margin:0; padding: 0}\n",
       ".list-inline>li {display: inline-block}\n",
       ".list-inline>li:not(:last-child)::after {content: \"\\00b7\"; padding: 0 .5ex}\n",
       "</style>\n",
       "<ol class=list-inline><li>1</li><li>2</li><li>3</li><li>1</li><li>0</li></ol>\n"
      ],
      "text/latex": [
       "\\begin{enumerate*}\n",
       "\\item 1\n",
       "\\item 2\n",
       "\\item 3\n",
       "\\item 1\n",
       "\\item 0\n",
       "\\end{enumerate*}\n"
      ],
      "text/markdown": [
       "1. 1\n",
       "2. 2\n",
       "3. 3\n",
       "4. 1\n",
       "5. 0\n",
       "\n",
       "\n"
      ],
      "text/plain": [
       "[1] 1 2 3 1 0"
      ]
     },
     "metadata": {},
     "output_type": "display_data"
    }
   ],
   "source": [
    "# numerics are converted to characters\n",
    "v <- c(1, 2, 3, \"a\", \"b\", \"c\")\n",
    "v\n",
    "\n",
    "# logical are turned to numerics\n",
    "v <- c(1, 2, 3, TRUE, FALSE)\n",
    "v"
   ]
  },
  {
   "cell_type": "markdown",
   "metadata": {},
   "source": [
    "## How to Create Vector in R?\n",
    "___"
   ]
  },
  {
   "cell_type": "markdown",
   "metadata": {},
   "source": [
    "The `c()` function is used for creating a vector in R. This function returns a one-dimensional array, also known as vector."
   ]
  },
  {
   "cell_type": "code",
   "execution_count": 16,
   "metadata": {
    "vscode": {
     "languageId": "r"
    }
   },
   "outputs": [
    {
     "name": "stdout",
     "output_type": "stream",
     "text": [
      "[1] 1 2 3 4 5\n"
     ]
    }
   ],
   "source": [
    "# create a vector\n",
    "v <- c(1, 2, 3, 4, 5)\n",
    "print(v)"
   ]
  },
  {
   "cell_type": "markdown",
   "metadata": {},
   "source": [
    "Apart from the c()function above, there are other several ways of creating a vectors. To create a vector with numerical values in a sequence, use the `:` operator"
   ]
  },
  {
   "cell_type": "code",
   "execution_count": 20,
   "metadata": {
    "vscode": {
     "languageId": "r"
    }
   },
   "outputs": [
    {
     "name": "stdout",
     "output_type": "stream",
     "text": [
      " [1]  1  2  3  4  5  6  7  8  9 10\n",
      " [1]  5  4  3  2  1  0 -1 -2 -3 -4 -5\n"
     ]
    }
   ],
   "source": [
    "# Using the colon operator to create a vector\n",
    "x <- 1:10\n",
    "y <- 5:-5\n",
    "print(x)\n",
    "print(y)"
   ]
  },
  {
   "cell_type": "markdown",
   "metadata": {},
   "source": [
    ". Create R vector using `seq()` function: There are also two ways in this. The first way is to set the step size and the second method is by setting the length of the vector."
   ]
  },
  {
   "cell_type": "code",
   "execution_count": 5,
   "metadata": {
    "vscode": {
     "languageId": "r"
    }
   },
   "outputs": [
    {
     "data": {
      "text/html": [
       "<style>\n",
       ".list-inline {list-style: none; margin:0; padding: 0}\n",
       ".list-inline>li {display: inline-block}\n",
       ".list-inline>li:not(:last-child)::after {content: \"\\00b7\"; padding: 0 .5ex}\n",
       "</style>\n",
       "<ol class=list-inline><li>1</li><li>6</li><li>11</li><li>16</li></ol>\n"
      ],
      "text/latex": [
       "\\begin{enumerate*}\n",
       "\\item 1\n",
       "\\item 6\n",
       "\\item 11\n",
       "\\item 16\n",
       "\\end{enumerate*}\n"
      ],
      "text/markdown": [
       "1. 1\n",
       "2. 6\n",
       "3. 11\n",
       "4. 16\n",
       "\n",
       "\n"
      ],
      "text/plain": [
       "[1]  1  6 11 16"
      ]
     },
     "metadata": {},
     "output_type": "display_data"
    }
   ],
   "source": [
    "# Setting step size with ‘by’ parameter:\n",
    "y <- seq(from = 1, to = 20, by = 5)\n",
    "y"
   ]
  },
  {
   "cell_type": "code",
   "execution_count": 6,
   "metadata": {
    "vscode": {
     "languageId": "r"
    }
   },
   "outputs": [
    {
     "data": {
      "text/html": [
       "<style>\n",
       ".list-inline {list-style: none; margin:0; padding: 0}\n",
       ".list-inline>li {display: inline-block}\n",
       ".list-inline>li:not(:last-child)::after {content: \"\\00b7\"; padding: 0 .5ex}\n",
       "</style>\n",
       "<ol class=list-inline><li>1</li><li>5.75</li><li>10.5</li><li>15.25</li><li>20</li></ol>\n"
      ],
      "text/latex": [
       "\\begin{enumerate*}\n",
       "\\item 1\n",
       "\\item 5.75\n",
       "\\item 10.5\n",
       "\\item 15.25\n",
       "\\item 20\n",
       "\\end{enumerate*}\n"
      ],
      "text/markdown": [
       "1. 1\n",
       "2. 5.75\n",
       "3. 10.5\n",
       "4. 15.25\n",
       "5. 20\n",
       "\n",
       "\n"
      ],
      "text/plain": [
       "[1]  1.00  5.75 10.50 15.25 20.00"
      ]
     },
     "metadata": {},
     "output_type": "display_data"
    }
   ],
   "source": [
    "# Specifying length of vector with the ‘length.out’ feature:\n",
    "y <- seq(from = 1, to = 20, length.out = 5)\n",
    "y"
   ]
  },
  {
   "cell_type": "markdown",
   "metadata": {},
   "source": [
    "In R, the seq() function is used to generate sequences of numbers. The `length.out` parameter in the seq() function specifies the length of the output sequence. \n",
    "\n",
    "The seq() function is generating a sequence that starts at 1 (from = 1), ends at 20 (to = 20), and has a length of 5 (length.out = 5). This means that the function will generate a sequence of 5 evenly spaced numbers between 1 and 20. So, the length.out parameter is useful when you want to generate a sequence of numbers with a specific length.\n",
    "\n"
   ]
  },
  {
   "cell_type": "markdown",
   "metadata": {},
   "source": [
    "## How to Access Elements of R Vectors?\n",
    "___"
   ]
  },
  {
   "cell_type": "markdown",
   "metadata": {},
   "source": [
    "With the help of vector indexing, we can access the elements of vectors. Indexing denotes the position where the values in a vector are stored. This indexing can be performed with the help of integer, character or logic."
   ]
  },
  {
   "cell_type": "markdown",
   "metadata": {},
   "source": [
    "**1. Indexing with Integer Vector**: Unlike many programming languages like Python, C++, Java etc. where the indexing starts from 0, the indexing of vectors in R starts with 1. We can perform indexing by specifying integer value in square braces `[ ]` next to our vector."
   ]
  },
  {
   "cell_type": "code",
   "execution_count": 32,
   "metadata": {
    "vscode": {
     "languageId": "r"
    }
   },
   "outputs": [
    {
     "data": {
      "text/html": [
       "5"
      ],
      "text/latex": [
       "5"
      ],
      "text/markdown": [
       "5"
      ],
      "text/plain": [
       "[1] 5"
      ]
     },
     "metadata": {},
     "output_type": "display_data"
    },
    {
     "data": {
      "text/html": [
       "8"
      ],
      "text/latex": [
       "8"
      ],
      "text/markdown": [
       "8"
      ],
      "text/plain": [
       "[1] 8"
      ]
     },
     "metadata": {},
     "output_type": "display_data"
    },
    {
     "data": {
      "text/html": [
       "6"
      ],
      "text/latex": [
       "6"
      ],
      "text/markdown": [
       "6"
      ],
      "text/plain": [
       "[1] 6"
      ]
     },
     "metadata": {},
     "output_type": "display_data"
    }
   ],
   "source": [
    "v <- c(5, 4, 8, 9, 6)\n",
    "v[1]\n",
    "v[3]\n",
    "v[5]"
   ]
  },
  {
   "cell_type": "markdown",
   "metadata": {},
   "source": [
    "**2. Indexing with Character Vector**: Character vector indexing can be done as follows:"
   ]
  },
  {
   "cell_type": "code",
   "execution_count": 7,
   "metadata": {
    "vscode": {
     "languageId": "r"
    }
   },
   "outputs": [
    {
     "name": "stdout",
     "output_type": "stream",
     "text": [
      "one \n",
      "  1 \n",
      "two \n",
      "  2 \n"
     ]
    }
   ],
   "source": [
    "x <- c(\"one\" = 1, \"two\" = 2, \"three\" = 3)\n",
    "print(x[\"one\"])\n",
    "print(x[\"two\"])"
   ]
  },
  {
   "cell_type": "code",
   "execution_count": 12,
   "metadata": {
    "vscode": {
     "languageId": "r"
    }
   },
   "outputs": [
    {
     "data": {
      "text/html": [
       "<strong>lemon:</strong> 5"
      ],
      "text/latex": [
       "\\textbf{lemon:} 5"
      ],
      "text/markdown": [
       "**lemon:** 5"
      ],
      "text/plain": [
       "lemon \n",
       "    5 "
      ]
     },
     "metadata": {},
     "output_type": "display_data"
    },
    {
     "data": {
      "text/html": [
       "<strong>banana:</strong> 1"
      ],
      "text/latex": [
       "\\textbf{banana:} 1"
      ],
      "text/markdown": [
       "**banana:** 1"
      ],
      "text/plain": [
       "banana \n",
       "     1 "
      ]
     },
     "metadata": {},
     "output_type": "display_data"
    },
    {
     "data": {
      "text/html": [
       "<strong>orange:</strong> 3"
      ],
      "text/latex": [
       "\\textbf{orange:} 3"
      ],
      "text/markdown": [
       "**orange:** 3"
      ],
      "text/plain": [
       "orange \n",
       "     3 "
      ]
     },
     "metadata": {},
     "output_type": "display_data"
    }
   ],
   "source": [
    "fruits <- c(\"banana\" = 1, \"apple\" = 2, \"orange\" = 3,  \"mango\" = 4, \"lemon\" = 5)\n",
    "fruits[5]\n",
    "fruits['banana']\n",
    "fruits[3]"
   ]
  },
  {
   "cell_type": "markdown",
   "metadata": {},
   "source": [
    "**3. Indexing with Logic Vector**: In logical indexing, the positions whose corresponding position has logical vector TRUE are returned. For example, in the below code, R returns the positions of 1 and 3, where the corresponding logical vectors are TRUE."
   ]
  },
  {
   "cell_type": "code",
   "execution_count": 39,
   "metadata": {
    "vscode": {
     "languageId": "r"
    }
   },
   "outputs": [
    {
     "data": {
      "text/html": [
       "<style>\n",
       ".list-inline {list-style: none; margin:0; padding: 0}\n",
       ".list-inline>li {display: inline-block}\n",
       ".list-inline>li:not(:last-child)::after {content: \"\\00b7\"; padding: 0 .5ex}\n",
       "</style>\n",
       "<ol class=list-inline><li>1</li><li>3</li><li>5</li></ol>\n"
      ],
      "text/latex": [
       "\\begin{enumerate*}\n",
       "\\item 1\n",
       "\\item 3\n",
       "\\item 5\n",
       "\\end{enumerate*}\n"
      ],
      "text/markdown": [
       "1. 1\n",
       "2. 3\n",
       "3. 5\n",
       "\n",
       "\n"
      ],
      "text/plain": [
       "[1] 1 3 5"
      ]
     },
     "metadata": {},
     "output_type": "display_data"
    }
   ],
   "source": [
    "a <- c(1, 2, 3, 4, 5)\n",
    "a[c(TRUE, FALSE, TRUE, FALSE, TRUE)]"
   ]
  },
  {
   "cell_type": "markdown",
   "metadata": {},
   "source": [
    "**4.Accessing by Negative Integer**: Sub-setting with negative integers will omit the elements at the specified positions"
   ]
  },
  {
   "cell_type": "code",
   "execution_count": 14,
   "metadata": {
    "vscode": {
     "languageId": "r"
    }
   },
   "outputs": [
    {
     "data": {
      "text/html": [
       "<style>\n",
       ".list-inline {list-style: none; margin:0; padding: 0}\n",
       ".list-inline>li {display: inline-block}\n",
       ".list-inline>li:not(:last-child)::after {content: \"\\00b7\"; padding: 0 .5ex}\n",
       "</style>\n",
       "<ol class=list-inline><li>'b'</li><li>'c'</li><li>'d'</li><li>'e'</li><li>'f'</li></ol>\n"
      ],
      "text/latex": [
       "\\begin{enumerate*}\n",
       "\\item 'b'\n",
       "\\item 'c'\n",
       "\\item 'd'\n",
       "\\item 'e'\n",
       "\\item 'f'\n",
       "\\end{enumerate*}\n"
      ],
      "text/markdown": [
       "1. 'b'\n",
       "2. 'c'\n",
       "3. 'd'\n",
       "4. 'e'\n",
       "5. 'f'\n",
       "\n",
       "\n"
      ],
      "text/plain": [
       "[1] \"b\" \"c\" \"d\" \"e\" \"f\""
      ]
     },
     "metadata": {},
     "output_type": "display_data"
    },
    {
     "data": {
      "text/html": [
       "<style>\n",
       ".list-inline {list-style: none; margin:0; padding: 0}\n",
       ".list-inline>li {display: inline-block}\n",
       ".list-inline>li:not(:last-child)::after {content: \"\\00b7\"; padding: 0 .5ex}\n",
       "</style>\n",
       "<ol class=list-inline><li>'a'</li><li>'f'</li></ol>\n"
      ],
      "text/latex": [
       "\\begin{enumerate*}\n",
       "\\item 'a'\n",
       "\\item 'f'\n",
       "\\end{enumerate*}\n"
      ],
      "text/markdown": [
       "1. 'a'\n",
       "2. 'f'\n",
       "\n",
       "\n"
      ],
      "text/plain": [
       "[1] \"a\" \"f\""
      ]
     },
     "metadata": {},
     "output_type": "display_data"
    },
    {
     "data": {
      "text/html": [
       "<style>\n",
       ".list-inline {list-style: none; margin:0; padding: 0}\n",
       ".list-inline>li {display: inline-block}\n",
       ".list-inline>li:not(:last-child)::after {content: \"\\00b7\"; padding: 0 .5ex}\n",
       "</style>\n",
       "<ol class=list-inline><li>'b'</li><li>'d'</li><li>'e'</li><li>'f'</li></ol>\n"
      ],
      "text/latex": [
       "\\begin{enumerate*}\n",
       "\\item 'b'\n",
       "\\item 'd'\n",
       "\\item 'e'\n",
       "\\item 'f'\n",
       "\\end{enumerate*}\n"
      ],
      "text/markdown": [
       "1. 'b'\n",
       "2. 'd'\n",
       "3. 'e'\n",
       "4. 'f'\n",
       "\n",
       "\n"
      ],
      "text/plain": [
       "[1] \"b\" \"d\" \"e\" \"f\""
      ]
     },
     "metadata": {},
     "output_type": "display_data"
    }
   ],
   "source": [
    "v <- c(\"a\", \"b\", \"c\", \"d\", \"e\", \"f\")\n",
    "\n",
    "# omit first element\n",
    "v[-1]\n",
    "\n",
    "# omit elements from index 2 to 5\n",
    "v[-2:-5]\n",
    "\n",
    "# omit 1st, 3rd and 5th element\n",
    "v[c(-1, -3, 0)]"
   ]
  },
  {
   "cell_type": "markdown",
   "metadata": {},
   "source": [
    "## Operations in R Vector\n",
    "___"
   ]
  },
  {
   "cell_type": "markdown",
   "metadata": {},
   "source": [
    "* **Combining Vector in R:**   \n",
    "Functions are used to combine vectors. In order to combine the two vectors in R, we will create two new vectors ‘n’ and ‘s’. Then, we will create another vector that will combine these two using c(n,s) as follows:"
   ]
  },
  {
   "cell_type": "code",
   "execution_count": 1,
   "metadata": {
    "vscode": {
     "languageId": "r"
    }
   },
   "outputs": [
    {
     "name": "stdout",
     "output_type": "stream",
     "text": [
      "[1] \"1\"      \"2\"      \"3\"      \"4\"      \"Hadoop\" \"Spark\"  \"HIVE\"   \"Flink\" \n"
     ]
    }
   ],
   "source": [
    "# combining vectors\n",
    "x <- c(1, 2, 3, 4)\n",
    "s = c(\"Hadoop\", \"Spark\", \"HIVE\", \"Flink\")\n",
    "print(c(x, s))"
   ]
  },
  {
   "cell_type": "markdown",
   "metadata": {},
   "source": [
    "* **Arithmetic Operations on Vectors in R:**  \n",
    "Arithmetic operations on vectors can be performed member-by-member."
   ]
  },
  {
   "cell_type": "code",
   "execution_count": 44,
   "metadata": {
    "vscode": {
     "languageId": "r"
    }
   },
   "outputs": [
    {
     "name": "stdout",
     "output_type": "stream",
     "text": [
      "[1] 1 3 4 5\n"
     ]
    },
    {
     "data": {
      "text/html": [
       "<style>\n",
       ".list-inline {list-style: none; margin:0; padding: 0}\n",
       ".list-inline>li {display: inline-block}\n",
       ".list-inline>li:not(:last-child)::after {content: \"\\00b7\"; padding: 0 .5ex}\n",
       "</style>\n",
       "<ol class=list-inline><li>5</li><li>8</li></ol>\n"
      ],
      "text/latex": [
       "\\begin{enumerate*}\n",
       "\\item 5\n",
       "\\item 8\n",
       "\\end{enumerate*}\n"
      ],
      "text/markdown": [
       "1. 5\n",
       "2. 8\n",
       "\n",
       "\n"
      ],
      "text/plain": [
       "[1] 5 8"
      ]
     },
     "metadata": {},
     "output_type": "display_data"
    },
    {
     "data": {
      "text/html": [
       "<style>\n",
       ".list-inline {list-style: none; margin:0; padding: 0}\n",
       ".list-inline>li {display: inline-block}\n",
       ".list-inline>li:not(:last-child)::after {content: \"\\00b7\"; padding: 0 .5ex}\n",
       "</style>\n",
       "<ol class=list-inline><li>-3</li><li>-2</li></ol>\n"
      ],
      "text/latex": [
       "\\begin{enumerate*}\n",
       "\\item -3\n",
       "\\item -2\n",
       "\\end{enumerate*}\n"
      ],
      "text/markdown": [
       "1. -3\n",
       "2. -2\n",
       "\n",
       "\n"
      ],
      "text/plain": [
       "[1] -3 -2"
      ]
     },
     "metadata": {},
     "output_type": "display_data"
    },
    {
     "data": {
      "text/html": [
       "<style>\n",
       ".list-inline {list-style: none; margin:0; padding: 0}\n",
       ".list-inline>li {display: inline-block}\n",
       ".list-inline>li:not(:last-child)::after {content: \"\\00b7\"; padding: 0 .5ex}\n",
       "</style>\n",
       "<ol class=list-inline><li>4</li><li>15</li></ol>\n"
      ],
      "text/latex": [
       "\\begin{enumerate*}\n",
       "\\item 4\n",
       "\\item 15\n",
       "\\end{enumerate*}\n"
      ],
      "text/markdown": [
       "1. 4\n",
       "2. 15\n",
       "\n",
       "\n"
      ],
      "text/plain": [
       "[1]  4 15"
      ]
     },
     "metadata": {},
     "output_type": "display_data"
    },
    {
     "data": {
      "text/html": [
       "<style>\n",
       ".list-inline {list-style: none; margin:0; padding: 0}\n",
       ".list-inline>li {display: inline-block}\n",
       ".list-inline>li:not(:last-child)::after {content: \"\\00b7\"; padding: 0 .5ex}\n",
       "</style>\n",
       "<ol class=list-inline><li>0.25</li><li>0.6</li></ol>\n"
      ],
      "text/latex": [
       "\\begin{enumerate*}\n",
       "\\item 0.25\n",
       "\\item 0.6\n",
       "\\end{enumerate*}\n"
      ],
      "text/markdown": [
       "1. 0.25\n",
       "2. 0.6\n",
       "\n",
       "\n"
      ],
      "text/plain": [
       "[1] 0.25 0.60"
      ]
     },
     "metadata": {},
     "output_type": "display_data"
    },
    {
     "data": {
      "text/html": [
       "<style>\n",
       ".list-inline {list-style: none; margin:0; padding: 0}\n",
       ".list-inline>li {display: inline-block}\n",
       ".list-inline>li:not(:last-child)::after {content: \"\\00b7\"; padding: 0 .5ex}\n",
       "</style>\n",
       "<ol class=list-inline><li>1</li><li>3</li></ol>\n"
      ],
      "text/latex": [
       "\\begin{enumerate*}\n",
       "\\item 1\n",
       "\\item 3\n",
       "\\end{enumerate*}\n"
      ],
      "text/markdown": [
       "1. 1\n",
       "2. 3\n",
       "\n",
       "\n"
      ],
      "text/plain": [
       "[1] 1 3"
      ]
     },
     "metadata": {},
     "output_type": "display_data"
    }
   ],
   "source": [
    "a <- c(1, 3)\n",
    "b <- c(4, 5)\n",
    "print(c(a, b))\n",
    "\n",
    "# addition\n",
    "a + b\n",
    "# subtraction\n",
    "a - b\n",
    "# multiplication\n",
    "a * b\n",
    "# division\n",
    "a / b\n",
    "# modulus\n",
    "a %% b"
   ]
  },
  {
   "cell_type": "markdown",
   "metadata": {},
   "source": [
    "* **The Recycling Rule**:   \n",
    "Arithmetic operations are performed in an element-by-element manner. That works well when both vectors have the same length. But, when the vectors have unequal lengths, R’s Recycling Rule kicks in. If we apply arithmetic operations to two vectors of unequal length, then the elements of the shorter vector are recycled to match the longest vector."
   ]
  },
  {
   "cell_type": "code",
   "execution_count": 86,
   "metadata": {
    "vscode": {
     "languageId": "r"
    }
   },
   "outputs": [
    {
     "data": {
      "text/html": [
       "<style>\n",
       ".list-inline {list-style: none; margin:0; padding: 0}\n",
       ".list-inline>li {display: inline-block}\n",
       ".list-inline>li:not(:last-child)::after {content: \"\\00b7\"; padding: 0 .5ex}\n",
       "</style>\n",
       "<ol class=list-inline><li>2</li><li>4</li><li>6</li><li>5</li><li>7</li><li>9</li></ol>\n"
      ],
      "text/latex": [
       "\\begin{enumerate*}\n",
       "\\item 2\n",
       "\\item 4\n",
       "\\item 6\n",
       "\\item 5\n",
       "\\item 7\n",
       "\\item 9\n",
       "\\end{enumerate*}\n"
      ],
      "text/markdown": [
       "1. 2\n",
       "2. 4\n",
       "3. 6\n",
       "4. 5\n",
       "5. 7\n",
       "6. 9\n",
       "\n",
       "\n"
      ],
      "text/plain": [
       "[1] 2 4 6 5 7 9"
      ]
     },
     "metadata": {},
     "output_type": "display_data"
    }
   ],
   "source": [
    "long <- c(1, 2, 3, 4, 5, 6)\n",
    "short <- c(1, 2, 3)\n",
    "long + short"
   ]
  },
  {
   "cell_type": "markdown",
   "metadata": {},
   "source": [
    "Here, the elements of long and short are added together starting from the first element of both vectors. When R reaches the end of the short vector, it starts again at the first element of short and continues until it reaches the last element of the long vector."
   ]
  },
  {
   "cell_type": "markdown",
   "metadata": {},
   "source": [
    "* **Logical Index Vector in R:**  \n",
    "In R, a logical index is a way to select or extract elements from a vector (or other data structures like matrices, data frames, etc.) based on a logical condition. A logical index is a vector that contains `TRUE` and `FALSE` values. When used to index a vector, R will return the elements where the corresponding logical index is `TRUE`."
   ]
  },
  {
   "cell_type": "code",
   "execution_count": 50,
   "metadata": {
    "vscode": {
     "languageId": "r"
    }
   },
   "outputs": [
    {
     "name": "stdout",
     "output_type": "stream",
     "text": [
      "[1] 1 3 5\n"
     ]
    }
   ],
   "source": [
    "# Create a numeric vector\n",
    "x <- c(1, 2, 3, 4, 5)\n",
    "\n",
    "# Create a logical vector\n",
    "logi <- c(TRUE, FALSE, TRUE, FALSE, TRUE)\n",
    "\n",
    "# Use the logical vector to index the numeric vector\n",
    "y <- x[logi]\n",
    "\n",
    "# Print y\n",
    "print(y)"
   ]
  },
  {
   "cell_type": "markdown",
   "metadata": {},
   "source": [
    "In this example, `y` will contain the elements of `x` where the corresponding value in `logi` is `TRUE`. So, `y` will be `c(1, 3, 5)`.You can also create a logical index based on a condition. For example:"
   ]
  },
  {
   "cell_type": "code",
   "execution_count": 51,
   "metadata": {
    "vscode": {
     "languageId": "r"
    }
   },
   "outputs": [
    {
     "name": "stdout",
     "output_type": "stream",
     "text": [
      "[1] 4 5\n"
     ]
    }
   ],
   "source": [
    "# Create a numeric vector\n",
    "x <- c(1, 2, 3, 4, 5)\n",
    "\n",
    "# Create a logical index based on a condition\n",
    "logi <- x > 3\n",
    "\n",
    "# Use the logical index to extract elements from the numeric vector\n",
    "y <- x[logi]\n",
    "\n",
    "# Print y\n",
    "print(y)"
   ]
  },
  {
   "cell_type": "markdown",
   "metadata": {},
   "source": [
    "\n",
    "\n",
    "In this example, `y` will contain the elements of `x` that are greater than 3, so `y` will be `c(4, 5)`."
   ]
  },
  {
   "cell_type": "markdown",
   "metadata": {},
   "source": [
    "* 4. Numeric Index:   \n",
    "For indexing a numerical value in R, we specify the index between square braces [ ]. If our index is negative, then R will return us all the values except for the index that we have specified. For example, specifying [-2] will prompt R to convert -2 into its absolute value and then search for the value that occupies that index."
   ]
  },
  {
   "cell_type": "code",
   "execution_count": 56,
   "metadata": {
    "vscode": {
     "languageId": "r"
    }
   },
   "outputs": [
    {
     "name": "stdout",
     "output_type": "stream",
     "text": [
      "[1] 2\n",
      "[1] 1 3 4 5\n"
     ]
    }
   ],
   "source": [
    "# numeric index\n",
    "x <- c(1, 2, 3, 4, 5)\n",
    "k <- c(1, 3, 5, 9)\n",
    "y <- x[2]\n",
    "k <- x[-2]\n",
    "print(y)\n",
    "print(k)"
   ]
  },
  {
   "cell_type": "markdown",
   "metadata": {},
   "source": [
    "* **Duplicate Index:**   \n",
    "The index vector allows duplicate values. Hence, the following retrieves a member twice in one operation.  \n"
   ]
  },
  {
   "cell_type": "code",
   "execution_count": 61,
   "metadata": {
    "vscode": {
     "languageId": "r"
    }
   },
   "outputs": [
    {
     "data": {
      "text/html": [
       "<style>\n",
       ".list-inline {list-style: none; margin:0; padding: 0}\n",
       ".list-inline>li {display: inline-block}\n",
       ".list-inline>li:not(:last-child)::after {content: \"\\00b7\"; padding: 0 .5ex}\n",
       "</style>\n",
       "<ol class=list-inline><li>'bb'</li><li>'cc'</li><li>'cc'</li></ol>\n"
      ],
      "text/latex": [
       "\\begin{enumerate*}\n",
       "\\item 'bb'\n",
       "\\item 'cc'\n",
       "\\item 'cc'\n",
       "\\end{enumerate*}\n"
      ],
      "text/markdown": [
       "1. 'bb'\n",
       "2. 'cc'\n",
       "3. 'cc'\n",
       "\n",
       "\n"
      ],
      "text/plain": [
       "[1] \"bb\" \"cc\" \"cc\""
      ]
     },
     "metadata": {},
     "output_type": "display_data"
    }
   ],
   "source": [
    "s <- c(\"aa\", \"bb\", \"cc\", \"dd\", \"ee\")\n",
    "s[c(2, 3, 3)]"
   ]
  },
  {
   "cell_type": "code",
   "execution_count": 17,
   "metadata": {
    "vscode": {
     "languageId": "r"
    }
   },
   "outputs": [
    {
     "data": {
      "text/html": [
       "<style>\n",
       ".list-inline {list-style: none; margin:0; padding: 0}\n",
       ".list-inline>li {display: inline-block}\n",
       ".list-inline>li:not(:last-child)::after {content: \"\\00b7\"; padding: 0 .5ex}\n",
       "</style>\n",
       "<ol class=list-inline><li>'aa'</li><li>'aa'</li><li>'ee'</li></ol>\n"
      ],
      "text/latex": [
       "\\begin{enumerate*}\n",
       "\\item 'aa'\n",
       "\\item 'aa'\n",
       "\\item 'ee'\n",
       "\\end{enumerate*}\n"
      ],
      "text/markdown": [
       "1. 'aa'\n",
       "2. 'aa'\n",
       "3. 'ee'\n",
       "\n",
       "\n"
      ],
      "text/plain": [
       "[1] \"aa\" \"aa\" \"ee\""
      ]
     },
     "metadata": {},
     "output_type": "display_data"
    }
   ],
   "source": [
    "s <- c(\"aa\", \"bb\", \"cc\", \"dd\", \"ee\")\n",
    "c <- c(1, 2, 3, 4, 5)\n",
    "\n",
    "s[c(1, 1, 5)]"
   ]
  },
  {
   "cell_type": "markdown",
   "metadata": {},
   "source": [
    "* **Insert Element into a Vector:**  \n",
    "To insert an element into the middle of a vector, use `append()` function. The syntax is \n",
    "\n",
    "```R\n",
    "\n",
    "append(x, value, after = length(x) - 1)\n",
    "\n",
    "```\n",
    "where x is the vector, value is the element to be inserted, and after is the position where the element is to be inserted. and the default value is length(x) - 1. thus, if the x = 6, the default value will be 5.\n",
    "\n",
    "if the after is set to 0, the element will be inserted at the beginning of the vector.\n",
    "\n",
    "if the after is set to length(x), the element will be inserted at the end of the vector."
   ]
  },
  {
   "cell_type": "code",
   "execution_count": 3,
   "metadata": {
    "vscode": {
     "languageId": "r"
    }
   },
   "outputs": [
    {
     "data": {
      "text/html": [
       "<style>\n",
       ".list-inline {list-style: none; margin:0; padding: 0}\n",
       ".list-inline>li {display: inline-block}\n",
       ".list-inline>li:not(:last-child)::after {content: \"\\00b7\"; padding: 0 .5ex}\n",
       "</style>\n",
       "<ol class=list-inline><li>1</li><li>2</li><li>3</li><li>4</li><li>5</li><li>99</li><li>6</li><li>7</li><li>8</li><li>9</li><li>10</li></ol>\n"
      ],
      "text/latex": [
       "\\begin{enumerate*}\n",
       "\\item 1\n",
       "\\item 2\n",
       "\\item 3\n",
       "\\item 4\n",
       "\\item 5\n",
       "\\item 99\n",
       "\\item 6\n",
       "\\item 7\n",
       "\\item 8\n",
       "\\item 9\n",
       "\\item 10\n",
       "\\end{enumerate*}\n"
      ],
      "text/markdown": [
       "1. 1\n",
       "2. 2\n",
       "3. 3\n",
       "4. 4\n",
       "5. 5\n",
       "6. 99\n",
       "7. 6\n",
       "8. 7\n",
       "9. 8\n",
       "10. 9\n",
       "11. 10\n",
       "\n",
       "\n"
      ],
      "text/plain": [
       " [1]  1  2  3  4  5 99  6  7  8  9 10"
      ]
     },
     "metadata": {},
     "output_type": "display_data"
    },
    {
     "data": {
      "text/html": [
       "<style>\n",
       ".list-inline {list-style: none; margin:0; padding: 0}\n",
       ".list-inline>li {display: inline-block}\n",
       ".list-inline>li:not(:last-child)::after {content: \"\\00b7\"; padding: 0 .5ex}\n",
       "</style>\n",
       "<ol class=list-inline><li>99</li><li>1</li><li>2</li><li>3</li><li>4</li><li>5</li><li>6</li><li>7</li><li>8</li><li>9</li><li>10</li></ol>\n"
      ],
      "text/latex": [
       "\\begin{enumerate*}\n",
       "\\item 99\n",
       "\\item 1\n",
       "\\item 2\n",
       "\\item 3\n",
       "\\item 4\n",
       "\\item 5\n",
       "\\item 6\n",
       "\\item 7\n",
       "\\item 8\n",
       "\\item 9\n",
       "\\item 10\n",
       "\\end{enumerate*}\n"
      ],
      "text/markdown": [
       "1. 99\n",
       "2. 1\n",
       "3. 2\n",
       "4. 3\n",
       "5. 4\n",
       "6. 5\n",
       "7. 6\n",
       "8. 7\n",
       "9. 8\n",
       "10. 9\n",
       "11. 10\n",
       "\n",
       "\n"
      ],
      "text/plain": [
       " [1] 99  1  2  3  4  5  6  7  8  9 10"
      ]
     },
     "metadata": {},
     "output_type": "display_data"
    }
   ],
   "source": [
    "# Insert 99 after 5th element\n",
    "append(1:10, 99, after = 5)\n",
    "\n",
    "# Insert 99 at the start\n",
    "append(1:10, 99, after = 0)"
   ]
  },
  {
   "cell_type": "code",
   "execution_count": 21,
   "metadata": {
    "vscode": {
     "languageId": "r"
    }
   },
   "outputs": [
    {
     "data": {
      "text/html": [
       "<style>\n",
       ".list-inline {list-style: none; margin:0; padding: 0}\n",
       ".list-inline>li {display: inline-block}\n",
       ".list-inline>li:not(:last-child)::after {content: \"\\00b7\"; padding: 0 .5ex}\n",
       "</style>\n",
       "<ol class=list-inline><li>8</li><li>1</li><li>2</li><li>3</li><li>4</li><li>5</li><li>6</li><li>7</li><li>8</li><li>9</li><li>10</li><li>11</li><li>12</li><li>13</li><li>14</li><li>15</li><li>16</li><li>17</li><li>18</li><li>19</li><li>20</li></ol>\n"
      ],
      "text/latex": [
       "\\begin{enumerate*}\n",
       "\\item 8\n",
       "\\item 1\n",
       "\\item 2\n",
       "\\item 3\n",
       "\\item 4\n",
       "\\item 5\n",
       "\\item 6\n",
       "\\item 7\n",
       "\\item 8\n",
       "\\item 9\n",
       "\\item 10\n",
       "\\item 11\n",
       "\\item 12\n",
       "\\item 13\n",
       "\\item 14\n",
       "\\item 15\n",
       "\\item 16\n",
       "\\item 17\n",
       "\\item 18\n",
       "\\item 19\n",
       "\\item 20\n",
       "\\end{enumerate*}\n"
      ],
      "text/markdown": [
       "1. 8\n",
       "2. 1\n",
       "3. 2\n",
       "4. 3\n",
       "5. 4\n",
       "6. 5\n",
       "7. 6\n",
       "8. 7\n",
       "9. 8\n",
       "10. 9\n",
       "11. 10\n",
       "12. 11\n",
       "13. 12\n",
       "14. 13\n",
       "15. 14\n",
       "16. 15\n",
       "17. 16\n",
       "18. 17\n",
       "19. 18\n",
       "20. 19\n",
       "21. 20\n",
       "\n",
       "\n"
      ],
      "text/plain": [
       " [1]  8  1  2  3  4  5  6  7  8  9 10 11 12 13 14 15 16 17 18 19 20"
      ]
     },
     "metadata": {},
     "output_type": "display_data"
    }
   ],
   "source": [
    "# if the after parameter is set to 0\n",
    "# the value is inserted at the start of the vector\n",
    "\n",
    "append(1:20, 8, after = 0)"
   ]
  },
  {
   "cell_type": "code",
   "execution_count": 23,
   "metadata": {
    "vscode": {
     "languageId": "r"
    }
   },
   "outputs": [
    {
     "data": {
      "text/html": [
       "<style>\n",
       ".list-inline {list-style: none; margin:0; padding: 0}\n",
       ".list-inline>li {display: inline-block}\n",
       ".list-inline>li:not(:last-child)::after {content: \"\\00b7\"; padding: 0 .5ex}\n",
       "</style>\n",
       "<ol class=list-inline><li>1</li><li>2</li><li>3</li><li>4</li><li>5</li><li>6</li><li>7</li><li>8</li><li>9</li><li>10</li><li>11</li><li>12</li><li>13</li><li>14</li><li>15</li><li>16</li><li>17</li><li>18</li><li>19</li><li>20</li><li>99</li></ol>\n"
      ],
      "text/latex": [
       "\\begin{enumerate*}\n",
       "\\item 1\n",
       "\\item 2\n",
       "\\item 3\n",
       "\\item 4\n",
       "\\item 5\n",
       "\\item 6\n",
       "\\item 7\n",
       "\\item 8\n",
       "\\item 9\n",
       "\\item 10\n",
       "\\item 11\n",
       "\\item 12\n",
       "\\item 13\n",
       "\\item 14\n",
       "\\item 15\n",
       "\\item 16\n",
       "\\item 17\n",
       "\\item 18\n",
       "\\item 19\n",
       "\\item 20\n",
       "\\item 99\n",
       "\\end{enumerate*}\n"
      ],
      "text/markdown": [
       "1. 1\n",
       "2. 2\n",
       "3. 3\n",
       "4. 4\n",
       "5. 5\n",
       "6. 6\n",
       "7. 7\n",
       "8. 8\n",
       "9. 9\n",
       "10. 10\n",
       "11. 11\n",
       "12. 12\n",
       "13. 13\n",
       "14. 14\n",
       "15. 15\n",
       "16. 16\n",
       "17. 17\n",
       "18. 18\n",
       "19. 19\n",
       "20. 20\n",
       "21. 99\n",
       "\n",
       "\n"
      ],
      "text/plain": [
       " [1]  1  2  3  4  5  6  7  8  9 10 11 12 13 14 15 16 17 18 19 20 99"
      ]
     },
     "metadata": {},
     "output_type": "display_data"
    }
   ],
   "source": [
    "# if the after parameter is set lenghth of the vector\n",
    "# the value is inserted at the end of the vector\n",
    "\n",
    "append(1:20, 99, after = 20)"
   ]
  },
  {
   "cell_type": "markdown",
   "metadata": {},
   "source": [
    "* **6.Range Indexes:**   \n",
    "  To produce a vector slice between two indexes, we can use the colon operator `:`. It is convenient for situations involving large vectors."
   ]
  },
  {
   "cell_type": "code",
   "execution_count": 27,
   "metadata": {
    "vscode": {
     "languageId": "r"
    }
   },
   "outputs": [
    {
     "data": {
      "text/html": [
       "<style>\n",
       ".list-inline {list-style: none; margin:0; padding: 0}\n",
       ".list-inline>li {display: inline-block}\n",
       ".list-inline>li:not(:last-child)::after {content: \"\\00b7\"; padding: 0 .5ex}\n",
       "</style>\n",
       "<ol class=list-inline><li>'aa'</li><li>'bb'</li><li>'cc'</li></ol>\n"
      ],
      "text/latex": [
       "\\begin{enumerate*}\n",
       "\\item 'aa'\n",
       "\\item 'bb'\n",
       "\\item 'cc'\n",
       "\\end{enumerate*}\n"
      ],
      "text/markdown": [
       "1. 'aa'\n",
       "2. 'bb'\n",
       "3. 'cc'\n",
       "\n",
       "\n"
      ],
      "text/plain": [
       "[1] \"aa\" \"bb\" \"cc\""
      ]
     },
     "metadata": {},
     "output_type": "display_data"
    }
   ],
   "source": [
    "s <- c(\"aa\", \"bb\", \"cc\", \"dd\", \"ee\")\n",
    "s[1:3]\n"
   ]
  },
  {
   "cell_type": "markdown",
   "metadata": {},
   "source": [
    "* **7.Out-of-order Indexes**:   \n",
    "The index vector can even be out-of-order. Here is a vector slice with the order of first and second members reversed."
   ]
  },
  {
   "cell_type": "code",
   "execution_count": 64,
   "metadata": {
    "vscode": {
     "languageId": "r"
    }
   },
   "outputs": [
    {
     "data": {
      "text/html": [
       "<style>\n",
       ".list-inline {list-style: none; margin:0; padding: 0}\n",
       ".list-inline>li {display: inline-block}\n",
       ".list-inline>li:not(:last-child)::after {content: \"\\00b7\"; padding: 0 .5ex}\n",
       "</style>\n",
       "<ol class=list-inline><li>'bb'</li><li>'aa'</li><li>'cc'</li></ol>\n"
      ],
      "text/latex": [
       "\\begin{enumerate*}\n",
       "\\item 'bb'\n",
       "\\item 'aa'\n",
       "\\item 'cc'\n",
       "\\end{enumerate*}\n"
      ],
      "text/markdown": [
       "1. 'bb'\n",
       "2. 'aa'\n",
       "3. 'cc'\n",
       "\n",
       "\n"
      ],
      "text/plain": [
       "[1] \"bb\" \"aa\" \"cc\""
      ]
     },
     "metadata": {},
     "output_type": "display_data"
    }
   ],
   "source": [
    "s [c(2, 1, 3)]"
   ]
  },
  {
   "cell_type": "markdown",
   "metadata": {},
   "source": [
    "* **8. Named Vectors Members:**  \n",
    "We can identify the element of a vector with an assigned name as thus:\n",
    " The syntax for creating a names vector is:\n",
    "\n",
    "```R\n",
    "names(vector) <- c(\"name1\", \"name2\", \"name3\", ...)\n",
    "```\n",
    "where \n",
    "- vector is the vector whose elements you want to name.\n",
    "- name1, name2, name3, etc. are the names you want to assign to the elements of the vector.\n",
    " \n",
    " "
   ]
  },
  {
   "cell_type": "code",
   "execution_count": 17,
   "metadata": {
    "vscode": {
     "languageId": "r"
    }
   },
   "outputs": [
    {
     "data": {
      "text/html": [
       "<strong>First:</strong> 'Iyabo'"
      ],
      "text/latex": [
       "\\textbf{First:} 'Iyabo'"
      ],
      "text/markdown": [
       "**First:** 'Iyabo'"
      ],
      "text/plain": [
       "  First \n",
       "\"Iyabo\" "
      ]
     },
     "metadata": {},
     "output_type": "display_data"
    },
    {
     "data": {
      "text/html": [
       "<style>\n",
       ".dl-inline {width: auto; margin:0; padding: 0}\n",
       ".dl-inline>dt, .dl-inline>dd {float: none; width: auto; display: inline-block}\n",
       ".dl-inline>dt::after {content: \":\\0020\"; padding-right: .5ex}\n",
       ".dl-inline>dt:not(:first-of-type) {padding-left: .5ex}\n",
       "</style><dl class=dl-inline><dt>Fifth</dt><dd>'Teslim'</dd><dt>Fourth</dt><dd>'Kabir'</dd><dt>Third</dt><dd>'Kafari'</dd><dt>Second</dt><dd>'Ganiy'</dd><dt>First</dt><dd>'Iyabo'</dd></dl>\n"
      ],
      "text/latex": [
       "\\begin{description*}\n",
       "\\item[Fifth] 'Teslim'\n",
       "\\item[Fourth] 'Kabir'\n",
       "\\item[Third] 'Kafari'\n",
       "\\item[Second] 'Ganiy'\n",
       "\\item[First] 'Iyabo'\n",
       "\\end{description*}\n"
      ],
      "text/markdown": [
       "Fifth\n",
       ":   'Teslim'Fourth\n",
       ":   'Kabir'Third\n",
       ":   'Kafari'Second\n",
       ":   'Ganiy'First\n",
       ":   'Iyabo'\n",
       "\n"
      ],
      "text/plain": [
       "   Fifth   Fourth    Third   Second    First \n",
       "\"Teslim\"  \"Kabir\" \"Kafari\"  \"Ganiy\"  \"Iyabo\" "
      ]
     },
     "metadata": {},
     "output_type": "display_data"
    }
   ],
   "source": [
    "# We first create our vector of characters:\n",
    "letter <- c(\"Iyabo\", \"Ganiy\", \"Kafari\", \"Kabir\", \"Teslim\")\n",
    "\n",
    "# Then, we name the first vector member as “First”,\n",
    "# and the second member as “Second”.\n",
    "\n",
    "position <- c(\"First\", \"Second\", \"Third\", \"Fourth\", \"Fifth\")\n",
    "\n",
    "# We assign the names to the vector members as follows:\n",
    "names(letter) <- position\n",
    "\n",
    "# We retrieve the first member by its name as follows:\n",
    "letter[\"First\"]\n",
    "\n",
    "# We can also reverse the order using the character string index vector:\n",
    "letter[c(\"Fifth\", \"Fourth\", \"Third\", \"Second\", \"First\")]"
   ]
  },
  {
   "cell_type": "markdown",
   "metadata": {},
   "source": [
    "* 9.**How to modify a vector in R?:**  \n",
    "We can modify a vector using the assignment operator. If we want to truncate the elements, we can use reassignments."
   ]
  },
  {
   "cell_type": "code",
   "execution_count": 70,
   "metadata": {
    "vscode": {
     "languageId": "r"
    }
   },
   "outputs": [
    {
     "data": {
      "text/html": [
       "<style>\n",
       ".list-inline {list-style: none; margin:0; padding: 0}\n",
       ".list-inline>li {display: inline-block}\n",
       ".list-inline>li:not(:last-child)::after {content: \"\\00b7\"; padding: 0 .5ex}\n",
       "</style>\n",
       "<ol class=list-inline><li>-3</li><li>1.5</li><li>-1</li><li>0</li><li>1</li><li>2</li></ol>\n"
      ],
      "text/latex": [
       "\\begin{enumerate*}\n",
       "\\item -3\n",
       "\\item 1.5\n",
       "\\item -1\n",
       "\\item 0\n",
       "\\item 1\n",
       "\\item 2\n",
       "\\end{enumerate*}\n"
      ],
      "text/markdown": [
       "1. -3\n",
       "2. 1.5\n",
       "3. -1\n",
       "4. 0\n",
       "5. 1\n",
       "6. 2\n",
       "\n",
       "\n"
      ],
      "text/plain": [
       "[1] -3.0  1.5 -1.0  0.0  1.0  2.0"
      ]
     },
     "metadata": {},
     "output_type": "display_data"
    },
    {
     "data": {
      "text/html": [
       "<style>\n",
       ".list-inline {list-style: none; margin:0; padding: 0}\n",
       ".list-inline>li {display: inline-block}\n",
       ".list-inline>li:not(:last-child)::after {content: \"\\00b7\"; padding: 0 .5ex}\n",
       "</style>\n",
       "<ol class=list-inline><li>5</li><li>1.5</li><li>5</li><li>0</li><li>1</li><li>2</li></ol>\n"
      ],
      "text/latex": [
       "\\begin{enumerate*}\n",
       "\\item 5\n",
       "\\item 1.5\n",
       "\\item 5\n",
       "\\item 0\n",
       "\\item 1\n",
       "\\item 2\n",
       "\\end{enumerate*}\n"
      ],
      "text/markdown": [
       "1. 5\n",
       "2. 1.5\n",
       "3. 5\n",
       "4. 0\n",
       "5. 1\n",
       "6. 2\n",
       "\n",
       "\n"
      ],
      "text/plain": [
       "[1] 5.0 1.5 5.0 0.0 1.0 2.0"
      ]
     },
     "metadata": {},
     "output_type": "display_data"
    },
    {
     "data": {
      "text/html": [
       "<style>\n",
       ".list-inline {list-style: none; margin:0; padding: 0}\n",
       ".list-inline>li {display: inline-block}\n",
       ".list-inline>li:not(:last-child)::after {content: \"\\00b7\"; padding: 0 .5ex}\n",
       "</style>\n",
       "<ol class=list-inline><li>5</li><li>1.5</li><li>5</li><li>0</li></ol>\n"
      ],
      "text/latex": [
       "\\begin{enumerate*}\n",
       "\\item 5\n",
       "\\item 1.5\n",
       "\\item 5\n",
       "\\item 0\n",
       "\\end{enumerate*}\n"
      ],
      "text/markdown": [
       "1. 5\n",
       "2. 1.5\n",
       "3. 5\n",
       "4. 0\n",
       "\n",
       "\n"
      ],
      "text/plain": [
       "[1] 5.0 1.5 5.0 0.0"
      ]
     },
     "metadata": {},
     "output_type": "display_data"
    }
   ],
   "source": [
    "# Create a numeric vector\n",
    "x <- c(-3, -2, -1, 0, 1, 2)\n",
    "\n",
    "# modify 2nd element\n",
    "x[2] <- 1.5\n",
    "x\n",
    "\n",
    "# modify elements less than 0\n",
    "x[x < 0] <- 5\n",
    "x\n",
    "\n",
    "# truncate x to first 4 elements\n",
    "x <- x[1:4]\n",
    "x"
   ]
  },
  {
   "cell_type": "markdown",
   "metadata": {},
   "source": [
    "* **10.How to delete a vector in R?**: We can delete a vector by simply assigning a NULL to it. "
   ]
  },
  {
   "cell_type": "code",
   "execution_count": 18,
   "metadata": {
    "vscode": {
     "languageId": "r"
    }
   },
   "outputs": [
    {
     "data": {
      "text/plain": [
       "NULL"
      ]
     },
     "metadata": {},
     "output_type": "display_data"
    },
    {
     "data": {
      "text/plain": [
       "NULL"
      ]
     },
     "metadata": {},
     "output_type": "display_data"
    }
   ],
   "source": [
    "x <- c(-3, -2, -1, 0, 1, 2)\n",
    "x <- NULL\n",
    "x\n",
    "x[4]"
   ]
  },
  {
   "cell_type": "markdown",
   "metadata": {},
   "source": [
    "* **11.Repeat Vectors:**   \n",
    "To repeat vectors, use the `rep()` function:"
   ]
  },
  {
   "cell_type": "code",
   "execution_count": 74,
   "metadata": {
    "vscode": {
     "languageId": "r"
    }
   },
   "outputs": [
    {
     "data": {
      "text/html": [
       "<style>\n",
       ".list-inline {list-style: none; margin:0; padding: 0}\n",
       ".list-inline>li {display: inline-block}\n",
       ".list-inline>li:not(:last-child)::after {content: \"\\00b7\"; padding: 0 .5ex}\n",
       "</style>\n",
       "<ol class=list-inline><li>1</li><li>1</li><li>1</li><li>1</li><li>2</li><li>2</li><li>2</li><li>2</li><li>3</li><li>3</li><li>3</li><li>3</li></ol>\n"
      ],
      "text/latex": [
       "\\begin{enumerate*}\n",
       "\\item 1\n",
       "\\item 1\n",
       "\\item 1\n",
       "\\item 1\n",
       "\\item 2\n",
       "\\item 2\n",
       "\\item 2\n",
       "\\item 2\n",
       "\\item 3\n",
       "\\item 3\n",
       "\\item 3\n",
       "\\item 3\n",
       "\\end{enumerate*}\n"
      ],
      "text/markdown": [
       "1. 1\n",
       "2. 1\n",
       "3. 1\n",
       "4. 1\n",
       "5. 2\n",
       "6. 2\n",
       "7. 2\n",
       "8. 2\n",
       "9. 3\n",
       "10. 3\n",
       "11. 3\n",
       "12. 3\n",
       "\n",
       "\n"
      ],
      "text/plain": [
       " [1] 1 1 1 1 2 2 2 2 3 3 3 3"
      ]
     },
     "metadata": {},
     "output_type": "display_data"
    },
    {
     "data": {
      "text/html": [
       "<style>\n",
       ".list-inline {list-style: none; margin:0; padding: 0}\n",
       ".list-inline>li {display: inline-block}\n",
       ".list-inline>li:not(:last-child)::after {content: \"\\00b7\"; padding: 0 .5ex}\n",
       "</style>\n",
       "<ol class=list-inline><li>'a'</li><li>'b'</li><li>'c'</li><li>'a'</li><li>'b'</li><li>'c'</li><li>'a'</li><li>'b'</li><li>'c'</li></ol>\n"
      ],
      "text/latex": [
       "\\begin{enumerate*}\n",
       "\\item 'a'\n",
       "\\item 'b'\n",
       "\\item 'c'\n",
       "\\item 'a'\n",
       "\\item 'b'\n",
       "\\item 'c'\n",
       "\\item 'a'\n",
       "\\item 'b'\n",
       "\\item 'c'\n",
       "\\end{enumerate*}\n"
      ],
      "text/markdown": [
       "1. 'a'\n",
       "2. 'b'\n",
       "3. 'c'\n",
       "4. 'a'\n",
       "5. 'b'\n",
       "6. 'c'\n",
       "7. 'a'\n",
       "8. 'b'\n",
       "9. 'c'\n",
       "\n",
       "\n"
      ],
      "text/plain": [
       "[1] \"a\" \"b\" \"c\" \"a\" \"b\" \"c\" \"a\" \"b\" \"c\""
      ]
     },
     "metadata": {},
     "output_type": "display_data"
    }
   ],
   "source": [
    "repeat_each <- rep(c(1, 2, 3), each = 4)\n",
    "repeat_each\n",
    "\n",
    "a <- rep(c(\"a\", \"b\", \"c\"), times = 3)\n",
    "a"
   ]
  },
  {
   "cell_type": "markdown",
   "metadata": {},
   "source": [
    "* **Length of R vector**: In R, the length of a vector is determined by the number of elements it contains. we can use the `length()` function to retrieve the length of a vector."
   ]
  },
  {
   "cell_type": "code",
   "execution_count": 75,
   "metadata": {
    "vscode": {
     "languageId": "r"
    }
   },
   "outputs": [
    {
     "data": {
      "text/html": [
       "5"
      ],
      "text/latex": [
       "5"
      ],
      "text/markdown": [
       "5"
      ],
      "text/plain": [
       "[1] 5"
      ]
     },
     "metadata": {},
     "output_type": "display_data"
    },
    {
     "data": {
      "text/html": [
       "3"
      ],
      "text/latex": [
       "3"
      ],
      "text/markdown": [
       "3"
      ],
      "text/plain": [
       "[1] 3"
      ]
     },
     "metadata": {},
     "output_type": "display_data"
    },
    {
     "data": {
      "text/html": [
       "4"
      ],
      "text/latex": [
       "4"
      ],
      "text/markdown": [
       "4"
      ],
      "text/plain": [
       "[1] 4"
      ]
     },
     "metadata": {},
     "output_type": "display_data"
    }
   ],
   "source": [
    "# Create a numeric vector\n",
    "x <- c(1, 2, 3, 4, 5)\n",
    "\n",
    "# Find the length of the vector\n",
    "length(x)\n",
    "\n",
    "# Create a character vector\n",
    "y <- c(\"apple\", \"banana\", \"cherry\")\n",
    "\n",
    "# Find the length of the vector\n",
    "length(y)\n",
    "\n",
    "# Create a logical vector\n",
    "z <- c(TRUE, FALSE, TRUE, TRUE)\n",
    "\n",
    "# Find the length of the vector\n",
    "length(z)\n"
   ]
  },
  {
   "cell_type": "markdown",
   "metadata": {},
   "source": [
    "* **Sorting elements of a R Vector:**  \n",
    "We use `sort()` function is used with the help of which we can sort the values in ascending or descending order. "
   ]
  },
  {
   "cell_type": "code",
   "execution_count": 79,
   "metadata": {
    "vscode": {
     "languageId": "r"
    }
   },
   "outputs": [
    {
     "name": "stdout",
     "output_type": "stream",
     "text": [
      "ascending order 1 2 2 7 8 11 \n",
      "descending order 11 8 7 2 2 1 \n"
     ]
    }
   ],
   "source": [
    "# R program to sort elements of a Vector\n",
    "\n",
    "# Creation of Vector\n",
    "x <- c(8, 2, 7, 1, 11, 2)\n",
    "\n",
    "# Sort in ascending order\n",
    "a <- sort(x)\n",
    "cat(\"ascending order\", a, \"\\n\")\n",
    "\n",
    "# sort in descending order\n",
    "\n",
    "# by setting decreasing as TRUE\n",
    "b <- sort(x, decreasing = TRUE)\n",
    "cat(\"descending order\", b, \"\\n\")\n"
   ]
  },
  {
   "cell_type": "markdown",
   "metadata": {},
   "source": [
    "## Calculate Basic Statistics\n",
    "___"
   ]
  },
  {
   "cell_type": "markdown",
   "metadata": {},
   "source": [
    "You can calculate basic statistics by using below simple R functions.\n",
    "Statistic\tFunction\n",
    "- mean: `mean`(x)\n",
    "- median: `median`(x)\n",
    "- standard deviation: `sd`(x)\n",
    "- variance: `var`(x)\n",
    "-  correlation: `cor`(x, y)\n",
    "- covariance: `cov`(x, y)"
   ]
  },
  {
   "cell_type": "code",
   "execution_count": 88,
   "metadata": {
    "vscode": {
     "languageId": "r"
    }
   },
   "outputs": [
    {
     "data": {
      "text/html": [
       "80"
      ],
      "text/latex": [
       "80"
      ],
      "text/markdown": [
       "80"
      ],
      "text/plain": [
       "[1] 80"
      ]
     },
     "metadata": {},
     "output_type": "display_data"
    },
    {
     "data": {
      "text/html": [
       "81"
      ],
      "text/latex": [
       "81"
      ],
      "text/markdown": [
       "81"
      ],
      "text/plain": [
       "[1] 81"
      ]
     },
     "metadata": {},
     "output_type": "display_data"
    },
    {
     "data": {
      "text/html": [
       "8.92188320927819"
      ],
      "text/latex": [
       "8.92188320927819"
      ],
      "text/markdown": [
       "8.92188320927819"
      ],
      "text/plain": [
       "[1] 8.921883"
      ]
     },
     "metadata": {},
     "output_type": "display_data"
    },
    {
     "data": {
      "text/html": [
       "79.6"
      ],
      "text/latex": [
       "79.6"
      ],
      "text/markdown": [
       "79.6"
      ],
      "text/plain": [
       "[1] 79.6"
      ]
     },
     "metadata": {},
     "output_type": "display_data"
    },
    {
     "data": {
      "text/html": [
       "-0.275592424594541"
      ],
      "text/latex": [
       "-0.275592424594541"
      ],
      "text/markdown": [
       "-0.275592424594541"
      ],
      "text/plain": [
       "[1] -0.2755924"
      ]
     },
     "metadata": {},
     "output_type": "display_data"
    },
    {
     "data": {
      "text/html": [
       "-4.6"
      ],
      "text/latex": [
       "-4.6"
      ],
      "text/markdown": [
       "-4.6"
      ],
      "text/plain": [
       "[1] -4.6"
      ]
     },
     "metadata": {},
     "output_type": "display_data"
    }
   ],
   "source": [
    "v <- c(84, 91, 72, 68, 87, 78)\n",
    "\n",
    "# mean\n",
    "mean(v)\n",
    "\n",
    "# median\n",
    "median(v)\n",
    "\n",
    "# standard deviation\n",
    "sd(v)\n",
    "\n",
    "# variance\n",
    "var(v)\n",
    "\n",
    "# correlation\n",
    "cor(v, 2:7)\n",
    "\n",
    "# covariance\n",
    "cov(v, 2:7)"
   ]
  },
  {
   "cell_type": "markdown",
   "metadata": {},
   "source": [
    "## Application of vector\n",
    "___"
   ]
  },
  {
   "cell_type": "markdown",
   "metadata": {},
   "source": [
    "Vectors in R are fundamental data structures and have numerous applications in data analysis and manipulation. Here are some of their key applications:\n",
    "\n",
    "1. **Data Storage**: Vectors are the simplest form of data storage in R. They can hold numeric data, character data, or logical data. In fact, even a single number is considered as a vector of length one in R.\n",
    "\n",
    "2. **Data Manipulation**: Vectors are often used in data manipulation tasks. You can perform arithmetic operations on vectors, which are applied element-wise. This makes it easy to manipulate large amounts of data with a single command.\n",
    "\n",
    "3. **Indexing**: Vectors can be used for indexing, which is crucial for data extraction and manipulation. You can use a vector of indices to extract or replace certain elements of another vector.\n",
    "\n",
    "4. **Statistical Analysis**: Many functions in R expect their inputs in the form of vectors. For example, statistical functions like `mean()`, `sum()`, `min()`, `max()`, etc., all take vectors as inputs.\n",
    "\n",
    "5. **Programming**: Vectors are used in programming constructs. For example, in `for` loops, the looping variable often traverses a vector of values.\n",
    "\n",
    "6. **Graphing and Plotting**: Vectors are used to specify data to plot in graphing functions. Each vector can represent a dimension on the graph.\n",
    "\n",
    "In summary, understanding and using vectors is fundamental to data analysis in R."
   ]
  },
  {
   "cell_type": "markdown",
   "metadata": {},
   "source": [
    "## End"
   ]
  }
 ],
 "metadata": {
  "kernelspec": {
   "display_name": "R",
   "language": "R",
   "name": "ir"
  },
  "language_info": {
   "codemirror_mode": "r",
   "file_extension": ".r",
   "mimetype": "text/x-r-source",
   "name": "R",
   "pygments_lexer": "r",
   "version": "4.4.0"
  }
 },
 "nbformat": 4,
 "nbformat_minor": 2
}
