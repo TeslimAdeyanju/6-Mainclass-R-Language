{
 "cells": [
  {
   "cell_type": "markdown",
   "metadata": {},
   "source": [
    "# IF..ELSE function"
   ]
  },
  {
   "cell_type": "markdown",
   "metadata": {},
   "source": [
    "#### Introduction\n",
    "___"
   ]
  },
  {
   "cell_type": "markdown",
   "metadata": {},
   "source": [
    "`If-else` statements in R allow your code to make decisions based on conditions. It's like having a set of instructions with different paths depending on a specific requirement. Here's how it works:\n",
    "\n",
    "* `Condition`: Inside the parentheses of the if statement, you write a logical expression using relational and boolean operators. This expression evaluates to either TRUE or FALSE.\n",
    "\n",
    "* `if` Block: If the condition evaluates to TRUE, the code within the curly braces ({}) following the if statement gets executed.\n",
    "\n",
    "* `else` Block (Optional): If the condition is FALSE and an else block is present, the code within its curly braces is executed.\n",
    "\n",
    "\n",
    "The followings are the relational and boolean operators that you can use in the condition:\n",
    "\n",
    "***Relational Operators:***  \n",
    "\n",
    "1. `==` : Equal to\n",
    "2. `!=` : Not equal to\n",
    "3. `<` : Less than\n",
    "4. `>` : Greater than\n",
    "5. `<=` : Less than or equal to\n",
    "6. `>=` : Greater than or equal to\n",
    "\n",
    "***Boolean Operators:***  \n",
    "\n",
    "`& (AND)`: True only if both conditions are true.  \n",
    "`| (OR)`: True if at least one condition is true.  \n",
    "`! (NOT)`: Inverts the logical state.  \n"
   ]
  },
  {
   "cell_type": "markdown",
   "metadata": {},
   "source": [
    "### 1.  `if` Statement\n",
    "___"
   ]
  },
  {
   "cell_type": "markdown",
   "metadata": {},
   "source": [
    "* An \"if statement\" is written with the <code>if</code> keyword, and it is used to specify a block of code to be executed if a condition is TRUE:\n",
    "  \n",
    "* R uses curly bracket {} to define the scope in the code. \n",
    "  \n",
    "* To run an if-then statement in R, we use the:  <code>if( ) { } function</code>. \n",
    "* The function has two main elements, a logical test in the parentheses `( )`, and conditional code in curly braces `{ }`. \n",
    "* The code in the curly braces is conditional because it is only evaluated if the logical test contained in the parentheses is TRUE.\n",
    "*  If the logical test is FALSE, R will completely ignore all of the conditional code.\n",
    "*  The syntax of `if` statement is:\n",
    "\n",
    "\n",
    "```R\n",
    "          if (logical_expression) {\n",
    "                print('statement')\n",
    "          } \n",
    "            ```\n"
   ]
  },
  {
   "cell_type": "code",
   "execution_count": 2,
   "metadata": {
    "vscode": {
     "languageId": "r"
    }
   },
   "outputs": [
    {
     "name": "stdout",
     "output_type": "stream",
     "text": [
      "[1] \"b is greater than a\"\n"
     ]
    }
   ],
   "source": [
    "a <- 33\n",
    "b <- 200\n",
    "\n",
    "if (b > a) {\n",
    "  print(\"b is greater than a\")\n",
    "}"
   ]
  },
  {
   "cell_type": "markdown",
   "metadata": {},
   "source": [
    "The above statement printed because b is greater than a, however, if b has been less than a, the statement will not print anything without further information. See Example below:"
   ]
  },
  {
   "cell_type": "code",
   "execution_count": 3,
   "metadata": {
    "vscode": {
     "languageId": "r"
    }
   },
   "outputs": [],
   "source": [
    "a <- 200\n",
    "b <- 33\n",
    "if (a < b) {\n",
    "  print(\"a is greater than b\")\n",
    "}"
   ]
  },
  {
   "cell_type": "markdown",
   "metadata": {},
   "source": [
    "The above statement does nothing because the condition states that should print if a is less than b, and from the statement above, a is greater than b, thus, nothing is printed. "
   ]
  },
  {
   "cell_type": "code",
   "execution_count": 4,
   "metadata": {
    "vscode": {
     "languageId": "r"
    }
   },
   "outputs": [
    {
     "name": "stdout",
     "output_type": "stream",
     "text": [
      "[1] \"case1 is equal to case2\"\n"
     ]
    }
   ],
   "source": [
    "case1 <- 28\n",
    "case2 <- 28\n",
    "if (case1 == case2) {\n",
    "  print(\"case1 is equal to case2\")\n",
    "}"
   ]
  },
  {
   "cell_type": "code",
   "execution_count": 6,
   "metadata": {
    "vscode": {
     "languageId": "r"
    }
   },
   "outputs": [
    {
     "name": "stdout",
     "output_type": "stream",
     "text": [
      "[1] \"Positive number\"\n"
     ]
    }
   ],
   "source": [
    "x <- 5\n",
    "if (x > 0) {\n",
    "  print(\"Positive number\")\n",
    "}"
   ]
  },
  {
   "cell_type": "markdown",
   "metadata": {},
   "source": [
    "Due to the simplicity of the <code>if</code> statement, we can actually write it without the curly bracket. \n",
    "* if Statement Without Curly Braces : If you have only one statement to execute, you can skip curly braces."
   ]
  },
  {
   "cell_type": "code",
   "execution_count": 19,
   "metadata": {
    "vscode": {
     "languageId": "r"
    }
   },
   "outputs": [
    {
     "name": "stdout",
     "output_type": "stream",
     "text": [
      "[1] \"x is greater\"\n"
     ]
    }
   ],
   "source": [
    "x <- 7\n",
    "y <- 5\n",
    "if (x > y) print(\"x is greater\")"
   ]
  },
  {
   "cell_type": "code",
   "execution_count": 26,
   "metadata": {
    "vscode": {
     "languageId": "r"
    }
   },
   "outputs": [
    {
     "name": "stdout",
     "output_type": "stream",
     "text": [
      "[1] \"Positive number\"\n"
     ]
    }
   ],
   "source": [
    "x <- 5\n",
    "if (x > 0) print(\"Positive number\")"
   ]
  },
  {
   "cell_type": "markdown",
   "metadata": {},
   "source": [
    "* Nested if Statement: You can write one if statement inside another if statement to test more than one condition and return different results."
   ]
  },
  {
   "cell_type": "code",
   "execution_count": 3,
   "metadata": {
    "vscode": {
     "languageId": "r"
    }
   },
   "outputs": [
    {
     "name": "stdout",
     "output_type": "stream",
     "text": [
      "[1] \"x is greater than y\"\n",
      "[1] \"x is greater than y and z\"\n"
     ]
    }
   ],
   "source": [
    "# This is a nested statement wherein the inner if statement is executed\n",
    "# only if the outer if statement is true.\n",
    "x <- 7\n",
    "y <- 5\n",
    "z <- 2\n",
    "if (x > y) {\n",
    "  print(\"x is greater than y\")\n",
    "  if (x > z)\n",
    "    print(\"x is greater than y and z\")\n",
    "}"
   ]
  },
  {
   "cell_type": "code",
   "execution_count": 5,
   "metadata": {
    "vscode": {
     "languageId": "r"
    }
   },
   "outputs": [
    {
     "name": "stdout",
     "output_type": "stream",
     "text": [
      "[1] \"okay\"\n"
     ]
    }
   ],
   "source": [
    "# This is another nested statement\n",
    "# This statement indicates that both the conditions are true\n",
    "a <- 100\n",
    "b <- 12\n",
    "if (a > b) {\n",
    "  print(\"okay\")\n",
    "  if (b > a) # This condition is false, so it will not print.\n",
    "    print(\"Teslim\")\n",
    "}"
   ]
  },
  {
   "cell_type": "markdown",
   "metadata": {},
   "source": [
    "### 2. `if ... else` Statement\n",
    "___"
   ]
  },
  {
   "cell_type": "markdown",
   "metadata": {},
   "source": [
    "* We can further expand the logic statement by combining `if` and `else` together. \n",
    "* Use else statement to execute a block of code, if the condition is false.\n",
    "* As noted in the <code>if</code> statement, we only use the it when the expected outcome is true, and if the outout is false, we use only <code>else</code> to state the alternative. \n",
    "* Take note of how the curly bracket start the else and close it. \n",
    "\n",
    "\n",
    "```R\n",
    "          if (logical_expression) {\n",
    "                print('statement')\n",
    "          } else {\n",
    "                print('statement')\n",
    "          } \n",
    "            ```"
   ]
  },
  {
   "cell_type": "code",
   "execution_count": 59,
   "metadata": {
    "vscode": {
     "languageId": "r"
    }
   },
   "outputs": [
    {
     "name": "stdout",
     "output_type": "stream",
     "text": [
      "[1] \"y is greater\"\n"
     ]
    }
   ],
   "source": [
    "# This is a nested statement wherein the first statement is false\n",
    "# and the second statement is true\n",
    "# Take note of the curly bracket placement with the else statement\n",
    "x <- 7\n",
    "y <- 15\n",
    "\n",
    "if (x > y) {\n",
    "  print(\"x is greater\")\n",
    "} else {\n",
    "  print(\"y is greater\")\n",
    "}"
   ]
  },
  {
   "cell_type": "markdown",
   "metadata": {},
   "source": [
    "> Note how the curly bracket was close for the first if statement, and another one open for the second statement. "
   ]
  },
  {
   "cell_type": "markdown",
   "metadata": {},
   "source": [
    "This R code is a simple example of using an `if-else` conditional statement to compare two variables, `x` and `y`, and print a message based on the comparison result.\n",
    "\n",
    "The variables `x` and `y` are first assigned the values 7 and 15, respectively.\n",
    "\n",
    "Then, an `if` statement is used to check if `x` is greater than `y`. If this condition is true, the string \"x is greater\" is printed to the console.\n",
    "\n",
    "If the `if` condition is not met (i.e., `x` is not greater than `y`), the program moves to the `else` statement. In this case, the string \"y is greater\" is printed to the console.\n",
    "\n",
    "The comment at the top of the code mentions that this is a nested statement, but there is no nesting in this particular code snippet. A nested statement would involve having another `if-else` statement inside the `if` or `else` block.\n",
    "\n",
    "In this specific example, since `x` (7) is not greater than `y` (15), the program will print \"y is greater\". The comment also mentions the placement of the curly brackets `{}`. In R, these are used to denote the start and end of a block of code that should be executed together. In this case, they enclose the code that should be executed if the condition in the `if` or `else` statement is met."
   ]
  },
  {
   "cell_type": "code",
   "execution_count": 35,
   "metadata": {
    "vscode": {
     "languageId": "r"
    }
   },
   "outputs": [
    {
     "name": "stdout",
     "output_type": "stream",
     "text": [
      "[1] \"Name is John\"\n"
     ]
    }
   ],
   "source": [
    "# Note that we can combine else statement and if statement\n",
    "# The if statement is true, thus the second statement is not executed\n",
    "name <- \"John\"\n",
    "if (name == \"John\") {\n",
    "  print(\"Name is John\")\n",
    "} else {\n",
    "  print(\"Name is not John\")\n",
    "}"
   ]
  },
  {
   "cell_type": "code",
   "execution_count": 6,
   "metadata": {
    "vscode": {
     "languageId": "r"
    }
   },
   "outputs": [
    {
     "name": "stdout",
     "output_type": "stream",
     "text": [
      "[1] \"Employee a is greater than employee b\"\n"
     ]
    }
   ],
   "source": [
    "a <- 200\n",
    "b <- 80\n",
    "\n",
    "if (b > a) {\n",
    "  print(\"Employee b is greater than employee a\")\n",
    "} else {\n",
    "  print(\"Employee a is greater than employee b\")\n",
    "}\n",
    "# The if statement is false, thus the second statement is executed"
   ]
  },
  {
   "cell_type": "markdown",
   "metadata": {},
   "source": [
    "#### 2.1 `if...else if...else` Statement\n",
    "___"
   ]
  },
  {
   "cell_type": "markdown",
   "metadata": {},
   "source": [
    "* The `if...else if...else` statement is used to specify a new condition to test, if the first condition is false.\n",
    "* The `else if` statement is used to specify a new condition to test, if the first condition is false.  \n",
    "* The `else if` statement allows you to check multiple expressions for TRUE and execute a block of code as soon as one of the conditions is TRUE.\n",
    "* You can use as many `else if` statements as you want.\n",
    "\n",
    "* The syntax of `if...else if...else` statement is:\n",
    "    ```R\n",
    "          if (logical_expression) {\n",
    "                print('statement')\n",
    "          } else if (logical_expression) {\n",
    "                print('statement')\n",
    "          } else  if (logical_expression) {\n",
    "                print('statement')\n",
    "          } \n",
    "            ```"
   ]
  },
  {
   "cell_type": "code",
   "execution_count": 12,
   "metadata": {
    "vscode": {
     "languageId": "r"
    }
   },
   "outputs": [
    {
     "name": "stdout",
     "output_type": "stream",
     "text": [
      "[1] \"Employee a and employee b have the same value\"\n"
     ]
    }
   ],
   "source": [
    "# The same statement as examined above but with the else if statement\n",
    "# Note that else if statement is executed only if the first statement is false\n",
    "a <- 80\n",
    "b <- 80\n",
    "\n",
    "if (b > a) {\n",
    "  print(\"Employee b is greater than employee a\")\n",
    "} else if (b < a) {\n",
    "  print(\"Employee a is greater than employee b\")\n",
    "} else {\n",
    "  print(\"Employee a and employee b have the same value\")\n",
    "}"
   ]
  },
  {
   "cell_type": "code",
   "execution_count": 4,
   "metadata": {
    "vscode": {
     "languageId": "r"
    }
   },
   "outputs": [
    {
     "name": "stdout",
     "output_type": "stream",
     "text": [
      "[1] \"a and b is equal\"\n"
     ]
    }
   ],
   "source": [
    "a <- 5\n",
    "b <- 5\n",
    "if (a > b) {\n",
    "  print(\"a is greater than b\")\n",
    "} else {\n",
    "  print(\"a and b is equal\")\n",
    "}"
   ]
  },
  {
   "cell_type": "markdown",
   "metadata": {},
   "source": [
    "* In this example a is equal to b, so the first condition is not true, but the else if condition is true, so we print to screen that \"a and b are equal\".\n",
    "\n",
    "* In R, you can use as many else if statements as you want in your program. There’s no limit. However, it’s not a best practice when you want to make series of decisions. You can use switch() function as an efficient way."
   ]
  },
  {
   "cell_type": "code",
   "execution_count": 60,
   "metadata": {
    "vscode": {
     "languageId": "r"
    }
   },
   "outputs": [
    {
     "name": "stdout",
     "output_type": "stream",
     "text": [
      "[1] \"What a great day!\"\n"
     ]
    }
   ],
   "source": [
    "quantity <- 39\n",
    "\n",
    "if (quantity < 20) {\n",
    "  print(\"Not enough for today\")\n",
    "} else if (quantity > 20  && quantity <= 30) {\n",
    "  print(\"Average day\")\n",
    "} else {\n",
    "  print(\"What a great day!\")\n",
    "}"
   ]
  },
  {
   "cell_type": "markdown",
   "metadata": {},
   "source": [
    "This R code is a simple example of using conditional statements (`if`, `else if`, and `else`) to control the flow of the program based on the value of a variable named `quantity`.\n",
    "\n",
    "The variable `quantity` is first assigned a value of 39.\n",
    "\n",
    "Then, an `if` statement is used to check if the value of `quantity` is less than 20. If this condition is true, the string \"Not enough for today\" is printed to the console.\n",
    "\n",
    "If the first condition is not met (i.e., `quantity` is not less than 20), the program moves to the `else if` statement. This statement checks if the value of `quantity` is greater than 20 and less than or equal to 30. If this condition is true, the string \"Average day\" is printed to the console.\n",
    "\n",
    "If neither the `if` nor the `else if` conditions are met (i.e., `quantity` is not less than 20 and is not between 20 and 30 inclusive), the program moves to the `else` statement. In this case, the string \"What a great day!\" is printed to the console.\n",
    "\n",
    "In this specific example, since `quantity` is 39, which does not meet the `if` or `else if` conditions, the program will print \"What a great day!\"."
   ]
  },
  {
   "cell_type": "markdown",
   "metadata": {},
   "source": [
    "#### 2.2 `ifelse` ( ) statement\n",
    "___"
   ]
  },
  {
   "cell_type": "markdown",
   "metadata": {},
   "source": [
    "We can use the function called `ifelse ()` with a vector in R, because all the conditional statement we are being examing above did not deal with vectors. They deal with a single value. \n",
    "\n",
    "The `ifelse()` function checks the condition for every element of a vector and selects elements from the specified vector depending upon the result.\n",
    "\n",
    "* The `ifelse()` function in R provides a vectorized way to perform conditional operations.\n",
    "* It evaluates a condition element-wise and returns a vector with the corresponding values based on the condition.\n",
    "* It is useful when you want to apply a condition to each element of a vector.\n",
    "\n",
    "the syntax is thus:\n",
    "    \n",
    " ```R\n",
    "ifelse(logical_expression, true_value, false_value)\n",
    "```\n",
    "\n",
    "* `text_expression` - A logical condition or a logical vector that specifies the condition to be evaluated. It can be a single logical value or a vector of logical values.\n",
    "  \n",
    "* `true_value`:  The value or expression to be returned when the condition is true. It can be a single value, vector, or an expression.\n",
    "  \n",
    "  \n",
    "* `false_value`: The value or expression to be returned when the condition is false. It can be a single value, vector, or an expression.\n",
    "The return value is a vector with the same length as test_expression."
   ]
  },
  {
   "cell_type": "code",
   "execution_count": 5,
   "metadata": {
    "vscode": {
     "languageId": "r"
    }
   },
   "outputs": [
    {
     "name": "stdout",
     "output_type": "stream",
     "text": [
      "[1] \"Cold\" \"Warm\" \"Hot\"  \"Warm\"\n"
     ]
    }
   ],
   "source": [
    "# Using ifelse() function\n",
    "\n",
    "# Sample vector\n",
    "temperatures <- c(10, 22, 35, 18)  # Sample temperature vector\n",
    "\n",
    "# logical statement\n",
    "conditions <- temperatures < 15\n",
    "\n",
    "# Using ifelse()\n",
    "classifications <- ifelse(conditions, \"Cold\",\n",
    "                          ifelse(temperatures >= 25, \"Hot\", \"Warm\"))\n",
    "\n",
    "# Print the classifications\n",
    "print(classifications)\n"
   ]
  },
  {
   "cell_type": "code",
   "execution_count": 7,
   "metadata": {
    "vscode": {
     "languageId": "r"
    }
   },
   "outputs": [
    {
     "name": "stdout",
     "output_type": "stream",
     "text": [
      "[1] \"Pass\" \"Fail\" \"Pass\" \"Fail\"\n"
     ]
    }
   ],
   "source": [
    "# Using ifelse() function\n",
    "\n",
    "# Sample vector\n",
    "mark <- c(50, 45, 67, 18)\n",
    "\n",
    "# logical statement\n",
    "conditions <- mark < 50\n",
    "\n",
    "# Using ifelse()\n",
    "classifications <- ifelse(conditions, \"Fail\",\n",
    "                          ifelse(mark >= 50, \"Pass\", \"Invalid\"))\n",
    "\n",
    "# Print the classifications\n",
    "print(classifications)"
   ]
  },
  {
   "cell_type": "code",
   "execution_count": 8,
   "metadata": {
    "vscode": {
     "languageId": "r"
    }
   },
   "outputs": [
    {
     "name": "stdout",
     "output_type": "stream",
     "text": [
      "[1] \"x is less than 10\"    \"x is less than 20\"    \"x is greater than 20\"\n"
     ]
    }
   ],
   "source": [
    "# Example using ifelse()\n",
    "x <- c(5, 15, 25)\n",
    "\n",
    "result <- ifelse(x < 10, \"x is less than 10\",\n",
    "                 ifelse(x < 20, \"x is less than 20\", \"x is greater than 20\"))\n",
    "print(result)\n"
   ]
  },
  {
   "cell_type": "code",
   "execution_count": 10,
   "metadata": {
    "vscode": {
     "languageId": "r"
    }
   },
   "outputs": [
    {
     "data": {
      "text/html": [
       "<style>\n",
       ".list-inline {list-style: none; margin:0; padding: 0}\n",
       ".list-inline>li {display: inline-block}\n",
       ".list-inline>li:not(:last-child)::after {content: \"\\00b7\"; padding: 0 .5ex}\n",
       "</style>\n",
       "<ol class=list-inline><li>'Underage male'</li><li>'Underage male'</li><li>'Adult female'</li><li>'Adult male'</li><li>'Adult female'</li></ol>\n"
      ],
      "text/latex": [
       "\\begin{enumerate*}\n",
       "\\item 'Underage male'\n",
       "\\item 'Underage male'\n",
       "\\item 'Adult female'\n",
       "\\item 'Adult male'\n",
       "\\item 'Adult female'\n",
       "\\end{enumerate*}\n"
      ],
      "text/markdown": [
       "1. 'Underage male'\n",
       "2. 'Underage male'\n",
       "3. 'Adult female'\n",
       "4. 'Adult male'\n",
       "5. 'Adult female'\n",
       "\n",
       "\n"
      ],
      "text/plain": [
       "[1] \"Underage male\" \"Underage male\" \"Adult female\"  \"Adult male\"   \n",
       "[5] \"Adult female\" "
      ]
     },
     "metadata": {},
     "output_type": "display_data"
    }
   ],
   "source": [
    "x <- c(\"male\", \"male\", \"female\", \"male\", \"female\")\n",
    "y <- c(10, 14, 80, 56, 27)\n",
    "\n",
    "\n",
    "ifelse(x == \"male\", ifelse(y > 18, \"Adult male\", \"Underage male\"),\n",
    "        ifelse(y > 18, \"Adult female\", \"Underage female\"))"
   ]
  },
  {
   "cell_type": "markdown",
   "metadata": {},
   "source": [
    "#### 2.3 Use Logical operator with `if` Conditions\n",
    "___"
   ]
  },
  {
   "cell_type": "markdown",
   "metadata": {},
   "source": [
    "To join two or more conditions into a single if statement, use logical operators viz. \n",
    "1. && (and), \n",
    "2. || (or) and \n",
    "3. ! (not).  "
   ]
  },
  {
   "cell_type": "markdown",
   "metadata": {},
   "source": [
    "* && (and) expression is True, if all the conditions are true."
   ]
  },
  {
   "cell_type": "code",
   "execution_count": 15,
   "metadata": {
    "vscode": {
     "languageId": "r"
    }
   },
   "outputs": [
    {
     "name": "stdout",
     "output_type": "stream",
     "text": [
      "[1] \"x is greater\"\n"
     ]
    }
   ],
   "source": [
    "# Tne && (and) expression is True, if all the conditions are true.\n",
    "x <- 7\n",
    "y <- 5\n",
    "z <- 2\n",
    "if (x > y && x > z) {\n",
    "  print(\"x is greater\")\n",
    "} else if (y > x && y > z) {\n",
    "  print(\"y is greater\")\n",
    "} else {\n",
    "  print(\"z is greater\")\n",
    "}"
   ]
  },
  {
   "cell_type": "markdown",
   "metadata": {},
   "source": [
    "This R code is a simple example of using conditional statements (`if`, `else if`, and `else`) along with logical operators to determine which of three variables (`x`, `y`, `z`) has the greatest value.\n",
    "\n",
    "The variables `x`, `y`, and `z` are first assigned the values 7, 5, and 2, respectively.\n",
    "\n",
    "Then, an `if` statement is used to check if `x` is greater than both `y` and `z`. This is done using the `&&` operator, which returns `True` if both conditions are true. If `x` is indeed greater than both `y` and `z`, the string \"x is greater\" is printed to the console.\n",
    "\n",
    "If the first condition is not met (i.e., `x` is not greater than both `y` and `z`), the program moves to the `else if` statement. This statement checks if `y` is greater than both `x` and `z`. If this condition is true, the string \"y is greater\" is printed to the console.\n",
    "\n",
    "If neither the `if` nor the `else if` conditions are met (i.e., neither `x` nor `y` is greater than the other two variables), the program moves to the `else` statement. In this case, the string \"z is greater\" is printed to the console.\n",
    "\n",
    "In this specific example, since `x` is 7, which is greater than both `y` (5) and `z` (2), the program will print \"x is greater\"."
   ]
  },
  {
   "cell_type": "markdown",
   "metadata": {},
   "source": [
    "* || (or) expression is True, if at least one of the conditions is True."
   ]
  },
  {
   "cell_type": "code",
   "execution_count": 16,
   "metadata": {
    "vscode": {
     "languageId": "r"
    }
   },
   "outputs": [
    {
     "name": "stdout",
     "output_type": "stream",
     "text": [
      "[1] \"x is greater than y or z\"\n"
     ]
    }
   ],
   "source": [
    "# Either of the conditions is true, the statement is executed\n",
    "x <- 7\n",
    "y <- 5\n",
    "z <- 9\n",
    "if (x > y || x > z) {\n",
    "  print(\"x is greater than y or z\")\n",
    "}"
   ]
  },
  {
   "cell_type": "markdown",
   "metadata": {},
   "source": [
    "* ! (not) expression is True, if the condition is false."
   ]
  },
  {
   "cell_type": "code",
   "execution_count": 25,
   "metadata": {
    "vscode": {
     "languageId": "r"
    }
   },
   "outputs": [
    {
     "name": "stdout",
     "output_type": "stream",
     "text": [
      "[1] \"x is greater\"\n"
     ]
    }
   ],
   "source": [
    "x <- 7\n",
    "y <- 5\n",
    "if (!(x < y)) {\n",
    "  print(\"x is greater\")\n",
    "}"
   ]
  }
 ],
 "metadata": {
  "kernelspec": {
   "display_name": "R",
   "language": "R",
   "name": "ir"
  },
  "language_info": {
   "codemirror_mode": "r",
   "file_extension": ".r",
   "mimetype": "text/x-r-source",
   "name": "R",
   "pygments_lexer": "r",
   "version": "4.3.0"
  }
 },
 "nbformat": 4,
 "nbformat_minor": 2
}
