{
 "cells": [
  {
   "cell_type": "markdown",
   "metadata": {
    "vscode": {
     "languageId": "r"
    }
   },
   "source": [
    "# CONTROL STRUCTURES"
   ]
  },
  {
   "cell_type": "markdown",
   "metadata": {},
   "source": [
    "### Introduction\n",
    "___"
   ]
  },
  {
   "cell_type": "markdown",
   "metadata": {},
   "source": [
    "R's flow control, also known as control flow,  dictates the order in which code is executed. It allows you to make your code more flexible and responsive to different conditions within your data or analysis. In order to control the execution of the expressions flow in R, we make use of the control structures. These control structures are also called as loops in R. There are eight types of control structures in R:\n",
    "\n",
    "1. if\n",
    "1. if-else\n",
    "1. for\n",
    "1. nested loops\n",
    "1. while\n",
    "1. repeat and break\n",
    "1. next\n",
    "1. return\n",
    "\n",
    "Control structures in R are used to control the flow of execution in a program. They allow you to make decisions, repeat code, and perform different actions based on certain conditions.\n",
    "\n",
    "The above control structures can be classify thus:\n",
    "\n",
    "1. **Conditional Statements**: Conditional statements allow you to execute different blocks of code based on certain conditions. The most commonly used conditional statements in R are `if`, `else if`, and `else`.\n",
    "\n",
    "2. **Loops**: Loops are used to repeat a block of code multiple times. R provides different types of loops, including `for` loops, `while` loops, and `repeat` loops.\n",
    "\n",
    "3. **Switch Statements**: Switch statements are used to select one of several alternatives based on the value of an expression. They are similar to `if` statements but provide a more concise way to handle multiple conditions.\n",
    "\n",
    "4. **Control Flow Statements**: Control flow statements allow you to control the flow of execution within a loop or a function. Examples of control flow statements in R include `break`, `next`, and `return`.\n",
    "\n",
    "These control structures provide flexibility and allow you to write more complex and dynamic programs in R. R provides various standard control structures for our requirements. The expr expression consists of multiple statements that can be enclosed in braces `{}`.\n",
    "\n",
    "It is more efficient to use built-in functions in R rather than control structures, whenever possible. This facilitates the flow of execution to be controlled inside a function. Control structures define the flow of the program. The decision is then made after the variable is assessed. \n",
    "\n"
   ]
  },
  {
   "cell_type": "markdown",
   "metadata": {},
   "source": [
    "![alt text](../../../Teslim_R_pdf_books/Control-Structures-in-R-Programming.webp)"
   ]
  },
  {
   "cell_type": "markdown",
   "metadata": {},
   "source": [
    "### 1. if Condition in R\n",
    "___"
   ]
  },
  {
   "cell_type": "markdown",
   "metadata": {},
   "source": [
    "if condition is used to execute a block of code only if a specified condition is true. If the condition is false, the code block will not be executed. The syntax of the if statement is as follows:\n",
    "\n",
    "```R\n",
    "if (condition) {\n",
    "  # code block to be executed if the condition is true\n",
    "}\n",
    "```"
   ]
  },
  {
   "cell_type": "code",
   "execution_count": 4,
   "metadata": {
    "vscode": {
     "languageId": "r"
    }
   },
   "outputs": [
    {
     "name": "stdout",
     "output_type": "stream",
     "text": [
      " [1] \"1 is less than or equal to 10\"  \"2 is less than or equal to 10\" \n",
      " [3] \"3 is less than or equal to 10\"  \"4 is less than or equal to 10\" \n",
      " [5] \"5 is less than or equal to 10\"  \"6 is less than or equal to 10\" \n",
      " [7] \"7 is less than or equal to 10\"  \"8 is less than or equal to 10\" \n",
      " [9] \"9 is less than or equal to 10\"  \"10 is less than or equal to 10\"\n"
     ]
    }
   ],
   "source": [
    "values <- 1:10\n",
    "if (sample(values,1) <= 10)\n",
    "print(paste(values, \"is less than or equal to 10\"))"
   ]
  },
  {
   "cell_type": "markdown",
   "metadata": {},
   "source": [
    "### 2. if-else Condition in R\n",
    "___"
   ]
  },
  {
   "cell_type": "markdown",
   "metadata": {},
   "source": [
    "if-else condition is used to execute a block of code if the condition is true and another block of code if the condition is false. The syntax of the if-else statement is as follows:\n",
    "\n",
    "```R\n",
    "if (condition) {\n",
    "  # code block to be executed if the condition is true\n",
    "} else {\n",
    "  # code block to be executed if the condition is false\n",
    "}\n",
    "```"
   ]
  },
  {
   "cell_type": "markdown",
   "metadata": {},
   "source": [
    "An if…else statement contains the same elements as an if statement (see the preceding section), with some extra elements:\n",
    "\n",
    "The keyword `else`, placed after the first code block.\n",
    "\n",
    "The second block of code, contained within braces, that has to be carried out, only if the result of the condition in the `if()` statement is FALSE."
   ]
  },
  {
   "cell_type": "code",
   "execution_count": 5,
   "metadata": {
    "vscode": {
     "languageId": "r"
    }
   },
   "outputs": [
    {
     "name": "stdout",
     "output_type": "stream",
     "text": [
      "[1] \"Value 1 is less than Value 2\"\n"
     ]
    }
   ],
   "source": [
    "value_1 <- 10\n",
    "value_2 <- 20\n",
    "if (value_1 > value_2){\n",
    "  print(\"Value 1 is greater than Value 2\")\n",
    "} else if (value_1 < value_2){\n",
    "  print(\"Value 1 is less than Value 2\")\n",
    "}"
   ]
  },
  {
   "cell_type": "markdown",
   "metadata": {},
   "source": [
    "### 3. for Loop in R\n",
    "___"
   ]
  },
  {
   "cell_type": "markdown",
   "metadata": {},
   "source": [
    "For loop is used to iterate over a sequence of values and execute a block of code for each value in the sequence. The syntax of the for loop is as follows:\n",
    "\n",
    "```R\n",
    "for (value in sequence) {\n",
    "  # code block to be executed for each value in the sequence\n",
    "}\n",
    "```"
   ]
  },
  {
   "cell_type": "code",
   "execution_count": 13,
   "metadata": {
    "vscode": {
     "languageId": "r"
    }
   },
   "outputs": [
    {
     "name": "stdout",
     "output_type": "stream",
     "text": [
      "[1] 1\n",
      "[1] 2\n",
      "[1] 3\n",
      "[1] 4\n",
      "[1] 5\n"
     ]
    }
   ],
   "source": [
    "values <- c(1, 2, 3, 4, 5)\n",
    "for(id in 1:5){\n",
    "  print(values[id])\n",
    "  }"
   ]
  },
  {
   "cell_type": "markdown",
   "metadata": {},
   "source": [
    "### 4. Nested Loops in R\n",
    "___"
   ]
  },
  {
   "cell_type": "markdown",
   "metadata": {},
   "source": [
    "Nested loops are loops that are placed inside another loop. They are used to iterate over multiple sequences of values. The syntax of the nested loop is as follows:\n",
    "\n",
    "```R\n",
    "for (value1 in sequence1) {\n",
    "  for (value2 in sequence2) {\n",
    "    # code block to be executed for each value in sequence2\n",
    "  }\n",
    "}\n",
    "```"
   ]
  },
  {
   "cell_type": "code",
   "execution_count": 15,
   "metadata": {
    "vscode": {
     "languageId": "r"
    }
   },
   "outputs": [
    {
     "name": "stdout",
     "output_type": "stream",
     "text": [
      "[1] \"1 1\"\n",
      "[1] \"1 3\"\n",
      "[1] \"2 2\"\n",
      "[1] \"3 1\"\n",
      "[1] \"3 3\"\n"
     ]
    }
   ],
   "source": [
    "# vector of numbers\n",
    "sequence_1 <- c(1, 2, 3)\n",
    "sequence_2 <- c(1, 2, 3)\n",
    "\n",
    "# nested for loop\n",
    "for (i in sequence_1) {\n",
    "  for (j in sequence_2) {\n",
    "\n",
    "    # check if sum is even\n",
    "    if ((i + j) %% 2 == 0) {\n",
    "      print(paste(i, j))\n",
    "    }\n",
    "\n",
    "  }\n",
    "}"
   ]
  },
  {
   "cell_type": "markdown",
   "metadata": {},
   "source": [
    "### 5. while Loop in R\n",
    "___"
   ]
  },
  {
   "cell_type": "markdown",
   "metadata": {},
   "source": [
    "The while loop is used to execute a block of code repeatedly as long as a specified condition is true. The syntax of the while loop is as follows:\n",
    "\n",
    "```R\n",
    "while (condition) {\n",
    "  # code block to be executed as long as the condition is true\n",
    "}\n",
    "```\n"
   ]
  },
  {
   "cell_type": "code",
   "execution_count": 23,
   "metadata": {
    "vscode": {
     "languageId": "r"
    }
   },
   "outputs": [
    {
     "name": "stdout",
     "output_type": "stream",
     "text": [
      "[1] 3.974 1.974 2.974\n",
      "[1] 4.961 2.961 3.961\n",
      "[1] 5.948 3.948 4.948\n"
     ]
    }
   ],
   "source": [
    "val <- 2.987\n",
    "while (val <= 4.987) {\n",
    "  val <- val + 0.987\n",
    "  print(c(val, val-2, val-1))\n",
    "}"
   ]
  },
  {
   "cell_type": "markdown",
   "metadata": {},
   "source": [
    "### 6. repeat and break in R\n",
    "___"
   ]
  },
  {
   "cell_type": "markdown",
   "metadata": {},
   "source": [
    "repeat loop is used to execute a block of code repeatedly without any condition. The loop will continue to execute until a break statement is encountered. The syntax of the repeat loop is as follows:\n",
    "\n",
    "```R\n",
    "repeat {\n",
    "  # code block to be executed repeatedly\n",
    "  if (condition) {\n",
    "    break\n",
    "  }\n",
    "}\n",
    "```"
   ]
  },
  {
   "cell_type": "code",
   "execution_count": 24,
   "metadata": {
    "vscode": {
     "languageId": "r"
    }
   },
   "outputs": [
    {
     "name": "stdout",
     "output_type": "stream",
     "text": [
      "[1] 1\n",
      "[1] 2\n",
      "[1] 3\n",
      "[1] 4\n",
      "[1] 5\n"
     ]
    }
   ],
   "source": [
    "count <- 0\n",
    "\n",
    "# repeat loop\n",
    "repeat {\n",
    "  count <- count + 1\n",
    "  print(count)\n",
    "  if (count == 5) {\n",
    "    break\n",
    "  }\n",
    "}\n"
   ]
  },
  {
   "cell_type": "code",
   "execution_count": 25,
   "metadata": {
    "vscode": {
     "languageId": "r"
    }
   },
   "outputs": [
    {
     "name": "stdout",
     "output_type": "stream",
     "text": [
      "[1] 5\n",
      "[1] 6\n",
      "[1] 7\n",
      "[1] 8\n",
      "[1] 9\n"
     ]
    }
   ],
   "source": [
    "val <- 5\n",
    "\n",
    "repeat {\n",
    "  print(val)\n",
    "  val <- val + 1\n",
    "  if (val == 10){\n",
    "    break\n",
    "  }\n",
    "}"
   ]
  },
  {
   "cell_type": "markdown",
   "metadata": {},
   "source": [
    "#### 7. `next` Statement in R\n",
    "___"
   ]
  },
  {
   "cell_type": "markdown",
   "metadata": {},
   "source": [
    "next statement is used to skip the current iteration of a loop and continue with the next iteration. The syntax of the next statement is as follows:\n",
    "\n",
    "```R\n",
    "for (value in sequence) {\n",
    "  if (condition) {\n",
    "    next\n",
    "  }\n",
    "  # code block to be executed for each value in the sequence\n",
    "}\n",
    "```"
   ]
  },
  {
   "cell_type": "code",
   "execution_count": 26,
   "metadata": {
    "vscode": {
     "languageId": "r"
    }
   },
   "outputs": [
    {
     "name": "stdout",
     "output_type": "stream",
     "text": [
      "[1] 1\n",
      "[1] 3\n",
      "[1] 5\n",
      "[1] 7\n",
      "[1] 9\n"
     ]
    }
   ],
   "source": [
    "# Define the sequence\n",
    "sequence <- 1:10\n",
    "\n",
    "# Iterate over the sequence\n",
    "for (value in sequence) {\n",
    "  # Check if the value is even\n",
    "  if (value %% 2 == 0) {\n",
    "    next\n",
    "  }\n",
    "  # Print the value if it is odd\n",
    "  print(value)\n",
    "}"
   ]
  },
  {
   "cell_type": "markdown",
   "metadata": {},
   "source": [
    "### 8. `return` Statement in R\n",
    "___"
   ]
  },
  {
   "cell_type": "markdown",
   "metadata": {},
   "source": [
    "Many times, we will require some functions to do processing and return back the result. This is accomplished with the `return()` statement in R.\n",
    "\n",
    "The `return()` statement is used to return a value from a function. It can be used to return a single value or multiple values. The syntax of the return statement is as follows:\n",
    "\n",
    "```R\n",
    "return(value)\n",
    "```\n"
   ]
  },
  {
   "cell_type": "code",
   "execution_count": 28,
   "metadata": {
    "vscode": {
     "languageId": "r"
    }
   },
   "outputs": [
    {
     "data": {
      "text/html": [
       "'Positive'"
      ],
      "text/latex": [
       "'Positive'"
      ],
      "text/markdown": [
       "'Positive'"
      ],
      "text/plain": [
       "[1] \"Positive\""
      ]
     },
     "metadata": {},
     "output_type": "display_data"
    },
    {
     "data": {
      "text/html": [
       "'Negative'"
      ],
      "text/latex": [
       "'Negative'"
      ],
      "text/markdown": [
       "'Negative'"
      ],
      "text/plain": [
       "[1] \"Negative\""
      ]
     },
     "metadata": {},
     "output_type": "display_data"
    },
    {
     "data": {
      "text/html": [
       "'Zero'"
      ],
      "text/latex": [
       "'Zero'"
      ],
      "text/markdown": [
       "'Zero'"
      ],
      "text/plain": [
       "[1] \"Zero\""
      ]
     },
     "metadata": {},
     "output_type": "display_data"
    }
   ],
   "source": [
    "check <- function(x) {\n",
    "if (x > 0) {\n",
    "result <- \"Positive\"\n",
    "} else if (x < 0) {\n",
    "result <- \"Negative\"\n",
    "} else {\n",
    "result <- \"Zero\"\n",
    "}\n",
    "return(result)\n",
    "}\n",
    "\n",
    "# Call the function\n",
    "check(5)\n",
    "check(-5)\n",
    "check(0)\n"
   ]
  },
  {
   "cell_type": "markdown",
   "metadata": {},
   "source": [
    "Summary\n",
    "\n",
    "Control Structures in R are the backbone of any programming language, as it changes the flow of the program. In this R tutorial, we have studied in detail about the control statements along with its syntax and uses and how to operate these loops with different control structures."
   ]
  }
 ],
 "metadata": {
  "kernelspec": {
   "display_name": "R",
   "language": "R",
   "name": "ir"
  },
  "language_info": {
   "codemirror_mode": "r",
   "file_extension": ".r",
   "mimetype": "text/x-r-source",
   "name": "R",
   "pygments_lexer": "r",
   "version": "4.3.0"
  }
 },
 "nbformat": 4,
 "nbformat_minor": 2
}
