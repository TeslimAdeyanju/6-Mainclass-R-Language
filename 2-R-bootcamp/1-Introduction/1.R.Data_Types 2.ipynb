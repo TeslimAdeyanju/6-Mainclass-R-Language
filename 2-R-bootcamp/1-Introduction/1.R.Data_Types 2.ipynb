{
 "cells": [
  {
   "cell_type": "markdown",
   "metadata": {},
   "source": [
    "# INTRODUCTION"
   ]
  },
  {
   "cell_type": "markdown",
   "metadata": {},
   "source": [
    "### 1.0 Introduction\n",
    "___"
   ]
  },
  {
   "cell_type": "markdown",
   "metadata": {},
   "source": [
    "R (the language) was created in the early 1990s by Ross Ihaka and Robert Gentleman, then both working at the University of Auckland. It is based upon the S language that was developed at Bell Laboratories in the 1970s, primarily by John Chambers. R (the software) is a GNU project, reflecting its status as important free and open source software. Both the language and the software are now developed by a group of (currently) 20 people known as the R Core Team."
   ]
  },
  {
   "cell_type": "markdown",
   "metadata": {},
   "source": [
    "Data types are important concept in R language, and as stated, one features of the R programming is ability to convert the data from one form to another."
   ]
  },
  {
   "cell_type": "markdown",
   "metadata": {},
   "source": [
    "\n",
    "We use the <code>class( ) function</code> to check the data type of a data:\n",
    "\n",
    "  >Basic data types in R can be divided into the following types:\n",
    "  1. Numeric: (10.5, 55, 787)\n",
    "  2. Integer : (1l, 55l, 100l, Where the Letter \"L\" Declares This as An Integer)\n",
    "  3. Complex: (9 + 3i, where \"I\" Is the Imaginary Part)\n",
    "  4. Character: (A.K.A. String) - (\"K\", \"R Is Exciting\", \"False\", \"11.5\")\n",
    "  5. Logical: (A.K.A. Boolean) - (True or False).\n",
    "\n",
    "Note the difference between whole number and integer: \n",
    "\n",
    "__Whole Numbers:__\n",
    "- Whole numbers are non-negative integers. They include all the natural numbers (counting numbers) starting from zero (0), and extend infinitely in the positive direction.\n",
    "- Whole numbers do not have fractional or decimal parts.\n",
    "- Examples of whole numbers: 0, 1, 2, 3, 4, ...\n",
    "\n",
    "__integer Number:__\n",
    "- Integers are a broader set of numbers that include both positive and negative whole numbers, along with zero.\n",
    "- Unlike whole numbers, integers can be negative, zero, or positive.\n",
    "- Integers include all the whole numbers as well as their additive inverses (negatives).\n",
    "- Examples of integers: ..., -3, -2, -1, 0, 1, 2, 3, ...\n",
    "\n",
    "In summary, while whole numbers include only non-negative integers starting from zero, integers include both negative and positive whole numbers along with zero."
   ]
  },
  {
   "cell_type": "markdown",
   "metadata": {},
   "source": [
    "#### Numeric Data Type : \n",
    "___"
   ]
  },
  {
   "cell_type": "markdown",
   "metadata": {},
   "source": [
    "\n",
    "The numeric data type is for numeric values. It is the default data type for numbers in R. Examples of numeric values would be 1, 34.5, 3.145, -24, -45.003, etc.\n",
    "- In R, the \"numeric\" data type represents real numbers, including both integers and numbers with decimal points (floating-point numbers).\n",
    "- Numeric numbers can be positive, negative, or zero.\n",
    "- Examples of numeric numbers: 3, -5, 0, 3.14, -0.5, etc.\n",
    "- Operations like addition, subtraction, multiplication, and division can be performed on numeric numbers."
   ]
  },
  {
   "cell_type": "code",
   "execution_count": 1,
   "metadata": {
    "vscode": {
     "languageId": "r"
    }
   },
   "outputs": [
    {
     "name": "stdout",
     "output_type": "stream",
     "text": [
      "[1] -150.55\n",
      "[1] \"numeric\"\n"
     ]
    }
   ],
   "source": [
    "# negative numeric number\n",
    "data1 <- -150.55\n",
    "print(data1)\n",
    "print(class(data1))"
   ]
  },
  {
   "cell_type": "code",
   "execution_count": 1,
   "metadata": {
    "vscode": {
     "languageId": "r"
    }
   },
   "outputs": [
    {
     "name": "stdout",
     "output_type": "stream",
     "text": [
      "[1] 80.5\n",
      "[1] \"numeric\"\n"
     ]
    }
   ],
   "source": [
    "# positive numeric number\n",
    "data2 <- 80.5\n",
    "print(data2)\n",
    "print(class(data2))"
   ]
  },
  {
   "cell_type": "code",
   "execution_count": 2,
   "metadata": {
    "vscode": {
     "languageId": "r"
    }
   },
   "outputs": [
    {
     "name": "stdout",
     "output_type": "stream",
     "text": [
      "[1] 0\n",
      "[1] \"numeric\"\n"
     ]
    }
   ],
   "source": [
    "# Zero numeric number\n",
    "data3 <- 0\n",
    "print(data3)\n",
    "print(class(data3))"
   ]
  },
  {
   "cell_type": "markdown",
   "metadata": {},
   "source": [
    "#### Integers Data Type: \n",
    "___"
   ]
  },
  {
   "cell_type": "markdown",
   "metadata": {},
   "source": [
    "The Integer data type is used to store real values without decimal points. To store a value as an integer, we need to specify it as such. The integer data type is commonly used for discrete only values like unique ids. We can store as well as convert a value into an integer type using the `as.integer()` function.\n",
    "\n",
    "- Integers are a subset of numeric numbers that represent whole numbers without any decimal or fractional parts.\n",
    "- Integers can be positive, negative, or zero.\n",
    "- Examples of integers: 3, -5, 0, etc. (Notice they don't have any decimal points.)\n",
    "- Unlike numeric numbers, integers are typically used when exact whole number values are required, without any approximation or decimal places.\n",
    "- Integer arithmetic operations (addition, subtraction, multiplication, and division) in R are exact when applied to integers.  \n",
    "* In summary, while both numeric numbers and integers are used to represent numerical data in R, \"numeric\" encompasses both whole numbers with decimals and fractional numbers, while \"integer\" specifically refers to whole numbers without any decimal or fractional parts."
   ]
  },
  {
   "cell_type": "code",
   "execution_count": 4,
   "metadata": {
    "vscode": {
     "languageId": "r"
    }
   },
   "outputs": [
    {
     "name": "stdout",
     "output_type": "stream",
     "text": [
      "[1] -150\n",
      "[1] \"integer\"\n"
     ]
    }
   ],
   "source": [
    "# Negative integer number\n",
    "data2 <- -150\n",
    "data2 <- as.integer(data2)\n",
    "print(data2)\n",
    "print(class(data2))"
   ]
  },
  {
   "cell_type": "code",
   "execution_count": 5,
   "metadata": {
    "vscode": {
     "languageId": "r"
    }
   },
   "outputs": [
    {
     "name": "stdout",
     "output_type": "stream",
     "text": [
      "[1] 150\n",
      "[1] \"integer\"\n"
     ]
    }
   ],
   "source": [
    "# Positive integer number\n",
    "data2 <- 150\n",
    "data2 <- as.integer(data2)\n",
    "print(data2)\n",
    "print(class(data2))"
   ]
  },
  {
   "cell_type": "code",
   "execution_count": 7,
   "metadata": {
    "vscode": {
     "languageId": "r"
    }
   },
   "outputs": [
    {
     "name": "stdout",
     "output_type": "stream",
     "text": [
      "[1] 1.3\n"
     ]
    },
    {
     "name": "stdout",
     "output_type": "stream",
     "text": [
      "[1] \"numeric\"\n"
     ]
    }
   ],
   "source": [
    "\n",
    "data3 <- 1.3\n",
    "data2 <- as.integer(data3)\n",
    "print(data3)\n",
    "print(class(data3))"
   ]
  },
  {
   "cell_type": "markdown",
   "metadata": {},
   "source": [
    "#### Complex Data Type: \n",
    "___"
   ]
  },
  {
   "cell_type": "markdown",
   "metadata": {},
   "source": [
    "In R, a complex number is a data type used to represent numbers that have both a real part and an imaginary part. Complex numbers are typically expressed in the form of a + bi, where a is the real part, b is the imaginary part, and i is the imaginary unit, defined as the square root of -1.\n",
    "\n",
    "In R, complex numbers can be created using the `complex()` function or by directly specifying the real and imaginary parts. Here's how you can work with complex numbers in R:\n",
    "\n"
   ]
  },
  {
   "cell_type": "code",
   "execution_count": 4,
   "metadata": {
    "vscode": {
     "languageId": "r"
    }
   },
   "outputs": [
    {
     "name": "stdout",
     "output_type": "stream",
     "text": [
      "[1] 2+3i\n",
      "[1] \"complex\"\n"
     ]
    }
   ],
   "source": [
    "# complex\n",
    "data3 <- 2 + 3i\n",
    "print(data3)\n",
    "print(class(data3))"
   ]
  },
  {
   "cell_type": "code",
   "execution_count": 8,
   "metadata": {
    "vscode": {
     "languageId": "r"
    }
   },
   "outputs": [
    {
     "name": "stdout",
     "output_type": "stream",
     "text": [
      "[1] 3+2i\n"
     ]
    }
   ],
   "source": [
    "# Creating a complex number using the complex() function\n",
    "complex_num <- complex(real = 3, imaginary = 2)\n",
    "print(complex_num)"
   ]
  },
  {
   "cell_type": "markdown",
   "metadata": {},
   "source": [
    "#### Character Data Type: \n",
    "___"
   ]
  },
  {
   "cell_type": "markdown",
   "metadata": {},
   "source": [
    "The character data type stores character values or strings. Strings in R can contain the alphabet, numbers, and symbols. The easiest way to denote that a value is of character type in R is to wrap the value inside single or double inverted commas."
   ]
  },
  {
   "cell_type": "code",
   "execution_count": 5,
   "metadata": {
    "vscode": {
     "languageId": "r"
    }
   },
   "outputs": [
    {
     "name": "stdout",
     "output_type": "stream",
     "text": [
      "[1] \"Hello, World!\"\n",
      "[1] \"character\"\n"
     ]
    }
   ],
   "source": [
    "# character\n",
    "data4 <- \"Hello, World!\"\n",
    "print(data4)\n",
    "print(class(data4))"
   ]
  },
  {
   "cell_type": "markdown",
   "metadata": {},
   "source": [
    "#### Logical Data Type:\n",
    "___"
   ]
  },
  {
   "cell_type": "markdown",
   "metadata": {},
   "source": [
    "\n",
    "In R, logical data types represent boolean values, which can either be TRUE or FALSE. Logical values are used to represent the truthfulness or falseness of statements or conditions within the R programming language. Logical data types are particularly useful in programming constructs such as conditional statements and logical operations.\n",
    "\n",
    "* TRUE: Represents the logical value of true. It is typically used to indicate that a statement or condition is true.\n",
    "* FALSE: Represents the logical value of false. It is used to indicate that a statement or condition is false.\n",
    "Logical data types are often generated as the result of logical operations or comparisons.  \n",
    "\n",
    "For example, a comparison between two numbers might result in a logical value indicating whether the comparison is true or false. Logical values can also be combined using logical operators such as AND (&&), OR (||), and NOT (!) to create more complex logical expressions."
   ]
  },
  {
   "cell_type": "code",
   "execution_count": 6,
   "metadata": {
    "vscode": {
     "languageId": "r"
    }
   },
   "outputs": [
    {
     "name": "stdout",
     "output_type": "stream",
     "text": [
      "[1] \"logical\"\n",
      "[1] TRUE\n"
     ]
    },
    {
     "data": {
      "text/html": [
       "'logical'"
      ],
      "text/latex": [
       "'logical'"
      ],
      "text/markdown": [
       "'logical'"
      ],
      "text/plain": [
       "[1] \"logical\""
      ]
     },
     "metadata": {},
     "output_type": "display_data"
    }
   ],
   "source": [
    "# logical\n",
    "data5 <- TRUE\n",
    "print(class(data5))\n",
    "print(data5)\n",
    "typeof(data5)"
   ]
  },
  {
   "cell_type": "markdown",
   "metadata": {},
   "source": [
    "### 2.0 Data Types Conversion into Numeric:\n",
    "___"
   ]
  },
  {
   "cell_type": "markdown",
   "metadata": {},
   "source": [
    "\n",
    "We can use the `as.numeric()`function to convert the values of other data types into numerical values. The conversion follows a few rules, which are:\n",
    "- To convert an integer value into a numeric, we can use the as.numeric function.\n",
    "- We can convert a complex value into numeric by using the function. This removes the imaginary part of the number.\n",
    "- Logical values can be converted into numeric as well by the function. The TRUE value is converted to 1, and FALSE is converted to 0.\n",
    "- Character values can similarly be converted into numerical values but if the string contains letters, alphabets, and symbols then the numeric value becomes NA."
   ]
  },
  {
   "cell_type": "code",
   "execution_count": 13,
   "metadata": {
    "vscode": {
     "languageId": "r"
    }
   },
   "outputs": [
    {
     "name": "stdout",
     "output_type": "stream",
     "text": [
      "[1] 5\n",
      "[1] \"double\"\n",
      "[1] \"numeric\"\n"
     ]
    }
   ],
   "source": [
    "# Convert an integer value into a numeric:\n",
    "integer_value <- 5\n",
    "numeric_value <- as.numeric(integer_value)\n",
    "print(numeric_value)\n",
    "print(typeof(numeric_value))\n",
    "print(class(numeric_value))\n"
   ]
  },
  {
   "cell_type": "code",
   "execution_count": 14,
   "metadata": {
    "vscode": {
     "languageId": "r"
    }
   },
   "outputs": [
    {
     "name": "stderr",
     "output_type": "stream",
     "text": [
      "Warning message in eval(expr, envir, enclos):\n",
      "\"imaginary parts discarded in coercion\"\n"
     ]
    },
    {
     "name": "stdout",
     "output_type": "stream",
     "text": [
      "[1] 3\n",
      "[1] \"double\"\n"
     ]
    }
   ],
   "source": [
    "# Convert a complex value into numeric (removing the imaginary part):\n",
    "complex_value <- 3 + 2i\n",
    "numeric_value <- as.numeric(complex_value)\n",
    "print(numeric_value)\n",
    "print(typeof(numeric_value))"
   ]
  },
  {
   "cell_type": "code",
   "execution_count": 15,
   "metadata": {
    "vscode": {
     "languageId": "r"
    }
   },
   "outputs": [
    {
     "name": "stdout",
     "output_type": "stream",
     "text": [
      "[1] 1\n",
      "[1] \"double\"\n"
     ]
    }
   ],
   "source": [
    "# Convert logical values into numeric (TRUE to 1, FALSE to 0):\n",
    "logical_value <- TRUE\n",
    "numeric_value <- as.numeric(logical_value)\n",
    "print(numeric_value)\n",
    "print(typeof(numeric_value))"
   ]
  },
  {
   "cell_type": "code",
   "execution_count": 16,
   "metadata": {
    "vscode": {
     "languageId": "r"
    }
   },
   "outputs": [
    {
     "name": "stdout",
     "output_type": "stream",
     "text": [
      "[1] 0\n",
      "[1] \"double\"\n"
     ]
    }
   ],
   "source": [
    "# Another example of logical to numeric conversion:\n",
    "logical_value <- FALSE\n",
    "numeric_value <- as.numeric(logical_value)\n",
    "print(numeric_value)\n",
    "print(typeof(numeric_value))"
   ]
  },
  {
   "cell_type": "code",
   "execution_count": 17,
   "metadata": {
    "vscode": {
     "languageId": "r"
    }
   },
   "outputs": [
    {
     "name": "stdout",
     "output_type": "stream",
     "text": [
      "[1] 123\n",
      "[1] \"double\"\n"
     ]
    }
   ],
   "source": [
    "# Convert character values into numerical values\n",
    "# (returns NA if characters are present):\n",
    "character_value <- \"123\"\n",
    "numeric_value <- as.numeric(character_value)\n",
    "print(numeric_value)\n",
    "print(typeof(numeric_value))"
   ]
  },
  {
   "cell_type": "code",
   "execution_count": 18,
   "metadata": {
    "vscode": {
     "languageId": "r"
    }
   },
   "outputs": [
    {
     "name": "stderr",
     "output_type": "stream",
     "text": [
      "Warning message in eval(expr, envir, enclos):\n",
      "\"NAs introduced by coercion\"\n"
     ]
    },
    {
     "name": "stdout",
     "output_type": "stream",
     "text": [
      "[1] NA\n",
      "[1] \"double\"\n"
     ]
    }
   ],
   "source": [
    "# Character value with letters, alphabets, or symbols\n",
    "character_value <- \"123abc\"\n",
    "numeric_value <- as.numeric(character_value)\n",
    "print(numeric_value)\n",
    "print(typeof(numeric_value))"
   ]
  },
  {
   "cell_type": "markdown",
   "metadata": {},
   "source": [
    "### 2.1 Data Types Conversion into Integer :\n",
    "___"
   ]
  },
  {
   "cell_type": "markdown",
   "metadata": {},
   "source": [
    "\n",
    "The `as.integer` function can convert the values of other data types into integer values according to the following rules:\n",
    "\n",
    "* Numeric values can be converted into an integer using the function. This removes any decimal values from the number.\n",
    "* Complex values can also be converted into integers. The function removes the imaginary parts of the number.\n",
    "* The conversion from logical values to integers is similar to the conversion of logical values to numerics. TRUE is converted to 1, and FALSE is converted to 0.\n",
    "* Character values can be converted into integers as well by using the `as.integer` function. This conversion follows the same rules as the character to numeric conversion."
   ]
  },
  {
   "cell_type": "code",
   "execution_count": 13,
   "metadata": {
    "vscode": {
     "languageId": "r"
    }
   },
   "outputs": [
    {
     "name": "stdout",
     "output_type": "stream",
     "text": [
      "[1] 123\n",
      "[1] \"integer\"\n"
     ]
    }
   ],
   "source": [
    "# Convert numeric values into integers (removing decimal values):\n",
    "numeric_value <- 123.45\n",
    "integer_value <- as.integer(numeric_value)\n",
    "print(integer_value)\n",
    "print(typeof(integer_value))"
   ]
  },
  {
   "cell_type": "code",
   "execution_count": 10,
   "metadata": {
    "vscode": {
     "languageId": "r"
    }
   },
   "outputs": [
    {
     "name": "stderr",
     "output_type": "stream",
     "text": [
      "Warning message in eval(expr, envir, enclos):\n",
      "\"imaginary parts discarded in coercion\"\n"
     ]
    },
    {
     "name": "stdout",
     "output_type": "stream",
     "text": [
      "[1] 3\n",
      "[1] \"integer\"\n"
     ]
    }
   ],
   "source": [
    "# Convert complex values into integers (removing imaginary parts):\n",
    "complex_value <- 3 + 2i\n",
    "integer_value <- as.integer(complex_value)\n",
    "print(integer_value)\n",
    "print(typeof(integer_value))"
   ]
  },
  {
   "cell_type": "code",
   "execution_count": 11,
   "metadata": {
    "vscode": {
     "languageId": "r"
    }
   },
   "outputs": [
    {
     "name": "stdout",
     "output_type": "stream",
     "text": [
      "[1] 1\n",
      "[1] \"integer\"\n"
     ]
    }
   ],
   "source": [
    "#Convert logical values into integers (TRUE to 1, FALSE to 0):\n",
    "logical_value <- TRUE\n",
    "integer_value <- as.integer(logical_value)\n",
    "print(integer_value)\n",
    "print(typeof(integer_value))"
   ]
  },
  {
   "cell_type": "code",
   "execution_count": 12,
   "metadata": {
    "vscode": {
     "languageId": "r"
    }
   },
   "outputs": [
    {
     "name": "stdout",
     "output_type": "stream",
     "text": [
      "[1] 123\n",
      "[1] \"integer\"\n"
     ]
    }
   ],
   "source": [
    "# Convert character values into integers\n",
    "# (following the same rules as character to numeric conversion):\n",
    "character_value <- \"123\"\n",
    "integer_value <- as.integer(character_value)\n",
    "print(integer_value)\n",
    "print(typeof(integer_value))"
   ]
  },
  {
   "cell_type": "markdown",
   "metadata": {},
   "source": [
    "### 2.2 Data Types Conversion into Complex :\n",
    "___"
   ]
  },
  {
   "cell_type": "markdown",
   "metadata": {},
   "source": [
    "Using the `as.complex` function, we can convert other values into the complex data types. The conversion takes place according to the following rules:\n",
    "\n",
    "* Numeric values can be converted into complex by using the as.complex function or by adding an imaginary part to it.\n",
    "* Integer value can also be converted into complex values similarly.\n",
    "* Logical values become 0+0i for FALSE and 1+0i for TRUE when converted into complex values using the as.complex function. We can also convert a logical value into a complex value by adding an imaginary part to it.\n",
    "* The conversion from a character to a complex is the same as the conversion from character to numeric or an integer with 0i added to the converted value if it is not NA."
   ]
  },
  {
   "cell_type": "code",
   "execution_count": 15,
   "metadata": {
    "vscode": {
     "languageId": "r"
    }
   },
   "outputs": [
    {
     "name": "stdout",
     "output_type": "stream",
     "text": [
      "[1] 3.14+0i\n",
      "[1] 3.14+0i\n"
     ]
    }
   ],
   "source": [
    "# Convert numeric values into complex:\n",
    "numeric_value <- 3.14\n",
    "complex_value <- as.complex(numeric_value)\n",
    "print(complex_value)\n",
    "\n",
    "# Alternatively, you can add an imaginary part to the numeric value\n",
    "complex_value <- numeric_value + 0i\n",
    "print(complex_value)\n"
   ]
  },
  {
   "cell_type": "code",
   "execution_count": 16,
   "metadata": {
    "vscode": {
     "languageId": "r"
    }
   },
   "outputs": [
    {
     "name": "stdout",
     "output_type": "stream",
     "text": [
      "[1] 5+0i\n",
      "[1] 5+0i\n"
     ]
    }
   ],
   "source": [
    "# Convert integer values into complex:\n",
    "integer_value <- 5\n",
    "complex_value <- as.complex(integer_value)\n",
    "print(complex_value)\n",
    "\n",
    "# Alternatively, you can add an imaginary part to the integer value\n",
    "complex_value <- integer_value + 0i\n",
    "print(complex_value)"
   ]
  },
  {
   "cell_type": "code",
   "execution_count": 17,
   "metadata": {
    "vscode": {
     "languageId": "r"
    }
   },
   "outputs": [
    {
     "name": "stdout",
     "output_type": "stream",
     "text": [
      "[1] 1+0i\n",
      "[1] 1+0i\n",
      "[1] 0+0i\n",
      "[1] 0+0i\n"
     ]
    }
   ],
   "source": [
    "# Convert logical values into complex:\n",
    "\n",
    "logical_value <- TRUE\n",
    "complex_value <- as.complex(logical_value)\n",
    "print(complex_value)  # Output will be 1+0i\n",
    "\n",
    "# Alternatively, you can add an imaginary part to the logical value\n",
    "complex_value <- logical_value + 0i\n",
    "print(complex_value)  # Output will be 1+0i\n",
    "\n",
    "# Logical value FALSE\n",
    "logical_value <- FALSE\n",
    "complex_value <- as.complex(logical_value)\n",
    "print(complex_value)  # Output will be 0+0i\n",
    "\n",
    "# Alternatively, you can add an imaginary part to the logical value\n",
    "complex_value <- logical_value + 0i\n",
    "print(complex_value)  # Output will be 0+0i"
   ]
  },
  {
   "cell_type": "code",
   "execution_count": 18,
   "metadata": {
    "vscode": {
     "languageId": "r"
    }
   },
   "outputs": [
    {
     "name": "stdout",
     "output_type": "stream",
     "text": [
      "[1] 3.14+0i\n"
     ]
    },
    {
     "name": "stderr",
     "output_type": "stream",
     "text": [
      "Warning message in eval(expr, envir, enclos):\n",
      "\"NAs introduced by coercion\"\n"
     ]
    },
    {
     "name": "stdout",
     "output_type": "stream",
     "text": [
      "[1] NA\n"
     ]
    }
   ],
   "source": [
    "# Convert character values into complex:\n",
    "\n",
    "character_value <- \"3.14\"\n",
    "complex_value <- as.complex(character_value)\n",
    "print(complex_value)  # Output will be 3.14+0i\n",
    "\n",
    "# If the character value contains non-numeric characters, NA will be returned\n",
    "character_value <- \"abc\"\n",
    "complex_value <- as.complex(character_value)\n",
    "print(complex_value)  # Output will be NA\n"
   ]
  },
  {
   "cell_type": "markdown",
   "metadata": {},
   "source": [
    "### 2.3 Data Types Conversion into Character :\n",
    "___"
   ]
  },
  {
   "cell_type": "markdown",
   "metadata": {},
   "source": [
    "We can convert a value of any data type into character data type using the `as.character` function. The function converts the original value into a character string."
   ]
  },
  {
   "cell_type": "code",
   "execution_count": 19,
   "metadata": {
    "vscode": {
     "languageId": "r"
    }
   },
   "outputs": [
    {
     "name": "stdout",
     "output_type": "stream",
     "text": [
      "[1] \"123\"\n",
      "[1] \"123\"\n"
     ]
    }
   ],
   "source": [
    "# Convert numeric values into character:\n",
    "numeric_value <- 123\n",
    "character_value <- as.character(numeric_value)\n",
    "print(character_value)\n",
    "print(character_value)"
   ]
  },
  {
   "cell_type": "code",
   "execution_count": 20,
   "metadata": {
    "vscode": {
     "languageId": "r"
    }
   },
   "outputs": [
    {
     "name": "stdout",
     "output_type": "stream",
     "text": [
      "[1] \"123\"\n",
      "[1] \"123\"\n"
     ]
    }
   ],
   "source": [
    "# Convert integers values into character:\n",
    "integer_value <- 123\n",
    "character_value <- as.character(integer_value)\n",
    "print(character_value)\n",
    "print(character_value)\n"
   ]
  },
  {
   "cell_type": "code",
   "execution_count": 21,
   "metadata": {
    "vscode": {
     "languageId": "r"
    }
   },
   "outputs": [
    {
     "name": "stdout",
     "output_type": "stream",
     "text": [
      "[1] \"TRUE\"\n",
      "[1] \"TRUE\"\n"
     ]
    }
   ],
   "source": [
    "# # Convert logical values into character:\n",
    "logical_value <- TRUE\n",
    "character_value <- as.character(logical_value)\n",
    "print(character_value)\n",
    "print(character_value)"
   ]
  },
  {
   "cell_type": "markdown",
   "metadata": {},
   "source": [
    "### 2.4 Data Types Conversion into Logical :\n",
    "___"
   ]
  },
  {
   "cell_type": "markdown",
   "metadata": {},
   "source": [
    "Conversion into logical data type can be done by using the `as.logical` function, by following the given rules:\n",
    "\n",
    "* Numeric, integer, and complex values can be converted into logical values, but the function returns FALSE if the value is zero and TRUE if it is anything else.\n",
    "* Character values when converted by the as.logical function, always return NA.\n"
   ]
  },
  {
   "cell_type": "code",
   "execution_count": 23,
   "metadata": {
    "vscode": {
     "languageId": "r"
    }
   },
   "outputs": [
    {
     "name": "stdout",
     "output_type": "stream",
     "text": [
      "[1] TRUE\n",
      "[1] FALSE\n",
      "[1] TRUE\n"
     ]
    }
   ],
   "source": [
    "# Convert numeric, integer, and complex values into logical:\n",
    "\n",
    "numeric_value <- 3.14\n",
    "logical_value <- as.logical(numeric_value)\n",
    "print(logical_value)  # Output will be TRUE because 3.14 is not zero\n",
    "\n",
    "# Integer value\n",
    "integer_value <- 0\n",
    "logical_value <- as.logical(integer_value)\n",
    "print(logical_value)  # Output will be FALSE because the value  is zero\n",
    "\n",
    "# Complex value\n",
    "complex_value <- 2 + 3i\n",
    "logical_value <- as.logical(complex_value)\n",
    "print(logical_value)  # because the complex value is not zero\n"
   ]
  },
  {
   "cell_type": "code",
   "execution_count": 24,
   "metadata": {
    "vscode": {
     "languageId": "r"
    }
   },
   "outputs": [
    {
     "name": "stdout",
     "output_type": "stream",
     "text": [
      "[1] NA\n"
     ]
    }
   ],
   "source": [
    "# Character values always return NA when converted into logical:\n",
    "character_value <- \"abc\"\n",
    "logical_value <- as.logical(character_value)\n",
    "print(logical_value)  # Output will be NA"
   ]
  },
  {
   "cell_type": "markdown",
   "metadata": {},
   "source": [
    "### 3.0 Constant in R (Numeric and Character Functions)\n",
    "___"
   ]
  },
  {
   "cell_type": "markdown",
   "metadata": {},
   "source": [
    "Constants, as the name suggests, are entities whose value cannot be altered. Basic types of constants are \n",
    "  1. Numeric constants and \n",
    "  1. character constants."
   ]
  },
  {
   "cell_type": "markdown",
   "metadata": {},
   "source": [
    " __1. Numeric Constants:__\n",
    "* All numbers fall under this category. They can be of type <code>integer, double or complex</code>\n",
    "* it can be checked with the <code>typeof()</code> function\n",
    "* Numeric constants followed by L are regarded as integer and those followed by i are regarded as complex."
   ]
  },
  {
   "cell_type": "markdown",
   "metadata": {},
   "source": [
    "- In R, integer, double, and complex are different data types used to represent numerical values with varying precision and characteristics. Here's a brief overview of each:\n",
    "\n",
    "__Integer (int):__\n",
    "\n",
    "- Integers are whole numbers without any fractional or decimal parts.\n",
    "- In R, integers are represented as 32-bit or 64-bit signed integers, depending on the platform and version of R being used.\n",
    "- Integers are typically used when exact whole number values are required, such as counting items or indexing arrays.\n",
    "- The purpose of integers is to provide a data type that allows for efficient storage and manipulation of whole numbers.\n",
    "\n",
    "__Double (numeric):__\n",
    "\n",
    "- Doubles, also known as numeric values, are floating-point numbers that can represent both integer and decimal values.\n",
    "- In R, doubles are typically stored as double-precision floating-point numbers, which provide higher precision than integers but consume more memory.\n",
    "- Doubles are widely used for performing arithmetic operations, calculations involving real numbers, and statistical computations.\n",
    "- The purpose of doubles is to provide a flexible data type that can represent a wide range of numerical values, including both integers and fractions, with high precision.\n",
    "\n",
    "__Complex:__\n",
    "- Complex numbers consist of two parts: a real part and an imaginary part, where the imaginary part is represented by the letter 'i'.\n",
    "- In R, complex numbers are represented using the 'complex' data type, which stores both the real and imaginary parts as doubles.\n",
    "- Complex numbers are used to represent quantities that have both real and imaginary components, such as in mathematical calculations involving roots of negative numbers or in signal processing applications.\n",
    "- The purpose of complex numbers is to provide a way to represent and manipulate quantities with both real and imaginary components, allowing for a broader range of mathematical computations.  \n",
    "\n",
    "\n",
    "In summary, integers are used for exact whole number values, doubles are used for both integer and decimal values with high precision, and complex numbers are used to represent quantities with both real and imaginary components. Each data type serves a specific purpose and is chosen based on the requirements of the task at hand."
   ]
  },
  {
   "cell_type": "code",
   "execution_count": 7,
   "metadata": {
    "vscode": {
     "languageId": "r"
    }
   },
   "outputs": [
    {
     "data": {
      "text/html": [
       "'double'"
      ],
      "text/latex": [
       "'double'"
      ],
      "text/markdown": [
       "'double'"
      ],
      "text/plain": [
       "[1] \"double\""
      ]
     },
     "metadata": {},
     "output_type": "display_data"
    },
    {
     "data": {
      "text/html": [
       "'integer'"
      ],
      "text/latex": [
       "'integer'"
      ],
      "text/markdown": [
       "'integer'"
      ],
      "text/plain": [
       "[1] \"integer\""
      ]
     },
     "metadata": {},
     "output_type": "display_data"
    },
    {
     "data": {
      "text/html": [
       "'complex'"
      ],
      "text/latex": [
       "'complex'"
      ],
      "text/markdown": [
       "'complex'"
      ],
      "text/plain": [
       "[1] \"complex\""
      ]
     },
     "metadata": {},
     "output_type": "display_data"
    }
   ],
   "source": [
    "typeof(5)\n",
    "typeof(5L)\n",
    "typeof(5i)"
   ]
  },
  {
   "cell_type": "markdown",
   "metadata": {},
   "source": [
    "* Numeric constants preceded by 0x or 0X are interpreted as hexadecimal numbers."
   ]
  },
  {
   "cell_type": "code",
   "execution_count": 8,
   "metadata": {
    "vscode": {
     "languageId": "r"
    }
   },
   "outputs": [
    {
     "data": {
      "text/html": [
       "255"
      ],
      "text/latex": [
       "255"
      ],
      "text/markdown": [
       "255"
      ],
      "text/plain": [
       "[1] 255"
      ]
     },
     "metadata": {},
     "output_type": "display_data"
    },
    {
     "data": {
      "text/html": [
       "16"
      ],
      "text/latex": [
       "16"
      ],
      "text/markdown": [
       "16"
      ],
      "text/plain": [
       "[1] 16"
      ]
     },
     "metadata": {},
     "output_type": "display_data"
    }
   ],
   "source": [
    "0xff\n",
    "0XF + 1"
   ]
  },
  {
   "cell_type": "markdown",
   "metadata": {},
   "source": [
    "__2. Character Constant:__\n",
    "\n",
    "* Character constants can be represented using either single quotes (') or double quotes (\") as delimiters"
   ]
  },
  {
   "cell_type": "code",
   "execution_count": 2,
   "metadata": {
    "vscode": {
     "languageId": "r"
    }
   },
   "outputs": [
    {
     "data": {
      "text/html": [
       "'example'"
      ],
      "text/latex": [
       "'example'"
      ],
      "text/markdown": [
       "'example'"
      ],
      "text/plain": [
       "[1] \"example\""
      ]
     },
     "metadata": {},
     "output_type": "display_data"
    },
    {
     "data": {
      "text/html": [
       "'character'"
      ],
      "text/latex": [
       "'character'"
      ],
      "text/markdown": [
       "'character'"
      ],
      "text/plain": [
       "[1] \"character\""
      ]
     },
     "metadata": {},
     "output_type": "display_data"
    }
   ],
   "source": [
    "'example'\n",
    "typeof(\"5\")"
   ]
  },
  {
   "cell_type": "markdown",
   "metadata": {},
   "source": [
    "* Built-in Constants: Some of the built-in constants defined in R along with their values are shown below."
   ]
  },
  {
   "cell_type": "code",
   "execution_count": 3,
   "metadata": {
    "vscode": {
     "languageId": "r"
    }
   },
   "outputs": [
    {
     "data": {
      "text/html": [
       "<style>\n",
       ".list-inline {list-style: none; margin:0; padding: 0}\n",
       ".list-inline>li {display: inline-block}\n",
       ".list-inline>li:not(:last-child)::after {content: \"\\00b7\"; padding: 0 .5ex}\n",
       "</style>\n",
       "<ol class=list-inline><li>'A'</li><li>'B'</li><li>'C'</li><li>'D'</li><li>'E'</li><li>'F'</li><li>'G'</li><li>'H'</li><li>'I'</li><li>'J'</li><li>'K'</li><li>'L'</li><li>'M'</li><li>'N'</li><li>'O'</li><li>'P'</li><li>'Q'</li><li>'R'</li><li>'S'</li><li>'T'</li><li>'U'</li><li>'V'</li><li>'W'</li><li>'X'</li><li>'Y'</li><li>'Z'</li></ol>\n"
      ],
      "text/latex": [
       "\\begin{enumerate*}\n",
       "\\item 'A'\n",
       "\\item 'B'\n",
       "\\item 'C'\n",
       "\\item 'D'\n",
       "\\item 'E'\n",
       "\\item 'F'\n",
       "\\item 'G'\n",
       "\\item 'H'\n",
       "\\item 'I'\n",
       "\\item 'J'\n",
       "\\item 'K'\n",
       "\\item 'L'\n",
       "\\item 'M'\n",
       "\\item 'N'\n",
       "\\item 'O'\n",
       "\\item 'P'\n",
       "\\item 'Q'\n",
       "\\item 'R'\n",
       "\\item 'S'\n",
       "\\item 'T'\n",
       "\\item 'U'\n",
       "\\item 'V'\n",
       "\\item 'W'\n",
       "\\item 'X'\n",
       "\\item 'Y'\n",
       "\\item 'Z'\n",
       "\\end{enumerate*}\n"
      ],
      "text/markdown": [
       "1. 'A'\n",
       "2. 'B'\n",
       "3. 'C'\n",
       "4. 'D'\n",
       "5. 'E'\n",
       "6. 'F'\n",
       "7. 'G'\n",
       "8. 'H'\n",
       "9. 'I'\n",
       "10. 'J'\n",
       "11. 'K'\n",
       "12. 'L'\n",
       "13. 'M'\n",
       "14. 'N'\n",
       "15. 'O'\n",
       "16. 'P'\n",
       "17. 'Q'\n",
       "18. 'R'\n",
       "19. 'S'\n",
       "20. 'T'\n",
       "21. 'U'\n",
       "22. 'V'\n",
       "23. 'W'\n",
       "24. 'X'\n",
       "25. 'Y'\n",
       "26. 'Z'\n",
       "\n",
       "\n"
      ],
      "text/plain": [
       " [1] \"A\" \"B\" \"C\" \"D\" \"E\" \"F\" \"G\" \"H\" \"I\" \"J\" \"K\" \"L\" \"M\" \"N\" \"O\" \"P\" \"Q\" \"R\" \"S\"\n",
       "[20] \"T\" \"U\" \"V\" \"W\" \"X\" \"Y\" \"Z\""
      ]
     },
     "metadata": {},
     "output_type": "display_data"
    },
    {
     "data": {
      "text/html": [
       "<style>\n",
       ".list-inline {list-style: none; margin:0; padding: 0}\n",
       ".list-inline>li {display: inline-block}\n",
       ".list-inline>li:not(:last-child)::after {content: \"\\00b7\"; padding: 0 .5ex}\n",
       "</style>\n",
       "<ol class=list-inline><li>'a'</li><li>'b'</li><li>'c'</li><li>'d'</li><li>'e'</li><li>'f'</li><li>'g'</li><li>'h'</li><li>'i'</li><li>'j'</li><li>'k'</li><li>'l'</li><li>'m'</li><li>'n'</li><li>'o'</li><li>'p'</li><li>'q'</li><li>'r'</li><li>'s'</li><li>'t'</li><li>'u'</li><li>'v'</li><li>'w'</li><li>'x'</li><li>'y'</li><li>'z'</li></ol>\n"
      ],
      "text/latex": [
       "\\begin{enumerate*}\n",
       "\\item 'a'\n",
       "\\item 'b'\n",
       "\\item 'c'\n",
       "\\item 'd'\n",
       "\\item 'e'\n",
       "\\item 'f'\n",
       "\\item 'g'\n",
       "\\item 'h'\n",
       "\\item 'i'\n",
       "\\item 'j'\n",
       "\\item 'k'\n",
       "\\item 'l'\n",
       "\\item 'm'\n",
       "\\item 'n'\n",
       "\\item 'o'\n",
       "\\item 'p'\n",
       "\\item 'q'\n",
       "\\item 'r'\n",
       "\\item 's'\n",
       "\\item 't'\n",
       "\\item 'u'\n",
       "\\item 'v'\n",
       "\\item 'w'\n",
       "\\item 'x'\n",
       "\\item 'y'\n",
       "\\item 'z'\n",
       "\\end{enumerate*}\n"
      ],
      "text/markdown": [
       "1. 'a'\n",
       "2. 'b'\n",
       "3. 'c'\n",
       "4. 'd'\n",
       "5. 'e'\n",
       "6. 'f'\n",
       "7. 'g'\n",
       "8. 'h'\n",
       "9. 'i'\n",
       "10. 'j'\n",
       "11. 'k'\n",
       "12. 'l'\n",
       "13. 'm'\n",
       "14. 'n'\n",
       "15. 'o'\n",
       "16. 'p'\n",
       "17. 'q'\n",
       "18. 'r'\n",
       "19. 's'\n",
       "20. 't'\n",
       "21. 'u'\n",
       "22. 'v'\n",
       "23. 'w'\n",
       "24. 'x'\n",
       "25. 'y'\n",
       "26. 'z'\n",
       "\n",
       "\n"
      ],
      "text/plain": [
       " [1] \"a\" \"b\" \"c\" \"d\" \"e\" \"f\" \"g\" \"h\" \"i\" \"j\" \"k\" \"l\" \"m\" \"n\" \"o\" \"p\" \"q\" \"r\" \"s\"\n",
       "[20] \"t\" \"u\" \"v\" \"w\" \"x\" \"y\" \"z\""
      ]
     },
     "metadata": {},
     "output_type": "display_data"
    },
    {
     "data": {
      "text/html": [
       "3.14159265358979"
      ],
      "text/latex": [
       "3.14159265358979"
      ],
      "text/markdown": [
       "3.14159265358979"
      ],
      "text/plain": [
       "[1] 3.141593"
      ]
     },
     "metadata": {},
     "output_type": "display_data"
    },
    {
     "data": {
      "text/html": [
       "<style>\n",
       ".list-inline {list-style: none; margin:0; padding: 0}\n",
       ".list-inline>li {display: inline-block}\n",
       ".list-inline>li:not(:last-child)::after {content: \"\\00b7\"; padding: 0 .5ex}\n",
       "</style>\n",
       "<ol class=list-inline><li>'January'</li><li>'February'</li><li>'March'</li><li>'April'</li><li>'May'</li><li>'June'</li><li>'July'</li><li>'August'</li><li>'September'</li><li>'October'</li><li>'November'</li><li>'December'</li></ol>\n"
      ],
      "text/latex": [
       "\\begin{enumerate*}\n",
       "\\item 'January'\n",
       "\\item 'February'\n",
       "\\item 'March'\n",
       "\\item 'April'\n",
       "\\item 'May'\n",
       "\\item 'June'\n",
       "\\item 'July'\n",
       "\\item 'August'\n",
       "\\item 'September'\n",
       "\\item 'October'\n",
       "\\item 'November'\n",
       "\\item 'December'\n",
       "\\end{enumerate*}\n"
      ],
      "text/markdown": [
       "1. 'January'\n",
       "2. 'February'\n",
       "3. 'March'\n",
       "4. 'April'\n",
       "5. 'May'\n",
       "6. 'June'\n",
       "7. 'July'\n",
       "8. 'August'\n",
       "9. 'September'\n",
       "10. 'October'\n",
       "11. 'November'\n",
       "12. 'December'\n",
       "\n",
       "\n"
      ],
      "text/plain": [
       " [1] \"January\"   \"February\"  \"March\"     \"April\"     \"May\"       \"June\"     \n",
       " [7] \"July\"      \"August\"    \"September\" \"October\"   \"November\"  \"December\" "
      ]
     },
     "metadata": {},
     "output_type": "display_data"
    },
    {
     "data": {
      "text/html": [
       "<style>\n",
       ".list-inline {list-style: none; margin:0; padding: 0}\n",
       ".list-inline>li {display: inline-block}\n",
       ".list-inline>li:not(:last-child)::after {content: \"\\00b7\"; padding: 0 .5ex}\n",
       "</style>\n",
       "<ol class=list-inline><li>'Jan'</li><li>'Feb'</li><li>'Mar'</li><li>'Apr'</li><li>'May'</li><li>'Jun'</li><li>'Jul'</li><li>'Aug'</li><li>'Sep'</li><li>'Oct'</li><li>'Nov'</li><li>'Dec'</li></ol>\n"
      ],
      "text/latex": [
       "\\begin{enumerate*}\n",
       "\\item 'Jan'\n",
       "\\item 'Feb'\n",
       "\\item 'Mar'\n",
       "\\item 'Apr'\n",
       "\\item 'May'\n",
       "\\item 'Jun'\n",
       "\\item 'Jul'\n",
       "\\item 'Aug'\n",
       "\\item 'Sep'\n",
       "\\item 'Oct'\n",
       "\\item 'Nov'\n",
       "\\item 'Dec'\n",
       "\\end{enumerate*}\n"
      ],
      "text/markdown": [
       "1. 'Jan'\n",
       "2. 'Feb'\n",
       "3. 'Mar'\n",
       "4. 'Apr'\n",
       "5. 'May'\n",
       "6. 'Jun'\n",
       "7. 'Jul'\n",
       "8. 'Aug'\n",
       "9. 'Sep'\n",
       "10. 'Oct'\n",
       "11. 'Nov'\n",
       "12. 'Dec'\n",
       "\n",
       "\n"
      ],
      "text/plain": [
       " [1] \"Jan\" \"Feb\" \"Mar\" \"Apr\" \"May\" \"Jun\" \"Jul\" \"Aug\" \"Sep\" \"Oct\" \"Nov\" \"Dec\""
      ]
     },
     "metadata": {},
     "output_type": "display_data"
    }
   ],
   "source": [
    "LETTERS\n",
    "letters\n",
    "pi\n",
    "month.name\n",
    "month.abb"
   ]
  },
  {
   "cell_type": "markdown",
   "metadata": {},
   "source": [
    "### 4.0 R Reserved Words\n",
    "___"
   ]
  },
  {
   "cell_type": "markdown",
   "metadata": {},
   "source": [
    "* Reserved words in R programming are a set of words that have special meaning and cannot be used as an identifier (variable name, function name etc.).  \n",
    "* This list can be viewed by typing help(reserved) or ?reserved at the R command prompt as follows."
   ]
  },
  {
   "cell_type": "code",
   "execution_count": 4,
   "metadata": {
    "vscode": {
     "languageId": "r"
    }
   },
   "outputs": [
    {
     "name": "stdout",
     "output_type": "stream",
     "text": [
      "Reserved                 package:base                  R Documentation\n",
      "\n",
      "_\bR_\be_\bs_\be_\br_\bv_\be_\bd _\bW_\bo_\br_\bd_\bs _\bi_\bn _\bR\n",
      "\n",
      "_\bD_\be_\bs_\bc_\br_\bi_\bp_\bt_\bi_\bo_\bn:\n",
      "\n",
      "     The reserved words in R's parser are\n",
      "\n",
      "     'if' 'else' 'repeat' 'while' 'function' 'for' 'in' 'next' 'break'\n",
      "\n",
      "     'TRUE' 'FALSE' 'NULL' 'Inf' 'NaN' 'NA' 'NA_integer_' 'NA_real_'\n",
      "     'NA_complex_' 'NA_character_'\n",
      "\n",
      "     '...' and '..1', '..2' etc, which are used to refer to arguments\n",
      "     passed down from a calling function, see '...'.\n",
      "\n",
      "_\bD_\be_\bt_\ba_\bi_\bl_\bs:\n",
      "\n",
      "     Reserved words outside quotes are always parsed to be references\n",
      "     to the objects linked to in the 'Description', and hence they are\n",
      "     not allowed as syntactic names (see 'make.names').  They *are*\n",
      "     allowed as non-syntactic names, e.g. inside backtick quotes.\n"
     ]
    }
   ],
   "source": [
    "help(reserved)"
   ]
  },
  {
   "cell_type": "markdown",
   "metadata": {},
   "source": [
    "### 5.0 How to Get Help in R\n",
    "___"
   ]
  },
  {
   "cell_type": "markdown",
   "metadata": {},
   "source": [
    "1. Firstly, if you want help on a function or a dataset that you know the name of, type ? followed by the name of the function."
   ]
  },
  {
   "cell_type": "code",
   "execution_count": null,
   "metadata": {
    "vscode": {
     "languageId": "r"
    }
   },
   "outputs": [],
   "source": [
    "?mean"
   ]
  },
  {
   "cell_type": "markdown",
   "metadata": {
    "vscode": {
     "languageId": "r"
    }
   },
   "source": [
    "2. To find functions, type two question marks (??) followed by a keyword related to the problem to search."
   ]
  },
  {
   "cell_type": "code",
   "execution_count": null,
   "metadata": {
    "vscode": {
     "languageId": "r"
    }
   },
   "outputs": [],
   "source": [
    "??plotting\n",
    "??\"regression model\""
   ]
  },
  {
   "cell_type": "markdown",
   "metadata": {},
   "source": [
    "3. Special characters, reserved words, and multiword search terms need enclosing in double or single quotes."
   ]
  },
  {
   "cell_type": "code",
   "execution_count": null,
   "metadata": {
    "vscode": {
     "languageId": "r"
    }
   },
   "outputs": [],
   "source": [
    "?\"if\""
   ]
  },
  {
   "cell_type": "markdown",
   "metadata": {},
   "source": [
    "The functions `help` and `help.search` do the same things as `?` and `??`, respectively, but with these you always need to enclose your arguments in quotes. The following commands are equivalent to the previous lot:"
   ]
  },
  {
   "cell_type": "code",
   "execution_count": null,
   "metadata": {
    "vscode": {
     "languageId": "r"
    }
   },
   "outputs": [],
   "source": [
    "help(\"mean\")\n",
    "help(\"+\") \n",
    "help(\"if\") \n",
    "help.search(\"plotting\") \n",
    "help.search(\"regression model\")"
   ]
  },
  {
   "cell_type": "markdown",
   "metadata": {},
   "source": [
    "4. if you ever forget the exact name of a code or variables, `apropos` function can be used to find the match. This is really useful if you can only half-remember the name of a variable that you’ve created, or a function that you want to use. For example, suppose you create a variable a_vector:"
   ]
  },
  {
   "cell_type": "code",
   "execution_count": 8,
   "metadata": {
    "vscode": {
     "languageId": "r"
    }
   },
   "outputs": [],
   "source": [
    "a_vector <- c(1, 3, 6, 10)"
   ]
  },
  {
   "cell_type": "markdown",
   "metadata": {
    "vscode": {
     "languageId": "r"
    }
   },
   "source": [
    "You can then recall this variable using apropos:"
   ]
  },
  {
   "cell_type": "code",
   "execution_count": 9,
   "metadata": {
    "vscode": {
     "languageId": "r"
    }
   },
   "outputs": [
    {
     "data": {
      "text/html": [
       "<style>\n",
       ".list-inline {list-style: none; margin:0; padding: 0}\n",
       ".list-inline>li {display: inline-block}\n",
       ".list-inline>li:not(:last-child)::after {content: \"\\00b7\"; padding: 0 .5ex}\n",
       "</style>\n",
       "<ol class=list-inline><li>'Vectorize'</li><li>'a_vector'</li><li>'as.data.frame.vector'</li><li>'as.vector'</li><li>'as.vector.POSIXlt'</li><li>'as.vector.data.frame'</li><li>'as.vector.factor'</li><li>'is.vector'</li><li>'vector'</li></ol>\n"
      ],
      "text/latex": [
       "\\begin{enumerate*}\n",
       "\\item 'Vectorize'\n",
       "\\item 'a\\_vector'\n",
       "\\item 'as.data.frame.vector'\n",
       "\\item 'as.vector'\n",
       "\\item 'as.vector.POSIXlt'\n",
       "\\item 'as.vector.data.frame'\n",
       "\\item 'as.vector.factor'\n",
       "\\item 'is.vector'\n",
       "\\item 'vector'\n",
       "\\end{enumerate*}\n"
      ],
      "text/markdown": [
       "1. 'Vectorize'\n",
       "2. 'a_vector'\n",
       "3. 'as.data.frame.vector'\n",
       "4. 'as.vector'\n",
       "5. 'as.vector.POSIXlt'\n",
       "6. 'as.vector.data.frame'\n",
       "7. 'as.vector.factor'\n",
       "8. 'is.vector'\n",
       "9. 'vector'\n",
       "\n",
       "\n"
      ],
      "text/plain": [
       "[1] \"Vectorize\"            \"a_vector\"             \"as.data.frame.vector\"\n",
       "[4] \"as.vector\"            \"as.vector.POSIXlt\"    \"as.vector.data.frame\"\n",
       "[7] \"as.vector.factor\"     \"is.vector\"            \"vector\"              "
      ]
     },
     "metadata": {},
     "output_type": "display_data"
    }
   ],
   "source": [
    "apropos(\"vector\")"
   ]
  },
  {
   "cell_type": "markdown",
   "metadata": {},
   "source": [
    "The results contain the variable you just created, `a_vector`, and all other variables that contain the string vector. In this case, all the others are functions that are built into R.\n",
    "\n",
    "Just finding variables that contain a particular string is fine, but you can also do fancier matching with apropos using regular expressions."
   ]
  },
  {
   "cell_type": "code",
   "execution_count": 10,
   "metadata": {
    "vscode": {
     "languageId": "r"
    }
   },
   "outputs": [
    {
     "data": {
      "text/html": [
       "<style>\n",
       ".list-inline {list-style: none; margin:0; padding: 0}\n",
       ".list-inline>li {display: inline-block}\n",
       ".list-inline>li:not(:last-child)::after {content: \"\\00b7\"; padding: 0 .5ex}\n",
       "</style>\n",
       "<ol class=list-inline><li>'SSgompertz'</li><li>'quartz'</li><li>'toeplitz'</li><li>'unz'</li></ol>\n"
      ],
      "text/latex": [
       "\\begin{enumerate*}\n",
       "\\item 'SSgompertz'\n",
       "\\item 'quartz'\n",
       "\\item 'toeplitz'\n",
       "\\item 'unz'\n",
       "\\end{enumerate*}\n"
      ],
      "text/markdown": [
       "1. 'SSgompertz'\n",
       "2. 'quartz'\n",
       "3. 'toeplitz'\n",
       "4. 'unz'\n",
       "\n",
       "\n"
      ],
      "text/plain": [
       "[1] \"SSgompertz\" \"quartz\"     \"toeplitz\"   \"unz\"       "
      ]
     },
     "metadata": {},
     "output_type": "display_data"
    }
   ],
   "source": [
    "apropos(\"z$\")"
   ]
  },
  {
   "cell_type": "code",
   "execution_count": 13,
   "metadata": {
    "vscode": {
     "languageId": "r"
    }
   },
   "outputs": [
    {
     "data": {
      "text/html": [
       "<style>\n",
       ".list-inline {list-style: none; margin:0; padding: 0}\n",
       ".list-inline>li {display: inline-block}\n",
       ".list-inline>li:not(:last-child)::after {content: \"\\00b7\"; padding: 0 .5ex}\n",
       "</style>\n",
       "<ol class=list-inline><li>'.S4methods'</li><li>'Harman74.cor'</li><li>'asS4'</li><li>'blues9'</li><li>'enc2utf8'</li><li>'fixPre1.8'</li><li>'intToUtf8'</li><li>'isS4'</li><li>'state.x77'</li><li>'utf8ToInt'</li><li>'validUTF8'</li></ol>\n"
      ],
      "text/latex": [
       "\\begin{enumerate*}\n",
       "\\item '.S4methods'\n",
       "\\item 'Harman74.cor'\n",
       "\\item 'asS4'\n",
       "\\item 'blues9'\n",
       "\\item 'enc2utf8'\n",
       "\\item 'fixPre1.8'\n",
       "\\item 'intToUtf8'\n",
       "\\item 'isS4'\n",
       "\\item 'state.x77'\n",
       "\\item 'utf8ToInt'\n",
       "\\item 'validUTF8'\n",
       "\\end{enumerate*}\n"
      ],
      "text/markdown": [
       "1. '.S4methods'\n",
       "2. 'Harman74.cor'\n",
       "3. 'asS4'\n",
       "4. 'blues9'\n",
       "5. 'enc2utf8'\n",
       "6. 'fixPre1.8'\n",
       "7. 'intToUtf8'\n",
       "8. 'isS4'\n",
       "9. 'state.x77'\n",
       "10. 'utf8ToInt'\n",
       "11. 'validUTF8'\n",
       "\n",
       "\n"
      ],
      "text/plain": [
       " [1] \".S4methods\"   \"Harman74.cor\" \"asS4\"         \"blues9\"       \"enc2utf8\"    \n",
       " [6] \"fixPre1.8\"    \"intToUtf8\"    \"isS4\"         \"state.x77\"    \"utf8ToInt\"   \n",
       "[11] \"validUTF8\"   "
      ]
     },
     "metadata": {},
     "output_type": "display_data"
    }
   ],
   "source": [
    "apropos(\"[4-9]\")"
   ]
  },
  {
   "cell_type": "code",
   "execution_count": 14,
   "metadata": {
    "vscode": {
     "languageId": "r"
    }
   },
   "outputs": [
    {
     "name": "stderr",
     "output_type": "stream",
     "text": [
      "starting httpd help server ...\n",
      " done\n",
      "\n"
     ]
    }
   ],
   "source": [
    "browseVignettes()"
   ]
  }
 ],
 "metadata": {
  "kernelspec": {
   "display_name": "R",
   "language": "R",
   "name": "ir"
  },
  "language_info": {
   "codemirror_mode": "r",
   "file_extension": ".r",
   "mimetype": "text/x-r-source",
   "name": "R",
   "pygments_lexer": "r",
   "version": "4.4.0"
  }
 },
 "nbformat": 4,
 "nbformat_minor": 2
}
