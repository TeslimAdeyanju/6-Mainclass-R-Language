{
 "cells": [
  {
   "cell_type": "markdown",
   "metadata": {},
   "source": [
    "# VARIABLE"
   ]
  },
  {
   "cell_type": "markdown",
   "metadata": {},
   "source": [
    "## Introduction\n",
    "___"
   ]
  },
  {
   "cell_type": "markdown",
   "metadata": {},
   "source": [
    "* Variables are used to store data, whose value can be changed according to our need. \n",
    "* Unique name given to a variable (function and objects as well) is an identifier.\n",
    "\n",
    "__Rules for writing identified in R__\n",
    "1. Identifiers can be a combination of letters, digits, period (.) and underscore (_).\n",
    "2. It must start with a letter or a period. If it starts with a period, it cannot be followed by a digit.\n",
    "3. Reserved words in R cannot be used as identifiers.\n"
   ]
  },
  {
   "cell_type": "markdown",
   "metadata": {},
   "source": [
    "\n",
    "<table class=\"table table-bordered\">\n",
    "<tr>\n",
    "<th style=\"width:25%\">Variable name</th><th style=\"width:5%\">Description</th><th>Reason</th>\n",
    "</tr>\n",
    "<tr>\n",
    "<td>var_name2.</td>\n",
    "<td>valid.</td>\n",
    "<td> Has letters, numbers, dot and underscore.</td>\n",
    "</tr>\n",
    "<tr>\n",
    "<td>var_name%</td>\n",
    "<td>Invalid.</td>\n",
    "<td>Has the character '%'. Only dot(.) and underscore allowed.</td>\n",
    "</tr>\n",
    "<tr>\n",
    "<td>2var_name</td>\n",
    "<td>Invalid.</td>\n",
    "<td> Starts with a number</td>\n",
    "</tr>\n",
    "<tr>\n",
    "<td> .var_name, var.name</td>\n",
    "<td>valid.</td>\n",
    "<td> Can start with a dot(.) but the dot(.)should not be followed by a number..</td>\n",
    "</tr>\n",
    "<tr>\n",
    "<td>.2var_name</td>\n",
    "<td>Invalid.</td>\n",
    "<td> The starting dot is followed by a number making it invalid. </td>\n",
    "</tr>\n",
    "<tr>\n",
    "<td>_var_name</td>\n",
    "<td>Invalid.</td>\n",
    "<td> Starts with _ which is not valid </td>\n",
    "</tr>\n",
    "</table>"
   ]
  },
  {
   "cell_type": "markdown",
   "metadata": {},
   "source": [
    "__Best Practices__\n",
    "\n",
    "Earlier versions of R used underscore (_) as an assignment operator. So, the period (.) was used extensively in variable names having multiple words.\n",
    "\n",
    "Current versions of R support underscore as a valid identifier but it is good practice to use period as word separators.\n",
    "\n",
    "For example, a.variable.name is preferred over a_variable_name or alternatively we could use camel case as aVariableName."
   ]
  },
  {
   "cell_type": "markdown",
   "metadata": {},
   "source": [
    "#### 1.0 Variable Assignment \n",
    "___\n"
   ]
  },
  {
   "cell_type": "markdown",
   "metadata": {},
   "source": [
    "\n",
    "The variables can be assigned values using leftward, rightward and equal to operator. \n",
    "The values of the variables can be printed using print() or cat() function.\n",
    "The <code>cat() function</code> combines multiple items into a continuous print output.\n"
   ]
  },
  {
   "cell_type": "code",
   "execution_count": 1,
   "metadata": {
    "vscode": {
     "languageId": "r"
    }
   },
   "outputs": [
    {
     "name": "stdout",
     "output_type": "stream",
     "text": [
      "[1] 0 1 2 3\n"
     ]
    }
   ],
   "source": [
    "# Assignment using equal operator.\n",
    "var_1 = c(0,1,2,3)\n",
    "print(var_1)"
   ]
  },
  {
   "cell_type": "code",
   "execution_count": 2,
   "metadata": {
    "vscode": {
     "languageId": "r"
    }
   },
   "outputs": [
    {
     "name": "stdout",
     "output_type": "stream",
     "text": [
      "[1] \"learn\" \"R\"    \n"
     ]
    }
   ],
   "source": [
    "# Assignment using leftward operator.\n",
    "var_2 <- c(\"learn\", \"R\")\n",
    "print(var_2)"
   ]
  },
  {
   "cell_type": "code",
   "execution_count": 45,
   "metadata": {
    "vscode": {
     "languageId": "r"
    }
   },
   "outputs": [
    {
     "name": "stdout",
     "output_type": "stream",
     "text": [
      "[1] 1 1\n"
     ]
    }
   ],
   "source": [
    "# Assignment using rightward operator.\n",
    "c(TRUE, 1) -> var.3\n",
    "print(var.3)"
   ]
  },
  {
   "cell_type": "markdown",
   "metadata": {},
   "source": [
    "#### 2.0 Creating Variable in R\n",
    "___"
   ]
  },
  {
   "cell_type": "markdown",
   "metadata": {},
   "source": [
    "Variables are containers for storing data values.R does not have a command for declaring a variable. A variable is created the moment you first assign a value to it. To assign a value to a variable, use the <code><- sign.</code> To output (or print) the variable value, just type the variable name:\n"
   ]
  },
  {
   "cell_type": "code",
   "execution_count": 3,
   "metadata": {
    "vscode": {
     "languageId": "r"
    }
   },
   "outputs": [
    {
     "name": "stdout",
     "output_type": "stream",
     "text": [
      "[1] \"John\"\n",
      "[1] 25\n"
     ]
    }
   ],
   "source": [
    "name <- \"John\"\n",
    "age <- 25\n",
    "\n",
    "print(name)\n",
    "print(age)"
   ]
  },
  {
   "cell_type": "markdown",
   "metadata": {},
   "source": [
    "#### 3.0 Print / Output Variables\n",
    "\n",
    "___"
   ]
  },
  {
   "cell_type": "markdown",
   "metadata": {},
   "source": [
    "\n",
    "Compared to many other programming languages, you do not have to use a function to print/output variables in R. You can just type the name of the variable:\n"
   ]
  },
  {
   "cell_type": "code",
   "execution_count": 4,
   "metadata": {
    "vscode": {
     "languageId": "r"
    }
   },
   "outputs": [
    {
     "data": {
      "text/html": [
       "'John'"
      ],
      "text/latex": [
       "'John'"
      ],
      "text/markdown": [
       "'John'"
      ],
      "text/plain": [
       "[1] \"John\""
      ]
     },
     "metadata": {},
     "output_type": "display_data"
    },
    {
     "data": {
      "text/html": [
       "25"
      ],
      "text/latex": [
       "25"
      ],
      "text/markdown": [
       "25"
      ],
      "text/plain": [
       "[1] 25"
      ]
     },
     "metadata": {},
     "output_type": "display_data"
    }
   ],
   "source": [
    "name\n",
    "age"
   ]
  },
  {
   "cell_type": "markdown",
   "metadata": {},
   "source": [
    "#### 4.0 Concatenate Elements\n",
    "___"
   ]
  },
  {
   "cell_type": "markdown",
   "metadata": {},
   "source": [
    "<tt>\n",
    "You can also concatenate, or join, two or more elements, by using the <code>paste()function</code>. To combine both text and a variable, R uses comma (,).\n",
    "<tt>"
   ]
  },
  {
   "cell_type": "code",
   "execution_count": 48,
   "metadata": {
    "vscode": {
     "languageId": "r"
    }
   },
   "outputs": [
    {
     "data": {
      "text/html": [
       "<span style=white-space:pre-wrap>'Teslim is  Great'</span>"
      ],
      "text/latex": [
       "'Teslim is  Great'"
      ],
      "text/markdown": [
       "<span style=white-space:pre-wrap>'Teslim is  Great'</span>"
      ],
      "text/plain": [
       "[1] \"Teslim is  Great\""
      ]
     },
     "metadata": {},
     "output_type": "display_data"
    }
   ],
   "source": [
    "text <- \"Great\"\n",
    "paste(\"Teslim is \", text)"
   ]
  },
  {
   "cell_type": "code",
   "execution_count": 4,
   "metadata": {
    "vscode": {
     "languageId": "r"
    }
   },
   "outputs": [
    {
     "data": {
      "text/html": [
       "'This is part of my learning process I am learning R'"
      ],
      "text/latex": [
       "'This is part of my learning process I am learning R'"
      ],
      "text/markdown": [
       "'This is part of my learning process I am learning R'"
      ],
      "text/plain": [
       "[1] \"This is part of my learning process I am learning R\""
      ]
     },
     "metadata": {},
     "output_type": "display_data"
    }
   ],
   "source": [
    "st_1 <- \"I am learning R\"\n",
    "st_2 <- \"This is part of my learning process\"\n",
    "paste(st_2, st_1)"
   ]
  },
  {
   "cell_type": "markdown",
   "metadata": {},
   "source": [
    "For numbers, the + character works as a mathematical operator:\n"
   ]
  },
  {
   "cell_type": "code",
   "execution_count": 5,
   "metadata": {
    "vscode": {
     "languageId": "r"
    }
   },
   "outputs": [
    {
     "data": {
      "text/html": [
       "30"
      ],
      "text/latex": [
       "30"
      ],
      "text/markdown": [
       "30"
      ],
      "text/plain": [
       "[1] 30"
      ]
     },
     "metadata": {},
     "output_type": "display_data"
    }
   ],
   "source": [
    "num1 <- 10\n",
    "num2 <- 20\n",
    "num1 + num2"
   ]
  },
  {
   "cell_type": "markdown",
   "metadata": {},
   "source": [
    "<tt>\n",
    "If you try to combine a string (text) and a number, R will give you an error:\n",
    "<tt>"
   ]
  },
  {
   "cell_type": "code",
   "execution_count": 7,
   "metadata": {
    "vscode": {
     "languageId": "r"
    }
   },
   "outputs": [
    {
     "ename": "ERROR",
     "evalue": "Error in num1 + st_1: non-numeric argument to binary operator\n",
     "output_type": "error",
     "traceback": [
      "Error in num1 + st_1: non-numeric argument to binary operator\nTraceback:\n"
     ]
    }
   ],
   "source": [
    "num1 + st_1"
   ]
  },
  {
   "cell_type": "markdown",
   "metadata": {},
   "source": [
    "#### 5.0 Multiple Variables\n",
    "___"
   ]
  },
  {
   "cell_type": "markdown",
   "metadata": {},
   "source": [
    "<tt>\n",
    "R allows you to assign the same value to multiple variables in one line:\n",
    "<tt>"
   ]
  },
  {
   "cell_type": "code",
   "execution_count": null,
   "metadata": {
    "vscode": {
     "languageId": "r"
    }
   },
   "outputs": [
    {
     "name": "stdout",
     "output_type": "stream",
     "text": [
      "[1] 10\n",
      "[1] 10\n",
      "[1] 10\n"
     ]
    }
   ],
   "source": [
    "var1 <- var2 <- var3 <- 10\n",
    "\n",
    "print(var1)\n",
    "print(var2)\n",
    "print(var3)"
   ]
  },
  {
   "cell_type": "markdown",
   "metadata": {},
   "source": [
    "#### 6.0 Deleting Variables\n",
    "---"
   ]
  },
  {
   "cell_type": "markdown",
   "metadata": {},
   "source": [
    "<tt>\n",
    "Variables can be deleted by using the <code>rm()function</code>. Below is an example where the first sentence was delete following the  combination of <code>paste( )</code>\n",
    "<tt>"
   ]
  },
  {
   "cell_type": "code",
   "execution_count": 1,
   "metadata": {
    "vscode": {
     "languageId": "r"
    }
   },
   "outputs": [
    {
     "data": {
      "text/html": [
       "' This is another string'"
      ],
      "text/latex": [
       "' This is another string'"
      ],
      "text/markdown": [
       "' This is another string'"
      ],
      "text/plain": [
       "[1] \" This is another string\""
      ]
     },
     "metadata": {},
     "output_type": "display_data"
    }
   ],
   "source": [
    "det_1 <- \"This is a string\"\n",
    "det_2 <- \"This is another string\"\n",
    "\n",
    "paste(rm(det_1), det_2)\n"
   ]
  }
 ],
 "metadata": {
  "kernelspec": {
   "display_name": "R",
   "language": "R",
   "name": "ir"
  },
  "language_info": {
   "codemirror_mode": "r",
   "file_extension": ".r",
   "mimetype": "text/x-r-source",
   "name": "R",
   "pygments_lexer": "r",
   "version": "4.4.0"
  }
 },
 "nbformat": 4,
 "nbformat_minor": 2
}
