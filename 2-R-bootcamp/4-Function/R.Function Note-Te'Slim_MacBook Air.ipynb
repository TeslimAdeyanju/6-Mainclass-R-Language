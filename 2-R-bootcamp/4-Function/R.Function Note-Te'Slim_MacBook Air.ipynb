{
 "cells": [
  {
   "cell_type": "markdown",
   "metadata": {},
   "source": [
    "# Functions in R"
   ]
  },
  {
   "cell_type": "markdown",
   "metadata": {},
   "source": [
    "#### 1.0 Introduction\n",
    "___"
   ]
  },
  {
   "cell_type": "markdown",
   "metadata": {},
   "source": [
    "In this tutorial, we will learn about functions in R. Functions are a set of statements that are grouped together to perform a specific task. Functions are used to avoid repetition of code and make the code more readable. In R, there are two types of functions: built-in functions and user-defined functions. \n",
    "\n",
    "* Built-in functions are functions that are already defined in R and can be used directly. \n",
    "* User-defined functions are functions that are defined by the user to perform a specific task.\n",
    "\n",
    "In R, functions are reusable blocks of code that perform specific tasks. They offer several advantages, including:\n",
    "\n",
    "1. Modularity: Break down complex problems into smaller, manageable functions.\n",
    "1. Code reusability: Avoid rewriting the same code multiple times.\n",
    "1. Improved readability: Functions make code more organized and easier to understand.\n",
    "\n",
    "The syntax for defining a function in R is as follows:\n",
    "\n",
    "```R\n",
    "function_name <- function(arg1, arg2, ...) {\n",
    "  # body of the function\n",
    "  # Code to be executed\n",
    "  return(output)\n",
    "}\n",
    "\n",
    "# Calling the function\n",
    "function_name(value1, value2, ...)\n",
    "```\n",
    "\n",
    "Example of a simple function that adds two numbers:"
   ]
  },
  {
   "cell_type": "code",
   "execution_count": 1,
   "metadata": {
    "vscode": {
     "languageId": "r"
    }
   },
   "outputs": [
    {
     "data": {
      "text/html": [
       "8"
      ],
      "text/latex": [
       "8"
      ],
      "text/markdown": [
       "8"
      ],
      "text/plain": [
       "[1] 8"
      ]
     },
     "metadata": {},
     "output_type": "display_data"
    }
   ],
   "source": [
    "# Create a function that adds two numbers\n",
    "add_numbers <- function(a, b) {\n",
    "  sum <- a + b # body of the function\n",
    "  return(sum) # return statement\n",
    "}\n",
    "\n",
    "# Calling the function\n",
    "add_numbers(5, 3)"
   ]
  },
  {
   "cell_type": "code",
   "execution_count": 1,
   "metadata": {
    "vscode": {
     "languageId": "r"
    }
   },
   "outputs": [
    {
     "data": {
      "text/html": [
       "15"
      ],
      "text/latex": [
       "15"
      ],
      "text/markdown": [
       "15"
      ],
      "text/plain": [
       "[1] 15"
      ]
     },
     "metadata": {},
     "output_type": "display_data"
    }
   ],
   "source": [
    "# create a function that multiplies two numbers\n",
    "produc_numbers <- function(a, b){\n",
    "  prod <- a * b\n",
    "  return(prod)\n",
    "}\n",
    "\n",
    "# Calling the function\n",
    "produc_numbers(5, 3)"
   ]
  },
  {
   "cell_type": "markdown",
   "metadata": {},
   "source": [
    "##### Named Arguments\n",
    "___"
   ]
  },
  {
   "cell_type": "markdown",
   "metadata": {},
   "source": [
    "We can also use named arguments in a function. Named arguments allow us to specify the argument values by name when calling the function. This can make the code more readable and easier to understand. This allow us to pass the arguments in any order.\n",
    "\n",
    "```R\n",
    "function_name <- function(arg1, arg2, ...) {\n",
    "  # body of the function\n",
    "  # Code to be executed\n",
    "  return(output)\n",
    "}\n",
    "\n",
    "# Calling the function with named arguments\n",
    "function_name(arg1 = value1, arg2 = value2, ...)\n",
    "```"
   ]
  },
  {
   "cell_type": "code",
   "execution_count": 4,
   "metadata": {
    "vscode": {
     "languageId": "r"
    }
   },
   "outputs": [
    {
     "name": "stdout",
     "output_type": "stream",
     "text": [
      "[1] \"8 raised to the power 2 is 64\"\n",
      "[1] \"8 raised to the power 2 is 64\"\n",
      "[1] \"8 raised to the power 2 is 64\"\n"
     ]
    }
   ],
   "source": [
    "# create a functions that raise a number to a power\n",
    "pow <- function(x, y) {\n",
    "  result <- x^y\n",
    "  print(paste(x, \"raised to the power\", y, \"is\", result))\n",
    "}\n",
    "\n",
    "# Calling the function\n",
    "pow(8, 2)\n",
    "pow(x = 8, y = 2)\n",
    "pow(y = 2, x = 8)"
   ]
  },
  {
   "cell_type": "markdown",
   "metadata": {},
   "source": [
    "Furthermore, we can use named and unnamed arguments in a single call.\n",
    "\n",
    "In such a case, all the named arguments are matched first and then the remaining unnamed arguments are matched in a positional order."
   ]
  },
  {
   "cell_type": "code",
   "execution_count": 6,
   "metadata": {
    "vscode": {
     "languageId": "r"
    }
   },
   "outputs": [
    {
     "name": "stdout",
     "output_type": "stream",
     "text": [
      "[1] \"8 raised to the power 2 is 64\"\n",
      "[1] \"8 raised to the power 2 is 64\"\n"
     ]
    }
   ],
   "source": [
    "pow(x = 8, 2)\n",
    "pow(2, x = 8)"
   ]
  },
  {
   "cell_type": "markdown",
   "metadata": {},
   "source": [
    "##### Default Values for Arguments\n",
    "___"
   ]
  },
  {
   "cell_type": "markdown",
   "metadata": {},
   "source": [
    "We can also assign default values to function arguments. If an argument is not provided when calling the function, the default value will be used.\n",
    "\n",
    "```R\n",
    "function_name <- function(arg1 = default_value1, arg2 = default_value2, ...) {\n",
    "  # body of the function\n",
    "  # Code to be executed\n",
    "  return(output)\n",
    "}\n",
    "\n",
    "# Calling the function\n",
    "function_name()\n",
    "```"
   ]
  },
  {
   "cell_type": "code",
   "execution_count": 8,
   "metadata": {
    "vscode": {
     "languageId": "r"
    }
   },
   "outputs": [
    {
     "name": "stdout",
     "output_type": "stream",
     "text": [
      "[1] \"8 raised to the power 2 is 64\"\n"
     ]
    }
   ],
   "source": [
    "# Create a function with a default argument\n",
    "pow <- function(x, y = 2) {\n",
    "  result <- x^y\n",
    "  print(paste(x, \"raised to the power\", y, \"is\", result))\n",
    "}\n",
    "\n",
    "# Calling the function\n",
    "pow(8)"
   ]
  },
  {
   "cell_type": "markdown",
   "metadata": {},
   "source": [
    "#####  `return` Value from Function\n",
    "___"
   ]
  },
  {
   "cell_type": "markdown",
   "metadata": {},
   "source": [
    "We can use the `return` statement to return a value from a function. The `return` statement is used to exit the function and return a value to the calling code.\n",
    "\n",
    "```R\n",
    "function_name <- function(arg1, arg2, ...) {\n",
    "  # body of the function\n",
    "  # Code to be executed\n",
    "  return(output)\n",
    "}\n",
    "\n",
    "# Calling the function\n",
    "result <- function_name(value1, value2, ...)\n",
    "```\n",
    "\n",
    "Many times, we will require our functions to do some processing and return the result. This is accomplished with the `return`() function in R."
   ]
  },
  {
   "cell_type": "code",
   "execution_count": 5,
   "metadata": {
    "vscode": {
     "languageId": "r"
    }
   },
   "outputs": [
    {
     "data": {
      "text/html": [
       "'Positive'"
      ],
      "text/latex": [
       "'Positive'"
      ],
      "text/markdown": [
       "'Positive'"
      ],
      "text/plain": [
       "[1] \"Positive\""
      ]
     },
     "metadata": {},
     "output_type": "display_data"
    },
    {
     "data": {
      "text/html": [
       "'Negative'"
      ],
      "text/latex": [
       "'Negative'"
      ],
      "text/markdown": [
       "'Negative'"
      ],
      "text/plain": [
       "[1] \"Negative\""
      ]
     },
     "metadata": {},
     "output_type": "display_data"
    },
    {
     "data": {
      "text/html": [
       "'Zero'"
      ],
      "text/latex": [
       "'Zero'"
      ],
      "text/markdown": [
       "'Zero'"
      ],
      "text/plain": [
       "[1] \"Zero\""
      ]
     },
     "metadata": {},
     "output_type": "display_data"
    }
   ],
   "source": [
    "check <- function(x) {\n",
    "  if (x > 0) {\n",
    "    result <- \"Positive\"\n",
    "  } else if (x < 0) {\n",
    "    result <- \"Negative\"\n",
    "  } else {\n",
    "    result <- \"Zero\"\n",
    "  }\n",
    "  return(result)\n",
    "}\n",
    "\n",
    "# Calling the function\n",
    "check(1)\n",
    "check(-10)\n",
    "check(0)\n"
   ]
  },
  {
   "cell_type": "markdown",
   "metadata": {},
   "source": [
    "##### Function without `return`\n",
    "___"
   ]
  },
  {
   "cell_type": "markdown",
   "metadata": {},
   "source": [
    "If there are no explicit returns from a function, the value of the last evaluated expression is returned automatically in R.\n",
    "\n",
    "For example, the following is equivalent to the above function."
   ]
  },
  {
   "cell_type": "code",
   "execution_count": 2,
   "metadata": {
    "vscode": {
     "languageId": "r"
    }
   },
   "outputs": [],
   "source": [
    "check <- function(x) {\n",
    "  if (x > 0) {\n",
    "    result <- \"Positive\"\n",
    "  } else if (x < 0) {\n",
    "    result <- \"Negative\"\n",
    "  } else {\n",
    "    result <- \"Zero\"\n",
    "  }\n",
    "  result\n",
    "}\n"
   ]
  },
  {
   "cell_type": "markdown",
   "metadata": {},
   "source": [
    "##### Multipl `return` Statements\n",
    "___"
   ]
  },
  {
   "cell_type": "markdown",
   "metadata": {},
   "source": [
    "The `return()` function can return only a single object. If we want to return multiple values in R, we can use a `list` (or other objects) and return it."
   ]
  },
  {
   "cell_type": "code",
   "execution_count": 3,
   "metadata": {
    "vscode": {
     "languageId": "r"
    }
   },
   "outputs": [
    {
     "data": {
      "text/html": [
       "'red'"
      ],
      "text/latex": [
       "'red'"
      ],
      "text/markdown": [
       "'red'"
      ],
      "text/plain": [
       "[1] \"red\""
      ]
     },
     "metadata": {},
     "output_type": "display_data"
    },
    {
     "data": {
      "text/html": [
       "20"
      ],
      "text/latex": [
       "20"
      ],
      "text/markdown": [
       "20"
      ],
      "text/plain": [
       "[1] 20"
      ]
     },
     "metadata": {},
     "output_type": "display_data"
    },
    {
     "data": {
      "text/html": [
       "'round'"
      ],
      "text/latex": [
       "'round'"
      ],
      "text/markdown": [
       "'round'"
      ],
      "text/plain": [
       "[1] \"round\""
      ]
     },
     "metadata": {},
     "output_type": "display_data"
    }
   ],
   "source": [
    "multi_return <- function() {\n",
    "my_list <- list(\"color\" = \"red\", \"size\" = 20, \"shape\" = \"round\")\n",
    "return(my_list)\n",
    "}\n",
    "\n",
    "\n",
    "# call function multi_return() and assign the result to variable a\n",
    "a <- multi_return()\n",
    "a$color\n",
    "a$size\n",
    "a$shape"
   ]
  },
  {
   "cell_type": "markdown",
   "metadata": {},
   "source": [
    "##### Using R Function \n",
    "___"
   ]
  },
  {
   "cell_type": "markdown",
   "metadata": {},
   "source": [
    "It should be noted that R does not let you know by itself that it loaded the defined function but it is present in the workspace.\n",
    "\n",
    "It can be check by using `ls()` command.\n"
   ]
  },
  {
   "cell_type": "code",
   "execution_count": 10,
   "metadata": {
    "vscode": {
     "languageId": "r"
    }
   },
   "outputs": [],
   "source": [
    "add_percent <- function(x) {\n",
    "  # Multiply the input value by 100 to convert it to a percentage\n",
    "  result <- x * 100\n",
    "\n",
    "# Convert the result to a character string and append the '%' symbol\n",
    "  result <- paste(result, \"%\", sep = \"\")\n",
    "\n",
    "  # Return the final result\n",
    "  return(result)\n",
    "}\n"
   ]
  },
  {
   "cell_type": "markdown",
   "metadata": {},
   "source": [
    "When you run the above code in your R session, it defines the add_percent function and loads it into the memory. \n",
    "R does not explicitly notify you that the function is loaded, but it is now available for use.\n",
    "\n",
    "Verify the Function is in Memory\n",
    "Use the `ls()` function to list all objects in the current R workspace, which includes your custom functions:"
   ]
  },
  {
   "cell_type": "code",
   "execution_count": 11,
   "metadata": {
    "vscode": {
     "languageId": "r"
    }
   },
   "outputs": [
    {
     "data": {
      "text/html": [
       "<style>\n",
       ".list-inline {list-style: none; margin:0; padding: 0}\n",
       ".list-inline>li {display: inline-block}\n",
       ".list-inline>li:not(:last-child)::after {content: \"\\00b7\"; padding: 0 .5ex}\n",
       "</style>\n",
       "<ol class=list-inline><li>'Percent_add'</li><li>'add_percent'</li><li>'new.vector'</li></ol>\n"
      ],
      "text/latex": [
       "\\begin{enumerate*}\n",
       "\\item 'Percent\\_add'\n",
       "\\item 'add\\_percent'\n",
       "\\item 'new.vector'\n",
       "\\end{enumerate*}\n"
      ],
      "text/markdown": [
       "1. 'Percent_add'\n",
       "2. 'add_percent'\n",
       "3. 'new.vector'\n",
       "\n",
       "\n"
      ],
      "text/plain": [
       "[1] \"Percent_add\" \"add_percent\" \"new.vector\" "
      ]
     },
     "metadata": {},
     "output_type": "display_data"
    }
   ],
   "source": [
    "ls()"
   ]
  },
  {
   "cell_type": "markdown",
   "metadata": {},
   "source": [
    "If add_percent is listed, it confirms that your function is loaded and available for use. You can now use the add_percent function to convert numeric values to percentages. For example:"
   ]
  },
  {
   "cell_type": "code",
   "execution_count": 12,
   "metadata": {
    "vscode": {
     "languageId": "r"
    }
   },
   "outputs": [
    {
     "name": "stdout",
     "output_type": "stream",
     "text": [
      "[1] \"25%\"\n"
     ]
    }
   ],
   "source": [
    "# Example usage of add_percent function\n",
    "value <- 0.25\n",
    "percentage <- add_percent(value)\n",
    "print(percentage)  # Output: \"25%\"\n"
   ]
  },
  {
   "cell_type": "markdown",
   "metadata": {},
   "source": [
    "#### 2.0 Reducing the Number of Lines in R\n",
    "___"
   ]
  },
  {
   "cell_type": "markdown",
   "metadata": {},
   "source": [
    "it is possible to reduce the number of lines in R, and there two ways to do it:\n",
    "\n",
    "1. Returning values by default:  \n",
    "\n",
    "In R, the last line of a function is automatically returned. This means that you can omit the `return` statement if the last line of the function is the output you want to return. "
   ]
  },
  {
   "cell_type": "code",
   "execution_count": 10,
   "metadata": {
    "vscode": {
     "languageId": "r"
    }
   },
   "outputs": [],
   "source": [
    "add_percent <- function(x) {\n",
    "# Multiply the input value by 100 to convert it to a percentage\n",
    "  result <- x * 100\n",
    "\n",
    "# Convert the result to a character string and append the '%' symbol\n",
    "  result <- paste(result, \"%\", sep = \"\")\n",
    "}\n",
    "\n",
    "# calling the function\n",
    "add_percent(0.25)"
   ]
  },
  {
   "cell_type": "markdown",
   "metadata": {},
   "source": [
    "You need return if you want to exit the function before the end of the code in the body."
   ]
  },
  {
   "cell_type": "markdown",
   "metadata": {},
   "source": [
    "2. Dropping the `{   }` braces:  \n",
    "\n",
    "if the function body contains only one line of code, you can omit the braces `{}`. This can help reduce the number of lines in your code. This is known as the one-liner function.\n"
   ]
  },
  {
   "cell_type": "code",
   "execution_count": 3,
   "metadata": {
    "vscode": {
     "languageId": "r"
    }
   },
   "outputs": [],
   "source": [
    "# One-liner function to square a number\n",
    "square <- function(x) x^2"
   ]
  },
  {
   "cell_type": "markdown",
   "metadata": {},
   "source": [
    "#### 3.0 R Environment and Scope\n",
    "___"
   ]
  },
  {
   "cell_type": "markdown",
   "metadata": {},
   "source": [
    "In R, an environment is a data structure that holds a collection of paired values (objects) and their corresponding names (symbols). Environments are a fundamental concept in R's memory management and scoping rules. They are used to manage the visibility and lifetime of variables and functions, enabling R to organize and manage the workspace efficiently.\n",
    "\n",
    "Environment can be thought of as a collection of objects (functions, variables etc.). An environment is created when we first fire up the R interpreter. Any variable we define, is now in this environment.\n",
    "\n",
    "The top level environment available to us at the R command prompt is the global environment called `R_GlobalEnv`. Global environment can be referred to as .`GlobalEnv` in R codes as well.\n",
    "\n",
    "We can use the `ls()` function to show what variables and functions are defined in the current environment. Moreover, we can use the `environment()` function to get the current environment.\n",
    "\n"
   ]
  },
  {
   "cell_type": "markdown",
   "metadata": {},
   "source": [
    "##### The ls() Function\n",
    "---\n",
    "The `ls()` function is used to list the objects in the current environment. In R, the `ls()` function is used to list the objects in the current environment. It helps users to see all the variables, functions, and data frames that have been created and are currently available in the workspace."
   ]
  },
  {
   "cell_type": "code",
   "execution_count": 16,
   "metadata": {
    "vscode": {
     "languageId": "r"
    }
   },
   "outputs": [
    {
     "name": "stdout",
     "output_type": "stream",
     "text": [
      "[1] \"a\"            \"b\"            \"c\"            \"check\"        \"multi_return\"\n",
      "[6] \"x1\"           \"x2\"           \"y1\"          \n"
     ]
    }
   ],
   "source": [
    "# Create some objects\n",
    "a <- 10\n",
    "b <- \"Hello\"\n",
    "c <- c(1, 2, 3)\n",
    "\n",
    "# List objects in the current environment\n",
    "print(ls())"
   ]
  },
  {
   "cell_type": "markdown",
   "metadata": {},
   "source": [
    "**Additional Options for `ls()`**\n",
    "\n",
    "We can use the `ls(pattern = \"pattern\")`: Lists objects with names matching a given pattern."
   ]
  },
  {
   "cell_type": "code",
   "execution_count": 7,
   "metadata": {
    "vscode": {
     "languageId": "r"
    }
   },
   "outputs": [
    {
     "data": {
      "text/html": [
       "'a'"
      ],
      "text/latex": [
       "'a'"
      ],
      "text/markdown": [
       "'a'"
      ],
      "text/plain": [
       "[1] \"a\""
      ]
     },
     "metadata": {},
     "output_type": "display_data"
    }
   ],
   "source": [
    "ls(pattern = \"a\")  # Lists all objects with 'a' in their name\n"
   ]
  },
  {
   "cell_type": "code",
   "execution_count": 10,
   "metadata": {
    "vscode": {
     "languageId": "r"
    }
   },
   "outputs": [
    {
     "data": {
      "text/html": [
       "<style>\n",
       ".list-inline {list-style: none; margin:0; padding: 0}\n",
       ".list-inline>li {display: inline-block}\n",
       ".list-inline>li:not(:last-child)::after {content: \"\\00b7\"; padding: 0 .5ex}\n",
       "</style>\n",
       "<ol class=list-inline><li>'x1'</li><li>'x2'</li></ol>\n"
      ],
      "text/latex": [
       "\\begin{enumerate*}\n",
       "\\item 'x1'\n",
       "\\item 'x2'\n",
       "\\end{enumerate*}\n"
      ],
      "text/markdown": [
       "1. 'x1'\n",
       "2. 'x2'\n",
       "\n",
       "\n"
      ],
      "text/plain": [
       "[1] \"x1\" \"x2\""
      ]
     },
     "metadata": {},
     "output_type": "display_data"
    }
   ],
   "source": [
    "x1 <- 5\n",
    "x2 <- 10\n",
    "y1 <- 15\n",
    "\n",
    "ls(pattern = \"x\")\n"
   ]
  },
  {
   "cell_type": "markdown",
   "metadata": {},
   "source": [
    "The `ls(all.names = TRUE):` Includes all objects, including those that are normally hidden (objects with names starting with a dot)."
   ]
  },
  {
   "cell_type": "code",
   "execution_count": 8,
   "metadata": {
    "vscode": {
     "languageId": "r"
    }
   },
   "outputs": [
    {
     "data": {
      "text/html": [
       "<style>\n",
       ".list-inline {list-style: none; margin:0; padding: 0}\n",
       ".list-inline>li {display: inline-block}\n",
       ".list-inline>li:not(:last-child)::after {content: \"\\00b7\"; padding: 0 .5ex}\n",
       "</style>\n",
       "<ol class=list-inline><li>'.pbd_env'</li><li>'a'</li><li>'b'</li><li>'c'</li><li>'check'</li><li>'multi_return'</li></ol>\n"
      ],
      "text/latex": [
       "\\begin{enumerate*}\n",
       "\\item '.pbd\\_env'\n",
       "\\item 'a'\n",
       "\\item 'b'\n",
       "\\item 'c'\n",
       "\\item 'check'\n",
       "\\item 'multi\\_return'\n",
       "\\end{enumerate*}\n"
      ],
      "text/markdown": [
       "1. '.pbd_env'\n",
       "2. 'a'\n",
       "3. 'b'\n",
       "4. 'c'\n",
       "5. 'check'\n",
       "6. 'multi_return'\n",
       "\n",
       "\n"
      ],
      "text/plain": [
       "[1] \".pbd_env\"     \"a\"            \"b\"            \"c\"            \"check\"       \n",
       "[6] \"multi_return\""
      ]
     },
     "metadata": {},
     "output_type": "display_data"
    }
   ],
   "source": [
    "ls(all.names = TRUE)\n"
   ]
  },
  {
   "cell_type": "code",
   "execution_count": 11,
   "metadata": {
    "vscode": {
     "languageId": "r"
    }
   },
   "outputs": [
    {
     "data": {
      "text/html": [
       "<style>\n",
       ".list-inline {list-style: none; margin:0; padding: 0}\n",
       ".list-inline>li {display: inline-block}\n",
       ".list-inline>li:not(:last-child)::after {content: \"\\00b7\"; padding: 0 .5ex}\n",
       "</style>\n",
       "<ol class=list-inline><li>'.hiddenVar'</li><li>'.pbd_env'</li><li>'a'</li><li>'b'</li><li>'c'</li><li>'check'</li><li>'multi_return'</li><li>'x1'</li><li>'x2'</li><li>'y1'</li></ol>\n"
      ],
      "text/latex": [
       "\\begin{enumerate*}\n",
       "\\item '.hiddenVar'\n",
       "\\item '.pbd\\_env'\n",
       "\\item 'a'\n",
       "\\item 'b'\n",
       "\\item 'c'\n",
       "\\item 'check'\n",
       "\\item 'multi\\_return'\n",
       "\\item 'x1'\n",
       "\\item 'x2'\n",
       "\\item 'y1'\n",
       "\\end{enumerate*}\n"
      ],
      "text/markdown": [
       "1. '.hiddenVar'\n",
       "2. '.pbd_env'\n",
       "3. 'a'\n",
       "4. 'b'\n",
       "5. 'c'\n",
       "6. 'check'\n",
       "7. 'multi_return'\n",
       "8. 'x1'\n",
       "9. 'x2'\n",
       "10. 'y1'\n",
       "\n",
       "\n"
      ],
      "text/plain": [
       " [1] \".hiddenVar\"   \".pbd_env\"     \"a\"            \"b\"            \"c\"           \n",
       " [6] \"check\"        \"multi_return\" \"x1\"           \"x2\"           \"y1\"          "
      ]
     },
     "metadata": {},
     "output_type": "display_data"
    }
   ],
   "source": [
    ".hiddenVar <- \"I'm hidden\"\n",
    "ls(all.names = TRUE)\n"
   ]
  },
  {
   "cell_type": "markdown",
   "metadata": {},
   "source": [
    "The `ls(name = \"environment_name\")`: Lists objects in a specific environment."
   ]
  },
  {
   "cell_type": "code",
   "execution_count": 9,
   "metadata": {
    "vscode": {
     "languageId": "r"
    }
   },
   "outputs": [
    {
     "data": {
      "text/html": [
       "<style>\n",
       ".list-inline {list-style: none; margin:0; padding: 0}\n",
       ".list-inline>li {display: inline-block}\n",
       ".list-inline>li:not(:last-child)::after {content: \"\\00b7\"; padding: 0 .5ex}\n",
       "</style>\n",
       "<ol class=list-inline><li>'AIC'</li><li>'ARMAacf'</li><li>'ARMAtoMA'</li><li>'BIC'</li><li>'Box.test'</li><li>'C'</li><li>'D'</li><li>'DF2formula'</li><li>'Gamma'</li><li>'HoltWinters'</li><li>'IQR'</li><li>'KalmanForecast'</li><li>'KalmanLike'</li><li>'KalmanRun'</li><li>'KalmanSmooth'</li><li>'NLSstAsymptotic'</li><li>'NLSstClosestX'</li><li>'NLSstLfAsymptote'</li><li>'NLSstRtAsymptote'</li><li>'PP.test'</li><li>'Pair'</li><li>'SSD'</li><li>'SSasymp'</li><li>'SSasympOff'</li><li>'SSasympOrig'</li><li>'SSbiexp'</li><li>'SSfol'</li><li>'SSfpl'</li><li>'SSgompertz'</li><li>'SSlogis'</li><li>'SSmicmen'</li><li>'SSweibull'</li><li>'StructTS'</li><li>'TukeyHSD'</li><li>'acf'</li><li>'acf2AR'</li><li>'add.scope'</li><li>'add1'</li><li>'addmargins'</li><li>'aggregate'</li><li>'aggregate.data.frame'</li><li>'aggregate.ts'</li><li>'alias'</li><li>'anova'</li><li>'ansari.test'</li><li>'aov'</li><li>'approx'</li><li>'approxfun'</li><li>'ar'</li><li>'ar.burg'</li><li>'ar.mle'</li><li>'ar.ols'</li><li>'ar.yw'</li><li>'arima'</li><li>'arima.sim'</li><li>'arima0'</li><li>'arima0.diag'</li><li>'as.dendrogram'</li><li>'as.dist'</li><li>'as.formula'</li><li>'as.hclust'</li><li>'as.stepfun'</li><li>'as.ts'</li><li>'asOneSidedFormula'</li><li>'ave'</li><li>'bandwidth.kernel'</li><li>'bartlett.test'</li><li>'binom.test'</li><li>'binomial'</li><li>'biplot'</li><li>'bw.SJ'</li><li>'bw.bcv'</li><li>'bw.nrd'</li><li>'bw.nrd0'</li><li>'bw.ucv'</li><li>'cancor'</li><li>'case.names'</li><li>'ccf'</li><li>'chisq.test'</li><li>'cmdscale'</li><li>'coef'</li><li>'coefficients'</li><li>'complete.cases'</li><li>'confint'</li><li>'confint.default'</li><li>'confint.lm'</li><li>'constrOptim'</li><li>'contr.SAS'</li><li>'contr.helmert'</li><li>'contr.poly'</li><li>'contr.sum'</li><li>'contr.treatment'</li><li>'contrasts'</li><li>'contrasts&lt;-'</li><li>'convolve'</li><li>'cooks.distance'</li><li>'cophenetic'</li><li>'cor'</li><li>'cor.test'</li><li>'cov'</li><li>'cov.wt'</li><li>'cov2cor'</li><li>'covratio'</li><li>'cpgram'</li><li>'cutree'</li><li>'cycle'</li><li>'dbeta'</li><li>'dbinom'</li><li>'dcauchy'</li><li>'dchisq'</li><li>'decompose'</li><li>'delete.response'</li><li>'deltat'</li><li>'dendrapply'</li><li>'density'</li><li>'density.default'</li><li>'deriv'</li><li>'deriv3'</li><li>'deviance'</li><li>'dexp'</li><li>'df'</li><li>'df.kernel'</li><li>'df.residual'</li><li>'dfbeta'</li><li>'dfbetas'</li><li>'dffits'</li><li>'dgamma'</li><li>'dgeom'</li><li>'dhyper'</li><li>'diffinv'</li><li>'dist'</li><li>'dlnorm'</li><li>'dlogis'</li><li>'dmultinom'</li><li>'dnbinom'</li><li>'dnorm'</li><li>'dpois'</li><li>'drop.scope'</li><li>'drop.terms'</li><li>'drop1'</li><li>'dsignrank'</li><li>'dt'</li><li>'dummy.coef'</li><li>'dummy.coef.lm'</li><li>'dunif'</li><li>'dweibull'</li><li>'dwilcox'</li><li>'ecdf'</li><li>'eff.aovlist'</li><li>'effects'</li><li>'embed'</li><li>'end'</li><li>'estVar'</li><li>'expand.model.frame'</li><li>'extractAIC'</li><li>'factanal'</li><li>'factor.scope'</li><li>'family'</li><li>'fft'</li><li>'filter'</li><li>'fisher.test'</li><li>'fitted'</li><li>'fitted.values'</li><li>'fivenum'</li><li>'fligner.test'</li><li>'formula'</li><li>'frequency'</li><li>'friedman.test'</li><li>'ftable'</li><li>'gaussian'</li><li>'getCall'</li><li>'getInitial'</li><li>'get_all_vars'</li><li>'glm'</li><li>'glm.control'</li><li>'glm.fit'</li><li>'hasTsp'</li><li>'hat'</li><li>'hatvalues'</li><li>'hclust'</li><li>'heatmap'</li><li>'influence'</li><li>'influence.measures'</li><li>'integrate'</li><li>'interaction.plot'</li><li>'inverse.gaussian'</li><li>'is.empty.model'</li><li>'is.leaf'</li><li>'is.mts'</li><li>'is.stepfun'</li><li>'is.ts'</li><li>'is.tskernel'</li><li>'isoreg'</li><li>'kernapply'</li><li>'kernel'</li><li>'kmeans'</li><li>'knots'</li><li>'kruskal.test'</li><li>'ks.test'</li><li>'ksmooth'</li><li>...</li><li>'nlminb'</li><li>'nls'</li><li>'nls.control'</li><li>'nobs'</li><li>'numericDeriv'</li><li>'offset'</li><li>'oneway.test'</li><li>'optim'</li><li>'optimHess'</li><li>'optimise'</li><li>'optimize'</li><li>'order.dendrogram'</li><li>'p.adjust'</li><li>'p.adjust.methods'</li><li>'pacf'</li><li>'pairwise.prop.test'</li><li>'pairwise.t.test'</li><li>'pairwise.table'</li><li>'pairwise.wilcox.test'</li><li>'pbeta'</li><li>'pbinom'</li><li>'pbirthday'</li><li>'pcauchy'</li><li>'pchisq'</li><li>'pexp'</li><li>'pf'</li><li>'pgamma'</li><li>'pgeom'</li><li>'phyper'</li><li>'plclust'</li><li>'plnorm'</li><li>'plogis'</li><li>'plot.ecdf'</li><li>'plot.spec.coherency'</li><li>'plot.spec.phase'</li><li>'plot.stepfun'</li><li>'plot.ts'</li><li>'pnbinom'</li><li>'pnorm'</li><li>'poisson'</li><li>'poisson.test'</li><li>'poly'</li><li>'polym'</li><li>'power'</li><li>'power.anova.test'</li><li>'power.prop.test'</li><li>'power.t.test'</li><li>'ppoints'</li><li>'ppois'</li><li>'ppr'</li><li>'prcomp'</li><li>'predict'</li><li>'predict.glm'</li><li>'predict.lm'</li><li>'preplot'</li><li>'princomp'</li><li>'printCoefmat'</li><li>'profile'</li><li>'proj'</li><li>'promax'</li><li>'prop.test'</li><li>'prop.trend.test'</li><li>'psignrank'</li><li>'psmirnov'</li><li>'pt'</li><li>'ptukey'</li><li>'punif'</li><li>'pweibull'</li><li>'pwilcox'</li><li>'qbeta'</li><li>'qbinom'</li><li>'qbirthday'</li><li>'qcauchy'</li><li>'qchisq'</li><li>'qexp'</li><li>'qf'</li><li>'qgamma'</li><li>'qgeom'</li><li>'qhyper'</li><li>'qlnorm'</li><li>'qlogis'</li><li>'qnbinom'</li><li>'qnorm'</li><li>'qpois'</li><li>'qqline'</li><li>'qqnorm'</li><li>'qqplot'</li><li>'qsignrank'</li><li>'qsmirnov'</li><li>'qt'</li><li>'qtukey'</li><li>'quade.test'</li><li>'quantile'</li><li>'quasi'</li><li>'quasibinomial'</li><li>'quasipoisson'</li><li>'qunif'</li><li>'qweibull'</li><li>'qwilcox'</li><li>'r2dtable'</li><li>'rWishart'</li><li>'rbeta'</li><li>'rbinom'</li><li>'rcauchy'</li><li>'rchisq'</li><li>'read.ftable'</li><li>'rect.hclust'</li><li>'reformulate'</li><li>'relevel'</li><li>'reorder'</li><li>'replications'</li><li>'reshape'</li><li>'resid'</li><li>'residuals'</li><li>'residuals.glm'</li><li>'residuals.lm'</li><li>'rexp'</li><li>'rf'</li><li>'rgamma'</li><li>'rgeom'</li><li>'rhyper'</li><li>'rlnorm'</li><li>'rlogis'</li><li>'rmultinom'</li><li>'rnbinom'</li><li>'rnorm'</li><li>'rpois'</li><li>'rsignrank'</li><li>'rsmirnov'</li><li>'rstandard'</li><li>'rstudent'</li><li>'rt'</li><li>'runif'</li><li>'runmed'</li><li>'rweibull'</li><li>'rwilcox'</li><li>'scatter.smooth'</li><li>'screeplot'</li><li>'sd'</li><li>'se.contrast'</li><li>'selfStart'</li><li>'setNames'</li><li>'shapiro.test'</li><li>'sigma'</li><li>'simulate'</li><li>'smooth'</li><li>'smooth.spline'</li><li>'smoothEnds'</li><li>'sortedXyData'</li><li>'spec.ar'</li><li>'spec.pgram'</li><li>'spec.taper'</li><li>'spectrum'</li><li>'spline'</li><li>'splinefun'</li><li>'splinefunH'</li><li>'start'</li><li>'stat.anova'</li><li>'step'</li><li>'stepfun'</li><li>'stl'</li><li>'summary.aov'</li><li>'summary.glm'</li><li>'summary.lm'</li><li>'summary.manova'</li><li>'summary.stepfun'</li><li>'supsmu'</li><li>'symnum'</li><li>'t.test'</li><li>'termplot'</li><li>'terms'</li><li>'terms.formula'</li><li>'time'</li><li>'toeplitz'</li><li>'toeplitz2'</li><li>'ts'</li><li>'ts.intersect'</li><li>'ts.plot'</li><li>'ts.union'</li><li>'tsSmooth'</li><li>'tsdiag'</li><li>'tsp'</li><li>'tsp&lt;-'</li><li>'uniroot'</li><li>'update'</li><li>'update.default'</li><li>'update.formula'</li><li>'var'</li><li>'var.test'</li><li>'variable.names'</li><li>'varimax'</li><li>'vcov'</li><li>'weighted.mean'</li><li>'weighted.residuals'</li><li>'weights'</li><li>'wilcox.test'</li><li>'window'</li><li>'window&lt;-'</li><li>'write.ftable'</li><li>'xtabs'</li></ol>\n"
      ],
      "text/latex": [
       "\\begin{enumerate*}\n",
       "\\item 'AIC'\n",
       "\\item 'ARMAacf'\n",
       "\\item 'ARMAtoMA'\n",
       "\\item 'BIC'\n",
       "\\item 'Box.test'\n",
       "\\item 'C'\n",
       "\\item 'D'\n",
       "\\item 'DF2formula'\n",
       "\\item 'Gamma'\n",
       "\\item 'HoltWinters'\n",
       "\\item 'IQR'\n",
       "\\item 'KalmanForecast'\n",
       "\\item 'KalmanLike'\n",
       "\\item 'KalmanRun'\n",
       "\\item 'KalmanSmooth'\n",
       "\\item 'NLSstAsymptotic'\n",
       "\\item 'NLSstClosestX'\n",
       "\\item 'NLSstLfAsymptote'\n",
       "\\item 'NLSstRtAsymptote'\n",
       "\\item 'PP.test'\n",
       "\\item 'Pair'\n",
       "\\item 'SSD'\n",
       "\\item 'SSasymp'\n",
       "\\item 'SSasympOff'\n",
       "\\item 'SSasympOrig'\n",
       "\\item 'SSbiexp'\n",
       "\\item 'SSfol'\n",
       "\\item 'SSfpl'\n",
       "\\item 'SSgompertz'\n",
       "\\item 'SSlogis'\n",
       "\\item 'SSmicmen'\n",
       "\\item 'SSweibull'\n",
       "\\item 'StructTS'\n",
       "\\item 'TukeyHSD'\n",
       "\\item 'acf'\n",
       "\\item 'acf2AR'\n",
       "\\item 'add.scope'\n",
       "\\item 'add1'\n",
       "\\item 'addmargins'\n",
       "\\item 'aggregate'\n",
       "\\item 'aggregate.data.frame'\n",
       "\\item 'aggregate.ts'\n",
       "\\item 'alias'\n",
       "\\item 'anova'\n",
       "\\item 'ansari.test'\n",
       "\\item 'aov'\n",
       "\\item 'approx'\n",
       "\\item 'approxfun'\n",
       "\\item 'ar'\n",
       "\\item 'ar.burg'\n",
       "\\item 'ar.mle'\n",
       "\\item 'ar.ols'\n",
       "\\item 'ar.yw'\n",
       "\\item 'arima'\n",
       "\\item 'arima.sim'\n",
       "\\item 'arima0'\n",
       "\\item 'arima0.diag'\n",
       "\\item 'as.dendrogram'\n",
       "\\item 'as.dist'\n",
       "\\item 'as.formula'\n",
       "\\item 'as.hclust'\n",
       "\\item 'as.stepfun'\n",
       "\\item 'as.ts'\n",
       "\\item 'asOneSidedFormula'\n",
       "\\item 'ave'\n",
       "\\item 'bandwidth.kernel'\n",
       "\\item 'bartlett.test'\n",
       "\\item 'binom.test'\n",
       "\\item 'binomial'\n",
       "\\item 'biplot'\n",
       "\\item 'bw.SJ'\n",
       "\\item 'bw.bcv'\n",
       "\\item 'bw.nrd'\n",
       "\\item 'bw.nrd0'\n",
       "\\item 'bw.ucv'\n",
       "\\item 'cancor'\n",
       "\\item 'case.names'\n",
       "\\item 'ccf'\n",
       "\\item 'chisq.test'\n",
       "\\item 'cmdscale'\n",
       "\\item 'coef'\n",
       "\\item 'coefficients'\n",
       "\\item 'complete.cases'\n",
       "\\item 'confint'\n",
       "\\item 'confint.default'\n",
       "\\item 'confint.lm'\n",
       "\\item 'constrOptim'\n",
       "\\item 'contr.SAS'\n",
       "\\item 'contr.helmert'\n",
       "\\item 'contr.poly'\n",
       "\\item 'contr.sum'\n",
       "\\item 'contr.treatment'\n",
       "\\item 'contrasts'\n",
       "\\item 'contrasts<-'\n",
       "\\item 'convolve'\n",
       "\\item 'cooks.distance'\n",
       "\\item 'cophenetic'\n",
       "\\item 'cor'\n",
       "\\item 'cor.test'\n",
       "\\item 'cov'\n",
       "\\item 'cov.wt'\n",
       "\\item 'cov2cor'\n",
       "\\item 'covratio'\n",
       "\\item 'cpgram'\n",
       "\\item 'cutree'\n",
       "\\item 'cycle'\n",
       "\\item 'dbeta'\n",
       "\\item 'dbinom'\n",
       "\\item 'dcauchy'\n",
       "\\item 'dchisq'\n",
       "\\item 'decompose'\n",
       "\\item 'delete.response'\n",
       "\\item 'deltat'\n",
       "\\item 'dendrapply'\n",
       "\\item 'density'\n",
       "\\item 'density.default'\n",
       "\\item 'deriv'\n",
       "\\item 'deriv3'\n",
       "\\item 'deviance'\n",
       "\\item 'dexp'\n",
       "\\item 'df'\n",
       "\\item 'df.kernel'\n",
       "\\item 'df.residual'\n",
       "\\item 'dfbeta'\n",
       "\\item 'dfbetas'\n",
       "\\item 'dffits'\n",
       "\\item 'dgamma'\n",
       "\\item 'dgeom'\n",
       "\\item 'dhyper'\n",
       "\\item 'diffinv'\n",
       "\\item 'dist'\n",
       "\\item 'dlnorm'\n",
       "\\item 'dlogis'\n",
       "\\item 'dmultinom'\n",
       "\\item 'dnbinom'\n",
       "\\item 'dnorm'\n",
       "\\item 'dpois'\n",
       "\\item 'drop.scope'\n",
       "\\item 'drop.terms'\n",
       "\\item 'drop1'\n",
       "\\item 'dsignrank'\n",
       "\\item 'dt'\n",
       "\\item 'dummy.coef'\n",
       "\\item 'dummy.coef.lm'\n",
       "\\item 'dunif'\n",
       "\\item 'dweibull'\n",
       "\\item 'dwilcox'\n",
       "\\item 'ecdf'\n",
       "\\item 'eff.aovlist'\n",
       "\\item 'effects'\n",
       "\\item 'embed'\n",
       "\\item 'end'\n",
       "\\item 'estVar'\n",
       "\\item 'expand.model.frame'\n",
       "\\item 'extractAIC'\n",
       "\\item 'factanal'\n",
       "\\item 'factor.scope'\n",
       "\\item 'family'\n",
       "\\item 'fft'\n",
       "\\item 'filter'\n",
       "\\item 'fisher.test'\n",
       "\\item 'fitted'\n",
       "\\item 'fitted.values'\n",
       "\\item 'fivenum'\n",
       "\\item 'fligner.test'\n",
       "\\item 'formula'\n",
       "\\item 'frequency'\n",
       "\\item 'friedman.test'\n",
       "\\item 'ftable'\n",
       "\\item 'gaussian'\n",
       "\\item 'getCall'\n",
       "\\item 'getInitial'\n",
       "\\item 'get\\_all\\_vars'\n",
       "\\item 'glm'\n",
       "\\item 'glm.control'\n",
       "\\item 'glm.fit'\n",
       "\\item 'hasTsp'\n",
       "\\item 'hat'\n",
       "\\item 'hatvalues'\n",
       "\\item 'hclust'\n",
       "\\item 'heatmap'\n",
       "\\item 'influence'\n",
       "\\item 'influence.measures'\n",
       "\\item 'integrate'\n",
       "\\item 'interaction.plot'\n",
       "\\item 'inverse.gaussian'\n",
       "\\item 'is.empty.model'\n",
       "\\item 'is.leaf'\n",
       "\\item 'is.mts'\n",
       "\\item 'is.stepfun'\n",
       "\\item 'is.ts'\n",
       "\\item 'is.tskernel'\n",
       "\\item 'isoreg'\n",
       "\\item 'kernapply'\n",
       "\\item 'kernel'\n",
       "\\item 'kmeans'\n",
       "\\item 'knots'\n",
       "\\item 'kruskal.test'\n",
       "\\item 'ks.test'\n",
       "\\item 'ksmooth'\n",
       "\\item ...\n",
       "\\item 'nlminb'\n",
       "\\item 'nls'\n",
       "\\item 'nls.control'\n",
       "\\item 'nobs'\n",
       "\\item 'numericDeriv'\n",
       "\\item 'offset'\n",
       "\\item 'oneway.test'\n",
       "\\item 'optim'\n",
       "\\item 'optimHess'\n",
       "\\item 'optimise'\n",
       "\\item 'optimize'\n",
       "\\item 'order.dendrogram'\n",
       "\\item 'p.adjust'\n",
       "\\item 'p.adjust.methods'\n",
       "\\item 'pacf'\n",
       "\\item 'pairwise.prop.test'\n",
       "\\item 'pairwise.t.test'\n",
       "\\item 'pairwise.table'\n",
       "\\item 'pairwise.wilcox.test'\n",
       "\\item 'pbeta'\n",
       "\\item 'pbinom'\n",
       "\\item 'pbirthday'\n",
       "\\item 'pcauchy'\n",
       "\\item 'pchisq'\n",
       "\\item 'pexp'\n",
       "\\item 'pf'\n",
       "\\item 'pgamma'\n",
       "\\item 'pgeom'\n",
       "\\item 'phyper'\n",
       "\\item 'plclust'\n",
       "\\item 'plnorm'\n",
       "\\item 'plogis'\n",
       "\\item 'plot.ecdf'\n",
       "\\item 'plot.spec.coherency'\n",
       "\\item 'plot.spec.phase'\n",
       "\\item 'plot.stepfun'\n",
       "\\item 'plot.ts'\n",
       "\\item 'pnbinom'\n",
       "\\item 'pnorm'\n",
       "\\item 'poisson'\n",
       "\\item 'poisson.test'\n",
       "\\item 'poly'\n",
       "\\item 'polym'\n",
       "\\item 'power'\n",
       "\\item 'power.anova.test'\n",
       "\\item 'power.prop.test'\n",
       "\\item 'power.t.test'\n",
       "\\item 'ppoints'\n",
       "\\item 'ppois'\n",
       "\\item 'ppr'\n",
       "\\item 'prcomp'\n",
       "\\item 'predict'\n",
       "\\item 'predict.glm'\n",
       "\\item 'predict.lm'\n",
       "\\item 'preplot'\n",
       "\\item 'princomp'\n",
       "\\item 'printCoefmat'\n",
       "\\item 'profile'\n",
       "\\item 'proj'\n",
       "\\item 'promax'\n",
       "\\item 'prop.test'\n",
       "\\item 'prop.trend.test'\n",
       "\\item 'psignrank'\n",
       "\\item 'psmirnov'\n",
       "\\item 'pt'\n",
       "\\item 'ptukey'\n",
       "\\item 'punif'\n",
       "\\item 'pweibull'\n",
       "\\item 'pwilcox'\n",
       "\\item 'qbeta'\n",
       "\\item 'qbinom'\n",
       "\\item 'qbirthday'\n",
       "\\item 'qcauchy'\n",
       "\\item 'qchisq'\n",
       "\\item 'qexp'\n",
       "\\item 'qf'\n",
       "\\item 'qgamma'\n",
       "\\item 'qgeom'\n",
       "\\item 'qhyper'\n",
       "\\item 'qlnorm'\n",
       "\\item 'qlogis'\n",
       "\\item 'qnbinom'\n",
       "\\item 'qnorm'\n",
       "\\item 'qpois'\n",
       "\\item 'qqline'\n",
       "\\item 'qqnorm'\n",
       "\\item 'qqplot'\n",
       "\\item 'qsignrank'\n",
       "\\item 'qsmirnov'\n",
       "\\item 'qt'\n",
       "\\item 'qtukey'\n",
       "\\item 'quade.test'\n",
       "\\item 'quantile'\n",
       "\\item 'quasi'\n",
       "\\item 'quasibinomial'\n",
       "\\item 'quasipoisson'\n",
       "\\item 'qunif'\n",
       "\\item 'qweibull'\n",
       "\\item 'qwilcox'\n",
       "\\item 'r2dtable'\n",
       "\\item 'rWishart'\n",
       "\\item 'rbeta'\n",
       "\\item 'rbinom'\n",
       "\\item 'rcauchy'\n",
       "\\item 'rchisq'\n",
       "\\item 'read.ftable'\n",
       "\\item 'rect.hclust'\n",
       "\\item 'reformulate'\n",
       "\\item 'relevel'\n",
       "\\item 'reorder'\n",
       "\\item 'replications'\n",
       "\\item 'reshape'\n",
       "\\item 'resid'\n",
       "\\item 'residuals'\n",
       "\\item 'residuals.glm'\n",
       "\\item 'residuals.lm'\n",
       "\\item 'rexp'\n",
       "\\item 'rf'\n",
       "\\item 'rgamma'\n",
       "\\item 'rgeom'\n",
       "\\item 'rhyper'\n",
       "\\item 'rlnorm'\n",
       "\\item 'rlogis'\n",
       "\\item 'rmultinom'\n",
       "\\item 'rnbinom'\n",
       "\\item 'rnorm'\n",
       "\\item 'rpois'\n",
       "\\item 'rsignrank'\n",
       "\\item 'rsmirnov'\n",
       "\\item 'rstandard'\n",
       "\\item 'rstudent'\n",
       "\\item 'rt'\n",
       "\\item 'runif'\n",
       "\\item 'runmed'\n",
       "\\item 'rweibull'\n",
       "\\item 'rwilcox'\n",
       "\\item 'scatter.smooth'\n",
       "\\item 'screeplot'\n",
       "\\item 'sd'\n",
       "\\item 'se.contrast'\n",
       "\\item 'selfStart'\n",
       "\\item 'setNames'\n",
       "\\item 'shapiro.test'\n",
       "\\item 'sigma'\n",
       "\\item 'simulate'\n",
       "\\item 'smooth'\n",
       "\\item 'smooth.spline'\n",
       "\\item 'smoothEnds'\n",
       "\\item 'sortedXyData'\n",
       "\\item 'spec.ar'\n",
       "\\item 'spec.pgram'\n",
       "\\item 'spec.taper'\n",
       "\\item 'spectrum'\n",
       "\\item 'spline'\n",
       "\\item 'splinefun'\n",
       "\\item 'splinefunH'\n",
       "\\item 'start'\n",
       "\\item 'stat.anova'\n",
       "\\item 'step'\n",
       "\\item 'stepfun'\n",
       "\\item 'stl'\n",
       "\\item 'summary.aov'\n",
       "\\item 'summary.glm'\n",
       "\\item 'summary.lm'\n",
       "\\item 'summary.manova'\n",
       "\\item 'summary.stepfun'\n",
       "\\item 'supsmu'\n",
       "\\item 'symnum'\n",
       "\\item 't.test'\n",
       "\\item 'termplot'\n",
       "\\item 'terms'\n",
       "\\item 'terms.formula'\n",
       "\\item 'time'\n",
       "\\item 'toeplitz'\n",
       "\\item 'toeplitz2'\n",
       "\\item 'ts'\n",
       "\\item 'ts.intersect'\n",
       "\\item 'ts.plot'\n",
       "\\item 'ts.union'\n",
       "\\item 'tsSmooth'\n",
       "\\item 'tsdiag'\n",
       "\\item 'tsp'\n",
       "\\item 'tsp<-'\n",
       "\\item 'uniroot'\n",
       "\\item 'update'\n",
       "\\item 'update.default'\n",
       "\\item 'update.formula'\n",
       "\\item 'var'\n",
       "\\item 'var.test'\n",
       "\\item 'variable.names'\n",
       "\\item 'varimax'\n",
       "\\item 'vcov'\n",
       "\\item 'weighted.mean'\n",
       "\\item 'weighted.residuals'\n",
       "\\item 'weights'\n",
       "\\item 'wilcox.test'\n",
       "\\item 'window'\n",
       "\\item 'window<-'\n",
       "\\item 'write.ftable'\n",
       "\\item 'xtabs'\n",
       "\\end{enumerate*}\n"
      ],
      "text/markdown": [
       "1. 'AIC'\n",
       "2. 'ARMAacf'\n",
       "3. 'ARMAtoMA'\n",
       "4. 'BIC'\n",
       "5. 'Box.test'\n",
       "6. 'C'\n",
       "7. 'D'\n",
       "8. 'DF2formula'\n",
       "9. 'Gamma'\n",
       "10. 'HoltWinters'\n",
       "11. 'IQR'\n",
       "12. 'KalmanForecast'\n",
       "13. 'KalmanLike'\n",
       "14. 'KalmanRun'\n",
       "15. 'KalmanSmooth'\n",
       "16. 'NLSstAsymptotic'\n",
       "17. 'NLSstClosestX'\n",
       "18. 'NLSstLfAsymptote'\n",
       "19. 'NLSstRtAsymptote'\n",
       "20. 'PP.test'\n",
       "21. 'Pair'\n",
       "22. 'SSD'\n",
       "23. 'SSasymp'\n",
       "24. 'SSasympOff'\n",
       "25. 'SSasympOrig'\n",
       "26. 'SSbiexp'\n",
       "27. 'SSfol'\n",
       "28. 'SSfpl'\n",
       "29. 'SSgompertz'\n",
       "30. 'SSlogis'\n",
       "31. 'SSmicmen'\n",
       "32. 'SSweibull'\n",
       "33. 'StructTS'\n",
       "34. 'TukeyHSD'\n",
       "35. 'acf'\n",
       "36. 'acf2AR'\n",
       "37. 'add.scope'\n",
       "38. 'add1'\n",
       "39. 'addmargins'\n",
       "40. 'aggregate'\n",
       "41. 'aggregate.data.frame'\n",
       "42. 'aggregate.ts'\n",
       "43. 'alias'\n",
       "44. 'anova'\n",
       "45. 'ansari.test'\n",
       "46. 'aov'\n",
       "47. 'approx'\n",
       "48. 'approxfun'\n",
       "49. 'ar'\n",
       "50. 'ar.burg'\n",
       "51. 'ar.mle'\n",
       "52. 'ar.ols'\n",
       "53. 'ar.yw'\n",
       "54. 'arima'\n",
       "55. 'arima.sim'\n",
       "56. 'arima0'\n",
       "57. 'arima0.diag'\n",
       "58. 'as.dendrogram'\n",
       "59. 'as.dist'\n",
       "60. 'as.formula'\n",
       "61. 'as.hclust'\n",
       "62. 'as.stepfun'\n",
       "63. 'as.ts'\n",
       "64. 'asOneSidedFormula'\n",
       "65. 'ave'\n",
       "66. 'bandwidth.kernel'\n",
       "67. 'bartlett.test'\n",
       "68. 'binom.test'\n",
       "69. 'binomial'\n",
       "70. 'biplot'\n",
       "71. 'bw.SJ'\n",
       "72. 'bw.bcv'\n",
       "73. 'bw.nrd'\n",
       "74. 'bw.nrd0'\n",
       "75. 'bw.ucv'\n",
       "76. 'cancor'\n",
       "77. 'case.names'\n",
       "78. 'ccf'\n",
       "79. 'chisq.test'\n",
       "80. 'cmdscale'\n",
       "81. 'coef'\n",
       "82. 'coefficients'\n",
       "83. 'complete.cases'\n",
       "84. 'confint'\n",
       "85. 'confint.default'\n",
       "86. 'confint.lm'\n",
       "87. 'constrOptim'\n",
       "88. 'contr.SAS'\n",
       "89. 'contr.helmert'\n",
       "90. 'contr.poly'\n",
       "91. 'contr.sum'\n",
       "92. 'contr.treatment'\n",
       "93. 'contrasts'\n",
       "94. 'contrasts&lt;-'\n",
       "95. 'convolve'\n",
       "96. 'cooks.distance'\n",
       "97. 'cophenetic'\n",
       "98. 'cor'\n",
       "99. 'cor.test'\n",
       "100. 'cov'\n",
       "101. 'cov.wt'\n",
       "102. 'cov2cor'\n",
       "103. 'covratio'\n",
       "104. 'cpgram'\n",
       "105. 'cutree'\n",
       "106. 'cycle'\n",
       "107. 'dbeta'\n",
       "108. 'dbinom'\n",
       "109. 'dcauchy'\n",
       "110. 'dchisq'\n",
       "111. 'decompose'\n",
       "112. 'delete.response'\n",
       "113. 'deltat'\n",
       "114. 'dendrapply'\n",
       "115. 'density'\n",
       "116. 'density.default'\n",
       "117. 'deriv'\n",
       "118. 'deriv3'\n",
       "119. 'deviance'\n",
       "120. 'dexp'\n",
       "121. 'df'\n",
       "122. 'df.kernel'\n",
       "123. 'df.residual'\n",
       "124. 'dfbeta'\n",
       "125. 'dfbetas'\n",
       "126. 'dffits'\n",
       "127. 'dgamma'\n",
       "128. 'dgeom'\n",
       "129. 'dhyper'\n",
       "130. 'diffinv'\n",
       "131. 'dist'\n",
       "132. 'dlnorm'\n",
       "133. 'dlogis'\n",
       "134. 'dmultinom'\n",
       "135. 'dnbinom'\n",
       "136. 'dnorm'\n",
       "137. 'dpois'\n",
       "138. 'drop.scope'\n",
       "139. 'drop.terms'\n",
       "140. 'drop1'\n",
       "141. 'dsignrank'\n",
       "142. 'dt'\n",
       "143. 'dummy.coef'\n",
       "144. 'dummy.coef.lm'\n",
       "145. 'dunif'\n",
       "146. 'dweibull'\n",
       "147. 'dwilcox'\n",
       "148. 'ecdf'\n",
       "149. 'eff.aovlist'\n",
       "150. 'effects'\n",
       "151. 'embed'\n",
       "152. 'end'\n",
       "153. 'estVar'\n",
       "154. 'expand.model.frame'\n",
       "155. 'extractAIC'\n",
       "156. 'factanal'\n",
       "157. 'factor.scope'\n",
       "158. 'family'\n",
       "159. 'fft'\n",
       "160. 'filter'\n",
       "161. 'fisher.test'\n",
       "162. 'fitted'\n",
       "163. 'fitted.values'\n",
       "164. 'fivenum'\n",
       "165. 'fligner.test'\n",
       "166. 'formula'\n",
       "167. 'frequency'\n",
       "168. 'friedman.test'\n",
       "169. 'ftable'\n",
       "170. 'gaussian'\n",
       "171. 'getCall'\n",
       "172. 'getInitial'\n",
       "173. 'get_all_vars'\n",
       "174. 'glm'\n",
       "175. 'glm.control'\n",
       "176. 'glm.fit'\n",
       "177. 'hasTsp'\n",
       "178. 'hat'\n",
       "179. 'hatvalues'\n",
       "180. 'hclust'\n",
       "181. 'heatmap'\n",
       "182. 'influence'\n",
       "183. 'influence.measures'\n",
       "184. 'integrate'\n",
       "185. 'interaction.plot'\n",
       "186. 'inverse.gaussian'\n",
       "187. 'is.empty.model'\n",
       "188. 'is.leaf'\n",
       "189. 'is.mts'\n",
       "190. 'is.stepfun'\n",
       "191. 'is.ts'\n",
       "192. 'is.tskernel'\n",
       "193. 'isoreg'\n",
       "194. 'kernapply'\n",
       "195. 'kernel'\n",
       "196. 'kmeans'\n",
       "197. 'knots'\n",
       "198. 'kruskal.test'\n",
       "199. 'ks.test'\n",
       "200. 'ksmooth'\n",
       "201. ...\n",
       "202. 'nlminb'\n",
       "203. 'nls'\n",
       "204. 'nls.control'\n",
       "205. 'nobs'\n",
       "206. 'numericDeriv'\n",
       "207. 'offset'\n",
       "208. 'oneway.test'\n",
       "209. 'optim'\n",
       "210. 'optimHess'\n",
       "211. 'optimise'\n",
       "212. 'optimize'\n",
       "213. 'order.dendrogram'\n",
       "214. 'p.adjust'\n",
       "215. 'p.adjust.methods'\n",
       "216. 'pacf'\n",
       "217. 'pairwise.prop.test'\n",
       "218. 'pairwise.t.test'\n",
       "219. 'pairwise.table'\n",
       "220. 'pairwise.wilcox.test'\n",
       "221. 'pbeta'\n",
       "222. 'pbinom'\n",
       "223. 'pbirthday'\n",
       "224. 'pcauchy'\n",
       "225. 'pchisq'\n",
       "226. 'pexp'\n",
       "227. 'pf'\n",
       "228. 'pgamma'\n",
       "229. 'pgeom'\n",
       "230. 'phyper'\n",
       "231. 'plclust'\n",
       "232. 'plnorm'\n",
       "233. 'plogis'\n",
       "234. 'plot.ecdf'\n",
       "235. 'plot.spec.coherency'\n",
       "236. 'plot.spec.phase'\n",
       "237. 'plot.stepfun'\n",
       "238. 'plot.ts'\n",
       "239. 'pnbinom'\n",
       "240. 'pnorm'\n",
       "241. 'poisson'\n",
       "242. 'poisson.test'\n",
       "243. 'poly'\n",
       "244. 'polym'\n",
       "245. 'power'\n",
       "246. 'power.anova.test'\n",
       "247. 'power.prop.test'\n",
       "248. 'power.t.test'\n",
       "249. 'ppoints'\n",
       "250. 'ppois'\n",
       "251. 'ppr'\n",
       "252. 'prcomp'\n",
       "253. 'predict'\n",
       "254. 'predict.glm'\n",
       "255. 'predict.lm'\n",
       "256. 'preplot'\n",
       "257. 'princomp'\n",
       "258. 'printCoefmat'\n",
       "259. 'profile'\n",
       "260. 'proj'\n",
       "261. 'promax'\n",
       "262. 'prop.test'\n",
       "263. 'prop.trend.test'\n",
       "264. 'psignrank'\n",
       "265. 'psmirnov'\n",
       "266. 'pt'\n",
       "267. 'ptukey'\n",
       "268. 'punif'\n",
       "269. 'pweibull'\n",
       "270. 'pwilcox'\n",
       "271. 'qbeta'\n",
       "272. 'qbinom'\n",
       "273. 'qbirthday'\n",
       "274. 'qcauchy'\n",
       "275. 'qchisq'\n",
       "276. 'qexp'\n",
       "277. 'qf'\n",
       "278. 'qgamma'\n",
       "279. 'qgeom'\n",
       "280. 'qhyper'\n",
       "281. 'qlnorm'\n",
       "282. 'qlogis'\n",
       "283. 'qnbinom'\n",
       "284. 'qnorm'\n",
       "285. 'qpois'\n",
       "286. 'qqline'\n",
       "287. 'qqnorm'\n",
       "288. 'qqplot'\n",
       "289. 'qsignrank'\n",
       "290. 'qsmirnov'\n",
       "291. 'qt'\n",
       "292. 'qtukey'\n",
       "293. 'quade.test'\n",
       "294. 'quantile'\n",
       "295. 'quasi'\n",
       "296. 'quasibinomial'\n",
       "297. 'quasipoisson'\n",
       "298. 'qunif'\n",
       "299. 'qweibull'\n",
       "300. 'qwilcox'\n",
       "301. 'r2dtable'\n",
       "302. 'rWishart'\n",
       "303. 'rbeta'\n",
       "304. 'rbinom'\n",
       "305. 'rcauchy'\n",
       "306. 'rchisq'\n",
       "307. 'read.ftable'\n",
       "308. 'rect.hclust'\n",
       "309. 'reformulate'\n",
       "310. 'relevel'\n",
       "311. 'reorder'\n",
       "312. 'replications'\n",
       "313. 'reshape'\n",
       "314. 'resid'\n",
       "315. 'residuals'\n",
       "316. 'residuals.glm'\n",
       "317. 'residuals.lm'\n",
       "318. 'rexp'\n",
       "319. 'rf'\n",
       "320. 'rgamma'\n",
       "321. 'rgeom'\n",
       "322. 'rhyper'\n",
       "323. 'rlnorm'\n",
       "324. 'rlogis'\n",
       "325. 'rmultinom'\n",
       "326. 'rnbinom'\n",
       "327. 'rnorm'\n",
       "328. 'rpois'\n",
       "329. 'rsignrank'\n",
       "330. 'rsmirnov'\n",
       "331. 'rstandard'\n",
       "332. 'rstudent'\n",
       "333. 'rt'\n",
       "334. 'runif'\n",
       "335. 'runmed'\n",
       "336. 'rweibull'\n",
       "337. 'rwilcox'\n",
       "338. 'scatter.smooth'\n",
       "339. 'screeplot'\n",
       "340. 'sd'\n",
       "341. 'se.contrast'\n",
       "342. 'selfStart'\n",
       "343. 'setNames'\n",
       "344. 'shapiro.test'\n",
       "345. 'sigma'\n",
       "346. 'simulate'\n",
       "347. 'smooth'\n",
       "348. 'smooth.spline'\n",
       "349. 'smoothEnds'\n",
       "350. 'sortedXyData'\n",
       "351. 'spec.ar'\n",
       "352. 'spec.pgram'\n",
       "353. 'spec.taper'\n",
       "354. 'spectrum'\n",
       "355. 'spline'\n",
       "356. 'splinefun'\n",
       "357. 'splinefunH'\n",
       "358. 'start'\n",
       "359. 'stat.anova'\n",
       "360. 'step'\n",
       "361. 'stepfun'\n",
       "362. 'stl'\n",
       "363. 'summary.aov'\n",
       "364. 'summary.glm'\n",
       "365. 'summary.lm'\n",
       "366. 'summary.manova'\n",
       "367. 'summary.stepfun'\n",
       "368. 'supsmu'\n",
       "369. 'symnum'\n",
       "370. 't.test'\n",
       "371. 'termplot'\n",
       "372. 'terms'\n",
       "373. 'terms.formula'\n",
       "374. 'time'\n",
       "375. 'toeplitz'\n",
       "376. 'toeplitz2'\n",
       "377. 'ts'\n",
       "378. 'ts.intersect'\n",
       "379. 'ts.plot'\n",
       "380. 'ts.union'\n",
       "381. 'tsSmooth'\n",
       "382. 'tsdiag'\n",
       "383. 'tsp'\n",
       "384. 'tsp&lt;-'\n",
       "385. 'uniroot'\n",
       "386. 'update'\n",
       "387. 'update.default'\n",
       "388. 'update.formula'\n",
       "389. 'var'\n",
       "390. 'var.test'\n",
       "391. 'variable.names'\n",
       "392. 'varimax'\n",
       "393. 'vcov'\n",
       "394. 'weighted.mean'\n",
       "395. 'weighted.residuals'\n",
       "396. 'weights'\n",
       "397. 'wilcox.test'\n",
       "398. 'window'\n",
       "399. 'window&lt;-'\n",
       "400. 'write.ftable'\n",
       "401. 'xtabs'\n",
       "\n",
       "\n"
      ],
      "text/plain": [
       "  [1] \"AIC\"                  \"ARMAacf\"              \"ARMAtoMA\"            \n",
       "  [4] \"BIC\"                  \"Box.test\"             \"C\"                   \n",
       "  [7] \"D\"                    \"DF2formula\"           \"Gamma\"               \n",
       " [10] \"HoltWinters\"          \"IQR\"                  \"KalmanForecast\"      \n",
       " [13] \"KalmanLike\"           \"KalmanRun\"            \"KalmanSmooth\"        \n",
       " [16] \"NLSstAsymptotic\"      \"NLSstClosestX\"        \"NLSstLfAsymptote\"    \n",
       " [19] \"NLSstRtAsymptote\"     \"PP.test\"              \"Pair\"                \n",
       " [22] \"SSD\"                  \"SSasymp\"              \"SSasympOff\"          \n",
       " [25] \"SSasympOrig\"          \"SSbiexp\"              \"SSfol\"               \n",
       " [28] \"SSfpl\"                \"SSgompertz\"           \"SSlogis\"             \n",
       " [31] \"SSmicmen\"             \"SSweibull\"            \"StructTS\"            \n",
       " [34] \"TukeyHSD\"             \"acf\"                  \"acf2AR\"              \n",
       " [37] \"add.scope\"            \"add1\"                 \"addmargins\"          \n",
       " [40] \"aggregate\"            \"aggregate.data.frame\" \"aggregate.ts\"        \n",
       " [43] \"alias\"                \"anova\"                \"ansari.test\"         \n",
       " [46] \"aov\"                  \"approx\"               \"approxfun\"           \n",
       " [49] \"ar\"                   \"ar.burg\"              \"ar.mle\"              \n",
       " [52] \"ar.ols\"               \"ar.yw\"                \"arima\"               \n",
       " [55] \"arima.sim\"            \"arima0\"               \"arima0.diag\"         \n",
       " [58] \"as.dendrogram\"        \"as.dist\"              \"as.formula\"          \n",
       " [61] \"as.hclust\"            \"as.stepfun\"           \"as.ts\"               \n",
       " [64] \"asOneSidedFormula\"    \"ave\"                  \"bandwidth.kernel\"    \n",
       " [67] \"bartlett.test\"        \"binom.test\"           \"binomial\"            \n",
       " [70] \"biplot\"               \"bw.SJ\"                \"bw.bcv\"              \n",
       " [73] \"bw.nrd\"               \"bw.nrd0\"              \"bw.ucv\"              \n",
       " [76] \"cancor\"               \"case.names\"           \"ccf\"                 \n",
       " [79] \"chisq.test\"           \"cmdscale\"             \"coef\"                \n",
       " [82] \"coefficients\"         \"complete.cases\"       \"confint\"             \n",
       " [85] \"confint.default\"      \"confint.lm\"           \"constrOptim\"         \n",
       " [88] \"contr.SAS\"            \"contr.helmert\"        \"contr.poly\"          \n",
       " [91] \"contr.sum\"            \"contr.treatment\"      \"contrasts\"           \n",
       " [94] \"contrasts<-\"          \"convolve\"             \"cooks.distance\"      \n",
       " [97] \"cophenetic\"           \"cor\"                  \"cor.test\"            \n",
       "[100] \"cov\"                  \"cov.wt\"               \"cov2cor\"             \n",
       "[103] \"covratio\"             \"cpgram\"               \"cutree\"              \n",
       "[106] \"cycle\"                \"dbeta\"                \"dbinom\"              \n",
       "[109] \"dcauchy\"              \"dchisq\"               \"decompose\"           \n",
       "[112] \"delete.response\"      \"deltat\"               \"dendrapply\"          \n",
       "[115] \"density\"              \"density.default\"      \"deriv\"               \n",
       "[118] \"deriv3\"               \"deviance\"             \"dexp\"                \n",
       "[121] \"df\"                   \"df.kernel\"            \"df.residual\"         \n",
       "[124] \"dfbeta\"               \"dfbetas\"              \"dffits\"              \n",
       "[127] \"dgamma\"               \"dgeom\"                \"dhyper\"              \n",
       "[130] \"diffinv\"              \"dist\"                 \"dlnorm\"              \n",
       "[133] \"dlogis\"               \"dmultinom\"            \"dnbinom\"             \n",
       "[136] \"dnorm\"                \"dpois\"                \"drop.scope\"          \n",
       "[139] \"drop.terms\"           \"drop1\"                \"dsignrank\"           \n",
       "[142] \"dt\"                   \"dummy.coef\"           \"dummy.coef.lm\"       \n",
       "[145] \"dunif\"                \"dweibull\"             \"dwilcox\"             \n",
       "[148] \"ecdf\"                 \"eff.aovlist\"          \"effects\"             \n",
       "[151] \"embed\"                \"end\"                  \"estVar\"              \n",
       "[154] \"expand.model.frame\"   \"extractAIC\"           \"factanal\"            \n",
       "[157] \"factor.scope\"         \"family\"               \"fft\"                 \n",
       "[160] \"filter\"               \"fisher.test\"          \"fitted\"              \n",
       "[163] \"fitted.values\"        \"fivenum\"              \"fligner.test\"        \n",
       "[166] \"formula\"              \"frequency\"            \"friedman.test\"       \n",
       "[169] \"ftable\"               \"gaussian\"             \"getCall\"             \n",
       "[172] \"getInitial\"           \"get_all_vars\"         \"glm\"                 \n",
       "[175] \"glm.control\"          \"glm.fit\"              \"hasTsp\"              \n",
       "[178] \"hat\"                  \"hatvalues\"            \"hclust\"              \n",
       "[181] \"heatmap\"              \"influence\"            \"influence.measures\"  \n",
       "[184] \"integrate\"            \"interaction.plot\"     \"inverse.gaussian\"    \n",
       "[187] \"is.empty.model\"       \"is.leaf\"              \"is.mts\"              \n",
       "[190] \"is.stepfun\"           \"is.ts\"                \"is.tskernel\"         \n",
       "[193] \"isoreg\"               \"kernapply\"            \"kernel\"              \n",
       "[196] \"kmeans\"               \"knots\"                \"kruskal.test\"        \n",
       "[199] \"ks.test\"              \"ksmooth\"              \"lag\"                 \n",
       "[202] \"lag.plot\"             \"line\"                 \"lm\"                  \n",
       "[205] \"lm.fit\"               \"lm.influence\"         \"lm.wfit\"             \n",
       "[208] \"loadings\"             \"loess\"                \"loess.control\"       \n",
       "[211] \"loess.smooth\"         \"logLik\"               \"loglin\"              \n",
       "[214] \"lowess\"               \"ls.diag\"              \"ls.print\"            \n",
       "[217] \"lsfit\"                \"mad\"                  \"mahalanobis\"         \n",
       "[220] \"make.link\"            \"makeARIMA\"            \"makepredictcall\"     \n",
       "[223] \"manova\"               \"mantelhaen.test\"      \"mauchly.test\"        \n",
       "[226] \"mcnemar.test\"         \"median\"               \"median.default\"      \n",
       "[229] \"medpolish\"            \"model.extract\"        \"model.frame\"         \n",
       "[232] \"model.frame.default\"  \"model.matrix\"         \"model.matrix.default\"\n",
       "[235] \"model.matrix.lm\"      \"model.offset\"         \"model.response\"      \n",
       "[238] \"model.tables\"         \"model.weights\"        \"monthplot\"           \n",
       "[241] \"mood.test\"            \"mvfft\"                \"na.action\"           \n",
       "[244] \"na.contiguous\"        \"na.exclude\"           \"na.fail\"             \n",
       "[247] \"na.omit\"              \"na.pass\"              \"napredict\"           \n",
       "[250] \"naprint\"              \"naresid\"              \"nextn\"               \n",
       "[253] \"nlm\"                  \"nlminb\"               \"nls\"                 \n",
       "[256] \"nls.control\"          \"nobs\"                 \"numericDeriv\"        \n",
       "[259] \"offset\"               \"oneway.test\"          \"optim\"               \n",
       "[262] \"optimHess\"            \"optimise\"             \"optimize\"            \n",
       "[265] \"order.dendrogram\"     \"p.adjust\"             \"p.adjust.methods\"    \n",
       "[268] \"pacf\"                 \"pairwise.prop.test\"   \"pairwise.t.test\"     \n",
       "[271] \"pairwise.table\"       \"pairwise.wilcox.test\" \"pbeta\"               \n",
       "[274] \"pbinom\"               \"pbirthday\"            \"pcauchy\"             \n",
       "[277] \"pchisq\"               \"pexp\"                 \"pf\"                  \n",
       "[280] \"pgamma\"               \"pgeom\"                \"phyper\"              \n",
       "[283] \"plclust\"              \"plnorm\"               \"plogis\"              \n",
       "[286] \"plot.ecdf\"            \"plot.spec.coherency\"  \"plot.spec.phase\"     \n",
       "[289] \"plot.stepfun\"         \"plot.ts\"              \"pnbinom\"             \n",
       "[292] \"pnorm\"                \"poisson\"              \"poisson.test\"        \n",
       "[295] \"poly\"                 \"polym\"                \"power\"               \n",
       "[298] \"power.anova.test\"     \"power.prop.test\"      \"power.t.test\"        \n",
       "[301] \"ppoints\"              \"ppois\"                \"ppr\"                 \n",
       "[304] \"prcomp\"               \"predict\"              \"predict.glm\"         \n",
       "[307] \"predict.lm\"           \"preplot\"              \"princomp\"            \n",
       "[310] \"printCoefmat\"         \"profile\"              \"proj\"                \n",
       "[313] \"promax\"               \"prop.test\"            \"prop.trend.test\"     \n",
       "[316] \"psignrank\"            \"psmirnov\"             \"pt\"                  \n",
       "[319] \"ptukey\"               \"punif\"                \"pweibull\"            \n",
       "[322] \"pwilcox\"              \"qbeta\"                \"qbinom\"              \n",
       "[325] \"qbirthday\"            \"qcauchy\"              \"qchisq\"              \n",
       "[328] \"qexp\"                 \"qf\"                   \"qgamma\"              \n",
       "[331] \"qgeom\"                \"qhyper\"               \"qlnorm\"              \n",
       "[334] \"qlogis\"               \"qnbinom\"              \"qnorm\"               \n",
       "[337] \"qpois\"                \"qqline\"               \"qqnorm\"              \n",
       "[340] \"qqplot\"               \"qsignrank\"            \"qsmirnov\"            \n",
       "[343] \"qt\"                   \"qtukey\"               \"quade.test\"          \n",
       "[346] \"quantile\"             \"quasi\"                \"quasibinomial\"       \n",
       "[349] \"quasipoisson\"         \"qunif\"                \"qweibull\"            \n",
       "[352] \"qwilcox\"              \"r2dtable\"             \"rWishart\"            \n",
       "[355] \"rbeta\"                \"rbinom\"               \"rcauchy\"             \n",
       "[358] \"rchisq\"               \"read.ftable\"          \"rect.hclust\"         \n",
       "[361] \"reformulate\"          \"relevel\"              \"reorder\"             \n",
       "[364] \"replications\"         \"reshape\"              \"resid\"               \n",
       "[367] \"residuals\"            \"residuals.glm\"        \"residuals.lm\"        \n",
       "[370] \"rexp\"                 \"rf\"                   \"rgamma\"              \n",
       "[373] \"rgeom\"                \"rhyper\"               \"rlnorm\"              \n",
       "[376] \"rlogis\"               \"rmultinom\"            \"rnbinom\"             \n",
       "[379] \"rnorm\"                \"rpois\"                \"rsignrank\"           \n",
       "[382] \"rsmirnov\"             \"rstandard\"            \"rstudent\"            \n",
       "[385] \"rt\"                   \"runif\"                \"runmed\"              \n",
       "[388] \"rweibull\"             \"rwilcox\"              \"scatter.smooth\"      \n",
       "[391] \"screeplot\"            \"sd\"                   \"se.contrast\"         \n",
       "[394] \"selfStart\"            \"setNames\"             \"shapiro.test\"        \n",
       "[397] \"sigma\"                \"simulate\"             \"smooth\"              \n",
       "[400] \"smooth.spline\"        \"smoothEnds\"           \"sortedXyData\"        \n",
       "[403] \"spec.ar\"              \"spec.pgram\"           \"spec.taper\"          \n",
       "[406] \"spectrum\"             \"spline\"               \"splinefun\"           \n",
       "[409] \"splinefunH\"           \"start\"                \"stat.anova\"          \n",
       "[412] \"step\"                 \"stepfun\"              \"stl\"                 \n",
       "[415] \"summary.aov\"          \"summary.glm\"          \"summary.lm\"          \n",
       "[418] \"summary.manova\"       \"summary.stepfun\"      \"supsmu\"              \n",
       "[421] \"symnum\"               \"t.test\"               \"termplot\"            \n",
       "[424] \"terms\"                \"terms.formula\"        \"time\"                \n",
       "[427] \"toeplitz\"             \"toeplitz2\"            \"ts\"                  \n",
       "[430] \"ts.intersect\"         \"ts.plot\"              \"ts.union\"            \n",
       "[433] \"tsSmooth\"             \"tsdiag\"               \"tsp\"                 \n",
       "[436] \"tsp<-\"                \"uniroot\"              \"update\"              \n",
       "[439] \"update.default\"       \"update.formula\"       \"var\"                 \n",
       "[442] \"var.test\"             \"variable.names\"       \"varimax\"             \n",
       "[445] \"vcov\"                 \"weighted.mean\"        \"weighted.residuals\"  \n",
       "[448] \"weights\"              \"wilcox.test\"          \"window\"              \n",
       "[451] \"window<-\"             \"write.ftable\"         \"xtabs\"               "
      ]
     },
     "metadata": {},
     "output_type": "display_data"
    }
   ],
   "source": [
    "ls(name = \"package:stats\")  # Lists objects in the 'stats' package environment\n"
   ]
  },
  {
   "cell_type": "markdown",
   "metadata": {
    "vscode": {
     "languageId": "r"
    }
   },
   "source": [
    "By using `ls()`, you can efficiently manage and keep track of your workspace, ensuring that you know what objects are available and can avoid potential naming conflicts or clutter."
   ]
  },
  {
   "cell_type": "markdown",
   "metadata": {},
   "source": [
    "#####  Environments in R: An Overview\n",
    "---"
   ]
  },
  {
   "cell_type": "markdown",
   "metadata": {},
   "source": [
    "\n",
    "In R, an environment is a data structure that holds a collection of paired values (objects) and their corresponding names (symbols). Environments play a crucial role in memory management and scoping rules, helping R efficiently manage the visibility and lifetime of variables and functions.\n",
    "\n",
    "**Key Characteristics of Environments in R**\n",
    "1. Data Structure: Environments store objects (variables, functions) and their names (symbols).\n",
    "\n",
    "1. Hierarchical Structure: Environments form a tree-like hierarchy.\n",
    "\n",
    "1. Parent-Child Relationship: Each environment has a parent environment, creating a chain.\n",
    "\n",
    "1. Visibility and Lifetime Management: Environments control which objects are accessible and for how long.\n",
    "\n",
    "1. Scoping Rules: Environments are fundamental in implementing R's scoping rules.\n",
    "\n",
    "\n",
    "Types of Environments in R\n",
    "\n",
    "1. Global Environment\n",
    "\n",
    "* Description: The global environment is the top-level environment in R. It is the default workspace where objects are created and stored.\n",
    "* Access: `globalenv()`  or `.GlobalEnv` or `R_GlobalEnv`\n",
    "\n"
   ]
  },
  {
   "cell_type": "code",
   "execution_count": 17,
   "metadata": {
    "vscode": {
     "languageId": "r"
    }
   },
   "outputs": [
    {
     "name": "stdout",
     "output_type": "stream",
     "text": [
      "[1] \"a\"            \"b\"            \"c\"            \"check\"        \"multi_return\"\n",
      "[6] \"x\"            \"x1\"           \"x2\"           \"y1\"          \n"
     ]
    }
   ],
   "source": [
    "x <- 42\n",
    "print(ls(globalenv()))  # Lists all objects in the global environment"
   ]
  },
  {
   "cell_type": "markdown",
   "metadata": {},
   "source": [
    "2. Function Environments\n",
    "\n",
    "* Description: Each function has its own environment, storing local variables and arguments. A new function environment is created each time a function is called.\n",
    "* Access: `environment()` or `environmentName`\n"
   ]
  },
  {
   "cell_type": "code",
   "execution_count": 18,
   "metadata": {
    "vscode": {
     "languageId": "r"
    }
   },
   "outputs": [
    {
     "name": "stdout",
     "output_type": "stream",
     "text": [
      "<environment: 0x10b10c8c0>\n"
     ]
    }
   ],
   "source": [
    "my_function <- function() {\n",
    "  y <- 10\n",
    "  print(environment())\n",
    "}\n",
    "my_function()\n"
   ]
  },
  {
   "cell_type": "markdown",
   "metadata": {},
   "source": [
    "3. Lexical Environments \n",
    "\n",
    "* Description: Lexical environments are used to implement R's scoping rules. They store the parent-child relationships between environments.\n",
    "* Access: `parent.env()` or `parentEnvironment`"
   ]
  },
  {
   "cell_type": "code",
   "execution_count": 19,
   "metadata": {
    "vscode": {
     "languageId": "r"
    }
   },
   "outputs": [
    {
     "name": "stdout",
     "output_type": "stream",
     "text": [
      "[1] 10\n",
      "[1] 100\n"
     ]
    }
   ],
   "source": [
    "z <- 100\n",
    "outer_function <- function() {\n",
    "  y <- 10\n",
    "  inner_function <- function() {\n",
    "    print(y)  # Found in outer_function environment\n",
    "    print(z)  # Found in global environment\n",
    "  }\n",
    "  inner_function()\n",
    "}\n",
    "outer_function()\n"
   ]
  },
  {
   "cell_type": "markdown",
   "metadata": {},
   "source": [
    "4. Base Environment\n",
    "\n",
    "* Description: The base environment contains the built-in functions and variables provided by R. It is a special environment that is always available.\n",
    "* Access: `baseenv()` or `.BaseEnv` or `R_BaseEnv`"
   ]
  },
  {
   "cell_type": "code",
   "execution_count": 26,
   "metadata": {
    "vscode": {
     "languageId": "r"
    }
   },
   "outputs": [
    {
     "name": "stdout",
     "output_type": "stream",
     "text": [
      "[1] FALSE\n"
     ]
    }
   ],
   "source": [
    "print(identical(parent.env(globalenv()), baseenv()))"
   ]
  },
  {
   "cell_type": "markdown",
   "metadata": {},
   "source": [
    "5. Empty Environment\n",
    "\n",
    "* Description: The empty environment is a special environment with no objects. It is used as a placeholder or starting point for new environments.\n",
    "* Access: `new.env()` or `emptyenv()`"
   ]
  },
  {
   "cell_type": "code",
   "execution_count": 27,
   "metadata": {
    "vscode": {
     "languageId": "r"
    }
   },
   "outputs": [
    {
     "name": "stdout",
     "output_type": "stream",
     "text": [
      "[1] TRUE\n"
     ]
    }
   ],
   "source": [
    "print(identical(parent.env(baseenv()), emptyenv()))\n",
    " # TRUE\n"
   ]
  },
  {
   "cell_type": "markdown",
   "metadata": {},
   "source": [
    "6. Package Environments\n",
    "\n",
    "* Description: Package environments store the functions and objects defined within a package. Each package has its own environment to manage its contents.\n",
    "* Access: `asNamespace()` or `package:packageName`"
   ]
  },
  {
   "cell_type": "code",
   "execution_count": 28,
   "metadata": {
    "vscode": {
     "languageId": "r"
    }
   },
   "outputs": [
    {
     "name": "stdout",
     "output_type": "stream",
     "text": [
      "   [1] \"%||%\"                          \"AIC\"                          \n",
      "   [3] \"AIC.default\"                   \"AIC.logLik\"                   \n",
      "   [5] \"ARMAacf\"                       \"ARMAtoMA\"                     \n",
      "   [7] \"BIC\"                           \"BIC.default\"                  \n",
      "   [9] \"BIC.logLik\"                    \"Box.test\"                     \n",
      "  [11] \"C\"                             \"C_ARIMA_CSS\"                  \n",
      "  [13] \"C_ARIMA_Gradtrans\"             \"C_ARIMA_Invtrans\"             \n",
      "  [15] \"C_ARIMA_Like\"                  \"C_ARIMA_transPars\"            \n",
      "  [17] \"C_ARIMA_undoPars\"              \"C_ARMAtoMA\"                   \n",
      "  [19] \"C_Approx\"                      \"C_ApproxTest\"                 \n",
      "  [21] \"C_BinDist\"                     \"C_Burg\"                       \n",
      "  [23] \"C_Cdist\"                       \"C_Cdqrls\"                     \n",
      "  [25] \"C_Dotrans\"                     \"C_DoubleCentre\"               \n",
      "  [27] \"C_Fexact\"                      \"C_Fisher_sim\"                 \n",
      "  [29] \"C_Gradtrans\"                   \"C_HoltWinters\"                \n",
      "  [31] \"C_Invtrans\"                    \"C_KalmanFore\"                 \n",
      "  [33] \"C_KalmanLike\"                  \"C_KalmanSmooth\"               \n",
      "  [35] \"C_LogLin\"                      \"C_Rsm\"                        \n",
      "  [37] \"C_SWilk\"                       \"C_Smirnov_sim\"                \n",
      "  [39] \"C_SplineCoef\"                  \"C_SplineEval\"                 \n",
      "  [41] \"C_Starma_method\"               \"C_TSconv\"                     \n",
      "  [43] \"C_acf\"                         \"C_ar2ma\"                      \n",
      "  [45] \"C_arma0_kfore\"                 \"C_arma0fa\"                    \n",
      "  [47] \"C_binomial_dev_resids\"         \"C_bvalus\"                     \n",
      "  [49] \"C_bw_bcv\"                      \"C_bw_den\"                     \n",
      "  [51] \"C_bw_den_binned\"               \"C_bw_phi4\"                    \n",
      "  [53] \"C_bw_phi6\"                     \"C_bw_ucv\"                     \n",
      "  [55] \"C_call_dqagi\"                  \"C_call_dqags\"                 \n",
      "  [57] \"C_cfilter\"                     \"C_chisq_sim\"                  \n",
      "  [59] \"C_compcases\"                   \"C_cor\"                        \n",
      "  [61] \"C_cov\"                         \"C_cutree\"                     \n",
      "  [63] \"C_d2x2xk\"                      \"C_dbeta\"                      \n",
      "  [65] \"C_dbinom\"                      \"C_dcauchy\"                    \n",
      "  [67] \"C_dchisq\"                      \"C_deriv\"                      \n",
      "  [69] \"C_dexp\"                        \"C_df\"                         \n",
      "  [71] \"C_dgamma\"                      \"C_dgeom\"                      \n",
      "  [73] \"C_dhyper\"                      \"C_dlnorm\"                     \n",
      "  [75] \"C_dlogis\"                      \"C_dnbeta\"                     \n",
      "  [77] \"C_dnbinom\"                     \"C_dnbinom_mu\"                 \n",
      "  [79] \"C_dnchisq\"                     \"C_dnf\"                        \n",
      "  [81] \"C_dnorm\"                       \"C_dnt\"                        \n",
      "  [83] \"C_doD\"                         \"C_do_fmin\"                    \n",
      "  [85] \"C_dpois\"                       \"C_dsignrank\"                  \n",
      "  [87] \"C_dt\"                          \"C_dunif\"                      \n",
      "  [89] \"C_dweibull\"                    \"C_dwilcox\"                    \n",
      "  [91] \"C_eureka\"                      \"C_fft\"                        \n",
      "  [93] \"C_free_starma\"                 \"C_getQ0\"                      \n",
      "  [95] \"C_getQ0bis\"                    \"C_get_resid\"                  \n",
      "  [97] \"C_get_s2\"                      \"C_hcass2\"                     \n",
      "  [99] \"C_hclust\"                      \"C_influence\"                  \n",
      " [101] \"C_intgrt_vec\"                  \"C_isoreg\"                     \n",
      " [103] \"C_kmeans_Lloyd\"                \"C_kmeans_MacQueen\"            \n",
      " [105] \"C_kmns\"                        \"C_ksmooth\"                    \n",
      " [107] \"C_loess_dfit\"                  \"C_loess_dfitse\"               \n",
      " [109] \"C_loess_ifit\"                  \"C_loess_ise\"                  \n",
      " [111] \"C_loess_raw\"                   \"C_logit_link\"                 \n",
      " [113] \"C_logit_linkinv\"               \"C_logit_mu_eta\"               \n",
      " [115] \"C_lowesp\"                      \"C_lowess\"                     \n",
      " [117] \"C_lowesw\"                      \"C_modelframe\"                 \n",
      " [119] \"C_modelmatrix\"                 \"C_monoFC_m\"                   \n",
      " [121] \"C_multi_burg\"                  \"C_multi_yw\"                   \n",
      " [123] \"C_mvfft\"                       \"C_nextn\"                      \n",
      " [125] \"C_nlm\"                         \"C_nls_iter\"                   \n",
      " [127] \"C_numeric_deriv\"               \"C_optim\"                      \n",
      " [129] \"C_optimhess\"                   \"C_pAnsari\"                    \n",
      " [131] \"C_pKS2\"                        \"C_pKendall\"                   \n",
      " [133] \"C_pKolmogorov2x\"               \"C_pRho\"                       \n",
      " [135] \"C_pacf1\"                       \"C_pbeta\"                      \n",
      " [137] \"C_pbinom\"                      \"C_pcauchy\"                    \n",
      " [139] \"C_pchisq\"                      \"C_pexp\"                       \n",
      " [141] \"C_pf\"                          \"C_pgamma\"                     \n",
      " [143] \"C_pgeom\"                       \"C_phyper\"                     \n",
      " [145] \"C_plnorm\"                      \"C_plogis\"                     \n",
      " [147] \"C_pnbeta\"                      \"C_pnbinom\"                    \n",
      " [149] \"C_pnbinom_mu\"                  \"C_pnchisq\"                    \n",
      " [151] \"C_pnf\"                         \"C_pnorm\"                      \n",
      " [153] \"C_pnt\"                         \"C_port_ivset\"                 \n",
      " [155] \"C_port_nlminb\"                 \"C_port_nlsb\"                  \n",
      " [157] \"C_pp_sum\"                      \"C_ppois\"                      \n",
      " [159] \"C_pppred\"                      \"C_psignrank\"                  \n",
      " [161] \"C_psmirnov_exact\"              \"C_pt\"                         \n",
      " [163] \"C_ptukey\"                      \"C_punif\"                      \n",
      " [165] \"C_pweibull\"                    \"C_pwilcox\"                    \n",
      " [167] \"C_qAnsari\"                     \"C_qbeta\"                      \n",
      " [169] \"C_qbinom\"                      \"C_qcauchy\"                    \n",
      " [171] \"C_qchisq\"                      \"C_qexp\"                       \n",
      " [173] \"C_qf\"                          \"C_qgamma\"                     \n",
      " [175] \"C_qgeom\"                       \"C_qhyper\"                     \n",
      " [177] \"C_qlnorm\"                      \"C_qlogis\"                     \n",
      " [179] \"C_qnbeta\"                      \"C_qnbinom\"                    \n",
      " [181] \"C_qnbinom_mu\"                  \"C_qnchisq\"                    \n",
      " [183] \"C_qnf\"                         \"C_qnorm\"                      \n",
      " [185] \"C_qnt\"                         \"C_qpois\"                      \n",
      " [187] \"C_qsignrank\"                   \"C_qt\"                         \n",
      " [189] \"C_qtukey\"                      \"C_qunif\"                      \n",
      " [191] \"C_qweibull\"                    \"C_qwilcox\"                    \n",
      " [193] \"C_r2dtable\"                    \"C_rWishart\"                   \n",
      " [195] \"C_rbart\"                       \"C_rbeta\"                      \n",
      " [197] \"C_rbinom\"                      \"C_rcauchy\"                    \n",
      " [199] \"C_rchisq\"                      \"C_rcont2\"                     \n",
      " [201] \"C_rexp\"                        \"C_rf\"                         \n",
      " [203] \"C_rfilter\"                     \"C_rgamma\"                     \n",
      " [205] \"C_rgeom\"                       \"C_rhyper\"                     \n",
      " [207] \"C_rlnorm\"                      \"C_rlogis\"                     \n",
      " [209] \"C_rmultinom\"                   \"C_rnbinom\"                    \n",
      " [211] \"C_rnbinom_mu\"                  \"C_rnchisq\"                    \n",
      " [213] \"C_rnorm\"                       \"C_rpois\"                      \n",
      " [215] \"C_rsignrank\"                   \"C_rt\"                         \n",
      " [217] \"C_runif\"                       \"C_runmed\"                     \n",
      " [219] \"C_rweibull\"                    \"C_rwilcox\"                    \n",
      " [221] \"C_set_trans\"                   \"C_setppr\"                     \n",
      " [223] \"C_setsmu\"                      \"C_setup_starma\"               \n",
      " [225] \"C_signrank_free\"               \"C_smart\"                      \n",
      " [227] \"C_stl\"                         \"C_supsmu\"                     \n",
      " [229] \"C_termsform\"                   \"C_tukeyline\"                  \n",
      " [231] \"C_updateform\"                  \"C_wilcox_free\"                \n",
      " [233] \"C_zeroin2\"                     \"D\"                            \n",
      " [235] \"DF2formula\"                    \"Gamma\"                        \n",
      " [237] \"HL\"                            \"HoltWinters\"                  \n",
      " [239] \"IQR\"                           \"KalmanForecast\"               \n",
      " [241] \"KalmanLike\"                    \"KalmanRun\"                    \n",
      " [243] \"KalmanSmooth\"                  \"NLSstAsymptotic\"              \n",
      " [245] \"NLSstAsymptotic.sortedXyData\"  \"NLSstClosestX\"                \n",
      " [247] \"NLSstClosestX.sortedXyData\"    \"NLSstLfAsymptote\"             \n",
      " [249] \"NLSstLfAsymptote.sortedXyData\" \"NLSstRtAsymptote\"             \n",
      " [251] \"NLSstRtAsymptote.sortedXyData\" \"Ops.ts\"                       \n",
      " [253] \"PP.test\"                       \"Pair\"                         \n",
      " [255] \"Pillai\"                        \"Proj\"                         \n",
      " [257] \"Rank\"                          \"Roy\"                          \n",
      " [259] \"SSD\"                           \"SSD.mlm\"                      \n",
      " [261] \"SSasymp\"                       \"SSasympOff\"                   \n",
      " [263] \"SSasympOrig\"                   \"SSbiexp\"                      \n",
      " [265] \"SSfol\"                         \"SSfpl\"                        \n",
      " [267] \"SSgompertz\"                    \"SSlogis\"                      \n",
      " [269] \"SSmicmen\"                      \"SSweibull\"                    \n",
      " [271] \"StructTS\"                      \"Thin.col\"                     \n",
      " [273] \"Thin.row\"                      \"Tr\"                           \n",
      " [275] \"TukeyHSD\"                      \"TukeyHSD.aov\"                 \n",
      " [277] \"Wilks\"                         \"[.acf\"                        \n",
      " [279] \"[.formula\"                     \"[.terms\"                      \n",
      " [281] \"[.ts\"                          \"[.tskernel\"                   \n",
      " [283] \"[<-.ts\"                        \"[[.dendrogram\"                \n",
      " [285] \"acf\"                           \"acf2AR\"                       \n",
      " [287] \"add.scope\"                     \"add1\"                         \n",
      " [289] \"add1.default\"                  \"add1.glm\"                     \n",
      " [291] \"add1.lm\"                       \"add1.mlm\"                     \n",
      " [293] \"addmargins\"                    \"aggregate\"                    \n",
      " [295] \"aggregate.data.frame\"          \"aggregate.default\"            \n",
      " [297] \"aggregate.formula\"             \"aggregate.ts\"                 \n",
      " [299] \"alias\"                         \"alias.formula\"                \n",
      " [301] \"alias.lm\"                      \"anova\"                        \n",
      " [303] \"anova.glm\"                     \"anova.glmlist\"                \n",
      " [305] \"anova.lm\"                      \"anova.lmlist\"                 \n",
      " [307] \"anova.loess\"                   \"anova.mlm\"                    \n",
      " [309] \"anova.mlmlist\"                 \"anova.nls\"                    \n",
      " [311] \"anovalist.nls\"                 \"ansari.test\"                  \n",
      " [313] \"ansari.test.default\"           \"ansari.test.formula\"          \n",
      " [315] \"aov\"                           \"approx\"                       \n",
      " [317] \"approxfun\"                     \"ar\"                           \n",
      " [319] \"ar.burg\"                       \"ar.burg.default\"              \n",
      " [321] \"ar.burg.mts\"                   \"ar.mle\"                       \n",
      " [323] \"ar.ols\"                        \"ar.yw\"                        \n",
      " [325] \"ar.yw.default\"                 \"ar.yw.mts\"                    \n",
      " [327] \"arima\"                         \"arima.sim\"                    \n",
      " [329] \"arima0\"                        \"arima0.diag\"                  \n",
      " [331] \"as.data.frame.aovproj\"         \"as.data.frame.ftable\"         \n",
      " [333] \"as.data.frame.logLik\"          \"as.dendrogram\"                \n",
      " [335] \"as.dendrogram.dendrogram\"      \"as.dendrogram.hclust\"         \n",
      " [337] \"as.dist\"                       \"as.dist.default\"              \n",
      " [339] \"as.formula\"                    \"as.hclust\"                    \n",
      " [341] \"as.hclust.default\"             \"as.hclust.dendrogram\"         \n",
      " [343] \"as.hclust.twins\"               \"as.matrix.dist\"               \n",
      " [345] \"as.matrix.ftable\"              \"as.stepfun\"                   \n",
      " [347] \"as.stepfun.default\"            \"as.stepfun.isoreg\"            \n",
      " [349] \"as.table.ftable\"               \"as.ts\"                        \n",
      " [351] \"as.ts.default\"                 \"asOneSidedFormula\"            \n",
      " [353] \"assert_NULL_or_prob\"           \"ave\"                          \n",
      " [355] \"bandwidth.kernel\"              \"bartlett.test\"                \n",
      " [357] \"bartlett.test.default\"         \"bartlett.test.formula\"        \n",
      " [359] \"binom.test\"                    \"binomInitialize\"              \n",
      " [361] \"binomial\"                      \"biplot\"                       \n",
      " [363] \"biplot.default\"                \"biplot.prcomp\"                \n",
      " [365] \"biplot.princomp\"               \"bw.SJ\"                        \n",
      " [367] \"bw.bcv\"                        \"bw.nrd\"                       \n",
      " [369] \"bw.nrd0\"                       \"bw.ucv\"                       \n",
      " [371] \"bw_pair_cnts\"                  \"cancor\"                       \n",
      " [373] \"case.names\"                    \"case.names.default\"           \n",
      " [375] \"case.names.lm\"                 \"cbind.ts\"                     \n",
      " [377] \"ccf\"                           \"check_exact\"                  \n",
      " [379] \"chisq.test\"                    \"cmdscale\"                     \n",
      " [381] \"coef\"                          \"coef.Arima\"                   \n",
      " [383] \"coef.aov\"                      \"coef.default\"                 \n",
      " [385] \"coef.listof\"                   \"coef.maov\"                    \n",
      " [387] \"coef.nls\"                      \"coefficients\"                 \n",
      " [389] \"complete.cases\"                \"confint\"                      \n",
      " [391] \"confint.default\"               \"confint.glm\"                  \n",
      " [393] \"confint.lm\"                    \"confint.nls\"                  \n",
      " [395] \"constrOptim\"                   \"contr.SAS\"                    \n",
      " [397] \"contr.helmert\"                 \"contr.poly\"                   \n",
      " [399] \"contr.sum\"                     \"contr.treatment\"              \n",
      " [401] \"contrasts\"                     \"contrasts<-\"                  \n",
      " [403] \"convolve\"                      \"cooks.distance\"               \n",
      " [405] \"cooks.distance.glm\"            \"cooks.distance.lm\"            \n",
      " [407] \"cophenetic\"                    \"cophenetic.default\"           \n",
      " [409] \"cophenetic.dendrogram\"         \"cor\"                          \n",
      " [411] \"cor.test\"                      \"cor.test.default\"             \n",
      " [413] \"cor.test.formula\"              \"cov\"                          \n",
      " [415] \"cov.wt\"                        \"cov2cor\"                      \n",
      " [417] \"covratio\"                      \"cpgram\"                       \n",
      " [419] \"cut.dendrogram\"                \"cutree\"                       \n",
      " [421] \"cycle\"                         \"cycle.default\"                \n",
      " [423] \"cycle.ts\"                      \"dbeta\"                        \n",
      " [425] \"dbinom\"                        \"dcauchy\"                      \n",
      " [427] \"dchisq\"                        \"decompose\"                    \n",
      " [429] \"delete.response\"               \"deltat\"                       \n",
      " [431] \"deltat.default\"                \"dendrapply\"                   \n",
      " [433] \"density\"                       \"density.default\"              \n",
      " [435] \"deparse2\"                      \"deriv\"                        \n",
      " [437] \"deriv.default\"                 \"deriv.formula\"                \n",
      " [439] \"deriv3\"                        \"deriv3.default\"               \n",
      " [441] \"deriv3.formula\"                \"deviance\"                     \n",
      " [443] \"deviance.default\"              \"deviance.glm\"                 \n",
      " [445] \"deviance.lm\"                   \"deviance.mlm\"                 \n",
      " [447] \"deviance.nls\"                  \"dexp\"                         \n",
      " [449] \"df\"                            \"df.kernel\"                    \n",
      " [451] \"df.residual\"                   \"df.residual.default\"          \n",
      " [453] \"df.residual.nls\"               \"dfbeta\"                       \n",
      " [455] \"dfbeta.lm\"                     \"dfbetas\"                      \n",
      " [457] \"dfbetas.lm\"                    \"dffits\"                       \n",
      " [459] \"dgamma\"                        \"dgeom\"                        \n",
      " [461] \"dhyper\"                        \"diff.ts\"                      \n",
      " [463] \"diffinv\"                       \"diffinv.default\"              \n",
      " [465] \"diffinv.ts\"                    \"diffinv.vector\"               \n",
      " [467] \"dist\"                          \"dlnorm\"                       \n",
      " [469] \"dlogis\"                        \"dmultinom\"                    \n",
      " [471] \"dnbinom\"                       \"dnorm\"                        \n",
      " [473] \"dpois\"                         \"drop.scope\"                   \n",
      " [475] \"drop.terms\"                    \"drop1\"                        \n",
      " [477] \"drop1.default\"                 \"drop1.glm\"                    \n",
      " [479] \"drop1.lm\"                      \"drop1.mlm\"                    \n",
      " [481] \"dsignrank\"                     \"dt\"                           \n",
      " [483] \"dummy.coef\"                    \"dummy.coef.aovlist\"           \n",
      " [485] \"dummy.coef.lm\"                 \"dunif\"                        \n",
      " [487] \"dweibull\"                      \"dwilcox\"                      \n",
      " [489] \"ecdf\"                          \"eff.aovlist\"                  \n",
      " [491] \"effects\"                       \"effects.glm\"                  \n",
      " [493] \"effects.lm\"                    \"embed\"                        \n",
      " [495] \"end\"                           \"end.default\"                  \n",
      " [497] \"estVar\"                        \"estVar.SSD\"                   \n",
      " [499] \"estVar.mlm\"                    \"expand.model.frame\"           \n",
      " [501] \"extractAIC\"                    \"extractAIC.aov\"               \n",
      " [503] \"extractAIC.coxph\"              \"extractAIC.glm\"               \n",
      " [505] \"extractAIC.lm\"                 \"extractAIC.negbin\"            \n",
      " [507] \"extractAIC.survreg\"            \"factanal\"                     \n",
      " [509] \"factanal.fit.mle\"              \"factor.scope\"                 \n",
      " [511] \"family\"                        \"family.glm\"                   \n",
      " [513] \"family.lm\"                     \"fft\"                          \n",
      " [515] \"filter\"                        \"fisher.test\"                  \n",
      " [517] \"fitted\"                        \"fitted.default\"               \n",
      " [519] \"fitted.isoreg\"                 \"fitted.kmeans\"                \n",
      " [521] \"fitted.nls\"                    \"fitted.smooth.spline\"         \n",
      " [523] \"fitted.values\"                 \"fivenum\"                      \n",
      " [525] \"fligner.test\"                  \"fligner.test.default\"         \n",
      " [527] \"fligner.test.formula\"          \"format.dist\"                  \n",
      " [529] \"format.ftable\"                 \"format_perc\"                  \n",
      " [531] \"formula\"                       \"formula.character\"            \n",
      " [533] \"formula.data.frame\"            \"formula.default\"              \n",
      " [535] \"formula.formula\"               \"formula.glm\"                  \n",
      " [537] \"formula.lm\"                    \"formula.nls\"                  \n",
      " [539] \"formula.terms\"                 \"frequency\"                    \n",
      " [541] \"frequency.default\"             \"friedman.test\"                \n",
      " [543] \"friedman.test.default\"         \"friedman.test.formula\"        \n",
      " [545] \"ftable\"                        \"ftable.default\"               \n",
      " [547] \"ftable.formula\"                \"gaussian\"                     \n",
      " [549] \"getCall\"                       \"getCall.default\"              \n",
      " [551] \"getInitial\"                    \"getInitial.default\"           \n",
      " [553] \"getInitial.formula\"            \"getInitial.selfStart\"         \n",
      " [555] \"get_all_vars\"                  \"glm\"                          \n",
      " [557] \"glm.control\"                   \"glm.fit\"                      \n",
      " [559] \"hasTsp\"                        \"hat\"                          \n",
      " [561] \"hatvalues\"                     \"hatvalues.lm\"                 \n",
      " [563] \"hatvalues.smooth.spline\"       \"hclust\"                       \n",
      " [565] \"heatmap\"                       \"hyman_filter\"                 \n",
      " [567] \"identify.hclust\"               \"influence\"                    \n",
      " [569] \"influence.glm\"                 \"influence.lm\"                 \n",
      " [571] \"influence.measures\"            \"integrate\"                    \n",
      " [573] \"interaction.plot\"              \"inverse.gaussian\"             \n",
      " [575] \"is.empty.model\"                \"is.leaf\"                      \n",
      " [577] \"is.mts\"                        \"is.stepfun\"                   \n",
      " [579] \"is.ts\"                         \"is.tskernel\"                  \n",
      " [581] \"isoreg\"                        \"kernapply\"                    \n",
      " [583] \"kernapply.default\"             \"kernapply.ts\"                 \n",
      " [585] \"kernapply.tskernel\"            \"kernapply.vector\"             \n",
      " [587] \"kernel\"                        \"kmeans\"                       \n",
      " [589] \"knots\"                         \"knots.stepfun\"                \n",
      " [591] \"kruskal.test\"                  \"kruskal.test.default\"         \n",
      " [593] \"kruskal.test.formula\"          \"ks.test\"                      \n",
      " [595] \"ks.test.default\"               \"ks.test.formula\"              \n",
      " [597] \"ksmooth\"                       \"labels.dendrogram\"            \n",
      " [599] \"labels.dist\"                   \"labels.lm\"                    \n",
      " [601] \"labels.terms\"                  \"lag\"                          \n",
      " [603] \"lag.default\"                   \"lag.plot\"                     \n",
      " [605] \"line\"                          \"lines.isoreg\"                 \n",
      " [607] \"lines.stepfun\"                 \"lines.ts\"                     \n",
      " [609] \"lm\"                            \"lm.fit\"                       \n",
      " [611] \"lm.influence\"                  \"lm.wfit\"                      \n",
      " [613] \"loadings\"                      \"loess\"                        \n",
      " [615] \"loess.control\"                 \"loess.smooth\"                 \n",
      " [617] \"logLik\"                        \"logLik.Arima\"                 \n",
      " [619] \"logLik.glm\"                    \"logLik.lm\"                    \n",
      " [621] \"logLik.logLik\"                 \"logLik.nls\"                   \n",
      " [623] \"loglin\"                        \"lowess\"                       \n",
      " [625] \"ls.diag\"                       \"ls.print\"                     \n",
      " [627] \"lsfit\"                         \"mad\"                          \n",
      " [629] \"mahalanobis\"                   \"make.link\"                    \n",
      " [631] \"make.tables.aovproj\"           \"make.tables.aovprojlist\"      \n",
      " [633] \"makeARIMA\"                     \"makepredictcall\"              \n",
      " [635] \"makepredictcall.default\"       \"makepredictcall.poly\"         \n",
      " [637] \"manova\"                        \"mantelhaen.test\"              \n",
      " [639] \"mauchly.test\"                  \"mauchly.test.SSD\"             \n",
      " [641] \"mauchly.test.mlm\"              \"mcnemar.test\"                 \n",
      " [643] \"median\"                        \"median.default\"               \n",
      " [645] \"medpolish\"                     \"merge.dendrogram\"             \n",
      " [647] \"midcache.dendrogram\"           \"model.extract\"                \n",
      " [649] \"model.frame\"                   \"model.frame.aovlist\"          \n",
      " [651] \"model.frame.default\"           \"model.frame.glm\"              \n",
      " [653] \"model.frame.lm\"                \"model.matrix\"                 \n",
      " [655] \"model.matrix.default\"          \"model.matrix.lm\"              \n",
      " [657] \"model.offset\"                  \"model.response\"               \n",
      " [659] \"model.tables\"                  \"model.tables.aov\"             \n",
      " [661] \"model.tables.aovlist\"          \"model.weights\"                \n",
      " [663] \"monthplot\"                     \"monthplot.StructTS\"           \n",
      " [665] \"monthplot.default\"             \"monthplot.stl\"                \n",
      " [667] \"monthplot.ts\"                  \"mood.test\"                    \n",
      " [669] \"mood.test.default\"             \"mood.test.formula\"            \n",
      " [671] \"mvfft\"                         \"n.knots\"                      \n",
      " [673] \"na.action\"                     \"na.action.default\"            \n",
      " [675] \"na.contiguous\"                 \"na.contiguous.default\"        \n",
      " [677] \"na.exclude\"                    \"na.exclude.data.frame\"        \n",
      " [679] \"na.exclude.default\"            \"na.fail\"                      \n",
      " [681] \"na.fail.default\"               \"na.omit\"                      \n",
      " [683] \"na.omit.data.frame\"            \"na.omit.default\"              \n",
      " [685] \"na.omit.ts\"                    \"na.pass\"                      \n",
      " [687] \"napredict\"                     \"napredict.default\"            \n",
      " [689] \"napredict.exclude\"             \"naprint\"                      \n",
      " [691] \"naprint.default\"               \"naprint.exclude\"              \n",
      " [693] \"naprint.omit\"                  \"naresid\"                      \n",
      " [695] \"naresid.default\"               \"naresid.exclude\"              \n",
      " [697] \"nextn\"                         \"nleaves\"                      \n",
      " [699] \"nlm\"                           \"nlminb\"                       \n",
      " [701] \"nls\"                           \"nls.control\"                  \n",
      " [703] \"nlsModel\"                      \"nlsModel.plinear\"             \n",
      " [705] \"nls_port_fit\"                  \"nobs\"                         \n",
      " [707] \"nobs.default\"                  \"nobs.dendrogram\"              \n",
      " [709] \"nobs.glm\"                      \"nobs.lm\"                      \n",
      " [711] \"nobs.logLik\"                   \"nobs.nls\"                     \n",
      " [713] \"numericDeriv\"                  \"offset\"                       \n",
      " [715] \"oneway.test\"                   \"optim\"                        \n",
      " [717] \"optimHess\"                     \"optimise\"                     \n",
      " [719] \"optimize\"                      \"order.dendrogram\"             \n",
      " [721] \"p.adjust\"                      \"p.adjust.methods\"             \n",
      " [723] \"pacf\"                          \"pacf.default\"                 \n",
      " [725] \"pairwise.prop.test\"            \"pairwise.t.test\"              \n",
      " [727] \"pairwise.table\"                \"pairwise.wilcox.test\"         \n",
      " [729] \"pbeta\"                         \"pbinom\"                       \n",
      " [731] \"pbirthday\"                     \"pcauchy\"                      \n",
      " [733] \"pchisq\"                        \"pexp\"                         \n",
      " [735] \"pf\"                            \"pgamma\"                       \n",
      " [737] \"pgeom\"                         \"phyper\"                       \n",
      " [739] \"plclust\"                       \"plnorm\"                       \n",
      " [741] \"plogis\"                        \"plot.HoltWinters\"             \n",
      " [743] \"plot.TukeyHSD\"                 \"plot.acf\"                     \n",
      " [745] \"plot.decomposed.ts\"            \"plot.dendrogram\"              \n",
      " [747] \"plot.density\"                  \"plot.ecdf\"                    \n",
      " [749] \"plot.hclust\"                   \"plot.isoreg\"                  \n",
      " [751] \"plot.lm\"                       \"plot.medpolish\"               \n",
      " [753] \"plot.mlm\"                      \"plot.ppr\"                     \n",
      " [755] \"plot.prcomp\"                   \"plot.princomp\"                \n",
      " [757] \"plot.profile.nls\"              \"plot.spec\"                    \n",
      " [759] \"plot.spec.coherency\"           \"plot.spec.phase\"              \n",
      " [761] \"plot.stepfun\"                  \"plot.stl\"                     \n",
      " [763] \"plot.ts\"                       \"plot.tskernel\"                \n",
      " [765] \"plotNode\"                      \"plotNodeLimit\"                \n",
      " [767] \"pnbinom\"                       \"pnorm\"                        \n",
      " [769] \"pointwise\"                     \"poisson\"                      \n",
      " [771] \"poisson.test\"                  \"poly\"                         \n",
      " [773] \"polym\"                         \"port_cpos\"                    \n",
      " [775] \"port_get_named_v\"              \"port_msg\"                     \n",
      " [777] \"port_v_nms\"                    \"power\"                        \n",
      " [779] \"power.anova.test\"              \"power.prop.test\"              \n",
      " [781] \"power.t.test\"                  \"ppoints\"                      \n",
      " [783] \"ppois\"                         \"ppr\"                          \n",
      " [785] \"ppr.default\"                   \"ppr.formula\"                  \n",
      " [787] \"prcomp\"                        \"prcomp.default\"               \n",
      " [789] \"prcomp.formula\"                \"predLoess\"                    \n",
      " [791] \"predict\"                       \"predict.Arima\"                \n",
      " [793] \"predict.HoltWinters\"           \"predict.StructTS\"             \n",
      " [795] \"predict.ar\"                    \"predict.arima0\"               \n",
      " [797] \"predict.glm\"                   \"predict.lm\"                   \n",
      " [799] \"predict.loess\"                 \"predict.mlm\"                  \n",
      " [801] \"predict.nls\"                   \"predict.poly\"                 \n",
      " [803] \"predict.ppr\"                   \"predict.prcomp\"               \n",
      " [805] \"predict.princomp\"              \"predict.smooth.spline\"        \n",
      " [807] \"predict.smooth.spline.fit\"     \"preplot\"                      \n",
      " [809] \"princomp\"                      \"princomp.default\"             \n",
      " [811] \"princomp.formula\"              \"print.Arima\"                  \n",
      " [813] \"print.HoltWinters\"             \"print.StructTS\"               \n",
      " [815] \"print.TukeyHSD\"                \"print.acf\"                    \n",
      " [817] \"print.anova\"                   \"print.aov\"                    \n",
      " [819] \"print.aovlist\"                 \"print.ar\"                     \n",
      " [821] \"print.arima0\"                  \"print.dendrogram\"             \n",
      " [823] \"print.density\"                 \"print.dist\"                   \n",
      " [825] \"print.dummy_coef\"              \"print.dummy_coef_list\"        \n",
      " [827] \"print.ecdf\"                    \"print.factanal\"               \n",
      " [829] \"print.family\"                  \"print.formula\"                \n",
      " [831] \"print.ftable\"                  \"print.glm\"                    \n",
      " [833] \"print.hclust\"                  \"print.htest\"                  \n",
      " [835] \"print.infl\"                    \"print.integrate\"              \n",
      " [837] \"print.isoreg\"                  \"print.kmeans\"                 \n",
      " [839] \"print.lm\"                      \"print.loadings\"               \n",
      " [841] \"print.loess\"                   \"print.logLik\"                 \n",
      " [843] \"print.medpolish\"               \"print.mtable\"                 \n",
      " [845] \"print.nls\"                     \"print.pairwise.htest\"         \n",
      " [847] \"print.power.htest\"             \"print.ppr\"                    \n",
      " [849] \"print.prcomp\"                  \"print.princomp\"               \n",
      " [851] \"print.smooth.spline\"           \"print.stepfun\"                \n",
      " [853] \"print.stl\"                     \"print.summary.aov\"            \n",
      " [855] \"print.summary.aovlist\"         \"print.summary.ecdf\"           \n",
      " [857] \"print.summary.glm\"             \"print.summary.lm\"             \n",
      " [859] \"print.summary.loess\"           \"print.summary.manova\"         \n",
      " [861] \"print.summary.nls\"             \"print.summary.ppr\"            \n",
      " [863] \"print.summary.prcomp\"          \"print.summary.princomp\"       \n",
      " [865] \"print.tables_aov\"              \"print.terms\"                  \n",
      " [867] \"print.ts\"                      \"print.tskernel\"               \n",
      " [869] \"print.tukeyline\"               \"print.tukeysmooth\"            \n",
      " [871] \"print.xtabs\"                   \"printCoefmat\"                 \n",
      " [873] \"profile\"                       \"profile.nls\"                  \n",
      " [875] \"profiler\"                      \"profiler.nls\"                 \n",
      " [877] \"proj\"                          \"proj.aov\"                     \n",
      " [879] \"proj.aovlist\"                  \"proj.default\"                 \n",
      " [881] \"proj.lm\"                       \"promax\"                       \n",
      " [883] \"prop.test\"                     \"prop.trend.test\"              \n",
      " [885] \"psignrank\"                     \"psmirnov\"                     \n",
      " [887] \"psmirnov_asymp\"                \"psmirnov_exact\"               \n",
      " [889] \"psmirnov_simul\"                \"pt\"                           \n",
      " [891] \"ptukey\"                        \"punif\"                        \n",
      " [893] \"pweibull\"                      \"pwilcox\"                      \n",
      " [895] \"qbeta\"                         \"qbinom\"                       \n",
      " [897] \"qbirthday\"                     \"qcauchy\"                      \n",
      " [899] \"qchisq\"                        \"qexp\"                         \n",
      " [901] \"qf\"                            \"qgamma\"                       \n",
      " [903] \"qgeom\"                         \"qhyper\"                       \n",
      " [905] \"qlnorm\"                        \"qlogis\"                       \n",
      " [907] \"qnbinom\"                       \"qnorm\"                        \n",
      " [909] \"qpois\"                         \"qqline\"                       \n",
      " [911] \"qqnorm\"                        \"qqnorm.default\"               \n",
      " [913] \"qqplot\"                        \"qr.lm\"                        \n",
      " [915] \"qsignrank\"                     \"qsmirnov\"                     \n",
      " [917] \"qt\"                            \"qtukey\"                       \n",
      " [919] \"quade.test\"                    \"quade.test.default\"           \n",
      " [921] \"quade.test.formula\"            \"quantile\"                     \n",
      " [923] \"quantile.POSIXt\"               \"quantile.default\"             \n",
      " [925] \"quantile.ecdf\"                 \"quasi\"                        \n",
      " [927] \"quasibinomial\"                 \"quasipoisson\"                 \n",
      " [929] \"qunif\"                         \"qweibull\"                     \n",
      " [931] \"qwilcox\"                       \"r2dtable\"                     \n",
      " [933] \"rWishart\"                      \"rbeta\"                        \n",
      " [935] \"rbinom\"                        \"rcauchy\"                      \n",
      " [937] \"rchisq\"                        \"read.ftable\"                  \n",
      " [939] \"rect.hclust\"                   \"reformulate\"                  \n",
      " [941] \"regularize.values\"             \"relevel\"                      \n",
      " [943] \"relevel.default\"               \"relevel.factor\"               \n",
      " [945] \"relevel.ordered\"               \"reorder\"                      \n",
      " [947] \"reorder.default\"               \"reorder.dendrogram\"           \n",
      " [949] \"replications\"                  \"reshape\"                      \n",
      " [951] \"resid\"                         \"residuals\"                    \n",
      " [953] \"residuals.HoltWinters\"         \"residuals.default\"            \n",
      " [955] \"residuals.glm\"                 \"residuals.isoreg\"             \n",
      " [957] \"residuals.lm\"                  \"residuals.nls\"                \n",
      " [959] \"residuals.smooth.spline\"       \"residuals.tukeyline\"          \n",
      " [961] \"rev.dendrogram\"                \"rexp\"                         \n",
      " [963] \"rf\"                            \"rgamma\"                       \n",
      " [965] \"rgeom\"                         \"rhyper\"                       \n",
      " [967] \"rlnorm\"                        \"rlogis\"                       \n",
      " [969] \"rmultinom\"                     \"rnbinom\"                      \n",
      " [971] \"rnorm\"                         \"rpois\"                        \n",
      " [973] \"rsignrank\"                     \"rsmirnov\"                     \n",
      " [975] \"rstandard\"                     \"rstandard.glm\"                \n",
      " [977] \"rstandard.lm\"                  \"rstudent\"                     \n",
      " [979] \"rstudent.glm\"                  \"rstudent.lm\"                  \n",
      " [981] \"rt\"                            \"runif\"                        \n",
      " [983] \"runmed\"                        \"rweibull\"                     \n",
      " [985] \"rwilcox\"                       \"safe_pchisq\"                  \n",
      " [987] \"safe_pf\"                       \"scatter.smooth\"               \n",
      " [989] \"screeplot\"                     \"screeplot.default\"            \n",
      " [991] \"sd\"                            \"se.aov\"                       \n",
      " [993] \"se.aovlist\"                    \"se.contrast\"                  \n",
      " [995] \"se.contrast.aov\"               \"se.contrast.aovlist\"          \n",
      " [997] \"selfStart\"                     \"selfStart.default\"            \n",
      " [999] \"selfStart.formula\"             \"setNames\"                     \n",
      "[1001] \"shapiro.test\"                  \"sigma\"                        \n",
      "[1003] \"sigma.default\"                 \"sigma.glm\"                    \n",
      "[1005] \"sigma.mlm\"                     \"simpleLoess\"                  \n",
      "[1007] \"simulate\"                      \"simulate.lm\"                  \n",
      "[1009] \"smooth\"                        \"smooth.spline\"                \n",
      "[1011] \"smoothEnds\"                    \"sortedXyData\"                 \n",
      "[1013] \"sortedXyData.default\"          \"spec.ar\"                      \n",
      "[1015] \"spec.pgram\"                    \"spec.taper\"                   \n",
      "[1017] \"spectrum\"                      \"sphericity\"                   \n",
      "[1019] \"spl_coef_conv\"                 \"spline\"                       \n",
      "[1021] \"splinefun\"                     \"splinefunH\"                   \n",
      "[1023] \"splinefunH0\"                   \"start\"                        \n",
      "[1025] \"start.default\"                 \"stat.anova\"                   \n",
      "[1027] \"step\"                          \"stepfun\"                      \n",
      "[1029] \"stl\"                           \"str.dendrogram\"               \n",
      "[1031] \"str.logLik\"                    \"summary.aov\"                  \n",
      "[1033] \"summary.aovlist\"               \"summary.ecdf\"                 \n",
      "[1035] \"summary.glm\"                   \"summary.infl\"                 \n",
      "[1037] \"summary.lm\"                    \"summary.loess\"                \n",
      "[1039] \"summary.manova\"                \"summary.mlm\"                  \n",
      "[1041] \"summary.nls\"                   \"summary.ppr\"                  \n",
      "[1043] \"summary.prcomp\"                \"summary.princomp\"             \n",
      "[1045] \"summary.stepfun\"               \"summary.stl\"                  \n",
      "[1047] \"summary.tukeysmooth\"           \"supsmu\"                       \n",
      "[1049] \"symnum\"                        \"t.test\"                       \n",
      "[1051] \"t.test.default\"                \"t.test.formula\"               \n",
      "[1053] \"t.ts\"                          \"termplot\"                     \n",
      "[1055] \"terms\"                         \"terms.aovlist\"                \n",
      "[1057] \"terms.default\"                 \"terms.formula\"                \n",
      "[1059] \"terms.terms\"                   \"time\"                         \n",
      "[1061] \"time.default\"                  \"time.ts\"                      \n",
      "[1063] \"toeplitz\"                      \"toeplitz2\"                    \n",
      "[1065] \"ts\"                            \"ts.intersect\"                 \n",
      "[1067] \"ts.plot\"                       \"ts.union\"                     \n",
      "[1069] \"tsSmooth\"                      \"tsSmooth.StructTS\"            \n",
      "[1071] \"tsdiag\"                        \"tsdiag.Arima\"                 \n",
      "[1073] \"tsdiag.StructTS\"               \"tsdiag.arima0\"                \n",
      "[1075] \"tsp\"                           \"tsp<-\"                        \n",
      "[1077] \"uniroot\"                       \"update\"                       \n",
      "[1079] \"update.default\"                \"update.formula\"               \n",
      "[1081] \"update.packageStatus\"          \"var\"                          \n",
      "[1083] \"var.test\"                      \"var.test.default\"             \n",
      "[1085] \"var.test.formula\"              \"variable.names\"               \n",
      "[1087] \"variable.names.default\"        \"variable.names.lm\"            \n",
      "[1089] \"varimax\"                       \"vcov\"                         \n",
      "[1091] \"vcov.Arima\"                    \"vcov.aov\"                     \n",
      "[1093] \"vcov.glm\"                      \"vcov.lm\"                      \n",
      "[1095] \"vcov.mlm\"                      \"vcov.nls\"                     \n",
      "[1097] \"vcov.summary.glm\"              \"vcov.summary.lm\"              \n",
      "[1099] \"weighted.mean\"                 \"weighted.mean.Date\"           \n",
      "[1101] \"weighted.mean.POSIXct\"         \"weighted.mean.POSIXlt\"        \n",
      "[1103] \"weighted.mean.default\"         \"weighted.mean.difftime\"       \n",
      "[1105] \"weighted.residuals\"            \"weights\"                      \n",
      "[1107] \"weights.default\"               \"weights.glm\"                  \n",
      "[1109] \"weights.nls\"                   \"wilcox.test\"                  \n",
      "[1111] \"wilcox.test.default\"           \"wilcox.test.formula\"          \n",
      "[1113] \"window\"                        \"window.default\"               \n",
      "[1115] \"window.ts\"                     \"window<-\"                     \n",
      "[1117] \"window<-.ts\"                   \"write.ftable\"                 \n",
      "[1119] \"xtabs\"                        \n"
     ]
    }
   ],
   "source": [
    "print(ls(asNamespace(\"stats\")))  # Lists all objects in the 'stats' package environment\n"
   ]
  }
 ],
 "metadata": {
  "kernelspec": {
   "display_name": "R",
   "language": "R",
   "name": "ir"
  },
  "language_info": {
   "codemirror_mode": "r",
   "file_extension": ".r",
   "mimetype": "text/x-r-source",
   "name": "R",
   "pygments_lexer": "r",
   "version": "4.3.0"
  }
 },
 "nbformat": 4,
 "nbformat_minor": 2
}
